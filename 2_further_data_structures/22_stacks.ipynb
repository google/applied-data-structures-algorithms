{
  "cells": [
    {
      "cell_type": "markdown",
      "metadata": {
        "id": "Pic8r3n4AWWu"
      },
      "source": [
        "# Stacks"
      ]
    },
    {
      "cell_type": "markdown",
      "metadata": {
        "id": "40klIjfB3g0H"
      },
      "source": [
        "## Lesson Overview"
      ]
    },
    {
      "cell_type": "markdown",
      "metadata": {
        "id": "TzTGOPMYBp_u"
      },
      "source": [
        "\u003e A **stack** is a data structure which focuses on data retrieval according to what's called \"Last In, First Out\" (LIFO). "
      ]
    },
    {
      "cell_type": "markdown",
      "metadata": {
        "id": "3rqGmzKTegNA"
      },
      "source": [
        "The LIFO retrieval strategy works similarly to a stack of plates (hence, the name \"stack\" for the data structure), in which the last plate you put on top of a stack is the first plate you pull off the stack."
      ]
    },
    {
      "cell_type": "markdown",
      "metadata": {
        "id": "mw-tu5nmeinp"
      },
      "source": [
        "### List-backed stack implementation"
      ]
    },
    {
      "cell_type": "markdown",
      "metadata": {
        "id": "3bSZ2lXyBwcb"
      },
      "source": [
        "Typically, elements are added to a stack by some form of a `push()` method, and elements are removed from a stack by some form of a `pop()` method. "
      ]
    },
    {
      "cell_type": "markdown",
      "metadata": {
        "id": "mCkwUJt_epXn"
      },
      "source": [
        "Let's look at an example of a stack implemented in Python using a list."
      ]
    },
    {
      "cell_type": "code",
      "execution_count": null,
      "metadata": {
        "id": "P2eKU64xOqra"
      },
      "outputs": [],
      "source": [
        "number_list = [4, 17, 1, 4, 5, 5, 3, 6]\n",
        "example_stack = []\n",
        "for element in number_list:\n",
        "  # Appending to the end of the list is Python's way of pushing an element onto\n",
        "  # the stack. In this way, the end of the list represents the \"top\" of the \n",
        "  # stack.\n",
        "  example_stack.append(element)\n",
        "\n",
        "print(example_stack)"
      ]
    },
    {
      "cell_type": "markdown",
      "metadata": {
        "id": "1gNr6cRJOt2T"
      },
      "source": [
        "Since a stack returns elements following \"Last In, First Out\", you may already be able to predict the ordering of the elements if we remove all of them from the stack (using the stack's `pop()` function):"
      ]
    },
    {
      "cell_type": "code",
      "execution_count": null,
      "metadata": {
        "id": "t6aa7J_BO8bK"
      },
      "outputs": [],
      "source": [
        "print(example_stack)\n",
        "\n",
        "while len(example_stack) \u003e 0:\n",
        "  # To remove elements from a stack, call pop(). It takes no arguments and\n",
        "  # returns the element most recently added to the stack.\n",
        "  print(example_stack.pop())\n",
        "  # Note that whenever pop() is called, the stack loses one element.\n",
        "  print(example_stack)"
      ]
    },
    {
      "cell_type": "markdown",
      "metadata": {
        "id": "Gg89d1h4eu0K"
      },
      "source": [
        "### Python stack implementation"
      ]
    },
    {
      "cell_type": "markdown",
      "metadata": {
        "id": "g8Ee3xsaO-Mp"
      },
      "source": [
        "Placing elements in a stack and then removing them will generally reverse the order of the elements, which can be useful for a variety of tasks in computer science. For instance, in a word processor, the Undo function usually works via a stack of some kind. As you perform actions in a word processor, it adds them to a stack and then, when you call Undo, it pops that action off of the stack and reverts it. A stack can also be implemented as a Python class, backed by a list."
      ]
    },
    {
      "cell_type": "code",
      "execution_count": null,
      "metadata": {
        "id": "4Cj6F1UKPefd"
      },
      "outputs": [],
      "source": [
        "class Stack:\n",
        "  \n",
        "  def __init__(self):\n",
        "    self.item_list = []\n",
        "\n",
        "  def length(self):\n",
        "    return len(self.item_list)"
      ]
    },
    {
      "cell_type": "code",
      "execution_count": null,
      "metadata": {
        "id": "azkSwMVBPjz0"
      },
      "outputs": [],
      "source": [
        "example_stack = Stack()\n",
        "print(example_stack.length())"
      ]
    },
    {
      "cell_type": "markdown",
      "metadata": {
        "id": "h62zz2Zd9Se1"
      },
      "source": [
        "## Question 1"
      ]
    },
    {
      "cell_type": "markdown",
      "metadata": {
        "id": "AKTOck129UPz"
      },
      "source": [
        "Which *one* of the following best defines a stack?"
      ]
    },
    {
      "cell_type": "markdown",
      "metadata": {
        "id": "av_wV0a3DL3j"
      },
      "source": [
        "**a)** A data structure in which you can only remove the object that has been in the stack the longest\n",
        "\n",
        "**b)** A data structure in which you can only remove the object that has most recently been added\n",
        "\n",
        "**c)** A data structure in which you can only remove an object once it has been in the stack a certain amount of time\n",
        "\n",
        "**d)** A data structure in which you can never remove an object once it has been in the stack a certain amount of time"
      ]
    },
    {
      "cell_type": "markdown",
      "metadata": {
        "id": "7bTWP00oDMQC"
      },
      "source": [
        "### Solution"
      ]
    },
    {
      "cell_type": "markdown",
      "metadata": {
        "id": "uDitQjbbDM9h"
      },
      "source": [
        "The correct answer is **b)**.\n",
        "\n",
        "**a)** This would be a \"first in, first out\" retrieval, which is what a different data structure called a queue implements.\n",
        "\n",
        "**c)** The implementation of a stack never relies on the amount of time an object has been in the stack.\n",
        "\n",
        "**d)** The implementation of a stack never relies on the amount of time an object has been in the stack."
      ]
    },
    {
      "cell_type": "markdown",
      "metadata": {
        "id": "XcgucrJH_TAj"
      },
      "source": [
        "## Question 2"
      ]
    },
    {
      "cell_type": "markdown",
      "metadata": {
        "id": "KSadAzqn_UmD"
      },
      "source": [
        "Which *one* of the following best explains why a stack is called a stack?"
      ]
    },
    {
      "cell_type": "markdown",
      "metadata": {
        "id": "9eBLpmviDkm1"
      },
      "source": [
        "**a)** A stack is like a stack of paperwork. You can only add more paperwork, or throw the entire pile into the trash once the stack gets too high.\n",
        "\n",
        "**b)** A stack is like a haystack. It is very easy to add more hay to the stack, but very hard to find the needle in the haystack.\n",
        "\n",
        "**c)** A stack is like a stack of pancakes. You can only add one pancake to the top at a time, but you can eat all of the pancakes simultaneously.\n",
        "\n",
        "**d)** A stack is like a stack of plates. You can only add one plate to the top at a time, or remove the plate that you've just added."
      ]
    },
    {
      "cell_type": "markdown",
      "metadata": {
        "id": "Iz0hN0RCDlGU"
      },
      "source": [
        "### Solution"
      ]
    },
    {
      "cell_type": "markdown",
      "metadata": {
        "id": "NwNeJd1KDvZB"
      },
      "source": [
        "The correct answer is **d)**."
      ]
    },
    {
      "cell_type": "markdown",
      "metadata": {
        "id": "-0Npyxx6CTLm"
      },
      "source": [
        "## Question 3"
      ]
    },
    {
      "cell_type": "markdown",
      "metadata": {
        "id": "L18pTggbCVGN"
      },
      "source": [
        "In which of the following would a stack be an appropriate data structure to use? There may be more than one correct response."
      ]
    },
    {
      "cell_type": "markdown",
      "metadata": {
        "id": "QTmwCwSjEujd"
      },
      "source": [
        "**a)** The characters typed by a keyboard (along with the backspace key)\n",
        "\n",
        "**b)** The people in a queue at a bank\n",
        "\n",
        "**c)** The names of every student in a school\n",
        "\n",
        "**d)** The jewelry/watches/wristbands you wear on your wrist"
      ]
    },
    {
      "cell_type": "markdown",
      "metadata": {
        "id": "9hjDpYwrEwP9"
      },
      "source": [
        "### Solution"
      ]
    },
    {
      "cell_type": "markdown",
      "metadata": {
        "id": "F44Q_2ccExnO"
      },
      "source": [
        "The correct answers are **a)** and **d)**.\n",
        "\n",
        "**b)** The first person to join a queue is the first person served, so this is \"first in, first out\" retrieval. This is implemented by a different data structure called a queue.\n",
        "\n",
        "**c)** There is no inherent ordering to this, so a stack would not be appropriate. Probably an array, set, or map would be most appropriate."
      ]
    },
    {
      "cell_type": "markdown",
      "metadata": {
        "id": "Y3yq5hzqDCbc"
      },
      "source": [
        "## Question 4"
      ]
    },
    {
      "cell_type": "markdown",
      "metadata": {
        "id": "X2jWGDnJCiGZ"
      },
      "source": [
        "Let's implement some of the stack's important methods. Start by implementing the `push()` method, which adds an item to the top of the stack. You may assume the stack's elements are stored in the `self.item_list` attribute."
      ]
    },
    {
      "cell_type": "code",
      "execution_count": null,
      "metadata": {
        "id": "XIxZr8KyQChe"
      },
      "outputs": [],
      "source": [
        "class Stack:\n",
        "  \n",
        "  def __init__(self):\n",
        "    self.item_list = []\n",
        "\n",
        "  def length(self):\n",
        "    return len(self.item_list)\n",
        "    \n",
        "  def push(self, item):\n",
        "    # TODO(you): Implement\n",
        "    print('This function is not implemented.')"
      ]
    },
    {
      "cell_type": "markdown",
      "metadata": {
        "id": "emA-QCpSDFmC"
      },
      "source": [
        "### Unit Tests\n",
        "\n",
        "Run the following cell to check your answer against some unit tests."
      ]
    },
    {
      "cell_type": "code",
      "execution_count": null,
      "metadata": {
        "id": "UMhi_75EQhXg"
      },
      "outputs": [],
      "source": [
        "stack = Stack()\n",
        "stack.item_list = [1, 2]\n",
        "stack.push(3)\n",
        "print(stack.item_list)\n",
        "# Should print: [1, 2, 3]"
      ]
    },
    {
      "cell_type": "markdown",
      "metadata": {
        "id": "gSn4hP1gDGyP"
      },
      "source": [
        "### Solution"
      ]
    },
    {
      "cell_type": "markdown",
      "metadata": {
        "id": "ccDEqbF0WPIO"
      },
      "source": [
        "This function won't require much code; you just need to keep your ordering consistent inside of the list."
      ]
    },
    {
      "cell_type": "code",
      "execution_count": null,
      "metadata": {
        "id": "936FhwMyQeuV"
      },
      "outputs": [],
      "source": [
        "class Stack:\n",
        "  \n",
        "  def __init__(self):\n",
        "    self.item_list = []\n",
        "\n",
        "  def length(self):\n",
        "    return len(self.item_list)\n",
        "\n",
        "  def push(self, item):\n",
        "    self.item_list.append(item)"
      ]
    },
    {
      "cell_type": "markdown",
      "metadata": {
        "id": "4q1w8hbsDJ4x"
      },
      "source": [
        "## Question 5"
      ]
    },
    {
      "cell_type": "markdown",
      "metadata": {
        "id": "KpavRRObp25k"
      },
      "source": [
        "Implement the `pop()` function, which removes an element from the stack and returns it to the user."
      ]
    },
    {
      "cell_type": "code",
      "execution_count": null,
      "metadata": {
        "id": "Hy3y28XLQweO"
      },
      "outputs": [],
      "source": [
        "class Stack:\n",
        "  \n",
        "  def __init__(self):\n",
        "    self.item_list = []\n",
        "\n",
        "  def length(self):\n",
        "    return len(self.item_list)\n",
        "\n",
        "  def push(self, item):\n",
        "    self.item_list.append(item)\n",
        "\n",
        "  def pop(self):\n",
        "    # TODO(you): Implement\n",
        "    print('This function is not implemented.')"
      ]
    },
    {
      "cell_type": "markdown",
      "metadata": {
        "id": "eaukhivgDJ4y"
      },
      "source": [
        "### Unit Tests\n",
        "\n",
        "Run the following cell to check your answer against some unit tests."
      ]
    },
    {
      "cell_type": "code",
      "execution_count": null,
      "metadata": {
        "id": "RDXJPbCXRgva"
      },
      "outputs": [],
      "source": [
        "stack = Stack()\n",
        "stack.item_list = [1, 2, 3]\n",
        "print(stack.pop())\n",
        "# Should print: 3\n",
        "\n",
        "print(stack.item_list)\n",
        "# Should print: [1, 2]"
      ]
    },
    {
      "cell_type": "markdown",
      "metadata": {
        "id": "BV80xyvQDJ4y"
      },
      "source": [
        "### Solution"
      ]
    },
    {
      "cell_type": "markdown",
      "metadata": {
        "id": "a0vvqnRkWPPJ"
      },
      "source": [
        "You know that the most recent item added (the last one) is the one that you want to pop, so you won't need much code for this one, either."
      ]
    },
    {
      "cell_type": "code",
      "execution_count": null,
      "metadata": {
        "id": "9rQypf3NQ51s"
      },
      "outputs": [],
      "source": [
        "class Stack:\n",
        "  \n",
        "  def __init__(self):\n",
        "    self.item_list = []\n",
        "\n",
        "  def length(self):\n",
        "    return len(self.item_list)\n",
        "\n",
        "  def push(self, item):\n",
        "    self.item_list.append(item)\n",
        "\n",
        "  def pop(self):\n",
        "    if self.length() == 0:\n",
        "      raise ValueError('There are no elements in this stack!')\n",
        "\n",
        "    # Note the -1 syntax means the last element. It is a shortcut for\n",
        "    # len(self.item_list) - 1. Consequently, [:-1] creates a slice with all\n",
        "    # elements except the last.\n",
        "    result = self.item_list[-1]\n",
        "    # This is the most important part; we have to remove result from the\n",
        "    # item_list object. You can do this quickly with a slice.\n",
        "    self.item_list = self.item_list[:-1]\n",
        "    return result"
      ]
    },
    {
      "cell_type": "markdown",
      "metadata": {
        "id": "tH95ZWn8R4VS"
      },
      "source": [
        "As seen in the Lesson Overview, Python allows for this action in a list via the list's `pop()` method."
      ]
    },
    {
      "cell_type": "code",
      "execution_count": null,
      "metadata": {
        "id": "74wKS9WjSBrC"
      },
      "outputs": [],
      "source": [
        "class Stack:\n",
        "  \n",
        "  def __init__(self):\n",
        "    self.item_list = []\n",
        "\n",
        "  def length(self):\n",
        "    return len(self.item_list)\n",
        "\n",
        "  def push(self, item):\n",
        "    self.item_list.append(item)\n",
        "\n",
        "  def pop(self):\n",
        "    return self.item_list.pop()"
      ]
    },
    {
      "cell_type": "markdown",
      "metadata": {
        "id": "xuNdikrlEiIx"
      },
      "source": [
        "## Question 6"
      ]
    },
    {
      "cell_type": "markdown",
      "metadata": {
        "id": "WPqKFjoSEjGm"
      },
      "source": [
        "While stacks can be implemented with lists, it is actually more common and efficient to implement a stack using a linked list. In this question, you will create a linked list backed stack."
      ]
    },
    {
      "cell_type": "markdown",
      "metadata": {
        "id": "YN6tySh3fkA8"
      },
      "source": [
        " Below is an implementation of a linked list from a previous lesson."
      ]
    },
    {
      "cell_type": "code",
      "execution_count": null,
      "metadata": {
        "id": "oMXV8B6eE41Y"
      },
      "outputs": [],
      "source": [
        "class LinkedListElement:\n",
        "\n",
        "  def __init__(self, value):\n",
        "    self.value = value\n",
        "    self.next = None\n",
        "\n",
        "\n",
        "class LinkedList:\n",
        "\n",
        "  def __init__(self):\n",
        "    self.first = None\n",
        "\n",
        "  def print(self):\n",
        "    elem = self.first  \n",
        "    while elem is not None:\n",
        "      print(elem.value)\n",
        "      elem = elem.next\n",
        "\n",
        "  def get(self, n):\n",
        "    counter = 0\n",
        "    elem = self.first\n",
        "    while counter \u003c n:\n",
        "      # If a None type is hit, raise a ValueError.\n",
        "      if elem is None:\n",
        "        raise ValueError(\"Element does not exist at provided index.\")\n",
        "      counter += 1\n",
        "      elem = elem.next\n",
        "    return elem\n",
        "\n",
        "  def insert(self, new, position):\n",
        "    elem = self.get(position)\n",
        "    new.next = elem\n",
        "    if position == 0:\n",
        "      self.first = new\n",
        "    else:\n",
        "      prev = self.get(position - 1)\n",
        "      prev.next = new\n",
        "\n",
        "  def remove(self, position):\n",
        "    if position == 0:\n",
        "      self.first = self.first.next\n",
        "    else:\n",
        "      prev = self.get(position - 1)\n",
        "      prev.next = self.get(position).next\n",
        "\n",
        "  def length(self):\n",
        "    length = 0\n",
        "    elem = self.first\n",
        "    while elem is not None:\n",
        "      length += 1\n",
        "      elem = elem.next\n",
        "    return length"
      ]
    },
    {
      "cell_type": "markdown",
      "metadata": {
        "id": "1aZ86i4NE505"
      },
      "source": [
        "Create a class called `StackLL` that inherits from `LinkedList` and implements *all* of the methods from previous questions:\n",
        "\n",
        "- `length` returns the number of elements\n",
        "- `push` adds a new element to the stack\n",
        "- `pop` returns and removes an element from the stack"
      ]
    },
    {
      "cell_type": "code",
      "execution_count": null,
      "metadata": {
        "id": "etaFTFBg5tWk"
      },
      "outputs": [],
      "source": [
        "#user \n",
        "#TODO(you): Create StackLL class. "
      ]
    },
    {
      "cell_type": "markdown",
      "metadata": {
        "id": "DlNC_HkeHIyZ"
      },
      "source": [
        "### Hint"
      ]
    },
    {
      "cell_type": "markdown",
      "metadata": {
        "id": "Dd0B1Sm4HKGS"
      },
      "source": [
        "- The `length` method is already inherited from `LinkedList`, so does not need to be rewritten.\n",
        "\n",
        "- For `push`, insert the new element at the *start* of the linked list rather than at the *end*. Inserting the element at the end seems obvious but it is actually less efficient. In order to insert the element at the end of the linked list, you need to iterate through all elements and append to the final element of the linked list.\n",
        "\n",
        "- For `pop`, remember that you also need to *return* the popped element before removing it. Based on the hint for `push`, this means returning then removing the head of the linked list. One intricacy here is that you should return the `value` of the `LinkedListElement`, not the instance itself."
      ]
    },
    {
      "cell_type": "code",
      "execution_count": null,
      "metadata": {
        "id": "Bs_hloiZoAfw"
      },
      "outputs": [],
      "source": [
        "class StackLL(LinkedList):\n",
        "\n",
        "  def push(self, new):\n",
        "    # TODO(you): Implement\n",
        "  \n",
        "  def pop(self):\n",
        "    # TODO(you): Implement\n",
        "    # Remember to return the popped element's value!"
      ]
    },
    {
      "cell_type": "markdown",
      "metadata": {
        "id": "tj5nDnce-U4b"
      },
      "source": [
        "### Unit Tests\n",
        "\n",
        "Run the following cell to check your answer against some unit tests."
      ]
    },
    {
      "cell_type": "code",
      "execution_count": null,
      "metadata": {
        "id": "-YQYYmfs-Vzq"
      },
      "outputs": [],
      "source": [
        "stack = StackLL()\n",
        "\n",
        "# push tests\n",
        "stack.first = LinkedListElement(1)\n",
        "stack.push(LinkedListElement(2))\n",
        "stack.print()\n",
        "# Should print multiline: \n",
        "# 2\n",
        "# 1\n",
        "print('\\n')\n",
        "stack.push(LinkedListElement(3))\n",
        "stack.print()\n",
        "# Should print multiline: \n",
        "# 3\n",
        "# 2\n",
        "# 1\n",
        "\n",
        "print('\\n')\n",
        "# pop tests\n",
        "print(stack.pop())\n",
        "# Should print: 3\n",
        "print(stack.pop())\n",
        "# Should print: 2"
      ]
    },
    {
      "cell_type": "markdown",
      "metadata": {
        "id": "Ozu73f8bFLe1"
      },
      "source": [
        "### Solution"
      ]
    },
    {
      "cell_type": "code",
      "execution_count": null,
      "metadata": {
        "id": "Wf0gZUY3FRNL"
      },
      "outputs": [],
      "source": [
        "class StackLL(LinkedList):\n",
        "  \n",
        "  def push(self, new):\n",
        "    self.insert(new, 0)\n",
        "  \n",
        "  def pop(self):\n",
        "    el = self.first.value\n",
        "    self.remove(0)\n",
        "    return el"
      ]
    },
    {
      "cell_type": "markdown",
      "metadata": {
        "id": "7MlC0jNeDKWb"
      },
      "source": [
        "## Question 7"
      ]
    },
    {
      "cell_type": "markdown",
      "metadata": {
        "id": "dDZvxgLwvpJX"
      },
      "source": [
        "Now that we've implemented `push()` and `pop()` for `Stack`, let's try using our new `Stack` class to reverse a string. Your function should return a string with the characters in reverse order."
      ]
    },
    {
      "cell_type": "code",
      "execution_count": null,
      "metadata": {
        "id": "Wsd08axQAZx-"
      },
      "outputs": [],
      "source": [
        "class Stack:\n",
        "  \n",
        "  def __init__(self):\n",
        "    self.item_list = []\n",
        "\n",
        "  def length(self):\n",
        "    return len(self.item_list)\n",
        "\n",
        "  def push(self, item):\n",
        "    self.item_list.append(item)\n",
        "\n",
        "  def pop(self):\n",
        "    return self.item_list.pop()"
      ]
    },
    {
      "cell_type": "code",
      "execution_count": null,
      "metadata": {
        "id": "lN5Fbi3OSNPB"
      },
      "outputs": [],
      "source": [
        "def reverse_string(input_text):\n",
        "  reverse = Stack()\n",
        "  result = ''\n",
        "  # TODO(you): Implement\n",
        "  return result"
      ]
    },
    {
      "cell_type": "markdown",
      "metadata": {
        "id": "6q6WyKiXDKWc"
      },
      "source": [
        "### Unit Tests\n",
        "\n",
        "Run the following cell to check your answer against some unit tests."
      ]
    },
    {
      "cell_type": "code",
      "execution_count": null,
      "metadata": {
        "id": "FhqUj87jSacg"
      },
      "outputs": [],
      "source": [
        "reverse_string('Stacks are fun!')\n",
        "# Should print: '!nuf era skcatS'"
      ]
    },
    {
      "cell_type": "markdown",
      "metadata": {
        "id": "4FMT7Md2DKWd"
      },
      "source": [
        "### Solution"
      ]
    },
    {
      "cell_type": "markdown",
      "metadata": {
        "id": "0r0VvIBOwaAb"
      },
      "source": [
        "This works similarly to the example provided, but you'll need to add the letters onto the result."
      ]
    },
    {
      "cell_type": "code",
      "execution_count": null,
      "metadata": {
        "id": "RBw76BI8SSn5"
      },
      "outputs": [],
      "source": [
        "def reverse_string(input_text):\n",
        "  reverse = Stack()\n",
        "  result = ''\n",
        "  for c in input_text:\n",
        "    reverse.push(c)\n",
        "\n",
        "  # Don't forget that we should be returning a string, not just the stack\n",
        "  # or the stack's elements. To do so, pop the elements and add them to\n",
        "  # the result string we initialized earlier in the function.\n",
        "  while reverse.length() \u003e 0:\n",
        "    result += reverse.pop()\n",
        "\n",
        "  return result"
      ]
    },
    {
      "cell_type": "markdown",
      "metadata": {
        "id": "-LflihbiDo61"
      },
      "source": [
        "## Question 8"
      ]
    },
    {
      "cell_type": "markdown",
      "metadata": {
        "id": "b456q3SfUVEv"
      },
      "source": [
        "You are implementing a keyboard simulator. You want to get a list of key inputs and print the output to the screen. The thing to consider is that users will occasionally hit the Backspace key, which deletes the previous character. For now, assume that they will only hit the Backspace key one time before they continue typing (meaning there won't ever be two consecutive Backspace key presses). You'll be passed in a list of key presses, and a backspace will be indicated by `'BACKSPACE'`."
      ]
    },
    {
      "cell_type": "code",
      "execution_count": null,
      "metadata": {
        "id": "VgM9f_CFxeCz"
      },
      "outputs": [],
      "source": [
        "def print_with_backspaces(key_presses):\n",
        "  result = ''\n",
        "  # TODO(you): Implement\n",
        "  print('This function has not been implemented.')\n",
        "  return result"
      ]
    },
    {
      "cell_type": "markdown",
      "metadata": {
        "id": "menkSjINyoPg"
      },
      "source": [
        "Below is the `Stack` class with all of the implemented methods, which you will need to use."
      ]
    },
    {
      "cell_type": "code",
      "execution_count": null,
      "metadata": {
        "id": "3eiAaIgPynE7"
      },
      "outputs": [],
      "source": [
        "class Stack:\n",
        "  \n",
        "  def __init__(self):\n",
        "    self.item_list = []\n",
        "\n",
        "  def length(self):\n",
        "    return len(self.item_list)\n",
        "\n",
        "  def push(self, item):\n",
        "    self.item_list.append(item)\n",
        "\n",
        "  def pop(self):\n",
        "    return self.item_list.pop()"
      ]
    },
    {
      "cell_type": "markdown",
      "metadata": {
        "id": "giLh4GJRDo63"
      },
      "source": [
        "### Unit Tests\n",
        "\n",
        "Run the following cell to check your answer against some unit tests."
      ]
    },
    {
      "cell_type": "code",
      "execution_count": null,
      "metadata": {
        "id": "i3BGrrRfzJ_l"
      },
      "outputs": [],
      "source": [
        "keys = ['i', 'BACKSPACE', 'I', ' ', 'l', 'i', 'k', 'e', ' ', 'c', 'c',\n",
        "        'BACKSPACE', 'o', 'd', 'e', '.', 'BACKSPACE', '!']\n",
        "\n",
        "print_with_backspaces(keys)\n",
        "# Should print: 'I like code!'"
      ]
    },
    {
      "cell_type": "markdown",
      "metadata": {
        "id": "x4U7WteuDo64"
      },
      "source": [
        "### Solution"
      ]
    },
    {
      "cell_type": "markdown",
      "metadata": {
        "id": "el1S4J2bWO_L"
      },
      "source": [
        "For this function, you will need to remember that you've seen a `'BACKSPACE'` and then remove the previous character."
      ]
    },
    {
      "cell_type": "code",
      "execution_count": null,
      "metadata": {
        "id": "_H6KmII6yb4f"
      },
      "outputs": [],
      "source": [
        "def print_with_backspaces(key_presses):\n",
        "  input_stack = Stack()\n",
        "  result = ''\n",
        "  for key in key_presses:\n",
        "    if key != 'BACKSPACE':\n",
        "      # Add the key to our stack.\n",
        "      input_stack.push(key)\n",
        "    else:\n",
        "      # Remove the previous key. The key inputs could start with a 'BACKSPACE',\n",
        "      # so check that there is at least one key to backspace, so pop() doesn't\n",
        "      # throw an error.\n",
        "      if input_stack.length() \u003e 0:\n",
        "        input_stack.pop()\n",
        "\n",
        "  # Now we've removed all the characters that should be removed, but we've got\n",
        "  # the characters in a stack, which means that if we just put the stack into\n",
        "  # result they'll be in the wrong order! We need to reverse them again, first.\n",
        "  reverse_input_stack = Stack()\n",
        "  while input_stack.length() \u003e 0:\n",
        "    reverse_input_stack.push(input_stack.pop())\n",
        "  \n",
        "  # After reversing inputStack, we can dump this stack's content into result.\n",
        "  while reverse_input_stack.length() \u003e 0:\n",
        "    result += reverse_input_stack.pop()\n",
        "    \n",
        "  return result"
      ]
    },
    {
      "cell_type": "markdown",
      "metadata": {
        "id": "cO-jB5JoDsvo"
      },
      "source": [
        "## Question 9"
      ]
    },
    {
      "cell_type": "markdown",
      "metadata": {
        "id": "UVxy2WOwAmIj"
      },
      "source": [
        "A good text editor should support multiple consecutive backspaces, if a user wants to delete longer blocks of content. To support that, write a `print_with_backspaces` function that can handle consecutive backspaces."
      ]
    },
    {
      "cell_type": "code",
      "execution_count": null,
      "metadata": {
        "id": "hg1aZMAuAds8"
      },
      "outputs": [],
      "source": [
        "class Stack:\n",
        "  \n",
        "  def __init__(self):\n",
        "    self.item_list = []\n",
        "\n",
        "  def length(self):\n",
        "    return len(self.item_list)\n",
        "\n",
        "  def push(self, item):\n",
        "    self.item_list.append(item)\n",
        "\n",
        "  def pop(self):\n",
        "    return self.item_list.pop()"
      ]
    },
    {
      "cell_type": "code",
      "execution_count": null,
      "metadata": {
        "id": "10P1nMt7epsM"
      },
      "outputs": [],
      "source": [
        "def print_with_consecutive_backspaces(key_presses):\n",
        "  result = ''\n",
        "  # TODO(you): Implement\n",
        "  print('This function has not been implemented.')\n",
        "  return result"
      ]
    },
    {
      "cell_type": "markdown",
      "metadata": {
        "id": "9mh2UZIoDsvp"
      },
      "source": [
        "### Unit Tests\n",
        "\n",
        "Run the following cell to check your answer against some unit tests."
      ]
    },
    {
      "cell_type": "code",
      "execution_count": null,
      "metadata": {
        "id": "1gnYFwC3JR2W"
      },
      "outputs": [],
      "source": [
        "keys = ['I', ' ', 'd', 'o', 'n', '\\'', 't', 'BACKSPACE', 'BACKSPACE',\n",
        "        'BACKSPACE', 'BACKSPACE', 'BACKSPACE', 'l', 'i', 'k', 'e', ' ', 'c',\n",
        "        '(', 'BACKSPACE', 'o', 'd', 'e', '!']\n",
        "\n",
        "print_with_consecutive_backspaces(keys)\n",
        "# Should print: 'I like code!'"
      ]
    },
    {
      "cell_type": "markdown",
      "metadata": {
        "id": "CakMWXR5Dsvp"
      },
      "source": [
        "### Solution"
      ]
    },
    {
      "cell_type": "markdown",
      "metadata": {
        "id": "0oXWL6d4UMIQ"
      },
      "source": [
        "We have a `Stack` that always has the most recently typed character at the top, so whenever we hit `'BACKSPACE'`, we can just pop that character."
      ]
    },
    {
      "cell_type": "code",
      "execution_count": null,
      "metadata": {
        "id": "KwErwY4gTcPe"
      },
      "outputs": [],
      "source": [
        "def print_with_consecutive_backspaces(key_presses):\n",
        "  input_stack = Stack()\n",
        "  result = ''\n",
        "  for key in key_presses:\n",
        "    if key != 'BACKSPACE':\n",
        "      # Add the key to our stack.\n",
        "      input_stack.push(key)\n",
        "    else:\n",
        "      # Remove the previous key. The key inputs could start with a 'BACKSPACE',\n",
        "      # so check that there is at least one key to backspace, so pop() doesn't\n",
        "      # throw an error.\n",
        "      if input_stack.length() \u003e 0:\n",
        "        input_stack.pop()\n",
        "\n",
        "  # Now we've removed all the characters that should be removed, but we've got\n",
        "  # the characters in a stack, which means that if we just put the stack into\n",
        "  # result they'll be in the wrong order! We need to reverse them again, first.\n",
        "  reverse_input_stack = Stack()\n",
        "  while input_stack.length() \u003e 0:\n",
        "    reverse_input_stack.push(input_stack.pop())\n",
        "  \n",
        "  # After reversing inputStack, we can dump this stack's content into result.\n",
        "  while reverse_input_stack.length() \u003e 0:\n",
        "    result += reverse_input_stack.pop()\n",
        "    \n",
        "  return result"
      ]
    },
    {
      "cell_type": "markdown",
      "metadata": {
        "id": "5AThCts5Dur6"
      },
      "source": [
        "## Question 10"
      ]
    },
    {
      "cell_type": "markdown",
      "metadata": {
        "id": "biLTDlBeUAyZ"
      },
      "source": [
        "[Advanced] In a program, generally, functions and methods execute via an application stack so that they can traceback in the event of a crash (among other reasons). Let's try to build that! For simplicity, we're going to abstract out a few aspects of program execution."
      ]
    },
    {
      "cell_type": "code",
      "execution_count": null,
      "metadata": {
        "id": "qpWs2tEDAfqv"
      },
      "outputs": [],
      "source": [
        "class Stack:\n",
        "  \n",
        "  def __init__(self):\n",
        "    self.item_list = []\n",
        "\n",
        "  def length(self):\n",
        "    return len(self.item_list)\n",
        "\n",
        "  def push(self, item):\n",
        "    self.item_list.append(item)\n",
        "\n",
        "  def pop(self):\n",
        "    return self.item_list.pop()"
      ]
    },
    {
      "cell_type": "markdown",
      "metadata": {
        "id": "C2X7AYIQgMr7"
      },
      "source": [
        "For this, you'll need a method called `trace`, which can be called like so."
      ]
    },
    {
      "cell_type": "code",
      "execution_count": null,
      "metadata": {
        "id": "dc3xrREF7m4I"
      },
      "outputs": [],
      "source": [
        "import random\n",
        "\n",
        "# This ensures deterministic output; do not change when testing.\n",
        "random.seed(3742)\n",
        "\n",
        "class Function:\n",
        "  \n",
        "  def __init__(self, name):\n",
        "    self.name = name\n",
        "\n",
        "  def get_current_line(self):\n",
        "    # Normally, the function keeps track of what line it's on, but for this\n",
        "    # exercise, we're just going to use a random number as an example.\n",
        "    return random.choice(range(100))\n",
        "\n",
        "  def trace(self):\n",
        "    return '%s: line %d' % (self.name, self.get_current_line())"
      ]
    },
    {
      "cell_type": "markdown",
      "metadata": {
        "id": "tpFyLTIlJV0P"
      },
      "source": [
        "  This might print:\n",
        "  ```\n",
        "  test_function_name: line 3\n",
        "  ```\n",
        "  That can be very helpful in the traceback process! Now, try implementing it."
      ]
    },
    {
      "cell_type": "code",
      "execution_count": null,
      "metadata": {
        "id": "R5mkIxPpIBLm"
      },
      "outputs": [],
      "source": [
        "class Error:\n",
        "\n",
        "  def error_message(self):\n",
        "    return 'An error occurred on line 5. Printing trace:'\n",
        "\n",
        "\n",
        "class Program:\n",
        "\n",
        "  def __init__(self):\n",
        "    self.application_stack = []\n",
        "\n",
        "  def execute(self):\n",
        "    self.application_stack.append(Function('import_file'))\n",
        "    self.application_stack.append(Function('open_file'))\n",
        "    self.application_stack.append(Function('get_line'))\n",
        "    self.print_traceback(Error())\n",
        "\n",
        "  # This method is called whenever an error is encountered.\n",
        "  def print_traceback(self, e):\n",
        "    print(e.error_message())\n",
        "    # TODO(you): Implement\n",
        "    print('This method has not been implemented.')"
      ]
    },
    {
      "cell_type": "markdown",
      "metadata": {
        "id": "eGrjCuSqDur7"
      },
      "source": [
        "### Unit Tests\n",
        "\n",
        "Run the following cell to check your answer against some unit tests."
      ]
    },
    {
      "cell_type": "code",
      "execution_count": null,
      "metadata": {
        "id": "Vlv_xso5IdWP"
      },
      "outputs": [],
      "source": [
        "main_program = Program()\n",
        "main_program.execute()\n",
        "\n",
        "# Should print multiline:\n",
        "# An error occurred on line 5. Printing trace:\n",
        "# get_line: line 73\n",
        "# open_file: line 90\n",
        "# import_file: line 87"
      ]
    },
    {
      "cell_type": "markdown",
      "metadata": {
        "id": "5UdvZji_Dur7"
      },
      "source": [
        "### Solution"
      ]
    },
    {
      "cell_type": "markdown",
      "metadata": {
        "id": "2_u0R3B2UMFa"
      },
      "source": [
        "Printing a trace is more challenging, since you need to make sure you're printing it in the correct order. A stack will help you maintain that ordering."
      ]
    },
    {
      "cell_type": "code",
      "execution_count": null,
      "metadata": {
        "id": "xnb378OMKwrZ"
      },
      "outputs": [],
      "source": [
        "#static \n",
        "import random\n",
        "\n",
        "# This ensures deterministic output; do not change when testing.\n",
        "random.seed(3742)\n",
        "\n",
        "class Function:\n",
        "  \n",
        "  def __init__(self, name):\n",
        "    self.name = name\n",
        "\n",
        "  def get_current_line(self):\n",
        "    # Normally, the function keeps track of what line it's on, but for this\n",
        "    # exercise, we're just going to use a random number as an example.\n",
        "    return random.choice(range(100))\n",
        "\n",
        "  def trace(self):\n",
        "    return '%s: line %d' % (self.name, self.get_current_line())"
      ]
    },
    {
      "cell_type": "code",
      "execution_count": null,
      "metadata": {
        "id": "edTb_PfTOWd4"
      },
      "outputs": [],
      "source": [
        "class Error:\n",
        "\n",
        "  def error_message(self):\n",
        "    return 'An error occurred on line 5. Printing trace:'\n",
        "\n",
        "\n",
        "class Program:\n",
        "\n",
        "  def __init__(self):\n",
        "    self.application_stack = []\n",
        "\n",
        "  def execute(self):\n",
        "    self.application_stack.append(Function('import_file'))\n",
        "    self.application_stack.append(Function('open_file'))\n",
        "    self.application_stack.append(Function('get_line'))\n",
        "    self.print_traceback(Error())\n",
        "\n",
        "  # This method is called whenever an error is encountered.\n",
        "  def print_traceback(self, e):\n",
        "    print(e.error_message())\n",
        "    # First, print the locations in reverse order. This will allow the \n",
        "    # person reading the traceback to quickly identify where the error\n",
        "    # occurred.\n",
        "    while len(self.application_stack) \u003e 0:\n",
        "      application_function = self.application_stack.pop()\n",
        "      print(application_function.trace())"
      ]
    },
    {
      "cell_type": "markdown",
      "metadata": {
        "id": "k1-EXmI5DzVw"
      },
      "source": [
        "## Question 11"
      ]
    },
    {
      "cell_type": "markdown",
      "metadata": {
        "id": "QVc_qcK7UVBM"
      },
      "source": [
        "[Advanced] For a given string, write a function that reverses all the words in that string but preserves their ordering."
      ]
    },
    {
      "cell_type": "code",
      "execution_count": null,
      "metadata": {
        "id": "EoVhdmqdAiMe"
      },
      "outputs": [],
      "source": [
        "class Stack:\n",
        "  \n",
        "  def __init__(self):\n",
        "    self.item_list = []\n",
        "\n",
        "  def length(self):\n",
        "    return len(self.item_list)\n",
        "\n",
        "  def push(self, item):\n",
        "    self.item_list.append(item)\n",
        "\n",
        "  def pop(self):\n",
        "    return self.item_list.pop()"
      ]
    },
    {
      "cell_type": "code",
      "execution_count": null,
      "metadata": {
        "id": "eEJJFiJKVZuk"
      },
      "outputs": [],
      "source": [
        "def reverse_words(input_text):\n",
        "  result = ''\n",
        "  # TODO(you): Implement\n",
        "  print('This function has not been implemented.')\n",
        "  return result"
      ]
    },
    {
      "cell_type": "markdown",
      "metadata": {
        "id": "tu7ykKrODzVw"
      },
      "source": [
        "### Unit Tests\n",
        "\n",
        "Run the following cell to check your answer against some unit tests."
      ]
    },
    {
      "cell_type": "code",
      "execution_count": null,
      "metadata": {
        "id": "j1pgHWSKVnBn"
      },
      "outputs": [],
      "source": [
        "string = 'moo cow bark dog'\n",
        "\n",
        "reverse_words(string)\n",
        "# Should print: 'oom woc krab god'"
      ]
    },
    {
      "cell_type": "markdown",
      "metadata": {
        "id": "bV0LTwq3DzVx"
      },
      "source": [
        "### Solution"
      ]
    },
    {
      "cell_type": "markdown",
      "metadata": {
        "id": "EyiykSceqTG8"
      },
      "source": [
        "This uses a stack, but with two major pain points: \n",
        "\n",
        "   * Every time you see a space, you need to make sure the stack is empty. To do so, clear it each time.\n",
        "   * At the very end of your input_text, you should empty the stack's contents into `result` before you return."
      ]
    },
    {
      "cell_type": "code",
      "execution_count": null,
      "metadata": {
        "id": "tdwIlju2WFDh"
      },
      "outputs": [],
      "source": [
        "#static \n",
        "def reverse_words(input_text):\n",
        "  word_stack = Stack()\n",
        "  result = ''\n",
        "  \n",
        "  for c in input_text:\n",
        "    # Check if c is a space.\n",
        "    if c == ' ':\n",
        "      # We've hit a whitespace character, so we should reverse the word.\n",
        "      while word_stack.length() \u003e 0:\n",
        "        result += word_stack.pop()\n",
        "\n",
        "      # Don't forget to add the whitespace character to the result!\n",
        "      result += c\n",
        "    else:\n",
        "      word_stack.push(c)\n",
        "\n",
        "  # Though you've run out of characters in the input, there may still be\n",
        "  # characters on your word_stack. Pop them off here and add them to result.\n",
        "  while word_stack.length() \u003e 0:\n",
        "    result += word_stack.pop()\n",
        "\n",
        "  return result"
      ]
    },
    {
      "cell_type": "markdown",
      "metadata": {
        "id": "KtHMYb6bEI_Y"
      },
      "source": [
        "## Question 12"
      ]
    },
    {
      "cell_type": "markdown",
      "metadata": {
        "id": "z1BiOoyhEM2K"
      },
      "source": [
        "Your colleague is developing a dish management software *RadDish* for your local restaurant clients, and is using a stack to help keep the plates in order. Unfortunately, something's not quite right with the RadDish code, and they seem to be losing data. Can you identify the problem and correct it?\n",
        "\n",
        "Assume you have some data structure called `Dish` that represents the critical data about a dish, plate, bowl, or other crockery.\n",
        "\n",
        "They've attempted to call `add_dishes(3)`, `add_dishes(5)`, and `add_dishes(10)`, but it doesn't seem to work. What are they doing wrong?"
      ]
    },
    {
      "cell_type": "code",
      "execution_count": null,
      "metadata": {
        "id": "rkCbutdPg9OO"
      },
      "outputs": [],
      "source": [
        "#static \n",
        "class Stack:\n",
        "  \n",
        "  def __init__(self):\n",
        "    self.item_list = []\n",
        "\n",
        "  def length(self):\n",
        "    return len(self.item_list)\n",
        "\n",
        "  def push(self, item):\n",
        "    self.item_list.append(item)\n",
        "\n",
        "  def pop(self):\n",
        "    return self.item_list.pop()"
      ]
    },
    {
      "cell_type": "code",
      "execution_count": null,
      "metadata": {
        "id": "B2gjYHo9gezF"
      },
      "outputs": [],
      "source": [
        "#static  \n",
        "class Dish:\n",
        "\n",
        "  def __init__(self, type):\n",
        "    # Type should be 'HANDWASH' or 'DISHWASHER'.\n",
        "    self.type = type\n",
        "\n",
        "  def get_type(self):\n",
        "    return self.type"
      ]
    },
    {
      "cell_type": "code",
      "execution_count": null,
      "metadata": {
        "id": "9KWlXENPg0ay"
      },
      "outputs": [],
      "source": [
        "#user \n",
        "def add_dishes(num_dishes):\n",
        "  \"\"\"Adds a number of dishes to a stack of dishes.\n",
        "\n",
        "  Args:\n",
        "    num_dishes: The number of dishes to add.\n",
        "  \n",
        "  Returns:\n",
        "    A Stack of num_dishes Dish objects.\n",
        "  \"\"\"\n",
        "  while num_dishes \u003e 0:\n",
        "    dish_stack = Stack()\n",
        "    new_dish = Dish('DISHWASHER')\n",
        "    dish_stack.push(new_dish)\n",
        "    num_dishes -= 1\n",
        "\n",
        "  return dish_stack"
      ]
    },
    {
      "cell_type": "markdown",
      "metadata": {
        "id": "KjHYjKwBEI_Y"
      },
      "source": [
        "### Unit Tests\n",
        "\n",
        "Run the following cell to check your answer against some unit tests."
      ]
    },
    {
      "cell_type": "code",
      "execution_count": null,
      "metadata": {
        "id": "JDsKhElrhDsF"
      },
      "outputs": [],
      "source": [
        "dish_stack = add_dishes(3)\n",
        "print(dish_stack.length())\n",
        "# Should print: 3\n",
        "\n",
        "dish_stack = add_dishes(5)\n",
        "print(dish_stack.length())\n",
        "# Should print: 5\n",
        "\n",
        "dish_stack = add_dishes(10)\n",
        "print(dish_stack.length())\n",
        "# Should print: 10"
      ]
    },
    {
      "cell_type": "markdown",
      "metadata": {
        "id": "eFtEibYUEI_Z"
      },
      "source": [
        "### Solution"
      ]
    },
    {
      "cell_type": "markdown",
      "metadata": {
        "id": "LuSZLDPlzdBY"
      },
      "source": [
        "If you were to run this, you'd notice that the `dish_stack` you return only ever has one element. The problem is that inside of the `while` loop, your colleague is always creating a new `dish_stack` and then adding an element to it. Rather than creating `dish_stack` with `num_dishes` elements, they're creating `num_dishes` `dish_stack` objects with one element each. We fix that by moving the `dish_stack` creation to outside the `while` loop."
      ]
    },
    {
      "cell_type": "code",
      "execution_count": null,
      "metadata": {
        "id": "4Q0t4KIVhm28"
      },
      "outputs": [],
      "source": [
        "class Dish:\n",
        "\n",
        "  def __init__(self, type):\n",
        "    # Type should be 'HANDWASH' or 'DISHWASHER'.\n",
        "    self.type = type\n",
        "\n",
        "  def get_type(self):\n",
        "    return self.type"
      ]
    },
    {
      "cell_type": "code",
      "execution_count": null,
      "metadata": {
        "id": "FLExvGoOhWuv"
      },
      "outputs": [],
      "source": [
        "def add_dishes(num_dishes):\n",
        "  \"\"\"Adds a number of dishes to a stack of dishes.\n",
        "\n",
        "  Args:\n",
        "    num_dishes: The number of dishes to add.\n",
        "  \n",
        "  Returns:\n",
        "    A Stack of num_dishes Dish objects.\n",
        "  \"\"\"\n",
        "  dish_stack = Stack()\n",
        "\n",
        "  while num_dishes \u003e 0:\n",
        "    new_dish = Dish('DISHWASHER')\n",
        "    dish_stack.push(new_dish)\n",
        "    num_dishes -= 1\n",
        "\n",
        "  return dish_stack"
      ]
    },
    {
      "cell_type": "markdown",
      "metadata": {
        "id": "kk-anM_fEjlj"
      },
      "source": [
        "## Question 13"
      ]
    },
    {
      "cell_type": "markdown",
      "metadata": {
        "id": "W35dKasZWhiI"
      },
      "source": [
        "You solved the first problem, but your colleague is also having trouble with something else. Certain dishes can't be washed in the dishwasher; they're too delicate. You need to handwash them seperately.\n",
        "\n",
        "The method they're working on is an improvement to `add_dishes` that takes in a list of dishes to add and updates `dish_stack` and a new stack, `handwash_stack`. Make sure both are updated correctly. They've already written and tested the method `dish.get_type()`, which will return `'HANDWASH'` or `'DISHWASHER'`. That works fine, but the rest of the code isn't quite right. Can you fix it?"
      ]
    },
    {
      "cell_type": "code",
      "execution_count": null,
      "metadata": {
        "id": "P_BHkI3QhcEV"
      },
      "outputs": [],
      "source": [
        "class Stack:\n",
        "  \n",
        "  def __init__(self):\n",
        "    self.item_list = []\n",
        "\n",
        "  def length(self):\n",
        "    return len(self.item_list)\n",
        "\n",
        "  def push(self, item):\n",
        "    self.item_list.append(item)\n",
        "\n",
        "  def pop(self):\n",
        "    return self.item_list.pop()"
      ]
    },
    {
      "cell_type": "code",
      "execution_count": null,
      "metadata": {
        "id": "sELTpmiehobQ"
      },
      "outputs": [],
      "source": [
        "#static \n",
        "class Dish:\n",
        "\n",
        "  def __init__(self, type):\n",
        "    # Type should be 'HANDWASH' or 'DISHWASHER'.\n",
        "    self.type = type\n",
        "\n",
        "  def get_type(self):\n",
        "    return self.type"
      ]
    },
    {
      "cell_type": "code",
      "execution_count": null,
      "metadata": {
        "id": "lRCJoVPUhhpt"
      },
      "outputs": [],
      "source": [
        "def add_dishes(dish_list, dish_stack, handwash_stack):\n",
        "  \"\"\"Adds dishes to a dish stack and handwash stack based on dish type.\n",
        "\n",
        "  Args:\n",
        "    dish_list: A list of Dish objects.\n",
        "    dish_stack: A Stack of dishes to be stacked in the dishwasher.\n",
        "    handwash_stack: A Stack of dishes to be handwashed.\n",
        "  \"\"\"\n",
        "  for dish in dish_list:\n",
        "    dish_stack.push(dish)\n",
        "    if not (dish.get_type() != 'HANDWASH'):\n",
        "      dish_stack.pop()\n",
        "      handwash_stack.push()"
      ]
    },
    {
      "cell_type": "markdown",
      "metadata": {
        "id": "avPmT-IaEjlk"
      },
      "source": [
        "### Unit Tests\n",
        "\n",
        "Run the following cell to check your answer against some unit tests."
      ]
    },
    {
      "cell_type": "code",
      "execution_count": null,
      "metadata": {
        "id": "OyucxnfJhl6M"
      },
      "outputs": [],
      "source": [
        "dish_list = []\n",
        "dish_stack = Stack()\n",
        "handwash_stack = Stack()\n",
        "for i in range(10):\n",
        "  dish_type = 'DISHWASHER'\n",
        "  if i % 3 == 0:\n",
        "    dish_type = 'HANDWASH'\n",
        "  dish_list.append(Dish(dish_type))\n",
        "\n",
        "add_dishes(dish_list, dish_stack, handwash_stack)\n",
        "\n",
        "print(dish_stack.length())\n",
        "# Should print: 6\n",
        "\n",
        "print(handwash_stack.length())\n",
        "# Should print: 4"
      ]
    },
    {
      "cell_type": "markdown",
      "metadata": {
        "id": "zmXZhcDCEjlk"
      },
      "source": [
        "### Solution"
      ]
    },
    {
      "cell_type": "markdown",
      "metadata": {
        "id": "Ivyoa8AvWlf6"
      },
      "source": [
        "This function has three issues:\n",
        "\n",
        "* The first issue is that they're not pushing anything onto `handwash_stack`; it looks like they forgot to put `dish_stack.pop()` inside of the `handwash_stack.push()` parentheses.\n",
        "\n",
        "* The second issue is that this function is switching up `handwash_stack` and `dish_stack` and putting dishes in the wrong place. It is adding handwash dishes to `dish_stack` and vice-versa.\n",
        "\n",
        "* The third issue worth noting about this function is that it's got some style issues. In general, it's stylistically strange to use `not` with `!=` instead of just `==`.\n",
        "\n",
        "The efficiency problem is more nuanced. In this current method, your colleage is always adding new dishes to `dish_stack` and then popping off the handwash-only ones. Instead, let's separate the stacks into different if/else statements, so that it's a bit easier to follow:"
      ]
    },
    {
      "cell_type": "code",
      "execution_count": null,
      "metadata": {
        "id": "W-kHt-WajCA-"
      },
      "outputs": [],
      "source": [
        "def add_dishes(dish_list, dish_stack, handwash_stack):\n",
        "  \"\"\"Adds dishes to a dish stack and handwash stack based on dish type.\n",
        "\n",
        "  Args:\n",
        "    dish_list: A list of Dish objects.\n",
        "    dish_stack: A Stack of dishes to be stacked in the dishwasher.\n",
        "    handwash_stack: A Stack of dishes to be handwashed.\n",
        "  \"\"\"\n",
        "  for dish in dish_list:\n",
        "    if dish.get_type() == 'HANDWASH':\n",
        "      handwash_stack.push(dish)\n",
        "    else:\n",
        "      dish_stack.push(dish)"
      ]
    }
  ],
  "metadata": {
    "colab": {
      "collapsed_sections": [
        "7bTWP00oDMQC",
        "Iz0hN0RCDlGU",
        "9hjDpYwrEwP9",
        "emA-QCpSDFmC",
        "gSn4hP1gDGyP",
        "eaukhivgDJ4y",
        "BV80xyvQDJ4y",
        "DlNC_HkeHIyZ",
        "tj5nDnce-U4b",
        "Ozu73f8bFLe1",
        "6q6WyKiXDKWc",
        "4FMT7Md2DKWd",
        "giLh4GJRDo63",
        "x4U7WteuDo64",
        "9mh2UZIoDsvp",
        "CakMWXR5Dsvp",
        "eGrjCuSqDur7",
        "5UdvZji_Dur7",
        "tu7ykKrODzVw",
        "bV0LTwq3DzVx",
        "KjHYjKwBEI_Y",
        "eFtEibYUEI_Z",
        "avPmT-IaEjlk",
        "zmXZhcDCEjlk"
      ],
      "name": "stacks.ipynb",
      "provenance": [ ]
    },
    "kernelspec": {
      "display_name": "Python 3",
      "name": "python3"
    }
  },
  "nbformat": 4,
  "nbformat_minor": 0
}
