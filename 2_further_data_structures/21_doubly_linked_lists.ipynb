{
  "cells": [
    {
      "cell_type": "markdown",
      "metadata": {
        "id": "kKR1PJ6JANtj"
      },
      "source": [
        "# Doubly Linked Lists"
      ]
    },
    {
      "cell_type": "markdown",
      "metadata": {
        "id": "syc7KI3rJqG1"
      },
      "source": [
        "## Lesson Overview"
      ]
    },
    {
      "cell_type": "markdown",
      "metadata": {
        "id": "qTdohVMJBCjD"
      },
      "source": [
        "\u003e A **doubly linked list** is an extension of a linked list in which each element in the doubly linked list points to the next *and* previous elements.\n",
        "\n"
      ]
    },
    {
      "cell_type": "markdown",
      "metadata": {
        "id": "as8wSn2vc2cH"
      },
      "source": [
        "A doubly linked list can be implemented in a class, like so:"
      ]
    },
    {
      "cell_type": "code",
      "execution_count": null,
      "metadata": {
        "id": "-EAkbR1akdKS"
      },
      "outputs": [],
      "source": [
        "#persistent\n",
        "class DoublyLinkedListElement:\n",
        "\n",
        "  def __init__(self, value):\n",
        "    self.value = value\n",
        "    self.next = None\n",
        "    self.prev = None"
      ]
    },
    {
      "cell_type": "code",
      "execution_count": null,
      "metadata": {
        "id": "3beYUc4MvY3D"
      },
      "outputs": [],
      "source": [
        "class DoublyLinkedList:\n",
        "\n",
        "  def __init__(self):\n",
        "    self.first = None\n",
        "    self.last = None\n",
        "\n",
        "  def length(self):\n",
        "    count = 0\n",
        "    elem = self.first\n",
        "    while elem is not None:\n",
        "      elem = elem.next\n",
        "      count += 1\n",
        "    return count"
      ]
    },
    {
      "cell_type": "code",
      "execution_count": null,
      "metadata": {
        "id": "ro0j5R5WkiEk"
      },
      "outputs": [],
      "source": [
        "my_linked_list = DoublyLinkedList()\n",
        "\n",
        "my_linked_list.first = DoublyLinkedListElement(2)\n",
        "my_linked_list.last = my_linked_list.first\n",
        "# Print the first element of the new doubly linked list.\n",
        "print('The first element\\'s value is %d.' % my_linked_list.first.value)\n",
        "\n",
        "# Print the length of the new doubly linked list.\n",
        "print('The length of the doubly linked list is now %d.' % my_linked_list.length())\n",
        "\n",
        "# Add a new element to the end of the doubly linked list and update the other\n",
        "# node.\n",
        "my_linked_list.last = DoublyLinkedListElement(3)\n",
        "my_linked_list.first.next = my_linked_list.last\n",
        "my_linked_list.last.prev = my_linked_list.first\n",
        "\n",
        "# Print the value of the new second element in the doubly linked list.\n",
        "print('The second element\\'s value is %d.' % my_linked_list.first.next.value)\n",
        "\n",
        "# This should print True, since they both are my_linked_list.first.\n",
        "print('Is first.next.prev.value equal to first.value? %s' % (\n",
        "    my_linked_list.first.next.prev.value == my_linked_list.first.value))\n",
        "print('The length of the doubly linked list is now %d.' % my_linked_list.length())"
      ]
    },
    {
      "cell_type": "markdown",
      "metadata": {
        "id": "Kl3oE873UcL_"
      },
      "source": [
        "### Examples"
      ]
    },
    {
      "cell_type": "markdown",
      "metadata": {
        "id": "uhbk0VbtmvDO"
      },
      "source": [
        "There are many different use cases for doubly linked lists; one such example is cities connected by highways. "
      ]
    },
    {
      "cell_type": "markdown",
      "metadata": {
        "id": "uXYOcOZ2Ug4a"
      },
      "source": [
        "Highways, generally, have multiple lanes to accommodate the flow of traffic, so if you have City $A$ and City $B$ connected by Highway 1, there is both an $A \\rightarrow B$ pathway and a $B \\rightarrow A$ pathway. Someone could start at $A$ and navigate to $B$ or $B$ and navigate to $A$, whereas in a traditional linked list one could only navigate from $A$ to $B$."
      ]
    },
    {
      "cell_type": "markdown",
      "metadata": {
        "id": "0GjTgCLosebX"
      },
      "source": [
        "## Question 1"
      ]
    },
    {
      "cell_type": "markdown",
      "metadata": {
        "id": "WgjwEiPGsgen"
      },
      "source": [
        "Which *one* of the following best defines a doubly linked list?"
      ]
    },
    {
      "cell_type": "markdown",
      "metadata": {
        "id": "6jii1YEW_QLm"
      },
      "source": [
        "**a)** A data structure that contains two linked lists\n",
        "\n",
        "**b)** A data structure in which each element points to the next element\n",
        "\n",
        "**c)** A data structure in which each element points to the previous element\n",
        "\n",
        "**d)** A data structure in which each element points to the next and previous element\n",
        "\n",
        "**e)** A data structure in which each element points to the first and last element"
      ]
    },
    {
      "cell_type": "markdown",
      "metadata": {
        "id": "K7Bm9vd4_Q3n"
      },
      "source": [
        "### Solution"
      ]
    },
    {
      "cell_type": "markdown",
      "metadata": {
        "id": "-F7r33HP_Rmi"
      },
      "source": [
        "The correct answer is **d)**."
      ]
    },
    {
      "cell_type": "markdown",
      "metadata": {
        "id": "dKpEI1MotpIf"
      },
      "source": [
        "## Question 2"
      ]
    },
    {
      "cell_type": "markdown",
      "metadata": {
        "id": "Rc2OUtnTz62U"
      },
      "source": [
        "Which of the following statements comparing singly linked lists and doubly linked lists are true? There may be more than one correct response."
      ]
    },
    {
      "cell_type": "markdown",
      "metadata": {
        "id": "Fkf55Jxd_slk"
      },
      "source": [
        "**a)** While you cannot access elements by index in a singly linked list, you can in a doubly linked list.\n",
        "\n",
        "**b)** Doubly linked lists require as much space as singly linked lists.\n",
        "\n",
        "**c)** Both singly and doubly linked lists allow you to iterate forward through elements (from first to last).\n",
        "\n",
        "**d)** Both singly and doubly linked lists allow you to iterate backwards through elements (from last to first).\n",
        "\n",
        "**e)** Inserting and removing elements requires more operations for a doubly linked list than for a singly linked list."
      ]
    },
    {
      "cell_type": "markdown",
      "metadata": {
        "id": "4J8xDd_w_zmH"
      },
      "source": [
        "### Solution"
      ]
    },
    {
      "cell_type": "markdown",
      "metadata": {
        "id": "L6F7RiZv_0bZ"
      },
      "source": [
        "The correct answers are **c)** and **e)**.\n",
        "\n",
        "**a)** Neither singly nor doubly linked lists store elements by index.\n",
        "\n",
        "**b)** Doubly linked lists store pointers to the next *and* previous elements, so require more space.\n",
        "\n",
        "**d)** Only doubly linked lists allow you to iterate backwards, since each element also contains a pointer to the previous element."
      ]
    },
    {
      "cell_type": "markdown",
      "metadata": {
        "id": "fdQwRRIlYN60"
      },
      "source": [
        "## Question 3"
      ]
    },
    {
      "cell_type": "markdown",
      "metadata": {
        "id": "N0l2yZTnc3dJ"
      },
      "source": [
        "Write a method to print the values of an entire doubly linked list starting at the first element and moving to the end. Each element should be on its own line."
      ]
    },
    {
      "cell_type": "code",
      "execution_count": null,
      "metadata": {
        "id": "zoPXMTtEc3dK"
      },
      "outputs": [],
      "source": [
        "class DoublyLinkedList:\n",
        "\n",
        "  def __init__(self):\n",
        "    self.first = None\n",
        "    self.last = None\n",
        "\n",
        "  def length(self):\n",
        "    count = 0\n",
        "    elem = self.first\n",
        "    while elem is not None:\n",
        "      elem = elem.next\n",
        "      count += 1\n",
        "    return count\n",
        "\n",
        "  def print(self):\n",
        "    # TODO(you): Implement\n",
        "    print(\"This method has not been implemented.\")"
      ]
    },
    {
      "cell_type": "markdown",
      "metadata": {
        "id": "Fr2SMJBxYiYI"
      },
      "source": [
        "### Unit Tests\n",
        "\n",
        "Run the following cell to check your answer against some unit tests."
      ]
    },
    {
      "cell_type": "code",
      "execution_count": null,
      "metadata": {
        "id": "5B6NV9Y4c3dN"
      },
      "outputs": [],
      "source": [
        "my_linked_list = DoublyLinkedList()\n",
        "my_linked_list.first = DoublyLinkedListElement(2)\n",
        "\n",
        "elem_three = DoublyLinkedListElement(3)\n",
        "my_linked_list.first.next = elem_three\n",
        "elem_three.prev = my_linked_list.first\n",
        "\n",
        "elem_five = DoublyLinkedListElement(5)\n",
        "elem_three.next = elem_five\n",
        "elem_five.prev = elem_three\n",
        "my_linked_list.last = elem_five\n",
        "\n",
        "my_linked_list.print()\n",
        "# Should print multiline:\n",
        "# 2\n",
        "# 3\n",
        "# 5"
      ]
    },
    {
      "cell_type": "markdown",
      "metadata": {
        "id": "puvDex_GYl1e"
      },
      "source": [
        "### Solution"
      ]
    },
    {
      "cell_type": "markdown",
      "metadata": {
        "id": "7FOZ-2ZzdoyU"
      },
      "source": [
        "This works the same as iterating through a standard linked list, moving from `next` to `next`. As soon as we find a `None` element, we stop printing."
      ]
    },
    {
      "cell_type": "code",
      "execution_count": null,
      "metadata": {
        "id": "LgUCSMR5doyW"
      },
      "outputs": [],
      "source": [
        "class DoublyLinkedList:\n",
        "\n",
        "  def __init__(self):\n",
        "    self.first = None\n",
        "    self.last = None\n",
        "\n",
        "  def length(self):\n",
        "    count = 0\n",
        "    elem = self.first\n",
        "    while elem is not None:\n",
        "      elem = elem.next\n",
        "      count += 1\n",
        "    return count\n",
        "\n",
        "  def print(self):\n",
        "    elem = self.first\n",
        "    while elem is not None:\n",
        "      print(elem.value)\n",
        "      elem = elem.next"
      ]
    },
    {
      "cell_type": "markdown",
      "metadata": {
        "id": "r5W_fyPpnKVh"
      },
      "source": [
        "## Question 4"
      ]
    },
    {
      "cell_type": "markdown",
      "metadata": {
        "id": "Gir-OfNkNG5o"
      },
      "source": [
        "Write a method to print the values of an entire doubly linked list starting at the *last* element and moving to the front. Each element should be on its own line."
      ]
    },
    {
      "cell_type": "code",
      "execution_count": null,
      "metadata": {
        "id": "U5nTFpgRNiAV"
      },
      "outputs": [],
      "source": [
        "class DoublyLinkedList:\n",
        "\n",
        "  def __init__(self):\n",
        "    self.first = None\n",
        "    self.last = None\n",
        "\n",
        "  def length(self):\n",
        "    count = 0\n",
        "    elem = self.first\n",
        "    while elem is not None:\n",
        "      elem = elem.next\n",
        "      count += 1\n",
        "    return count\n",
        "\n",
        "  def print_backwards(self):\n",
        "    # TODO(you): Implement\n",
        "    print(\"This method has not been implemented.\")"
      ]
    },
    {
      "cell_type": "markdown",
      "metadata": {
        "id": "m01OJjBTnKVi"
      },
      "source": [
        "### Unit Tests\n",
        "\n",
        "Run the following cell to check your answer against some unit tests."
      ]
    },
    {
      "cell_type": "code",
      "execution_count": null,
      "metadata": {
        "id": "XXymvJTSNfAf"
      },
      "outputs": [],
      "source": [
        "my_linked_list = DoublyLinkedList()\n",
        "my_linked_list.first = DoublyLinkedListElement(2)\n",
        "\n",
        "elem_three = DoublyLinkedListElement(3)\n",
        "my_linked_list.first.next = elem_three\n",
        "elem_three.prev = my_linked_list.first\n",
        "\n",
        "elem_five = DoublyLinkedListElement(5)\n",
        "elem_three.next = elem_five\n",
        "elem_five.prev = elem_three\n",
        "my_linked_list.last = elem_five\n",
        "\n",
        "my_linked_list.print_backwards()\n",
        "# Should print multiline:\n",
        "# 5\n",
        "# 3\n",
        "# 2"
      ]
    },
    {
      "cell_type": "markdown",
      "metadata": {
        "id": "cox0SVIYnKVj"
      },
      "source": [
        "### Solution"
      ]
    },
    {
      "cell_type": "markdown",
      "metadata": {
        "id": "oil7Qd-UN0ja"
      },
      "source": [
        "This is fairly similar to iterating through a linked list, except instead of looking for the `next` element we're looking for `prev` and going back along that pathway. We also start at `self.last` instead of `self.first`. As soon as we find a `None` element, we stop printing."
      ]
    },
    {
      "cell_type": "code",
      "execution_count": null,
      "metadata": {
        "id": "SlXIHWehN1Xh"
      },
      "outputs": [],
      "source": [
        "class DoublyLinkedList:\n",
        "\n",
        "  def __init__(self):\n",
        "    self.first = None\n",
        "    self.last = None\n",
        "\n",
        "  def length(self):\n",
        "    count = 0\n",
        "    elem = self.first\n",
        "    while elem is not None:\n",
        "      elem = elem.next\n",
        "      count += 1\n",
        "    return count\n",
        "\n",
        "  def print(self):\n",
        "    elem = self.first\n",
        "    while elem is not None:\n",
        "      print(elem.value)\n",
        "      elem = elem.next\n",
        "\n",
        "  def print_backwards(self):\n",
        "    elem = self.last\n",
        "    while elem is not None:\n",
        "      print(elem.value)\n",
        "      elem = elem.prev"
      ]
    },
    {
      "cell_type": "markdown",
      "metadata": {
        "id": "Mc1dXY4inLiJ"
      },
      "source": [
        "## Question 5"
      ]
    },
    {
      "cell_type": "markdown",
      "metadata": {
        "id": "D29eMwNGJnna"
      },
      "source": [
        "Write a method to return the `n`th element of a doubly linked list from either direction. Include a parameter called `start_from_front` that is `True` if you will count from the front and `False` if you count from the back. If there is no `n`th element, raise a `ValueError`."
      ]
    },
    {
      "cell_type": "code",
      "execution_count": null,
      "metadata": {
        "id": "HDY9c_zTKGZb"
      },
      "outputs": [],
      "source": [
        "class DoublyLinkedList:\n",
        "\n",
        "  def __init__(self):\n",
        "    self.first = None\n",
        "\n",
        "  def length(self):\n",
        "    count = 0\n",
        "    elem = self.first\n",
        "    while elem is not None:\n",
        "      elem = elem.next\n",
        "      count += 1\n",
        "    return count\n",
        "\n",
        "  def print(self):\n",
        "    elem = self.first\n",
        "    while elem is not None:\n",
        "      print(elem.value)\n",
        "      elem = elem.next\n",
        "\n",
        "  def get(self, start_from_front, n):\n",
        "    # TODO(you): Implement\n",
        "    print(\"This method has not been implemented.\")"
      ]
    },
    {
      "cell_type": "markdown",
      "metadata": {
        "id": "SRBWfY4RnLiK"
      },
      "source": [
        "### Unit Tests\n",
        "\n",
        "Run the following cell to check your answer against some unit tests."
      ]
    },
    {
      "cell_type": "code",
      "execution_count": null,
      "metadata": {
        "id": "rjDU_w2lLRjb"
      },
      "outputs": [],
      "source": [
        "my_linked_list = DoublyLinkedList()\n",
        "my_linked_list.first = DoublyLinkedListElement(2)\n",
        "elem_three = DoublyLinkedListElement(3)\n",
        "my_linked_list.first.next = elem_three\n",
        "elem_three.prev = my_linked_list.first\n",
        "my_linked_list.last = elem_three\n",
        "\n",
        "print(my_linked_list.get(0, True).value)\n",
        "# Should print: 2\n",
        "\n",
        "print(my_linked_list.get(0, False).value)\n",
        "# Should print: 3\n",
        "\n",
        "print(my_linked_list.get(1, True).value)\n",
        "# Should print: 3\n",
        "\n",
        "print(my_linked_list.get(1, False).value)\n",
        "# Should print: 2\n",
        "\n",
        "print(my_linked_list.get(0, False).value)\n",
        "# Should print: 3\n",
        "\n",
        "print(my_linked_list.get(2, True).value)\n",
        "# Should raise: ValueError"
      ]
    },
    {
      "cell_type": "markdown",
      "metadata": {
        "id": "k8TfKLz7nLiK"
      },
      "source": [
        "### Solution"
      ]
    },
    {
      "cell_type": "markdown",
      "metadata": {
        "id": "O-Q1ARwrKR2T"
      },
      "source": [
        "Given that we need to approach this from either end, we need to set boundary cases. We iterate until the $n^{\\textrm{th}}$ element, then we return the corresponding value. If we hit a `None` element, we exit the loop and raise a ValueError."
      ]
    },
    {
      "cell_type": "code",
      "execution_count": null,
      "metadata": {
        "id": "lMTPdcvVKUxD"
      },
      "outputs": [],
      "source": [
        "class DoublyLinkedList:\n",
        "\n",
        "  def __init__(self):\n",
        "    self.first = None\n",
        "    self.last = None\n",
        "\n",
        "  def length(self):\n",
        "    count = 0\n",
        "    elem = self.first\n",
        "    while elem is not None:\n",
        "      elem = elem.next\n",
        "      count += 1\n",
        "    return count\n",
        "\n",
        "  def print(self):\n",
        "    elem = self.first\n",
        "    while elem is not None:\n",
        "      print(elem.value)\n",
        "      elem = elem.next\n",
        "\n",
        "  def print_backwards(self):\n",
        "    elem = self.last\n",
        "    while elem is not None:\n",
        "      print(elem.value)\n",
        "      elem = elem.prev\n",
        "\n",
        "  # Setting True as a default parameter may lead to unexpected results.\n",
        "  # However, most users would expect this to iterate from the front\n",
        "  # rather than the back, so, it's likely okay to use here.\n",
        "  def get(self, n, start_from_front=True):\n",
        "    counter = 0\n",
        "    if start_from_front:\n",
        "      elem = self.first\n",
        "    else:\n",
        "      elem = self.last\n",
        "    while counter \u003c n:\n",
        "      # If a None type is hit, raise a ValueError.\n",
        "      if elem is None:\n",
        "        raise ValueError(\"Element does not exist at provided index.\")\n",
        "      counter += 1\n",
        "      if start_from_front:\n",
        "        elem = elem.next\n",
        "      else:\n",
        "        elem = elem.prev\n",
        "    # Additionally, to account for an off-by-one error, we should check that\n",
        "    # the element is not None before we return.\n",
        "    if elem is None:\n",
        "        raise ValueError(\"Element does not exist at provided index.\")\n",
        "    return elem"
      ]
    },
    {
      "cell_type": "markdown",
      "metadata": {
        "id": "rAiBpCyznOwd"
      },
      "source": [
        "## Question 6"
      ]
    },
    {
      "cell_type": "markdown",
      "metadata": {
        "id": "HW4u_LOUMH9i"
      },
      "source": [
        "Linked lists and doubly linked lists are especially good for inserting elements. Recall that in a singly linked list, we need only modify the `next` elements of the preceding element and the inserted element itself. With a doubly linked list, we must also modify the `prev` elements of the inserted element and the following element. Even with the additional modifications, inserting into a doubly linked list is still better than inserting into an array, as that would require modifying the indices for *all* elements after the inserted element. \n",
        "\n",
        "Write a method to insert a new `DoublyLinkedListElement` into a `DoublyLinkedList`. The method should accept the new element as well as the place to insert it. For example:\n",
        "\n",
        "- If `position == 0`, the new element should be the new head of the linked list.\n",
        "- If `position == n`, the new element should be inserted between the `(n-1)`th and `n`th element.\n",
        "- If the element will be the final element in the doubly linked list, don't forget to update `self.last`!\n",
        "   \n",
        "Do *not* account for the case where the position is greater than the length of the doubly linked list. Instead, let Python raise an error. Feel free to use previously implemented methods, if that will help."
      ]
    },
    {
      "cell_type": "code",
      "execution_count": null,
      "metadata": {
        "id": "6WpeZgjeM7QN"
      },
      "outputs": [],
      "source": [
        "class DoublyLinkedList:\n",
        "\n",
        "  def __init__(self):\n",
        "    self.first = None\n",
        "    self.last = None\n",
        "\n",
        "  def length(self):\n",
        "    count = 0\n",
        "    elem = self.first\n",
        "    while elem is not None:\n",
        "      elem = elem.next\n",
        "      count += 1\n",
        "    return count\n",
        "\n",
        "  def print(self):\n",
        "    elem = self.first\n",
        "    while elem is not None:\n",
        "      print(elem.value)\n",
        "      elem = elem.next\n",
        "\n",
        "  def insert(self, new, position):\n",
        "    # TODO(you): Implement\n",
        "    print(\"This method has not been implemented.\")"
      ]
    },
    {
      "cell_type": "markdown",
      "metadata": {
        "id": "WbzPNULxnOwe"
      },
      "source": [
        "### Unit Tests\n",
        "\n",
        "Run the following cell to check your answer against some unit tests."
      ]
    },
    {
      "cell_type": "code",
      "execution_count": null,
      "metadata": {
        "id": "NbaeuBWIT6pQ"
      },
      "outputs": [],
      "source": [
        "my_linked_list = DoublyLinkedList()\n",
        "\n",
        "my_linked_list.first = DoublyLinkedListElement(2)\n",
        "new_elem = DoublyLinkedListElement(3)\n",
        "my_linked_list.first.next = new_elem\n",
        "new_elem.prev = my_linked_list.first\n",
        "my_linked_list.last = new_elem\n",
        "my_linked_list.print()\n",
        "# Should print multiline:\n",
        "# 2\n",
        "# 3\n",
        "\n",
        "my_linked_list.insert(DoublyLinkedListElement(4), 1)\n",
        "my_linked_list.print()\n",
        "# Should print multiline:\n",
        "# 2\n",
        "# 4\n",
        "# 3\n",
        "\n",
        "my_linked_list.insert(DoublyLinkedListElement(5), 0)\n",
        "my_linked_list.print()\n",
        "# Should print multiline:\n",
        "# 5\n",
        "# 2\n",
        "# 4\n",
        "# 3\n",
        "\n",
        "my_linked_list.insert(DoublyLinkedListElement(6), 10)\n",
        "# Should raise: ValueError"
      ]
    },
    {
      "cell_type": "markdown",
      "metadata": {
        "id": "CY4YRX-lnOwe"
      },
      "source": [
        "### Solution"
      ]
    },
    {
      "cell_type": "markdown",
      "metadata": {
        "id": "KteST5bMNaj2"
      },
      "source": [
        "The algorithm relies heavily on the `get` method. We use this to get the elements that we need to alter. The exact implementation varies based on whether we are inserting at the head of the linked list or otherwise. Careful, though -- if you try to call `get` with an element that's out of bounds, you'll raise a `ValueError`! Instead, check to see if you're going out of bounds before you call `get`. This may lead you to three special cases. One if you're inserting at the beginning, one if you're trying to \"insert\" (append) at the end, and one if you're starting a new list via `insert`."
      ]
    },
    {
      "cell_type": "code",
      "execution_count": null,
      "metadata": {
        "id": "q4hAs0TgNZ7o"
      },
      "outputs": [],
      "source": [
        "class DoublyLinkedList:\n",
        "\n",
        "  def __init__(self):\n",
        "    self.first = None\n",
        "    self.last = None\n",
        "\n",
        "  def length(self):\n",
        "    count = 0\n",
        "    elem = self.first\n",
        "    while elem is not None:\n",
        "      elem = elem.next\n",
        "      count += 1\n",
        "    return count\n",
        "\n",
        "  def print(self):\n",
        "    elem = self.first\n",
        "    while elem is not None:\n",
        "      print(elem.value)\n",
        "      elem = elem.next\n",
        "\n",
        "  def print_backwards(self):\n",
        "    elem = self.last\n",
        "    while elem is not None:\n",
        "      print(elem.value)\n",
        "      elem = elem.prev\n",
        "\n",
        "  def get(self, n, start_from_front=True):\n",
        "    counter = 0\n",
        "    if start_from_front:\n",
        "      elem = self.first\n",
        "    else:\n",
        "      elem = self.last\n",
        "    while counter \u003c n:\n",
        "      # If a None type is hit, raise a ValueError.\n",
        "      if elem is None:\n",
        "        raise ValueError(\"Element does not exist at provided index.\")\n",
        "      counter += 1\n",
        "      if start_from_front:\n",
        "        elem = elem.next\n",
        "      else:\n",
        "        elem = elem.prev\n",
        "    # Additionally, to account for an off-by-one error, we should check that\n",
        "    # the element is not None before we return.\n",
        "    if elem is None:\n",
        "        raise ValueError(\"Element does not exist at provided index.\")\n",
        "    return elem\n",
        "\n",
        "  def insert(self, new, position):\n",
        "    # Special case 1: The list has 0 elements.\n",
        "    if self.length() == 0:\n",
        "      self.first = new\n",
        "      self.last = new\n",
        "      return\n",
        "    # Special case 2: Inserting at the front of the list.\n",
        "    if position == 0:\n",
        "      new.next = self.first\n",
        "      self.first.prev = new\n",
        "      self.first = new\n",
        "      return\n",
        "    # Special case 3: Inserting at the end of the list.\n",
        "    if position == self.length():\n",
        "      self.last.next = new\n",
        "      new.prev = self.last\n",
        "      self.last = new\n",
        "      return\n",
        "    # General case.\n",
        "    elem = self.get(position)\n",
        "    new.next = elem\n",
        "    prev = self.get(position - 1)\n",
        "    prev.next = new\n",
        "    new.prev = prev"
      ]
    },
    {
      "cell_type": "markdown",
      "metadata": {
        "id": "qTPPhPJbnPfy"
      },
      "source": [
        "## Question 7"
      ]
    },
    {
      "cell_type": "markdown",
      "metadata": {
        "id": "oTVE7bzYUNdO"
      },
      "source": [
        "Now, let's do the opposite! Write a method to remove an element from a doubly linked list. Follow the same guidelines you used for inserting a new element in the previous problem."
      ]
    },
    {
      "cell_type": "code",
      "execution_count": null,
      "metadata": {
        "id": "8IIVGCNSUXpN"
      },
      "outputs": [],
      "source": [
        "class DoublyLinkedList:\n",
        "\n",
        "  def __init__(self):\n",
        "    self.first = None\n",
        "    self.prev = None\n",
        "\n",
        "  def length(self):\n",
        "    count = 0\n",
        "    elem = self.first\n",
        "    while elem is not None:\n",
        "      elem = elem.next\n",
        "      count += 1\n",
        "    return count\n",
        "\n",
        "  def print(self):\n",
        "    elem = self.first\n",
        "    while elem is not None:\n",
        "      print(elem.value)\n",
        "      elem = elem.next\n",
        "\n",
        "  def remove(self, position):\n",
        "    # TODO(you): Implement\n",
        "    print(\"This method has not been implemented.\")"
      ]
    },
    {
      "cell_type": "markdown",
      "metadata": {
        "id": "RawJXQFsnPfz"
      },
      "source": [
        "### Unit Tests\n",
        "\n",
        "Run the following cell to check your answer against some unit tests."
      ]
    },
    {
      "cell_type": "code",
      "execution_count": null,
      "metadata": {
        "id": "YzCSlQdMbeKH"
      },
      "outputs": [],
      "source": [
        "my_linked_list = DoublyLinkedList()\n",
        "\n",
        "my_linked_list.insert(DoublyLinkedListElement(2), 0)\n",
        "my_linked_list.insert(DoublyLinkedListElement(3), 1)\n",
        "my_linked_list.insert(DoublyLinkedListElement(5), 2)\n",
        "my_linked_list.print()\n",
        "# Should print multiline:\n",
        "# 2\n",
        "# 3\n",
        "# 5\n",
        "\n",
        "my_linked_list.remove(1)\n",
        "my_linked_list.print()\n",
        "# Should print multiline:\n",
        "# 2\n",
        "# 5\n",
        "\n",
        "my_linked_list.remove(0)\n",
        "my_linked_list.print()\n",
        "# Should print: 5\n",
        "\n",
        "my_linked_list.remove(1)\n",
        "# Should raise: ValueError"
      ]
    },
    {
      "cell_type": "markdown",
      "metadata": {
        "id": "FT9X8qCrnPfz"
      },
      "source": [
        "### Solution"
      ]
    },
    {
      "cell_type": "markdown",
      "metadata": {
        "id": "K4SvSK4FXy8F"
      },
      "source": [
        "For this method, what we need to do is take the previous element, and point its `next` to the element after the one we are removing. The element after the one we are removing should also be updated so that its `prev` points to the previous element."
      ]
    },
    {
      "cell_type": "code",
      "execution_count": null,
      "metadata": {
        "id": "1IB9aQMSXzfJ"
      },
      "outputs": [],
      "source": [
        "class DoublyLinkedList:\n",
        "\n",
        "  def __init__(self):\n",
        "    self.first = None\n",
        "    self.last = None\n",
        "\n",
        "  def length(self):\n",
        "    count = 0\n",
        "    elem = self.first\n",
        "    while elem is not None:\n",
        "      elem = elem.next\n",
        "      count += 1\n",
        "    return count\n",
        "\n",
        "  def print(self):\n",
        "    elem = self.first\n",
        "    while elem is not None:\n",
        "      print(elem.value)\n",
        "      elem = elem.next\n",
        "\n",
        "  def print_backwards(self):\n",
        "    elem = self.last\n",
        "    while elem is not None:\n",
        "      print(elem.value)\n",
        "      elem = elem.prev\n",
        "\n",
        "  def get(self, n, start_from_front=True):\n",
        "    counter = 0\n",
        "    if start_from_front:\n",
        "      elem = self.first\n",
        "    else:\n",
        "      elem = self.last\n",
        "    while counter \u003c n:\n",
        "      # If a None type is hit, raise a ValueError.\n",
        "      if elem is None:\n",
        "        raise ValueError(\"Element does not exist at provided index.\")\n",
        "      counter += 1\n",
        "      if start_from_front:\n",
        "        elem = elem.next\n",
        "      else:\n",
        "        elem = elem.prev\n",
        "    # Additionally, to account for an off-by-one error, we should check that\n",
        "    # the element is not None before we return.\n",
        "    if elem is None:\n",
        "        raise ValueError(\"Element does not exist at provided index.\")\n",
        "    return elem\n",
        "\n",
        "  def insert(self, new, position):\n",
        "    if self.length() == 0:\n",
        "      self.first = new\n",
        "      self.last = new\n",
        "      return\n",
        "    if position == 0:\n",
        "      new.next = self.first\n",
        "      self.first.prev = new\n",
        "      self.first = new\n",
        "      return\n",
        "    if position == self.length():\n",
        "      self.last.next = new\n",
        "      new.prev = self.last\n",
        "      self.last = new\n",
        "      return\n",
        "    elem = self.get(position)\n",
        "    new.next = elem\n",
        "    prev = self.get(position - 1)\n",
        "    prev.next = new\n",
        "    new.prev = prev\n",
        "\n",
        "  def remove(self, position):\n",
        "    if position == 0:\n",
        "      self.first = self.first.next\n",
        "      self.first.prev = None\n",
        "    elif position == self.length() - 1:\n",
        "      self.last = self.last.prev\n",
        "      self.last.next = None\n",
        "    else:\n",
        "      prev_elem = self.get(position - 1)\n",
        "      next_elem = self.get(position).next\n",
        "      prev_elem.next = next_elem\n",
        "      next_elem.prev = prev_elem"
      ]
    },
    {
      "cell_type": "markdown",
      "metadata": {
        "id": "5dcjmfURnbtE"
      },
      "source": [
        "## Question 8"
      ]
    },
    {
      "cell_type": "markdown",
      "metadata": {
        "id": "DjwPZ-p1nrjI"
      },
      "source": [
        "This question deals with a less-common data structure that sees some use in some languages is the *deque*, or a double-ended queue. "
      ]
    },
    {
      "cell_type": "markdown",
      "metadata": {
        "id": "uqNc8WHwdPWp"
      },
      "source": [
        "A deque is typically implemented as a doubly linked list, like so:"
      ]
    },
    {
      "cell_type": "markdown",
      "metadata": {
        "id": "d_KPswgaAusJ"
      },
      "source": [
        "```python\n",
        "class Deque(DoublyLinkedList):\n",
        "  pass\n",
        "```  "
      ]
    },
    {
      "cell_type": "markdown",
      "metadata": {
        "id": "UhV1m5y7pJW0"
      },
      "source": [
        "This is an example of [class inheritance](https://en.wikipedia.org/wiki/Inheritance_(object-oriented_programming)), where the new class `Deque` inherits all the same methods from the backing class `DoublyLinkedList`. A deque is commonly used as a hybrid of a stack and a queue; you may insert or remove from either end, depending on your needs.\n",
        "\n",
        "For our deque class, first implement the `append_right` and `append_left` methods, which will add an element to the right and left sides of the deque, respectively. You may use the methods of the `DoublyLinkedList`, which we've listed below:"
      ]
    },
    {
      "cell_type": "code",
      "execution_count": null,
      "metadata": {
        "id": "ziUmzQjMqITd"
      },
      "outputs": [],
      "source": [
        "class DoublyLinkedList:\n",
        "\n",
        "  def __init__(self):\n",
        "    self.first = None\n",
        "    self.last = None\n",
        "\n",
        "  def length(self):\n",
        "    count = 0\n",
        "    elem = self.first\n",
        "    while elem is not None:\n",
        "      elem = elem.next\n",
        "      count += 1\n",
        "    return count\n",
        "\n",
        "  def print(self):\n",
        "    elem = self.first\n",
        "    while elem is not None:\n",
        "      print(elem.value)\n",
        "      elem = elem.next\n",
        "\n",
        "  def print_backwards(self):\n",
        "    elem = self.last\n",
        "    while elem is not None:\n",
        "      print(elem.value)\n",
        "      elem = elem.prev\n",
        "\n",
        "  def get(self, n, start_from_front=True):\n",
        "    counter = 0\n",
        "    if start_from_front:\n",
        "      elem = self.first\n",
        "    else:\n",
        "      elem = self.last\n",
        "    while counter \u003c n:\n",
        "      # If a None type is hit, raise a ValueError.\n",
        "      if elem is None:\n",
        "        raise ValueError(\"Element does not exist at provided index.\")\n",
        "      counter += 1\n",
        "      if start_from_front:\n",
        "        elem = elem.next\n",
        "      else:\n",
        "        elem = elem.prev\n",
        "    # Additionally, to account for an off-by-one error, we should check that\n",
        "    # the element is not None before we return.\n",
        "    if elem is None:\n",
        "        raise ValueError(\"Element does not exist at provided index.\")\n",
        "    return elem\n",
        "\n",
        "  def insert(self, new, position):\n",
        "    if self.length() == 0:\n",
        "      self.first = new\n",
        "      self.last = new\n",
        "      return\n",
        "    if position == 0:\n",
        "      new.next = self.first\n",
        "      self.first.prev = new\n",
        "      self.first = new\n",
        "      return\n",
        "    if position == self.length():\n",
        "      self.last.next = new\n",
        "      new.prev = self.last\n",
        "      self.last = new\n",
        "      return\n",
        "    elem = self.get(position)\n",
        "    new.next = elem\n",
        "    prev = self.get(position - 1)\n",
        "    prev.next = new\n",
        "    new.prev = prev\n",
        "\n",
        "  def remove(self, position):\n",
        "    if position == 0:\n",
        "      self.first = self.first.next\n",
        "      self.first.prev = None\n",
        "    elif position == self.length() - 1:\n",
        "      self.last = self.last.prev\n",
        "      self.last.next = None\n",
        "    else:\n",
        "      prev_elem = self.get(position - 1)\n",
        "      next_elem = self.get(position).next\n",
        "      prev_elem.next = next_elem\n",
        "      next_elem.prev = prev_elem"
      ]
    },
    {
      "cell_type": "code",
      "execution_count": null,
      "metadata": {
        "id": "r3lDSHV1eZnW"
      },
      "outputs": [],
      "source": [
        "class Deque(DoublyLinkedList):\n",
        "  \n",
        "  def append_right(self, element):\n",
        "    # TODO(you): implement\n",
        "    print(\"This method has not been implemented.\")\n",
        "  \n",
        "  def append_left(self, element):\n",
        "    # TODO(you): implement\n",
        "    print(\"This method has not been implemented.\")"
      ]
    },
    {
      "cell_type": "markdown",
      "metadata": {
        "id": "J5LQlFLLnbtF"
      },
      "source": [
        "### Unit Tests\n",
        "\n",
        "Run the following cell to check your answer against some unit tests."
      ]
    },
    {
      "cell_type": "code",
      "execution_count": null,
      "metadata": {
        "id": "vvRxYozJqR7R"
      },
      "outputs": [],
      "source": [
        "my_deque = Deque()\n",
        "print(my_deque.length())\n",
        "# Should print: 0\n",
        "\n",
        "my_deque.append_right(DoublyLinkedListElement(7))\n",
        "print(my_deque.length())\n",
        "# Should print: 1\n",
        "\n",
        "my_deque.print()\n",
        "# Should print: 7\n",
        "\n",
        "my_deque.append_left(DoublyLinkedListElement(15))\n",
        "print(my_deque.length())\n",
        "# Should print: 2\n",
        "\n",
        "my_deque.print()\n",
        "# Should print multiline:\n",
        "# 15\n",
        "# 7\n",
        "\n",
        "my_deque.append_right(DoublyLinkedListElement(8))\n",
        "print(my_deque.length())\n",
        "# Should print: 3\n",
        "\n",
        "my_deque.print()\n",
        "# Should print multiline:\n",
        "# 15\n",
        "# 7\n",
        "# 8\n",
        "\n",
        "my_deque.append_left(DoublyLinkedListElement(20))\n",
        "print(my_deque.length())\n",
        "# Should print: 4\n",
        "\n",
        "my_deque.print()\n",
        "# Should print multiline:\n",
        "# 20\n",
        "# 15\n",
        "# 7\n",
        "# 8"
      ]
    },
    {
      "cell_type": "markdown",
      "metadata": {
        "id": "bDKIsSkznbtF"
      },
      "source": [
        "### Solution"
      ]
    },
    {
      "cell_type": "markdown",
      "metadata": {
        "id": "pgqXbDn6qkbL"
      },
      "source": [
        "These methods rely pretty heavily on `insert`; it just becomes a question of what index you provide to the method."
      ]
    },
    {
      "cell_type": "code",
      "execution_count": null,
      "metadata": {
        "id": "XycC3lcxed1O"
      },
      "outputs": [],
      "source": [
        "class Deque(DoublyLinkedList):\n",
        "  \n",
        "  def append_right(self, element):\n",
        "    self.insert(element, self.length())\n",
        "  \n",
        "  def append_left(self, element):\n",
        "    self.insert(element, 0)"
      ]
    },
    {
      "cell_type": "markdown",
      "metadata": {
        "id": "7NdOHl_nnctK"
      },
      "source": [
        "## Question 9"
      ]
    },
    {
      "cell_type": "markdown",
      "metadata": {
        "id": "uuzxrgdysY0z"
      },
      "source": [
        "Let's implement `pop_right` and `pop_left`, next. These methods should remove the rightmost and leftmost elements from the deque. Don't forget to update any variables, if needed."
      ]
    },
    {
      "cell_type": "code",
      "execution_count": null,
      "metadata": {
        "id": "8i8BUzqcVaNR"
      },
      "outputs": [],
      "source": [
        "class DoublyLinkedList:\n",
        "\n",
        "  def __init__(self):\n",
        "    self.first = None\n",
        "    self.last = None\n",
        "\n",
        "  def length(self):\n",
        "    count = 0\n",
        "    elem = self.first\n",
        "    while elem is not None:\n",
        "      elem = elem.next\n",
        "      count += 1\n",
        "    return count\n",
        "\n",
        "  def print(self):\n",
        "    elem = self.first\n",
        "    while elem is not None:\n",
        "      print(elem.value)\n",
        "      elem = elem.next\n",
        "\n",
        "  def print_backwards(self):\n",
        "    elem = self.last\n",
        "    while elem is not None:\n",
        "      print(elem.value)\n",
        "      elem = elem.prev\n",
        "\n",
        "  def get(self, n, start_from_front=True):\n",
        "    counter = 0\n",
        "    if start_from_front:\n",
        "      elem = self.first\n",
        "    else:\n",
        "      elem = self.last\n",
        "    while counter \u003c n:\n",
        "      # If a None type is hit, raise a ValueError.\n",
        "      if elem is None:\n",
        "        raise ValueError(\"Element does not exist at provided index.\")\n",
        "      counter += 1\n",
        "      if start_from_front:\n",
        "        elem = elem.next\n",
        "      else:\n",
        "        elem = elem.prev\n",
        "    # Additionally, to account for an off-by-one error, we should check that\n",
        "    # the element is not None before we return.\n",
        "    if elem is None:\n",
        "        raise ValueError(\"Element does not exist at provided index.\")\n",
        "    return elem\n",
        "\n",
        "  def insert(self, new, position):\n",
        "    if self.length() == 0:\n",
        "      self.first = new\n",
        "      self.last = new\n",
        "      return\n",
        "    if position == 0:\n",
        "      new.next = self.first\n",
        "      self.first.prev = new\n",
        "      self.first = new\n",
        "      return\n",
        "    if position == self.length():\n",
        "      self.last.next = new\n",
        "      new.prev = self.last\n",
        "      self.last = new\n",
        "      return\n",
        "    elem = self.get(position)\n",
        "    new.next = elem\n",
        "    prev = self.get(position - 1)\n",
        "    prev.next = new\n",
        "    new.prev = prev\n",
        "\n",
        "  def remove(self, position):\n",
        "    if position == 0:\n",
        "      self.first = self.first.next\n",
        "      self.first.prev = None\n",
        "    elif position == self.length() - 1:\n",
        "      self.last = self.last.prev\n",
        "      self.last.next = None\n",
        "    else:\n",
        "      prev_elem = self.get(position - 1)\n",
        "      next_elem = self.get(position).next\n",
        "      prev_elem.next = next_elem\n",
        "      next_elem.prev = prev_elem"
      ]
    },
    {
      "cell_type": "code",
      "execution_count": null,
      "metadata": {
        "id": "WBzEfFKKwaq-"
      },
      "outputs": [],
      "source": [
        "class Deque(DoublyLinkedList):\n",
        "  \n",
        "  def pop_right(self):\n",
        "    # TODO(you): implement\n",
        "    print(\"This method has not been implemented.\")\n",
        "  \n",
        "  def pop_left(self):\n",
        "    # TODO(you): implement\n",
        "    print(\"This method has not been implemented.\")"
      ]
    },
    {
      "cell_type": "markdown",
      "metadata": {
        "id": "vY3YzjGjnctL"
      },
      "source": [
        "### Unit Tests\n",
        "\n",
        "Run the following cell to check your answer against some unit tests."
      ]
    },
    {
      "cell_type": "code",
      "execution_count": null,
      "metadata": {
        "id": "Ib2tfQ0d1an9"
      },
      "outputs": [],
      "source": [
        "my_deque = Deque()\n",
        "\n",
        "my_deque.append_right(DoublyLinkedListElement(7))\n",
        "my_deque.append_right(DoublyLinkedListElement(8))\n",
        "my_deque.append_left(DoublyLinkedListElement(15))\n",
        "my_deque.print()\n",
        "# Should print multiline:\n",
        "# 15\n",
        "# 7\n",
        "# 8\n",
        "\n",
        "my_deque.pop_left()\n",
        "my_deque.print()\n",
        "# Should print multiline:\n",
        "# 7\n",
        "# 8\n",
        "\n",
        "my_deque.pop_right()\n",
        "my_deque.print()\n",
        "# Should print multiline:\n",
        "# 7"
      ]
    },
    {
      "cell_type": "markdown",
      "metadata": {
        "id": "3KMlgBGZnctM"
      },
      "source": [
        "### Solution"
      ]
    },
    {
      "cell_type": "markdown",
      "metadata": {
        "id": "M7YAufBb0NLW"
      },
      "source": [
        "These methods lean more heavily on `remove`. Again, keeping track of which index you're using is key. A common error here, though, is forgetting that remove doesn't return the element. We must first call `get()`, *then* `remove()`."
      ]
    },
    {
      "cell_type": "code",
      "execution_count": null,
      "metadata": {
        "id": "o9JGgBe30N4L"
      },
      "outputs": [],
      "source": [
        "class Deque(DoublyLinkedList):\n",
        "  \n",
        "  def append_right(self, element):\n",
        "    self.insert(element, self.length())\n",
        "  \n",
        "  def append_left(self, element):\n",
        "    self.insert(element, 0)\n",
        "  \n",
        "  def pop_right(self):\n",
        "    element = self.get(self.length() - 1)\n",
        "    self.remove(self.length() - 1)\n",
        "    return element\n",
        "  \n",
        "  def pop_left(self):\n",
        "    element = self.get(0)\n",
        "    self.remove(0)\n",
        "    return element"
      ]
    },
    {
      "cell_type": "markdown",
      "metadata": {
        "id": "WnKHM8jCneen"
      },
      "source": [
        "## Question 10"
      ]
    },
    {
      "cell_type": "markdown",
      "metadata": {
        "id": "dn0nZC1z6VYl"
      },
      "source": [
        "[Advanced] There are several ways to apply deques; one of them is a deck of cards, where each card is connected to the card on top of it and below it (as `prev` and `next`, respectively). Let's implement a few methods for it, like `rotate`. For a given number `n`, if `n` is positive, it moves all the cards in the deck `n` steps to the right (wrapping around, so cards being moved off the bottom of the deck get moved to the top). If `n` is negative, it moves all the elements to the left (so elements on top of the deck move to the bottom)."
      ]
    },
    {
      "cell_type": "code",
      "execution_count": null,
      "metadata": {
        "id": "2FWkQponVdXb"
      },
      "outputs": [],
      "source": [
        "class DoublyLinkedList:\n",
        "\n",
        "  def __init__(self):\n",
        "    self.first = None\n",
        "    self.last = None\n",
        "\n",
        "  def length(self):\n",
        "    count = 0\n",
        "    elem = self.first\n",
        "    while elem is not None:\n",
        "      elem = elem.next\n",
        "      count += 1\n",
        "    return count\n",
        "\n",
        "  def print(self):\n",
        "    elem = self.first\n",
        "    while elem is not None:\n",
        "      print(elem.value)\n",
        "      elem = elem.next\n",
        "\n",
        "  def print_backwards(self):\n",
        "    elem = self.last\n",
        "    while elem is not None:\n",
        "      print(elem.value)\n",
        "      elem = elem.prev\n",
        "\n",
        "  def get(self, n, start_from_front=True):\n",
        "    counter = 0\n",
        "    if start_from_front:\n",
        "      elem = self.first\n",
        "    else:\n",
        "      elem = self.last\n",
        "    while counter \u003c n:\n",
        "      # If a None type is hit, raise a ValueError.\n",
        "      if elem is None:\n",
        "        raise ValueError(\"Element does not exist at provided index.\")\n",
        "      counter += 1\n",
        "      if start_from_front:\n",
        "        elem = elem.next\n",
        "      else:\n",
        "        elem = elem.prev\n",
        "    # Additionally, to account for an off-by-one error, we should check that\n",
        "    # the element is not None before we return.\n",
        "    if elem is None:\n",
        "        raise ValueError(\"Element does not exist at provided index.\")\n",
        "    return elem\n",
        "\n",
        "  def insert(self, new, position):\n",
        "    if self.length() == 0:\n",
        "      self.first = new\n",
        "      self.last = new\n",
        "      return\n",
        "    if position == 0:\n",
        "      new.next = self.first\n",
        "      self.first.prev = new\n",
        "      self.first = new\n",
        "      return\n",
        "    if position == self.length():\n",
        "      self.last.next = new\n",
        "      new.prev = self.last\n",
        "      self.last = new\n",
        "      return\n",
        "    elem = self.get(position)\n",
        "    new.next = elem\n",
        "    prev = self.get(position - 1)\n",
        "    prev.next = new\n",
        "    new.prev = prev\n",
        "\n",
        "  def remove(self, position):\n",
        "    if position == 0:\n",
        "      self.first = self.first.next\n",
        "      self.first.prev = None\n",
        "    elif position == self.length() - 1:\n",
        "      self.last = self.last.prev\n",
        "      self.last.next = None\n",
        "    else:\n",
        "      prev_elem = self.get(position - 1)\n",
        "      next_elem = self.get(position).next\n",
        "      prev_elem.next = next_elem\n",
        "      next_elem.prev = prev_elem"
      ]
    },
    {
      "cell_type": "code",
      "execution_count": null,
      "metadata": {
        "id": "tjFiCG3t6VYr"
      },
      "outputs": [],
      "source": [
        "class Deck(Deque):\n",
        "  \n",
        "  def rotate(self, n):\n",
        "    # TODO(you): Implement\n",
        "    print(\"This method has not been implemented.\")"
      ]
    },
    {
      "cell_type": "markdown",
      "metadata": {
        "id": "sk7TgPlpxKfh"
      },
      "source": [
        "You can use any of the methods defined throughout this lesson, as well as methods you've implemented for `Deque`."
      ]
    },
    {
      "cell_type": "markdown",
      "metadata": {
        "id": "kuLabR1zneen"
      },
      "source": [
        "### Unit Tests\n",
        "\n",
        "Run the following cell to check your answer against some unit tests."
      ]
    },
    {
      "cell_type": "code",
      "execution_count": null,
      "metadata": {
        "id": "HEEfmJCx6VYv"
      },
      "outputs": [],
      "source": [
        "cards = Deck()\n",
        "\n",
        "cards.append_right(DoublyLinkedListElement('Ace of Spades'))\n",
        "cards.append_right(DoublyLinkedListElement('Two of Hearts'))\n",
        "cards.append_right(DoublyLinkedListElement('Three of Clubs'))\n",
        "cards.print()\n",
        "# Should print multiline:\n",
        "# Ace of Spades\n",
        "# Two of Hearts\n",
        "# Three of Clubs\n",
        "\n",
        "cards.rotate(2)\n",
        "cards.print()\n",
        "# Should print multiline:\n",
        "# Two of Hearts\n",
        "# Three of Clubs\n",
        "# Ace of Spades\n",
        "\n",
        "cards.rotate(-1)\n",
        "cards.print()\n",
        "# Should print multiline:\n",
        "# Three of Clubs\n",
        "# Ace of Spades\n",
        "# Two of Hearts"
      ]
    },
    {
      "cell_type": "markdown",
      "metadata": {
        "id": "iGPe2l2wneeo"
      },
      "source": [
        "### Solution"
      ]
    },
    {
      "cell_type": "markdown",
      "metadata": {
        "id": "0lO1qQH-7PcH"
      },
      "source": [
        "This one works best if you've already implemented `append_right`, `append_left`, `pop_right`, and `pop_left`. For this, use whether or not `n` is positive to decide which direction to rotate, and then rotate.\n",
        "\n",
        "One potential bug you may run into depends on your previous implementations. Essentially, it's not the responsibility of the `append` or `insert` methods to guarantee that your element data is good, so as you rotate, it's likely best to clear each element's `next` and `prev` so that you're treating it as a new addition."
      ]
    },
    {
      "cell_type": "code",
      "execution_count": null,
      "metadata": {
        "id": "FmddQKFC7PcI"
      },
      "outputs": [],
      "source": [
        "class Deque(DoublyLinkedList):\n",
        "  \n",
        "  def append_right(self, element):\n",
        "    self.insert(element, self.length())\n",
        "  \n",
        "  def append_left(self, element):\n",
        "    self.insert(element, 0)\n",
        "  \n",
        "  def pop_right(self):\n",
        "    element = self.get(self.length() - 1)\n",
        "    self.remove(self.length() - 1)\n",
        "    return element\n",
        "  \n",
        "  def pop_left(self):\n",
        "    element = self.get(0)\n",
        "    self.remove(0)\n",
        "    return element\n",
        "\n",
        "\n",
        "class Deck(Deque):\n",
        "  \n",
        "  def rotate(self, n):\n",
        "    rotate_right = True\n",
        "    if n \u003c 0:\n",
        "      rotate_right = False\n",
        "    n = abs(n)\n",
        "    while (n \u003e 0):\n",
        "      if (rotate_right):\n",
        "        element = self.pop_right()\n",
        "        element.next = None\n",
        "        element.prev = None\n",
        "        self.append_left(element)\n",
        "      else:\n",
        "        element = self.pop_left()\n",
        "        element.next = None\n",
        "        element.prev = None\n",
        "        self.append_right(element)\n",
        "      n -= 1"
      ]
    },
    {
      "cell_type": "markdown",
      "metadata": {
        "id": "CBCFjXkLsrFx"
      },
      "source": [
        "## Question 11"
      ]
    },
    {
      "cell_type": "markdown",
      "metadata": {
        "id": "LJmoq3USuNsv"
      },
      "source": [
        "[Advanced] A classic card game technique is the **[overhand shuffle](https://en.wikipedia.org/wiki/Shuffling#Overhand_shuffle)**, in which you take a group of cards out of the middle of the deck and move it to either the top or bottom of the deck to gradually randomize the card order. It's not the best shuffling method, but it also has some uses for card-based magic tricks. Let's implement it! For this one, assume `start_loc` is the index you want to start pulling cards from, `num_cards` is the number of cards you are moving, and `place_on_top` is `True` if the cards are being put on top of the deck, and `False` otherwise. If someone attempts to grab more cards than are available, just limit them to the remaining cards (the `min` function will help you, here)."
      ]
    },
    {
      "cell_type": "code",
      "execution_count": null,
      "metadata": {
        "id": "9mlajT_YVfvk"
      },
      "outputs": [],
      "source": [
        "class DoublyLinkedList:\n",
        "\n",
        "  def __init__(self):\n",
        "    self.first = None\n",
        "    self.last = None\n",
        "\n",
        "  def length(self):\n",
        "    count = 0\n",
        "    elem = self.first\n",
        "    while elem is not None:\n",
        "      elem = elem.next\n",
        "      count += 1\n",
        "    return count\n",
        "\n",
        "  def print(self):\n",
        "    elem = self.first\n",
        "    while elem is not None:\n",
        "      print(elem.value)\n",
        "      elem = elem.next\n",
        "\n",
        "  def print_backwards(self):\n",
        "    elem = self.last\n",
        "    while elem is not None:\n",
        "      print(elem.value)\n",
        "      elem = elem.prev\n",
        "\n",
        "  def get(self, n, start_from_front=True):\n",
        "    counter = 0\n",
        "    if start_from_front:\n",
        "      elem = self.first\n",
        "    else:\n",
        "      elem = self.last\n",
        "    while counter \u003c n:\n",
        "      # If a None type is hit, raise a ValueError.\n",
        "      if elem is None:\n",
        "        raise ValueError(\"Element does not exist at provided index.\")\n",
        "      counter += 1\n",
        "      if start_from_front:\n",
        "        elem = elem.next\n",
        "      else:\n",
        "        elem = elem.prev\n",
        "    # Additionally, to account for an off-by-one error, we should check that\n",
        "    # the element is not None before we return.\n",
        "    if elem is None:\n",
        "        raise ValueError(\"Element does not exist at provided index.\")\n",
        "    return elem\n",
        "\n",
        "  def insert(self, new, position):\n",
        "    if self.length() == 0:\n",
        "      self.first = new\n",
        "      self.last = new\n",
        "      return\n",
        "    if position == 0:\n",
        "      new.next = self.first\n",
        "      self.first.prev = new\n",
        "      self.first = new\n",
        "      return\n",
        "    if position == self.length():\n",
        "      self.last.next = new\n",
        "      new.prev = self.last\n",
        "      self.last = new\n",
        "      return\n",
        "    elem = self.get(position)\n",
        "    new.next = elem\n",
        "    prev = self.get(position - 1)\n",
        "    prev.next = new\n",
        "    new.prev = prev\n",
        "\n",
        "  def remove(self, position):\n",
        "    if position == 0:\n",
        "      self.first = self.first.next\n",
        "      self.first.prev = None\n",
        "    elif position == self.length() - 1:\n",
        "      self.last = self.last.prev\n",
        "      self.last.next = None\n",
        "    else:\n",
        "      prev_elem = self.get(position - 1)\n",
        "      next_elem = self.get(position).next\n",
        "      prev_elem.next = next_elem\n",
        "      next_elem.prev = prev_elem"
      ]
    },
    {
      "cell_type": "code",
      "execution_count": null,
      "metadata": {
        "id": "JVA-9-f2VncW"
      },
      "outputs": [],
      "source": [
        "class Deque(DoublyLinkedList):\n",
        "  \n",
        "  def append_right(self, element):\n",
        "    self.insert(element, self.length())\n",
        "  \n",
        "  def append_left(self, element):\n",
        "    self.insert(element, 0)\n",
        "  \n",
        "  def pop_right(self):\n",
        "    element = self.get(self.length() - 1)\n",
        "    self.remove(self.length() - 1)\n",
        "    return element\n",
        "  \n",
        "  def pop_left(self):\n",
        "    element = self.get(0)\n",
        "    self.remove(0)\n",
        "    return element\n",
        "\n",
        "\n",
        "class Deck(Deque):\n",
        "  \n",
        "  def rotate(self, n):\n",
        "    rotate_right = True\n",
        "    if n \u003c 0:\n",
        "      rotate_right = False\n",
        "    n = abs(n)\n",
        "    while (n \u003e 0):\n",
        "      if (rotate_right):\n",
        "        element = self.pop_right()\n",
        "        element.next = None\n",
        "        element.prev = None\n",
        "        self.append_left(element)\n",
        "      else:\n",
        "        element = self.pop_left()\n",
        "        element.next = None\n",
        "        element.prev = None\n",
        "        self.append_right(element)\n",
        "      n -= 1"
      ]
    },
    {
      "cell_type": "code",
      "execution_count": null,
      "metadata": {
        "id": "pyj221R4uNsx"
      },
      "outputs": [],
      "source": [
        "class Deck(Deque):\n",
        "  \n",
        "  def overhand_shuffle(self, start_loc, num_cards, place_on_top=True):\n",
        "    \"\"\"Performs an overhand shuffle on a \"deck\" of playing cards.\n",
        "\n",
        "    Args:\n",
        "      start_loc: int. The index to start pulling cards from.\n",
        "      num_cards: int. The number of cards to grab for the shuffle.\n",
        "      place_on_top: boolean. True if the cards should be placed on top of the\n",
        "        deck, False if the cards should be placed on the bottom of the deck.\n",
        "    \"\"\"\n",
        "    num_cards_to_grab = min(num_cards, self.length() - start_loc)\n",
        "    # TODO(you): implement\n",
        "    print(\"This method has not been implemented.\")"
      ]
    },
    {
      "cell_type": "markdown",
      "metadata": {
        "id": "Rn_NxYmCuNs2"
      },
      "source": [
        "Again, you can use any of the methods defined throughout this lesson, as well as methods you've implemented for `Deque`."
      ]
    },
    {
      "cell_type": "markdown",
      "metadata": {
        "id": "mWmusQ2UsrFy"
      },
      "source": [
        "### Unit Tests\n",
        "\n",
        "Run the following cell to check your answer against some unit tests."
      ]
    },
    {
      "cell_type": "code",
      "execution_count": null,
      "metadata": {
        "id": "S059jTa8uNs0"
      },
      "outputs": [],
      "source": [
        "cards = Deck()\n",
        "\n",
        "cards.append_right(DoublyLinkedListElement('Ace of Spades'))\n",
        "cards.append_right(DoublyLinkedListElement('Two of Hearts'))\n",
        "cards.append_right(DoublyLinkedListElement('Three of Clubs'))\n",
        "cards.append_right(DoublyLinkedListElement('Four of Diamonds'))\n",
        "cards.append_right(DoublyLinkedListElement('Five of Spades'))\n",
        "cards.append_right(DoublyLinkedListElement('Six of Diamonds'))\n",
        "cards.append_right(DoublyLinkedListElement('Seven of Spades'))\n",
        "cards.append_right(DoublyLinkedListElement('Eight of Hearts'))\n",
        "cards.append_right(DoublyLinkedListElement('Nine of Clubs'))\n",
        "cards.append_right(DoublyLinkedListElement('Ten of Diamonds'))\n",
        "cards.append_right(DoublyLinkedListElement('Jack of Spades'))\n",
        "cards.append_right(DoublyLinkedListElement('Queen of Diamonds'))\n",
        "cards.append_right(DoublyLinkedListElement('King of Diamonds'))\n",
        "cards.print()\n",
        "# Should print multiline:\n",
        "# Ace of Spades\n",
        "# Two of Hearts\n",
        "# Three of Clubs\n",
        "# Four of Diamonds\n",
        "# Five of Spades\n",
        "# Six of Diamonds\n",
        "# Seven of Spades\n",
        "# Eight of Hearts\n",
        "# Nine of Clubs\n",
        "# Ten of Diamonds\n",
        "# Jack of Spades\n",
        "# Queen of Diamonds\n",
        "# King of Diamonds\n",
        "\n",
        "cards.overhand_shuffle(2, 2)\n",
        "cards.print()\n",
        "# Should print multiline:\n",
        "# Three of Clubs\n",
        "# Four of Diamonds\n",
        "# Ace of Spades\n",
        "# Two of Hearts\n",
        "# Five of Spades\n",
        "# Six of Diamonds\n",
        "# Seven of Spades\n",
        "# Eight of Hearts\n",
        "# Nine of Clubs\n",
        "# Ten of Diamonds\n",
        "# Jack of Spades\n",
        "# Queen of Diamonds\n",
        "# King of Diamonds\n",
        "\n",
        "cards.overhand_shuffle(5, 7, False)\n",
        "cards.print()\n",
        "# Should print multiline:\n",
        "# Three of Clubs\n",
        "# Four of Diamonds\n",
        "# Ace of Spades\n",
        "# Two of Hearts\n",
        "# Five of Spades\n",
        "# King of Diamonds\n",
        "# Six of Diamonds\n",
        "# Seven of Spades\n",
        "# Eight of Hearts\n",
        "# Nine of Clubs\n",
        "# Ten of Diamonds\n",
        "# Jack of Spades\n",
        "# Queen of Diamonds"
      ]
    },
    {
      "cell_type": "markdown",
      "metadata": {
        "id": "eGfg2JDgsrFy"
      },
      "source": [
        "### Solution"
      ]
    },
    {
      "cell_type": "markdown",
      "metadata": {
        "id": "p6nzZGJLxjq_"
      },
      "source": [
        "This method has some similarities to insert, except you have to keep the doubly linked list elements together. It should be a bit less complex than insert, though, since the length of the deck doesn't change and we're only ever appending to the front or back of the deck."
      ]
    },
    {
      "cell_type": "code",
      "execution_count": null,
      "metadata": {
        "id": "yrOcHZpKxjrA"
      },
      "outputs": [],
      "source": [
        "class Deque(DoublyLinkedList):\n",
        "  \n",
        "  def append_right(self, element):\n",
        "    self.insert(element, self.length())\n",
        "  \n",
        "  def append_left(self, element):\n",
        "    self.insert(element, 0)\n",
        "  \n",
        "  def pop_right(self):\n",
        "    element = self.get(self.length() - 1)\n",
        "    self.remove(self.length() - 1)\n",
        "    return element\n",
        "  \n",
        "  def pop_left(self):\n",
        "    element = self.get(0)\n",
        "    self.remove(0)\n",
        "    return element\n",
        "\n",
        "\n",
        "class Deck(Deque):\n",
        "  \n",
        "  def overhand_shuffle(self, start_loc, num_cards, place_on_top=True):\n",
        "    num_cards_to_grab = min(num_cards, self.length() - start_loc)\n",
        "    # If start_loc is invalid, get will raise an error, so we don't need to.\n",
        "    start_card = self.get(start_loc)\n",
        "    # Don't forget that start_loc is already a card you're grabbing,\n",
        "    # so you should subtract one to avoid an off-by-one error.\n",
        "    end_card = self.get(start_loc + num_cards_to_grab - 1)\n",
        "    # Fill in the gaps, next.\n",
        "    start_card.prev.next = end_card.next\n",
        "    end_card.next.prev = start_card.prev\n",
        "    # Now, insert the cards at the front or back of the list.\n",
        "    if place_on_top:\n",
        "      previous_start = self.first\n",
        "      self.first = start_card\n",
        "      start_card.prev = None\n",
        "      end_card.next = previous_start\n",
        "      previous_start.prev = end_card\n",
        "    else:\n",
        "      previous_end = self.last\n",
        "      self.last = end_card\n",
        "      end_card.next = None\n",
        "      start_card.prev = previous_end\n",
        "      previous_end.next = start_card"
      ]
    },
    {
      "cell_type": "markdown",
      "metadata": {
        "id": "UyA6g0wlnuMV"
      },
      "source": [
        "## Question 12"
      ]
    },
    {
      "cell_type": "markdown",
      "metadata": {
        "id": "d30ViVjI2kj7"
      },
      "source": [
        "Your coworker has been working with you on this `Deque` implementation, and they've gotten stuck on the `reverse()` method, which should flip the deque around completely. Can you take a look and fix it?"
      ]
    },
    {
      "cell_type": "code",
      "execution_count": null,
      "metadata": {
        "id": "T9HMVMRDVwZJ"
      },
      "outputs": [],
      "source": [
        "class DoublyLinkedList:\n",
        "\n",
        "  def __init__(self):\n",
        "    self.first = None\n",
        "    self.last = None\n",
        "\n",
        "  def length(self):\n",
        "    count = 0\n",
        "    elem = self.first\n",
        "    while elem is not None:\n",
        "      elem = elem.next\n",
        "      count += 1\n",
        "    return count\n",
        "\n",
        "  def print(self):\n",
        "    elem = self.first\n",
        "    while elem is not None:\n",
        "      print(elem.value)\n",
        "      elem = elem.next\n",
        "\n",
        "  def print_backwards(self):\n",
        "    elem = self.last\n",
        "    while elem is not None:\n",
        "      print(elem.value)\n",
        "      elem = elem.prev\n",
        "\n",
        "  def get(self, n, start_from_front=True):\n",
        "    counter = 0\n",
        "    if start_from_front:\n",
        "      elem = self.first\n",
        "    else:\n",
        "      elem = self.last\n",
        "    while counter \u003c n:\n",
        "      # If a None type is hit, raise a ValueError.\n",
        "      if elem is None:\n",
        "        raise ValueError(\"Element does not exist at provided index.\")\n",
        "      counter += 1\n",
        "      if start_from_front:\n",
        "        elem = elem.next\n",
        "      else:\n",
        "        elem = elem.prev\n",
        "    # Additionally, to account for an off-by-one error, we should check that\n",
        "    # the element is not None before we return.\n",
        "    if elem is None:\n",
        "        raise ValueError(\"Element does not exist at provided index.\")\n",
        "    return elem\n",
        "\n",
        "  def insert(self, new, position):\n",
        "    if self.length() == 0:\n",
        "      self.first = new\n",
        "      self.last = new\n",
        "      return\n",
        "    if position == 0:\n",
        "      new.next = self.first\n",
        "      self.first.prev = new\n",
        "      self.first = new\n",
        "      return\n",
        "    if position == self.length():\n",
        "      self.last.next = new\n",
        "      new.prev = self.last\n",
        "      self.last = new\n",
        "      return\n",
        "    elem = self.get(position)\n",
        "    new.next = elem\n",
        "    prev = self.get(position - 1)\n",
        "    prev.next = new\n",
        "    new.prev = prev\n",
        "\n",
        "  def remove(self, position):\n",
        "    if position == 0:\n",
        "      self.first = self.first.next\n",
        "      self.first.prev = None\n",
        "    elif position == self.length() - 1:\n",
        "      self.last = self.last.prev\n",
        "      self.last.next = None\n",
        "    else:\n",
        "      prev_elem = self.get(position - 1)\n",
        "      next_elem = self.get(position).next\n",
        "      prev_elem.next = next_elem\n",
        "      next_elem.prev = prev_elem"
      ]
    },
    {
      "cell_type": "code",
      "execution_count": null,
      "metadata": {
        "id": "0AuXUQD5eI5L"
      },
      "outputs": [],
      "source": [
        "class Deque(DoublyLinkedList):\n",
        "  \n",
        "  def append_right(self, element):\n",
        "    self.insert(element, self.length())\n",
        "  \n",
        "  def append_left(self, element):\n",
        "    self.insert(element, 0)\n",
        "  \n",
        "  def pop_right(self):\n",
        "    element = self.get(self.length() - 1)\n",
        "    self.remove(self.length() - 1)\n",
        "    return element\n",
        "  \n",
        "  def pop_left(self):\n",
        "    element = self.get(0)\n",
        "    self.remove(0)\n",
        "    return element\n",
        "  \n",
        "  def rotate(self, n):\n",
        "    rotate_right = True\n",
        "    if n \u003c 0:\n",
        "      rotate_right = False\n",
        "    n = abs(n)\n",
        "    while (n \u003e 0):\n",
        "      if (rotate_right):\n",
        "        element = self.pop_right()\n",
        "        element.next = None\n",
        "        element.prev = None\n",
        "        self.append_left(element)\n",
        "      else:\n",
        "        element = self.pop_left()\n",
        "        element.next = None\n",
        "        element.prev = None\n",
        "        self.append_right(element)\n",
        "      n -= 1\n",
        "\n",
        "  def reverse(self):\n",
        "    current_element = self.first\n",
        "    self.last = current_element\n",
        "    while True:\n",
        "      next_element = current_element.next\n",
        "      current_element.next = current_element.prev\n",
        "      current_element.prev = next_element\n",
        "      current_element = next_element\n",
        "      if next_element is None:\n",
        "        self.first = current_element\n",
        "        break"
      ]
    },
    {
      "cell_type": "markdown",
      "metadata": {
        "id": "hMhILrcQnuMV"
      },
      "source": [
        "### Unit Tests\n",
        "\n",
        "Run the following cell to check your answer against some unit tests."
      ]
    },
    {
      "cell_type": "code",
      "execution_count": null,
      "metadata": {
        "id": "U48ym7xtpabz"
      },
      "outputs": [],
      "source": [
        "my_deque = Deque()\n",
        "\n",
        "my_deque.append_right(DoublyLinkedListElement(1))\n",
        "my_deque.append_right(DoublyLinkedListElement(2))\n",
        "my_deque.append_right(DoublyLinkedListElement(3))\n",
        "my_deque.print()\n",
        "# Should print multiline:\n",
        "# 1\n",
        "# 2\n",
        "# 3\n",
        "\n",
        "my_deque.reverse()\n",
        "my_deque.print()\n",
        "# Should print multiline:\n",
        "# 3\n",
        "# 2\n",
        "# 1\n",
        "\n",
        "my_deque.reverse()\n",
        "my_deque.print()\n",
        "# Should print multiline:\n",
        "# 1\n",
        "# 2\n",
        "# 3"
      ]
    },
    {
      "cell_type": "markdown",
      "metadata": {
        "id": "Dk9X-BxCnuMW"
      },
      "source": [
        "### Solution"
      ]
    },
    {
      "cell_type": "markdown",
      "metadata": {
        "id": "zrwuGYd8wf45"
      },
      "source": [
        "This bug is fairly subtle, and it won't pop up in your initial run of the code. It's the second run of `reverse()` that shows that something is wrong. The line `current_element = next_element` needs to be moved so that it happens *after* the loop's end condition, otherwise it'll set `current_element` to be `None` when next_element is `None`. That doesn't seem problematic until you notice that `self.first` gets set to be `current_element`, so that will *also* become `None`."
      ]
    },
    {
      "cell_type": "code",
      "execution_count": null,
      "metadata": {
        "id": "cGh29kyox_Tx"
      },
      "outputs": [],
      "source": [
        "class Deque(DoublyLinkedList):\n",
        "  \n",
        "  def append_right(self, element):\n",
        "    self.insert(element, self.length())\n",
        "  \n",
        "  def append_left(self, element):\n",
        "    self.insert(element, 0)\n",
        "  \n",
        "  def pop_right(self):\n",
        "    element = self.get(self.length() - 1)\n",
        "    self.remove(self.length() - 1)\n",
        "    return element\n",
        "  \n",
        "  def pop_left(self):\n",
        "    element = self.get(0)\n",
        "    self.remove(0)\n",
        "    return element\n",
        "  \n",
        "  def rotate(self, n):\n",
        "    rotate_right = True\n",
        "    if n \u003c 0:\n",
        "      rotate_right = False\n",
        "    n = abs(n)\n",
        "    while (n \u003e 0):\n",
        "      if (rotate_right):\n",
        "        element = self.pop_right()\n",
        "        element.next = None\n",
        "        element.prev = None\n",
        "        self.append_left(element)\n",
        "      else:\n",
        "        element = self.pop_left()\n",
        "        element.next = None\n",
        "        element.prev = None\n",
        "        self.append_right(element)\n",
        "      n -= 1\n",
        "\n",
        "  def reverse(self):\n",
        "    current_element = self.first\n",
        "    self.last = current_element\n",
        "    while True:\n",
        "      next_element = current_element.next\n",
        "      current_element.next = current_element.prev\n",
        "      current_element.prev = next_element\n",
        "      if next_element is None:\n",
        "        self.first = current_element\n",
        "        break\n",
        "      current_element = next_element"
      ]
    },
    {
      "cell_type": "markdown",
      "metadata": {
        "id": "8pI_ic2qnw2v"
      },
      "source": [
        "## Question 13"
      ]
    },
    {
      "cell_type": "markdown",
      "metadata": {
        "id": "YcU7v1v-yCUP"
      },
      "source": [
        "You've fixed the first bug, but their `count()` method has an issue that you should help resolve, as well. Ideally, `count()` takes some number and returns the number of elements in the deque with the same value. However, it's not working as intended. Can you identify the problem and fix it?"
      ]
    },
    {
      "cell_type": "code",
      "execution_count": null,
      "metadata": {
        "id": "CvwptaAbVzmM"
      },
      "outputs": [],
      "source": [
        "class DoublyLinkedList:\n",
        "\n",
        "  def __init__(self):\n",
        "    self.first = None\n",
        "    self.last = None\n",
        "\n",
        "  def length(self):\n",
        "    count = 0\n",
        "    elem = self.first\n",
        "    while elem is not None:\n",
        "      elem = elem.next\n",
        "      count += 1\n",
        "    return count\n",
        "\n",
        "  def print(self):\n",
        "    elem = self.first\n",
        "    while elem is not None:\n",
        "      print(elem.value)\n",
        "      elem = elem.next\n",
        "\n",
        "  def print_backwards(self):\n",
        "    elem = self.last\n",
        "    while elem is not None:\n",
        "      print(elem.value)\n",
        "      elem = elem.prev\n",
        "\n",
        "  def get(self, n, start_from_front=True):\n",
        "    counter = 0\n",
        "    if start_from_front:\n",
        "      elem = self.first\n",
        "    else:\n",
        "      elem = self.last\n",
        "    while counter \u003c n:\n",
        "      # If a None type is hit, raise a ValueError.\n",
        "      if elem is None:\n",
        "        raise ValueError(\"Element does not exist at provided index.\")\n",
        "      counter += 1\n",
        "      if start_from_front:\n",
        "        elem = elem.next\n",
        "      else:\n",
        "        elem = elem.prev\n",
        "    # Additionally, to account for an off-by-one error, we should check that\n",
        "    # the element is not None before we return.\n",
        "    if elem is None:\n",
        "        raise ValueError(\"Element does not exist at provided index.\")\n",
        "    return elem\n",
        "\n",
        "  def insert(self, new, position):\n",
        "    if self.length() == 0:\n",
        "      self.first = new\n",
        "      self.last = new\n",
        "      return\n",
        "    if position == 0:\n",
        "      new.next = self.first\n",
        "      self.first.prev = new\n",
        "      self.first = new\n",
        "      return\n",
        "    if position == self.length():\n",
        "      self.last.next = new\n",
        "      new.prev = self.last\n",
        "      self.last = new\n",
        "      return\n",
        "    elem = self.get(position)\n",
        "    new.next = elem\n",
        "    prev = self.get(position - 1)\n",
        "    prev.next = new\n",
        "    new.prev = prev\n",
        "\n",
        "  def remove(self, position):\n",
        "    if position == 0:\n",
        "      self.first = self.first.next\n",
        "      self.first.prev = None\n",
        "    elif position == self.length() - 1:\n",
        "      self.last = self.last.prev\n",
        "      self.last.next = None\n",
        "    else:\n",
        "      prev_elem = self.get(position - 1)\n",
        "      next_elem = self.get(position).next\n",
        "      prev_elem.next = next_elem\n",
        "      next_elem.prev = prev_elem"
      ]
    },
    {
      "cell_type": "code",
      "execution_count": null,
      "metadata": {
        "id": "zwuxEOWHVs2q"
      },
      "outputs": [],
      "source": [
        "class Deque(DoublyLinkedList):\n",
        "  \n",
        "  def append_right(self, element):\n",
        "    self.insert(element, self.length())\n",
        "  \n",
        "  def append_left(self, element):\n",
        "    self.insert(element, 0)\n",
        "  \n",
        "  def pop_right(self):\n",
        "    element = self.get(self.length() - 1)\n",
        "    self.remove(self.length() - 1)\n",
        "    return element\n",
        "  \n",
        "  def pop_left(self):\n",
        "    element = self.get(0)\n",
        "    self.remove(0)\n",
        "    return element\n",
        "  \n",
        "  def rotate(self, n):\n",
        "    rotate_right = True\n",
        "    if n \u003c 0:\n",
        "      rotate_right = False\n",
        "    n = abs(n)\n",
        "    while (n \u003e 0):\n",
        "      if (rotate_right):\n",
        "        element = self.pop_right()\n",
        "        element.next = None\n",
        "        element.prev = None\n",
        "        self.append_left(element)\n",
        "      else:\n",
        "        element = self.pop_left()\n",
        "        element.next = None\n",
        "        element.prev = None\n",
        "        self.append_right(element)\n",
        "      n -= 1\n",
        "\n",
        "  def reverse(self):\n",
        "    current_element = self.first\n",
        "    self.last = current_element\n",
        "    while True:\n",
        "      next_element = current_element.next\n",
        "      current_element.next = current_element.prev\n",
        "      current_element.prev = next_element\n",
        "      if next_element is None:\n",
        "        self.first = current_element\n",
        "        break\n",
        "      current_element = next_element\n",
        "\n",
        "  def count(self, value):\n",
        "    return self.count_helper(self.first, value)\n",
        "\n",
        "  def count_helper(self, elem, value):\n",
        "    if elem is None:\n",
        "      return 0\n",
        "    if elem.value == value:\n",
        "      return 1 + self.count_helper(self.first, value)\n",
        "    else:\n",
        "      return self.count_helper(self.first, value)"
      ]
    },
    {
      "cell_type": "markdown",
      "metadata": {
        "id": "1S8niu18nw2w"
      },
      "source": [
        "### Unit Tests\n",
        "\n",
        "Run the following cell to check your answer against some unit tests."
      ]
    },
    {
      "cell_type": "code",
      "execution_count": null,
      "metadata": {
        "id": "lm99xf9TbEbM"
      },
      "outputs": [],
      "source": [
        "my_deque = Deque()\n",
        "\n",
        "my_deque.append_right(DoublyLinkedListElement(1))\n",
        "my_deque.append_right(DoublyLinkedListElement(1))\n",
        "my_deque.append_right(DoublyLinkedListElement(3))\n",
        "\n",
        "print(my_deque.count(1))\n",
        "# Should print: 2\n",
        "\n",
        "print(my_deque.count(3))\n",
        "# Should print: 1"
      ]
    },
    {
      "cell_type": "markdown",
      "metadata": {
        "id": "o15uIjDQnw2w"
      },
      "source": [
        "### Solution"
      ]
    },
    {
      "cell_type": "markdown",
      "metadata": {
        "id": "m8Ull1aKzPY1"
      },
      "source": [
        "This has some issues both functionally and stylistically. If you run it, it's going to run forever. But why? Well, the bug is in the recursive step. When your colleague attempts to move farther down the deque, they call `count_helper` again, but they pass in `self.first` as the argument. While that's what you should do in the beginning, passing `self.first` into the subsequent calls (rather than `elem.next`) means that this will loop forever because you'll never actually move onto the next element (note that their function never calls `.next`), starting back at the beginning. Instead, they want to pass `elem.next` to their recursive helper, like so: "
      ]
    },
    {
      "cell_type": "code",
      "execution_count": null,
      "metadata": {
        "id": "_QMLRKPuz1Lh"
      },
      "outputs": [],
      "source": [
        "class Deque(DoublyLinkedList):\n",
        "  \n",
        "  def append_right(self, element):\n",
        "    self.insert(element, self.length())\n",
        "  \n",
        "  def append_left(self, element):\n",
        "    self.insert(element, 0)\n",
        "  \n",
        "  def pop_right(self):\n",
        "    element = self.get(self.length() - 1)\n",
        "    self.remove(self.length() - 1)\n",
        "    return element\n",
        "  \n",
        "  def pop_left(self):\n",
        "    element = self.get(0)\n",
        "    self.remove(0)\n",
        "    return element\n",
        "  \n",
        "  def rotate(self, n):\n",
        "    rotate_right = True\n",
        "    if n \u003c 0:\n",
        "      rotate_right = False\n",
        "    n = abs(n)\n",
        "    while (n \u003e 0):\n",
        "      if (rotate_right):\n",
        "        element = self.pop_right()\n",
        "        element.next = None\n",
        "        element.prev = None\n",
        "        self.append_left(element)\n",
        "      else:\n",
        "        element = self.pop_left()\n",
        "        element.next = None\n",
        "        element.prev = None\n",
        "        self.append_right(element)\n",
        "      n -= 1\n",
        "\n",
        "  def reverse(self):\n",
        "    current_element = self.first\n",
        "    self.last = current_element\n",
        "    while True:\n",
        "      next_element = current_element.next\n",
        "      current_element.next = current_element.prev\n",
        "      current_element.prev = next_element\n",
        "      if next_element is None:\n",
        "        self.first = current_element\n",
        "        break\n",
        "      current_element = next_element\n",
        "\n",
        "  def count(self, value):\n",
        "    return self.count_helper(self.first, value)\n",
        "\n",
        "  def count_helper(self, elem, value):\n",
        "    if elem is None:\n",
        "      return 0\n",
        "    if elem.value == value:\n",
        "      return 1 + self.count_helper(elem.next, value)\n",
        "    else:\n",
        "      return self.count_helper(elem.next, value)"
      ]
    },
    {
      "cell_type": "markdown",
      "metadata": {
        "id": "xS4lDF4VaT1v"
      },
      "source": [
        "That said, there's not really a reason to make this recursive; it makes the code harder to follow and leads to mistakes like the one seen above. Instead, let's make an interative version."
      ]
    },
    {
      "cell_type": "code",
      "execution_count": null,
      "metadata": {
        "id": "2gABHSiXacRI"
      },
      "outputs": [],
      "source": [
        "class Deque(DoublyLinkedList):\n",
        "  \n",
        "  def append_right(self, element):\n",
        "    self.insert(element, self.length())\n",
        "  \n",
        "  def append_left(self, element):\n",
        "    self.insert(element, 0)\n",
        "  \n",
        "  def pop_right(self):\n",
        "    element = self.get(self.length() - 1)\n",
        "    self.remove(self.length() - 1)\n",
        "    return element\n",
        "  \n",
        "  def pop_left(self):\n",
        "    element = self.get(0)\n",
        "    self.remove(0)\n",
        "    return element\n",
        "  \n",
        "  def rotate(self, n):\n",
        "    rotate_right = True\n",
        "    if n \u003c 0:\n",
        "      rotate_right = False\n",
        "    n = abs(n)\n",
        "    while (n \u003e 0):\n",
        "      if (rotate_right):\n",
        "        element = self.pop_right()\n",
        "        element.next = None\n",
        "        element.prev = None\n",
        "        self.append_left(element)\n",
        "      else:\n",
        "        element = self.pop_left()\n",
        "        element.next = None\n",
        "        element.prev = None\n",
        "        self.append_right(element)\n",
        "      n -= 1\n",
        "\n",
        "  def reverse(self):\n",
        "    current_element = self.first\n",
        "    self.last = current_element\n",
        "    while True:\n",
        "      next_element = current_element.next\n",
        "      current_element.next = current_element.prev\n",
        "      current_element.prev = next_element\n",
        "      if next_element is None:\n",
        "        self.first = current_element\n",
        "        break\n",
        "      current_element = next_element\n",
        "\n",
        "  def count(self, value):\n",
        "    result = 0\n",
        "    element = self.first\n",
        "    while element is not None:\n",
        "      if element.value == value:\n",
        "        result += 1\n",
        "      element = element.next\n",
        "    return result"
      ]
    }
  ],
  "metadata": {
    "colab": {
      "collapsed_sections": [
        "K7Bm9vd4_Q3n",
        "4J8xDd_w_zmH",
        "Fr2SMJBxYiYI",
        "puvDex_GYl1e",
        "m01OJjBTnKVi",
        "cox0SVIYnKVj",
        "SRBWfY4RnLiK",
        "k8TfKLz7nLiK",
        "WbzPNULxnOwe",
        "CY4YRX-lnOwe",
        "RawJXQFsnPfz",
        "FT9X8qCrnPfz",
        "J5LQlFLLnbtF",
        "bDKIsSkznbtF",
        "vY3YzjGjnctL",
        "3KMlgBGZnctM",
        "kuLabR1zneen",
        "iGPe2l2wneeo",
        "mWmusQ2UsrFy",
        "eGfg2JDgsrFy",
        "hMhILrcQnuMV",
        "Dk9X-BxCnuMW",
        "1S8niu18nw2w",
        "o15uIjDQnw2w"
      ],
      "name": "doubly_linked_lists.ipynb",
      "provenance": [ ]
    },
    "kernelspec": {
      "display_name": "Python 3",
      "name": "python3"
    }
  },
  "nbformat": 4,
  "nbformat_minor": 0
}
