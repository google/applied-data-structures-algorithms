{
  "cells": [
    {
      "cell_type": "markdown",
      "metadata": {
        "id": "kWKxmO4ka-lL"
      },
      "source": [
        "# Further Data Structures"
      ]
    },
    {
      "cell_type": "markdown",
      "metadata": {
        "id": "heLEQC1EwzKe"
      },
      "source": [
        "## Lesson Overview"
      ]
    },
    {
      "cell_type": "markdown",
      "metadata": {
        "id": "BkagupgObKBr"
      },
      "source": [
        "In the *Fundamental Data Structures* unit, we introduced the following data structures:\n",
        "\n",
        "- Arrays (also known as lists)\n",
        "- Sets\n",
        "- Classes (also known as structs)\n",
        "- Maps (also known as dictionaries)\n",
        "- Linked lists"
      ]
    },
    {
      "cell_type": "markdown",
      "metadata": {
        "id": "TcVGgM_hw4bk"
      },
      "source": [
        "While these five data structures are the most low-level, versatile, and ubiquitous, in some contexts a more specific data structure is more applicable. For example, suppose you needed a linked list that allows you to iterate forward *and* backward. This is possible with an extension of a linked list, called a *doubly linked list*. And suppose you wanted to access elements of a data structure not just based on order but also based on a *priority*. This is possible with a *priority queue*, which is implemented using either an array or a linked list.\n",
        "\n",
        "The following lessons cover the following data structures, which are all based on or implemented with the fundamental data structures already covered:\n",
        "\n",
        "- Doubly linked lists (based on linked lists)\n",
        "- Stacks (implemented using arrays or linked lists)\n",
        "- Queues (implemented using arrays or linked lists)\n",
        "- Priority queues (based on queues)"
      ]
    }
  ],
  "metadata": {
    "colab": {
      "collapsed_sections": [],
      "name": "further_data_structures_overview.ipynb",
      "private_outputs": true,
      "provenance": [ ]
    },
    "kernelspec": {
      "display_name": "Python 3",
      "name": "python3"
    }
  },
  "nbformat": 4,
  "nbformat_minor": 0
}
