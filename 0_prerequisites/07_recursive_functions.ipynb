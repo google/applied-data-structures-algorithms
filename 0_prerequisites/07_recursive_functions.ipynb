{
  "cells": [
    {
      "cell_type": "markdown",
      "metadata": {
        "id": "XAnVLqZceoAx"
      },
      "source": [
        "# Recursive Functions"
      ]
    },
    {
      "cell_type": "markdown",
      "metadata": {
        "id": "PPqjC1TQksJq"
      },
      "source": [
        "## Lesson Overview"
      ]
    },
    {
      "cell_type": "markdown",
      "metadata": {
        "id": "6v56gR3jDoSK"
      },
      "source": [
        "A recursive function is a function that references itself during execution. Recursive functions are commonly seen in a [divide and conquer algorithm](https://en.wikipedia.org/wiki/Divide-and-conquer_algorithm), where a big problem is broken down into multiple smaller problems. \n",
        "\n",
        "\u003e A **recursive function** is a function that is defined in terms of the values of the same function at other inputs.\n",
        "\n",
        "\u003e A **recursive sequence** is a sequence of numbers in which each term is defined by a **recursive function**."
      ]
    },
    {
      "cell_type": "markdown",
      "metadata": {
        "id": "Gjah3YAWkt1h"
      },
      "source": [
        "Almost all searching and sorting algorithms in this course use this methodology, and you will see several such algorithms in later lessons, including:\n",
        "\n",
        "- [Bubble sort](https://en.wikipedia.org/wiki/Bubble_sort)\n",
        "- [Merge sort](https://en.wikipedia.org/wiki/Merge_sort)\n",
        "- [Breadth-first search](https://en.wikipedia.org/wiki/Breadth-first_search)\n",
        "- [Depth-first search](https://en.wikipedia.org/wiki/Depth-first_search)"
      ]
    },
    {
      "cell_type": "markdown",
      "metadata": {
        "id": "4xVJ6Ahrokab"
      },
      "source": [
        "### The Fibonacci sequence"
      ]
    },
    {
      "cell_type": "markdown",
      "metadata": {
        "id": "GdO5lMekorc7"
      },
      "source": [
        "Recursive functions are probably best illustrated with an example. One of the most famous examples of a recursive sequence is the [Fibonacci sequence](https://en.wikipedia.org/wiki/Fibonacci_number), where each number is the sum of the previous two numbers in the sequence."
      ]
    },
    {
      "cell_type": "markdown",
      "metadata": {
        "id": "F4mnumnzRodP"
      },
      "source": [
        "The Fibonacci sequence is defined by the following recursive formula, where $f_n$ is the $n^\\textrm{th}$ number in the Fibonacci sequence (also called the $n^\\textrm{th}$ Fibonacci number).\n",
        "\n",
        "$$\n",
        "\\begin{align}\n",
        "f_0 \u0026= 0 \\\\\n",
        "f_1 \u0026= 1 \\\\\n",
        "f_n \u0026= f_{n-1} + f_{n-2} \\\\\n",
        "\\end{align}\n",
        "$$\n",
        "\n",
        "The first 10 numbers of the Fibonacci sequence are below:\n",
        "\n",
        "$$\n",
        "0, 1, 1, 2, 3, 5, 8, 13, 21, 34\n",
        "$$\n",
        "\n",
        "Notice that both $f_0$ and $f_1$ are not defined using recursion, but defined as constants. These are the *base cases* for the sequence, and the equation $f_n = f_{n-1} + f_{n-2}$ is the recursive formula. \n",
        "\n",
        "A recursive sequence *must* have at least one base case, otherwise the recursion is undefined mathematically, and this can lead to an infinite recursion (we'll talk more about this later in the lesson). \n",
        "\n",
        "The necessary number of base cases for a recursive function depends on the nature of the recursive formula. Note that the Fibonacci recursive formula uses two previous values of the sequence, so two base cases are necessary to properly define this sequence.\n",
        "\n"
      ]
    },
    {
      "cell_type": "markdown",
      "metadata": {
        "id": "i7J4bm8rDyj_"
      },
      "source": [
        "### Fibonacci using iteration"
      ]
    },
    {
      "cell_type": "markdown",
      "metadata": {
        "id": "01Sl3AynD5zG"
      },
      "source": [
        "Let's first define the Fibonacci sequence using iteration."
      ]
    },
    {
      "cell_type": "markdown",
      "metadata": {
        "id": "NzeMD9lHsApB"
      },
      "source": [
        "In general, an iterative algorithm has a `for` or a `while` loop. In this iteration, we define the following terms:\n",
        "- `current_num` stores the $n^{\\textrm{th}}$ Fibonacci number\n",
        "- `next_num` stores the $(n+1)^{\\textrm{th}}$ Fibonacci number\n",
        "- `after_next_num` stores the $(n+2)^{\\textrm{th}}$ Fibonacci number\n",
        "\n",
        "The iteration starts with values `current_num = 0` and `next_num = 1`. The loop iteratively adds `current_num` and `next_num` to make `after_next_num`."
      ]
    },
    {
      "cell_type": "code",
      "execution_count": null,
      "metadata": {
        "id": "Ue0u7Z8QsENM"
      },
      "outputs": [],
      "source": [
        "def fibonacci_iteration(n):\n",
        "  # Raise an error if n is not a non-negative integer. The Fibonacci sequence is\n",
        "  # not defined for such cases.\n",
        "  if not isinstance(n, int) or n \u003c 0:\n",
        "    raise ValueError(\"input must be a non-negative integer\")\n",
        "\n",
        "  # This defines the base case.\n",
        "  current_num, next_num = 0, 1\n",
        "\n",
        "  for i in range(n):\n",
        "    # after_next is the term after the next term.\n",
        "    after_next_num = next_num + current_num\n",
        "    # Increment the values of current and next.\n",
        "    current_num = next_num\n",
        "    next_num = after_next_num\n",
        "\n",
        "  return current_num"
      ]
    },
    {
      "cell_type": "code",
      "execution_count": null,
      "metadata": {
        "id": "iLiQs3BjvI2h"
      },
      "outputs": [],
      "source": [
        "for i in range(10):\n",
        "  print(fibonacci_iteration(i), end =\", \")"
      ]
    },
    {
      "cell_type": "markdown",
      "metadata": {
        "id": "QoOgbfrwovIb"
      },
      "source": [
        "### Fibonacci with recursion"
      ]
    },
    {
      "cell_type": "markdown",
      "metadata": {
        "id": "0CK2Ld_zr-dT"
      },
      "source": [
        "Recursive functions can be seen in code when a function calls itself."
      ]
    },
    {
      "cell_type": "markdown",
      "metadata": {
        "id": "PlyH2uZgo2TO"
      },
      "source": [
        "This code returns the $n^{\\textrm{th}}$ Fibonacci number. Note that in the last line of the function, the `return` includes a self-reference (`fibonacci_recursive` appears within its own definition), indicating a recursive formula."
      ]
    },
    {
      "cell_type": "code",
      "execution_count": null,
      "metadata": {
        "id": "pLukC4Gw-PGm"
      },
      "outputs": [],
      "source": [
        "def fibonacci_recursive(n):\n",
        "  # Raise an error if n is not a non-negative integer. The Fibonacci sequence is\n",
        "  # not defined for such cases.\n",
        "  if not isinstance(n, int) or n \u003c 0:\n",
        "    raise ValueError(\"input must be a non-negative integer\")\n",
        "\n",
        "  # This defines the base case.\n",
        "  if n == 0 or n == 1:\n",
        "    return n\n",
        "\n",
        "  # This defines the recursive formula. Note that it references the function\n",
        "  # itself, fibonacci_recursive.\n",
        "  return fibonacci_recursive(n - 1) + fibonacci_recursive(n - 2)"
      ]
    },
    {
      "cell_type": "code",
      "execution_count": null,
      "metadata": {
        "id": "h5MmB_sVBJ0X"
      },
      "outputs": [],
      "source": [
        "for i in range(10):\n",
        "  print(fibonacci_recursive(i), end =\", \")"
      ]
    },
    {
      "cell_type": "markdown",
      "metadata": {
        "id": "0PE2TSJio6yc"
      },
      "source": [
        "### Infinite recursion"
      ]
    },
    {
      "cell_type": "markdown",
      "metadata": {
        "id": "dS76h043RuB2"
      },
      "source": [
        "When defining a recursive function, it is important not to end up in an **infinite recursion**."
      ]
    },
    {
      "cell_type": "markdown",
      "metadata": {
        "id": "B_qldy0ipBOC"
      },
      "source": [
        "Try running the function below:"
      ]
    },
    {
      "cell_type": "code",
      "execution_count": null,
      "metadata": {
        "id": "3Xb9rFuF-d6u"
      },
      "outputs": [],
      "source": [
        "def infinite_recursion(x):\n",
        "  return infinite_recursion(x-1)\n",
        "\n",
        "print(infinite_recursion(0))"
      ]
    },
    {
      "cell_type": "markdown",
      "metadata": {
        "id": "GWG3IGmA-zuA"
      },
      "source": [
        "The function above keeps looking for lower and lower values as `x` approaches $-\\infty$. Different languages and compilers deal with infinite recursion differently; some time out after a certain iteration or time limit, some crash, and others notice that this causes an infinite loop and exit.\n",
        "\n",
        "This function is missing a base case, which is the only way to avoid an infinite loop within a recursive function. Note that including a base case does not necessarily guarantee you will avoid an infinite recursion. Try running the function below:"
      ]
    },
    {
      "cell_type": "code",
      "execution_count": null,
      "metadata": {
        "id": "uXzcckK2yF96"
      },
      "outputs": [],
      "source": [
        "def infinite_recursion(x):\n",
        "  if x == 0:\n",
        "    return x\n",
        "  return infinite_recursion(x-1)\n",
        "\n",
        "print(infinite_recursion(5))\n",
        "print(infinite_recursion(-5))"
      ]
    },
    {
      "cell_type": "markdown",
      "metadata": {
        "id": "3o4hJgqYyUPs"
      },
      "source": [
        "The function above contains a base case for `x == 0`. When it tries to evaluate at 5, the function works, since it lands at `x == 0` eventually. However, when it tries to evaluate for `x == -5`, it tries to evaluate indefinitely at `x-1` and never hits the base case of `x==0`.\n",
        "\n",
        "Infinite recursion occurs when a recursive function contains no base case(s) or never satisfies the base case(s). Whenever you write your recursive formula and base case(s), make sure *all* possible input values are accounted for."
      ]
    },
    {
      "cell_type": "markdown",
      "metadata": {
        "id": "qWjlVoQexz9_"
      },
      "source": [
        "## Question 1"
      ]
    },
    {
      "cell_type": "markdown",
      "metadata": {
        "id": "RSlCj8GPx4YH"
      },
      "source": [
        "Which *one* of the following statements best defines a recursive function?"
      ]
    },
    {
      "cell_type": "markdown",
      "metadata": {
        "id": "5NdGphqGi6vz"
      },
      "source": [
        "**a)** A function that calls itself.\n",
        "\n",
        "**b)** A function used for traversing a graph.\n",
        "\n",
        "**c)** A function that uses a `for` or `while` loop.\n",
        "\n",
        "**d)** A function used for divide and conquer algorithms. "
      ]
    },
    {
      "cell_type": "markdown",
      "metadata": {
        "id": "FkNJ2Wghi6v0"
      },
      "source": [
        "### Solution"
      ]
    },
    {
      "cell_type": "markdown",
      "metadata": {
        "id": "Kn3LHu90i6v0"
      },
      "source": [
        "The correct answer is **a)**.\n",
        "\n",
        "**b)** Although many graph traversal algorithms can be implemented recursively, this is not the only application.\n",
        "\n",
        "**c)** The use of a `for` or `while` loop is called *iteration*, and a recursive function may or may not require iterative components.\n",
        "\n",
        "**d)** Divide and conquer algorithms often use recursive functions, but they are not the only examples."
      ]
    },
    {
      "cell_type": "markdown",
      "metadata": {
        "id": "VKIffe-LM0K2"
      },
      "source": [
        "## Question 2"
      ]
    },
    {
      "cell_type": "markdown",
      "metadata": {
        "id": "sVnl4J24zaTQ"
      },
      "source": [
        "In mathematics we can denote a special kind of numeric operation, known as a [factorial](https://en.wikipedia.org/wiki/Factorial)."
      ]
    },
    {
      "cell_type": "markdown",
      "metadata": {
        "id": "GEf2kJAvpTqp"
      },
      "source": [
        "The factorial of a non-negative integer $n$, denoted $n!$, is defined as the product of all positive integers less than or equal to $n$. By convention, $0! = 1$.\n",
        "\n",
        "$$\n",
        "n! = n \\times (n-1) \\times (n-2) \\times \\ ... \\ \\times 2 \\times 1\n",
        "$$\n",
        "\n",
        "Define a factorial using a recursive formula and a base case, *without writing any code*. Your answer should include one recursive equation and the relevant base cases.\n",
        "\n",
        "Note that the Fibonacci recursive implementation in the Lesson Overview is an example of [multiple recursion](https://en.wikipedia.org/wiki/Recursion_(computer_science)#multiple_recursion). That is, the recursive formula references itself multiple times (in this case, twice). Many recursions (including this exercise) use single recursion, where the recursive formula only references itself once."
      ]
    },
    {
      "cell_type": "code",
      "execution_count": null,
      "metadata": {
        "id": "OSbVQotxpbd8"
      },
      "outputs": [],
      "source": [
        "#freetext"
      ]
    },
    {
      "cell_type": "markdown",
      "metadata": {
        "id": "4dFtIaSxXqN7"
      },
      "source": [
        "### Solution"
      ]
    },
    {
      "cell_type": "markdown",
      "metadata": {
        "id": "nbyijE410jQ3"
      },
      "source": [
        "The key to the recursive formula is that $n! = n \\times (n-1)!$. Once we have that, we just need to define the base case, which is that $0! = 1$.\n",
        "\n",
        "$$\n",
        "\\begin{align}\n",
        "n! \u0026= n \\times (n-1)! \\\\\n",
        "0! \u0026= 1 \\\\\n",
        "\\end{align}\n",
        "$$"
      ]
    },
    {
      "cell_type": "markdown",
      "metadata": {
        "id": "N8rdfcRWNQxN"
      },
      "source": [
        "## Question 3"
      ]
    },
    {
      "cell_type": "markdown",
      "metadata": {
        "id": "MWMqsalS1Qby"
      },
      "source": [
        "Now that we have a recursive relationship for a factorial, write a recursive function that calculates it.\n",
        "\n",
        "Your function should return $n!$ for some input `n`. For this function, assume that `n` is a non-negative integer."
      ]
    },
    {
      "cell_type": "code",
      "execution_count": null,
      "metadata": {
        "id": "IbIq1RHX_pcG"
      },
      "outputs": [],
      "source": [
        "def factorial(n):\n",
        "  if not isinstance(n, int) or n \u003c 0:\n",
        "    raise ValueError(\"input must be a non-negative integer\")\n",
        "  # TODO(you): Implement\n",
        "  print(\"This function has not been implemented.\")"
      ]
    },
    {
      "cell_type": "markdown",
      "metadata": {
        "id": "r0d0tKG3NZOd"
      },
      "source": [
        "### Unit Tests\n",
        "\n",
        "Run the following cell to check your answer against some unit tests."
      ]
    },
    {
      "cell_type": "code",
      "execution_count": null,
      "metadata": {
        "id": "HdK-6Ksz_sL9"
      },
      "outputs": [],
      "source": [
        "print(factorial(0))\n",
        "# Should print: 1\n",
        "\n",
        "print(factorial(3))\n",
        "# Should print: 6\n",
        "\n",
        "print(factorial(10))\n",
        "# Should print: 3628800"
      ]
    },
    {
      "cell_type": "markdown",
      "metadata": {
        "id": "K7iF_wp2Xxpt"
      },
      "source": [
        "### Solution"
      ]
    },
    {
      "cell_type": "markdown",
      "metadata": {
        "id": "4V3ou-cy1hcl"
      },
      "source": [
        "Make sure to include the base case for `n == 0`, otherwise your function will have an infinite recursion."
      ]
    },
    {
      "cell_type": "code",
      "execution_count": null,
      "metadata": {
        "id": "TzCqf3Yf_kPe"
      },
      "outputs": [],
      "source": [
        "def factorial(n):\n",
        "  if not isinstance(n, int) or n \u003c 0:\n",
        "    raise ValueError(\"input must be a non-negative integer\")\n",
        "  if n == 0:\n",
        "    return 1\n",
        "  return n * factorial(n-1)"
      ]
    },
    {
      "cell_type": "markdown",
      "metadata": {
        "id": "ZKLfWrZXpV1I"
      },
      "source": [
        "## Question 4"
      ]
    },
    {
      "cell_type": "markdown",
      "metadata": {
        "id": "U6vmlQEoRXab"
      },
      "source": [
        "Write a recursive function to check if a given positive integer is a power of 2."
      ]
    },
    {
      "cell_type": "markdown",
      "metadata": {
        "id": "5mzMnir3ptH4"
      },
      "source": [
        "For example, 8 is a power of 2 since $2^3 = 8$, but 10 is not a power of 2 since there is no integer $n$ such that $2^n = 10$."
      ]
    },
    {
      "cell_type": "code",
      "execution_count": null,
      "metadata": {
        "id": "GaOoLsScRbkx"
      },
      "outputs": [],
      "source": [
        "def is_power_of_two(n):\n",
        "  if not isinstance(n, int) or n \u003c= 0:\n",
        "    raise ValueError(\"Input must be a positive integer.\")\n",
        "  # TODO(you): Implement\n",
        "  print(\"This function has not been implemented.\")"
      ]
    },
    {
      "cell_type": "markdown",
      "metadata": {
        "id": "gWG-sTWTODld"
      },
      "source": [
        "### Hint"
      ]
    },
    {
      "cell_type": "markdown",
      "metadata": {
        "id": "QoBo_iG5OEll"
      },
      "source": [
        "Remember that 1 is a power of 2, since $2^0 = 1$."
      ]
    },
    {
      "cell_type": "markdown",
      "metadata": {
        "id": "O2hhvFIMONZz"
      },
      "source": [
        "### Unit Tests\n",
        "\n",
        "Run the following cell to check your answer against some unit tests."
      ]
    },
    {
      "cell_type": "code",
      "execution_count": null,
      "metadata": {
        "id": "JnGRqTa4R72X"
      },
      "outputs": [],
      "source": [
        "print(is_power_of_two(1))\n",
        "# Should print: True\n",
        "\n",
        "print(is_power_of_two(2))\n",
        "# Should print: True\n",
        "\n",
        "print(is_power_of_two(3))\n",
        "# Should print: False\n",
        "\n",
        "print(is_power_of_two(32))\n",
        "# Should print: True\n",
        "\n",
        "print(is_power_of_two(100))\n",
        "# Should print: False"
      ]
    },
    {
      "cell_type": "markdown",
      "metadata": {
        "id": "XEE0E0apX6WU"
      },
      "source": [
        "### Solution"
      ]
    },
    {
      "cell_type": "markdown",
      "metadata": {
        "id": "fojAurfPSojD"
      },
      "source": [
        "The base case is 1, since $2^0 = 1$. If `n` is even, check recursively if `n/2` is a power of 2. If `n` is odd, `n` cannot be a power of 2."
      ]
    },
    {
      "cell_type": "code",
      "execution_count": null,
      "metadata": {
        "id": "bZ2In8KpSpHu"
      },
      "outputs": [],
      "source": [
        "def is_power_of_two(n):\n",
        "  # Raise an error if n is not a positive integer.\n",
        "  if not isinstance(n, int) or n \u003c= 0:\n",
        "    raise ValueError(\"Input must be a positive integer.\")\n",
        "  \n",
        "  # The lowest positive integer that is a multiple of 2 is 1.\n",
        "  if n == 1:\n",
        "    return True\n",
        "\n",
        "  if n % 2 == 0:\n",
        "    # If n is even, check recursively if n//2 is a power of 2. We use integer\n",
        "    # division so that the input to is_power_of_two is an int. Note that n is\n",
        "    # even, so n//2 == n/2 in value; the only difference is the type.\n",
        "    return is_power_of_two(n//2)\n",
        "\n",
        "  # If n is odd and n != 1, then n cannot be a power of 2.\n",
        "  return False"
      ]
    },
    {
      "cell_type": "markdown",
      "metadata": {
        "id": "rNme_X3YWJuj"
      },
      "source": [
        "## Question 5"
      ]
    },
    {
      "cell_type": "markdown",
      "metadata": {
        "id": "K2e_tW-Bpzuh"
      },
      "source": [
        "A [palindrome](https://en.wikipedia.org/wiki/Palindrome) is a word that is spelled the same forwards as backwards (ignoring case). Write a recursive function to check if a word is a palindrome.\n",
        "\n",
        "Note that this function can be written without recursion by checking if `word == word[::-1]`, where `word[::-1]` uses slice notation to reverse `word`."
      ]
    },
    {
      "cell_type": "code",
      "execution_count": null,
      "metadata": {
        "id": "TY2yLf2FY7UY"
      },
      "outputs": [],
      "source": [
        "def is_palindrome(string):\n",
        "  # Raise an error if input is not a string.\n",
        "  if not isinstance(string, str):\n",
        "    raise TypeError(\"Input must be a string.\")\n",
        "  \n",
        "  # Convert to lower case.\n",
        "  string = string.lower()\n",
        "  # TODO(you): Implement\n",
        "  print(\"This function has not been implemented.\")"
      ]
    },
    {
      "cell_type": "markdown",
      "metadata": {
        "id": "Ddyn9hiIWQIy"
      },
      "source": [
        "### Hint"
      ]
    },
    {
      "cell_type": "markdown",
      "metadata": {
        "id": "-AUih6SDWRCd"
      },
      "source": [
        "Your function should consist of three parts:\n",
        "\n",
        "1. Check the base cases. Words with 0 or 1 letter(s) are always palindromes. \n",
        "\n",
        "1. Check if the first letter is the same as the final letter. You can use `string[-1]` to access the final letter.\n",
        "\n",
        "1. Recursively check if the substring that excludes the first and last letters is a palindrome. You can use `string[1:-1]` to access this contained subtring."
      ]
    },
    {
      "cell_type": "markdown",
      "metadata": {
        "id": "gcYNdRSCWVOw"
      },
      "source": [
        "### Unit Tests\n",
        "\n",
        "Run the following cell to check your answer against some unit tests."
      ]
    },
    {
      "cell_type": "code",
      "execution_count": null,
      "metadata": {
        "id": "J8rgMe15ZPGq"
      },
      "outputs": [],
      "source": [
        "print(is_palindrome(\"a\"))\n",
        "# Should print: True\n",
        "\n",
        "print(is_palindrome(\"an\"))\n",
        "# Should print: False\n",
        "\n",
        "print(is_palindrome(\"Racecar\"))\n",
        "# Should print: True\n",
        "\n",
        "print(is_palindrome(\"Racecars\"))\n",
        "# Should print: False"
      ]
    },
    {
      "cell_type": "markdown",
      "metadata": {
        "id": "_w2AgGtPX8Aj"
      },
      "source": [
        "### Solution"
      ]
    },
    {
      "cell_type": "code",
      "execution_count": null,
      "metadata": {
        "id": "hJn21GE6bA97"
      },
      "outputs": [],
      "source": [
        "def is_palindrome(string):\n",
        "  # Raise an error if input is not a string.\n",
        "  if not isinstance(string, str):\n",
        "    raise TypeError(\"Input must be a string.\")\n",
        "  \n",
        "  # Convert to lower case.\n",
        "  string = string.lower()\n",
        "  \n",
        "  # The base case is that string has 0 or 1 characters.\n",
        "  # In this case, return True.\n",
        "  if len(string) in [0, 1]:\n",
        "    return True\n",
        "  \n",
        "  # Check that the first and last letter are the same, then recursively check\n",
        "  # that the inner strings are palindromes.\n",
        "  # Note that string[-1] is a Python-specific notation, short for\n",
        "  # string[len(string) - 1].\n",
        "  return (string[0] == string[-1]) and is_palindrome(string[1:-1])"
      ]
    },
    {
      "cell_type": "markdown",
      "metadata": {
        "id": "H58QOrKvX_dS"
      },
      "source": [
        "## Question 6"
      ]
    },
    {
      "cell_type": "markdown",
      "metadata": {
        "id": "8H1kP_quWs56"
      },
      "source": [
        "What does the following function do?"
      ]
    },
    {
      "cell_type": "code",
      "execution_count": null,
      "metadata": {
        "id": "VmbJpwKKXYpe"
      },
      "outputs": [],
      "source": [
        "#display\n",
        "def recursive_print(s):\n",
        "  if not isinstance(s, str):\n",
        "    raise TypeError(\"input must be a string\")\n",
        "  \n",
        "  if len(s) == 0:\n",
        "    return\n",
        "  # string[-1] returns the final character of the string.\n",
        "  print(s[-1])\n",
        "  # string[:-1] outputs all characters except the final character.\n",
        "  recursive_print(s[:-1])"
      ]
    },
    {
      "cell_type": "code",
      "execution_count": null,
      "metadata": {
        "id": "h0tbGucUp9tu"
      },
      "outputs": [],
      "source": [
        "#freetext"
      ]
    },
    {
      "cell_type": "markdown",
      "metadata": {
        "id": "aCknsALbkkPd"
      },
      "source": [
        "### Solution"
      ]
    },
    {
      "cell_type": "markdown",
      "metadata": {
        "id": "WLgnkQe_aMaV"
      },
      "source": [
        "This function prints the letters of a string in reverse."
      ]
    },
    {
      "cell_type": "code",
      "execution_count": null,
      "metadata": {
        "id": "rUTotELAaP5k"
      },
      "outputs": [],
      "source": [
        "recursive_print(\"Recursion is cool!\")"
      ]
    },
    {
      "cell_type": "markdown",
      "metadata": {
        "id": "bXnrZfrzYBVo"
      },
      "source": [
        "## Question 7"
      ]
    },
    {
      "cell_type": "markdown",
      "metadata": {
        "id": "EyPk1y51agN8"
      },
      "source": [
        "Count the occurrences of the character `'a'`/`'A'` in a string (uppercase or lowercase) using recursion."
      ]
    },
    {
      "cell_type": "code",
      "execution_count": null,
      "metadata": {
        "id": "KhGSRXuNaquj"
      },
      "outputs": [],
      "source": [
        "def count_letter_a(s):\n",
        "  if not isinstance(s, str):\n",
        "    raise TypeError(\"input must be a string\")\n",
        "  # TODO(you): Implement\n",
        "  print(\"This function has not been implemented.\")"
      ]
    },
    {
      "cell_type": "markdown",
      "metadata": {
        "id": "ml9h_TCHj75c"
      },
      "source": [
        "### Unit Tests\n",
        "\n",
        "Run the following cell to check your answer against some unit tests."
      ]
    },
    {
      "cell_type": "code",
      "execution_count": null,
      "metadata": {
        "id": "OJxnTsUib7Sg"
      },
      "outputs": [],
      "source": [
        "print(count_letter_a('A'))\n",
        "# Should print: 1\n",
        "\n",
        "print(count_letter_a('Recursion makes my head hurt :('))\n",
        "# Should print: 2\n",
        "\n",
        "print(count_letter_a('An alligator ate all Andy\\'s apples.'))\n",
        "# Should print: 7"
      ]
    },
    {
      "cell_type": "markdown",
      "metadata": {
        "id": "9HE9nQKqktA1"
      },
      "source": [
        "### Solution"
      ]
    },
    {
      "cell_type": "markdown",
      "metadata": {
        "id": "3BcfWmM8bVrp"
      },
      "source": [
        "Don't forget the base case where `len(s) == 0`, otherwise you will end up in an infinite loop."
      ]
    },
    {
      "cell_type": "code",
      "execution_count": null,
      "metadata": {
        "id": "LZHVig2cbWeH"
      },
      "outputs": [],
      "source": [
        "def count_letter_a(s):\n",
        "  if not isinstance(s, str):\n",
        "    raise TypeError(\"input must be a string\")\n",
        "\n",
        "  if len(s) == 0:\n",
        "    return 0\n",
        "\n",
        "  if s[0] == 'A' or s[0] == 'a':\n",
        "    return 1 + count_letter_a(s[1:])\n",
        "  else:\n",
        "    return count_letter_a(s[1:])"
      ]
    },
    {
      "cell_type": "markdown",
      "metadata": {
        "id": "PkU2Omq0YCFu"
      },
      "source": [
        "## Question 8"
      ]
    },
    {
      "cell_type": "markdown",
      "metadata": {
        "id": "BWWOPqgk4sOS"
      },
      "source": [
        "[Advanced] A [prime number](https://en.wikipedia.org/wiki/Prime_number) is a positive integer greater than 1 that has no integer factors except itself and 1."
      ]
    },
    {
      "cell_type": "markdown",
      "metadata": {
        "id": "M_cYYhFtqE0_"
      },
      "source": [
        "Here is an iterative approach to checking if a number is a prime number:"
      ]
    },
    {
      "cell_type": "code",
      "execution_count": null,
      "metadata": {
        "id": "6f4RTv5bRcFp"
      },
      "outputs": [],
      "source": [
        "def iterative_is_prime(n):\n",
        "  if not isinstance(n, int) or n \u003c 1:\n",
        "    raise ValueError(\"input must be a positive integer\")\n",
        "  \n",
        "  # 1 is defined to not be a prime number.\n",
        "  if n == 1:\n",
        "    return False\n",
        "  \n",
        "  # Check if n has any factors.\n",
        "  # Only start the range from 2, since 1 goes into every integer.\n",
        "  # Only check up to floor(n/2), since an integer larger than n/2 cannot be a\n",
        "  # factor of n.\n",
        "  for i in range(2, n//2 + 1):\n",
        "    if n % i == 0:\n",
        "      return False\n",
        "  \n",
        "  return True"
      ]
    },
    {
      "cell_type": "code",
      "execution_count": null,
      "metadata": {
        "id": "xrMvAfCuST-w"
      },
      "outputs": [],
      "source": [
        "for i in range(1, 11):\n",
        "  print(\"Is %d prime? %r\" % (i, iterative_is_prime(i)))"
      ]
    },
    {
      "cell_type": "markdown",
      "metadata": {
        "id": "cKf3ciKNTnfD"
      },
      "source": [
        "It is possible, and arguably cleaner, to create this function using recursion rather than iteration. Create a `recursive_is_prime` function. Remember the following aspects that will be core to your algorithm:\n",
        "\n",
        "- The base case is that 1 is not prime.\n",
        "- Stop checking for divisibility when the factor is greater than `n/2`.\n",
        "\n",
        "Note that your function will likely need to include another input parameter alongside `n`."
      ]
    },
    {
      "cell_type": "code",
      "execution_count": null,
      "metadata": {
        "id": "dPojlNRsOL1T"
      },
      "outputs": [],
      "source": [
        "def recursive_is_prime(n):\n",
        "  if not isinstance(n, int) or n \u003c 1:\n",
        "    raise ValueError(\"input must be a positive integer\")\n",
        "  \n",
        "  # TODO(you): Implement\n",
        "\n",
        "\n",
        "### Used to print and test your function\n",
        "for i in range(1, 11):\n",
        "  print(\"Is %d prime? %r\" % (i, recursive_is_prime(i)))\n"
      ]
    },
    {
      "cell_type": "markdown",
      "metadata": {
        "id": "KiSuPXfxk0i3"
      },
      "source": [
        "### Solution"
      ]
    },
    {
      "cell_type": "markdown",
      "metadata": {
        "id": "zCDgljFxV5xO"
      },
      "source": [
        "The key to this solution is to add the new parameter `i` which is the factor to check for. We initialize this at 2 and keep recursively checking for larger and larger `i` if `i` is a factor of `n`."
      ]
    },
    {
      "cell_type": "code",
      "execution_count": null,
      "metadata": {
        "id": "N0hJVf_sUUhh"
      },
      "outputs": [],
      "source": [
        "def recursive_is_prime(n, i=2):\n",
        "  if not isinstance(n, int) or n \u003c 1:\n",
        "    raise ValueError(\"input must be a positive integer\")\n",
        "  \n",
        "  if n == 1:\n",
        "    return False\n",
        "\n",
        "  # If i is greater than n//2, we already known that it cannot be a factor of n.\n",
        "  if 2 * i \u003e n:\n",
        "    return True\n",
        "\n",
        "  # Check if i is a factor of n.\n",
        "  if n % i == 0:\n",
        "    # If True, then n cannot be prime.\n",
        "    return False\n",
        "  else:\n",
        "    # If False, then check for the next factor.\n",
        "    return recursive_is_prime(n, i + 1)"
      ]
    },
    {
      "cell_type": "code",
      "execution_count": null,
      "metadata": {
        "id": "WX4TbSVIVyCU"
      },
      "outputs": [],
      "source": [
        "for i in range(1, 11):\n",
        "  print(\"Is %d prime? %r\" % (i, recursive_is_prime(i)))"
      ]
    },
    {
      "cell_type": "markdown",
      "metadata": {
        "id": "lpZ0x2ZqlEos"
      },
      "source": [
        "## Question 9"
      ]
    },
    {
      "cell_type": "markdown",
      "metadata": {
        "id": "V3zXrOLvnkyV"
      },
      "source": [
        "Why is this recursive function triggering an infinite loop? Can you fix it?"
      ]
    },
    {
      "cell_type": "code",
      "execution_count": null,
      "metadata": {
        "id": "UB8XbO9ZoKJQ"
      },
      "outputs": [],
      "source": [
        "# This function adds the non-negative integers less than or equal to the input.\n",
        "def sum_up_to(n):\n",
        "  return n + sum_up_to(n-1)"
      ]
    },
    {
      "cell_type": "markdown",
      "metadata": {
        "id": "MgwyJJbWmX2G"
      },
      "source": [
        "### Unit Tests\n",
        "\n",
        "Run the following cell to check your answer against some unit tests."
      ]
    },
    {
      "cell_type": "code",
      "execution_count": null,
      "metadata": {
        "id": "wq5Ja-HumY-7"
      },
      "outputs": [],
      "source": [
        "print(sum_up_to(5))\n",
        "# Should print: 15"
      ]
    },
    {
      "cell_type": "markdown",
      "metadata": {
        "id": "X8aKcm-Dmbj-"
      },
      "source": [
        "### Solution"
      ]
    },
    {
      "cell_type": "markdown",
      "metadata": {
        "id": "V_bAezLApivs"
      },
      "source": [
        "This function is missing two checks to avoid an infinite recursion:\n",
        "\n",
        "- the base case when `n=0`\n",
        "- the input check when `n \u003c 0`"
      ]
    },
    {
      "cell_type": "code",
      "execution_count": null,
      "metadata": {
        "id": "JlkaUWoxp_7X"
      },
      "outputs": [],
      "source": [
        "# This function adds the non-negative integers less than or equal to the input.\n",
        "def sum_up_to(n):\n",
        "  # If n is not a non-negative integer, throw a TypeError.\n",
        "  if not isinstance(n, int) or n \u003c 0:\n",
        "    return TypeError(\"input must be a non-negative integer\")\n",
        "\n",
        "  # The base case is when n = 0, return 0.\n",
        "  if n == 0:\n",
        "    return 0\n",
        "\n",
        "  return n + sum_up_to(n-1)"
      ]
    },
    {
      "cell_type": "markdown",
      "metadata": {
        "id": "T4f4yY4KlFzL"
      },
      "source": [
        "## Question 10"
      ]
    },
    {
      "cell_type": "markdown",
      "metadata": {
        "id": "nIn9O19F0fXa"
      },
      "source": [
        "You are an editor for your local newspaper, attempting to track whether incoming articles are too repetitive. You try to write a function that checks if an article contains any given word too often and decide to count the number of times a word occurs in an article. "
      ]
    },
    {
      "cell_type": "code",
      "execution_count": null,
      "metadata": {
        "id": "_r5HpohKdfVj"
      },
      "outputs": [],
      "source": [
        "# Count the number of occurences of `word` in `article`.\n",
        "def count_occurences_in_article(article, word):\n",
        "  # Convert the word to lower case.\n",
        "  word = word.lower()\n",
        "  word_length = len(word)\n",
        "\n",
        "  if len(article) \u003c word_length:\n",
        "    return 0\n",
        "\n",
        "  # Increment the count by 1 if we find a match.\n",
        "  # If not, move to the next block of letters.\n",
        "  if article[:word_length].lower() == word:\n",
        "    return 1 + count_occurences_in_article(article[word_length:], word)\n",
        "  else:\n",
        "    return count_occurences_in_article(article[word_length:], word)\n",
        "\n",
        "print(count_occurences_in_article(\n",
        "    \"This sentence contains the word war.\", \"war\"))    "
      ]
    },
    {
      "cell_type": "markdown",
      "metadata": {
        "id": "Q_ui9xjTeJgl"
      },
      "source": [
        "However, you find that your code is significantly undercounting the number of a specific word in your test article. Even when you use it on a sentence, it does not return the right answer."
      ]
    },
    {
      "cell_type": "markdown",
      "metadata": {
        "id": "Ro8yJAF3f2AK"
      },
      "source": [
        "Can you debug why you are undercounting?"
      ]
    },
    {
      "cell_type": "markdown",
      "metadata": {
        "id": "6csNRtqymA8m"
      },
      "source": [
        "### Unit Tests\n",
        "\n",
        "Run the following cell to check your answer against some unit tests."
      ]
    },
    {
      "cell_type": "code",
      "execution_count": null,
      "metadata": {
        "id": "YVdP-oc7mEFK"
      },
      "outputs": [],
      "source": [
        "print(count_occurences_in_article(\"The word 'war' is in this sentence.\", \"war\"))\n",
        "# Should print: 1"
      ]
    },
    {
      "cell_type": "markdown",
      "metadata": {
        "id": "HRnfJRCAnAd5"
      },
      "source": [
        "### Solution"
      ]
    },
    {
      "cell_type": "markdown",
      "metadata": {
        "id": "PWhxAzkNgQxW"
      },
      "source": [
        "This first problem with this code is that we are checking each block of `word_length` letters to see if it is equal to `word`. In the example sentence, we only check whether each block of 3 letters equals the word \"war\". That means that we check the following strings:"
      ]
    },
    {
      "cell_type": "code",
      "execution_count": null,
      "metadata": {
        "id": "nadbYNTXglwi"
      },
      "outputs": [],
      "source": [
        "string = \"The word 'war' is in this sentence.\"\n",
        "\n",
        "for i in range(0, len(string), 3):\n",
        "  print(string[i:(i+3)])"
      ]
    },
    {
      "cell_type": "markdown",
      "metadata": {
        "id": "R73da7KAhMEx"
      },
      "source": [
        "Instead, we want to check whether every consecutive set of 3 letters is equal to `word`. So instead of incrementing by `word_length`, we need to increment by 1."
      ]
    },
    {
      "cell_type": "code",
      "execution_count": null,
      "metadata": {
        "id": "mcCyL-qXhjRv"
      },
      "outputs": [],
      "source": [
        "# Count the number of occurences of `word` in `article`.\n",
        "def count_occurences_in_article(article, word):\n",
        "  # Convert the word to lower case.\n",
        "  word = word.lower()\n",
        "  word_length = len(word)\n",
        "\n",
        "  if len(article) \u003c word_length:\n",
        "    return 0\n",
        "\n",
        "  # Increment the count by 1 if we find a match.\n",
        "  # If not, move to the next set of letters.\n",
        "  if article[:word_length].lower() == word:\n",
        "    return 1 + count_occurences_in_article(article[1:], word)\n",
        "  else:\n",
        "    return count_occurences_in_article(article[1:], word)"
      ]
    },
    {
      "cell_type": "markdown",
      "metadata": {
        "id": "i0xkhhGylGtO"
      },
      "source": [
        "## Question 11"
      ]
    },
    {
      "cell_type": "markdown",
      "metadata": {
        "id": "-ri1n2-sl2Pv"
      },
      "source": [
        "[Advanced] You fixed the problem, but then you immediately found a new problem. You are overcounting the number of occurrences. For example, the sentence `\"Beware the dangers of war.\"` returns 2 instances of `\"war\"` instead of 1. Can you explain why and fix the issue?"
      ]
    },
    {
      "cell_type": "code",
      "execution_count": null,
      "metadata": {
        "id": "-AjwLzSLLiM4"
      },
      "outputs": [],
      "source": [
        "# Count the number of occurences of `word` in `article`.\n",
        "def count_occurences_in_article(article, word):\n",
        "  # Convert the word to lower case.\n",
        "  word = word.lower()\n",
        "  word_length = len(word)\n",
        "\n",
        "  if len(article) \u003c word_length:\n",
        "    return 0\n",
        "\n",
        "  # Increment the count by 1 if we find a match.\n",
        "  # If not, move to the next set of letters.\n",
        "  if article[:word_length].lower() == word:\n",
        "    return 1 + count_occurences_in_article(article[1:], word)\n",
        "  else:\n",
        "    return count_occurences_in_article(article[1:], word)"
      ]
    },
    {
      "cell_type": "markdown",
      "metadata": {
        "id": "hdJDcOt7nwR1"
      },
      "source": [
        "### Unit Tests\n",
        "\n",
        "Run the following cell to check your answer against some unit tests."
      ]
    },
    {
      "cell_type": "code",
      "execution_count": null,
      "metadata": {
        "id": "6--nts0Eoa9R"
      },
      "outputs": [],
      "source": [
        "print(count_occurences_in_article(\"Beware the dangers of war!\", \"war\"))\n",
        "# Should print: 1"
      ]
    },
    {
      "cell_type": "markdown",
      "metadata": {
        "id": "jyhP-1AvnIqw"
      },
      "source": [
        "### Solution"
      ]
    },
    {
      "cell_type": "markdown",
      "metadata": {
        "id": "bsurOYF9hu-_"
      },
      "source": [
        "The problem is that this function looks for any set of letters that matches the input `word`. So any word containing the letters \"war\" consecutively will increment the count by 1. In the sentence `\"Beware the dangers of war!\"`, we find 2 occurences of war, within \"Beware\" and \"war\".\n"
      ]
    },
    {
      "cell_type": "markdown",
      "metadata": {
        "id": "3QY0lxaEiaz-"
      },
      "source": [
        "Fixing this is not too difficult in principle, but it requires some fiddling around with the code.\n",
        "\n",
        "The main thing to check for is that the character before and after `word` are not letters. They can be spaces, special characaters, and maybe even numbers. We can do this using the `isalpha` method to check if a character is a letter.\n",
        "\n",
        "The trickier part to fix is the one exception, when the word occurs as the first word in the article. To fix this, we need to employ the same trick we used for Application Exercise 3, where we added a new input parameter to keep track of where we are. Since we only care whether this is the first iteration or not, we add a boolean indicator `is_first_iteration`. The default value is `True`, but when we call `count_occurences_in_article` recursively in the last line of the function, we pass it `False`."
      ]
    },
    {
      "cell_type": "code",
      "execution_count": null,
      "metadata": {
        "id": "BE_aolyFixDe"
      },
      "outputs": [],
      "source": [
        "# Count the number of occurences of `word` in `article`.\n",
        "def count_occurences_in_article(article, word, is_first_iteration=True):\n",
        "  # Convert the word to lower case.\n",
        "  word = word.lower()\n",
        "  word_length = len(word)\n",
        "\n",
        "  if len(article) \u003c word_length:\n",
        "    return 0\n",
        "\n",
        "  # Check whether the letter before and after are spaces or special characters,\n",
        "  # or whether this is the first iteration.\n",
        "  letters = article[:(word_length+2)]\n",
        "  # The word is ok before if it is preceded by a non-letter or if this is the\n",
        "  # first iteration.\n",
        "  ok_before = is_first_iteration or (not letters[0].isalpha())\n",
        "  # The word is ok after if it is followed by a non-letter.\n",
        "  ok_after = not letters[-1].isalpha()\n",
        "  \n",
        "  # Increment the count by 1 if we find a match.\n",
        "  # If not, move to the next set of letters.\n",
        "  if ok_before and ok_after and letters[1:-1].lower() == word.lower():\n",
        "    return 1 + count_occurences_in_article(article[1:], word)\n",
        "  else:\n",
        "    return count_occurences_in_article(article[1:], word, False)"
      ]
    }
  ],
  "metadata": {
    "colab": {
      "collapsed_sections": [
        "FkNJ2Wghi6v0",
        "4dFtIaSxXqN7",
        "r0d0tKG3NZOd",
        "K7iF_wp2Xxpt",
        "gWG-sTWTODld",
        "O2hhvFIMONZz",
        "XEE0E0apX6WU",
        "Ddyn9hiIWQIy",
        "gcYNdRSCWVOw",
        "_w2AgGtPX8Aj",
        "aCknsALbkkPd",
        "ml9h_TCHj75c",
        "9HE9nQKqktA1",
        "KiSuPXfxk0i3",
        "MgwyJJbWmX2G",
        "X8aKcm-Dmbj-",
        "6csNRtqymA8m",
        "HRnfJRCAnAd5",
        "hdJDcOt7nwR1",
        "jyhP-1AvnIqw"
      ],
      "name": "recursive_functions.ipynb",
      "provenance": [ ]
    },
    "kernelspec": {
      "display_name": "Python 3",
      "name": "python3"
    }
  },
  "nbformat": 4,
  "nbformat_minor": 0
}
