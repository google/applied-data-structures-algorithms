{
  "cells": [
    {
      "cell_type": "markdown",
      "metadata": {
        "id": "Pic8r3n4AWWu"
      },
      "source": [
        "# Debugging"
      ]
    },
    {
      "cell_type": "markdown",
      "metadata": {
        "id": "40klIjfB3g0H"
      },
      "source": [
        "## Lesson Overview"
      ]
    },
    {
      "cell_type": "markdown",
      "metadata": {
        "id": "8WWPuZ6JxE5L"
      },
      "source": [
        "Ideally, code would run perfectly and output the correct information on the first try. In practice, however, we often need to remove unintentional errors that can inhibit program flow. These errors are often called \"bugs\", and the process of cleaning up code to remove them is known as **debugging**."
      ]
    },
    {
      "cell_type": "markdown",
      "metadata": {
        "id": "24FzSdqzmP3q"
      },
      "source": [
        "### Common error and exception types"
      ]
    },
    {
      "cell_type": "markdown",
      "metadata": {
        "id": "0udwObR3YNs9"
      },
      "source": [
        "Some bugs won't just manifest as unexpected output; they will cause the program to crash without completing. Take this code, for example:"
      ]
    },
    {
      "cell_type": "code",
      "execution_count": null,
      "metadata": {
        "id": "n_uFmpISmfeO"
      },
      "outputs": [],
      "source": [
        "print(hello world\")"
      ]
    },
    {
      "cell_type": "markdown",
      "metadata": {
        "id": "3KVy4MQRmkyX"
      },
      "source": [
        "If you think this looks incorrect, you're right. This code, as written, will not run successfully. When run, it shows the following error:\n",
        "\n",
        "```python\n",
        "  File \"\u003cipython-input-1-3b9a8570da25\u003e\", line 1\n",
        "    print(hello world\")\n",
        "                    ^\n",
        "SyntaxError: invalid syntax\n",
        "```"
      ]
    },
    {
      "cell_type": "markdown",
      "metadata": {
        "id": "raGs97Lbm5gu"
      },
      "source": [
        "This type of error is known as a **syntax error**, or a problem experienced when parsing the code. If the code cannot be parsed correctly, it cannot be run correctly. These are usually due to missing key punctuation, such as a `:` after a loop, missing a closing or opening parenthesis, or, in this case, missing a `\"` needed to define a string. A `SyntaxError` typically stops program execution before the code is actually run, as Python does a first pass through the code to make sure it can be parsed correctly.\n",
        "\n",
        "When you see an error, the error traceback will usually tell you what line the error is on. In this case, we only have one line of code, so line 1 is our culprit. This can be more complicated as code becomes increasingly nested."
      ]
    },
    {
      "cell_type": "markdown",
      "metadata": {
        "id": "mdkC5Ge4njMd"
      },
      "source": [
        "There are a few common exceptions that you may see as you start to code more in Python:\n",
        "\n",
        "*   `ZeroDivisionError`\n",
        "*   `TypeError`\n",
        "*   `NameError`\n",
        "\n",
        "A `ZeroDivisionError` is, as the name suggests, an error raised by dividing by zero. Dividing anything by zero is undefined, mathematically, so a computer just errors out instead of trying to calculate it. This code, for instance, will generate a `ZeroDivisionError`."
      ]
    },
    {
      "cell_type": "code",
      "execution_count": null,
      "metadata": {
        "id": "bBWFWQgSoNcj"
      },
      "outputs": [],
      "source": [
        "def calculate_speed(distance, time):\n",
        "  speed = distance / time\n",
        "  return speed\n",
        "\n",
        "calculate_speed(50, 0)"
      ]
    },
    {
      "cell_type": "markdown",
      "metadata": {
        "id": "NOMrc7NCocWv"
      },
      "source": [
        "Additionally, the traceback on that error is expanded. Generally, a traceback shows exactly where the error occured in a program. In this, `calculate_speed` is where the error occured, but `calculate_speed` itself didn't cause the error. Instead, `speed = distance / time` was the cause of our error, since `time` was set to 0."
      ]
    },
    {
      "cell_type": "markdown",
      "metadata": {
        "id": "yE02H0GkO59a"
      },
      "source": [
        "A `TypeError` means that you've passed data of the wrong type or an unexpected type. This frequently happens when dealing with `None`, in Python. Take a look at this example:"
      ]
    },
    {
      "cell_type": "code",
      "execution_count": null,
      "metadata": {
        "id": "S1bVp-_4lt5h"
      },
      "outputs": [],
      "source": [
        "def buggy_absolute_value(number):\n",
        "  if number \u003c= 0:\n",
        "    return -1 * number\n",
        "\n",
        "def calculate_speed(distance, time):\n",
        "  speed = buggy_absolute_value(distance) / buggy_absolute_value(time) \n",
        "  return speed\n",
        "\n",
        "print(calculate_speed(-50, 10))"
      ]
    },
    {
      "cell_type": "markdown",
      "metadata": {
        "id": "Q5HPYrC6O59b"
      },
      "source": [
        "Running that code produces this error: `TypeError: unsupported operand type(s) for /: 'int' and 'NoneType'`. This is telling you that at some point, one of those variables is becoming `None`. Specifically, `buggy_absolute_value(time)` is `None`. Why? \n",
        "\n",
        "Well, while `buggy_absolute_value` returns a positive integer if a negative one is passed in, it returns nothing if a positive integer is passed in! This causes the result to be `None`, which cannot be used with a `/` operation. Adding `return number` below the if statement will solve this bug."
      ]
    },
    {
      "cell_type": "code",
      "execution_count": null,
      "metadata": {
        "id": "wuu9i9jG7cUK"
      },
      "outputs": [],
      "source": [
        "def buggy_absolute_value(number):\n",
        "  if number \u003c= 0:\n",
        "    return -1 * number\n",
        "  return number\n",
        "\n",
        "def calculate_speed(distance, time):\n",
        "  speed = buggy_absolute_value(distance) / buggy_absolute_value(time) \n",
        "  return speed\n",
        "\n",
        "print(calculate_speed(-50, 10))"
      ]
    },
    {
      "cell_type": "markdown",
      "metadata": {
        "id": "qJZ-bXgMo29k"
      },
      "source": [
        "A `NameError` is a common error, as well. This is simply the program saying that a name wasn't found. Helpfully, the error message also tells you which name was not found, as in this example:"
      ]
    },
    {
      "cell_type": "code",
      "execution_count": null,
      "metadata": {
        "id": "pNY5BrtZpFCh"
      },
      "outputs": [],
      "source": [
        "def print_x_times(string_to_print, num_times_to_print):\n",
        "  for i in range(num_times_to_print):\n",
        "    primt(string_to_print)\n",
        "\n",
        "print_x_times('hello world', 5)"
      ]
    },
    {
      "cell_type": "markdown",
      "metadata": {
        "id": "hY0ioG-opcOC"
      },
      "source": [
        "Running that code produces this error: `NameError: name 'primt' is not defined`. This is just a typo; `primt` should be changed to `print` and the code will work again."
      ]
    },
    {
      "cell_type": "markdown",
      "metadata": {
        "id": "G0MhEerPp1N9"
      },
      "source": [
        "As you begin to work with additional data structures and algorithms, you'll begin to see more error types, such as an `IndexError`, a `KeyError` or a `ValueError`. For a full list of Python built-in exceptions, see Python's [documentation](https://docs.python.org/3/library/exceptions.html#bltin-exceptions)."
      ]
    },
    {
      "cell_type": "markdown",
      "metadata": {
        "id": "CoZnoYhYqFYr"
      },
      "source": [
        "### Print debugging"
      ]
    },
    {
      "cell_type": "markdown",
      "metadata": {
        "id": "b7uCyqP5uQWp"
      },
      "source": [
        "The first tool in a programmer's debugging arsenal is often just using `print` to check the values in a piece of code while it's executing. This doesn't necessarily always work to identify problems, but it can often allow the author to check their expectations and keep an eye out for off-by-one errors, where the bounds on some slice or code modification are incorrectly generated. Take, for example, this code:\n",
        "\n",
        "```python\n",
        "def count_letters_in_text(text):\n",
        "  # This function counts the number of letters in inputted text, ignoring \n",
        "  # spaces.\n",
        "  result_count = 0\n",
        "  start_index = 0\n",
        "  for i in range(len(text)):\n",
        "    if text[i] == ' ':\n",
        "      current_word_length = len(text[start_index:i])\n",
        "      result_count += current_word_length\n",
        "      start_index = i\n",
        "    else:\n",
        "      continue\n",
        "  current_word_length = len(text[start_index:])\n",
        "  result_count += current_word_length\n",
        "  return result_count\n",
        "\n",
        "text = \"\"\"I have lived very agreeably. I have begun a poem in verses of one \n",
        "syllable. That is rather difficult, but the merit in all things consists in the \n",
        "difficulty. The matter is gallant.\"\"\"\n",
        "print(count_letters_in_text(text))\n",
        "```"
      ]
    },
    {
      "cell_type": "markdown",
      "metadata": {
        "id": "mDDB_bmx1t3e"
      },
      "source": [
        "There's quite a bit of text in that quote, so it's not immediately clear if that count is correct or not. Rather than counting by hand, we can instead insert a `print` statement that prints `current_word_length`. That will tell us pretty quickly if it works."
      ]
    },
    {
      "cell_type": "code",
      "execution_count": null,
      "metadata": {
        "id": "Sw1L2E1T3UJ7"
      },
      "outputs": [],
      "source": [
        "def count_letters_in_text(text):\n",
        "  # This function counts the number of letters in inputted text, ignoring \n",
        "  # spaces.\n",
        "  result_count = 0\n",
        "  start_index = 0\n",
        "  for i in range(len(text)):\n",
        "    if text[i] == ' ':\n",
        "      current_word_length = len(text[start_index:i])\n",
        "      result_count += current_word_length\n",
        "      start_index = i\n",
        "    else:\n",
        "      continue\n",
        "  current_word_length = len(text[start_index:])\n",
        "  result_count += current_word_length\n",
        "  return result_count\n",
        "\n",
        "text = \"\"\"I have lived very agreeably. I have begun a poem in verses of one \n",
        "syllable. That is rather difficult, but the merit in all things consists in the \n",
        "difficulty. The matter is gallant.\"\"\"\n",
        "print(count_letters_in_text(text))"
      ]
    },
    {
      "cell_type": "markdown",
      "metadata": {
        "id": "oERYhx4f3acy"
      },
      "source": [
        "Looking at the print output, the function seems to be adding an extra letter to every letter after the first. Since it's not happening for the first letter, this suggests that the bug is around `start_index` getting reassigned. Here, we can see that it's getting reassigned as `i`, but `i` is the index of the space, meaning we should instead make it `i + 1`. This leads to this change in our code:"
      ]
    },
    {
      "cell_type": "code",
      "execution_count": null,
      "metadata": {
        "id": "suG-U-6F4KTx"
      },
      "outputs": [],
      "source": [
        "def count_letters_in_text(text):\n",
        "  # This function counts the number of letters in inputted text, ignoring \n",
        "  # spaces.\n",
        "  result_count = 0\n",
        "  start_index = 0\n",
        "  for i in range(len(text)):\n",
        "    if text[i] == ' ':\n",
        "      current_word_length = len(text[start_index:i])\n",
        "      print(current_word_length)\n",
        "      result_count += current_word_length\n",
        "      start_index = i + 1\n",
        "    else:\n",
        "      continue\n",
        "  current_word_length = len(text[start_index:])\n",
        "  result_count += current_word_length\n",
        "  return result_count\n",
        "\n",
        "text = \"\"\"I have lived very agreeably. I have begun a poem in verses of one \n",
        "syllable. That is rather difficult, but the merit in all things consists in the \n",
        "difficulty. The matter is gallant.\"\"\"\n",
        "print(count_letters_in_text(text))"
      ]
    },
    {
      "cell_type": "markdown",
      "metadata": {
        "id": "bjKqcDJ15Le8"
      },
      "source": [
        "This seems to be the correct result, and we can compare word lengths seen in `count_letters_in_text` to some of the words in the text to confirm this. Print debugging can be helpful when working with code that is too complicated to trace through by hand or when trying to gain familiarity with new code."
      ]
    },
    {
      "cell_type": "markdown",
      "metadata": {
        "id": "yJPGGvQy6y_c"
      },
      "source": [
        "### Pdb and debugging in Python"
      ]
    },
    {
      "cell_type": "markdown",
      "metadata": {
        "id": "kzFXD49a68P4"
      },
      "source": [
        "Another, more involved method for debugging is to use `pdb`, a Python module that allows for interactive debugging. While more complex than print debugging, `pdb` allows for some powerful additional features that can often help find issues with code.\n",
        "\n",
        "`pdb` cannot be used in Colab, so generally to use it you will either need to use it on your local machine or via a site like [Google Cloud Shell](https://cloud.google.com/shell). Going to that site and going to the console will allow you to use an editor and a terminal to run code and potentially debug it.\n",
        "\n",
        "To use `pdb`, add the following line to your code where you want to start debugging:\n",
        "\n",
        "```python\n",
        "import pdb; pdb.set_trace()\n",
        "```\n",
        "\n",
        "Running a program with this line will import the required module and kick off the debugger, pausing execution of code on that line. There are a number of useful commands that can be executed, depending on where you are in the function:\n",
        "\n",
        "*   **print({expression})**: This can be used to print the value of any object that's currently within the scope of that function. This can be used similarly to `print` debugging, but on-demand. You can use **p**, as well, but using `print` requires the appropriate Python 3 syntax; **p** does not.\n",
        "*   **c, continue, cont**: This command unpauses execution, but will stop again if the code encounters another breakpoint (such as `pdb.set_trace()` again).\n",
        "*   **r, return**: This command unpauses execution until the current function returns.\n",
        "*   **s, step**: This continues execution exactly one line. This means that if the next line is inside of a function, it will move to that line to continue execution.\n",
        "*   **n, next**: This continues execution exactly one line, but unlike **step** it skips over functions. This will move to the next line in the current function, instead.\n",
        "\n",
        "This is a basic set of commands that will help navigate through code. For more complex commands, including moving up and down stack frames, setting breakpoints, and more interactive debugging tools, see the `pdb` [documentation](https://docs.python.org/3/library/pdb.html#debugger-commands).\n",
        "\n"
      ]
    },
    {
      "cell_type": "markdown",
      "metadata": {
        "id": "GH9OWx3wjhTE"
      },
      "source": [
        "## Question 1"
      ]
    },
    {
      "cell_type": "markdown",
      "metadata": {
        "id": "YjLrLVfvikwZ"
      },
      "source": [
        "Consider the following code."
      ]
    },
    {
      "cell_type": "markdown",
      "metadata": {
        "id": "IpMTvcMoiWud"
      },
      "source": [
        "```python\n",
        "def this_function_definitely_works(test_variable):\n",
        "  num_iterations = 0\n",
        "  for i in range(5):\n",
        "    result = test_variable / i\n",
        "    prit(result)\n",
        "    num_iterations += 1\n",
        "  print(%s' % num_iterations)\n",
        "\n",
        "this_function_definitely_works(10)\n",
        "```"
      ]
    },
    {
      "cell_type": "markdown",
      "metadata": {
        "id": "ootP2MVBis6I"
      },
      "source": [
        "When running this code, what error should we expect to be raised?"
      ]
    },
    {
      "cell_type": "markdown",
      "metadata": {
        "id": "5NdGphqGi6vz"
      },
      "source": [
        "**a)** No errors; this function will successfully complete.\n",
        "\n",
        "**b)** `NameError`\n",
        "\n",
        "**c)** `SyntaxError`\n",
        "\n",
        "**d)** `ZeroDivisionError`"
      ]
    },
    {
      "cell_type": "markdown",
      "metadata": {
        "id": "FkNJ2Wghi6v0"
      },
      "source": [
        "### Solution"
      ]
    },
    {
      "cell_type": "markdown",
      "metadata": {
        "id": "Kn3LHu90i6v0"
      },
      "source": [
        "The correct answer is **c)**.\n",
        "\n",
        "**a)** There are three lines in this function that have bugs in them; see if you can identify them all!\n",
        "\n",
        "**b)** While `prit` will eventually raise a `NameError`, it will happen after the `SyntaxError` is raised *and* after the `ZeroDivisionError` on the line above.\n",
        "\n",
        "**d)** The `ZeroDivisionError` is the first error in terms of line ordering, but a `SyntaxError` will be raised during the parsing step, before any code is actually run."
      ]
    },
    {
      "cell_type": "markdown",
      "metadata": {
        "id": "2FUqsgnyqgGU"
      },
      "source": [
        "## Question 2"
      ]
    },
    {
      "cell_type": "markdown",
      "metadata": {
        "id": "Tw9YdiHsMorw"
      },
      "source": [
        "Consider the following code."
      ]
    },
    {
      "cell_type": "markdown",
      "metadata": {
        "id": "m3-PUWTyMor8"
      },
      "source": [
        "```python\n",
        "def validate_number(number):\n",
        "  if number \u003c= 0:\n",
        "    return 0\n",
        "  else:\n",
        "    return number\n",
        "\n",
        "def average_letters_per_word(word_list):\n",
        "  total_letters = 0\n",
        "  for word in word_list:\n",
        "    total_letters += len(word)\n",
        "  \n",
        "  list_length = validate_number(len(word_list))\n",
        "  total_letters = validate_number(total_letters)\n",
        "  return (total_letters / list_length)\n",
        "  \n",
        "word_list = 'I must speak to you by such means as are within my reach. You pierce my soul. I am half agony, half hope.'.split(' ')\n",
        "average_letters_per_word(word_list)\n",
        "```"
      ]
    },
    {
      "cell_type": "markdown",
      "metadata": {
        "id": "lhlBkYlGMor8"
      },
      "source": [
        "When running this code, what error should we expect to be raised?"
      ]
    },
    {
      "cell_type": "markdown",
      "metadata": {
        "id": "cg6KiBDuMor8"
      },
      "source": [
        "**a)** No errors; this function will successfully complete.\n",
        "\n",
        "**b)** `NameError`\n",
        "\n",
        "**c)** `TypeError`\n",
        "\n",
        "**d)** `ZeroDivisionError`"
      ]
    },
    {
      "cell_type": "markdown",
      "metadata": {
        "id": "2qIy2BsrMor8"
      },
      "source": [
        "### Solution"
      ]
    },
    {
      "cell_type": "markdown",
      "metadata": {
        "id": "xUxf2PY6Mor8"
      },
      "source": [
        "The correct answer is **a)**.\n",
        "\n",
        "**b)** All variables are correctly named, so a `NameError` should not occur.\n",
        "\n",
        "**c)** The `validate_number` code is very similar to the `TypeError` example above, but it doesn't produce a `TypeError`, as it always returns an integer.\n",
        "\n",
        "**d)** This is a tricky one, since there *is* a bug related to dividing by zero, here. If you pass in an empty `word_list`, then `validate_number` will return 0, causing a `ZeroDivsionError`. However, except in that case, `validate_number` will return a positive integer. To fix this, don't call `validate_number` on `total_letters`, as that will never be negative, and change `validate_number` to return 1 instead of 0, should `number` be less than or equal to zero. If you caught this, nice work! This error just won't occur based on our current inputs."
      ]
    },
    {
      "cell_type": "markdown",
      "metadata": {
        "id": "oP1jK3mkdgK-"
      },
      "source": [
        "## Question 3"
      ]
    },
    {
      "cell_type": "markdown",
      "metadata": {
        "id": "9YqAudhuSxJg"
      },
      "source": [
        "On what line does the error in this code occur?\n"
      ]
    },
    {
      "cell_type": "code",
      "execution_count": null,
      "metadata": {
        "id": "fpem4YpVCm4i"
      },
      "outputs": [],
      "source": [
        "def __(absolute_truth):\n",
        "  absolute_truth *= 2\n",
        "  return absolute_truth\n",
        "\n",
        "def _(a, b):\n",
        "  red_herring = a + b \n",
        "  secrets = __(red_herring)\n",
        "\n",
        "def ___(q, e, d):\n",
        "  return p + e + d\n",
        "\n",
        "def starter(not_a_number, definitely_a_number):\n",
        "  return ___(len(definitely_a_number), not_a_number, 5)\n",
        "\n",
        "print(starter(5, 'piglet') + _(7, 8))"
      ]
    },
    {
      "cell_type": "code",
      "execution_count": null,
      "metadata": {
        "id": "TjiXfW0ghcby"
      },
      "outputs": [],
      "source": [
        "#freetext\n"
      ]
    },
    {
      "cell_type": "markdown",
      "metadata": {
        "id": "nPptDV2feEs2"
      },
      "source": [
        "### Hint"
      ]
    },
    {
      "cell_type": "markdown",
      "metadata": {
        "id": "QyjfzTDJeDOT"
      },
      "source": [
        "You don't actually need to look too hard at the code, for this one; try checking what happens when you run it!"
      ]
    },
    {
      "cell_type": "markdown",
      "metadata": {
        "id": "opB3JcMWeZQy"
      },
      "source": [
        "### Solution"
      ]
    },
    {
      "cell_type": "markdown",
      "metadata": {
        "id": "Y6RL84hDizJU"
      },
      "source": [
        "The answer is line **11**.\n",
        "\n",
        "Though the code is written to be intentionally confusing, the person writing the code didn't mind their p's and q's and switched one for the other, resulting in a `NameError`. Rather than needing to trade that, running the code will produce its stack trace, which points to the line on which the error occurred."
      ]
    },
    {
      "cell_type": "markdown",
      "metadata": {
        "id": "Vj9ye95gdg1a"
      },
      "source": [
        "## Question 4"
      ]
    },
    {
      "cell_type": "markdown",
      "metadata": {
        "id": "hfMyidfBdWYl"
      },
      "source": [
        "Using either print debugging or `pdb` (use Cloud Shell or your own computer), determine the value of `num_classes_printed` when the `Error` is raised."
      ]
    },
    {
      "cell_type": "code",
      "execution_count": null,
      "metadata": {
        "id": "XLoDnatBlrgi"
      },
      "outputs": [],
      "source": [
        "def format_transcript(student, classes, grades, num_classes_printed):\n",
        "  print(student)\n",
        "  for i in range(len(classes)):\n",
        "    print('%s:  %s' % (classes[i], grades[i]))\n",
        "    if grades[i] is None:\n",
        "      continue\n",
        "    num_classes_printed += 1\n",
        "  return num_classes_printed\n",
        "\n",
        "\n",
        "student = 'G. Kurouzu'\n",
        "classes = ['Darkness', 'Destiny', 'Card Games', 'Grammar', 'Sportsmanship']\n",
        "grades = ['A+', 'A++', 'A', 'A', 'C']\n",
        "num_classes_printed = format_transcript(\n",
        "    student, classes, grades, 0)\n",
        "print('\\n\\n')\n",
        "\n",
        "student = 'G. Mikado'\n",
        "classes = ['Math', 'Card Games', 'Intro to Worlds', 'Grammar', 'Sportsmanship']\n",
        "grades = [None, 'A', 'A', 'C']\n",
        "num_classes_printed = format_transcript(\n",
        "    student, classes, grades, num_classes_printed)"
      ]
    },
    {
      "cell_type": "code",
      "execution_count": null,
      "metadata": {
        "id": "t9iyMOQHeUR0"
      },
      "outputs": [],
      "source": [
        "#freetext\n"
      ]
    },
    {
      "cell_type": "markdown",
      "metadata": {
        "id": "WP3PGajGdwhn"
      },
      "source": [
        "### Solution"
      ]
    },
    {
      "cell_type": "markdown",
      "metadata": {
        "id": "GqeKLocLA9y7"
      },
      "source": [
        "The correct answer is **8**.\n",
        "\n",
        "In this function, we try to print student transcripts before the code crashes, as G. Mikado's `classes` is longer than their `grades`, leading to an `IndexError`, where we try to call `grades[i]` with an `i` greater than the last valid index of `grades`.\n",
        "\n",
        "Where should the `print` or `pdb.set_trace()` go? If you don't mind seeing a bunch of output, you can put it at the top of the `for` loop. This will let you check the value of `num_classes_printed` at the start of every loop, and checking the last value before you print should allow you to see the solution."
      ]
    },
    {
      "cell_type": "markdown",
      "metadata": {
        "id": "x30C0lURdd94"
      },
      "source": [
        "## Question 5"
      ]
    },
    {
      "cell_type": "markdown",
      "metadata": {
        "id": "4LPiaWMXUA2r"
      },
      "source": [
        "Fix the syntax errors in this code so that it runs without issue, and then provide the output of the code as the answer."
      ]
    },
    {
      "cell_type": "code",
      "execution_count": null,
      "metadata": {
        "id": "SPsAPs6lk-mw"
      },
      "outputs": [],
      "source": [
        "def string_facts(string_1 string_2):\n",
        "  vowel_count = 0; consonant_count = 0\n",
        "  lower_string = string_1.lower()\n",
        "  for i in range(len(string_1)):\n",
        "    if lower_string[i] in {'a', 'e', 'i', 'o', 'u'}:\n",
        "      vowel_count += 1\n",
        "    else\n",
        "      consonant_count += 1\n",
        "  print('First string has %d vowels and %d consonants.' % (\n",
        "      vowel_count, consonant_count))\n",
        "  \n",
        "  vowel_count = 0; consonant_count = 0\n",
        "  lower_string = string_2.lower()\n",
        "  for i in range(len(string_2):\n",
        "    if lower_string[i] in {'a', 'e', 'i', 'o', 'u'}:\n",
        "      vowel_count += 1\n",
        "    else\n",
        "      consonant_count += 1\n",
        "  print('Second string has %d vowels and %d consonants.' % (\n",
        "      vowel_count, consonant_count)\n",
        "\n",
        "string_facts(\n",
        "    'Hippopotomonstrosesquippedaliophobia',\n",
        "    'Floccinaucinihilipilification')"
      ]
    },
    {
      "cell_type": "code",
      "execution_count": null,
      "metadata": {
        "id": "W-19l2lDM1Ke"
      },
      "outputs": [],
      "source": [
        "#freetext\n"
      ]
    },
    {
      "cell_type": "markdown",
      "metadata": {
        "id": "453CW7tSgPVk"
      },
      "source": [
        "### Solution"
      ]
    },
    {
      "cell_type": "markdown",
      "metadata": {
        "id": "2_u0R3B2UMFa"
      },
      "source": [
        "The output should read as follows:"
      ]
    },
    {
      "cell_type": "markdown",
      "metadata": {
        "id": "vKANtxXZkxLU"
      },
      "source": [
        "```\n",
        "First string has 16 vowels and 20 consonants.\n",
        "Second string has 14 vowels and 15 consonants.\n",
        "```"
      ]
    },
    {
      "cell_type": "markdown",
      "metadata": {
        "id": "RYS7sWFYi5lk"
      },
      "source": [
        "## Question 6"
      ]
    },
    {
      "cell_type": "markdown",
      "metadata": {
        "id": "sE39F1e7Mplt"
      },
      "source": [
        "Using any debugging techniques of your choosing, fix the errors in this code. Some of the errors may be logical errors, rather than errors that halt program flow."
      ]
    },
    {
      "cell_type": "code",
      "execution_count": null,
      "metadata": {
        "id": "BdimG9ajMx1g"
      },
      "outputs": [],
      "source": [
        "def ultimate_adder(input_list):\n",
        "  # This function attempts to sum the input list by any means necessary. It will\n",
        "  # go through the list, check the type of each element, and process it as \n",
        "  # necessary. If an element type isn't here, it will simply add 0. This \n",
        "  # function should return the final sum of input_list.\n",
        "  # As a fun bonus, it will also print the average value of the elements,\n",
        "  # treating each element of a list as its own element.\n",
        "  final_total = 0\n",
        "  num_elements = 0\n",
        "  for element in input_list:\n",
        "    if isinstance(element int):\n",
        "      final_total += element # Start with the easiest one.\n",
        "    if isinstance(element bool):\n",
        "      final_total += boolean_adder(element)\n",
        "    if isinstance(element str):\n",
        "      fina1_total += boolean_adder(element)\n",
        "    if isinstance(element list):\n",
        "      num_eements -= 1 # We shouldn't count the list itself.\n",
        "      num_elements += len(element)\n",
        "      final_total += list_adder(element)\n",
        "    else:\n",
        "      fina1_total += 1\n",
        "  average = final_total / num_elements\n",
        "  print('Average value: %s' % average)\n",
        "  return 10\n",
        "\n",
        "def boolean_adder(boolean):\n",
        "  if boolean:\n",
        "    return 1\n",
        "  return 0\n",
        "\n",
        "def string_adder(string):\n",
        "  total = 15\n",
        "  for character in string:\n",
        "    total += ord(character) # ord() calculates the ascii value of a character!\n",
        "  return total\n",
        "\n",
        "def list_adder(input_list):\n",
        "  return ultimate_adder(input_list) # This ... should work."
      ]
    },
    {
      "cell_type": "markdown",
      "metadata": {
        "id": "7ed5A-pB-8lD"
      },
      "source": [
        "### Unit Tests\n",
        "\n",
        "Run the following cell to check your answer against some unit tests."
      ]
    },
    {
      "cell_type": "code",
      "execution_count": null,
      "metadata": {
        "id": "cTXWkJwXPuyy"
      },
      "outputs": [],
      "source": [
        "print(ultimate_adder([3, 4, {1, 2, 3}]))\n",
        "# Should print: 7\n",
        "\n",
        "print(ultimate_adder([-101, True, 'salt']))\n",
        "# Should print: 337\n",
        "\n",
        "print(ultimate_adder([[-3015, 'a musical about cats'], False, 'hello world']))\n",
        "# Should print: 10\n",
        "\n",
        "print(ultimate_adder([[[[[[[[45]]]]]]]]))\n",
        "# Should print: 45"
      ]
    },
    {
      "cell_type": "markdown",
      "metadata": {
        "id": "r-VXZ_2rj9AU"
      },
      "source": [
        "### Solution"
      ]
    },
    {
      "cell_type": "markdown",
      "metadata": {
        "id": "JgzQVOvKrVYj"
      },
      "source": [
        "There are quite a few errors in this, so keep an eye out for various syntax issues, naming issues, and even the one `ZeroDivisionError`."
      ]
    },
    {
      "cell_type": "code",
      "execution_count": null,
      "metadata": {
        "id": "qvsuoXgYpbmQ"
      },
      "outputs": [],
      "source": [
        "def ultimate_adder(input_list):\n",
        "  # This function attempts to sum the input list by any means necessary. It will\n",
        "  # go through the list, check the type of each element, and process it as \n",
        "  # necessary. If an element type isn't here, it will simply add 0. This \n",
        "  # function should return the final sum of input_list.\n",
        "  # As a fun bonus, it will also print the average value of the elements,\n",
        "  # treating each element of a list as its own element.\n",
        "  final_total = 0\n",
        "  num_elements = len(input_list)\n",
        "  for element in input_list:\n",
        "    if isinstance(element, int):\n",
        "      final_total += element # Start with the easiest one.\n",
        "    if isinstance(element, bool):\n",
        "      final_total += boolean_adder(element)\n",
        "    if isinstance(element, str):\n",
        "      final_total += string_adder(element)\n",
        "    if isinstance(element, list):\n",
        "      num_elements -= 1 # We shouldn't count the list itself.\n",
        "      num_elements += len(element)\n",
        "      final_total += list_adder(element)\n",
        "    else:\n",
        "      final_total += 0\n",
        "  average = final_total / num_elements\n",
        "  print('Average value: %s' % average)\n",
        "  return final_total\n",
        "\n",
        "def boolean_adder(boolean):\n",
        "  if boolean:\n",
        "    return 1\n",
        "  return 0\n",
        "\n",
        "def string_adder(string):\n",
        "  total = 0\n",
        "  for character in string:\n",
        "    total += ord(character) # ord() calculates the ascii value of a character!\n",
        "  return total\n",
        "\n",
        "def list_adder(input_list):\n",
        "  return ultimate_adder(input_list) # This ... should work."
      ]
    }
  ],
  "metadata": {
    "colab": {
      "collapsed_sections": [
        "FkNJ2Wghi6v0",
        "2qIy2BsrMor8",
        "nPptDV2feEs2",
        "opB3JcMWeZQy",
        "WP3PGajGdwhn",
        "453CW7tSgPVk",
        "7ed5A-pB-8lD",
        "r-VXZ_2rj9AU"
      ],
      "name": "Debugging",
      "provenance": [ ]
    },
    "kernelspec": {
      "display_name": "Python 3",
      "name": "python3"
    }
  },
  "nbformat": 4,
  "nbformat_minor": 0
}
