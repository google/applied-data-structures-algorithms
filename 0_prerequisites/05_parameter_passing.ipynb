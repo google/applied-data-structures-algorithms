{
  "cells": [
    {
      "cell_type": "markdown",
      "metadata": {
        "id": "Pic8r3n4AWWu"
      },
      "source": [
        "# Parameter Passing"
      ]
    },
    {
      "cell_type": "markdown",
      "metadata": {
        "id": "Q-8sD9WOSOoB"
      },
      "source": [
        "## Lesson Overview"
      ]
    },
    {
      "cell_type": "markdown",
      "metadata": {
        "id": "vhIUGII1FIJD"
      },
      "source": [
        "As you begin working with functions, you'll need to be familiar with **parameters**.\n",
        "\n",
        "\u003e Parameters are data passed into a function that may be used within that function as part of its operation.\n",
        "\n",
        "This lesson will focus on providing problems for you to trace through so that you can follow a program's flow. The answer to each question in this lesson, unless otherwise indicated, is a number."
      ]
    },
    {
      "cell_type": "markdown",
      "metadata": {
        "id": "OoNvI_Wb-4G5"
      },
      "source": [
        "Understanding how parameters are passed, modified, and returned is key to understanding the flow of a program.\n",
        "\n",
        "```python\n",
        "def fun(a, b, c):\n",
        "  return a + b + c\n",
        "```\n",
        "\n",
        "This is a very simple function that returns the sum of three values, like so:\n",
        "\n",
        "```python\n",
        "fun(1, 2, 3) = 6\n",
        "```\n",
        "---\n",
        "These can get more complicated, especially as more functions get added to the mix:\n",
        "\n",
        "```python\n",
        "def fun(a, b, c):\n",
        "  return more_fun(c, b, a) + more_fun(b, b, c) + even_more_fun(c, c, c)\n",
        "\n",
        "def more_fun(a, b, c):\n",
        "  return (10 * b) - 15 + even_more_fun(a, b, b) - c\n",
        "\n",
        "def even_more_fun(a, b, c):\n",
        "  return (c - (b * a)) * -1\n",
        "```\n",
        "\n",
        "So what is `fun(1, 2, 3)` now?\n",
        "\n",
        "```python\n",
        "fun(1, 2, 3) = more_fun(3, 2, 1) + more_fun(2, 2, 3) + even_more_fun(3, 3, 3)\n",
        "  \n",
        "more_fun(3, 2, 1) = (10 * 2) - 15 + even_more_fun(3, 2, 2) - 1\n",
        "more_fun(2, 2, 3) = (10 * 2) - 15 + even_more_fun(2, 2, 2) - 3\n",
        "\n",
        "even_more_fun(3, 3, 3) = (3 - (3 * 3)) * -1 = 6\n",
        "even_more_fun(2, 2, 2) = (2 - (2 * 2)) * -1 = 2\n",
        "even_more_fun(3, 2, 2) = (2 - (2 * 3)) * -1 = 4\n",
        "\n",
        "more_fun(2, 2, 3) = 20 - 15 + 2 - 3 = 4\n",
        "more_fun(3, 2, 1) = 20 - 15 + 4 - 1 = 8\n",
        "\n",
        "fun(1, 2, 3) = 8 + 4 + 6 = 18\n",
        "```\n",
        "\n",
        "You shouldn't typically write code this way, as it's hard to read and even harder to understand. But for this lesson, we're going to focus on how to effectively trace through functions via the parameters being passed. This exercise will help you understand the importance of well-written functions, and it will also help you identify bugs within functions."
      ]
    },
    {
      "cell_type": "markdown",
      "metadata": {
        "id": "jCk_Rn1q3Wfy"
      },
      "source": [
        "## Question 1"
      ]
    },
    {
      "cell_type": "markdown",
      "metadata": {
        "id": "HD1V_9Mn8F8_"
      },
      "source": [
        "In the code below, which of the following is a parameter?"
      ]
    },
    {
      "cell_type": "markdown",
      "metadata": {
        "id": "54aZc4K73Xyz"
      },
      "source": [
        "```python\n",
        "def adder(x):\n",
        "  return x + 1\n",
        "```\n"
      ]
    },
    {
      "cell_type": "markdown",
      "metadata": {
        "id": "5NdGphqGi6vz"
      },
      "source": [
        "**a)** `def`\n",
        "\n",
        "**b)** `adder`\n",
        "\n",
        "**c)** `x`\n",
        "\n",
        "**d)** `return`\n",
        "\n",
        "**e)** `x + 1`"
      ]
    },
    {
      "cell_type": "markdown",
      "metadata": {
        "id": "FkNJ2Wghi6v0"
      },
      "source": [
        "### Solution"
      ]
    },
    {
      "cell_type": "markdown",
      "metadata": {
        "id": "Kn3LHu90i6v0"
      },
      "source": [
        "The correct answers is **c)**.\n",
        "\n",
        "**a)** This is a keyword that defines a function.\n",
        "\n",
        "**b)** This is the name of the function. \n",
        "\n",
        "**d)** This is a keyword that specifies the output of the function then exits.  \n",
        "\n",
        "**e)** This is the body of the function, which uses the parameter. "
      ]
    },
    {
      "cell_type": "markdown",
      "metadata": {
        "id": "x7OrR2vM4hGm"
      },
      "source": [
        "## Question 2"
      ]
    },
    {
      "cell_type": "markdown",
      "metadata": {
        "id": "yANEszZW4jLC"
      },
      "source": [
        "Consider the following function that sums particular elements of a list. \n",
        "\n",
        "```python\n",
        "def sum_part_of_list(start, end, lst):\n",
        "  s = 0\n",
        "  for i in range(start, end + 1):\n",
        "    s += lst[i]\n",
        "  return s\n",
        "```\n",
        "\n",
        "How would you call `sum_part_of_list` to sum the values 12+13+14 from the list `[10, 11, 12, 13, 14, 15, 16]`?"
      ]
    },
    {
      "cell_type": "markdown",
      "metadata": {
        "id": "zw-bCzuwvJ55"
      },
      "source": [
        "**a)** `sum_part_of_list(12, 14, [10, 11, 12, 13, 14, 15, 16])`\n",
        "\n",
        "**b)** `sum_part_of_list(2, 4, [10, 11, 12, 13, 14, 15, 16])`\n",
        "\n",
        "**c)** `sum_part_of_list(2, 4, lst)`\n",
        "\n",
        "**d)** `sum_part_of_list(2, 5, [10, 11, 12, 13, 14, 15, 16])`"
      ]
    },
    {
      "cell_type": "markdown",
      "metadata": {
        "id": "iol9VnVXvJ55"
      },
      "source": [
        "### Solution"
      ]
    },
    {
      "cell_type": "markdown",
      "metadata": {
        "id": "4Nshev0mvJ56"
      },
      "source": [
        "The correct answer is **b)**.\n",
        "\n",
        "**a)** The `start` and `end` parameters represent indices, not actual values in the list. \n",
        "\n",
        "**c)** The variable `lst` has not been assigned to the desired list, `[10, 11, 12, 13, 14, 15, 16]`.\n",
        "\n",
        "**d)** This is close, but notice that the loop is `for i in range(start, end + 1)` so we are including the term at index `end`."
      ]
    },
    {
      "cell_type": "markdown",
      "metadata": {
        "id": "f1r3sxDj9LVh"
      },
      "source": [
        "## Question 3"
      ]
    },
    {
      "cell_type": "markdown",
      "metadata": {
        "id": "jnrPXjfPXC_C"
      },
      "source": [
        "Consider the following function that calculates profit for a lemonade stand. \n",
        "\n",
        "```python\n",
        "def profit(sales_revenue, expenses, days = 1):\n",
        "  return (sales_revenue - expenses) * days\n",
        "```\n",
        "\n",
        "Which of the parameters are positional parameters? "
      ]
    },
    {
      "cell_type": "markdown",
      "metadata": {
        "id": "5bbRoInKvKdz"
      },
      "source": [
        "**a)** `sales_revenue`\n",
        "\n",
        "**b)** `expenses`\n",
        "\n",
        "**c)** `days`\n",
        "\n",
        "**d)** `all of the above`\n"
      ]
    },
    {
      "cell_type": "markdown",
      "metadata": {
        "id": "AdDqbgAcvKd0"
      },
      "source": [
        "### Solution"
      ]
    },
    {
      "cell_type": "markdown",
      "metadata": {
        "id": "uA-NBgQYvKd0"
      },
      "source": [
        "The correct answers are **a)** and **b)**.\n",
        "\n",
        "**c)** This is a keyword parameter.\n",
        "\n",
        "**d)** The function `profit` accepts a combination of positional and keyword parameters. "
      ]
    },
    {
      "cell_type": "markdown",
      "metadata": {
        "id": "vXf4jUSPTbGr"
      },
      "source": [
        "## Question 4"
      ]
    },
    {
      "cell_type": "markdown",
      "metadata": {
        "id": "aQfL6YjrXFnV"
      },
      "source": [
        "In this function, what is `sports(-30, 10, 29)`?"
      ]
    },
    {
      "cell_type": "markdown",
      "metadata": {
        "id": "biLTDlBeUAyZ"
      },
      "source": [
        "```python\n",
        "def sports(ball, bat, performance):\n",
        "  return olympics(basketball(ball) +\n",
        "                  ice_skating(performance) +\n",
        "                  cricket(ball, bat))\n",
        "\n",
        "def olympics(scores):\n",
        "  return scores + 100\n",
        "\n",
        "def basketball(scores):\n",
        "  return scores - 20\n",
        "\n",
        "def ice_skating(scores):\n",
        "  return 10\n",
        "\n",
        "def cricket(scores, crowd):\n",
        "  return scores + crowd\n",
        "```"
      ]
    },
    {
      "cell_type": "code",
      "execution_count": null,
      "metadata": {
        "id": "hVKCEYB7XH_G"
      },
      "outputs": [],
      "source": [
        "#freetext"
      ]
    },
    {
      "cell_type": "markdown",
      "metadata": {
        "id": "FXzbc_BNUGM6"
      },
      "source": [
        "### Solution"
      ]
    },
    {
      "cell_type": "markdown",
      "metadata": {
        "id": "GqeKLocLA9y7"
      },
      "source": [
        "For these problems, you should start by simplifying the statements as much as you can.\n",
        "\n",
        "```python\n",
        "sports(-30, 10, 29) = olympics(\n",
        "    basketball(-30) +\n",
        "    ice_skating(29) +\n",
        "    cricket(-30, 10))\n",
        "```\n",
        "  \n",
        "Now we solve the individual functions within `olympics`.\n",
        "\n",
        "```python\n",
        "basketball(-30) = -30 - 20 = -50\n",
        "ice_skating(29) = 10 # Note that ice_skating always returns 10.\n",
        "cricket(-30, 10) = -30 + 10 = -20\n",
        "```\n",
        "\n",
        "Now that we've solved those, we can calculate the return value of `olympics`:\n",
        "\n",
        "```python\n",
        "olympics(-50 + 10 + -20) = 100 -50 + 10 - 20 = 40\n",
        "sports(-30, 10, 29) = olympics(-60) = 40\n",
        "```\n",
        "\n",
        "Our result is 40."
      ]
    },
    {
      "cell_type": "markdown",
      "metadata": {
        "id": "NUj_PmlXTdA9"
      },
      "source": [
        "## Question 5"
      ]
    },
    {
      "cell_type": "markdown",
      "metadata": {
        "id": "pd-s9XlrFoEq"
      },
      "source": [
        "What is `a(2, 4, 6, 8)`?"
      ]
    },
    {
      "cell_type": "markdown",
      "metadata": {
        "id": "4LPiaWMXUA2r"
      },
      "source": [
        "```python\n",
        "def a(b, e, s, t):\n",
        "  return f(i(n(e))) + f(i(b)) + i(s) + l(i(t))\n",
        "\n",
        "def f(o):\n",
        "  return n(o)\n",
        "\n",
        "def l(n):\n",
        "  return i(n)\n",
        "\n",
        "def i(consonant):\n",
        "  return consonant + 2\n",
        "\n",
        "def n(vowel):\n",
        "  return vowel * -1\n",
        "```"
      ]
    },
    {
      "cell_type": "code",
      "execution_count": null,
      "metadata": {
        "id": "rwWgpFs9XKMD"
      },
      "outputs": [],
      "source": [
        "#freetext"
      ]
    },
    {
      "cell_type": "markdown",
      "metadata": {
        "id": "P-TOOT7FUIOg"
      },
      "source": [
        "### Solution"
      ]
    },
    {
      "cell_type": "markdown",
      "metadata": {
        "id": "2_u0R3B2UMFa"
      },
      "source": [
        "Don't let the letters distract you; these are all valid functions.\n",
        "\n",
        "```python\n",
        "a(2, 4, 6, 8) = f(i(n(4))) + f(i(2)) + l(i(8)) + i(6)\n",
        "```\n",
        "\n",
        "That alone is already a bit tricky. Let's get into the functions themselves. It's going to be difficult to resolve the outer functions without resolving the inner ones first, so let's start with the inner ones and work our way outwards.\n",
        "\n",
        "```python\n",
        "n(4) = 4 * -1 = -4\n",
        "i(2) = 2 + 2 = 4\n",
        "i(8) = 8 + 2 = 10\n",
        "i(6) = 6 + 2 = 8\n",
        "```\n",
        "\n",
        "This lets us resolve part of the initial function:\n",
        "\n",
        "```python\n",
        "a(2, 4, 6, 8) = f(i(-4)) + f(4) + l(10) + 8\n",
        "``` \n",
        "\n",
        "We can now resolve the remaining functions:\n",
        "\n",
        "```python\n",
        "i(-4) = -4 + 2 = -2\n",
        "f(4) = n(4) * -1 = -4\n",
        "l(10) = i(10) = 10 + 2 = 12\n",
        "```\n",
        "\n",
        "That just leaves us with `f(-2)`:\n",
        "\n",
        "```python\n",
        "f(-2) = n(-2) = -2 * -1 = 2\n",
        "```\n",
        "\n",
        "And that lets us get the answer!\n",
        "\n",
        "```python\n",
        "a(2, 4, 6, 8) = 2 + -4 + 12 + 8 = 18\n",
        "```\n",
        "\n",
        "Therefore, `a(2, 4, 6, 8) = 18`."
      ]
    },
    {
      "cell_type": "markdown",
      "metadata": {
        "id": "XDUVZ9mXVwUO"
      },
      "source": [
        "## Question 6"
      ]
    },
    {
      "cell_type": "markdown",
      "metadata": {
        "id": "4-7R30hpFp4S"
      },
      "source": [
        "Functions can call other functions and use their return values as arguments. It is important to be careful, as functions define their own scope, so two functions with the same variable names may not necessarily hold the same values.\n",
        "\n",
        "What is `haberdasher(4, 72)`?"
      ]
    },
    {
      "cell_type": "markdown",
      "metadata": {
        "id": "BXKoEkFL1gZy"
      },
      "source": [
        "```python\n",
        "def haberdasher(hat, height):\n",
        "  return (\n",
        "    toboggan(top_hat(hat)) + bowler(height) +\n",
        "    sun_hat(top_hat(toboggan(bowler(height)))))\n",
        "\n",
        "def top_hat(hat_height):\n",
        "  return hat_height - 4\n",
        "\n",
        "def bowler(head):\n",
        "  return 7\n",
        "\n",
        "def toboggan(temperature):\n",
        "  # If you're not familiar with the modulo\n",
        "  # operator, it returns the remainder when\n",
        "  # you perform integer division with two numbers.\n",
        "  # 9 % 3 = 0 and 5 % 4 = 1.\n",
        "  if (temperature % 2 == 0):\n",
        "    return temperature\n",
        "  else:\n",
        "    return temperature + 1\n",
        "\n",
        "def sun_hat(temperature):\n",
        "  return temperature + 17\n",
        "```"
      ]
    },
    {
      "cell_type": "code",
      "execution_count": null,
      "metadata": {
        "id": "PiyZAnJ8XLKW"
      },
      "outputs": [],
      "source": [
        "#freetext"
      ]
    },
    {
      "cell_type": "markdown",
      "metadata": {
        "id": "2Z49C5HNWRe8"
      },
      "source": [
        "### Solution"
      ]
    },
    {
      "cell_type": "markdown",
      "metadata": {
        "id": "6yWTL3f21Y7y"
      },
      "source": [
        "This one takes a bit of time to trace, but you can simplify it a bit if you notice that `bowler` returns 7, no matter what number the input is.\n",
        "\n",
        "```python\n",
        "haberdasher(4, 72) = toboggan(top_hat(4)) + 7 + sun_hat(top_hat(toboggan(7)))\n",
        "```\n",
        "\n",
        "Let's dig in a bit deeper into `top_hat` and `toboggan`:\n",
        "\n",
        "```python\n",
        "top_hat(4) = 4 - 4 = 0\n",
        "toboggan(7) = 7 + 1 = 8\n",
        "```\n",
        "\n",
        "`7 % 2 == 1`, so we'll add 1 to 7 to get 8. This gives us the following:\n",
        "\n",
        "```python\n",
        "haberdasher(4, 72) = toboggan(0) + 7 + sun_hat(top_hat(8))\n",
        "```\n",
        "\n",
        "We can simplify that further:\n",
        "\n",
        "```python\n",
        "haberdasher(4, 72) = 0 + 7 + sun_hat(4)\n",
        "```\n",
        "\n",
        "Therefore, we just need `sun_hat(4)`.\n",
        "\n",
        "```python\n",
        "sun_hat(4) = 4 + 17 = 21\n",
        "```\n",
        "\n",
        "And we've got all the pieces! Now to put them together:\n",
        "\n",
        "```python\n",
        "haberdasher(4, 72) = 0 + 7 + 21 = 28\n",
        "```"
      ]
    },
    {
      "cell_type": "markdown",
      "metadata": {
        "id": "2oQKiCAuVyWc"
      },
      "source": [
        "## Question 7"
      ]
    },
    {
      "cell_type": "markdown",
      "metadata": {
        "id": "Q3qJfpqfYe6p"
      },
      "source": [
        "What is `the_four_seasons(12, 5, 6, 15)`?"
      ]
    },
    {
      "cell_type": "markdown",
      "metadata": {
        "id": "nKQJa8Rh1gZ0"
      },
      "source": [
        "```python\n",
        "def the_four_seasons(a, b, c, d):\n",
        "  return (\n",
        "    spring(a, b) + summer(b + c) - \n",
        "    fall(d, c) + winter(d - a))\n",
        "\n",
        "def spring(rain, sun):\n",
        "  return ((rain + sun) * rain) - (sun * sun)\n",
        "\n",
        "def summer(sun):\n",
        "  return int(sun * 9 / 5) + 32\n",
        "\n",
        "def fall(rain, leaves):\n",
        "  if (rain \u003e 5):\n",
        "    return leaves + 10\n",
        "  else:\n",
        "    return leaves - rain\n",
        "\n",
        "def winter(snow):\n",
        "  return snow * 12\n",
        "```"
      ]
    },
    {
      "cell_type": "code",
      "execution_count": null,
      "metadata": {
        "id": "gbyROi4vXLwd"
      },
      "outputs": [],
      "source": [
        "#freetext"
      ]
    },
    {
      "cell_type": "markdown",
      "metadata": {
        "id": "6_ZYLYYDWpPS"
      },
      "source": [
        "### Solution"
      ]
    },
    {
      "cell_type": "markdown",
      "metadata": {
        "id": "EKn5Q8OW1Y70"
      },
      "source": [
        "This method is more involved; keep an eye out for where the parameters switch around.\n",
        "\n",
        "```python\n",
        "the_four_seasons(12, 5, 6, 15) = (\n",
        "    spring(12, 5) + summer(5 + 6) - fall(15, 6) + winter(15 - 12))\n",
        "```\n",
        "\n",
        "That alone is already tricky. Let's get into the functions themselves.\n",
        "\n",
        "```python\n",
        "spring(12, 5) = ((12 + 5) * 12) - (5 * 5) = 204 - 25 = 179\n",
        "summer(5 + 6) = summer(11) = int(11 * 9 / 5) + 32 = 51\n",
        "fall(15, 6) = 6 + 10 = 16 # note 15 \u003e 5\n",
        "winter(15 - 12) = winter(3) = 3 * 12 = 36\n",
        "```\n",
        "\n",
        "We can now solve for `the_four_seasons`:\n",
        "\n",
        "```python\n",
        "the_four_seasons(12, 5, 6, 15) = 179 + 51 - 16 + 36 = 250\n",
        "```"
      ]
    },
    {
      "cell_type": "markdown",
      "metadata": {
        "id": "MpC1qN72V0SJ"
      },
      "source": [
        "## Question 8"
      ]
    },
    {
      "cell_type": "markdown",
      "metadata": {
        "id": "FXzb5hztYb5y"
      },
      "source": [
        "What is `food(5, 6, 7)`?"
      ]
    },
    {
      "cell_type": "markdown",
      "metadata": {
        "id": "hamc5bnDUVJY"
      },
      "source": [
        "```python\n",
        "def food(pancakes, donuts, cake):\n",
        "  sweets = cake + donuts\n",
        "  baked_goods = donuts + cake\n",
        "  breakfast = pancakes + donuts\n",
        "  return (\n",
        "    syrup(pancakes) + balance(breakfast) +\n",
        "    pie(cake) + sweeten(sweets, baked_goods))\n",
        "\n",
        "def syrup(waffles):\n",
        "  return waffles + pie(5)\n",
        "\n",
        "def balance(budget):\n",
        "  if (budget \u003e 5):\n",
        "    return max(10, budget)\n",
        "\n",
        "def pie(filling):\n",
        "  if (filling \u003c= 5):\n",
        "    filling = sweeten(filling, 20)\n",
        "\n",
        "  return filling + extra_sugar(filling)\n",
        "\n",
        "def sweeten(baked_goods, candies):\n",
        "  baked_goods = balance(max(baked_goods, candies))\n",
        "  candies -= 5\n",
        "  return extra_sugar(baked_goods) - extra_sugar(candies)\n",
        "\n",
        "def extra_sugar(a):\n",
        "  return a + 10\n",
        "```"
      ]
    },
    {
      "cell_type": "code",
      "execution_count": null,
      "metadata": {
        "id": "2T2TcFWcXMmD"
      },
      "outputs": [],
      "source": [
        "#freetext"
      ]
    },
    {
      "cell_type": "markdown",
      "metadata": {
        "id": "uXicyqOYXJ55"
      },
      "source": [
        "### Solution"
      ]
    },
    {
      "cell_type": "markdown",
      "metadata": {
        "id": "ccDEqbF0WPIO"
      },
      "source": [
        "Start by simplifying the problem:\n",
        "\n",
        "```python\n",
        "food(5, 6, 7) = syrup(5) + balance(5 + 6) + pie(7) + sweeten(7 + 6, 6 + 7)\n",
        "```\n",
        "\n",
        "From there, move into the other functions.\n",
        "\n",
        "```python\n",
        "syrup(5) = 5 + pie(5)\n",
        "balance(11) = 11\n",
        "pie(7) = 7 + extra_sugar(7) = 7 + 17 = 24\n",
        "```\n",
        "\n",
        "`sweeten(13, 13)` is a bit more complicated, but we can approach each piece individually.\n",
        "\n",
        "```python\n",
        "baked_goods = balance(max(13, 13)) = balance(13) = 13\n",
        "sweeten(13, 13) = extra_sugar(13) - extra_sugar(13 - 5) = 23 - 18 = 5\n",
        "```\n",
        "\n",
        "We still have one unresolved component: `pie(5)`. To calculate this component, we need to calculate `sweeten(5, 20)`.\n",
        "\n",
        "```python\n",
        "baked_goods = balance(max(5, 20)) = 20\n",
        "sweeten(5, 20) = extra_sugar(20) - extra_sugar(20 - 5) = 5\n",
        "\n",
        "pie(5) = 5 + extra_sugar(5) = 20\n",
        "syrup(5) = 5 + 20 = 25\n",
        "```\n",
        "\n",
        "And we can plug all that back in to get the following answer:\n",
        "\n",
        "```python\n",
        "food(5, 6, 7) = syrup(5) + balance(5 + 6) + pie(7) + sweeten(7 + 6, 6 + 7)\n",
        "food(5, 6, 7) = 25 + 11 + 24 + 5\n",
        "food(5, 6, 7) = 11 + 24 = 65\n",
        "```"
      ]
    },
    {
      "cell_type": "markdown",
      "metadata": {
        "id": "2-n4Kd27Xk_k"
      },
      "source": [
        "## Question 9"
      ]
    },
    {
      "cell_type": "markdown",
      "metadata": {
        "id": "otVyPF4etHpF"
      },
      "source": [
        "Your colleague is trying to present on the topic of parameter passing to a group of new computer science students. They are confused with the example your colleague wrote; whenever they try to run the example function, it crashes.\n",
        "\n",
        "They tried to call `magic(4, 3, 6)`, but the function keeps crashing. Can you figure out why and fix it? They have told you the expected output is 5."
      ]
    },
    {
      "cell_type": "code",
      "execution_count": null,
      "metadata": {
        "id": "3MiA_RPyNNN2"
      },
      "outputs": [],
      "source": [
        "def magic(wizard, wand, sorceress):\n",
        "  return (\n",
        "    spell(wizard, wand) + spell(sorceress, wand) + \n",
        "    potion(wizard) - divination(sorceress))\n",
        "\n",
        "def spell(spellcaster, source):\n",
        "  return (spellcaster - source) * (source + spellcaster)\n",
        "\n",
        "def potion(brewer):\n",
        "  return 21 / (brewer - 4)\n",
        "\n",
        "def divination(seer):\n",
        "  return seer * seer\n",
        "\n",
        "print(magic(4, 3, 6))\n",
        "# Should print: 5"
      ]
    },
    {
      "cell_type": "markdown",
      "metadata": {
        "id": "ywEMGI18X8ij"
      },
      "source": [
        "### Solution"
      ]
    },
    {
      "cell_type": "markdown",
      "metadata": {
        "id": "LuSZLDPlzdBY"
      },
      "source": [
        "Tracing through this one will help a lot:\n",
        "\n",
        "```python\n",
        "magic(4, 3, 6) = spell(4, 3) + spell(6, 3) + potion(4) - divination(6)\n",
        "```\n",
        "\n",
        "There are no problems so far, so let's dig into the functions.\n",
        "\n",
        "```python\n",
        "spell(4, 3) = (4 - 3) * (3 + 4) = 1 * 7 = 7\n",
        "spell(6, 3) = (6 - 3) * (3 + 6) = 3 * 9 = 27\n",
        "potion(4) = 21 / (4 - 4) = 21 / 0\n",
        "divination(6) = 6 * 6 = 36\n",
        "```\n",
        "\n",
        "The problematic piece is `potion`. Dividing by zero is undefined, and it triggers a `ZeroDivisionError`. The question is, how do we fix it? That relies on what we know about the solution:\n",
        "\n",
        "```python\n",
        "magic(4, 3, 6) = 7 + 27 + potion(4) - 36\n",
        "magic(4, 3, 6) = 5\n",
        "```\n",
        "\n",
        "Using some algebra, we can solve for `potion(4)`:\n",
        "\n",
        "```python\n",
        "5 = magic(4, 3, 6) = spell(4, 3) + spell(6, 3) + potion(4) - divination(6)\n",
        "5 = 7 + 27 + potion(4) - 36\n",
        "potion(4) = 7\n",
        "```\n",
        "\n",
        "Now the function above states that `potion(4) = 21 / (4 - 4)`. From here, it would seem that they entered 4 instead of 3 in the `potion` function. It should actually be:\n",
        "\n",
        "```python\n",
        "def potion(brewer):\n",
        "  return 21 / (brewer - 3)\n",
        "```\n",
        "\n",
        "This will return the correct result!"
      ]
    },
    {
      "cell_type": "markdown",
      "metadata": {
        "id": "rGzndkRZXm6r"
      },
      "source": [
        "## Question 10"
      ]
    },
    {
      "cell_type": "markdown",
      "metadata": {
        "id": "W35dKasZWhiI"
      },
      "source": [
        "Your colleague has tried to come up with another problem, but their program is crashing again. Can you find the cause of the crash and fix it?"
      ]
    },
    {
      "cell_type": "code",
      "execution_count": null,
      "metadata": {
        "id": "q5pgP8vzNj2Q"
      },
      "outputs": [],
      "source": [
        "def pets(cat, dog, rat, lizard):\n",
        "  return find_cutest_pet(rat, dog, cat, lizard)\n",
        "\n",
        "def find_cutest_pet(fluffy, fido, george, camille):\n",
        "  cat = 5\n",
        "  if (fluffy == \"calico\"):\n",
        "    print(\"Aw!\")\n",
        "    cat = 10\n",
        "  return (\n",
        "    fastest(cat, fido, george, camille) +\n",
        "    fluffiest(cat, fido, george, camille))\n",
        "\n",
        "def fastest(a, b, c, d):\n",
        "  quarterfinals = max(a, b)\n",
        "  semifinals = max(quarterfinals, c)\n",
        "  finals = max(semifinals, d)\n",
        "  return finals + 5\n",
        "\n",
        "def fluffiest(b, a, d, c):\n",
        "  if (b == 10):\n",
        "    return b\n",
        "  return b * d - (a * c)\n",
        "\n",
        "\n",
        "print(pets(\"calico\", 5, 6, 7))\n",
        "print(pets(\"tiger\", 11, 15, 5))"
      ]
    },
    {
      "cell_type": "markdown",
      "metadata": {
        "id": "f4u52g8RIx_8"
      },
      "source": [
        "### Unit Tests\n",
        "\n",
        "Run the following cell to check your answer against some unit tests."
      ]
    },
    {
      "cell_type": "code",
      "execution_count": null,
      "metadata": {
        "id": "lrA4upIuIzYa"
      },
      "outputs": [],
      "source": [
        "print(pets(\"calico\", 5, 6, 7))\n",
        "# Should print multiline:\n",
        "# Aw!\n",
        "# 25\n",
        "\n",
        "print(pets(\"tiger\", 11, 15, 5))\n",
        "# Should print: 40"
      ]
    },
    {
      "cell_type": "markdown",
      "metadata": {
        "id": "VAR_wjBjYvQ5"
      },
      "source": [
        "### Solution"
      ]
    },
    {
      "cell_type": "markdown",
      "metadata": {
        "id": "Ivyoa8AvWlf6"
      },
      "source": [
        "It is unlikely that someone would make this mistake outside of code, but your colleague swapped two of the variables around in `pets`, meaning they confused `cat` and `rat`. This mistake means that you pass an integer where you expect a string, and vice versa, which causes an error. The corrected code is below:"
      ]
    },
    {
      "cell_type": "code",
      "execution_count": null,
      "metadata": {
        "id": "EVIa9cRlNu2O"
      },
      "outputs": [],
      "source": [
        "def pets(cat, dog, rat, lizard):\n",
        "  return find_cutest_pet(cat, dog, rat, lizard)\n",
        "\n",
        "def find_cutest_pet(fluffy, fido, george, camille):\n",
        "  cat = 5\n",
        "  if (fluffy == \"calico\"):\n",
        "    print(\"Aw!\")\n",
        "    cat = 10\n",
        "  return (\n",
        "    fastest(cat, fido, george, camille) +\n",
        "    fluffiest(cat, fido, george, camille))\n",
        "\n",
        "def fastest(a, b, c, d):\n",
        "  quarterfinals = max(a, b)\n",
        "  semifinals = max(quarterfinals, c)\n",
        "  finals = max(semifinals, d)\n",
        "  return finals + 5\n",
        "\n",
        "def fluffiest(b, a, d, c):\n",
        "  if (b == 10):\n",
        "    return b\n",
        "  return b * d - (a * c)"
      ]
    }
  ],
  "metadata": {
    "colab": {
      "collapsed_sections": [
        "FkNJ2Wghi6v0",
        "iol9VnVXvJ55",
        "AdDqbgAcvKd0",
        "FXzbc_BNUGM6",
        "P-TOOT7FUIOg",
        "2Z49C5HNWRe8",
        "6_ZYLYYDWpPS",
        "uXicyqOYXJ55",
        "ywEMGI18X8ij",
        "f4u52g8RIx_8",
        "VAR_wjBjYvQ5"
      ],
      "name": "parameter_passing.ipynb",
      "provenance": [ ]
    },
    "kernelspec": {
      "display_name": "Python 3",
      "name": "python3"
    }
  },
  "nbformat": 4,
  "nbformat_minor": 0
}
