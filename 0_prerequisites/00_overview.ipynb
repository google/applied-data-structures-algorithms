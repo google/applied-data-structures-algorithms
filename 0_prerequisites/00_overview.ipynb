{
  "cells": [
    {
      "cell_type": "markdown",
      "metadata": {
        "id": "1scBnc9XYdcB"
      },
      "source": [
        "# Prerequisites"
      ]
    },
    {
      "cell_type": "markdown",
      "metadata": {
        "id": "qTWh0qEqwF2I"
      },
      "source": [
        "## Lesson Overview"
      ]
    },
    {
      "cell_type": "markdown",
      "metadata": {
        "id": "ue2Thbv0Yevl"
      },
      "source": [
        "Before starting with the core *Data Structures and Algorithms* material, we recommend completing a few prerequisite lessons. If you already feel comfortable with any of these topics, you can skip the corresponding lessons."
      ]
    },
    {
      "cell_type": "markdown",
      "metadata": {
        "id": "oBCJWyKGRrAy"
      },
      "source": [
        "The following topics are by no means an exhaustive list of prerequisites, but feeling comfortable with these topics is necessary for the core material to come.\n",
        "\n",
        "- Functions\n",
        "- Strings\n",
        "- Parameter passing\n",
        "- Recursive functions"
      ]
    }
  ],
  "metadata": {
    "colab": {
      "collapsed_sections": [],
      "name": "prerequisites_overview.ipynb",
      "private_outputs": true,
      "provenance": [ ]
    },
    "kernelspec": {
      "display_name": "Python 3",
      "name": "python3"
    }
  },
  "nbformat": 4,
  "nbformat_minor": 0
}
