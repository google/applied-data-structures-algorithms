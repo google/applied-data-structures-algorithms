{
  "cells": [
    {
      "cell_type": "markdown",
      "metadata": {
        "id": "oTveQpgkF5MB"
      },
      "source": [
        "# Search Algorithms"
      ]
    },
    {
      "cell_type": "markdown",
      "metadata": {
        "id": "yMrRImm-ycDx"
      },
      "source": [
        "## Lesson Overview"
      ]
    },
    {
      "cell_type": "markdown",
      "metadata": {
        "id": "ZDhOz33HH8BH"
      },
      "source": [
        "\u003e An algorithm that searches an array of integers for a given integer is called a **search algorithm**."
      ]
    },
    {
      "cell_type": "markdown",
      "metadata": {
        "id": "BaFdfJTEyfGK"
      },
      "source": [
        "Depending on the implementation, search algorithms can return either:\n",
        "\n",
        "- A boolean indicating whether the search element is found or not\n",
        "\n",
        "  ```python\n",
        "  def is_in(arr, v):\n",
        "    \"\"\"Return True if v is in arr, False otherwise.\"\"\"\n",
        "    # ...\n",
        "  \n",
        "  is_in([1, 2, 4, 5], 4)\n",
        "  # True\n",
        "  is_in([1, 2, 4, 5], 3)\n",
        "  # False\n",
        "  ```\n",
        "\n",
        "- An integer indicating the index of where the search element is found (and -1 or an error if the search element is not found)\n",
        "\n",
        "  ```python\n",
        "  def search(arr, v):\n",
        "    \"\"\"Returns the index of v in arr if v is contained in arr, otherwise -1.\"\"\"\n",
        "    # ...\n",
        "\n",
        "  search([1, 2, 4, 5], 4)\n",
        "  # 2\n",
        "  search([1, 2, 4, 5], 3)\n",
        "  # -1\n",
        "  ```\n",
        "\n",
        "The lessons in this unit cover the following search algorithms, which are by far the most commonly used:\n",
        "\n",
        "1. Linear search\n",
        "1. Binary search"
      ]
    }
  ],
  "metadata": {
    "colab": {
      "collapsed_sections": [],
      "name": "search_algorithms_overview.ipynb",
      "private_outputs": true,
      "provenance": [ ]
    },
    "kernelspec": {
      "display_name": "Python 3",
      "name": "python3"
    }
  },
  "nbformat": 4,
  "nbformat_minor": 0
}
