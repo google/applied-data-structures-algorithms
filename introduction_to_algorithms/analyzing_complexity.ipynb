{
  "cells": [
    {
      "cell_type": "markdown",
      "metadata": {
        "id": "kgnpm97tZB7Z"
      },
      "source": [
        "# Analyzing Complexity"
      ]
    },
    {
      "cell_type": "markdown",
      "metadata": {
        "id": "fFP0QbIFZELX"
      },
      "source": [
        "## Lesson Overview"
      ]
    },
    {
      "cell_type": "markdown",
      "metadata": {
        "id": "OyFr8NpLSRW1"
      },
      "source": [
        "As you become familiar with more algorithms, it becomes increasingly important to analyze and calculate complexities. In any real-world application, it is fundamental to understand the time and space complexities of the algorithms employed in a program."
      ]
    },
    {
      "cell_type": "markdown",
      "metadata": {
        "id": "VcJA6i1pZcPL"
      },
      "source": [
        "An algorithm's complexity is usually referenced based on the **average case**. In the previous lesson, we introduced the concept of **best and worst case complexity**: the best case complexity is the lowest possible complexity of the algorithm, and the worst case complexity is the highest possible complexity of the algorithm."
      ]
    },
    {
      "cell_type": "markdown",
      "metadata": {
        "id": "sqK2IASVS5Gf"
      },
      "source": [
        "### Average case complexity"
      ]
    },
    {
      "cell_type": "markdown",
      "metadata": {
        "id": "Y3PPU_wQS7A7"
      },
      "source": [
        "\u003e The **average case time complexity** of a program is the mean time complexity of the program averaged over all possible inputs."
      ]
    },
    {
      "cell_type": "markdown",
      "metadata": {
        "id": "cCB03xfeS8B8"
      },
      "source": [
        "Formally calculating the average case time complexity of an algorithm is often cumbersome, as it involves calculating the time complexity for *every* possible input, then taking the mean."
      ]
    },
    {
      "cell_type": "markdown",
      "metadata": {
        "id": "Dq4-iOZzTBf7"
      },
      "source": [
        "### Analyzing the time complexity of an algorithm"
      ]
    },
    {
      "cell_type": "markdown",
      "metadata": {
        "id": "VpO9km5VjF8P"
      },
      "source": [
        "The following function returns the index of an array of integers at which the cumulative sum first exceeds a threshold. This function has many possible applications, including finding the first day a company's gross revenue exceeds a target, and finding whether a country's total carbon emissions exceed a quota and if so when."
      ]
    },
    {
      "cell_type": "code",
      "execution_count": null,
      "metadata": {
        "id": "l1mMdF3_4lM8"
      },
      "outputs": [],
      "source": [
        "def threshold_exceeded(arr, threshold):\n",
        "  \"\"\"Returns the index at which the cumulative sum of array exceeds threshold.\n",
        "  \n",
        "  Returns -1 if the total sum of the array does not exceed the threshold.\"\"\"\n",
        "  cumulative_sum = 0\n",
        "\n",
        "  for i in range(len(arr)):\n",
        "    cumulative_sum += arr[i]\n",
        "\n",
        "    if cumulative_sum \u003e threshold:\n",
        "      return i\n",
        "  \n",
        "  return -1"
      ]
    },
    {
      "cell_type": "code",
      "execution_count": null,
      "metadata": {
        "id": "K4h0MOD7auH1"
      },
      "outputs": [],
      "source": [
        "print(threshold_exceeded([2, 4, 5, 1, 3], 7))\n",
        "print(threshold_exceeded([2, 4, 5, 1, 3], 70))"
      ]
    },
    {
      "cell_type": "markdown",
      "metadata": {
        "id": "GPci2P49X5Vr"
      },
      "source": [
        "Suppose the input array has $n$ elements. All of the single-line operations in this function have an $O(1)$ time complexity, so the time complexity is the number of iterations in the `for` loop before it can `return`.\n",
        "\n",
        "**Worst case**\n",
        "\n",
        "The maximum number of iterations that this function can have is $n$, since the `for` loop is through `range(len(arr))`. This occurs either if the total sum of the array does not exceed threshold, or if it only exceeds it at the final index. The worst case number of iterations is $n$, so the worst case time complexity is $O(n)$.\n",
        "\n",
        "**Best case**\n",
        "\n",
        "The minimum number of iterations that this function can have is 1, in the case that `array[0] \u003e threshold`. The best case number of iterations is 1, so the best case time complexity is $O(1)$."
      ]
    },
    {
      "cell_type": "markdown",
      "metadata": {
        "id": "AxG2EXiVbFe8"
      },
      "source": [
        "### Average case complexity of an algorithm"
      ]
    },
    {
      "cell_type": "markdown",
      "metadata": {
        "id": "Rxdtr1iBbPRK"
      },
      "source": [
        "To formally calculate the average case time complexity, we would need to find the time complexity for all possible combinations of `arr` and `threshold`, and calculate the mean complexity. This is often tricky, since the number of possible input values for `arr` and `threshold` is infinite! Instead, we can use a few simple assumptions to calculate the average case time complexity."
      ]
    },
    {
      "cell_type": "code",
      "execution_count": null,
      "metadata": {
        "id": "sQ4glW7lbMKy"
      },
      "outputs": [],
      "source": [
        "def threshold_exceeded(arr, threshold):\n",
        "  \"\"\"Returns the index at which the cumulative sum of array exceeds threshold.\n",
        "  \n",
        "  Returns -1 if the total sum of the array does not exceed the threshold.\"\"\"\n",
        "  cumulative_sum = 0\n",
        "\n",
        "  for i in range(len(arr)):\n",
        "    cumulative_sum += arr[i]\n",
        "\n",
        "    if cumulative_sum \u003e threshold:\n",
        "      return i\n",
        "  \n",
        "  return -1"
      ]
    },
    {
      "cell_type": "markdown",
      "metadata": {
        "id": "LbxWf3euTNhN"
      },
      "source": [
        "Let's consider two scenarios separately:\n",
        "\n",
        "1. The total sum of `array` does not exceed `threshold`. \n",
        "\n",
        "   In this scenario, the function must iterate through the entire array to calculate the total sum of `array`, find that it does not exceed `threshold`, and `return -1`. Therefore the number of iterations in this scenario is always $n$.\n",
        "\n",
        "1. The total sum of `array` exceeds `threshold`.\n",
        "\n",
        "   In this scenario, the number of iterations can vary from 1 (if `arr[0] \u003e threshold`, which is the best case) to $n$ (if the cumulative sum exceeds `threshold` after all $n$ iterations but not after $n-1$ iterations). To take an average over all possible inputs, we can assume that all inputs are equally likely to occur. Under this assumption, the mean number of iterations lies halfway between the minimum 1 and the maximum $n$. Therefore the mean number of iterations in this scenario is $\\frac{n+1}{2}$.\n",
        "\n",
        "Now, we need to calculate the mean across *both* these scenarios. Assume that the first scenario occurs with some unknown but constant probability $p$. Therefore the second scenario occurs with probability $1-p$. Using the [law of total probability](https://en.wikipedia.org/wiki/Law_of_total_probability), the average number of iterations is\n",
        "\n",
        "$$pn + (1-p)\\frac{n+1}{2} = n \\left( p + \\frac{1-p}{2} \\right) + \\frac{1-p}{2}$$\n",
        "\n",
        "This looks complicated, but the multiplicative and additive constants can be ignored in big-O analysis. Therefore the average case time complexity is $O(n)$.\n",
        "\n",
        "In practice, you shouldn't need to calculate average case complexities too often. However it is important to understand *how* average case complexities are derived, and to know the average case complexities of common algorithms."
      ]
    },
    {
      "cell_type": "markdown",
      "metadata": {
        "id": "Rq3PzjXIF0wh"
      },
      "source": [
        "## Question 1"
      ]
    },
    {
      "cell_type": "markdown",
      "metadata": {
        "id": "HRF3oW6UF2C5"
      },
      "source": [
        "Which *one* of the following best defines the average case time complexity of an algorithm?"
      ]
    },
    {
      "cell_type": "markdown",
      "metadata": {
        "id": "gONnLmtJP4RA"
      },
      "source": [
        "**a)** The average of the best and worst case time complexity\n",
        "\n",
        "**b)** The time complexity when run on average inputs\n",
        "\n",
        "**c)** The median time complexity over all possible inputs\n",
        "\n",
        "**d)** The mean time complexity over all possible inputs"
      ]
    },
    {
      "cell_type": "markdown",
      "metadata": {
        "id": "OXTWjdbDP5og"
      },
      "source": [
        "### Solution"
      ]
    },
    {
      "cell_type": "markdown",
      "metadata": {
        "id": "bQDVtuzhP7CP"
      },
      "source": [
        "The correct answer is **d)**.\n",
        "\n",
        "**a)** Average case complexity averages more than just the best and worst case complexity.\n",
        "\n",
        "**b)** The average case complexity is the average complexity, not the complexity on average inputs.\n",
        "\n",
        "**c)** Close, but not quite. \"Average\" generally refers to the mean, not the median."
      ]
    },
    {
      "cell_type": "markdown",
      "metadata": {
        "id": "drEesRbhaqhT"
      },
      "source": [
        "## Question 2"
      ]
    },
    {
      "cell_type": "markdown",
      "metadata": {
        "id": "P_hQPG8D5ZFl"
      },
      "source": [
        "Your friend is taking a course in data structures and algorithms. As part of their homework assignment, they had to write a function that checks if a given value is in an array. Below is their function."
      ]
    },
    {
      "cell_type": "code",
      "execution_count": null,
      "metadata": {
        "id": "Y4RnO--U5tGI"
      },
      "outputs": [],
      "source": [
        "def find(arr, val):\n",
        "  \"\"\"Returns True if val is in the list arr.\"\"\"\n",
        "  result = False\n",
        "\n",
        "  for i in arr:\n",
        "    if i == val:\n",
        "      result = True\n",
        "\n",
        "  return result"
      ]
    },
    {
      "cell_type": "markdown",
      "metadata": {
        "id": "hR0ZGAfq6y4y"
      },
      "source": [
        "When your friend received the homework assignment back, they only received partial credit for this function. The teacher said that while the function is correct, it is inefficient in terms of the best case time complexity.\n",
        "\n",
        "What is the best case time complexity of your friend's implementation?"
      ]
    },
    {
      "cell_type": "code",
      "execution_count": null,
      "metadata": {
        "id": "TOAMNCllUNmO"
      },
      "outputs": [],
      "source": [
        "#freetext"
      ]
    },
    {
      "cell_type": "markdown",
      "metadata": {
        "id": "gOQ-rODe9DuN"
      },
      "source": [
        "### Solution"
      ]
    },
    {
      "cell_type": "markdown",
      "metadata": {
        "id": "KWJM2Ihq9FLk"
      },
      "source": [
        "All of the computations within and outside the `for` loop are $O(1)$. In all cases (best, worst, average), this implementation inspects all the $n$ elements of `arr` and the `for` loop has $n$ iterations. Therefore, this implementation has a best (and worst and average) case complexity of $O(n)$."
      ]
    },
    {
      "cell_type": "markdown",
      "metadata": {
        "id": "tnq5dvLDatvT"
      },
      "source": [
        "## Question 3"
      ]
    },
    {
      "cell_type": "markdown",
      "metadata": {
        "id": "Q5ncuOy2-plt"
      },
      "source": [
        "How can you modify this function to reduce its best case time complexity? What is the new best case time complexity?"
      ]
    },
    {
      "cell_type": "code",
      "execution_count": null,
      "metadata": {
        "id": "yTiBa1SP0G-v"
      },
      "outputs": [],
      "source": [
        "def find(arr, val):\n",
        "  \"\"\"Returns True if val is in the list arr.\"\"\"\n",
        "  result = False\n",
        "\n",
        "  for i in arr:\n",
        "    if i == val:\n",
        "      result = True\n",
        "\n",
        "  return result"
      ]
    },
    {
      "cell_type": "code",
      "execution_count": null,
      "metadata": {
        "id": "6KRlRX9PUQEM"
      },
      "outputs": [],
      "source": [
        "#freetext"
      ]
    },
    {
      "cell_type": "markdown",
      "metadata": {
        "id": "dcmDtnr6bBXj"
      },
      "source": [
        "### Solution"
      ]
    },
    {
      "cell_type": "markdown",
      "metadata": {
        "id": "xb-2vfUADyZ6"
      },
      "source": [
        "The algorithm can be simplified by returning `True` as soon as we find `val` in `arr`, instead of checking every element. This means that we do not check the rest of the array if we have already found `val`."
      ]
    },
    {
      "cell_type": "code",
      "execution_count": null,
      "metadata": {
        "id": "XxnjkY130tIZ"
      },
      "outputs": [],
      "source": [
        "def find(arr, val):\n",
        "  \"\"\"Returns True if val is in the list arr.\"\"\"\n",
        "  for i in arr:\n",
        "    if i == val:\n",
        "      return True\n",
        "\n",
        "  return False"
      ]
    },
    {
      "cell_type": "markdown",
      "metadata": {
        "id": "gMeLYv0QadFl"
      },
      "source": [
        "Now, in the best case, `arr[0] == val`, so the function exits after one iteration. This implementation therefore has a best case time complexity of $O(1)$."
      ]
    },
    {
      "cell_type": "markdown",
      "metadata": {
        "id": "kW-BbPFwckzG"
      },
      "source": [
        "## Question 4"
      ]
    },
    {
      "cell_type": "markdown",
      "metadata": {
        "id": "CYl_VwPGcisK"
      },
      "source": [
        "As per the previous questions, the big-O time complexity of the following function that finds if a value exists in an array is constant in the best case and linear in the worst case."
      ]
    },
    {
      "cell_type": "code",
      "execution_count": null,
      "metadata": {
        "id": "lwkcTxLPdZoW"
      },
      "outputs": [],
      "source": [
        "def find(arr, val):\n",
        "  \"\"\"Returns True if val is in the list arr.\"\"\"\n",
        "  for i in arr:\n",
        "    if i == val:\n",
        "      return True\n",
        "  return False"
      ]
    },
    {
      "cell_type": "markdown",
      "metadata": {
        "id": "BkpH4YrSiRFn"
      },
      "source": [
        "What is the average case time complexity?"
      ]
    },
    {
      "cell_type": "code",
      "execution_count": null,
      "metadata": {
        "id": "B3G-6WunUdsB"
      },
      "outputs": [],
      "source": [
        "#freetext"
      ]
    },
    {
      "cell_type": "markdown",
      "metadata": {
        "id": "ezcwF6vTiTql"
      },
      "source": [
        "### Hint"
      ]
    },
    {
      "cell_type": "markdown",
      "metadata": {
        "id": "TwE7SYFTiUlE"
      },
      "source": [
        "`val` is in `arr` with some unknown probability $p$. Consider the two cases separately. Calculate the mean time complexity if `val` is in `arr`, then calculate the mean time complexity if `val` is not in `arr`. Then, use $p$ to calculate the overall mean. Note that $p$ should not appear in the final answer, as it is a constant and can be ignored for big-O."
      ]
    },
    {
      "cell_type": "markdown",
      "metadata": {
        "id": "2CR3FnW2cwX2"
      },
      "source": [
        "### Solution"
      ]
    },
    {
      "cell_type": "markdown",
      "metadata": {
        "id": "gprk5gqVeNHx"
      },
      "source": [
        "The function finishes executing as soon as a match is found, if at all. The time complexity is the number of iterations of the `for` loop. If a match is found in the first element, this is the best case, and there is 1 iteration, which is $O(1)$. If a match is not found or it is found on the last element, this is the worst case, there are $n$ iterations, which is $O(n)$.\n",
        "\n",
        "To calculate the average case time complexity, we should calculate the average number of iterations over all possible cases. Let's break this down into two categories:\n",
        "\n",
        "1. `val` is in `arr`, with some probability $p$\n",
        "2. `val` is not in `arr`, with some probability $1-p$\n",
        "\n",
        "If `val` is in `arr`, it is equally likely to be in any position, from 1 through $n$. If it is in position $i$, then the number of iterations is $i$. Therefore the average number of iterations, given `val` in `arr` is\n",
        "\n",
        "\\begin{align*}\n",
        "\\frac{1}{n} \\sum_{i=1}^n i \u0026= \\frac{1}{n} \\frac{n(n+1)}{2} \\\\\n",
        "\u0026= \\frac{n+1}{2}, \\\\\n",
        "\\end{align*}\n",
        "\n",
        "where the first equality comes from the formula for an [arithmetic series](https://en.wikipedia.org/wiki/1_%2B_2_%2B_3_%2B_4_%2B_%E2%8B%AF). Therefore if `val` is in `arr`, the average number of iterations is $\\frac{n+1}{2}$.\n",
        "\n",
        "If `val` is not in `arr`, the algorithm still needs to check each of the $n$ elements in the array, therefore the number of iterations is always $n$.\n",
        "\n",
        "Using the [Law of Total Probability](https://en.wikipedia.org/wiki/Law_of_total_probability), the average number of iterations averaged over both categories is\n",
        "\n",
        "\\begin{align*}\n",
        "p \\frac{n+1}{2} + (1-p) n \u0026= n\\left(1-\\frac{p}{2} \\right) + \\frac{p}{2}. \\\\\n",
        "\\end{align*}\n",
        "\n",
        "Since $p$ is a constant, these coefficients that are expressions of $p$ can be ignored for the purposes of big-O. Therefore, the average case time complexity of this algorithm is $O(n)$."
      ]
    },
    {
      "cell_type": "markdown",
      "metadata": {
        "id": "k1rNpQ5Gbgls"
      },
      "source": [
        "## Question 5"
      ]
    },
    {
      "cell_type": "markdown",
      "metadata": {
        "id": "sbthXWsgbkCK"
      },
      "source": [
        "A colleague on your team at work has developed a function to check if an array of integers is sorted. The function is working fine, but your manager wants to make sure that the function is not too computationally expensive. What is the best and worst case **time and space** complexity of `is_sorted`, below?"
      ]
    },
    {
      "cell_type": "code",
      "execution_count": null,
      "metadata": {
        "id": "otENwe3ScOfe"
      },
      "outputs": [],
      "source": [
        "def is_sorted(arr):\n",
        "  \"\"\"Returns True if arr is sorted lowest to highest.\"\"\"\n",
        "  for i in range(len(arr) - 1):\n",
        "    if arr[i] \u003e arr[i+1]:\n",
        "      return False\n",
        "  \n",
        "  return True"
      ]
    },
    {
      "cell_type": "code",
      "execution_count": null,
      "metadata": {
        "id": "Q6E3DVZtUpn0"
      },
      "outputs": [],
      "source": [
        "#freetext"
      ]
    },
    {
      "cell_type": "markdown",
      "metadata": {
        "id": "AIsm7JnidZLn"
      },
      "source": [
        "### Solution"
      ]
    },
    {
      "cell_type": "markdown",
      "metadata": {
        "id": "YIvgP0EZdaJX"
      },
      "source": [
        "- Time complexity\n",
        "\n",
        "  - In the **best case** (which minimizes time complexity), `arr[0] \u003e arr[1]`, since in this case, the function exits after only one iteration. Therefore the best case time complexity is $O(1)$.\n",
        "\n",
        "  - In the **worst case** (which maximizes time complexity), the `for` loop completes all $n-1$ iterations. Therefore the worst case time complexity is $O(n)$. (It turns out that the **average case** time complexity is also $O(n)$.)\n",
        "\n",
        "- Space complexity\n",
        "\n",
        "  In all cases, the only variable created is `i`, so the space complexity is always $O(1)$."
      ]
    },
    {
      "cell_type": "markdown",
      "metadata": {
        "id": "Fo7nanAFZ4Mo"
      },
      "source": [
        "## Question 6"
      ]
    },
    {
      "cell_type": "markdown",
      "metadata": {
        "id": "TiJDgoG7FQ8C"
      },
      "source": [
        "One of the most rudimentary algorithms for sorting an array of integers is \"bogosort\" (also known as \"permutation sort\" and \"stupid sort\"). The way this algorithm works is to repeatedly shuffle the elements of the array and check if the result is sorted, stopping if the sorted array is generated."
      ]
    },
    {
      "cell_type": "code",
      "execution_count": null,
      "metadata": {
        "id": "8tlycyhTf4hI"
      },
      "outputs": [],
      "source": [
        "def is_sorted(arr):\n",
        "  \"\"\"Returns True if arr is sorted lowest to highest.\"\"\"\n",
        "  for i in range(len(arr) - 1):\n",
        "    if arr[i] \u003e arr[i+1]:\n",
        "      return False\n",
        "  \n",
        "  return True"
      ]
    },
    {
      "cell_type": "markdown",
      "metadata": {
        "id": "ZG22TVeKhvKW"
      },
      "source": [
        "To see all the permutations of `arr` as `bogosort` looks for a sorted one, uncomment the `print` command."
      ]
    },
    {
      "cell_type": "code",
      "execution_count": null,
      "metadata": {
        "id": "mY6_yfoQfuO0"
      },
      "outputs": [],
      "source": [
        "import random # needed to generate random shuffles of the array\n",
        "\n",
        "def bogosort(arr):\n",
        "  \"\"\"Sorts an array of integers from lowest to highest.\"\"\"\n",
        "  while not is_sorted(arr):\n",
        "    # print(arr)\n",
        "    random.shuffle(arr)\n",
        "\n",
        "  return arr"
      ]
    },
    {
      "cell_type": "code",
      "execution_count": null,
      "metadata": {
        "id": "3TWe6DfAgtH-"
      },
      "outputs": [],
      "source": [
        "bogosort([1, 4, 2, 3])"
      ]
    },
    {
      "cell_type": "markdown",
      "metadata": {
        "id": "hPMX_5WmiAB5"
      },
      "source": [
        "What is the worst case time and space complexity of bogosort?"
      ]
    },
    {
      "cell_type": "code",
      "execution_count": null,
      "metadata": {
        "id": "a8eSr0bHU399"
      },
      "outputs": [],
      "source": [
        "#freetext"
      ]
    },
    {
      "cell_type": "markdown",
      "metadata": {
        "id": "wWF0RMlpk_g6"
      },
      "source": [
        "### Solution"
      ]
    },
    {
      "cell_type": "markdown",
      "metadata": {
        "id": "Yqo7UkXilBE4"
      },
      "source": [
        "- Time complexity\n",
        "\n",
        "  Due to the probabilistic nature of this implementation of bogosort, it is entirely possible that the algorithm *never* produces a sorted array. Consider a case where `random.shuffle` by chance produces the same unsorted array at every iteration. In this case, which is as possible as any other case, the algorithm never finishes and the time complexity is infinite.\n",
        "\n",
        "- Space complexity\n",
        "\n",
        "  All shuffling is done in-place (this means that the array is not copied before shuffling, so all elements are moved around in the input array) and no new variables are created. Therefore the worst (and best and average) case space complexity is $O(1)$."
      ]
    },
    {
      "cell_type": "markdown",
      "metadata": {
        "id": "gv-IHy-KSYCb"
      },
      "source": [
        "## Question 7"
      ]
    },
    {
      "cell_type": "markdown",
      "metadata": {
        "id": "CcRC7zadSZcF"
      },
      "source": [
        "[Advanced] In the previous question, we saw that the worst case time complexity of bogosort (code below) is infinite. What is the average time complexity?"
      ]
    },
    {
      "cell_type": "markdown",
      "metadata": {
        "id": "D1HUUrIbU7fo"
      },
      "source": [
        "You don't need to *prove* what the average case time complexity is. Consider what the probability of randomly arriving at the sorted array is, in this implementation. And remember that `is_sorted` is $O(n)$."
      ]
    },
    {
      "cell_type": "code",
      "execution_count": null,
      "metadata": {
        "id": "AOQ1guL3Snef"
      },
      "outputs": [],
      "source": [
        "def is_sorted(arr):\n",
        "  \"\"\"Returns True if arr is sorted lowest to highest.\"\"\"\n",
        "  for i in range(len(arr) - 1):\n",
        "    if arr[i] \u003e arr[i+1]:\n",
        "      return False\n",
        "  \n",
        "  return True"
      ]
    },
    {
      "cell_type": "code",
      "execution_count": null,
      "metadata": {
        "id": "E1qXIKmrSnel"
      },
      "outputs": [],
      "source": [
        "import random # needed to generate random shuffles of the array\n",
        "\n",
        "def bogosort(arr):\n",
        "  \"\"\"Sorts an array of integers from lowest to highest.\"\"\"\n",
        "  while not is_sorted(arr):\n",
        "    # print(arr)\n",
        "    random.shuffle(arr)\n",
        "\n",
        "  return arr"
      ]
    },
    {
      "cell_type": "code",
      "execution_count": null,
      "metadata": {
        "id": "S7i9H-fkU9uy"
      },
      "outputs": [],
      "source": [
        "#freetext"
      ]
    },
    {
      "cell_type": "markdown",
      "metadata": {
        "id": "70lxJ8aYSuCT"
      },
      "source": [
        "### Hint"
      ]
    },
    {
      "cell_type": "markdown",
      "metadata": {
        "id": "e6lCLrsUSu4x"
      },
      "source": [
        "What are the total possible number of permutations of `arr` (assuming all elements of `arr` are distinct)?\n",
        "\n",
        "If this number is $M$, then the probability of the sorted array being hit is $\\frac{1}{M}$ since each permutation is equally likely at each shuffle. In this case, the expected number of iterations before a success is just $M$."
      ]
    },
    {
      "cell_type": "markdown",
      "metadata": {
        "id": "sXE6LkX88tvN"
      },
      "source": [
        "### Solution"
      ]
    },
    {
      "cell_type": "markdown",
      "metadata": {
        "id": "EZA-Rf-tVQSm"
      },
      "source": [
        "If all of the $n$ elements of `arr` are distinct, then there are $n!$ possible permutations of the elements. Therefore the probability of any given permutation being chosen at each shuffle is $\\frac{1}{n!}$ and the expected number of iterations before the sorted array is chosen is $n!$.\n",
        "\n",
        "(If you are familiar with statistics, the number of iterations before a success follows a [geometric distribution](https://en.wikipedia.org/wiki/Geometric_distribution).)\n",
        "\n",
        "Therefore, the time complexity of arriving at the sorted array is $O(n!)$. But remember that the function to check that a given array is sorted, `is_sorted`, is $O(n)$. This is called at every iteration of the `while` loop. So, this function has on average $n!$ iterations of a loop that is $O(n)$. Therefore, the total time complexity is $O(n \\cdot n!)$.\n",
        "\n",
        "Bogosort is one of the least efficient sorting algorithms. There are several sorting algorithms that are average case $O(n^2)$ and $O(n\\log(n))$."
      ]
    },
    {
      "cell_type": "markdown",
      "metadata": {
        "id": "SrGrPTEksg9d"
      },
      "source": [
        "## Question 8"
      ]
    },
    {
      "cell_type": "markdown",
      "metadata": {
        "id": "L5XMAVchsiAV"
      },
      "source": [
        "[Advanced] The main problem with the bogosort implementation in the previous questions is that the worst case time complexity is infinite. That means the program could literally run forever!"
      ]
    },
    {
      "cell_type": "markdown",
      "metadata": {
        "id": "0Lvm_UGnVKOa"
      },
      "source": [
        "A different implementation of bogosort addresses this, by creating all possible permutations of the input array and *then* checking one by one which is sorted."
      ]
    },
    {
      "cell_type": "code",
      "execution_count": null,
      "metadata": {
        "id": "ZDmygv6xtU8E"
      },
      "outputs": [],
      "source": [
        "def is_sorted(arr):\n",
        "  \"\"\"Returns True if arr is sorted lowest to highest.\"\"\"\n",
        "  for i in range(len(arr) - 1):\n",
        "    if arr[i] \u003e arr[i+1]:\n",
        "      return False\n",
        "  \n",
        "  return True"
      ]
    },
    {
      "cell_type": "markdown",
      "metadata": {
        "id": "MOEJin2WuIA8"
      },
      "source": [
        "To see all the permutations of `arr`, pass `print_all=True`."
      ]
    },
    {
      "cell_type": "code",
      "execution_count": null,
      "metadata": {
        "id": "bVpmw0kgtX4I"
      },
      "outputs": [],
      "source": [
        "import itertools # needed to generate all possible permutations of an array\n",
        "\n",
        "def bogosort2(arr, print_all=False):\n",
        "  \"\"\"Sorts an array of integers from lowest to highest.\"\"\"\n",
        "  # Generate all possible permutations of arr.\n",
        "  all_permutations = itertools.permutations(arr)\n",
        "  if print_all:\n",
        "    print([p for p in all_permutations])\n",
        "  for p in all_permutations:\n",
        "    if is_sorted(p):\n",
        "      return list(p)"
      ]
    },
    {
      "cell_type": "code",
      "execution_count": null,
      "metadata": {
        "id": "e4bF4ykrtsRx"
      },
      "outputs": [],
      "source": [
        "bogosort2([1, 4, 2, 3], print_all=True)"
      ]
    },
    {
      "cell_type": "markdown",
      "metadata": {
        "id": "6mdtyaDTuOlW"
      },
      "source": [
        "What is the worst case time *and* space complexity of this implementation of bogosort?\n",
        "\n",
        "Assume that the time and space complexity of `itertools.permutations(arr)` is equal to the number of permutations generated."
      ]
    },
    {
      "cell_type": "code",
      "execution_count": null,
      "metadata": {
        "id": "JTpfL9DyVkcS"
      },
      "outputs": [],
      "source": [
        "#freetext"
      ]
    },
    {
      "cell_type": "markdown",
      "metadata": {
        "id": "l8A0cx4kue9X"
      },
      "source": [
        "### Solution"
      ]
    },
    {
      "cell_type": "markdown",
      "metadata": {
        "id": "x760C8Oduwu9"
      },
      "source": [
        "Most of the computational complexity comes from the `itertools.permutations(arr)` call, which generates all possible permutations of `arr`. In the worst case, all $n$ elements of `arr` are distinct so there are $n!$ permutations, and the time and space complexity of this line is $O(n!)$.\n",
        "\n",
        "- Time complexity\n",
        "\n",
        "  Since `all_permutations` has $n!$ elements, the `for` loop is $O(n!)$ in the worst case. Each array $p$ within `all_permutations` is an $n$-array, so `is_sorted(p)` is $O(n)$. Therefore the `for` loop has time complexity $O(n \\cdot n!)$. Remembering that creating `all_permutations` is $O(n!)$, the total time complexity is\n",
        "\n",
        "  $$O(n!) + O(n \\cdot n!) = O(n \\cdot n!).$$\n",
        "\n",
        "- Space complexity\n",
        "\n",
        "  There are only two variables created in `bogosort2`: `all_permutations` (which is $O(n!)$ as discussed) and `p` (which is an $n$-array so is $O(n)$). Therefore, the space complexity is\n",
        "\n",
        "  $$O(n!) + O(n) = O(n!).$$"
      ]
    }
  ],
  "metadata": {
    "colab": {
      "collapsed_sections": [
        "OXTWjdbDP5og",
        "gOQ-rODe9DuN",
        "dcmDtnr6bBXj",
        "ezcwF6vTiTql",
        "2CR3FnW2cwX2",
        "AIsm7JnidZLn",
        "wWF0RMlpk_g6",
        "70lxJ8aYSuCT",
        "sXE6LkX88tvN",
        "l8A0cx4kue9X"
      ],
      "name": "analyzing_complexity.ipynb",
      "private_outputs": true,
      "provenance": [ ]
    },
    "kernelspec": {
      "display_name": "Python 3",
      "name": "python3"
    }
  },
  "nbformat": 4,
  "nbformat_minor": 0
}
