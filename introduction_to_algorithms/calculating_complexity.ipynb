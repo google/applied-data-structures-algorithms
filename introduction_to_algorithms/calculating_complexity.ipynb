{
  "cells": [
    {
      "cell_type": "markdown",
      "metadata": {
        "id": "l-ImfGxtpTdu"
      },
      "source": [
        "# Calculating Complexity"
      ]
    },
    {
      "cell_type": "markdown",
      "metadata": {
        "id": "3uBMXJpSpWCg"
      },
      "source": [
        "## Lesson Overview"
      ]
    },
    {
      "cell_type": "markdown",
      "metadata": {
        "id": "qCsyYNJFL22d"
      },
      "source": [
        "Here are some helpful rules for calculating the complexity of a program."
      ]
    },
    {
      "cell_type": "markdown",
      "metadata": {
        "id": "I9NXo5VOPJBz"
      },
      "source": [
        "- Variable assignments are $O(1)$ for time vary for space.\n",
        "\n",
        "- Arithmetic operations such as addition and subtraction are $O(1)$ for both time and space.\n",
        "\n",
        "- Creating an empty array or map is $O(1)$ for both time and space.\n",
        "\n",
        "- A `for` or `while` loop is $O(n)$ for time and $O(1)$ for space, where $n$ is the number of iterations.\n",
        "\n",
        "- When an operation occurs within a loop, the total complexity that the operation contributes to the program is the product of the single-line complexity of the operation and the number of iterations of the loop. For example, an $O(1)$ operation within a loop of $n$ iterations contributes a complexity of $O(n)$.\n",
        "\n",
        "- When a loop occurs within another loop, the total number of iterations is the product of the number of iterations of each loop. For example, if a loop of $m$ iterations is contained within a loop of $n$ iterations, the combination of both loops has a total of $nm$ iterations."
      ]
    },
    {
      "cell_type": "markdown",
      "metadata": {
        "id": "fF4J73kaPKXF"
      },
      "source": [
        "In general, the complexity of a function or program is calculated by calculating the complexity of each line, and adding them together. Since $O(1)$ is the lowest complexity, any $O(1)$ operations can be ignored. (Regardless of how many $O(1)$ operations there are, the sum of them will still be $O(1)$.)"
      ]
    },
    {
      "cell_type": "markdown",
      "metadata": {
        "id": "nekS7hDxPLlR"
      },
      "source": [
        "### Calculating the complexity of a function"
      ]
    },
    {
      "cell_type": "markdown",
      "metadata": {
        "id": "DmgBok2YPcws"
      },
      "source": [
        "Consider this function that creates `n` arrays of length `n`."
      ]
    },
    {
      "cell_type": "code",
      "execution_count": null,
      "metadata": {
        "id": "gFRWap9_PjPf"
      },
      "outputs": [],
      "source": [
        "def fun_with_complexity(n):\n",
        "  \"\"\"Creates an array with n arrays of length n.\"\"\"\n",
        "  outer = []\n",
        "  counter = 0\n",
        "  for _ in range(n):\n",
        "    inner = []\n",
        "    while len(inner) \u003c n:\n",
        "      inner.append(counter)\n",
        "      counter += 1\n",
        "    outer.append(inner)\n",
        "  return outer"
      ]
    },
    {
      "cell_type": "code",
      "execution_count": null,
      "metadata": {
        "id": "Q4hWAApfRUhL"
      },
      "outputs": [],
      "source": [
        "fun_with_complexity(5)"
      ]
    },
    {
      "cell_type": "markdown",
      "metadata": {
        "id": "nkRt9SQGSb-P"
      },
      "source": [
        "Before looking at the commented code below, try to calculate the time and space complexity of each single line of this function."
      ]
    },
    {
      "cell_type": "code",
      "execution_count": null,
      "metadata": {
        "id": "5KYqT04RTh70"
      },
      "outputs": [],
      "source": [
        "def fun_with_complexity(n):\n",
        "  \"\"\"Creates an array with n arrays of length n.\"\"\"\n",
        "  # The following are the complexities of each line alone, if executed once.\n",
        "  outer = [] # time: O(1), space: O(1)\n",
        "  counter = 0 # time: O(1), space: O(1)\n",
        "  for _ in range(n): # time: n iterations, space: 0\n",
        "    inner = [] # time: O(1), space: O(1)\n",
        "    while len(inner) \u003c n: # time: n iterations, space: 0\n",
        "      inner.append(counter) # time: O(1), space: O(1)\n",
        "      counter += 1 # time: O(1), space: 0\n",
        "    outer.append(inner) # time: O(1), space: O(n)\n",
        "  return outer # time: O(1), space: depends if outer is assigned to a variable"
      ]
    },
    {
      "cell_type": "markdown",
      "metadata": {
        "id": "jaN8jflEpV3V"
      },
      "source": [
        "Since the outer `for` loop has $n$ iterations and the inner `while` loop has $n$ iterations, the operations within the `while` loop are executed $n^2$ times, and the operations within the `for` loop that are not within the `while` loop are executed $n$ times. This allows us to calculate the total time and space complexity that each line contributes."
      ]
    },
    {
      "cell_type": "code",
      "execution_count": null,
      "metadata": {
        "id": "s2kGjJNZMtO9"
      },
      "outputs": [],
      "source": [
        "def fun_with_complexity(n):\n",
        "  \"\"\"Creates an array with n arrays of length n.\"\"\"\n",
        "  # The following are the complexities that the line contributes to the\n",
        "  # function, when executed the correct number of times.\n",
        "  outer = [] # executed 1 time, time: O(1), space: O(1)\n",
        "  counter = 0 # executed 1 time, time: O(1), space: O(1)\n",
        "  for _ in range(n): # executes n times\n",
        "    inner = [] # time: n*O(1) = O(n), space: n*O(1) = O(n)\n",
        "    while len(inner) \u003c n: # executes n^2 times\n",
        "      inner.append(counter) # time: n^2*O(1)=O(n^2), space: n^2*O(1) = O(n^2)\n",
        "      counter += 1 # time: n^2*O(1) = O(n^2), space: n^2*0 = 0\n",
        "    outer.append(inner) # time: n*O(1) = O(n), space: n*O(n) = O(n^2)\n",
        "  return outer # executes 1 time, time: O(1), space: depends if outer is assigned to a variable"
      ]
    },
    {
      "cell_type": "markdown",
      "metadata": {
        "id": "poYH9HXGPHQa"
      },
      "source": [
        "Therefore, remembering that $O(1)$ operations can be ignored and that a function grows as fast as its fastest growing part:\n",
        "\n",
        "\\begin{align*}\n",
        "time\\_complexity \u0026= O(n) + O(n^2) + O(n^2) + O(n) \\\\\n",
        "\u0026= O(n^2) \\\\\n",
        "space\\_complexity \u0026= O(n) + O(n^2) + O(n^2) \\\\\n",
        "\u0026= O(n^2) \\\\\n",
        "\\end{align*}"
      ]
    },
    {
      "cell_type": "markdown",
      "metadata": {
        "id": "upcJEsOBPzvF"
      },
      "source": [
        "### Best and worst case complexity"
      ]
    },
    {
      "cell_type": "markdown",
      "metadata": {
        "id": "y19tULZqPohE"
      },
      "source": [
        "In general, the time complexity of an algorithm can vary on the input. In some cases, this variance can be drastic."
      ]
    },
    {
      "cell_type": "markdown",
      "metadata": {
        "id": "H3_WbUFDIYEg"
      },
      "source": [
        "\u003e When an algorithm's inputs are such that the algorithm performs as quickly as it can possibly perform, its time complexity for those inputs is the **best case time complexity**. Similarly, when an algorithm's inputs are such that the algorithm performs as slowly as it can possibly perform, its time complexity for those inputs is the **worst case time complexity**.\n",
        "\n",
        "Similarly for space complexity, the best case space complexity is the smallest possible space complexity at which the algorithm can perform, and the worst case space complexity is the largest possible space complexity at which the algorithm can perform."
      ]
    },
    {
      "cell_type": "markdown",
      "metadata": {
        "id": "fyULFB3dP7Lm"
      },
      "source": [
        "### Best and worst case complexity of a function"
      ]
    },
    {
      "cell_type": "markdown",
      "metadata": {
        "id": "EkcmBa_KvmmK"
      },
      "source": [
        "For example, consider a function that searches an array for whether it contains the value zero."
      ]
    },
    {
      "cell_type": "code",
      "execution_count": null,
      "metadata": {
        "id": "uyLtMICvvw1n"
      },
      "outputs": [],
      "source": [
        "def contains_zero(arr):\n",
        "  \"\"\"Returns true if an array of integers contains 0.\"\"\"\n",
        "  for i in arr:\n",
        "    if i == 0:\n",
        "      return True\n",
        "  \n",
        "  return False"
      ]
    },
    {
      "cell_type": "markdown",
      "metadata": {
        "id": "z4sCVVy_vjC-"
      },
      "source": [
        "In the **best case**, `arr[0] == 0`, so the `for` loop exits after only one iteration. In this case, `contains_zero` is $O(1)$ for time.\n",
        "\n",
        "In the **worst case**, 0 is in not in `arr` (or it is the last element of `arr`), in which case the `for` loop has to check all of the $n$ elements of `arr`. In this case, `contains_zero` is $O(n)$ for time."
      ]
    },
    {
      "cell_type": "markdown",
      "metadata": {
        "id": "rvWYXONs-nCA"
      },
      "source": [
        "## Question 1"
      ]
    },
    {
      "cell_type": "markdown",
      "metadata": {
        "id": "7_Cp3_Rj-osx"
      },
      "source": [
        "Which of the following statements about best and worst case time complexity are true?"
      ]
    },
    {
      "cell_type": "markdown",
      "metadata": {
        "id": "Ky10U0jvM4e5"
      },
      "source": [
        "* An algorithm's best case time complexity must be quicker than its worst case time complexity.\n",
        "  * Incorrect - If an algorithm has the same time complexity in all cases, then its best and worst case time complexities are the same.\n",
        "* An algorithm's best case time complexity is the quickest possible time complexity over all inputs.\n",
        "  * Correct\n",
        "* An algorithm's worst case space complexity occurs when the algorithm's inputs are such that the algorithm requires more space than it would for any other set of inputs.\n",
        "  * Correct\n",
        "* An algorithm's best case time complexity occurs when its worst case space complexity occurs.\n",
        "  * Incorrect - While it is often the case that space complexity increases when time complexity decreases, not all algorithms have this property."
      ]
    },
    {
      "cell_type": "markdown",
      "metadata": {
        "id": "IwzyruEhM5vN"
      },
      "source": [
        "### Solution"
      ]
    },
    {
      "cell_type": "markdown",
      "metadata": {
        "id": "4i_bYn3GM7Se"
      },
      "source": [
        "The correct solutions are **b)** and **c)**. \n",
        "\n",
        "**a)** If an algorithm has the same time complexity in all cases, then its best and worst case time complexities are the same.\n",
        "\n",
        "**d)** While it is often the case that space complexity increases when time complexity decreases, not all algorithms have this property."
      ]
    },
    {
      "cell_type": "markdown",
      "metadata": {
        "id": "aOiRqlktBScx"
      },
      "source": [
        "## Question 2"
      ]
    },
    {
      "cell_type": "markdown",
      "metadata": {
        "id": "Sx-mxVdRBT9E"
      },
      "source": [
        "Consider the following function.\n",
        "\n",
        "```python\n",
        "def prod(arr):\n",
        "  \"\"\"Returns the product of the non-zero elements of arr.\"\"\"\n",
        "  # Block 1: variable assignment\n",
        "  output = 1\n",
        "\n",
        "  # Block 2: for loop\n",
        "  for i in arr:\n",
        "\n",
        "    # Block 3: if statement\n",
        "    if i == 0:\n",
        "      continue\n",
        "    \n",
        "    output *= i\n",
        "  \n",
        "  # Block 4: return statement\n",
        "  return output\n",
        "```\n",
        "\n",
        "Which blocks of code contribute to the time complexity? That is, which blocks of code have a big-O time complexity greater than $O(1)$?"
      ]
    },
    {
      "cell_type": "markdown",
      "metadata": {
        "id": "A4O9_Gk7Qnoc"
      },
      "source": [
        "**a)** Block 1: variable assignment\n",
        "\n",
        "**b)** Block 2: `for` loop\n",
        "\n",
        "**c)** Block 3: `if` statement\n",
        "\n",
        "**d)** Block 4: `return` statement\n"
      ]
    },
    {
      "cell_type": "markdown",
      "metadata": {
        "id": "skqfg_Q_NO7k"
      },
      "source": [
        "### Solution"
      ]
    },
    {
      "cell_type": "markdown",
      "metadata": {
        "id": "Q1mb9KeHNQhY"
      },
      "source": [
        "The correct answers is **b)**. "
      ]
    },
    {
      "cell_type": "markdown",
      "metadata": {
        "id": "F_56gXpRZKBJ"
      },
      "source": [
        "## Question 3"
      ]
    },
    {
      "cell_type": "markdown",
      "metadata": {
        "id": "DUf5ZVBA5O54"
      },
      "source": [
        "What is the big-O time and space complexity of the following function that finds the mean of an array of integers?"
      ]
    },
    {
      "cell_type": "code",
      "execution_count": null,
      "metadata": {
        "id": "CD89ZKRQ8WuQ"
      },
      "outputs": [],
      "source": [
        "def mean(arr):\n",
        "  \"\"\"Finds the mean of a list of integers.\"\"\"\n",
        "  sum = 0\n",
        "  len = 0\n",
        "  for i in arr:\n",
        "    sum += i\n",
        "    len += 1\n",
        "  \n",
        "  # Coerce sum to float here so that the division will be float, not int.\n",
        "  return float(sum) / len"
      ]
    },
    {
      "cell_type": "code",
      "execution_count": null,
      "metadata": {
        "id": "Jedb5PcxQyPb"
      },
      "outputs": [],
      "source": [
        "#freetext"
      ]
    },
    {
      "cell_type": "markdown",
      "metadata": {
        "id": "8_6NzLc28jmN"
      },
      "source": [
        "### Solution"
      ]
    },
    {
      "cell_type": "markdown",
      "metadata": {
        "id": "4m9YRAxT8qyG"
      },
      "source": [
        "Suppose $n$ is the length of the input list `arr`. Let's look at the big-O complexity of the function line by line."
      ]
    },
    {
      "cell_type": "code",
      "execution_count": null,
      "metadata": {
        "id": "_PzL8uWbCww2"
      },
      "outputs": [],
      "source": [
        "def mean(arr):\n",
        "  \"\"\"Finds the mean of a list of integers.\"\"\"\n",
        "  sum = 0 # time: O(1), space: O(1)\n",
        "  len = 0 # time: O(1), space: O(1)\n",
        "  for i in arr: # executes n times, space: O(1)\n",
        "    sum += i # time: O(1), space: 0\n",
        "    len += 1 # time: O(1), space: 0\n",
        "  \n",
        "  # Coerce sum to float here so that the division will be float, not int.\n",
        "  return float(sum) / len # time: O(1), space: 0"
      ]
    },
    {
      "cell_type": "markdown",
      "metadata": {
        "id": "VT7IoCqjDEIa"
      },
      "source": [
        "Therefore, the time complexity is\n",
        "\n",
        "$$O(1) + O(1) + n(O(1) + O(1)) + O(1) = O(n),$$\n",
        "\n",
        "and the space complexity is\n",
        "\n",
        "$$O(1) + O(1) + O(1) = O(1).$$"
      ]
    },
    {
      "cell_type": "markdown",
      "metadata": {
        "id": "utxDaSNBdVjJ"
      },
      "source": [
        "## Question 4"
      ]
    },
    {
      "cell_type": "markdown",
      "metadata": {
        "id": "x2A_7q01rs3F"
      },
      "source": [
        "Assume an array has been over allocated so that the size of the allocated array is twice the current number of elements. What is the big-O time complexity of inserting an element at the end of this array? What if the current array has not been over allocated (i.e. the current array-allocation is equal to the number of elements in the array)?"
      ]
    },
    {
      "cell_type": "code",
      "execution_count": null,
      "metadata": {
        "id": "Vo6Hw77mQ1qs"
      },
      "outputs": [],
      "source": [
        "#freetext"
      ]
    },
    {
      "cell_type": "markdown",
      "metadata": {
        "id": "shxgSpeEdbnb"
      },
      "source": [
        "### Solution"
      ]
    },
    {
      "cell_type": "markdown",
      "metadata": {
        "id": "7ZHORIWyr5C1"
      },
      "source": [
        "Suppose the array has $n$ elements before the new element is inserted at the end. \n",
        "\n",
        "If the array has been over allocated, then there is space at the $(n+1)$th position in memory for the new element to be appended. In this case, the operation is $O(1)$. \n",
        "\n",
        "If, however, the array has not been over allocated, then there is not necessarily space at the $(n+1)$th space in memory. (Remember, arrays utilize [contiguous blocks](https://stackoverflow.com/questions/4059363/what-is-a-contiguous-memory-block) of memory.) In this case, we must first allocate a new array of size at least $n+1$, then we need to copy over the $n$ elements of the original array. Finally, we can insert the new element at the $(n+1)$th position. Thus, the time complexity is $O(n)$."
      ]
    },
    {
      "cell_type": "markdown",
      "metadata": {
        "id": "dE6Oq4PvXZcS"
      },
      "source": [
        "## Question 5"
      ]
    },
    {
      "cell_type": "markdown",
      "metadata": {
        "id": "5U5FoGiHXRxg"
      },
      "source": [
        "What is the big-O time complexity of inserting an element into a linked list? "
      ]
    },
    {
      "cell_type": "code",
      "execution_count": null,
      "metadata": {
        "id": "XDuR4zPKQ8om"
      },
      "outputs": [],
      "source": [
        "#freetext"
      ]
    },
    {
      "cell_type": "markdown",
      "metadata": {
        "id": "-psOcv7XXhS9"
      },
      "source": [
        "### Solution"
      ]
    },
    {
      "cell_type": "markdown",
      "metadata": {
        "id": "WV370FhFXdix"
      },
      "source": [
        "Linked lists are designed with the purpose that inserting and deleting elements is efficient. Inserting an element is equivalent to creating the new node that points to the following element, and changing the previous element to point to the new element. All of these operations are $O(1)$ and do not depend on the number of nodes in the linked list, therefore the best, worst, and average case time complexities are all the same, $O(1)$."
      ]
    },
    {
      "cell_type": "markdown",
      "metadata": {
        "id": "IDo8sT3GPHhE"
      },
      "source": [
        "## Question 6"
      ]
    },
    {
      "cell_type": "markdown",
      "metadata": {
        "id": "k8suad4OPLNz"
      },
      "source": [
        "The following function finds the minimum value in an array."
      ]
    },
    {
      "cell_type": "code",
      "execution_count": null,
      "metadata": {
        "id": "76s4VtjlSjPM"
      },
      "outputs": [],
      "source": [
        "def minimum(arr):\n",
        "  \"\"\"Finds the minimum of a list of integers.\"\"\"\n",
        "  min_value = float(\"Inf\")\n",
        "\n",
        "  for i in arr:\n",
        "    if i \u003c min_value:\n",
        "      min_value = i\n",
        "  \n",
        "  return min_value"
      ]
    },
    {
      "cell_type": "markdown",
      "metadata": {
        "id": "0T4SKv4KVZYZ"
      },
      "source": [
        "In a previous lesson, we showed that this function has time complexity $O(n)$, where $n$ is the length of the array.\n",
        "\n",
        "The function below finds the minimum of *two* arrays of length $n$. What is the big-O time complexity of `two_minimums`, in terms of $n$?\n",
        "\n",
        "You can assume that it is always true that both arrays have the same length, $n$."
      ]
    },
    {
      "cell_type": "code",
      "execution_count": null,
      "metadata": {
        "id": "X1FIMXfaPqim"
      },
      "outputs": [],
      "source": [
        "def two_minimums(arr1, arr2):\n",
        "  \"\"\"Finds the respective minimums of two n-arrays of integers.\"\"\"\n",
        "  return minimum(arr1), minimum(arr2)"
      ]
    },
    {
      "cell_type": "code",
      "execution_count": null,
      "metadata": {
        "id": "S7azNbldRFHo"
      },
      "outputs": [],
      "source": [
        "#freetext"
      ]
    },
    {
      "cell_type": "markdown",
      "metadata": {
        "id": "iwrN4wADPI4F"
      },
      "source": [
        "### Solution"
      ]
    },
    {
      "cell_type": "markdown",
      "metadata": {
        "id": "wlAKjMAgbRkr"
      },
      "source": [
        "The `two_minimums` function calls `minimum` twice, once for `arr1` and once for `arr2`. The time complexity of each call is $O(n)$. Therefore the time complexity of of `two_minimums` is\n",
        "\n",
        "$$O(n) + O(n) = O(n),$$\n",
        "\n",
        "using the property that the sum of functions grows as fast as its fastest growing part.\n",
        "\n",
        "This is a good example of how two functions with the same time complexity do not necessarily have the same actual runtime. The `two_minimums` function calls `minimum` twice, so takes exactly twice as long as the `minimum` function, however both are $O(n)$."
      ]
    },
    {
      "cell_type": "markdown",
      "metadata": {
        "id": "gJgeGC0WcQjl"
      },
      "source": [
        "## Question 7"
      ]
    },
    {
      "cell_type": "markdown",
      "metadata": {
        "id": "L5mPjCNMcXyz"
      },
      "source": [
        "As per the previous question, calculating the minimums of two respective arrays of length *n* is linear. What is the time complexity of calculating the minimums of 1000 arrays of length *n*?"
      ]
    },
    {
      "cell_type": "code",
      "execution_count": null,
      "metadata": {
        "id": "GCJOFq1FRVNM"
      },
      "outputs": [],
      "source": [
        "#freetext"
      ]
    },
    {
      "cell_type": "markdown",
      "metadata": {
        "id": "StaVmqTicvRX"
      },
      "source": [
        "### Solution"
      ]
    },
    {
      "cell_type": "markdown",
      "metadata": {
        "id": "wP0jwJ21cx_G"
      },
      "source": [
        "Using the same logic as in the previous question, the time complexity of finding the minimum of each array is $O(n)$. When these are added together, the time complexity is\n",
        "\n",
        "$$O(1000n) = O(n).$$\n",
        "\n",
        "This demonstrates how for any *constant* number $N$ of $n$-arrays, the total time complexity of calculating the $N$ respective minimums of the $N$ arrays is always $O(n)$. In an algorithm, doing the same thing repeatedly for a *known* and *constant* number of times is as time-complex as doing it only once."
      ]
    },
    {
      "cell_type": "markdown",
      "metadata": {
        "id": "XSlI_JUwdOla"
      },
      "source": [
        "## Question 8"
      ]
    },
    {
      "cell_type": "markdown",
      "metadata": {
        "id": "zUCdNkApdP4b"
      },
      "source": [
        "The following function finds the *m* respective minimums of the input array `arr` (of length *m*), where each element of `arr` is itself an array of length *n*. What is the big-O time complexity?\n",
        "\n",
        "You can assume that *all* sub-arrays of the input have the same length *n*."
      ]
    },
    {
      "cell_type": "code",
      "execution_count": null,
      "metadata": {
        "id": "ahDQqMRbeVYj"
      },
      "outputs": [],
      "source": [
        "def minimum(arr):\n",
        "  \"\"\"Finds the minimum of a list of integers.\"\"\"\n",
        "  min_value = float(\"Inf\")\n",
        "\n",
        "  for i in arr:\n",
        "    if i \u003c min_value:\n",
        "      min_value = i\n",
        "  \n",
        "  return min_value"
      ]
    },
    {
      "cell_type": "code",
      "execution_count": null,
      "metadata": {
        "id": "lYXTp-WGeEWT"
      },
      "outputs": [],
      "source": [
        "def m_minimums(arr):\n",
        "  \"\"\"Calculates the m minimums of the n-arrays within arr.\"\"\"\n",
        "  mins = []\n",
        "  for each in arr:\n",
        "    mins.append(minimum(each))\n",
        "  \n",
        "  return mins"
      ]
    },
    {
      "cell_type": "code",
      "execution_count": null,
      "metadata": {
        "id": "2b9c2SmzRYBt"
      },
      "outputs": [],
      "source": [
        "#freetext"
      ]
    },
    {
      "cell_type": "markdown",
      "metadata": {
        "id": "6JUSpv47ToPI"
      },
      "source": [
        "### Hint"
      ]
    },
    {
      "cell_type": "markdown",
      "metadata": {
        "id": "m2ryOh5ZTpXJ"
      },
      "source": [
        "In the previous question, $m$ was a constant equal to 2. Now, $m$ is unknown. How many times does the `for` loop execute?"
      ]
    },
    {
      "cell_type": "markdown",
      "metadata": {
        "id": "SnN7Ohjde9lY"
      },
      "source": [
        "### Solution"
      ]
    },
    {
      "cell_type": "markdown",
      "metadata": {
        "id": "Nrl8rhEWe-uI"
      },
      "source": [
        "Since each array within `arr` has length $n$, the computation `minimum(each)` is $O(n)$. There are $m$ arrays in `arr`, so the `for` loop executes $m$ times. Therefore, as `m_minimums` has $m$ iterations of an $O(n)$ loop, the total time complexity is $O(mn)$.\n",
        "\n",
        "Note how this is different from the function in the previous question that calculates the minimums of 1000 arrays, which has a time complexity of $O(n)$. When the number of arrays is *known* and *constant*, the time complexity is $O(n)$. Once the number of arrays is itself a variable $m$ that can be parameterized in the time complexity, the complexity becomes $O(mn)$."
      ]
    },
    {
      "cell_type": "markdown",
      "metadata": {
        "id": "TRASWvA3eAzP"
      },
      "source": [
        "## Question 9"
      ]
    },
    {
      "cell_type": "markdown",
      "metadata": {
        "id": "nBx5Lttfpp4Q"
      },
      "source": [
        "Two of your coworkers, Arron and Maple can't agree on the optimal solution to a problem the team is trying to solve. They both work on a team that stores the data for a toy factory. One of their team's primary responsibilities is to keep track of which items have been flagged as defective or unsafe, and which are acceptable to sell. Each item is stored via a unique integer identifier."
      ]
    },
    {
      "cell_type": "markdown",
      "metadata": {
        "id": "DD8qrMEwRkwD"
      },
      "source": [
        "Arron thinks that the best way to record this data is in two arrays, one for \"safe\" items, one for \"unsafe\" items. Each time a new item is evaluated, its integer ID is either added to the `safe_items` array, or to the `unsafe_items` array.\n",
        "\n",
        "Maple thinks that the best way to record this data is in one map, from the integer ID to a boolean, `True` for safe items, and `False` for unsafe items. Each time a new item is evaluated, its integer ID is added as a key to the map `item_safety`, and its safety as the value.\n",
        "\n",
        "One of the most important use cases for this system is to be able to find an item from its integer ID and see if it is safe or unsafe, or not yet in the database."
      ]
    },
    {
      "cell_type": "markdown",
      "metadata": {
        "id": "1_il_Xajsj1R"
      },
      "source": [
        "Below is Arron's function to check if an item is safe or unsafe. Assume that there exists two arrays, `safe_items` and `unsafe_items`, containing the integer IDs of safe and unsafe items respectively. It relies on the `find` function from the Guided Exercises above.\n",
        "\n",
        "```python\n",
        "def find(arr, val):\n",
        "  \"\"\"Returns True if val is in the list arr.\"\"\"\n",
        "  for i in arr:\n",
        "    if i == val:\n",
        "      return True\n",
        "  return False\n",
        "\n",
        "def is_item_safe(item_id):\n",
        "  \"\"\"Returns True if the item is safe, False if unsafe, error if not found.\"\"\"\n",
        "  if find(safe_items, item_id):\n",
        "    return True\n",
        "  elif find(safe_items, item_id):\n",
        "    return False\n",
        "  else:\n",
        "    raise ValueError('Item ID %d not found.' % item_id)\n",
        "```"
      ]
    },
    {
      "cell_type": "markdown",
      "metadata": {
        "id": "GLnc7h_Ft9cX"
      },
      "source": [
        "Below is Maple's function to check if an item is safe or unsafe. Assume that there exists a map `item_safety` that maps integer ID keys to boolean safety values.\n",
        "\n",
        "```python\n",
        "def is_item_safe(item_id):\n",
        "  \"\"\"Returns True if the item is safe, False if unsafe, error if not found.\"\"\"\n",
        "  # The map will throw an error if item_id does not exist as a key.\n",
        "  return item_safety[item_id]\n",
        "```"
      ]
    },
    {
      "cell_type": "markdown",
      "metadata": {
        "id": "nAT1kwrNvwFy"
      },
      "source": [
        "Arron and Maple are arguing over whose implementation is more efficient. Arron believes using the two arrays is more efficient, while Maple believes using a map is more efficient. Can you settle the disagreement? Consider the time and space complexities of each approach."
      ]
    },
    {
      "cell_type": "code",
      "execution_count": null,
      "metadata": {
        "id": "zNPaj_GTRprx"
      },
      "outputs": [],
      "source": [
        "#freetext"
      ]
    },
    {
      "cell_type": "markdown",
      "metadata": {
        "id": "s7vTuTS4wCjf"
      },
      "source": [
        "### Solution"
      ]
    },
    {
      "cell_type": "markdown",
      "metadata": {
        "id": "8DDEjILFwD6v"
      },
      "source": [
        "Neither approach is \"more efficient\" across the board. There are multiple factors to consider.\n",
        "\n",
        "- time complexity\n",
        "- space complexity\n",
        "- code simplicity"
      ]
    },
    {
      "cell_type": "markdown",
      "metadata": {
        "id": "rHzpq_nSRtkS"
      },
      "source": [
        "**Time complexity**\n",
        "\n",
        "- Arron's approach uses this function twice and nothing else. The `find` function is $O(n)$ in the average case, so Arron's function is also $O(n)$ in the average case.\n",
        "\n",
        "- Maple's approach just requires looking up a single key in a map, which is a single computation. Therefore, Maple's function is $O(1)$.\n",
        "\n",
        "**Space complexity**\n",
        "\n",
        "- Arron's approach requires storing two separate arrays with a total of $n$ items. Since $n$ items need to be stored, the space complexity of using two arrays is $O(n)$.\n",
        "\n",
        "- Maple's approach requires storing $n$ integers and $n$ booleans, so $2n$ allocations. This is still $O(n)$, but is approximately twice as much space as Arron's approach.\n",
        "\n",
        "**Code simplicity**\n",
        "\n",
        "- Arron's function requires the helper method `find` as well as an `if`/`elif`/`else` statement.\n",
        "\n",
        "- Maple's function is a simple one-liner.\n",
        "\n",
        "Overall, Maple's function requires about twice as much storage as Arron's, but it runs faster (and importantly its runtime doesn't grow as the number of items grows) and is simpler to understand. Which approach you would choose depends on whether time or space or simplicity are most important, but Maple's would usually be a better choice."
      ]
    },
    {
      "cell_type": "markdown",
      "metadata": {
        "id": "He0xmLandMbz"
      },
      "source": [
        "## Question 10"
      ]
    },
    {
      "cell_type": "markdown",
      "metadata": {
        "id": "rx3Bmm8xsAbu"
      },
      "source": [
        "[Advanced] What is the big-O time and space complexity of the following function?"
      ]
    },
    {
      "cell_type": "code",
      "execution_count": null,
      "metadata": {
        "id": "_47T2H2tsG1t"
      },
      "outputs": [],
      "source": [
        "def powers_of_two_below(n):\n",
        "  \"\"\"Prints integer powers of two below the input n.\"\"\"\n",
        "  output = []\n",
        "\n",
        "  j = 2**0\n",
        "  while j \u003c n:\n",
        "    output.append(j)\n",
        "    j *= 2\n",
        "\n",
        "  return output"
      ]
    },
    {
      "cell_type": "code",
      "execution_count": null,
      "metadata": {
        "id": "Ie_bYhXGR_bl"
      },
      "outputs": [],
      "source": [
        "print(powers_of_two_below(20))"
      ]
    },
    {
      "cell_type": "code",
      "execution_count": null,
      "metadata": {
        "id": "NNMTaFHkR5AC"
      },
      "outputs": [],
      "source": [
        "#freetext"
      ]
    },
    {
      "cell_type": "markdown",
      "metadata": {
        "id": "3wo-qXnZkC9H"
      },
      "source": [
        "### Solution"
      ]
    },
    {
      "cell_type": "markdown",
      "metadata": {
        "id": "DQOhdDWqAgQ7"
      },
      "source": [
        "The time and space complexity for this function are the number of computational operations and memory allocations required, respectively. These can be separated into two categories: outside and within the `while` loop. All single operations and allocations outside and within the `while` loop are $O(1)$. Therefore, the big-O time and space complexities for this function are the number of iterations of the `while` loop.\n",
        "\n",
        "First, let's `print` at the number of iterations for different values of `n`. We do this by adding a few lines to the function."
      ]
    },
    {
      "cell_type": "code",
      "execution_count": null,
      "metadata": {
        "id": "mFncrRP5NEaR"
      },
      "outputs": [],
      "source": [
        "def powers_of_two_below(n):\n",
        "  \"\"\"Prints integer powers of two below the input n.\"\"\"\n",
        "  output = []\n",
        "\n",
        "  j = 2**0\n",
        "  n_iters = 0\n",
        "  while j \u003c n:\n",
        "    output.append(j)\n",
        "    j *= 2\n",
        "    n_iters += 1\n",
        "\n",
        "  print('Input: %d\\nIterations: %d' % (n, n_iters))\n",
        "  return output"
      ]
    },
    {
      "cell_type": "code",
      "execution_count": null,
      "metadata": {
        "id": "9_m33nasNXQs"
      },
      "outputs": [],
      "source": [
        "for n in range(1, 20):\n",
        "  print(powers_of_two_below(n))"
      ]
    },
    {
      "cell_type": "markdown",
      "metadata": {
        "id": "a4kaOqTXOAUx"
      },
      "source": [
        "The number of iterations increases by 1 whenever $n = 2^k+1$ for various values of $k$. More specifically, `n_iters` increases for `n = 2`, `n = 3`, `n = 5`, `n = 9`, `n = 17`. This can also be seen just from the code, since the `while` statement needs to be executed one more time whenever `n` becomes a higher power of 2.\n",
        "\n",
        "Let $I$ be the number of iterations, and $n$ be the input. Since $n$ has to double for $I$ to increase by 1 we have\n",
        "\n",
        "\\begin{align*}\n",
        "n \u0026\\approx 2^I \\\\\n",
        "I \u0026\\approx \\log_2(n). \\\\\n",
        "\\end{align*}\n",
        "\n",
        "Note that the equality is approximate; when $n$ is not an integer power of 2 (since $I$ is always an integer), true equality does not hold. More accurately, we can capture this as\n",
        "\n",
        "\\begin{align*}\n",
        "n \u0026= 2^{\\textrm{floor}(I)} \\\\\n",
        "\\log_2(n) \u0026= \\textrm{floor}(I) \\\\\n",
        "I \u0026= \\textrm{ceil}(\\log_2(n)), \\\\\n",
        "\\end{align*}\n",
        "\n",
        "where \"floor\" indicates the highest integer less than or equal to, and \"ceil\" indicates the lowest integer greater than or equal to. But as usual in big-O analysis, these approximations don't matter. The number of iterations is $O(\\log_2(n))$, therefore the time and space complexities are both $O(\\log_2(n))$.\n",
        "\n"
      ]
    }
  ],
  "metadata": {
    "colab": {
      "collapsed_sections": [
        "IwzyruEhM5vN",
        "skqfg_Q_NO7k",
        "8_6NzLc28jmN",
        "shxgSpeEdbnb",
        "-psOcv7XXhS9",
        "iwrN4wADPI4F",
        "6JUSpv47ToPI",
        "SnN7Ohjde9lY",
        "s7vTuTS4wCjf",
        "3wo-qXnZkC9H"
      ],
      "name": "calculating_complexity.ipynb",
      "private_outputs": true,
      "provenance": [ ]
    },
    "kernelspec": {
      "display_name": "Python 3",
      "name": "python3"
    }
  },
  "nbformat": 4,
  "nbformat_minor": 0
}
