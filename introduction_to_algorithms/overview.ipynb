{
  "cells": [
    {
      "cell_type": "markdown",
      "metadata": {
        "id": "aPukXT6cQL6l"
      },
      "source": [
        "# Introduction To Algorithms"
      ]
    },
    {
      "cell_type": "markdown",
      "metadata": {
        "id": "enOxEpehxPww"
      },
      "source": [
        "## Lesson Overview"
      ]
    },
    {
      "cell_type": "markdown",
      "metadata": {
        "id": "1gHBwKoeQNdF"
      },
      "source": [
        "\u003e An **algorithm** is a sequence of well-defined processes. In the context of computer science, each single process should be executable by a computer."
      ]
    },
    {
      "cell_type": "markdown",
      "metadata": {
        "id": "62D-fqitxVZ-"
      },
      "source": [
        "An algorithm can be thought of like a cooking recipe or a gym workout, but for a computer. These are all processes that have step-by-step instructions.\n",
        "\n",
        "- An algorithm may have inputs (as a cooking recipe has ingredients).\n",
        "- An algorithm does not need to have inputs (as a gym workout may include weights but may just involve running and body weight).\n",
        "- An algorithm may have outputs (as a cooking recipe produces food).\n",
        "- An algorithm does not need to have outputs (as a gym workout does not have instantly visible results), but the processes are usually recorded (as a gym workout can be tracked)."
      ]
    },
    {
      "cell_type": "markdown",
      "metadata": {
        "id": "So0VtgDXxnNn"
      },
      "source": [
        "### Example of an algorithm"
      ]
    },
    {
      "cell_type": "markdown",
      "metadata": {
        "id": "REzBfKRYxa9Z"
      },
      "source": [
        "In a previous lesson, we introduced a function that returns whether or not a positive integer is prime, by checking whether it has any divisors. (Remember a prime number is a positive integer that has no divisors except 1 and itself.)"
      ]
    },
    {
      "cell_type": "markdown",
      "metadata": {
        "id": "eUhS1ov6xrES"
      },
      "source": [
        "```python\n",
        "def is_prime(n):\n",
        "  \"\"\"Returns True if n is a prime number.\"\"\"\n",
        "  if not isinstance(n, int) or n \u003c 1:\n",
        "    raise ValueError(\"Input must be a positive integer.\")\n",
        "\n",
        "  if n == 1:\n",
        "    return False\n",
        "  \n",
        "  for i in range(2, n // 2 + 1):\n",
        "    if n % i == 0:\n",
        "      return False\n",
        "  \n",
        "  return True\n",
        "```\n",
        "\n",
        "The function contains an algorithm that checks whether an input `n` is a prime number. The algorithm can be described as:\n",
        "\n",
        "1. Check that `n` is a positive integer. If not, raise an error, and exit the algorithm.\n",
        "1. If `n` is 1, return `False` and exit the algorithm.\n",
        "1. Iterate through integers between 2 and `n // 2` inclusive. If the remainder of `n` divided by *any* of these integers is zero, return `False` and exit the algorithm.\n",
        "1. Return `True` and exit and algorithm."
      ]
    },
    {
      "cell_type": "markdown",
      "metadata": {
        "id": "1DBJoA1xxxRp"
      },
      "source": [
        "---"
      ]
    },
    {
      "cell_type": "markdown",
      "metadata": {
        "id": "ABX9H_hwxx6q"
      },
      "source": [
        "An algorithm is not defined by *what* it does, but by *how* it does it. The previous algorithm is an iterative algorithm to determine whether a number is prime. Below is a recursive function that does the same thing.\n",
        "\n",
        "```python\n",
        "def is_prime(n, i=2):\n",
        "  \"\"\"Returns True if n is a prime number.\"\"\"\n",
        "  if not isinstance(n, int) or n \u003c 1:\n",
        "    raise ValueError(\"Input must be a positive integer.\")\n",
        "  \n",
        "  if n == 1:\n",
        "    return False\n",
        "\n",
        "  if 2 * i \u003e n:\n",
        "    return True\n",
        "\n",
        "  if n % i == 0:\n",
        "    return False\n",
        "  else:\n",
        "    return is_prime(n, i + 1)\n",
        "```\n",
        "\n",
        "This algorithm has exactly the same input and output as the iterative algorithm, however it is not the same algorithm."
      ]
    },
    {
      "cell_type": "markdown",
      "metadata": {
        "id": "v1IjMubCx8rE"
      },
      "source": [
        "### Inputs and outputs"
      ]
    },
    {
      "cell_type": "markdown",
      "metadata": {
        "id": "BMoUDlqlx9ti"
      },
      "source": [
        "The example algorithm that checks whether a number is prime has inputs (a positive integer) and outputs (a boolean indicating whether the input is prime). In general, algorithms do not need to have an input and output."
      ]
    },
    {
      "cell_type": "markdown",
      "metadata": {
        "id": "AriLiPcJx_vg"
      },
      "source": [
        "The following code is also an algorithm.\n",
        "\n",
        "```python\n",
        "print('Hello.')\n",
        "print('World.')\n",
        "print('Over.')\n",
        "```\n",
        "\n",
        "Almost any code that you write that has a purpose is an algorithm. The following lessons are an introduction to algorithms, how to write, interpret, and analyze them."
      ]
    }
  ],
  "metadata": {
    "colab": {
      "collapsed_sections": [],
      "name": "introduction_to_algorithms_overview.ipynb",
      "private_outputs": true,
      "provenance": [ ]
    },
    "kernelspec": {
      "display_name": "Python 3",
      "name": "python3"
    }
  },
  "nbformat": 4,
  "nbformat_minor": 0
}
