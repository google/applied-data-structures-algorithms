{
  "cells": [
    {
      "cell_type": "markdown",
      "metadata": {
        "id": "hhH9kg8EkZaF"
      },
      "source": [
        "# Numerical Algorithms"
      ]
    },
    {
      "cell_type": "markdown",
      "metadata": {
        "id": "U0fIePdTleQr"
      },
      "source": [
        "## Lesson Overview"
      ]
    },
    {
      "cell_type": "markdown",
      "metadata": {
        "id": "CjGE8GBwlgFk"
      },
      "source": [
        "Most of the algorithms you will encounter in this course revolve around data structures. You have already seen a few, such as calculating the minimum, maximum, mean, and mode of an array. There is, however, an entire field within mathematics and computer science called [numerical algorithms](https://en.wikipedia.org/wiki/Numerical_analysis), devoted to solving mathematical problems with numerical, rather than symbolic, solutions."
      ]
    },
    {
      "cell_type": "markdown",
      "metadata": {
        "id": "a4CVZi3dX_Gt"
      },
      "source": [
        "As an illustrative example, consider the following set of linear equations, where $x$ and $y$ are non-negative integers. We have\n",
        "\n",
        "\\begin{align*}\n",
        "\u0026y = 2x + 1 \\\\\n",
        "\u00263x - y = 2. \\\\\n",
        "\\end{align*}"
      ]
    },
    {
      "cell_type": "markdown",
      "metadata": {
        "id": "-hrSMg_icxsx"
      },
      "source": [
        "### Solving linear equations symbolically"
      ]
    },
    {
      "cell_type": "markdown",
      "metadata": {
        "id": "oTujIhRfc0uu"
      },
      "source": [
        "A symbolic solution could employ one of a few techniques, such as substitution and/or elimination. (For a refresher on solving a system of linear equations, see [here](https://www.khanacademy.org/math/algebra-basics/alg-basics-systems-of-equations).)"
      ]
    },
    {
      "cell_type": "markdown",
      "metadata": {
        "id": "z3Xa4N38dOJj"
      },
      "source": [
        "The simultaneous equations to solve are\n",
        "\n",
        "\\begin{align*}\n",
        "(1) \\hspace{0.5cm} \u0026y = 2x + 1 \\\\\n",
        "(2) \\hspace{0.5cm} \u00263x - y = 2. \\\\\n",
        "\\end{align*}\n",
        "\n",
        "Substituting equation (1) into equation (2) gives\n",
        "\n",
        "\\begin{align*}\n",
        "3x - (2x + 1) = x-1 = 2.\n",
        "\\end{align*}\n",
        "\n",
        "Therefore, \n",
        "\n",
        "\\begin{align*}\n",
        "x \u0026= 3. \n",
        "\\end{align*}\n",
        "\n",
        "Then, substituting that value of $x$ back into equation (1) yields\n",
        "\n",
        "\\begin{align*}\n",
        "y \u0026= 2(3) + 1 = 7. \\\\\n",
        "\\end{align*}\n",
        "\n",
        "Therefore, this system is solved by $(x,y) = (3, 7)$."
      ]
    },
    {
      "cell_type": "markdown",
      "metadata": {
        "id": "UG_OUr4vdrkO"
      },
      "source": [
        "### Solving linear equations numerically"
      ]
    },
    {
      "cell_type": "markdown",
      "metadata": {
        "id": "toNBhYKrX6Xc"
      },
      "source": [
        "A numerical solution doesn't use any symbols or algebra. Instead, it tries and retries solutions until it gets the right answer, or close enough to the right answer."
      ]
    },
    {
      "cell_type": "markdown",
      "metadata": {
        "id": "udl33rJXdu1U"
      },
      "source": [
        "For example, a possible numerical solution to this set of linear equations is to simply try different $(x, y)$ pairs until it hits a solution that works."
      ]
    },
    {
      "cell_type": "code",
      "execution_count": null,
      "metadata": {
        "id": "C5niFzhdqkl1"
      },
      "outputs": [],
      "source": [
        "def numerical_solution(n):\n",
        "  \"\"\"Return the (x, y) solution to the following equations, for x, y \u003c n.\n",
        "  \n",
        "  y = 2x + 1\n",
        "  3x - y = 2\n",
        "  \"\"\"\n",
        "  for x in range(n):\n",
        "    for y in range(n):\n",
        "      if (y == 2*x + 1) and (3*x - y == 2):\n",
        "        return x, y\n",
        "\n",
        "  raise ValueError('No solution found in this range. Try a larger value of n.')"
      ]
    },
    {
      "cell_type": "code",
      "execution_count": null,
      "metadata": {
        "id": "HfC6byXJtxmz"
      },
      "outputs": [],
      "source": [
        "numerical_solution(5)"
      ]
    },
    {
      "cell_type": "code",
      "execution_count": null,
      "metadata": {
        "id": "vUjtrPezuASp"
      },
      "outputs": [],
      "source": [
        "numerical_solution(10)"
      ]
    },
    {
      "cell_type": "markdown",
      "metadata": {
        "id": "Qw0ufvfVvCbA"
      },
      "source": [
        "This numerical solution relies on knowing that $x$ and $y$ are non-negative integers. This solution becomes a lot more complicated if $x$ and $y$ are real-valued (encoded as `float`). You might notice that the function `numerical_solution` only tries $(x, y)$ solutions up where $x, y \u003c n$, and raises a `ValueError` if no solution is found in this range.\n",
        "\n",
        "This numerical solution is a [brute force approach](https://en.wikipedia.org/wiki/Brute-force_search) using [trial and error](https://en.wikipedia.org/wiki/Trial_and_error). More sophisticated numerical algorithms don't just try all possible values, but try to move towards values that are closer to the solution."
      ]
    },
    {
      "cell_type": "markdown",
      "metadata": {
        "id": "5i01dXF5dbWK"
      },
      "source": [
        "### Key terminology"
      ]
    },
    {
      "cell_type": "markdown",
      "metadata": {
        "id": "FXOx7WEMeBOD"
      },
      "source": [
        "The following terms are used to define and describe numerical algorithms."
      ]
    },
    {
      "cell_type": "markdown",
      "metadata": {
        "id": "HBgvZjjGe9v2"
      },
      "source": [
        "\u003e The **starting point** or **initial estimate** of a numerical algorithm is the first estimate that the algoririthm tries as the solution.\n",
        "\n",
        "In the example below, the starting point and initial estimate is $(0, 0)$."
      ]
    },
    {
      "cell_type": "code",
      "execution_count": null,
      "metadata": {
        "id": "Y2nZsFZmfP5Q"
      },
      "outputs": [],
      "source": [
        "def numerical_solution(n):\n",
        "  \"\"\"Return the (x, y) solution to the following equations, for x, y \u003c n.\n",
        "  \n",
        "  y = 2x + 1\n",
        "  3x - y = 2\n",
        "  \"\"\"\n",
        "  for x in range(n):\n",
        "    for y in range(n):\n",
        "      if (y == 2*x + 1) and (3*x - y == 2):\n",
        "        return x, y\n",
        "\n",
        "  raise ValueError('No solution found in this range. Try a larger value of n.')"
      ]
    },
    {
      "cell_type": "markdown",
      "metadata": {
        "id": "leeIUhxlfMKw"
      },
      "source": [
        "---"
      ]
    },
    {
      "cell_type": "markdown",
      "metadata": {
        "id": "rQ4_IPdZfCtJ"
      },
      "source": [
        "\u003e There is generally a one-to-one correspondance between an **iteration** and an **estimate** in a numerical algorithm: one iteration generates one estimate.\n",
        "\n",
        "Each iteration in the example below creates one $(x, y)$ pair estimate."
      ]
    },
    {
      "cell_type": "code",
      "execution_count": null,
      "metadata": {
        "id": "5h9-t480fQYs"
      },
      "outputs": [],
      "source": [
        "def numerical_solution(n):\n",
        "  \"\"\"Return the (x, y) solution to the following equations, for x, y \u003c n.\n",
        "  \n",
        "  y = 2x + 1\n",
        "  3x - y = 2\n",
        "  \"\"\"\n",
        "  for x in range(n):\n",
        "    for y in range(n):\n",
        "      if (y == 2*x + 1) and (3*x - y == 2):\n",
        "        return x, y\n",
        "\n",
        "  raise ValueError('No solution found in this range. Try a larger value of n.')"
      ]
    },
    {
      "cell_type": "markdown",
      "metadata": {
        "id": "oTp60c_2fMd5"
      },
      "source": [
        "---"
      ]
    },
    {
      "cell_type": "markdown",
      "metadata": {
        "id": "IaP2LxMufFCl"
      },
      "source": [
        "\u003e The **step size** of a numerical algorithm is the distance between consecutive estimates that the algorithm tries. The step size may change during an algorithm's execution.\n",
        "\n",
        "In the example below, the algorithm increments by 1 in either the $x$ or $y$ direction."
      ]
    },
    {
      "cell_type": "code",
      "execution_count": null,
      "metadata": {
        "id": "94EVzm9ifQ6W"
      },
      "outputs": [],
      "source": [
        "def numerical_solution(n):\n",
        "  \"\"\"Return the (x, y) solution to the following equations, for x, y \u003c n.\n",
        "  \n",
        "  y = 2x + 1\n",
        "  3x - y = 2\n",
        "  \"\"\"\n",
        "  for x in range(n):\n",
        "    for y in range(n):\n",
        "      if (y == 2*x + 1) and (3*x - y == 2):\n",
        "        return x, y\n",
        "\n",
        "  raise ValueError('No solution found in this range. Try a larger value of n.')"
      ]
    },
    {
      "cell_type": "markdown",
      "metadata": {
        "id": "UUnvYk68fM6p"
      },
      "source": [
        "---"
      ]
    },
    {
      "cell_type": "markdown",
      "metadata": {
        "id": "lprE4E4LfHWH"
      },
      "source": [
        "\u003e The **precision** (also known as tolerance) of a numerical algorithm is the maximum that the algorithm's final estimate should deviate from the actual solution.\n",
        "\n",
        "Since the example below is looking only for an integer solution, precision is not applicable. However, for a problem that searches for a generic solution, it is generally necessary to set a precision."
      ]
    },
    {
      "cell_type": "code",
      "execution_count": null,
      "metadata": {
        "id": "sp53-QUWfRb9"
      },
      "outputs": [],
      "source": [
        "def numerical_solution(n):\n",
        "  \"\"\"Return the (x, y) solution to the following equations, for x, y \u003c n.\n",
        "  \n",
        "  y = 2x + 1\n",
        "  3x - y = 2\n",
        "  \"\"\"\n",
        "  for x in range(n):\n",
        "    for y in range(n):\n",
        "      if (y == 2*x + 1) and (3*x - y == 2):\n",
        "        return x, y\n",
        "\n",
        "  raise ValueError('No solution found in this range. Try a larger value of n.')"
      ]
    },
    {
      "cell_type": "markdown",
      "metadata": {
        "id": "mU6K1iBOfNWW"
      },
      "source": [
        "---"
      ]
    },
    {
      "cell_type": "markdown",
      "metadata": {
        "id": "vj9dgvSPd_lU"
      },
      "source": [
        "\u003e The **stopping criterion** of a numerical algorithm is the pre-defined condition that must be met for the algorithm to exit.\n",
        "\n",
        "The example below stops either when either an $(x, y)$ pair is found that satisfies the equations of when there are no more $(x, y)$ pairs to try such that $x, y \u003c n$.\n",
        "\n",
        "There are two commonly used stopping criterion:\n",
        "\n",
        "- An **iteration-based stopping criterion** exits the algorithm after a pre-specified number of iterations. This is a measure that the algorithm has been running for long enough.\n",
        "\n",
        "- A **precision-based stopping criterion** exits the algorithm when the difference between consecutive estimates is within a pre-defined precision. This is a measure that the estimates are not changing by much."
      ]
    },
    {
      "cell_type": "code",
      "execution_count": null,
      "metadata": {
        "id": "zy9938RwfSIJ"
      },
      "outputs": [],
      "source": [
        "def numerical_solution(n):\n",
        "  \"\"\"Return the (x, y) solution to the following equations, for x, y \u003c n.\n",
        "  \n",
        "  y = 2x + 1\n",
        "  3x - y = 2\n",
        "  \"\"\"\n",
        "  for x in range(n):\n",
        "    for y in range(n):\n",
        "      if (y == 2*x + 1) and (3*x - y == 2):\n",
        "        return x, y\n",
        "\n",
        "  raise ValueError('No solution found in this range. Try a larger value of n.')"
      ]
    },
    {
      "cell_type": "markdown",
      "metadata": {
        "id": "yRfpbnHZZzqn"
      },
      "source": [
        "## Question 1"
      ]
    },
    {
      "cell_type": "markdown",
      "metadata": {
        "id": "GgtqsPWwZ1o9"
      },
      "source": [
        "Which *one* of the following best defines a numerical algorithm?"
      ]
    },
    {
      "cell_type": "markdown",
      "metadata": {
        "id": "mP941BGAOz2e"
      },
      "source": [
        "**a)** An algorithm that attempts to solve a problem by estimating solutions, with no symbolic analysis\n",
        "\n",
        "**b)** An algorithm that can solve any problem involving numbers\n",
        "\n",
        "**c)** An algorithm that tries all the numbers in order until it hits the right one\n",
        "\n",
        "**d)** An algorithm that randomly tries all the possible solutions until it hits the right one"
      ]
    },
    {
      "cell_type": "markdown",
      "metadata": {
        "id": "txZyIuSSO03F"
      },
      "source": [
        "### Solution"
      ]
    },
    {
      "cell_type": "markdown",
      "metadata": {
        "id": "qtviFH9AO3H6"
      },
      "source": [
        "The correct answer is **a)**. \n",
        "\n",
        "**b)** So far, there is no single type of algorithm that can solve *any* numerical problem.\n",
        "\n",
        "**c)** This is an example of a very rudimentary numerical algorithm, but it is not the only example.\n",
        "\n",
        "**d)** While some numerical algorithms try estimates randomly, most try estimates in an organized fashion such that the estimates move closer to the solution."
      ]
    },
    {
      "cell_type": "markdown",
      "metadata": {
        "id": "nRVU6Y2mW9fF"
      },
      "source": [
        "## Question 2"
      ]
    },
    {
      "cell_type": "markdown",
      "metadata": {
        "id": "jUsF1bF-W_FI"
      },
      "source": [
        "Consider the following numerical algorithm below."
      ]
    },
    {
      "cell_type": "code",
      "execution_count": null,
      "metadata": {
        "id": "LepioNdlZKq4"
      },
      "outputs": [],
      "source": [
        "def numerical_algorithm(f, x0, p, m):\n",
        "  x = x0\n",
        "\n",
        "  for _ in range(m):\n",
        "    if abs(f(x)) \u003e p:\n",
        "      x += 1\n",
        "    else:\n",
        "      print('Solution found within threshold.')\n",
        "      return x\n",
        "    \n",
        "  print('Maximum number of iterations reached, algorithm did not converge.')  "
      ]
    },
    {
      "cell_type": "markdown",
      "metadata": {
        "id": "ppdXEyLFZa7x"
      },
      "source": [
        "Answer the following questions:\n",
        "\n",
        "1. What is the **initial estimate**?\n",
        "1. What is the **step size**?\n",
        "1. What is the **precision**?\n",
        "1. What is the **stopping criterion**?\n",
        "1. What problem is this algorithm trying to solve?"
      ]
    },
    {
      "cell_type": "code",
      "execution_count": null,
      "metadata": {
        "id": "7hvreS7kfDoM"
      },
      "outputs": [],
      "source": [
        "#freetext"
      ]
    },
    {
      "cell_type": "markdown",
      "metadata": {
        "id": "x3QqwnywZ_gc"
      },
      "source": [
        "### Solution"
      ]
    },
    {
      "cell_type": "markdown",
      "metadata": {
        "id": "hJRfiuVuaCGa"
      },
      "source": [
        "1. What is the **initial estimate**?\n",
        "\n",
        "   The initial estimate is `x0`.\n",
        "\n",
        "1. What is the **step size**?\n",
        "\n",
        "   At each iteration `x` is incremented by 1, so the step size is 1. (Note that a fixed step size is not generally used.)\n",
        "\n",
        "1. What is the **precision**?\n",
        "\n",
        "   The algorithm exits and returns `x` when `abs(f(x)) \u003c= p`, so the precision is `p`.\n",
        "\n",
        "1. What is the **stopping criterion**?\n",
        "\n",
        "   This algorithm uses a precision-based and an iteration-based stopping criterion. The algorithm exits either when `f(x) \u003c= p` (precision-based) or after `m` iterations (iteration-based).\n",
        "\n",
        "1. What problem is this algorithm trying to solve?\n",
        "\n",
        "   The algorithm exits when `f(x)` is within some precision `p` of 0, so this algorithm is solving the equation $f(x) = 0$."
      ]
    },
    {
      "cell_type": "markdown",
      "metadata": {
        "id": "bBtB0dDlY3Vj"
      },
      "source": [
        "## Question 3"
      ]
    },
    {
      "cell_type": "markdown",
      "metadata": {
        "id": "h31T1okf4j7I"
      },
      "source": [
        "One of the first algorithms to numerically estimate the square root of a positive number was [Heron's Method](https://en.wikipedia.org/wiki/Methods_of_computing_square_roots#Babylonian_method). (This is actually a special case of [Newton's Method](https://en.wikipedia.org/wiki/Newton%27s_method#Square_root) for finding the zeroes of a function.)"
      ]
    },
    {
      "cell_type": "markdown",
      "metadata": {
        "id": "MgOGg3UqfHS-"
      },
      "source": [
        "To find the square root of a number $x$, the method starts with some estimate of $\\sqrt{x}$, call it $a_0$, and sequentially improves this estimate, creating a sequence $a_0, a_1, a_2, a_3$ and so on. The idea is that as $n \\to \\infty$, $a_n \\to \\sqrt{x}$. Sequential estimates in the sequence are generated as follows:\n",
        "\n",
        "$$a_{n+1} = a_n + \\frac{x - a_n^2}{a_n}$$\n",
        "\n",
        "Implement this algorithm as a function that stops iterating at a given maximum number of iterations."
      ]
    },
    {
      "cell_type": "code",
      "execution_count": null,
      "metadata": {
        "id": "YL0Jme62j6mo"
      },
      "outputs": [],
      "source": [
        "def square_root(x, iters, a0):\n",
        "  \"\"\"Estimates the square root of a number.\n",
        "\n",
        "  Args:\n",
        "    x: The number to estimate the square root of.\n",
        "    iters: The number of iterations the algorithm performs before stopping.\n",
        "    a0: The initial estimate for sqrt(x).\n",
        "\n",
        "  Returns:\n",
        "    An estimate for sqrt(x).\n",
        "  \n",
        "  Raises:\n",
        "    ValueError: If x is non-positive.\n",
        "  \"\"\"\n",
        "  if x \u003c= 0:\n",
        "    raise ValueError('Input must be a positive number.')\n",
        "\n",
        "  # TODO(you): Implement\n",
        "  print('This function has not been implemented.')"
      ]
    },
    {
      "cell_type": "markdown",
      "metadata": {
        "id": "YzOXe0-hZXu7"
      },
      "source": [
        "### Unit Tests\n",
        "\n",
        "Run the following cell to check your answer against some unit tests."
      ]
    },
    {
      "cell_type": "code",
      "execution_count": null,
      "metadata": {
        "id": "wYfwJtGli60y"
      },
      "outputs": [],
      "source": [
        "print(round(square_root(2, 2, 2), 4))\n",
        "# Should print: 1.4167\n",
        "\n",
        "print(round(square_root(2, 10, 2), 4))\n",
        "# Should print: 1.4142\n",
        "\n",
        "print(round(square_root(2, 10, 100), 4))\n",
        "# Should print: 1.4142"
      ]
    },
    {
      "cell_type": "markdown",
      "metadata": {
        "id": "cid0RA1IkbL3"
      },
      "source": [
        "### Solution"
      ]
    },
    {
      "cell_type": "markdown",
      "metadata": {
        "id": "zVqOO83Ukczx"
      },
      "source": [
        "This implementation uses `for _ in range(iters)`, but you could equally use a `while` loop and increment a counter until it reaches `iters`."
      ]
    },
    {
      "cell_type": "code",
      "execution_count": null,
      "metadata": {
        "id": "9MOCFlJKe8Bs"
      },
      "outputs": [],
      "source": [
        "def square_root(x, iters, a0):\n",
        "  \"\"\"Estimates the square root of a number.\n",
        "\n",
        "  Args:\n",
        "    x: The number to estimate the square root of.\n",
        "    iters: The number of iterations the algorithm performs.\n",
        "    a0: The initial estimate for sqrt(x).\n",
        "\n",
        "  Returns:\n",
        "    An estimate for sqrt(x).\n",
        "  \n",
        "  Raises:\n",
        "    ValueError: If x is non-positive.\n",
        "  \"\"\"\n",
        "  if x \u003c= 0:\n",
        "    raise ValueError('Input must be a positive number.')\n",
        "\n",
        "  a = a0\n",
        "  for _ in range(iters):\n",
        "    a = a + (x - a**2) / (2*a)\n",
        "  \n",
        "  return a"
      ]
    },
    {
      "cell_type": "markdown",
      "metadata": {
        "id": "FqNIbXzlZB1O"
      },
      "source": [
        "## Question 4"
      ]
    },
    {
      "cell_type": "markdown",
      "metadata": {
        "id": "4sRADVC4ldlk"
      },
      "source": [
        "Implement the same algorithm as the previous question (estimating the square root of a number) except that instead of stopping after a specific number of iterations, it should stop when the difference between successive estimates is below some given precision."
      ]
    },
    {
      "cell_type": "markdown",
      "metadata": {
        "id": "nSAclmKkfSA5"
      },
      "source": [
        "For example, `square_root(2, 0.001, 2)` estimates $\\sqrt{2}$ with an initial estimate of 2 and until successive estimates are within 0.001."
      ]
    },
    {
      "cell_type": "code",
      "execution_count": null,
      "metadata": {
        "id": "rh7x5HUimNzT"
      },
      "outputs": [],
      "source": [
        "def square_root(x, precision, a0):\n",
        "  \"\"\"Estimates the square root of a number.\n",
        "\n",
        "  Args:\n",
        "    x: The number to estimate the square root of.\n",
        "    precision: The precision such that if the difference between successive\n",
        "      estimates is below this, the algorithm stops.`\n",
        "    a0: The initial estimate for sqrt(x).\n",
        "\n",
        "  Returns:\n",
        "    An estimate for sqrt(x).\n",
        "  \n",
        "  Raises:\n",
        "    ValueError: If x is non-positive.\n",
        "  \"\"\"\n",
        "  if x \u003c= 0:\n",
        "    raise ValueError('Input must be a positive number.')\n",
        "\n",
        "  # TODO(you): Implement\n",
        "  print('This function has not been implemented.')"
      ]
    },
    {
      "cell_type": "markdown",
      "metadata": {
        "id": "TD5K6yOdaC3T"
      },
      "source": [
        "### Unit Tests\n",
        "\n",
        "Run the following cell to check your answer against some unit tests."
      ]
    },
    {
      "cell_type": "code",
      "execution_count": null,
      "metadata": {
        "id": "WKe6qegtnje5"
      },
      "outputs": [],
      "source": [
        "print(square_root(2, 1, 2))\n",
        "# Should print: 1.5000\n",
        "\n",
        "print(round(square_root(2, 0.1, 2), 4))\n",
        "# Should print: 1.4167\n",
        "\n",
        "print(round(square_root(2, 0.0000001, 2), 4))\n",
        "# Should print: 1.4142"
      ]
    },
    {
      "cell_type": "markdown",
      "metadata": {
        "id": "bDw2CeezZJFt"
      },
      "source": [
        "### Solution"
      ]
    },
    {
      "cell_type": "markdown",
      "metadata": {
        "id": "vRZLGJOdmtcJ"
      },
      "source": [
        "This solution uses a `while True` loop with a `break` when the difference is less than the precision."
      ]
    },
    {
      "cell_type": "code",
      "execution_count": null,
      "metadata": {
        "id": "bccdv8Itmt2o"
      },
      "outputs": [],
      "source": [
        "def square_root(x, precision, a0):\n",
        "  \"\"\"Estimates the square root of a number.\n",
        "\n",
        "  Args:\n",
        "    x: The number to estimate the square root of.\n",
        "    precision: The precision such that if the difference between successive\n",
        "      estimates is below this, the algorithm stops.`\n",
        "    a0: The initial estimate for sqrt(x).\n",
        "\n",
        "  Returns:\n",
        "    An estimate for sqrt(x).\n",
        "  \n",
        "  Raises:\n",
        "    ValueError: If x is non-positive.\n",
        "  \"\"\"\n",
        "  if x \u003c= 0:\n",
        "    raise ValueError('Input must be a positive number.')\n",
        "\n",
        "  a = a0\n",
        "  while True:\n",
        "    new_a = a + (x - a**2) / (2*a)\n",
        "    if abs(new_a - a) \u003c precision:\n",
        "      break\n",
        "    a = new_a\n",
        "\n",
        "  return new_a"
      ]
    },
    {
      "cell_type": "markdown",
      "metadata": {
        "id": "X7btNcX3ZDj1"
      },
      "source": [
        "## Question 5"
      ]
    },
    {
      "cell_type": "markdown",
      "metadata": {
        "id": "ns99Nj6KYjxZ"
      },
      "source": [
        "What is the main advantage and disadvantage of using the following two stopping criterion?\n",
        "\n",
        "- A *precision-based stopping criterion*, which exits the algorithm when consecutive estimates are within a given threshold\n",
        "- An *iteration-based criterion*, which exits the algorithm when a given number of iterations has been executed"
      ]
    },
    {
      "cell_type": "code",
      "execution_count": null,
      "metadata": {
        "id": "g3QmROVfffUW"
      },
      "outputs": [],
      "source": [
        "#freetext"
      ]
    },
    {
      "cell_type": "markdown",
      "metadata": {
        "id": "hyFPIY3iZWPN"
      },
      "source": [
        "### Solution"
      ]
    },
    {
      "cell_type": "markdown",
      "metadata": {
        "id": "KCu5oPC8oIk7"
      },
      "source": [
        "The advantage of using a precision-based stopping criterion instead of a maximum number of iterations is that it allows you to specify how exactly you want the answer. When using a maximum number of iterations, you can't be sure how close your answer is to the true answer.\n",
        "\n",
        "The disavantage of using a precision-based stopping criterion instead of a maximum number of iterations is that you have no idea how long the function will take to execute. It could be a few seconds, it could be a few hours!"
      ]
    },
    {
      "cell_type": "markdown",
      "metadata": {
        "id": "x8CZ2A3SZb59"
      },
      "source": [
        "## Question 6"
      ]
    },
    {
      "cell_type": "markdown",
      "metadata": {
        "id": "2oiy0NSfZcwN"
      },
      "source": [
        "Most advanced numerical algorithms actually have two stopping criterion: both a precision and a maximum number of iterations. These functions stop executing when *either* the difference between successive estimates is less than some precision *or* when the maximum number of iterations is reached, whichever comes first."
      ]
    },
    {
      "cell_type": "markdown",
      "metadata": {
        "id": "fJeeeHKmfhr3"
      },
      "source": [
        "Combine your work from previous exercises to implement a `square_root` function that uses both a precision-based and an iteration-based stopping criteria. It is always a good idea to print a message to the user if the maximum number of iterations is reached and the algorithm did not converge, since the returned output may not be a good estimate for the true answer."
      ]
    },
    {
      "cell_type": "code",
      "execution_count": null,
      "metadata": {
        "id": "fCdoq_Z2peZ8"
      },
      "outputs": [],
      "source": [
        "def square_root(x, precision, max_iters, a0):\n",
        "  \"\"\"Estimates the square root of a number.\n",
        "\n",
        "  Args:\n",
        "    x: The number to estimate the square root of.\n",
        "    precision: The precision such that if the difference between successive\n",
        "      estimates is below this, the algorithm stops.\n",
        "    max_iters: The maximum number of iterations the algorithm can perform before\n",
        "      stopping.\n",
        "    a0: The initial estimate for sqrt(x).\n",
        "\n",
        "  Returns:\n",
        "    An estimate for sqrt(x).\n",
        "  \n",
        "  Raises:\n",
        "    ValueError: If x is non-positive.\n",
        "  \"\"\"\n",
        "  if x \u003c= 0:\n",
        "    raise ValueError('Input must be a positive number.')\n",
        "\n",
        "  # TODO(you): Implement\n",
        "  print('This function has not been implemented.')"
      ]
    },
    {
      "cell_type": "markdown",
      "metadata": {
        "id": "dDM_TVg9aUR4"
      },
      "source": [
        "### Unit Tests\n",
        "\n",
        "Run the following cell to check your answer against some unit tests."
      ]
    },
    {
      "cell_type": "code",
      "execution_count": null,
      "metadata": {
        "id": "S0Jxj3VQp9_X"
      },
      "outputs": [],
      "source": [
        "print(square_root(2, 0.01, 1, 2))\n",
        "# Should print: 1.5\n",
        "\n",
        "print(round(square_root(2, 0.01, 10, 2), 4))\n",
        "# Should print: 1.4167\n",
        "\n",
        "print(square_root(2, 0.1, 100, 2))\n",
        "# Should print: 1.5\n",
        "\n",
        "print(round(square_root(2, 0.0000001, 100, 2), 4))\n",
        "# Should print: 1.4142"
      ]
    },
    {
      "cell_type": "markdown",
      "metadata": {
        "id": "HytrLTc1ZKF_"
      },
      "source": [
        "### Solution"
      ]
    },
    {
      "cell_type": "markdown",
      "metadata": {
        "id": "D1b9Kovxpoy0"
      },
      "source": [
        "This can be done by replacing `while True` with `for _ in range(max_iters)`. In general, it is not good practice to write `while True` loops anyway, since doing so can lead to infinite loops."
      ]
    },
    {
      "cell_type": "code",
      "execution_count": null,
      "metadata": {
        "id": "tK_SCmkrppcs"
      },
      "outputs": [],
      "source": [
        "import logging\n",
        "\n",
        "\n",
        "def square_root(x, precision, max_iters, a0):\n",
        "  \"\"\"Estimates the square root of a number.\n",
        "\n",
        "  Args:\n",
        "    x: The number to estimate the square root of.\n",
        "    precision: The precision such that if the difference between successive\n",
        "      estimates is below this, the algorithm stops.\n",
        "    max_iters: The maximum number of iterations the algorithm can perform before\n",
        "      stopping.\n",
        "    a0: The initial estimate for sqrt(x).\n",
        "\n",
        "  Returns:\n",
        "    An estimate for sqrt(x).\n",
        "  \n",
        "  Raises:\n",
        "    ValueError: If x is non-positive.\n",
        "  \"\"\"\n",
        "  if x \u003c= 0:\n",
        "    raise ValueError('Input must be a positive number.')\n",
        "\n",
        "  a = a0\n",
        "  # This check is just a formality to ensure that the for loop is entered at\n",
        "  # least once.\n",
        "  if max_iters \u003c 1:\n",
        "    return a\n",
        "\n",
        "  for i in range(max_iters):\n",
        "    new_a = a + (x - a**2) / (2*a)\n",
        "    if abs(new_a - a) \u003c precision:\n",
        "      break\n",
        "    a = new_a\n",
        "\n",
        "  # If the algorithm did not converge before max_iters is hit, log it.\n",
        "  if i == max_iters - 1:\n",
        "    logging.info(\n",
        "        'Maximum number of iterations reached, algorithm did not converge.')\n",
        "  return a"
      ]
    },
    {
      "cell_type": "markdown",
      "metadata": {
        "id": "o0eFbVu9btnO"
      },
      "source": [
        "## Question 7"
      ]
    },
    {
      "cell_type": "markdown",
      "metadata": {
        "id": "xtk1UmwI8j_S"
      },
      "source": [
        "The [greatest common divisor (GCD)](https://en.wikipedia.org/wiki/Greatest_common_divisor) of two positive integers *a* and *b* is the largest positive integer *n* such that *n* is a factor of *a* and *b*."
      ]
    },
    {
      "cell_type": "markdown",
      "metadata": {
        "id": "5L26PyzUfzFg"
      },
      "source": [
        "For example, $gcd(24, 16) = 8$, as 8 is the largest integer that goes into both 24 and 16. Note that in this example, 4, 2, and 1 are also common divisors of 24 and 16, but not the *greatest* common divisor.\n",
        "\n",
        "The most well-known algorithm to calculate the GCD of two positive integers is the [Euclidean Algorithm](https://en.wikipedia.org/wiki/Euclidean_algorithm). Assume that $a \\geq b$; if $a \u003c b$, then swap $a$ and $b$. The algorithm finds successive pairs of integer-valued quotients $q_i$ and remainders $r_i$ to divide, such that:\n",
        "\n",
        "\\begin{align*}\n",
        "a \u0026= q_0 b + r_0 \\\\\n",
        "b \u0026= q_1 r_0 + r_1 \\\\\n",
        "r_0 \u0026= q_2 r_1 + r_2 \\\\\n",
        "r_1 \u0026= q_3 r_2 + r_3 \\\\\n",
        "\u0026\\hspace{0.2cm} \\vdots \\\\\n",
        "r_n \u0026= q_{n+2} r_{n+1} + r_{n+2} \\\\\n",
        "\u0026 \\hspace{0.2cm} \\vdots \\\\\n",
        "\\end{align*}\n",
        "\n",
        "This is equivalent to repeatedly dividing the sequence of remainders $r_n$. Notice that finding $q_{n+2}$ and $r_{n+2}$ such that $r_n = q_{n+2} r_{n+1} + r_{n+2}$ is equivalent to finding the quotient and remainder of the division $r_n \\ / \\ r_{n+1}$. Therefore, this is equivalent to the following set of steps.\n",
        "\n",
        "- Find the quotient $q_0$ and remainder $r_0$ of $a \\ / \\ b$.\n",
        "- Find the quotient $q_1$ and remainder $r_1$ of $b \\ / \\ r_0$.\n",
        "- Find the quotient $q_2$ and remainder $r_2$ of $r_0 \\ / \\ r_1$.\n",
        "- Find the quotient $q_3$ and remainder $r_3$ of $r_1 \\ / \\ r_2$.\n",
        "- ...\n",
        "- Find the quotient $q_n$ and remainder $r_n$ of $r_{n-2} \\ / \\ r_{n-1}$.\n",
        "- ...\n",
        "\n",
        "Since the remainder of a division is necessarily smaller than the divisor, the remainders $r_n$ decrease at each iteration. Since the remainders must always be positive, this implies that that for some $N$, $r_N = 0$, at which point the algorithm stops. The last remainder that is greater than zero, $r_{N-1}$, is the GCD of $a$ and $b$.\n",
        "\n",
        "Without writing any code, use the Euclidean algorithm to calculate the GCD of 105 and 63."
      ]
    },
    {
      "cell_type": "code",
      "execution_count": null,
      "metadata": {
        "id": "pWGN4_Tvf3zD"
      },
      "outputs": [],
      "source": [
        "#freetext"
      ]
    },
    {
      "cell_type": "markdown",
      "metadata": {
        "id": "JAP0yBsGj4G9"
      },
      "source": [
        "### Solution"
      ]
    },
    {
      "cell_type": "markdown",
      "metadata": {
        "id": "89UrBxhVj6LK"
      },
      "source": [
        "Let $a = 105$ and $b = 63$. Remember that you should always choose $a$ and $b$ such that $a \u003e b$.\n",
        "\n",
        "The first step is to find the quotient $q_0$ and remainder $r_0$ of $a/b$.\n",
        "\n",
        "$$105 \\ / \\ 63 = 1 \\textrm{ remainder } 42$$\n",
        "\n",
        "Therefore $q_0 = 1$ and $r_0 = 42$. Now, we find the quotient $q_1$ and remainder $r_1$ of $b$ and $r_0$.\n",
        "\n",
        "$$63 \\ / \\ 42 = 1 \\textrm{ remainder } 21$$\n",
        "\n",
        "Therefore $q_1 = 1$ and $r_1 = 21$. Now, we find the quotient $q_2$ and remainder $r_2$ of $r_0/r_1$.\n",
        "\n",
        "$$42 \\ / \\ 21 = 2 \\textrm{ remainder } 0$$\n",
        "\n",
        "Now that this remainder is 0, the algorithm is finished. The GCD is the last non-zero remainder, which is 21."
      ]
    },
    {
      "cell_type": "markdown",
      "metadata": {
        "id": "vW2pdTg_bxjh"
      },
      "source": [
        "## Question 8"
      ]
    },
    {
      "cell_type": "markdown",
      "metadata": {
        "id": "9ryR6WOUqTLN"
      },
      "source": [
        "Write a function using recursion to calculate the GCD of two positive integers."
      ]
    },
    {
      "cell_type": "code",
      "execution_count": null,
      "metadata": {
        "id": "KCfvg5AdqXqg"
      },
      "outputs": [],
      "source": [
        "def gcd(a, b):\n",
        "  \"\"\"Calculates the GCD of a and b using the Euclidean Algorithm.\"\"\"\n",
        "  if not (isinstance(a, int) and a \u003e 0 and isinstance(b, int) and b \u003e 0):\n",
        "    raise ValueError('Inputs (%d, %d) are not both positive integers.' % (a, b))\n",
        "\n",
        "  # If a \u003c b, swap a and b.\n",
        "  if a \u003c b:\n",
        "    a, b = b, a\n",
        "\n",
        "  # TODO(you): Implement\n",
        "  print('This function has not been implemented.')"
      ]
    },
    {
      "cell_type": "markdown",
      "metadata": {
        "id": "xahNeLEicWc3"
      },
      "source": [
        "### Unit Tests\n",
        "\n",
        "Run the following cell to check your answer against some unit tests."
      ]
    },
    {
      "cell_type": "code",
      "execution_count": null,
      "metadata": {
        "id": "-pNaRfRhr6n5"
      },
      "outputs": [],
      "source": [
        "print(gcd(105, 63))\n",
        "# Should print: 21"
      ]
    },
    {
      "cell_type": "markdown",
      "metadata": {
        "id": "WVscEfxwb4WP"
      },
      "source": [
        "### Solution"
      ]
    },
    {
      "cell_type": "code",
      "execution_count": null,
      "metadata": {
        "id": "jgNKhZaUrF-5"
      },
      "outputs": [],
      "source": [
        "def gcd(a, b):\n",
        "  \"\"\"Calculates the GCD of a and b using the Euclidean Algorithm.\"\"\"\n",
        "  if not (isinstance(a, int) and a \u003e 0 and isinstance(b, int) and b \u003e 0):\n",
        "    raise ValueError('Inputs (%d, %d) are not both positive integers.' % (a, b))\n",
        "\n",
        "  # If a \u003c b, swap a and b.\n",
        "  if a \u003c b:\n",
        "    a, b = b, a\n",
        "  \n",
        "  r = a % b\n",
        "  if r == 0:\n",
        "    return b\n",
        "\n",
        "  return gcd(b, r)"
      ]
    },
    {
      "cell_type": "markdown",
      "metadata": {
        "id": "lOvO0iyZbzNp"
      },
      "source": [
        "## Question 9"
      ]
    },
    {
      "cell_type": "markdown",
      "metadata": {
        "id": "jqn0H0nTxDg4"
      },
      "source": [
        "Modify your GCD function to also return the number of divisions (iterations) required to calculate the GCD."
      ]
    },
    {
      "cell_type": "code",
      "execution_count": null,
      "metadata": {
        "id": "IPbKZuVsc80O"
      },
      "outputs": [],
      "source": [
        "def gcd(a, b):\n",
        "  \"\"\"Calculates the GCD of a and b using the Euclidean Algorithm.\"\"\"\n",
        "  if not (isinstance(a, int) and a \u003e 0 and isinstance(b, int) and b \u003e 0):\n",
        "    raise ValueError('Inputs (%d, %d) are not both positive integers.' % (a, b))\n",
        "\n",
        "  # TODO(you): Also return the number of iterations required. Return the GCD and\n",
        "  # the number of iterations as a tuple, e.g. return (answer, n_iter).\n",
        "\n",
        "  # If a \u003c b, swap a and b.\n",
        "  if a \u003c b:\n",
        "    a, b = b, a\n",
        "  \n",
        "  r = a % b\n",
        "  if r == 0:\n",
        "    return b\n",
        "\n",
        "  return gcd(b, r)"
      ]
    },
    {
      "cell_type": "markdown",
      "metadata": {
        "id": "Vw3rkVkcc2nb"
      },
      "source": [
        "### Hint"
      ]
    },
    {
      "cell_type": "markdown",
      "metadata": {
        "id": "VxpbY5S5c378"
      },
      "source": [
        "You may want to include the number of divisions as an input to your function."
      ]
    },
    {
      "cell_type": "markdown",
      "metadata": {
        "id": "uiZk-2M3dHR2"
      },
      "source": [
        "### Unit Tests\n",
        "\n",
        "Run the following cell to check your answer against some unit tests."
      ]
    },
    {
      "cell_type": "code",
      "execution_count": null,
      "metadata": {
        "id": "ERv2A_nXxeTm"
      },
      "outputs": [],
      "source": [
        "print(gcd(105, 63))\n",
        "# Should print: (21, 3)"
      ]
    },
    {
      "cell_type": "markdown",
      "metadata": {
        "id": "ZdcGfxuPb5Oh"
      },
      "source": [
        "### Solution"
      ]
    },
    {
      "cell_type": "markdown",
      "metadata": {
        "id": "Cr1cJlmPxFmo"
      },
      "source": [
        "This is quite tricky, but it is a useful trick for counting iterations when using recursion. The `divs` parameter is added to the function signature, but defaults to a value of zero. (This is so that the function caller does should not input a different value.) When each division is performed, `divs` is incremented by 1. When `gcd` is called recursively, the new `divs` value is passed."
      ]
    },
    {
      "cell_type": "code",
      "execution_count": null,
      "metadata": {
        "id": "XfFLHztAxGEr"
      },
      "outputs": [],
      "source": [
        "#persistent\n",
        "def gcd(a, b, divs=0): # Add divs = 0 as an input.\n",
        "  \"\"\"Calculates the GCD of a and b using the Euclidean Algorithm.\"\"\"\n",
        "  if not (isinstance(a, int) and a \u003e 0 and isinstance(b, int) and b \u003e 0):\n",
        "    raise ValueError('Inputs (%d, %d) are not both positive integers.' % (a, b))\n",
        "\n",
        "  # If a \u003c b, swap a and b.\n",
        "  if a \u003c b:\n",
        "    a, b = b, a\n",
        "  \n",
        "  r = a % b\n",
        "  divs += 1 # Increment divs at each iteration.\n",
        "\n",
        "  if r == 0:\n",
        "    return b, divs\n",
        "\n",
        "  return gcd(b, r, divs) # Pass divs recursively."
      ]
    },
    {
      "cell_type": "markdown",
      "metadata": {
        "id": "mDUgHAUpb0sQ"
      },
      "source": [
        "## Question 10"
      ]
    },
    {
      "cell_type": "markdown",
      "metadata": {
        "id": "LOCsSal1wnsL"
      },
      "source": [
        "[Advanced] Plot the number of iterations required to compute the GCD of integers *a* and *b* for values of *a* and *b* between 1 and 100 inclusive."
      ]
    },
    {
      "cell_type": "code",
      "execution_count": null,
      "metadata": {
        "id": "pExH71NCgBuW"
      },
      "outputs": [],
      "source": [
        "import matplotlib.pyplot as plt\n",
        "\n",
        "# TODO(you): Plot GCD(a, b) for 1 \u003c= a, b \u003c= 100."
      ]
    },
    {
      "cell_type": "markdown",
      "metadata": {
        "id": "lxvdow8pb582"
      },
      "source": [
        "### Solution"
      ]
    },
    {
      "cell_type": "code",
      "execution_count": null,
      "metadata": {
        "id": "iCK9Ro2ew22Y"
      },
      "outputs": [],
      "source": [
        "a_list = []\n",
        "b_list = []\n",
        "divs_list = []\n",
        "\n",
        "for a in range(1, 101):\n",
        "  for b in range(1, 101):\n",
        "    _, divs = gcd(a, b)\n",
        "    a_list.append(a)\n",
        "    b_list.append(b)\n",
        "    divs_list.append(divs)"
      ]
    },
    {
      "cell_type": "code",
      "execution_count": null,
      "metadata": {
        "id": "Trd1lAeNzWco"
      },
      "outputs": [],
      "source": [
        "import matplotlib.pyplot as plt\n",
        "\n",
        "plt.scatter(a_list, b_list, c=divs_list, cmap='magma')\n",
        "plt.colorbar()\n",
        "plt.show()"
      ]
    },
    {
      "cell_type": "markdown",
      "metadata": {
        "id": "uZWVtE8t1rCc"
      },
      "source": [
        "As expected, the algorithm requires the least number of iterations when $a$ and $b$ are very close, and when $a$ or $b$ is close to zero. What is more surprising is that there appears to be \"worst case lines\", where the algorithm requires more iterations.\n",
        "\n",
        "Interestingly, the worst case for the Euclidean Algorithm occurs when $a$ and $b$ are consecutive numbers in the [Fibonnaci Seqeunce](https://en.wikipedia.org/wiki/Fibonacci_number). See [here](https://en.wikipedia.org/wiki/Euclidean_algorithm#Algorithmic_efficiency) for a deeper analysis of the algorithmic efficiency of the Euclidean Algorithm."
      ]
    },
    {
      "cell_type": "markdown",
      "metadata": {
        "id": "kXkN9HQzeVDO"
      },
      "source": [
        "## Question 11"
      ]
    },
    {
      "cell_type": "markdown",
      "metadata": {
        "id": "2FF-Bo0R4P5g"
      },
      "source": [
        "[Advanced] Your colleague is working for a construction client *CONSTCO*. A significant amount of analysis has gone into determining the right price for each item, in order to maximize profit. (If the price is too low, *CONSTCO* doesn't make enough money per-unit. If the price is too high, *CONSTCO* doesn't sell enough units.)"
      ]
    },
    {
      "cell_type": "markdown",
      "metadata": {
        "id": "6sWoH0cigt4o"
      },
      "source": [
        "For each [SKU](https://en.wikipedia.org/wiki/Stock_keeping_unit) (unique product), *CONSTCO* has determined a polynomial equation for profit in terms of price. For example, for wholesale concrete (where $p$ is the price for one ton of concrete) the profit is given by\n",
        "\n",
        "$$profit(p) = −0.63p^4 + 14.49p^3 −129.01p^2 + 503.46p + 263.20.$$\n",
        "\n",
        "The goal is to maximize the profit. In other words, for what value of $p$ is $profit(p)$ the largest? *CONSTCO* has one mathematician employed, who has to solve these complicated equations for each of these products by hand; but *CONSTCO* has over 1 million SKUs! That's why the CFO asked your coworker to come up with a numerical solution to this. **You can assume that all of the profit functions are such that there is exactly one maximum.**\n",
        "\n",
        "Your colleague and their team have come up with the following solution. The function keeps changing the value of `p` to increase `f(p)`, and stops when the step size is below the accuracy precision."
      ]
    },
    {
      "cell_type": "code",
      "execution_count": null,
      "metadata": {
        "id": "lsG92SyIDoY7"
      },
      "outputs": [],
      "source": [
        "def maximum(f, p0, initial_step_size, precision):\n",
        "  \"\"\"Finds the maximum of an arbitrary function f.\n",
        "  \n",
        "  Args:\n",
        "    f: The function to find the maximum of.\n",
        "    p0: The initial estimate of the value of p that maximizes f.\n",
        "    initial_step_size: The step size to start with.\n",
        "    precision: The precision of accuracy with which to find the answer.\n",
        "  \n",
        "  Returns:\n",
        "    The final estimate for the p that maximizes f.\n",
        "  \"\"\"\n",
        "\n",
        "  # Set the initial values.\n",
        "  p = p0\n",
        "  step_size = initial_step_size\n",
        "\n",
        "  # Continue while the step size exceeds the precision.\n",
        "  while step_size \u003e precision:\n",
        "    # Try a new value above p.\n",
        "    if f(p + step_size) \u003e f(p):\n",
        "      p += step_size\n",
        "    # Try a new value below p.\n",
        "    elif f(p - step_size) \u003e f(p):\n",
        "      p -= step_size\n",
        "  \n",
        "  return p"
      ]
    },
    {
      "cell_type": "markdown",
      "metadata": {
        "id": "OjGjOBMrLOEU"
      },
      "source": [
        "However, when your colleague tries the function on the concrete product, it times out, even though your colleague knows that there should be exactly one maximum."
      ]
    },
    {
      "cell_type": "code",
      "execution_count": null,
      "metadata": {
        "id": "jiQVEa-I-tp6"
      },
      "outputs": [],
      "source": [
        "def concrete(p):\n",
        "  return -0.63*p**4 + 14.49*p**3 - 129.01*p**2 + 503.46*p + 263.20"
      ]
    },
    {
      "cell_type": "markdown",
      "metadata": {
        "id": "ncg3zLmDmzGF"
      },
      "source": [
        "```python\n",
        "# BEWARE: This cell causes an infinite loop.\n",
        "maximum(concrete, 0, 1, 0.001)\n",
        "```"
      ]
    },
    {
      "cell_type": "markdown",
      "metadata": {
        "id": "YPoRXp-sip2L"
      },
      "source": [
        "Why is the function resulting in an infinite loop? Can you fix it?"
      ]
    },
    {
      "cell_type": "code",
      "execution_count": null,
      "metadata": {
        "id": "8sJILRUchARx"
      },
      "outputs": [],
      "source": [
        "def maximum(f, p0, initial_step_size, precision):\n",
        "  \"\"\"Finds the maximum of an arbitrary function f.\n",
        "  \n",
        "  Args:\n",
        "    f: The function to find the maximum of.\n",
        "    p0: The initial estimate of the value of p that maximizes f.\n",
        "    initial_step_size: The step size to start with.\n",
        "    precision: The precision of accuracy with which to find the answer.\n",
        "  \n",
        "  Returns:\n",
        "    The final estimate for the p that maximizes f.\n",
        "  \"\"\"\n",
        "\n",
        "  # TODO(you): This function currently results in an infinite recursion. Fix it.\n",
        "\n",
        "  # Set the initial values.\n",
        "  p = p0\n",
        "  step_size = initial_step_size\n",
        "\n",
        "  # Continue while the step size exceeds the precision.\n",
        "  while step_size \u003e precision:\n",
        "    # Try a new value above p.\n",
        "    if f(p + step_size) \u003e f(p):\n",
        "      p += step_size\n",
        "    # Try a new value below p.\n",
        "    elif f(p - step_size) \u003e f(p):\n",
        "      p -= step_size\n",
        "  \n",
        "  return p"
      ]
    },
    {
      "cell_type": "markdown",
      "metadata": {
        "id": "-2fj4IGofJeJ"
      },
      "source": [
        "### Unit Tests\n",
        "\n",
        "Run the following cell to check your answer against some unit tests."
      ]
    },
    {
      "cell_type": "code",
      "execution_count": null,
      "metadata": {
        "id": "aGi-aV-EfK8s"
      },
      "outputs": [],
      "source": [
        "print(maximum(concrete, 0, 1, 0.001))\n",
        "# Should print: 4.1953125"
      ]
    },
    {
      "cell_type": "markdown",
      "metadata": {
        "id": "N8jDlorUMNsn"
      },
      "source": [
        "### Solution"
      ]
    },
    {
      "cell_type": "markdown",
      "metadata": {
        "id": "Id0vJ-eNMPae"
      },
      "source": [
        "The function is almost completely correct, but contains a crucial bug. The stopping criterion for this algorithm is when `step_size \u003c= precision`, but `step_size` is not changing at all. The algorithm should decrease the step size in the case that neither `p + step_size` nor `p - step_size` increase the value of `f`."
      ]
    },
    {
      "cell_type": "markdown",
      "metadata": {
        "id": "jSl7OFkOhNQe"
      },
      "source": [
        "In the example below, we divide the step size by 2 in this case, but this division can be by any number greater than 1. The larger the divisor, the quicker the algorithm will finish (since `step_size` will become less than `precision` more quickly)."
      ]
    },
    {
      "cell_type": "code",
      "execution_count": null,
      "metadata": {
        "id": "jTjKzgg1M0D5"
      },
      "outputs": [],
      "source": [
        "def maximum(f, p0, initial_step_size, precision):\n",
        "  \"\"\"Finds the maximum of an arbitrary function f.\n",
        "  \n",
        "  Args:\n",
        "    f: The function to find the maximum of.\n",
        "    p0: The initial estimate of the value of p that maximizes f.\n",
        "    initial_step_size: The step size to start with.\n",
        "    precision: The precision of accuracy with which to find the answer.\n",
        "  \n",
        "  Returns:\n",
        "    The final estimate for the p that maximizes f.\n",
        "  \"\"\"\n",
        "\n",
        "  # Set the initial values.\n",
        "  p = p0\n",
        "  step_size = initial_step_size\n",
        "\n",
        "  # Continue while the step size exceeds the precision.\n",
        "  while step_size \u003e precision:\n",
        "    # Try a new value above p.\n",
        "    if f(p + step_size) \u003e f(p):\n",
        "      p += step_size\n",
        "    # Try a new value below p.\n",
        "    elif f(p - step_size) \u003e f(p):\n",
        "      p -= step_size\n",
        "    # ADD THESE LINES TO FIX THE BUG.\n",
        "    else:\n",
        "      step_size /= 2\n",
        "  \n",
        "  return p"
      ]
    },
    {
      "cell_type": "code",
      "execution_count": null,
      "metadata": {
        "id": "T5n_aJxkNmaG"
      },
      "outputs": [],
      "source": [
        "maximum(concrete, 0, 1, 0.001)"
      ]
    },
    {
      "cell_type": "markdown",
      "metadata": {
        "id": "ZWKA4INoZMOL"
      },
      "source": [
        "So the price per ton of concrete that maximizes profit is $4.20. We can also calculate the profit at this price."
      ]
    },
    {
      "cell_type": "code",
      "execution_count": null,
      "metadata": {
        "id": "cjWkY-szYd60"
      },
      "outputs": [],
      "source": [
        "concrete(4.195)"
      ]
    },
    {
      "cell_type": "markdown",
      "metadata": {
        "id": "Tqbwx2Kgeb-L"
      },
      "source": [
        "## Question 12"
      ]
    },
    {
      "cell_type": "markdown",
      "metadata": {
        "id": "TMcIpNq3aakD"
      },
      "source": [
        "*CONSTCO* is extremely happy with this solution, and it is now being used to optimize the price for all of their SKUs! Consequently, the runtime of the algorithm is coming under increasing scrutiny, and the CFO has asked if there is any way to reduce the runtime. She has heard of a method called [Gradient Descent](https://en.wikipedia.org/wiki/Gradient_descent), and while she doesn't know exactly how it works, she thinks it might be useful in finding the minimum/maximum of functions."
      ]
    },
    {
      "cell_type": "markdown",
      "metadata": {
        "id": "0MCXUs6ehepP"
      },
      "source": [
        "Your colleague has spent some time researching the Gradient Descent method. Apparently, unlike the algorithm in the previous exercise, it requires knowing the derivative of the function being optimized. The idea is that at a minimum/maximum of a function, the derivative (slope of the function) is zero. In Gradient Descent, instead of just taking fixed step sizes, the size of the step depends on the value of the derivative. The larger the derivative at a value, the larger the step to take.\n",
        "\n",
        "Luckily, there are plenty of Gradient Descent implementations already available online! Your colleague has implemented the algorithm by following the example [code available on Wikipedia](https://en.wikipedia.org/wiki/Gradient_descent#Python), and also using some elements from the previous exercises."
      ]
    },
    {
      "cell_type": "code",
      "execution_count": null,
      "metadata": {
        "id": "HB6QoywP3Te8"
      },
      "outputs": [],
      "source": [
        "def gradient_descent(df, x0, gamma, precision, max_iters):\n",
        "  \"\"\"Calculates a maximum of f(x) using gradient descent, if df is f'(x).\"\"\"\n",
        "  x = x0\n",
        "\n",
        "  # This check is just a formality to ensure that the for loop is entered at\n",
        "  # least once.\n",
        "  if max_iters \u003c 1:\n",
        "    return x\n",
        "\n",
        "  for i in range(max_iters):\n",
        "    next_x = x - gamma * df(x)\n",
        "    if abs(next_x - x) \u003c precision:\n",
        "      break\n",
        "    x = next_x\n",
        "  \n",
        "  if i == max_iters - 1:\n",
        "    print('Maximum number of iterations reached, algorithm did not converge.')\n",
        "  return next_x"
      ]
    },
    {
      "cell_type": "markdown",
      "metadata": {
        "id": "pg9SdKbn-aW1"
      },
      "source": [
        "The code looks exactly the same as the code on Wikipedia, except that when you try it for the concrete profit equation, for small values of `max_iters` it reaches the maximum number of iterations, and for large values of `max_iters`, it raises a numeric `OverflowError`."
      ]
    },
    {
      "cell_type": "code",
      "execution_count": null,
      "metadata": {
        "id": "p8mjEV8H8Gh7"
      },
      "outputs": [],
      "source": [
        "def concrete_derivative(p):\n",
        "  return 4*-0.63*p**3 + 3*14.49*p**2 - 2*129.01*p + 503.46"
      ]
    },
    {
      "cell_type": "code",
      "execution_count": null,
      "metadata": {
        "id": "kh6Ph7wq80IL"
      },
      "outputs": [],
      "source": [
        "gradient_descent(concrete_derivative, 0, 0.01, 0.001, 10)"
      ]
    },
    {
      "cell_type": "markdown",
      "metadata": {
        "id": "uWtSEerSiJsY"
      },
      "source": [
        "Why is this algorithm not working? Can you fix it?"
      ]
    },
    {
      "cell_type": "code",
      "execution_count": null,
      "metadata": {
        "id": "IyY9H9RyiQsw"
      },
      "outputs": [],
      "source": [
        "def gradient_descent(df, x0, gamma, precision, max_iters):\n",
        "  \"\"\"Calculates a maximum of f(x) using gradient descent, if df is f'(x).\"\"\"\n",
        "  # TODO(you): Fix this code so that it does not produce a NumericOverflow.\n",
        "\n",
        "  x = x0\n",
        "\n",
        "  # This check is just a formality to ensure that the for loop is entered at\n",
        "  # least once.\n",
        "  if max_iters \u003c 1:\n",
        "    return x\n",
        "\n",
        "  for i in range(max_iters):\n",
        "    next_x = x - gamma * df(x)\n",
        "    if abs(next_x - x) \u003c precision:\n",
        "      break\n",
        "    x = next_x\n",
        "  \n",
        "  if i == max_iters - 1:\n",
        "    print('Maximum number of iterations reached, algorithm did not converge.')\n",
        "  return next_x"
      ]
    },
    {
      "cell_type": "markdown",
      "metadata": {
        "id": "bC8k6-cBfmTy"
      },
      "source": [
        "### Hint"
      ]
    },
    {
      "cell_type": "markdown",
      "metadata": {
        "id": "Hak44S7IfnPO"
      },
      "source": [
        "Read the [introduction to Gradient Descent](https://en.wikipedia.org/wiki/Gradient_descent) on Wikipedia carefully."
      ]
    },
    {
      "cell_type": "markdown",
      "metadata": {
        "id": "YhOKzf1_fwHG"
      },
      "source": [
        "### Unit Tests\n",
        "\n",
        "Run the following cell to check your answer against some unit tests."
      ]
    },
    {
      "cell_type": "code",
      "execution_count": null,
      "metadata": {
        "id": "g9VilCmLDT0U"
      },
      "outputs": [],
      "source": [
        "print(round(gradient_descent(concrete_derivative, 0, 0.01, 0.001, 1000), 4))\n",
        "# Should print: 4.198\n",
        "\n",
        "print(round(gradient_descent(concrete_derivative, 0, 0.01, 0.00001, 10000), 4))\n",
        "# Should print: 4.1956"
      ]
    },
    {
      "cell_type": "markdown",
      "metadata": {
        "id": "rVDuO_MFeiQq"
      },
      "source": [
        "### Solution"
      ]
    },
    {
      "cell_type": "markdown",
      "metadata": {
        "id": "sM6JMu5gBBHt"
      },
      "source": [
        "The code is copied correctly from Wikipedia. The mistake is that the Gradient Descent algorithm is used for finding the local **minimum** of a function, whereas *CONSTCO* is trying to find the **maximum** of a function.\n",
        "\n",
        "An almost-identical algorithm can be used nonetheless. Maximizing a function $f$ is equivalent to minimizing $-f$, since $\\frac{d(-f)}{dp} = -\\frac{df}{dp}$. In other words, taking the derivative of a negative of a $f$ is equivalent to taking the negative of the derivative of $f$. Therefore, we can just replace `df` with `-df`, or, more concisely, `x - gamma * df(x)` with `x + gamma * df(x)`. The function name should also be changed from `gradient_descent` to `gradient_ascent`."
      ]
    },
    {
      "cell_type": "code",
      "execution_count": null,
      "metadata": {
        "id": "S17ieaNPCeZR"
      },
      "outputs": [],
      "source": [
        "def gradient_descent(df, x0, gamma, precision, max_iters):\n",
        "  \"\"\"Calculates a maximum of f(x) using gradient descent, if df is f'(x).\"\"\"\n",
        "  x = x0\n",
        "\n",
        "  # This check is just a formality to ensure that the for loop is entered at\n",
        "  # least once.\n",
        "  if max_iters \u003c 1:\n",
        "    return x\n",
        "\n",
        "  for i in range(max_iters):\n",
        "    next_x = x + gamma * df(x) # Changed the minus to a plus.\n",
        "    if abs(next_x - x) \u003c precision:\n",
        "      break\n",
        "    x = next_x\n",
        "  \n",
        "  if i == max_iters - 1:\n",
        "    print('Maximum number of iterations reached, algorithm did not converge.')\n",
        "  return next_x"
      ]
    },
    {
      "cell_type": "code",
      "execution_count": null,
      "metadata": {
        "id": "GIE75UvHjTNP"
      },
      "outputs": [],
      "source": [
        "gradient_descent(concrete_derivative, 0, 0.01, 0.001, 10)"
      ]
    }
  ],
  "metadata": {
    "colab": {
      "collapsed_sections": [
        "txZyIuSSO03F",
        "x3QqwnywZ_gc",
        "YzOXe0-hZXu7",
        "cid0RA1IkbL3",
        "TD5K6yOdaC3T",
        "bDw2CeezZJFt",
        "hyFPIY3iZWPN",
        "dDM_TVg9aUR4",
        "HytrLTc1ZKF_",
        "JAP0yBsGj4G9",
        "xahNeLEicWc3",
        "WVscEfxwb4WP",
        "Vw3rkVkcc2nb",
        "uiZk-2M3dHR2",
        "ZdcGfxuPb5Oh",
        "lxvdow8pb582",
        "-2fj4IGofJeJ",
        "N8jDlorUMNsn",
        "bC8k6-cBfmTy",
        "YhOKzf1_fwHG",
        "rVDuO_MFeiQq"
      ],
      "name": "numerical_algorithms.ipynb",
      "private_outputs": true,
      "provenance": [ ]
    },
    "kernelspec": {
      "display_name": "Python 3",
      "name": "python3"
    }
  },
  "nbformat": 4,
  "nbformat_minor": 0
}
