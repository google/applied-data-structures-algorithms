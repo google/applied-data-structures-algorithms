{
  "cells": [
    {
      "cell_type": "markdown",
      "metadata": {
        "id": "nF3_3MhcKUiI"
      },
      "source": [
        "# Sorting Algorithms"
      ]
    },
    {
      "cell_type": "markdown",
      "metadata": {
        "id": "5MsUJ7Z_yKJ3"
      },
      "source": [
        "## Lesson Overview"
      ]
    },
    {
      "cell_type": "markdown",
      "metadata": {
        "id": "DupfH8QDzKXw"
      },
      "source": [
        "\u003e A **sorting algorithm** is an algorithm that sorts an array of integers from lowest to highest."
      ]
    },
    {
      "cell_type": "markdown",
      "metadata": {
        "id": "vYg2OuntyM94"
      },
      "source": [
        "```python\n",
        "sort([3, 2, 4, 1])\n",
        "# [1, 2, 3, 4]\n",
        "```\n",
        "\n",
        "Sorting an array of integers is one of the most common and fundamental problems in computer science. Many sorting algorithms exist and are used in different contexts. The following lessons cover these five commonly used sorting algorithms:\n",
        "\n",
        "1. Bubble sort\n",
        "1. Insertion sort\n",
        "1. Selection sort\n",
        "1. Merge sort\n",
        "1. Quicksort"
      ]
    },
    {
      "cell_type": "markdown",
      "metadata": {
        "id": "aunXxoM9yPhU"
      },
      "source": [
        "### In-place and out-of-place sorting"
      ]
    },
    {
      "cell_type": "markdown",
      "metadata": {
        "id": "FrUNgRhOz2jO"
      },
      "source": [
        "Most sorting algorithms are implemented **in-place**. This means that the elements of the array are moved around within the input array itself, without creating a copy. The alternative method is **out-of-place** sorting, which does not alter the input array and instead returns a sorted copy."
      ]
    },
    {
      "cell_type": "markdown",
      "metadata": {
        "id": "lBitTpA8ySH2"
      },
      "source": [
        "The code snippets below demonstrate two example methods, `sort_in_place` and `sort_out_of_place` that sort an array `arr` in-place and out-of-place respectively.\n",
        "\n",
        "Suppose you have written a function called `sort_in_place` that sorts an array in-place:\n",
        "\n",
        "```python\n",
        "arr = [3, 2, 4, 1]\n",
        "sort_in_place(arr)\n",
        "print(arr)\n",
        "# [1, 2, 3, 4]\n",
        "```\n",
        "\n",
        "With in-place sorting, the value `arr` is altered when it is passed through the sorting algorithm. Consequently, the original ordering is lost.\n",
        "\n",
        "Now, suppose you have written a function called `sort_in_place` that sorts an array in-place:\n",
        "\n",
        "```\n",
        "arr = [3, 2, 4, 1]\n",
        "arr_sorted = sort_out_of_place(arr)\n",
        "print(arr) # [3, 2, 4, 1]\n",
        "print(arr_sorted) # [1, 2, 3, 4]\n",
        "```\n",
        "\n",
        "With out-of-place sorting, the value of `arr` is not changed when it is passed through the sorting algorithm. Instead, the sorted array is assigned to a new variable `arr_sorted`.\n",
        "\n",
        "In-place sorting algorithms have an $O(1)$ space complexity, since no new variables are allocated. Out-of-place sorting algorithms have an $O(n)$ space complexity, since the input array is copied."
      ]
    }
  ],
  "metadata": {
    "colab": {
      "collapsed_sections": [],
      "name": "sorting_algorithms_overview.ipynb",
      "private_outputs": true,
      "provenance": [ ]
    },
    "kernelspec": {
      "display_name": "Python 3",
      "name": "python3"
    }
  },
  "nbformat": 4,
  "nbformat_minor": 0
}
