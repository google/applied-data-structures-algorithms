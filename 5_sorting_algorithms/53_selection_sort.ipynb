{
  "cells": [
    {
      "cell_type": "markdown",
      "metadata": {
        "id": "IobycsEITFLC"
      },
      "source": [
        "# Selection Sort"
      ]
    },
    {
      "cell_type": "markdown",
      "metadata": {
        "id": "lCSaoIwgTHKD"
      },
      "source": [
        "## Lesson Overview"
      ]
    },
    {
      "cell_type": "markdown",
      "metadata": {
        "id": "KpG9GNclTPvD"
      },
      "source": [
        "**Selection sort** is a simple sorting algorithm that works by repeatedly moving the minimum element from the input (unsorted) array into the output (sorted) array."
      ]
    },
    {
      "cell_type": "markdown",
      "metadata": {
        "id": "C0fGNNtYAW5s"
      },
      "source": [
        "\u003e The average case time complexity of selection sort is $O(n^2)$."
      ]
    },
    {
      "cell_type": "markdown",
      "metadata": {
        "id": "Qznmd_VUAe65"
      },
      "source": [
        "### Algorithm"
      ]
    },
    {
      "cell_type": "markdown",
      "metadata": {
        "id": "VqY6E9XKLKfB"
      },
      "source": [
        "An implemention of the selection sort algorithm is outlined here."
      ]
    },
    {
      "cell_type": "markdown",
      "metadata": {
        "id": "uLZcJgv5JB3j"
      },
      "source": [
        "0. **Initialize** an output array that will eventually contain all of the elements of the input array, sorted.\n",
        "\n",
        "1. **Select** the minimum element of the input array and move it the end of the output array. (Ensure to remove the selected element from the input array.)\n",
        "\n",
        "2. **Repeat** the selection step until the input array is empty.\n",
        "\n",
        "Selection sort can be implemented either in-place or out-of-place. Selection sort may appear like an out-of-place sorting algorithm since it creates a new output array. However, it does not *copy* the input array, it *moves* elements from the input array to the output array. Selection sort therefore does not create any *new* storage, so is $O(1)$."
      ]
    },
    {
      "cell_type": "markdown",
      "metadata": {
        "id": "9kyGPkPwAiPa"
      },
      "source": [
        "**Example**"
      ]
    },
    {
      "cell_type": "markdown",
      "metadata": {
        "id": "GCEvSI61JXiE"
      },
      "source": [
        "The following table demonstrates sorting the array [2, 1, 4, 5] using selection sort.\n",
        "\n"
      ]
    },
    {
      "cell_type": "markdown",
      "metadata": {
        "id": "r5N6uCyNAk6L"
      },
      "source": [
        "**Iteration** | **Input array** | **Output array**\n",
        "--- | --- | ---\n",
        "0 | [2, 1, 4, 5] | []\n",
        "1 | [2, 4, 5] | [1]\n",
        "2 | [4, 5] | [1, 2]\n",
        "3 | [5] | [1, 2, 4]\n",
        "4 | [] | [1, 2, 4, 5]"
      ]
    },
    {
      "cell_type": "markdown",
      "metadata": {
        "id": "MxSN2DYZUA4p"
      },
      "source": [
        "## Question"
      ]
    },
    {
      "cell_type": "markdown",
      "metadata": {
        "id": "NjiqbTp5Toxq"
      },
      "source": [
        "An important step in the selection sort algorithm is finding the index of the minimum element of the array. Write this `minimum_index` function.\n",
        "\n",
        "If there is more than one minimum element, return the lowest index. For example, `minimum_index([2, 3, 1, 4, 1])` should return `2`, since 1, the lowest element, appears at indices 2 and 4."
      ]
    },
    {
      "cell_type": "code",
      "execution_count": null,
      "metadata": {
        "id": "GFTVZaT1UKvM"
      },
      "outputs": [],
      "source": [
        "def minimum_index(arr):\n",
        "  \"\"\"Returns the index of the minimum value within a numerical array.\"\"\"\n",
        "  # TODO(you): Implement"
      ]
    },
    {
      "cell_type": "markdown",
      "metadata": {
        "id": "0p5lNYV1UP3h"
      },
      "source": [
        "### Hint"
      ]
    },
    {
      "cell_type": "markdown",
      "metadata": {
        "id": "j7O-g53CUR4P"
      },
      "source": [
        "Use the following code scaffolding."
      ]
    },
    {
      "cell_type": "code",
      "execution_count": null,
      "metadata": {
        "id": "PetYqtGnUUYO"
      },
      "outputs": [],
      "source": [
        "def minimum_index(arr):\n",
        "  \"\"\"Returns the index of the minimum value within a numerical array.\"\"\"\n",
        "  # Initialize the minimum index.\n",
        "  min_index = -1\n",
        "  # Initialize the minimum value. Infinity is the standard initialization for\n",
        "  # such functions, since every integer is less than infinity.\n",
        "  min_value = float(\"Inf\")\n",
        "\n",
        "  # Iterate through the input array list.\n",
        "  for i in range(len(arr)):\n",
        "    # Reset min_index and min_value if you find a value lower than min_value.\n",
        "    # TODO(you): Complete\n",
        "  \n",
        "  return min_index"
      ]
    },
    {
      "cell_type": "markdown",
      "metadata": {
        "id": "KImv111tU5oz"
      },
      "source": [
        "### Unit Tests\n",
        "\n",
        "Run the following cell to check your answer against some unit tests."
      ]
    },
    {
      "cell_type": "code",
      "execution_count": null,
      "metadata": {
        "id": "NXAKffhuU7Ag"
      },
      "outputs": [],
      "source": [
        "print(minimum_index([2, 3, 1, 4, 5]))\n",
        "# Should print: 2\n",
        "print(minimum_index([2, 3, 1, 4, 1]))\n",
        "# Should print: 2"
      ]
    },
    {
      "cell_type": "markdown",
      "metadata": {
        "id": "iTUONZpRUDR1"
      },
      "source": [
        "### Solution"
      ]
    },
    {
      "cell_type": "code",
      "execution_count": null,
      "metadata": {
        "id": "1_h-gxH3UEx7"
      },
      "outputs": [],
      "source": [
        "def minimum_index(arr):\n",
        "  \"\"\"Returns the index of the minimum value within a numerical array.\"\"\"\n",
        "  # Initialize the minimum index.\n",
        "  min_index = -1\n",
        "  # Initialize the minimum value. Infinity is the standard initialization for\n",
        "  # such functions, since every integer is less than infinity.\n",
        "  min_value = float(\"Inf\")\n",
        "\n",
        "  # Iterate through the input array list.\n",
        "  for i in range(len(arr)):\n",
        "    # Reset min_index and min_value if you find a value lower than min_value.\n",
        "    if arr[i] \u003c min_value:\n",
        "      min_index = i\n",
        "      min_value = arr[i]\n",
        "  \n",
        "  return min_index"
      ]
    },
    {
      "cell_type": "markdown",
      "metadata": {
        "id": "q1pPyRrkOAWN"
      },
      "source": [
        "## Question"
      ]
    },
    {
      "cell_type": "markdown",
      "metadata": {
        "id": "0d3P2Q_yOB6n"
      },
      "source": [
        "What is the best, worst, and average case time complexity of `minimum_index`?"
      ]
    },
    {
      "cell_type": "code",
      "execution_count": null,
      "metadata": {
        "id": "8f2CZs0dBHDc"
      },
      "outputs": [],
      "source": [
        "#freetext"
      ]
    },
    {
      "cell_type": "markdown",
      "metadata": {
        "id": "W50WlY8fOKSH"
      },
      "source": [
        "### Solution"
      ]
    },
    {
      "cell_type": "markdown",
      "metadata": {
        "id": "U_ubkurlOLgY"
      },
      "source": [
        "All of the single-line operations in `minimum_index` are $O(1)$. Therefore the time complexity of `minimum_index` is the number of iterations of the `for` loop. In all cases, the loop iterates over all $n$ elements of `arr`, so time complexity is $O(n)$ in the best, worst, and average case."
      ]
    },
    {
      "cell_type": "markdown",
      "metadata": {
        "id": "6jwo8NfUkQCe"
      },
      "source": [
        "## Question"
      ]
    },
    {
      "cell_type": "markdown",
      "metadata": {
        "id": "T09Yu1LUSO_m"
      },
      "source": [
        "Implement `selection_sort` using the `minimum_index` function."
      ]
    },
    {
      "cell_type": "code",
      "execution_count": null,
      "metadata": {
        "id": "08vlmsSXV4uM"
      },
      "outputs": [],
      "source": [
        "def minimum_index(arr):\n",
        "  \"\"\"Returns the index of the minimum value within a numerical array.\"\"\"\n",
        "  # Initialize the minimum index.\n",
        "  min_index = -1\n",
        "  # Initialize the minimum value. Infinity is the standard initialization for\n",
        "  # such functions, since every integer is less than infinity.\n",
        "  min_value = float(\"Inf\")\n",
        "\n",
        "  # Iterate through the input array list.\n",
        "  for i in range(len(arr)):\n",
        "    # Reset min_index and min_value if you find a value lower than min_value.\n",
        "    if arr[i] \u003c min_value:\n",
        "      min_index = i\n",
        "      min_value = arr[i]\n",
        "  \n",
        "  return min_index"
      ]
    },
    {
      "cell_type": "code",
      "execution_count": null,
      "metadata": {
        "id": "2FJ9nEsUZnnQ"
      },
      "outputs": [],
      "source": [
        "def selection_sort(arr):\n",
        "  \"\"\"Sorts an array of integers in ascending order.\"\"\"\n",
        "  # TODO(you): Implement\n",
        "  print('This function has not been implemented.')"
      ]
    },
    {
      "cell_type": "markdown",
      "metadata": {
        "id": "coGp5guolIgj"
      },
      "source": [
        "### Unit Tests\n",
        "\n",
        "Run the following cell to check your answer against some unit tests."
      ]
    },
    {
      "cell_type": "code",
      "execution_count": null,
      "metadata": {
        "id": "z57qIOHDlJ3i"
      },
      "outputs": [],
      "source": [
        "print(selection_sort([2, 1, 4, 5, 2, 3, 7, 6]))\n",
        "# Should print: [1, 2, 2, 3, 4, 5, 6, 7]"
      ]
    },
    {
      "cell_type": "markdown",
      "metadata": {
        "id": "bm6Givxy4v4O"
      },
      "source": [
        "### Solution"
      ]
    },
    {
      "cell_type": "markdown",
      "metadata": {
        "id": "lLJzaOjmZzEL"
      },
      "source": [
        "This is by no means the only possible implementation. If your solution works and has the same time complexity, then it is completely valid!"
      ]
    },
    {
      "cell_type": "code",
      "execution_count": null,
      "metadata": {
        "id": "E_-5t42iZ0KA"
      },
      "outputs": [],
      "source": [
        "def selection_sort(arr):\n",
        "  \"\"\"Sorts an array of integers in ascending order.\"\"\"\n",
        "  output = []\n",
        "\n",
        "  while len(arr) \u003e 0:\n",
        "    # Find the index of the minimum value within the input array.\n",
        "    min_index = minimum_index(arr)\n",
        "    # Remove the minimum value from the input array.\n",
        "    min_value = arr.pop(min_index)\n",
        "    # Add the minimum value to the output array.\n",
        "    output.append(min_value)\n",
        "  \n",
        "  return output"
      ]
    },
    {
      "cell_type": "markdown",
      "metadata": {
        "id": "n7jWRLsUkcuw"
      },
      "source": [
        "## Question"
      ]
    },
    {
      "cell_type": "markdown",
      "metadata": {
        "id": "oin-LiWBLYCi"
      },
      "source": [
        "What is the best and worst case time complexity of selection sort?"
      ]
    },
    {
      "cell_type": "code",
      "execution_count": null,
      "metadata": {
        "id": "6kkOHUNRBPd_"
      },
      "outputs": [],
      "source": [
        "#freetext"
      ]
    },
    {
      "cell_type": "markdown",
      "metadata": {
        "id": "udH9IoSDP_-K"
      },
      "source": [
        "### Hint"
      ]
    },
    {
      "cell_type": "markdown",
      "metadata": {
        "id": "xDOw2bn9QBgm"
      },
      "source": [
        "Remember that `minimum_index` is $O(n)$. How many iterations does `selection_sort` have in the worst case?"
      ]
    },
    {
      "cell_type": "markdown",
      "metadata": {
        "id": "wjjRW3L8QL-Z"
      },
      "source": [
        "### Solution"
      ]
    },
    {
      "cell_type": "markdown",
      "metadata": {
        "id": "2O0KwY9OQNBY"
      },
      "source": [
        "Unlike bubble sort, every step of selection sort must be performed regardless of what the input is. For example, even if the input array is already sorted, selection sort still repeatedly selects and moves the minimum of the input array to the output array. This indicates that the best and worst case time complexities should be the same."
      ]
    },
    {
      "cell_type": "markdown",
      "metadata": {
        "id": "qs5u8uBmBdmj"
      },
      "source": [
        "There are only two lines in `selection_sort` that contribute to the time complexity. All other lines are $O(1)$.\n",
        "\n",
        "```python\n",
        "while len(arr) \u003e 0:\n",
        "  min_index = minimum_index(arr)\n",
        "```\n",
        "\n",
        "The `while` loop has $n$ iterations, since the initial length of `arr` is $n$ and at each iteration 1 element is popped out. This is true in the best *and* the worst case. As per a previous question and the hint, `minimum_index` is $O(n)$. Therefore, since `selection_sort` contains $n$ calls of an $O(n)$ function, the best and worst case time complexity is $O(n^2)$."
      ]
    },
    {
      "cell_type": "markdown",
      "metadata": {
        "id": "eAhNW3ilkURx"
      },
      "source": [
        "## Question"
      ]
    },
    {
      "cell_type": "markdown",
      "metadata": {
        "id": "FmLezDohhKyh"
      },
      "source": [
        "What is the average case time complexity of selection sort?"
      ]
    },
    {
      "cell_type": "code",
      "execution_count": null,
      "metadata": {
        "id": "8GhGj6zqBfds"
      },
      "outputs": [],
      "source": [
        "#freetext"
      ]
    },
    {
      "cell_type": "markdown",
      "metadata": {
        "id": "satMptTRkunS"
      },
      "source": [
        "### Solution"
      ]
    },
    {
      "cell_type": "markdown",
      "metadata": {
        "id": "QfV0ARoyimG8"
      },
      "source": [
        "Since the best and worst case time complexities are both $O(n^2)$, the time complexity must be $O(n^2)$ in *all* cases. Therefore, the average case time complexity is also $O(n^2)$."
      ]
    },
    {
      "cell_type": "markdown",
      "metadata": {
        "id": "fH7H_OvZo2Rj"
      },
      "source": [
        "## Question"
      ]
    },
    {
      "cell_type": "markdown",
      "metadata": {
        "id": "GQjJNvdwlnkc"
      },
      "source": [
        "Your friend Novell works for a publishing company called *A2ZBooks*, and his first task is to create a dictionary. Instead of building the dictionary from scratch, Novell has the clever idea to take all of the unique words in all of the books published by *A2ZBooks*, and just put them in order."
      ]
    },
    {
      "cell_type": "markdown",
      "metadata": {
        "id": "bqhoudSDBiey"
      },
      "source": [
        "Novell has created an array of all the words used in all the books. This array is called `words`. He first converts all of the words to lower-case. He then uses some nifty code to create an array of unique words, in just one line of code. Finally, since he knows that sorting algorithms can be used just as effectively on strings as on integers, he uses your selection sort algorithm above to sort the unique words.\n",
        "\n",
        "```python\n",
        "# Lower-case every word in words.\n",
        "lower_case_words = [word.lower() for word in words]\n",
        "# Create a list of the unique words.\n",
        "unique_words = list(set(lower_case_words))\n",
        "# Sort the words using selection sort.\n",
        "sorted_words = selection_sort(unique_words)\n",
        "```\n",
        "\n",
        "Novell is convinced that this approach makes sense, but the `selection_sort` call throws a `TypeError`. Why is this? Can you adapt your code above to make it work for strings, while also still working for integers and floats? Below is the `selection_sort` code for reference.\n",
        "\n",
        "(If your solution above already works for strings, then you have already completed this question!)"
      ]
    },
    {
      "cell_type": "code",
      "execution_count": null,
      "metadata": {
        "id": "aOPlKJncvPSm"
      },
      "outputs": [],
      "source": [
        "def minimum_index(arr):\n",
        "  \"\"\"Returns the index of the minimum value within an array.\"\"\"\n",
        "  # Initialize the minimum index.\n",
        "  min_index = -1\n",
        "  # Initialize the minimum value. Infinity is the standard initialization for\n",
        "  # such functions, since every integer is less than infinity.\n",
        "  min_value = float(\"Inf\")\n",
        "\n",
        "  # Iterate through the input array list.\n",
        "  for i in range(len(arr)):\n",
        "    # Reset min_index and min_value if you find a value lower than min_value.\n",
        "    if arr[i] \u003c min_value:\n",
        "      min_index = i\n",
        "      min_value = arr[i]\n",
        "  \n",
        "  return min_index\n",
        "\n",
        "\n",
        "def selection_sort(arr):\n",
        "  # TODO(you): Make this function also work for strings.\n",
        "  \"\"\"Sorts an array in ascending order.\"\"\"\n",
        "  output = []\n",
        "\n",
        "  while len(arr) \u003e 0:\n",
        "    # Find the index of the minimum value within the input array.\n",
        "    min_index = minimum_index(arr)\n",
        "    # Remove the minimum value from the input array.\n",
        "    min_value = arr.pop(min_index)\n",
        "    # Add the minimum value to the output array.\n",
        "    output.append(min_value)\n",
        "  \n",
        "  return output"
      ]
    },
    {
      "cell_type": "markdown",
      "metadata": {
        "id": "4HqZ7GhMpX8I"
      },
      "source": [
        "### Unit Tests\n",
        "\n",
        "Run the following cell to check your answer against some unit tests."
      ]
    },
    {
      "cell_type": "code",
      "execution_count": null,
      "metadata": {
        "id": "uq49LezLpZge"
      },
      "outputs": [],
      "source": [
        "print(selection_sort(['cat', 'ant', 'bee', 'aardvark']))\n",
        "# Should print: ['aardvark', 'ant', 'bee', 'cat']"
      ]
    },
    {
      "cell_type": "markdown",
      "metadata": {
        "id": "8n0iIzadT5Yk"
      },
      "source": [
        "### Solution"
      ]
    },
    {
      "cell_type": "markdown",
      "metadata": {
        "id": "9d2mhNhZvajY"
      },
      "source": [
        "*Almost* every line of `selection_sort` works just as well for floats and strings as it does for integers. The only exception is that `min_value` is initialized as `float(\"Inf\")` in `minimum_index`, and Python cannot compare this to a string.\n",
        "\n",
        "To fix this, we would need to find an equivalent \"positive infinity\" word that is greater than every possible string, similarly to how `float(\"Inf\")` is greater than any float or integer. Unfortunately, such a string does not exist. Therefore, the solution is a bit more nuanced.\n",
        "\n",
        "Instead of initializing `min_index` and `min_value` at `-1` and `float(\"Inf\")` respectively, we will initialize them at `0` and `arr[0]` respectively, with the caveat that if `arr` is empty, we `return -1`. Then, we iterate through the remaining elements of `arr`."
      ]
    },
    {
      "cell_type": "code",
      "execution_count": null,
      "metadata": {
        "id": "pkd8AJz0y6tL"
      },
      "outputs": [],
      "source": [
        "def minimum_index(arr):\n",
        "  \"\"\"Returns the index of the minimum value within an array.\"\"\"\n",
        "  # This is necessary to ensure that arr[0] exists.\n",
        "  if len(arr) == 0:\n",
        "    return -1\n",
        "\n",
        "  # Initialize the minimum index.\n",
        "  min_index = 0\n",
        "  # Initialize the minimum value.\n",
        "  min_value = arr[0]\n",
        "\n",
        "  # Iterate through the input array list.\n",
        "  for i in range(1, len(arr)):\n",
        "    # Reset min_index and min_value if you find a value lower than min_value.\n",
        "    if arr[i] \u003c min_value:\n",
        "      min_index = i\n",
        "      min_value = arr[i]\n",
        "  \n",
        "  return min_index"
      ]
    },
    {
      "cell_type": "markdown",
      "metadata": {
        "id": "QTcSl2r5z350"
      },
      "source": [
        "Now, `selection_sort` works for strings."
      ]
    },
    {
      "cell_type": "code",
      "execution_count": null,
      "metadata": {
        "id": "tl37MPgTzl9h"
      },
      "outputs": [],
      "source": [
        "def selection_sort(arr):\n",
        "  \"\"\"Sorts an array in ascending order.\"\"\"\n",
        "  output = []\n",
        "\n",
        "  while len(arr) \u003e 0:\n",
        "    # Find the index of the minimum value within the input array.\n",
        "    min_index = minimum_index(arr)\n",
        "    # Remove the minimum value from the input array.\n",
        "    min_value = arr.pop(min_index)\n",
        "    # Add the minimum value to the output array.\n",
        "    output.append(min_value)\n",
        "  \n",
        "  return output"
      ]
    },
    {
      "cell_type": "markdown",
      "metadata": {
        "id": "ABf41GbWz7F4"
      },
      "source": [
        "Since the new `selection_sort` now works for strings as well as integers and floats, it is a more robust algorithm. It is therefore probably a better implementation, even though it contains some extra logic."
      ]
    }
  ],
  "metadata": {
    "colab": {
      "collapsed_sections": [],
      "name": "selection_sort.ipynb",
      "private_outputs": true,
      "provenance": [ ]
    },
    "kernelspec": {
      "display_name": "Python 3",
      "name": "python3"
    }
  },
  "nbformat": 4,
  "nbformat_minor": 0
}
