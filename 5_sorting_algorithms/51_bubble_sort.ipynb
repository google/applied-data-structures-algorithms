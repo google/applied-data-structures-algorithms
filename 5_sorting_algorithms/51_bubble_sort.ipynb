{
  "cells": [
    {
      "cell_type": "markdown",
      "metadata": {
        "id": "yDMOMvr-bh9o"
      },
      "source": [
        "# Bubble Sort"
      ]
    },
    {
      "cell_type": "markdown",
      "metadata": {
        "id": "St11iTQYbjb2"
      },
      "source": [
        "## Lesson Overview"
      ]
    },
    {
      "cell_type": "markdown",
      "metadata": {
        "id": "6iCOnYW5csCC"
      },
      "source": [
        "**Bubble sort** is one of the simplest sorting algorithms, but it is not as efficient as others that you will encounter later. It can be implemented using iteration or recursion."
      ]
    },
    {
      "cell_type": "markdown",
      "metadata": {
        "id": "6aeN-RtBFoqU"
      },
      "source": [
        "\u003e The average case time complexity of bubble sort is $O(n^2)$.\n",
        "\n",
        "Bubble sort is usually implemented in-place, so elements are sorted within the input array itself. As a consequence, the space complexity is $O(1)$ in all cases."
      ]
    },
    {
      "cell_type": "markdown",
      "metadata": {
        "id": "_1bBTJ2WFqgh"
      },
      "source": [
        "### Algorithm"
      ]
    },
    {
      "cell_type": "markdown",
      "metadata": {
        "id": "omdLXUSHjJaO"
      },
      "source": [
        "The idea behind bubble sort is that at each repetition, the maximum element is moved to (or \"bubbles up\" to, hence the name bubble sort) the end of the array."
      ]
    },
    {
      "cell_type": "markdown",
      "metadata": {
        "id": "Mk75WBc1FteQ"
      },
      "source": [
        "Below are the key steps in the bubble sort algorithm.\n",
        "\n",
        "1. **Iterate** through consecutive pairs of the array. If a pair is \"out of order\" (if the first element is greater than the second element), swap the pair.\n",
        "\n",
        "   For example, if `arr[1] = 15` and `arr[2] = 10`, swap the elements so that `arr[1] = 10` and `arr[2] = 15`. However if `arr[1] = 10` and `arr[2] = 15`, do not swap any elements.\n",
        "   \n",
        "\n",
        "1. **Repeat** the algorithm on the sub-array of all indices except the last element.\n",
        "\n",
        "   For example, if the array has length 10, the first repetition iterates over all 9 pairs, the second repetition iterates over the first 8 pairs, the third repetition iterates over the first 7 pairs, and so on."
      ]
    },
    {
      "cell_type": "markdown",
      "metadata": {
        "id": "HkgggiAGzwiN"
      },
      "source": [
        "**Example**"
      ]
    },
    {
      "cell_type": "markdown",
      "metadata": {
        "id": "uHvsvRrLLIPd"
      },
      "source": [
        "The following table demonstrates sorting [3, 2, 4, 1] using bubble sort. (Remember that lists in Python are zero-indexed! This means the first element of an array has index 0.) The first row shows the input array."
      ]
    },
    {
      "cell_type": "markdown",
      "metadata": {
        "id": "rbs_ooMuz2SO"
      },
      "source": [
        "**Repetition** | **Iteration** | **Indices** | **Swap?** | **Array after iteration**\n",
        "--- | --- | --- | --- | ---\n",
        "0              | 0             | N/A         | N/A       | [3, 2, 4, 1]\n",
        "1              | 0             | 0, 1        | Yes       | [2, 3, 4, 1]\n",
        "1              | 1             | 1, 2        | No        | [2, 3, 4, 1]\n",
        "1              | 2             | 2, 3        | Yes       | [2, 3, 1, 4]\n",
        "2              | 0             | 0, 1        | No        | [2, 3, 1, 4]\n",
        "2              | 1             | 1, 2        | No        | [2, 1, 3, 4]\n",
        "3              | 0             | 0, 1        | Yes       | [1, 2, 3, 4]"
      ]
    },
    {
      "cell_type": "markdown",
      "metadata": {
        "id": "tYrM6-FyuYMu"
      },
      "source": [
        "## Question"
      ]
    },
    {
      "cell_type": "markdown",
      "metadata": {
        "id": "-QW1CDSGuZn6"
      },
      "source": [
        "Step 1 of bubble sort (as per the Lesson Overview) iterates through consecutive pairs of the array, and swaps the pair if the number to the right is less than the number to the left. (Step 2 then repeats Step 1, but this question focuses only on Step 1.)"
      ]
    },
    {
      "cell_type": "markdown",
      "metadata": {
        "id": "90UZnqsDz5-J"
      },
      "source": [
        "What is the result of applying **just Step 1 of bubble sort** to the array [2, 1, 4, 5, 2, 3, 7, 6]? That is, what is the resulting array after each step iterating over consecutive pairs and swapping them if out of order? Complete the following table.\n",
        "\n",
        "Iteration | Indices | Swap? | Array after iteration\n",
        "--------- | ------- | ----- | --------------------------\n",
        "0         | 0, 1    | Yes   | [1, 2, 4, 5, 2, 3, 7, 6]\n",
        "1         | 1, 2    | No    | [1, 2, 4, 5, 2, 3, 7, 6]\n",
        "2         | 2, 3    | No    | [1, 2, 4, 5, 2, 3, 7, 6]\n",
        "3         | 3, 4    |       | \n",
        "4         | 4, 5    |       | \n",
        "5         | 5, 6    |       | \n",
        "6         | 6, 7    |       | "
      ]
    },
    {
      "cell_type": "code",
      "execution_count": null,
      "metadata": {
        "id": "QJAp37s00OsA"
      },
      "outputs": [],
      "source": [
        "#freetext"
      ]
    },
    {
      "cell_type": "markdown",
      "metadata": {
        "id": "Gb8sBeafu4Mw"
      },
      "source": [
        "### Solution"
      ]
    },
    {
      "cell_type": "markdown",
      "metadata": {
        "id": "Jd2SiucMvDKh"
      },
      "source": [
        "The following table outlines how the original array [2, 1, 4, 5, 2, 3, 7, 6] changes by iteration."
      ]
    },
    {
      "cell_type": "markdown",
      "metadata": {
        "id": "qK3zPY1Xz-d_"
      },
      "source": [
        "Iteration | Indices | Swap? | Array after iteration\n",
        "--------- | ------- | ----- | --------------------------\n",
        "0         | 0, 1    | Yes   | [1, 2, 4, 5, 2, 3, 7, 6]\n",
        "1         | 1, 2    | No    | [1, 2, 4, 5, 2, 3, 7, 6]\n",
        "2         | 2, 3    | No    | [1, 2, 4, 5, 2, 3, 7, 6]\n",
        "3         | 3, 4    | Yes   | [1, 2, 4, 2, 5, 3, 7, 6]\n",
        "4         | 4, 5    | Yes   | [1, 2, 4, 2, 3, 5, 7, 6]\n",
        "5         | 5, 6    | No    | [1, 2, 4, 2, 3, 5, 7, 6]\n",
        "6         | 6, 7    | Yes   | [1, 2, 4, 2, 3, 5, 6, 7]"
      ]
    },
    {
      "cell_type": "markdown",
      "metadata": {
        "id": "N7yqxn5Z5OvI"
      },
      "source": [
        "## Question"
      ]
    },
    {
      "cell_type": "markdown",
      "metadata": {
        "id": "W7Vu43XO5P8I"
      },
      "source": [
        "Write a function to iterate through consecutive pairs of elements, and swap the elements if out of order. (A pair is considered out of order if the element with lower index has higher value.)"
      ]
    },
    {
      "cell_type": "code",
      "execution_count": null,
      "metadata": {
        "id": "viQpdyUa5XSs"
      },
      "outputs": [],
      "source": [
        "def swap_out_of_order_pairs(arr):\n",
        "  \"\"\"Iterate through consecutive pairs and swap them if out of order.\"\"\"\n",
        "  # TODO(you): Implement\n",
        "  print('This function has not been implemented.')"
      ]
    },
    {
      "cell_type": "markdown",
      "metadata": {
        "id": "OfEhNPfv7Kyf"
      },
      "source": [
        "### Hint"
      ]
    },
    {
      "cell_type": "markdown",
      "metadata": {
        "id": "TzdJy-607LwA"
      },
      "source": [
        "You can swap the *i*\u003csup\u003eth\u003c/sup\u003e and *j*\u003csup\u003eth\u003c/sup\u003e element of an array `arr` with the following code.\n",
        "\n",
        "```\n",
        "arr[i], arr[j] = arr[j], arr[i]\n",
        "```"
      ]
    },
    {
      "cell_type": "markdown",
      "metadata": {
        "id": "1CoeaeXe5ySg"
      },
      "source": [
        "### Unit Tests\n",
        "\n",
        "Run the following cell to check your answer against some unit tests."
      ]
    },
    {
      "cell_type": "code",
      "execution_count": null,
      "metadata": {
        "id": "dSA77j1Y50hk"
      },
      "outputs": [],
      "source": [
        "print(swap_out_of_order_pairs([2, 1, 4, 5, 2, 3, 7, 6]))\n",
        "# Should print: [1, 2, 4, 2, 3, 5, 6, 7]"
      ]
    },
    {
      "cell_type": "markdown",
      "metadata": {
        "id": "eTadZjVf6cGT"
      },
      "source": [
        "### Solution"
      ]
    },
    {
      "cell_type": "code",
      "execution_count": null,
      "metadata": {
        "id": "MxDa__NO6ahI"
      },
      "outputs": [],
      "source": [
        "def swap_out_of_order_pairs(arr):\n",
        "  \"\"\"Iterate through consecutive pairs and swap them if out of order.\"\"\"\n",
        "  for i in range(len(arr) - 1):\n",
        "    if arr[i] \u003e arr[i + 1]:\n",
        "      arr[i], arr[i + 1] = arr[i + 1], arr[i]\n",
        "  \n",
        "  return arr"
      ]
    },
    {
      "cell_type": "markdown",
      "metadata": {
        "id": "hN2sTroD7Im-"
      },
      "source": [
        "## Question"
      ]
    },
    {
      "cell_type": "markdown",
      "metadata": {
        "id": "YtYnAsiG7fG-"
      },
      "source": [
        "Bubble sort is usually implemented using a combination of iteration and recursion. Iteration is used in the function `swap_out_of_order_pairs`. This is recursively applied to the input array then subsequent sub-arrays."
      ]
    },
    {
      "cell_type": "markdown",
      "metadata": {
        "id": "E_yEbuRA0Gba"
      },
      "source": [
        "Implement bubble sort using recursion. Use the following code for `swap_out_of_order_pairs`."
      ]
    },
    {
      "cell_type": "code",
      "execution_count": null,
      "metadata": {
        "id": "UNzsNQOV8LbB"
      },
      "outputs": [],
      "source": [
        "def swap_out_of_order_pairs(arr):\n",
        "  \"\"\"Iterate through consecutive pairs and swap them if out of order.\"\"\"\n",
        "  for i in range(len(arr) - 1):\n",
        "    if arr[i] \u003e arr[i + 1]:\n",
        "      arr[i], arr[i + 1] = arr[i + 1], arr[i]\n",
        "  \n",
        "  return arr"
      ]
    },
    {
      "cell_type": "code",
      "execution_count": null,
      "metadata": {
        "id": "A-qpPaT18ZLF"
      },
      "outputs": [],
      "source": [
        "def bubble_sort_recursive(arr, n=None):\n",
        "  \"\"\"Sorts an array of integers in ascending order.\"\"\"\n",
        "  if n == 1:\n",
        "    return arr\n",
        "  if n is None:\n",
        "    n = len(arr)\n",
        "\n",
        "  # TODO(you): Implement\n",
        "  print('This function has not been implemented.')"
      ]
    },
    {
      "cell_type": "markdown",
      "metadata": {
        "id": "ZJ7rTnYBmZYX"
      },
      "source": [
        "### Unit Tests\n",
        "\n",
        "Run the following cell to check your answer against some unit tests."
      ]
    },
    {
      "cell_type": "code",
      "execution_count": null,
      "metadata": {
        "id": "J6PKw-Vu4qJG"
      },
      "outputs": [],
      "source": [
        "print(bubble_sort_recursive([2, 1, 4, 5, 2, 3, 7, 6]))\n",
        "# Should print: [1, 2, 2, 3, 4, 5, 6, 7]"
      ]
    },
    {
      "cell_type": "markdown",
      "metadata": {
        "id": "ZdUcIIJR8NSc"
      },
      "source": [
        "### Solution"
      ]
    },
    {
      "cell_type": "code",
      "execution_count": null,
      "metadata": {
        "id": "e79uI6IH8MaM"
      },
      "outputs": [],
      "source": [
        "def bubble_sort_recursive(arr, n=None):\n",
        "  \"\"\"Sorts an array of integers in ascending order.\"\"\"\n",
        "  if n == 1:\n",
        "    return arr\n",
        "  if n is None:\n",
        "    n = len(arr)\n",
        "\n",
        "  swap_out_of_order_pairs(arr)\n",
        "  return bubble_sort_recursive(arr, n - 1)"
      ]
    },
    {
      "cell_type": "markdown",
      "metadata": {
        "id": "iBdRSlLocNyu"
      },
      "source": [
        "## Question"
      ]
    },
    {
      "cell_type": "markdown",
      "metadata": {
        "id": "fR1v2jzFcKoi"
      },
      "source": [
        "Bubble sort can also be implemented using iteration only. Write a function `bubble_sort_iterative` that calls `swap_out_of_order_pairs` iteratively."
      ]
    },
    {
      "cell_type": "code",
      "execution_count": null,
      "metadata": {
        "id": "ouFq9XKWinZm"
      },
      "outputs": [],
      "source": [
        "def swap_out_of_order_pairs(arr):\n",
        "  \"\"\"Iterate through consecutive pairs and swap them if out of order.\"\"\"\n",
        "  for i in range(len(arr) - 1):\n",
        "    if arr[i] \u003e arr[i + 1]:\n",
        "      arr[i], arr[i + 1] = arr[i + 1], arr[i]\n",
        "  \n",
        "  return arr"
      ]
    },
    {
      "cell_type": "code",
      "execution_count": null,
      "metadata": {
        "id": "nJ7KJNczcd3r"
      },
      "outputs": [],
      "source": [
        "def bubble_sort_iterative(arr):\n",
        "  \"\"\"Sorts an array of integers in ascending order.\"\"\"\n",
        "  # TODO(you): Implement\n",
        "  print('This function has not been implemented.')"
      ]
    },
    {
      "cell_type": "markdown",
      "metadata": {
        "id": "HVDRQsv1c63P"
      },
      "source": [
        "### Unit Tests\n",
        "\n",
        "Run the following cell to check your answer against some unit tests."
      ]
    },
    {
      "cell_type": "code",
      "execution_count": null,
      "metadata": {
        "id": "n24I1wMcc-nV"
      },
      "outputs": [],
      "source": [
        "print(bubble_sort_iterative([2, 1, 4, 5, 2, 3, 7, 6]))\n",
        "# Should print: [1, 2, 2, 3, 4, 5, 6, 7]"
      ]
    },
    {
      "cell_type": "markdown",
      "metadata": {
        "id": "xEuygCBcc5Tz"
      },
      "source": [
        "### Solution"
      ]
    },
    {
      "cell_type": "markdown",
      "metadata": {
        "id": "7LuM-tT4_4de"
      },
      "source": [
        "There are several ways to accomplish this, below is just one of them. The idea is that at each iteration, the maximum number of the sub-array \"bubbles up\" to the top. Therefore, each iteration swaps the consecutive pairs that are out of order for repeatedly smaller sub-arrays."
      ]
    },
    {
      "cell_type": "code",
      "execution_count": null,
      "metadata": {
        "id": "P0LgGi1TcUlc"
      },
      "outputs": [],
      "source": [
        "def bubble_sort_iterative(arr):\n",
        "  \"\"\"Sorts an array of integers in ascending order.\"\"\"\n",
        "  n = len(arr)\n",
        "\n",
        "  for i in range(n - 1):\n",
        "    arr[:(n - i)] = swap_out_of_order_pairs(arr[:(n - i)])\n",
        "  \n",
        "  return arr"
      ]
    },
    {
      "cell_type": "markdown",
      "metadata": {
        "id": "C2pPkph7AjJ8"
      },
      "source": [
        "## Question"
      ]
    },
    {
      "cell_type": "markdown",
      "metadata": {
        "id": "My-e_l5xAkMI"
      },
      "source": [
        "What is the worst case time complexity of bubble sort? When does this occur?"
      ]
    },
    {
      "cell_type": "code",
      "execution_count": null,
      "metadata": {
        "id": "uGsE2hE-0ZHS"
      },
      "outputs": [],
      "source": [
        "#freetext"
      ]
    },
    {
      "cell_type": "markdown",
      "metadata": {
        "id": "knqnv0RyDcs5"
      },
      "source": [
        "### Solution"
      ]
    },
    {
      "cell_type": "markdown",
      "metadata": {
        "id": "t4jq53kgUBI0"
      },
      "source": [
        "For a sorting algorithm, the worst case usually occurs when the input array is reverse sorted, such as `[5, 4, 3, 2, 1]`. For this input, bubble sort would need to swap every consecutive pair of integers. Assuming each comparison and swap is an $O(1)$ operation (which it should be), the number of swaps is\n",
        "\n",
        "\\begin{align*}\n",
        "(n-1) + (n-2) + ... + 2 + 1 \u0026= \\sum_{i=1}^{n-1} i \\\\\n",
        "\u0026= \\frac{n(n-1)}{2} \\\\\n",
        "\u0026= \\frac{1}{2} n^2 - \\frac{1}{2} n \\\\\n",
        "\u0026= O(n^2), \\\\\n",
        "\\end{align*}\n",
        "\n",
        "where the second line comes from the formula for an [arithmetic series](https://en.wikipedia.org/wiki/1_%2B_2_%2B_3_%2B_4_%2B_%E2%8B%AF). Therefore, bubble sort is $O(n^2)$ in the worst case. It is also $O(n^2)$ in the average case."
      ]
    },
    {
      "cell_type": "markdown",
      "metadata": {
        "id": "b_FRYYR9YNEi"
      },
      "source": [
        "## Question"
      ]
    },
    {
      "cell_type": "markdown",
      "metadata": {
        "id": "5FvBg2NPYOhF"
      },
      "source": [
        "You are working on a team project, but two of your teammates are in an argument."
      ]
    },
    {
      "cell_type": "markdown",
      "metadata": {
        "id": "5NrJIZj60e_6"
      },
      "source": [
        "Mohammed is convinced that the best case time complexity of bubble sort is $O(n^2)$ since, regardless of the input, this implementation (below) must compare every consecutive pair of integers, which is $O(n^2)$ (as per the previous question). However, Shami has noticed that [Wikipedia lists](https://en.wikipedia.org/wiki/Bubble_sort) the best case time complexity for bubble sort as $O(n)$.\n",
        "\n",
        "Mohammad and Shami can't seem to reconcile this discrepancy. Can you think of why the listed best case time complexity might be $O(n)$?"
      ]
    },
    {
      "cell_type": "code",
      "execution_count": null,
      "metadata": {
        "id": "9vwYLCuZiqlP"
      },
      "outputs": [],
      "source": [
        "def swap_out_of_order_pairs(arr):\n",
        "  \"\"\"Iterate through consecutive pairs and swap them if out of order.\"\"\"\n",
        "  for i in range(len(arr) - 1):\n",
        "    if arr[i] \u003e arr[i + 1]:\n",
        "      arr[i], arr[i + 1] = arr[i + 1], arr[i]\n",
        "  \n",
        "  return arr"
      ]
    },
    {
      "cell_type": "code",
      "execution_count": null,
      "metadata": {
        "id": "VJlyr9kKi0q6"
      },
      "outputs": [],
      "source": [
        "def bubble_sort_recursive(arr, n=None):\n",
        "  \"\"\"Sorts an array of integers in ascending order.\"\"\"\n",
        "  if n == 1:\n",
        "    return arr\n",
        "  if n is None:\n",
        "    n = len(arr)\n",
        "\n",
        "  swap_out_of_order_pairs(arr)\n",
        "  return bubble_sort_recursive(arr, n - 1)"
      ]
    },
    {
      "cell_type": "code",
      "execution_count": null,
      "metadata": {
        "id": "h09quwnn0niM"
      },
      "outputs": [],
      "source": [
        "#freetext"
      ]
    },
    {
      "cell_type": "markdown",
      "metadata": {
        "id": "y2p7rM2kkjZk"
      },
      "source": [
        "### Hint"
      ]
    },
    {
      "cell_type": "markdown",
      "metadata": {
        "id": "-iKiymXckkUB"
      },
      "source": [
        "What is the best case scenario for a sorting algorithm? What is inefficient about the current implementation of bubble sort for this case?"
      ]
    },
    {
      "cell_type": "markdown",
      "metadata": {
        "id": "BbAG2D4Ak-sy"
      },
      "source": [
        "### Solution"
      ]
    },
    {
      "cell_type": "markdown",
      "metadata": {
        "id": "-ryuNUTik_oj"
      },
      "source": [
        "Both Mohammed and Shami are correct:\n",
        "\n",
        "- The current implementation has a best case time complexity of $O(n^2)$.\n",
        "- The optimized best case time complexity of bubble sort is $O(n)$.\n",
        "\n",
        "The best case for any sorting algorithm occurs when the input is pre-sorted. In this case, the algorithm *should* only loop through the array once, see that it is sorted, then exit. However, this implementation is inefficient because it does not recognize and exit when all the necessary swaps are complete.\n",
        "\n",
        "In the case of a pre-sorted array, a more efficient implementation would recognize in the first loop (which is $O(n)$) that no swaps are necessary, and exit."
      ]
    },
    {
      "cell_type": "markdown",
      "metadata": {
        "id": "RhI1JOe3Dh2Z"
      },
      "source": [
        "## Question"
      ]
    },
    {
      "cell_type": "markdown",
      "metadata": {
        "id": "sLbWtQjmDixZ"
      },
      "source": [
        "To implement the more efficient bubble sort, one possible step is to alter the `swap_out_of_order_pairs` function to indicate when no swaps are made. When no swaps are made, this indicates the array is already sorted."
      ]
    },
    {
      "cell_type": "markdown",
      "metadata": {
        "id": "Ye0-ENSm0rJ2"
      },
      "source": [
        "Modify the `swap_out_of_order_pairs` function below to also return a boolean indicator for whether the array is already sorted (which is equivalent to whether no swaps are necessary)."
      ]
    },
    {
      "cell_type": "code",
      "execution_count": null,
      "metadata": {
        "id": "xLtogRpfEH_h"
      },
      "outputs": [],
      "source": [
        "def swap_out_of_order_pairs(arr):\n",
        "  \"\"\"Iterate through consecutive pairs and swap them if out of order.\"\"\"\n",
        "  # TODO(you): Also return a bool indicating whether the array is sorted.\n",
        "  for i in range(len(arr) - 1):\n",
        "    if arr[i] \u003e arr[i + 1]:\n",
        "      arr[i], arr[i + 1] = arr[i + 1], arr[i]\n",
        "  \n",
        "  return arr"
      ]
    },
    {
      "cell_type": "markdown",
      "metadata": {
        "id": "Jw20-I49Evb0"
      },
      "source": [
        "### Unit Tests\n",
        "\n",
        "Run the following cell to check your answer against some unit tests."
      ]
    },
    {
      "cell_type": "code",
      "execution_count": null,
      "metadata": {
        "id": "RKRLKdUJEudE"
      },
      "outputs": [],
      "source": [
        "print(swap_out_of_order_pairs([2, 1, 4, 5, 2, 3, 7, 6]))\n",
        "# Should print: ([1, 2, 4, 2, 3, 5, 6, 7], False)\n",
        "\n",
        "print(swap_out_of_order_pairs([1, 2, 2, 3, 4, 5, 6, 7]))\n",
        "# Should print: ([1, 2, 2, 3, 4, 5, 6, 7], True)"
      ]
    },
    {
      "cell_type": "markdown",
      "metadata": {
        "id": "UIBCvSlOEQ6O"
      },
      "source": [
        "### Solution"
      ]
    },
    {
      "cell_type": "code",
      "execution_count": null,
      "metadata": {
        "id": "W6v-RIqKET3O"
      },
      "outputs": [],
      "source": [
        "def swap_out_of_order_pairs(arr):\n",
        "  \"\"\"Iterate through consecutive pairs and swap them if out of order.\"\"\"\n",
        "  sorted = True\n",
        "\n",
        "  for i in range(len(arr) - 1):\n",
        "    if arr[i] \u003e arr[i + 1]:\n",
        "      arr[i], arr[i + 1] = arr[i + 1], arr[i]\n",
        "      sorted = False\n",
        "  \n",
        "  return arr, sorted"
      ]
    },
    {
      "cell_type": "markdown",
      "metadata": {
        "id": "UwLBC4lHFhtt"
      },
      "source": [
        "## Question"
      ]
    },
    {
      "cell_type": "markdown",
      "metadata": {
        "id": "Pk248BRsFjLI"
      },
      "source": [
        "Alter the `bubble_sort_recursive` function below to exit when it recognizes the array is already sorted."
      ]
    },
    {
      "cell_type": "code",
      "execution_count": null,
      "metadata": {
        "id": "dFHgdpU1F3Yb"
      },
      "outputs": [],
      "source": [
        "def swap_out_of_order_pairs(arr):\n",
        "  \"\"\"Iterate through consecutive pairs and swap them if out of order.\"\"\"\n",
        "  sorted = True\n",
        "\n",
        "  for i in range(len(arr) - 1):\n",
        "    if arr[i] \u003e arr[i + 1]:\n",
        "      arr[i], arr[i + 1] = arr[i + 1], arr[i]\n",
        "      sorted = False\n",
        "  \n",
        "  return arr, sorted"
      ]
    },
    {
      "cell_type": "code",
      "execution_count": null,
      "metadata": {
        "id": "EWUl6KMVF63P"
      },
      "outputs": [],
      "source": [
        "def bubble_sort_recursive(arr, n=None):\n",
        "  \"\"\"Sorts an array of integers in ascending order.\"\"\"\n",
        "  # TODO(you): swap_out_of_order_pairs now returns two arguments, including a\n",
        "  # bool for whether the array is already sorted. Account for this to optimize\n",
        "  # the algorithm to be O(n) in the best case.\n",
        "  if n == 1:\n",
        "    return arr\n",
        "  if n is None:\n",
        "    n = len(arr)\n",
        "\n",
        "  swap_out_of_order_pairs(arr)\n",
        "  return bubble_sort_recursive(arr, n - 1)"
      ]
    },
    {
      "cell_type": "markdown",
      "metadata": {
        "id": "4Z18-NluHYU3"
      },
      "source": [
        "### Unit Tests\n",
        "\n",
        "Run the following cell to check your answer against some unit tests."
      ]
    },
    {
      "cell_type": "code",
      "execution_count": null,
      "metadata": {
        "id": "ibD4OrldHZgG"
      },
      "outputs": [],
      "source": [
        "print(bubble_sort_recursive([2, 1, 4, 5, 2, 3, 7, 6]))\n",
        "# Should print: [1, 2, 2, 3, 4, 5, 6, 7]"
      ]
    },
    {
      "cell_type": "markdown",
      "metadata": {
        "id": "Z3t-kF6pHWCr"
      },
      "source": [
        "### Solution"
      ]
    },
    {
      "cell_type": "code",
      "execution_count": null,
      "metadata": {
        "id": "jYSBeMIXHio4"
      },
      "outputs": [],
      "source": [
        "def bubble_sort_recursive(arr, n=None):\n",
        "  \"\"\"Sorts an array of integers in ascending order.\"\"\"\n",
        "  if n == 1:\n",
        "    return arr\n",
        "  if n is None:\n",
        "    n = len(arr)\n",
        "\n",
        "  # No need to reassign arr, it is sorted in-place.\n",
        "  _, sorted = swap_out_of_order_pairs(arr)\n",
        "  if sorted:\n",
        "    return arr\n",
        "  else:\n",
        "    return bubble_sort_recursive(arr, n - 1)"
      ]
    }
  ],
  "metadata": {
    "colab": {
      "collapsed_sections": [],
      "name": "bubble_sort.ipynb",
      "private_outputs": true,
      "provenance": [ ]
    },
    "kernelspec": {
      "display_name": "Python 3",
      "name": "python3"
    }
  },
  "nbformat": 4,
  "nbformat_minor": 0
}
