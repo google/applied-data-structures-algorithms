{
  "cells": [
    {
      "cell_type": "markdown",
      "metadata": {
        "id": "Pic8r3n4AWWu"
      },
      "source": [
        "# Priority Queues"
      ]
    },
    {
      "cell_type": "markdown",
      "metadata": {
        "id": "40klIjfB3g0H"
      },
      "source": [
        "## Lesson Overview"
      ]
    },
    {
      "cell_type": "markdown",
      "metadata": {
        "id": "Qbo_Wfq7lz43"
      },
      "source": [
        "Another common abstract data type is a **priority queue**.\n",
        "\n",
        "\u003e A **priority queue** allows you to enqueue and dequeue elements in order, similar to a queue. What differentiates it from a queue is that it introduces a new concept: the idea of **priority**, or an expected ordering of the elements.\n",
        "\n"
      ]
    },
    {
      "cell_type": "markdown",
      "metadata": {
        "id": "4OJpcr27N5bm"
      },
      "source": [
        "Priority influences the way a priority queue dequeues elements. Depending on how the priority queue is constructed, it may return elements in order from lowest to highest priority, or from highest to lowest priority. Throughout this lesson, generally the lowest values (those closest to 0) are the highest priority, similar to being first in line for something."
      ]
    },
    {
      "cell_type": "markdown",
      "metadata": {
        "id": "IMKsaqSNEsI6"
      },
      "source": [
        "### How priority affects enqueuing elements"
      ]
    },
    {
      "cell_type": "markdown",
      "metadata": {
        "id": "FlKG6KhrYSNe"
      },
      "source": [
        "Using priority to determine element order is very different from a queue's first-in, first-out policy. Let's look at an example, and note the difference in the priority queue's `enqueue()` method.\n",
        "\n",
        "Assume we have classes for the `Queue` and `PriorityQueue` structure."
      ]
    },
    {
      "cell_type": "markdown",
      "metadata": {
        "id": "GeqdPk6Q6t-j"
      },
      "source": [
        "```python\n",
        "# In this example, each of the values (the second number) is paired with its\n",
        "# priority (the first number).\n",
        "pairs_list = [(4, 17), (1, 4), (5, 5), (3, 6), (4, 10)]\n",
        "example_queue = Queue()\n",
        "example_priority_queue = PriorityQueue()\n",
        "\n",
        "for pair in pairs_list:\n",
        "  # Standard queues don't deal with priority, so all of the elements are just\n",
        "  # passed individually as arguments to enqueue().\n",
        "  example_queue.enqueue(pair[0], pair[1])\n",
        "  # Priority queues take the priority and the element as separate arguments \n",
        "  # to enqueue().\n",
        "  example_priority_queue.enqueue(pair[0], pair[1])\n",
        "```"
      ]
    },
    {
      "cell_type": "markdown",
      "metadata": {
        "id": "Ngw654S5Xxea"
      },
      "source": [
        "Try writing out what is enqueued before advancing."
      ]
    },
    {
      "cell_type": "markdown",
      "metadata": {
        "id": "sqPg8M3zXfV2"
      },
      "source": [
        "### How priority affects dequeuing elements"
      ]
    },
    {
      "cell_type": "markdown",
      "metadata": {
        "id": "MCeCQiEhXqvi"
      },
      "source": [
        "Now, if we iterate through the queues, calling `dequeue()` until they are empty, how do the outputs change? Assuming the lowest number is the highest priority, see if you can predict the result before looking at our answers."
      ]
    },
    {
      "cell_type": "markdown",
      "metadata": {
        "id": "fx8iMwIKOLhn"
      },
      "source": [
        "Queue:\n",
        "\n",
        "```python\n",
        "17, 4, 5, 6, 10\n",
        "```\n",
        "\n",
        "Priority Queue:\n",
        "\n",
        "```python\n",
        "4, 6, 17, 10, 5\n",
        "```"
      ]
    },
    {
      "cell_type": "markdown",
      "metadata": {
        "id": "FlMLRzUjPgYy"
      },
      "source": [
        "Since `(1, 4)` had the lowest number (1), therefore the highest priority, the 4 was returned first. Note that both 10 and 17 had a priority of 4. However, 17 was enqueued first, and was therefore dequeued first.\n",
        "\n",
        "While this is a general implementation of a priority queue, in practice there's some nuance to their construction because there are multiple different ways to implement a priority queue. This lesson will primarily focus on lists and linked lists as data structures to back a priority queue, but it is possible to have heap-backed priority queues and other implementations."
      ]
    },
    {
      "cell_type": "markdown",
      "metadata": {
        "id": "2Ns0ToKv9e_v"
      },
      "source": [
        "## Question 1"
      ]
    },
    {
      "cell_type": "markdown",
      "metadata": {
        "id": "MuVS7BTS9hDu"
      },
      "source": [
        "Which *one* of the following best defines the difference between in a queue and a priority queue?"
      ]
    },
    {
      "cell_type": "markdown",
      "metadata": {
        "id": "fpxKJ_UqA5X_"
      },
      "source": [
        "**a)** A priority queue prioritizes dequeuing elements that have been in the queue the least time (not the most time, as in a queue)\n",
        "\n",
        "**b)** A priority queue is a queue that prioritizes dequeuing larger elements\n",
        "\n",
        "**c)** A priority queue is a queue that prioritizes dequeuing smaller elements\n",
        "\n",
        "**d)** The elements of a priority queue have an associated priority, and a priority queue prioritizes dequeuing elements based on that priority"
      ]
    },
    {
      "cell_type": "markdown",
      "metadata": {
        "id": "lmxgMdkgA57Q"
      },
      "source": [
        "### Solution"
      ]
    },
    {
      "cell_type": "markdown",
      "metadata": {
        "id": "l4PZoBT-A6xA"
      },
      "source": [
        "The correct answer is **d)**.\n",
        "\n",
        "**a)** This describes \"last in, first out\" retrieval, which is implemented by a stack.\n",
        "\n",
        "**b)** Priority queues dequeue elements based on priority, not value.\n",
        "\n",
        "**c)** Priority queues dequeue elements based on priority, not value."
      ]
    },
    {
      "cell_type": "markdown",
      "metadata": {
        "id": "bMYi-EBbCvrh"
      },
      "source": [
        "## Question 2"
      ]
    },
    {
      "cell_type": "markdown",
      "metadata": {
        "id": "hGD5dt6UCxOL"
      },
      "source": [
        "In which of the following would a priority queue be the most appropriate data structure to use?"
      ]
    },
    {
      "cell_type": "markdown",
      "metadata": {
        "id": "E1BDY9KEBHGh"
      },
      "source": [
        "**a)** Managing the incoming calls to a call center\n",
        "\n",
        "**b)** A hospital that assigns a \"severity\" rating to each incoming patient\n",
        "\n",
        "**c)** Boarding an aircraft based on seating zone\n",
        "\n",
        "**d)** A bakery with separate lines for pastries and bread\n",
        "\n",
        "**e)** A toll bridge that lets bicycles cross first, then buses, then carpools"
      ]
    },
    {
      "cell_type": "markdown",
      "metadata": {
        "id": "QhV2C_VsBHmy"
      },
      "source": [
        "### Solution"
      ]
    },
    {
      "cell_type": "markdown",
      "metadata": {
        "id": "tdDMtzUUBJby"
      },
      "source": [
        "The correct answers are **b)**, **c)**, and **e)**.\n",
        "\n",
        "**a)** There is no specification that the incoming calls are prioritized in any way, so this is a standard queue.\n",
        "\n",
        "**d)** This is almost correct, but this sounds more like two separate queues than one priority queue."
      ]
    },
    {
      "cell_type": "markdown",
      "metadata": {
        "id": "m0DJfpAzu0VA"
      },
      "source": [
        "## Question 3"
      ]
    },
    {
      "cell_type": "markdown",
      "metadata": {
        "id": "0dkTeoDsuAjW"
      },
      "source": [
        "Write an `enqueue()` method for a priority queue using a linked list as its backing data structure. Try to enqueue elements in an order such that the highest priority elements are at the top of the linked lists. This step will make dequeuing elements a lot more efficient."
      ]
    },
    {
      "cell_type": "code",
      "execution_count": null,
      "metadata": {
        "id": "Wu8RtrVE-aws"
      },
      "outputs": [],
      "source": [
        "class ListNode:\n",
        "\n",
        "  def __init__(self, priority, element):\n",
        "    self.priority = priority\n",
        "    self.element = element\n",
        "    self.next = None\n",
        "    \n",
        "\n",
        "class PriorityQueue:\n",
        "\n",
        "  def __init__(self):\n",
        "    self.head = None\n",
        "\n",
        "  def length(self):\n",
        "    count = 0\n",
        "    current = self.head\n",
        "    while current is not None:\n",
        "      count += 1\n",
        "      current = current.next\n",
        "    return count\n",
        "    \n",
        "  def enqueue(self, priority, element):\n",
        "    # TODO(you): Implement\n",
        "    print('This method has not been implemented.')"
      ]
    },
    {
      "cell_type": "markdown",
      "metadata": {
        "id": "4TPejNLjZMde"
      },
      "source": [
        "### Hint"
      ]
    },
    {
      "cell_type": "markdown",
      "metadata": {
        "id": "ue427t1BZOwc"
      },
      "source": [
        "Remember you also have access to a variable `self.head` that points to the head of the linked list. Don't forget to update it!\n",
        "\n",
        "Use the following code scaffolding."
      ]
    },
    {
      "cell_type": "markdown",
      "metadata": {
        "id": "SYdygr3pX-Rz"
      },
      "source": [
        "```python\n",
        "class ListNode:\n",
        "\n",
        "  def __init__(self, priority, element):\n",
        "    self.priority = priority\n",
        "    self.element = element\n",
        "    self.next = None\n",
        "\n",
        "\n",
        "class PriorityQueue:\n",
        "\n",
        "  def __init__(self):\n",
        "    self.head = None\n",
        "\n",
        "  def length(self):\n",
        "    count = 0\n",
        "    current = self.head\n",
        "    while current is not None:\n",
        "      count += 1\n",
        "      current = current.next\n",
        "    return count\n",
        "\n",
        "  def enqueue(self, priority, element):\n",
        "    if self.head is None:\n",
        "      # If the current head is None, enqueue the element and return.\n",
        "      # TODO(you)\n",
        "      return\n",
        "    elif self.head.priority \u003e priority:\n",
        "      # Add a special case for if the new element should replace the head.\n",
        "      # TODO(you)\n",
        "    else:\n",
        "      current = self.head\n",
        "      while current is not None:\n",
        "        if current.next is None:\n",
        "          # Add to the linked list, since all priorities before now have been\n",
        "          # smaller than the one we're trying to insert.\n",
        "          # TODO(you)\n",
        "        elif current.next.priority \u003e priority:\n",
        "          # Add to the linked list, since we've reached a priority value higher\n",
        "          # than the one we're trying to insert.\n",
        "          # TODO(you)\n",
        "        current = current.next\n",
        "```"
      ]
    },
    {
      "cell_type": "markdown",
      "metadata": {
        "id": "B7IDrMzuvNWJ"
      },
      "source": [
        "### Unit Tests\n",
        "\n",
        "Run the following cell to check your answer against some unit tests."
      ]
    },
    {
      "cell_type": "code",
      "execution_count": null,
      "metadata": {
        "id": "KCkxI55DFhfr"
      },
      "outputs": [],
      "source": [
        "pqueue = PriorityQueue()\n",
        "pqueue.enqueue(3, 10)\n",
        "pqueue.enqueue(4, 8)\n",
        "pqueue.enqueue(1, 2)\n",
        "\n",
        "print('The priority queue has length %d' % pqueue.length())\n",
        "# Should print: The priority queue has length 3\n",
        "\n",
        "print('The head element has priority %d, value %d' %\n",
        "      (pqueue.head.priority, pqueue.head.element))\n",
        "# Should print: The head element has priority 1, value 2\n",
        "\n",
        "print('The next element has priority %d, value %d' %\n",
        "      (pqueue.head.next.priority, pqueue.head.next.element))\n",
        "# Should print: The next element has priority 3, value 10\n",
        "\n",
        "print('The next element has priority %d, value %d' %\n",
        "      (pqueue.head.next.next.priority, pqueue.head.next.next.element))\n",
        "# Should print: The next element has priority 4, value 8"
      ]
    },
    {
      "cell_type": "markdown",
      "metadata": {
        "id": "3uPH7UW5vBd_"
      },
      "source": [
        "### Solution"
      ]
    },
    {
      "cell_type": "markdown",
      "metadata": {
        "id": "jffldVoQQxt6"
      },
      "source": [
        "This uses more code than an equivalent queue, but that's because we need to handle the special case of the second element not existing. Since we always check `current.next`, not having a second element would cause `current.next` to be `None`, which is not great."
      ]
    },
    {
      "cell_type": "code",
      "execution_count": null,
      "metadata": {
        "id": "4y5JxowfaGgd"
      },
      "outputs": [],
      "source": [
        "class ListNode:\n",
        "\n",
        "  def __init__(self, priority, element):\n",
        "    self.priority = priority\n",
        "    self.element = element\n",
        "    self.next = None\n",
        "\n",
        "\n",
        "class PriorityQueue:\n",
        "\n",
        "  def __init__(self):\n",
        "    self.head = None\n",
        "\n",
        "  def length(self):\n",
        "    count = 0\n",
        "    current = self.head\n",
        "    while current is not None:\n",
        "      count += 1\n",
        "      current = current.next\n",
        "    return count\n",
        "\n",
        "  def enqueue(self, priority, element):\n",
        "    if self.head is None:\n",
        "      # If the current head is None, enqueue the element and return.\n",
        "      self.head = ListNode(priority, element)\n",
        "      return\n",
        "    elif self.head.priority \u003e priority:\n",
        "      # Add a special case for if the new element should replace the head.\n",
        "      new_head = ListNode(priority, element)\n",
        "      new_head.next = self.head \n",
        "      self.head = new_head\n",
        "    else:\n",
        "      current = self.head\n",
        "      while current is not None:\n",
        "        if current.next is None:\n",
        "          # Add to the linked list, since all priorities before now have been\n",
        "          # smaller than the one we're trying to insert.\n",
        "          current.next = ListNode(priority, element)\n",
        "          return\n",
        "        elif current.next.priority \u003e priority:\n",
        "          # Add to the linked list, since we've reached a priority value higher\n",
        "          # than the one we're trying to insert.\n",
        "          new_next = ListNode(priority, element)\n",
        "          new_next.next = current.next\n",
        "          current.next = new_next\n",
        "          return\n",
        "        current = current.next"
      ]
    },
    {
      "cell_type": "markdown",
      "metadata": {
        "id": "Ni39gNUeYjgl"
      },
      "source": [
        "## Question 4"
      ]
    },
    {
      "cell_type": "markdown",
      "metadata": {
        "id": "kCQ3L40QQN4U"
      },
      "source": [
        "Now write a `dequeue()` function for the same priority queue."
      ]
    },
    {
      "cell_type": "code",
      "execution_count": null,
      "metadata": {
        "id": "Wi_vQAYHFZR4"
      },
      "outputs": [],
      "source": [
        "class ListNode:\n",
        "\n",
        "  def __init__(self, priority, element):\n",
        "    self.priority = priority\n",
        "    self.element = element\n",
        "    self.next = None\n",
        "\n",
        "\n",
        "class PriorityQueue:\n",
        "\n",
        "  def __init__(self):\n",
        "    self.head = None\n",
        "\n",
        "  def length(self):\n",
        "    count = 0\n",
        "    current = self.head\n",
        "    while current is not None:\n",
        "      count += 1\n",
        "      current = current.next\n",
        "    return count\n",
        "\n",
        "  def enqueue(self, priority, element):\n",
        "    if self.head is None:\n",
        "      # If the current head is None, enqueue the element and return.\n",
        "      self.head = ListNode(priority, element)\n",
        "      return\n",
        "    elif self.head.priority \u003e priority:\n",
        "      # Add a special case for if the new element should replace the head.\n",
        "      new_head = ListNode(priority, element)\n",
        "      new_head.next = self.head \n",
        "      self.head = new_head\n",
        "    else:\n",
        "      current = self.head\n",
        "      while current is not None:\n",
        "        if current.next is None:\n",
        "          # Add to the linked list, since all priorities before now have been\n",
        "          # smaller than the one we're trying to insert.\n",
        "          current.next = ListNode(priority, element)\n",
        "          return\n",
        "        elif current.next.priority \u003e priority:\n",
        "          # Add to the linked list, since we've reached a priority value higher\n",
        "          # than the one we're trying to insert.\n",
        "          new_next = ListNode(priority, element)\n",
        "          new_next.next = current.next\n",
        "          current.next = new_next\n",
        "          return\n",
        "        current = current.next\n",
        "\n",
        "  def dequeue(self):\n",
        "    # TODO(you): Implement\n",
        "    print('This method has not been implemented.')"
      ]
    },
    {
      "cell_type": "markdown",
      "metadata": {
        "id": "EGO4EgVUYjgm"
      },
      "source": [
        "### Unit Tests\n",
        "\n",
        "Run the following cell to check your answer against some unit tests."
      ]
    },
    {
      "cell_type": "code",
      "execution_count": null,
      "metadata": {
        "id": "3IKyDEQohvjO"
      },
      "outputs": [],
      "source": [
        "pqueue = PriorityQueue()\n",
        "pqueue.enqueue(3, 10)\n",
        "pqueue.enqueue(4, 8)\n",
        "pqueue.enqueue(1, 2)\n",
        "\n",
        "print(pqueue.dequeue())\n",
        "# Should print: 2\n",
        "\n",
        "print(pqueue.dequeue())\n",
        "# Should print: 10\n",
        "\n",
        "print(pqueue.dequeue())\n",
        "# Should print: 8"
      ]
    },
    {
      "cell_type": "markdown",
      "metadata": {
        "id": "L4R3ykRFYjgm"
      },
      "source": [
        "### Solution"
      ]
    },
    {
      "cell_type": "markdown",
      "metadata": {
        "id": "t4iBdoqXQ0Lm"
      },
      "source": [
        "`dequeue()` requires much less logic than `enqueue` and is essentially the same implementation as a standard queue."
      ]
    },
    {
      "cell_type": "code",
      "execution_count": null,
      "metadata": {
        "id": "yInAlLaMFwZT"
      },
      "outputs": [],
      "source": [
        "class ListNode:\n",
        "\n",
        "  def __init__(self, priority, element):\n",
        "    self.priority = priority\n",
        "    self.element = element\n",
        "    self.next = None\n",
        "\n",
        "\n",
        "class PriorityQueue:\n",
        "\n",
        "  def __init__(self):\n",
        "    self.head = None\n",
        "\n",
        "  def length(self):\n",
        "    count = 0\n",
        "    current = self.head\n",
        "    while current is not None:\n",
        "      count += 1\n",
        "      current = current.next\n",
        "    return count\n",
        "\n",
        "  def enqueue(self, priority, element):\n",
        "    if self.head is None:\n",
        "      # If the current head is None, enqueue the element and return.\n",
        "      self.head = ListNode(priority, element)\n",
        "      return\n",
        "    elif self.head.priority \u003e priority:\n",
        "      # Add a special case for if the new element should replace the head.\n",
        "      new_head = ListNode(priority, element)\n",
        "      new_head.next = self.head \n",
        "      self.head = new_head\n",
        "    else:\n",
        "      current = self.head\n",
        "      while current is not None:\n",
        "        if current.next is None:\n",
        "          # Add to the linked list, since all priorities before now have been\n",
        "          # smaller than the one we're trying to insert.\n",
        "          current.next = ListNode(priority, element)\n",
        "          return\n",
        "        elif current.next.priority \u003e priority:\n",
        "          # Add to the linked list, since we've reached a priority value higher\n",
        "          # than the one we're trying to insert.\n",
        "          new_next = ListNode(priority, element)\n",
        "          new_next.next = current.next\n",
        "          current.next = new_next\n",
        "          return\n",
        "        current = current.next\n",
        "\n",
        "  def dequeue(self):\n",
        "    if self.head is None:\n",
        "      return None\n",
        "    result = self.head.element\n",
        "    self.head = self.head.next\n",
        "    return result"
      ]
    },
    {
      "cell_type": "markdown",
      "metadata": {
        "id": "gGe7C4bsYkCA"
      },
      "source": [
        "## Question 5"
      ]
    },
    {
      "cell_type": "markdown",
      "metadata": {
        "id": "sRDabh74QPKq"
      },
      "source": [
        "Now that you've seen how a linked list-backed priority queue works, let's see how a list-backed implementation looks.\n",
        "\n",
        "The `PriorityQueueElement` class can store an `element` and a `priority`, and provides the `get_priority()` and `get_element()` functions, should you need those. The `element_list` of a `PriorityQueue` should include the `PriorityQueueElement` type."
      ]
    },
    {
      "cell_type": "code",
      "execution_count": null,
      "metadata": {
        "id": "dEZtbyOiik-K"
      },
      "outputs": [],
      "source": [
        "class PriorityQueueElement:\n",
        "\n",
        "  def __init__(self, priority, element):\n",
        "    self.priority = priority\n",
        "    self.element = element\n",
        "\n",
        "  def get_element(self):\n",
        "    return self.element\n",
        "  \n",
        "  def get_priority(self):\n",
        "    return self.priority\n",
        "\n",
        "  # Python 3 requires comparators to be explicitly implemented. This allows us\n",
        "  # to easily sort members of the PriorityQueueElement class by priority. See\n",
        "  # https://portingguide.readthedocs.io/en/latest/comparisons.html.\n",
        "  def __eq__(self, other):\n",
        "    return (self.priority == other.priority)\n",
        "\n",
        "  def __ne__(self, other):\n",
        "    return (self.priority != other.priority)\n",
        "\n",
        "  def __lt__(self, other):\n",
        "    return (self.priority \u003c other.priority)\n",
        "\n",
        "  def __le__(self, other):\n",
        "    return (self.priority \u003c= other.priority)\n",
        "\n",
        "  def __gt__(self, other):\n",
        "    return (self.priority \u003e other.priority)\n",
        "\n",
        "  def __ge__(self, other):\n",
        "    return (self.priority \u003e= other.priority)"
      ]
    },
    {
      "cell_type": "code",
      "execution_count": null,
      "metadata": {
        "id": "wFTzKKOTi2BC"
      },
      "outputs": [],
      "source": [
        "class PriorityQueue:\n",
        "\n",
        "  def __init__(self):\n",
        "    self.element_list = []\n",
        "\n",
        "  def length(self):\n",
        "    return len(self.element_list)\n",
        "\n",
        "  def enqueue(self, element):\n",
        "    self.element_list.append(element)\n",
        "    self.element_list.sort()\n",
        "\n",
        "  def dequeue(self):\n",
        "    if len(self.element_list) == 0:\n",
        "      return None\n",
        "    result = self.element_list[0].get_element()\n",
        "    # There are many ways to remove the first element; this is just a quick one.\n",
        "    self.element_list = self.element_list[1:]\n",
        "    return result"
      ]
    },
    {
      "cell_type": "markdown",
      "metadata": {
        "id": "lgEL0AYCGEEU"
      },
      "source": [
        "Compare and contrast a list-backed priority queue and a linked list-backed priority queue. Can you provide at least one pro and one con for each?"
      ]
    },
    {
      "cell_type": "code",
      "execution_count": null,
      "metadata": {
        "id": "Ut7qtkf6F9aB"
      },
      "outputs": [],
      "source": [
        "#freetext"
      ]
    },
    {
      "cell_type": "markdown",
      "metadata": {
        "id": "OjYARPpOYkCB"
      },
      "source": [
        "### Solution"
      ]
    },
    {
      "cell_type": "markdown",
      "metadata": {
        "id": "ooyZvQHYQ4Hg"
      },
      "source": [
        "Just looking at the code shows us one major difference: list-backed priority queues can have much shorter `enqueue()` methods, and linked list-backed priority queues have similarly shorter `dequeue()` methods. In practice, list-backed priority queues tend to be less efficient since they require you to continually copy the `element_list`. This process can be costly, especially for longer lists. You also have to search through the list for the correct priority every time. Even sorting, at that point, is expensive. The major disadvantage to using a linked list-backed priority queue is that it's significantly more difficult to write. It will require more developer time to develop and be more challenging to maintain."
      ]
    },
    {
      "cell_type": "markdown",
      "metadata": {
        "id": "7gIH5yfKYyRC"
      },
      "source": [
        "## Question 6"
      ]
    },
    {
      "cell_type": "markdown",
      "metadata": {
        "id": "rKJhnb3LS5hq"
      },
      "source": [
        "A coworker has been working on a map-backed implementation of a priority queue and needs your help. For reference, a map-backed priority queue usually uses the priority as a key and keeps the elements with the same priority in its values. Currently, their `dequeue()` method isn't returning all of the queue's elements, and they're worried that there's a problem with their `enqueue()` method. Can you identify and fix the issues?"
      ]
    },
    {
      "cell_type": "code",
      "execution_count": null,
      "metadata": {
        "id": "LaAfsEmhc_8H"
      },
      "outputs": [],
      "source": [
        "class PriorityQueueElement:\n",
        "\n",
        "  def __init__(self, priority, element):\n",
        "    self.priority = priority\n",
        "    self.element = element\n",
        "\n",
        "  def get_element(self):\n",
        "    return self.element\n",
        "\n",
        "  def get_priority(self):\n",
        "    return self.priority"
      ]
    },
    {
      "cell_type": "code",
      "execution_count": null,
      "metadata": {
        "id": "3jHgE_GGdGMV"
      },
      "outputs": [],
      "source": [
        "class PriorityQueue:\n",
        "\n",
        "  def __init__(self):\n",
        "    self.element_map = {}\n",
        "\n",
        "  def length(self):\n",
        "    return len(self.element_map.keys())\n",
        "\n",
        "  def enqueue(self, priority, element):\n",
        "    self.element_map[priority] = PriorityQueueElement(priority, element)"
      ]
    },
    {
      "cell_type": "markdown",
      "metadata": {
        "id": "0KbMn9VWYyRD"
      },
      "source": [
        "### Solution"
      ]
    },
    {
      "cell_type": "markdown",
      "metadata": {
        "id": "OA3uJ0YsTE0t"
      },
      "source": [
        "This is a fairly major issue: `self.element_map` isn't defined the way it should be. It should map from an integer priority to a *list* of elements with the same priority, not just one element. Currently, the priority queue is discarding earlier elements with the same priority when a new one arrives. \n",
        "\n",
        "To fix this issue, we need to account for two cases: one when the incoming priority is new, and one when it already exists in the map."
      ]
    },
    {
      "cell_type": "code",
      "execution_count": null,
      "metadata": {
        "id": "BBuFi3SOdXGv"
      },
      "outputs": [],
      "source": [
        "class PriorityQueue:\n",
        "\n",
        "  def __init__(self):\n",
        "    self.element_map = {}\n",
        "\n",
        "  def length(self):\n",
        "    return len(self.element_map.keys())\n",
        "\n",
        "  def enqueue(self, priority, element):\n",
        "    if priority not in self.element_map:\n",
        "      self.element_map[priority] = []\n",
        "    self.element_map[priority].append(PriorityQueueElement(priority, element))"
      ]
    },
    {
      "cell_type": "markdown",
      "metadata": {
        "id": "dvpMVasMY1kf"
      },
      "source": [
        "## Question 7"
      ]
    },
    {
      "cell_type": "markdown",
      "metadata": {
        "id": "FsejNkxoS2zt"
      },
      "source": [
        "After pointing out the errors to your colleague, they notice that changing their `enqueue` method has highlighted some problems with their `dequeue` method as well. Can you help them fix it?"
      ]
    },
    {
      "cell_type": "code",
      "execution_count": null,
      "metadata": {
        "id": "yM8LGzNBGhU3"
      },
      "outputs": [],
      "source": [
        "class PriorityQueueElement:\n",
        "\n",
        "  def __init__(self, priority, element):\n",
        "    self.priority = priority\n",
        "    self.element = element\n",
        "\n",
        "  def get_element(self):\n",
        "    return self.element\n",
        "\n",
        "  def get_priority(self):\n",
        "    return self.priority"
      ]
    },
    {
      "cell_type": "code",
      "execution_count": null,
      "metadata": {
        "id": "IN-ThZD5dQ7b"
      },
      "outputs": [],
      "source": [
        "class PriorityQueue:\n",
        "\n",
        "  def __init__(self):\n",
        "    self.element_map = {}\n",
        "\n",
        "  def length(self):\n",
        "    return len(self.element_map.keys())\n",
        "\n",
        "  def get_lowest_priority(self):\n",
        "    # This helper method gets the lowest priority value of the map's keys.\n",
        "    lowest_priority = float('inf')\n",
        "    for key in self.element_map.keys():\n",
        "      if key \u003c lowest_priority:\n",
        "        lowest_priority = key\n",
        "    return lowest_priority\n",
        "\n",
        "  def enqueue(self, priority, element):\n",
        "    if priority not in self.element_map:\n",
        "      self.element_map[priority] = []\n",
        "    self.element_map[priority].append(PriorityQueueElement(priority, element))\n",
        "\n",
        "  def dequeue(self):\n",
        "    priority = self.get_lowest_priority()\n",
        "    return self.element_map[priority]"
      ]
    },
    {
      "cell_type": "markdown",
      "metadata": {
        "id": "_MOz-lEEnCsa"
      },
      "source": [
        "### Unit Tests\n",
        "\n",
        "Run the following cell to check your answer against some unit tests."
      ]
    },
    {
      "cell_type": "code",
      "execution_count": null,
      "metadata": {
        "id": "uMWcDZktnFUW"
      },
      "outputs": [],
      "source": [
        "pqueue = PriorityQueue()\n",
        "pqueue.enqueue(3, 10)\n",
        "pqueue.enqueue(1, 8)\n",
        "pqueue.enqueue(1, 2)\n",
        "\n",
        "priority_one_elements = []\n",
        "priority_one_elements.append(pqueue.dequeue().get_element())\n",
        "priority_one_elements.append(pqueue.dequeue().get_element())\n",
        "priority_one_elements.sort()\n",
        "print(priority_one_elements)\n",
        "# Should print: [2, 8]\n",
        "\n",
        "print(pqueue.dequeue().get_element())\n",
        "# Should print: 10"
      ]
    },
    {
      "cell_type": "markdown",
      "metadata": {
        "id": "DiioY-8AY1kg"
      },
      "source": [
        "### Solution"
      ]
    },
    {
      "cell_type": "markdown",
      "metadata": {
        "id": "9qR2Ny4NSB9K"
      },
      "source": [
        "Given that `enqueue` was only keeping one element, returning whatever the element stored there would make sense for `dequeue`. Since we've already fixed `enqueue`, however, it no longer makes sense for `dequeue` to return just one element. We can use what we've learned from list-backed priority queues to help us here:"
      ]
    },
    {
      "cell_type": "code",
      "execution_count": null,
      "metadata": {
        "id": "n0ozroZnddkj"
      },
      "outputs": [],
      "source": [
        "class PriorityQueue:\n",
        "\n",
        "  def __init__(self):\n",
        "    self.element_map = {}\n",
        "\n",
        "  def length(self):\n",
        "    return len(self.element_map.keys())\n",
        "\n",
        "  def enqueue(self, priority, element):\n",
        "    if priority not in self.element_map:\n",
        "      self.element_map[priority] = []\n",
        "    self.element_map[priority].append(PriorityQueueElement(priority, element))\n",
        "\n",
        "  def get_lowest_priority(self):\n",
        "    # This helper method gets the lowest priority value of the map's keys.\n",
        "    lowest_priority = float('inf')\n",
        "    for key in self.element_map.keys():\n",
        "      if key \u003c lowest_priority:\n",
        "        lowest_priority = key\n",
        "    return lowest_priority\n",
        "\n",
        "  def dequeue(self):\n",
        "    priority = self.get_lowest_priority()\n",
        "    result = self.element_map[priority][0]\n",
        "    # Like the list-backed version, we should remove the returned element.\n",
        "    self.element_map[priority] = self.element_map[priority][1:]\n",
        "    return result"
      ]
    },
    {
      "cell_type": "markdown",
      "metadata": {
        "id": "Ia-ZH-C7dk9k"
      },
      "source": [
        "This implementation *seems* correct, but there's one thing we're missing. If we remove the last element from an array at `element_map[priority]`, the priority still exists in the map and points to an empty array. That could cause problems in `get_lowest_priority()`. To be safe, we should do one more check to see if there are no more elements in that array, and if so, we should remove it from the map with the `del` keyword:"
      ]
    },
    {
      "cell_type": "code",
      "execution_count": null,
      "metadata": {
        "id": "RDLg7tz6dqBp"
      },
      "outputs": [],
      "source": [
        "class PriorityQueue:\n",
        "\n",
        "  def __init__(self):\n",
        "    self.element_map = {}\n",
        "\n",
        "  def length(self):\n",
        "    return len(self.element_map.keys())\n",
        "\n",
        "  def enqueue(self, priority, element):\n",
        "    if priority not in self.element_map:\n",
        "      self.element_map[priority] = []\n",
        "    self.element_map[priority].append(PriorityQueueElement(priority, element))\n",
        "\n",
        "  def get_lowest_priority(self):\n",
        "    # This helper method gets the lowest priority value of the map's keys.\n",
        "    lowest_priority = float('inf')\n",
        "    for key in self.element_map.keys():\n",
        "      if key \u003c lowest_priority:\n",
        "        lowest_priority = key\n",
        "    return lowest_priority\n",
        "\n",
        "  def dequeue(self):\n",
        "    priority = self.get_lowest_priority()\n",
        "    result = self.element_map[priority][0]\n",
        "    # Like the list-backed version, we should remove the returned element.\n",
        "    self.element_map[priority] = self.element_map[priority][1:]\n",
        "\n",
        "    if len(self.element_map[priority]) == 0:\n",
        "        # This method removes the key if in the map.\n",
        "        del self.element_map[priority]\n",
        "\n",
        "    return result"
      ]
    }
  ],
  "metadata": {
    "colab": {
      "collapsed_sections": [
        "QhV2C_VsBHmy",
        "4TPejNLjZMde",
        "B7IDrMzuvNWJ",
        "3uPH7UW5vBd_",
        "EGO4EgVUYjgm",
        "L4R3ykRFYjgm",
        "OjYARPpOYkCB",
        "0KbMn9VWYyRD",
        "_MOz-lEEnCsa",
        "DiioY-8AY1kg"
      ],
      "name": "priority_queues.ipynb",
      "provenance": [ ]
    },
    "kernelspec": {
      "display_name": "Python 3",
      "name": "python3"
    }
  },
  "nbformat": 4,
  "nbformat_minor": 0
}
