{
  "cells": [
    {
      "cell_type": "markdown",
      "metadata": {
        "id": "Pic8r3n4AWWu"
      },
      "source": [
        "# Choosing the Appropriate Data Structure"
      ]
    },
    {
      "cell_type": "markdown",
      "metadata": {
        "id": "CgcHrDhRKWbL"
      },
      "source": [
        "## Lesson Overview"
      ]
    },
    {
      "cell_type": "markdown",
      "metadata": {
        "id": "40klIjfB3g0H"
      },
      "source": [
        "When working with data, there are a variety of different data structures available to organize, store, and easily retrieve information, depending on your needs as a developer:\n",
        "\n",
        "*   Arrays\n",
        "*   Sets\n",
        "*   Classes\n",
        "*   Maps\n",
        "*   Linked lists\n",
        "*   Doubly linked lists\n",
        "*   Stacks\n",
        "*   Queues\n",
        "*   Priority queues"
      ]
    },
    {
      "cell_type": "markdown",
      "metadata": {
        "id": "rJBXs_kYCvkj"
      },
      "source": [
        "With so many options, it can often be challenging to determine which data structure is most appropriate for your use case. To decide, you will likely need two pieces of information:\n",
        "\n",
        "*   What are my data being used for currently?\n",
        "*   What will my data be used for in the future?"
      ]
    },
    {
      "cell_type": "markdown",
      "metadata": {
        "id": "ji37XIWHC0Ji"
      },
      "source": [
        "### Choosing a data structure based on current data"
      ]
    },
    {
      "cell_type": "markdown",
      "metadata": {
        "id": "hK9ZGaugk9bv"
      },
      "source": [
        "Let's say you have data telling you how many restaurants got a certain number of stars from user ratings (0 for worst, 5 for best). "
      ]
    },
    {
      "cell_type": "markdown",
      "metadata": {
        "id": "SaeMlVU_DA1o"
      },
      "source": [
        "The following ordered pairs represent (*star rating*, *number of restaurants*).\n",
        "\n",
        "```python\n",
        "(0, 2), (1, 4), (2, 5), (3, 6), (4, 10), (5, 6)\n",
        "```\n",
        "\n",
        "Your natural instinct may be to put the data in a list of length 6, since there are six elements (2, 4, 5, 6, 10, and 6), and each one has a numerical index associated with it."
      ]
    },
    {
      "cell_type": "code",
      "execution_count": null,
      "metadata": {
        "id": "mWUeFxBG8bix"
      },
      "outputs": [],
      "source": [
        "list_data = [2, 4, 5, 6, 10, 6]"
      ]
    },
    {
      "cell_type": "markdown",
      "metadata": {
        "id": "gC_w2nINDYGV"
      },
      "source": [
        "Now, if you want the number of restaurants with 4 stars, you can run the following code. "
      ]
    },
    {
      "cell_type": "code",
      "execution_count": null,
      "metadata": {
        "id": "ObYNOcovDomp"
      },
      "outputs": [],
      "source": [
        "#static \n",
        "list_data[4]"
      ]
    },
    {
      "cell_type": "markdown",
      "metadata": {
        "id": "mxz5QVxiFSNH"
      },
      "source": [
        "### Choosing a data structure based on future data"
      ]
    },
    {
      "cell_type": "markdown",
      "metadata": {
        "id": "PbFr4cvKjzvR"
      },
      "source": [
        "Let's look at a new list and see how adding new data to that list may change the best data structure for our use case."
      ]
    },
    {
      "cell_type": "markdown",
      "metadata": {
        "id": "7PTNuWv9jVGA"
      },
      "source": [
        "Let's say, instead of storing star ratings for restaurants, you want to keep student ID numbers, and suppose you're tracking how many days of class each student has missed.\n",
        "\n",
        "```python\n",
        "(0, 2), (1, 4), (2, 5), (3, 6), (4, 10), (5, 6)\n",
        "```\n",
        "\n",
        "We can represent that as a list, still:"
      ]
    },
    {
      "cell_type": "code",
      "execution_count": null,
      "metadata": {
        "id": "wjJsXnFgQWSw"
      },
      "outputs": [],
      "source": [
        "list_data = [2, 4, 5, 6, 10, 6]"
      ]
    },
    {
      "cell_type": "markdown",
      "metadata": {
        "id": "NLgLpisgQNCM"
      },
      "source": [
        "We now need to think about the *future* use of our data. What happens when we add some students with IDs 25 and 36? How does that change your data?\n",
        "\n",
        "```python\n",
        "(0, 2), (1, 4), (2, 5), (3, 6), (4, 10), (5, 6), (25, 21), (36, 15)\n",
        "```\n",
        "\n",
        "Now, you have 8 total students with IDs 0, 1, 2, 3, 4, 5, 25, 36. You could still use a list to store these data, where the index corresponds to the ID and the value is the number of absences. But you're going to have large segments of your list go unfilled, which may be a waste of memory."
      ]
    },
    {
      "cell_type": "code",
      "execution_count": null,
      "metadata": {
        "id": "f06WAWiHja2A"
      },
      "outputs": [],
      "source": [
        "list_data = [2, 4, 5, 6, 10, 6, 0, 0, 0, 0, 0, 0, 0, 0, 0, 0, 0, 0, 0, 0, 0, 0,\n",
        "             0, 0, 0, 21, 0, 0, 0, 0, 0, 0, 0, 0, 0, 0, 15]"
      ]
    },
    {
      "cell_type": "markdown",
      "metadata": {
        "id": "WKn3jnUsjpdc"
      },
      "source": [
        "In this case, a map would more appropriate for the data you have, as you no longer have to store a bunch of zeroes."
      ]
    },
    {
      "cell_type": "code",
      "execution_count": null,
      "metadata": {
        "id": "N-UukiMnjsLV"
      },
      "outputs": [],
      "source": [
        "map_data = {}\n",
        "map_data[0] = 2\n",
        "map_data[1] = 4\n",
        "map_data[2] = 5\n",
        "map_data[3] = 6\n",
        "map_data[4] = 10\n",
        "map_data[5] = 6\n",
        "map_data[25] = 21\n",
        "map_data[36] = 15"
      ]
    },
    {
      "cell_type": "markdown",
      "metadata": {
        "id": "eJ7aAcjqRJPZ"
      },
      "source": [
        "With typical star ratings, you are limited to a range of numbers between 0 and 5. Student IDs may not be consecutive, so in order to accommodate the format of that data (nonconsecutive integers vs. consecutive integers), you may want to use a different data structure."
      ]
    },
    {
      "cell_type": "markdown",
      "metadata": {
        "id": "gMKjezuVFbSm"
      },
      "source": [
        "There are plenty of other ways that future needs can inform your choice of data structure:\n",
        "\n",
        "*   If we expect that we will add data for indices 6-24 and 26-35, a list would be appropriate, since we will no longer be wasting that empty space.\n",
        "\n",
        "*   If we expect to keep adding elements with no guarantee of which numbers will appear, a map may be more appropriate.\n",
        "\n",
        "*   If we expect that we'll be assigning more than one value to each index, we may have to change our strategy entirely! Consider the example of star ratings for restaurants. Suppose we decide that our goal is now to track trends in star ratings over time. We may want to add additional information for star ratings year-by-year, and our data points will eventually look like (*star rating*, [*year 1*, *year 2*, *year 3*]). A map from integers to a list of values would likely be most appropriate for this new data need."
      ]
    },
    {
      "cell_type": "markdown",
      "metadata": {
        "id": "MJZ0dSJREE8W"
      },
      "source": [
        "## Question 1"
      ]
    },
    {
      "cell_type": "markdown",
      "metadata": {
        "id": "xiYBdH2aEu7o"
      },
      "source": [
        "Which *one* of the following data structures can be defined as an *unordered collection of unique objects*?"
      ]
    },
    {
      "cell_type": "markdown",
      "metadata": {
        "id": "yvCQ9vWh8Ytv"
      },
      "source": [
        "**a)** Array\n",
        "\n",
        "**b)** Set\n",
        "\n",
        "**c)** Class\n",
        "\n",
        "**d)** Map\n",
        "\n",
        "**e)** Linked list"
      ]
    },
    {
      "cell_type": "markdown",
      "metadata": {
        "id": "K812Pm-n8ZpP"
      },
      "source": [
        "### Solution"
      ]
    },
    {
      "cell_type": "markdown",
      "metadata": {
        "id": "ynQBtIT-8ab_"
      },
      "source": [
        "The correct answer is **b)**."
      ]
    },
    {
      "cell_type": "markdown",
      "metadata": {
        "id": "0woHkp-FEyPQ"
      },
      "source": [
        "## Question 2"
      ]
    },
    {
      "cell_type": "markdown",
      "metadata": {
        "id": "WTye4vN8EyPR"
      },
      "source": [
        "Which *one* of the following data structures stores key-value pairs?"
      ]
    },
    {
      "cell_type": "markdown",
      "metadata": {
        "id": "KHwemx_H8uIQ"
      },
      "source": [
        "**a)** Array\n",
        "\n",
        "**b)** Set\n",
        "\n",
        "**c)** Class\n",
        "\n",
        "**d)** Map\n",
        "\n",
        "**e)** Linked list"
      ]
    },
    {
      "cell_type": "markdown",
      "metadata": {
        "id": "i12y3LtO8umR"
      },
      "source": [
        "### Solution"
      ]
    },
    {
      "cell_type": "markdown",
      "metadata": {
        "id": "RmRV0iML8vYh"
      },
      "source": [
        "The correct answer is **d)**."
      ]
    },
    {
      "cell_type": "markdown",
      "metadata": {
        "id": "QbU7lQyiE82y"
      },
      "source": [
        "## Question 3"
      ]
    },
    {
      "cell_type": "markdown",
      "metadata": {
        "id": "ENghVaFkE82y"
      },
      "source": [
        "Which of the following data structures can be constructed using only a linked list? There may be more than one correct response."
      ]
    },
    {
      "cell_type": "markdown",
      "metadata": {
        "id": "XoOywqYC87dD"
      },
      "source": [
        "**a)** Array\n",
        "\n",
        "**b)** Set\n",
        "\n",
        "**c)** Class\n",
        "\n",
        "**d)** Map\n",
        "\n",
        "**e)** Doubly linked list\n",
        "\n",
        "**f)** Stack\n",
        "\n",
        "**g)** Queue"
      ]
    },
    {
      "cell_type": "markdown",
      "metadata": {
        "id": "7cCUrT8r877z"
      },
      "source": [
        "### Solution"
      ]
    },
    {
      "cell_type": "markdown",
      "metadata": {
        "id": "p8r4Fh8c9HtU"
      },
      "source": [
        "The correct answers are **f)** and **g)**.\n",
        "\n",
        "**a)** An important feature of an array is that elements can be accessed, inserted, and removed based on index. Linked lists do not have indices.\n",
        "\n",
        "**b)** Sets are unordered, whereas linked lists are ordered (not by index but by linking).\n",
        "\n",
        "**c)** Classes have attributes, which are not ordered like a linked list's elements.\n",
        "\n",
        "**d)** Maps are unordered, whereas linked lists are ordered (not by index but by linking). Moreover, each element of a map contains a key and a value, and a linked list alone does not support this.\n",
        "\n",
        "**e)** A doubly linked list holds more information than a linked list (namely each element has a previous node as well as a next node), so a linked list alone does not suffice."
      ]
    },
    {
      "cell_type": "markdown",
      "metadata": {
        "id": "JwhhHVRXGbAk"
      },
      "source": [
        "## Question 4"
      ]
    },
    {
      "cell_type": "markdown",
      "metadata": {
        "id": "kQ1xp1RcGbAk"
      },
      "source": [
        "You want to keep a running tally of the number of goals scored by each of 32 teams in a league. Which *one* of the following data structures would be the best choice to store these data, given that you want to have all of the information stored in the same data structure?"
      ]
    },
    {
      "cell_type": "markdown",
      "metadata": {
        "id": "pbwViCni9zZp"
      },
      "source": [
        "**a)** Array\n",
        "\n",
        "**b)** Set\n",
        "\n",
        "**c)** Class\n",
        "\n",
        "**d)** Map\n",
        "\n",
        "**e)** Linked list"
      ]
    },
    {
      "cell_type": "markdown",
      "metadata": {
        "id": "0AHeLJRw90M4"
      },
      "source": [
        "### Solution"
      ]
    },
    {
      "cell_type": "markdown",
      "metadata": {
        "id": "8LKhjRRY91CJ"
      },
      "source": [
        "The correct answer is **d)**.\n",
        "\n",
        "**a)** This could technically be ok if each team were assigned a unique numeric index (from 0 to 31), and the value at each index were the number of goals scored by that team. However, this requires an extra assignment of team to index that would not be required if the team's name could be stored in the data structure, which could be accomplished with a different data structure.\n",
        "\n",
        "**b)** Sets are unordered, so once a number is added to a set it is impossible to know to which team that number corresponds.\n",
        "\n",
        "**c)** A class stores attributes and methods, not data points.\n",
        "\n",
        "**e)** This is theoretically possible, but would require some significant over-engineering. Furthermore, there is no canonical \"linking\" from one team to another."
      ]
    },
    {
      "cell_type": "markdown",
      "metadata": {
        "id": "rkBYWH-sMY7c"
      },
      "source": [
        "## Question 5"
      ]
    },
    {
      "cell_type": "markdown",
      "metadata": {
        "id": "-_dMDmONMaQw"
      },
      "source": [
        "It's time to play your all-time favorite game, Guess That Data Structure! You've been allowed to ask data structures questions based on their properties, and now you need to correctly identify them based on their answers.\n",
        "\n",
        "Here are the six data structures:\n",
        "\n",
        "*   Arrays\n",
        "*   Sets\n",
        "*   Maps\n",
        "*   Linked lists\n",
        "*   Doubly linked lists\n",
        "*   Queues"
      ]
    },
    {
      "cell_type": "markdown",
      "metadata": {
        "id": "e7T-G0UeGdWj"
      },
      "source": [
        "And here are your questions and their responses:\n",
        "\n",
        "*Can you access a value by index?*\n",
        "\n",
        "- DS1: No, I do not have indices.\n",
        "- DS2: No, I do not have indices.\n",
        "- DS3: Yes, of course I can!\n",
        "- DS4: No, I do not have indices.\n",
        "- DS5: Yes, in a way. I don't call them indices, but I suppose they function the same way.\n",
        "- DS6: No, I do not have indices.\n",
        "\n",
        "*Say you have 10 elements. Can you delete the information of any of those elements without deleting the information of the other 9?*\n",
        "\n",
        "- DS1: Yes, of course I can!\n",
        "- DS2: Yes, of course I can!\n",
        "- DS3: Yes, of course I can!\n",
        "- DS4: Yes, of course I can!\n",
        "- DS5: Yes, of course I can!\n",
        "- DS6: No, unfortunately I am not built for that.\n",
        "\n",
        "*Can you insert a new element at any position?*\n",
        "\n",
        "- DS1: Yes, of course I can!\n",
        "- DS2: That question doesn't quite make sense to me.\n",
        "- DS3: Yes, of course I can!\n",
        "- DS4: Yes, of course I can!\n",
        "- DS5: That question doesn't quite make sense to me.\n",
        "- DS6: No, unfortunately I am not built for that.\n",
        "\n",
        "*Do you have a natural ordering?*\n",
        "\n",
        "- DS1: Yes I do!\n",
        "- DS2: No. (And this is why the previous question didn't quite make sense to me.)\n",
        "- DS3: Yes I do!\n",
        "- DS4: Yes I do!\n",
        "- DS5: No. (And this is why the previous question didn't quite make sense to me.)\n",
        "- DS6: Yes I do!\n",
        "\n",
        "*Can you iterate?*\n",
        "\n",
        "- DS1: Yes, of course I can!\n",
        "- DS2: Yes, of course I can!\n",
        "- DS3: Yes, of course I can!\n",
        "- DS4: Yes, of course I can!\n",
        "- DS5: Yes, of course I can!\n",
        "- DS6: Yes, of course I can!\n",
        "\n",
        "*But can you iterate backwards?*\n",
        "\n",
        "- DS1: No, unfortunately I am not built for that.\n",
        "- DS2: As I said, I do not have an ordering, so \"fowards\" and \"backwards\" mean nothing to me.\n",
        "- DS3: Yes, of course I can!\n",
        "- DS4: Yes, of course I can! (In fact, that's one of my best qualities!)\n",
        "- DS5: As I said, I do not have an ordering, so \"fowards\" and \"backwards\" mean nothing to me.\n",
        "- DS6: No, unfortunately I am not built for that."
      ]
    },
    {
      "cell_type": "code",
      "execution_count": null,
      "metadata": {
        "id": "vGZsLNQBHJBS"
      },
      "outputs": [],
      "source": [
        "#freetext"
      ]
    },
    {
      "cell_type": "markdown",
      "metadata": {
        "id": "gmBareUDN-qf"
      },
      "source": [
        "### Solution\n",
        "\n"
      ]
    },
    {
      "cell_type": "markdown",
      "metadata": {
        "id": "i3Nn68OSQvRL"
      },
      "source": [
        "DS number | DS name\n",
        "--- | ---\n",
        "DS1 | Linked lists\n",
        "DS2 | Sets\n",
        "DS3 | Arrays\n",
        "DS4 | Doubly linked lists\n",
        "DS5 | Maps\n",
        "DS6 | Queues"
      ]
    },
    {
      "cell_type": "markdown",
      "metadata": {
        "id": "m23T12pTnOgR"
      },
      "source": [
        "## Question 6"
      ]
    },
    {
      "cell_type": "markdown",
      "metadata": {
        "id": "7_LZEALrpHbF"
      },
      "source": [
        "Write a class that stores the temperature for each day of the week, for a given week."
      ]
    },
    {
      "cell_type": "code",
      "execution_count": null,
      "metadata": {
        "id": "68gD5esLmoeT"
      },
      "outputs": [],
      "source": [
        "# This class should have some structure to store each day's temperature.\n",
        "class WeeklyTemp:\n",
        "\n",
        "  def __init__(self, monday_temp, tuesday_temp, wednesday_temp, thursday_temp,\n",
        "               friday_temp, saturday_temp, sunday_temp):\n",
        "    # TODO(you): Implement\n",
        "    print('This method has not been implemented.')"
      ]
    },
    {
      "cell_type": "markdown",
      "metadata": {
        "id": "OnPWx-junOvD"
      },
      "source": [
        "### Solution"
      ]
    },
    {
      "cell_type": "markdown",
      "metadata": {
        "id": "TTQh3LWMpzuM"
      },
      "source": [
        "This implementation stores the temperatures in a list."
      ]
    },
    {
      "cell_type": "code",
      "execution_count": null,
      "metadata": {
        "id": "xQGauykBm1N8"
      },
      "outputs": [],
      "source": [
        "class WeeklyTemp:\n",
        "\n",
        "  def __init__(self, monday_temp, tuesday_temp, wednesday_temp, thursday_temp,\n",
        "               friday_temp, saturday_temp, sunday_temp):\n",
        "    self.temperature_list = [monday_temp, tuesday_temp, wednesday_temp, \n",
        "                             thursday_temp, friday_temp, saturday_temp, \n",
        "                             sunday_temp]"
      ]
    },
    {
      "cell_type": "markdown",
      "metadata": {
        "id": "BkKauYyknA3r"
      },
      "source": [
        "You could also do this with a map, mapping from the day of the week (\"Sunday\", \"Monday\", etc.) to the temperature."
      ]
    },
    {
      "cell_type": "code",
      "execution_count": null,
      "metadata": {
        "id": "mf50l5ltm4eb"
      },
      "outputs": [],
      "source": [
        "class WeeklyTemp:\n",
        "\n",
        "  def __init__(self, monday_temp, tuesday_temp, wednesday_temp, thursday_temp,\n",
        "               friday_temp, saturday_temp, sunday_temp):\n",
        "    self.temperature_map = {\n",
        "        'Monday': monday_temp,\n",
        "        'Tuesday': tuesday_temp,\n",
        "        'Wednesday': wednesday_temp,\n",
        "        'Thursday': thursday_temp,\n",
        "        'Friday': friday_temp,\n",
        "        'Saturday': saturday_temp,\n",
        "        'Sunday': sunday_temp,\n",
        "    }"
      ]
    },
    {
      "cell_type": "markdown",
      "metadata": {
        "id": "TS8uW_brnTKE"
      },
      "source": [
        "## Question 7"
      ]
    },
    {
      "cell_type": "markdown",
      "metadata": {
        "id": "aR8Ih4LIpHfT"
      },
      "source": [
        "Write a method that returns the change in temperature for each day. How would this method change if you had chosen a different data structure to store a week's worth of temperatures?"
      ]
    },
    {
      "cell_type": "code",
      "execution_count": null,
      "metadata": {
        "id": "hbA0NIJjpjvW"
      },
      "outputs": [],
      "source": [
        "class WeeklyTemp:\n",
        "\n",
        "  def __init__(self, monday_temp, tuesday_temp, wednesday_temp, thursday_temp,\n",
        "               friday_temp, saturday_temp, sunday_temp):\n",
        "    # Copy either your answer or the provided solution \n",
        "    # from the previous question.\n",
        "    pass\n",
        "\n",
        "  def calculate_daily_temperature_changes(self):\n",
        "    # TODO(you): Implement\n",
        "    print('This method has not been implemented.')"
      ]
    },
    {
      "cell_type": "markdown",
      "metadata": {
        "id": "Owjo_7cfnTKE"
      },
      "source": [
        "### Unit Tests\n",
        "\n",
        "Run the following cell to check your answer against some unit tests."
      ]
    },
    {
      "cell_type": "markdown",
      "metadata": {
        "id": "tetGYGkTFJiy"
      },
      "source": [
        "There are a variety of ways you can output the result, here, but it should work something like this:"
      ]
    },
    {
      "cell_type": "code",
      "execution_count": null,
      "metadata": {
        "id": "c3bE8Ku8E07S"
      },
      "outputs": [],
      "source": [
        "weekly_temps = WeeklyTemp(80, 75, 74, 77, 85, 80, 71)\n",
        "print(weekly_temps.calculate_daily_temperature_changes())\n",
        "# Should print: [-5, -1, 3, 8, -5, -9] "
      ]
    },
    {
      "cell_type": "markdown",
      "metadata": {
        "id": "eSZGOLUgnTKF"
      },
      "source": [
        "### Solution"
      ]
    },
    {
      "cell_type": "markdown",
      "metadata": {
        "id": "ktyLne-fpzzz"
      },
      "source": [
        "Below is the implementation for a list-backed class."
      ]
    },
    {
      "cell_type": "code",
      "execution_count": null,
      "metadata": {
        "id": "Us3YgjfUpvHY"
      },
      "outputs": [],
      "source": [
        "class WeeklyTemp:\n",
        "\n",
        "  def __init__(self, monday_temp, tuesday_temp, wednesday_temp, thursday_temp,\n",
        "               friday_temp, saturday_temp, sunday_temp):\n",
        "    self.temperature_list = [monday_temp, tuesday_temp, wednesday_temp, \n",
        "                             thursday_temp, friday_temp, saturday_temp, \n",
        "                             sunday_temp]\n",
        "\n",
        "  def calculate_daily_temperature_changes(self):\n",
        "    result = []\n",
        "    for i in range(0, len(self.temperature_list) - 1):\n",
        "      result.append(self.temperature_list[i + 1] - self.temperature_list[i]) \n",
        "    return result"
      ]
    },
    {
      "cell_type": "markdown",
      "metadata": {
        "id": "lqoqmXv7p80V"
      },
      "source": [
        "You can also do this with a map, but it becomes more complicated. You can't easily iterate through a map with a `for` loop and get the dates in order, so you now have to do everything manually."
      ]
    },
    {
      "cell_type": "code",
      "execution_count": null,
      "metadata": {
        "id": "RCAkU-e_qBen"
      },
      "outputs": [],
      "source": [
        "class WeeklyTemp:\n",
        "\n",
        "  def __init__(self, monday_temp, tuesday_temp, wednesday_temp, thursday_temp,\n",
        "               friday_temp, saturday_temp, sunday_temp):\n",
        "    self.temperature_map = {\n",
        "        'Monday': monday_temp,\n",
        "        'Tuesday': tuesday_temp,\n",
        "        'Wednesday': wednesday_temp,\n",
        "        'Thursday': thursday_temp,\n",
        "        'Friday': friday_temp,\n",
        "        'Saturday': saturday_temp,\n",
        "        'Sunday': sunday_temp,\n",
        "    }\n",
        "\n",
        "  def calculate_daily_temperature_changes(self):\n",
        "    result = []\n",
        "    result.append(\n",
        "      self.temperature_map[\"Tuesday\"] - self.temperature_map[\"Monday\"])\n",
        "    result.append(\n",
        "      self.temperature_map[\"Wednesday\"] - self.temperature_map[\"Tuesday\"])\n",
        "    result.append(\n",
        "      self.temperature_map[\"Thursday\"] - self.temperature_map[\"Wednesday\"])\n",
        "    result.append(\n",
        "      self.temperature_map[\"Friday\"] - self.temperature_map[\"Thursday\"])\n",
        "    result.append(\n",
        "        self.temperature_map[\"Saturday\"] - self.temperature_map[\"Friday\"])\n",
        "    result.append(\n",
        "        self.temperature_map[\"Sunday\"] - self.temperature_map[\"Saturday\"])\n",
        "    return result"
      ]
    },
    {
      "cell_type": "markdown",
      "metadata": {
        "id": "F_IrTCYLqN_v"
      },
      "source": [
        "This is a good example of understanding the objective for your data before you build a data structure. For this use case, a list requires significantly less code to accomplish the same task as a map, so it may be easier to maintain this code long-term."
      ]
    },
    {
      "cell_type": "markdown",
      "metadata": {
        "id": "QLpDrb9onT6T"
      },
      "source": [
        "## Question 8"
      ]
    },
    {
      "cell_type": "markdown",
      "metadata": {
        "id": "g7ZsMQZ-pHjy"
      },
      "source": [
        "Reverse a list of elements using a data structure of your choice."
      ]
    },
    {
      "cell_type": "code",
      "execution_count": null,
      "metadata": {
        "id": "3GBIOQHJqWGF"
      },
      "outputs": [],
      "source": [
        "def reverse(item_list):\n",
        "  # TODO(you): Implement\n",
        "  print('This method has not been implemented.')"
      ]
    },
    {
      "cell_type": "markdown",
      "metadata": {
        "id": "Nhh7xJLhnT6T"
      },
      "source": [
        "### Unit Tests\n",
        "\n",
        "Run the following cell to check your answer against some unit tests."
      ]
    },
    {
      "cell_type": "code",
      "execution_count": null,
      "metadata": {
        "id": "2ku13RSzqZDx"
      },
      "outputs": [],
      "source": [
        "print(reverse([1, 3, 2, 4]))\n",
        "# Should print: [4, 2, 3, 1]"
      ]
    },
    {
      "cell_type": "markdown",
      "metadata": {
        "id": "7qx_fiJwnT6U"
      },
      "source": [
        "### Solution"
      ]
    },
    {
      "cell_type": "markdown",
      "metadata": {
        "id": "vJ-Fv9L6pz5S"
      },
      "source": [
        "This can be done with a stack (implemented in Python as a list), as below."
      ]
    },
    {
      "cell_type": "code",
      "execution_count": null,
      "metadata": {
        "id": "ko6OdtPaqkfg"
      },
      "outputs": [],
      "source": [
        "def reverse(item_list):\n",
        "  result = []\n",
        "  # Make a copy of item_list so as not to mutate the input list passed in.\n",
        "  item_stack = item_list.copy() \n",
        "  while len(item_stack) \u003e 0:\n",
        "    result.append(item_stack.pop())\n",
        "  return result"
      ]
    },
    {
      "cell_type": "markdown",
      "metadata": {
        "id": "tViEbSggTGvy"
      },
      "source": [
        "This can be also be done with a list, by using its built-in `insert` method:"
      ]
    },
    {
      "cell_type": "code",
      "execution_count": null,
      "metadata": {
        "id": "N5QtjQXFTGv0"
      },
      "outputs": [],
      "source": [
        "def reverse(item_list):\n",
        "  result = []\n",
        "  # Make a copy of item_list so as not to mutate the input list passed in.\n",
        "  copy_list = item_list.copy() \n",
        "  for i in range(len(copy_list)):\n",
        "    result.insert(0, copy_list[i])\n",
        "  return result"
      ]
    },
    {
      "cell_type": "markdown",
      "metadata": {
        "id": "SI1kXqssnUwH"
      },
      "source": [
        "## Question 9"
      ]
    },
    {
      "cell_type": "markdown",
      "metadata": {
        "id": "oxWPPiDDpHnr"
      },
      "source": [
        "Are there data structures that are particularly useful for reversing a list of elements? Are there data structures that make reversing a list of elements particularly difficult?"
      ]
    },
    {
      "cell_type": "code",
      "execution_count": null,
      "metadata": {
        "id": "ZsMFMpEzHRQ6"
      },
      "outputs": [],
      "source": [
        "#freetext"
      ]
    },
    {
      "cell_type": "markdown",
      "metadata": {
        "id": "lwZ81z9rnUwI"
      },
      "source": [
        "### Solution"
      ]
    },
    {
      "cell_type": "markdown",
      "metadata": {
        "id": "YuqjkAgJp0AZ"
      },
      "source": [
        "A stack is likely the optimal data structure for reversing a list of elements, though others can be used. Many languages allow arrays/lists to function as stacks or queues as needed. Python even offers a `reversed()` function that reverses the items in the provided object. It's possible (but complicated) to use two queues (can you think of how?), but beyond that most data structures aren't recommended. The worst choice is likely a map or set, since in some languages (including Python) you cannot consistently guarantee the order of elements when you iterate through them."
      ]
    },
    {
      "cell_type": "markdown",
      "metadata": {
        "id": "JKOyteU2nXLi"
      },
      "source": [
        "## Question 10"
      ]
    },
    {
      "cell_type": "markdown",
      "metadata": {
        "id": "vxJR3dERMDoY"
      },
      "source": [
        "Write a function that accepts a list of integers `int_list` as an input and returns a list of the unique elements (the list should not have any elements repeated). Retaining the same order as the input list is not required."
      ]
    },
    {
      "cell_type": "code",
      "execution_count": null,
      "metadata": {
        "id": "RuPfBIJmsf7l"
      },
      "outputs": [],
      "source": [
        "def get_unique_elements(int_list):\n",
        "  \"\"\"Return the unique elements in int_list.\"\"\"\n",
        "  # TODO(you): Implement\n",
        "  print('This method has not been implemented.')"
      ]
    },
    {
      "cell_type": "markdown",
      "metadata": {
        "id": "co0Ac33AnXLi"
      },
      "source": [
        "### Unit Tests\n",
        "\n",
        "Run the following cell to check your answer against some unit tests."
      ]
    },
    {
      "cell_type": "code",
      "execution_count": null,
      "metadata": {
        "id": "F_vKrC_QsjFT"
      },
      "outputs": [],
      "source": [
        "arr = get_unique_elements([3, 1, 2, 1, 1, 1])\n",
        "arr.sort()\n",
        "print(arr)\n",
        "# Should print: [1, 2, 3]"
      ]
    },
    {
      "cell_type": "markdown",
      "metadata": {
        "id": "ABx5-dIKnXLi"
      },
      "source": [
        "### Solution"
      ]
    },
    {
      "cell_type": "markdown",
      "metadata": {
        "id": "mJXPG74qMOcu"
      },
      "source": [
        "There are multiple ways to do this. One of the simplest is to use a set, since sets automatically remove duplicates. The following code copies the elements from the input list into a set, and then copies the set elements into a new list."
      ]
    },
    {
      "cell_type": "code",
      "execution_count": null,
      "metadata": {
        "id": "5ECUrPmHRYs-"
      },
      "outputs": [],
      "source": [
        "def get_unique_elements(int_list):\n",
        "  \"\"\"Return the unique elements in int_list.\"\"\"\n",
        "  int_set = set()\n",
        "  result = []\n",
        "  # Add elements to set.\n",
        "  for num in int_list:\n",
        "    int_set.add(num)\n",
        "  # Append elements from set to result.\n",
        "  for num in int_set:\n",
        "    result.append(num)\n",
        "  return result"
      ]
    },
    {
      "cell_type": "markdown",
      "metadata": {
        "id": "BACUmhbxDW4l"
      },
      "source": [
        "The above code can be simplified by converting the input list to a set with the `set()` function, and then back to a list with the `list()` function."
      ]
    },
    {
      "cell_type": "code",
      "execution_count": null,
      "metadata": {
        "id": "pxX6qOvNsyzz"
      },
      "outputs": [],
      "source": [
        "def get_unique_elements(int_list):\n",
        "  \"\"\"Return the unique elements in int_list.\"\"\"\n",
        "  # Calling set(int_list) returns a set of unique integers. We need to convert\n",
        "  # this back to a list.\n",
        "  return list(set(int_list))"
      ]
    },
    {
      "cell_type": "markdown",
      "metadata": {
        "id": "iokEgKEunZj3"
      },
      "source": [
        "## Question 11"
      ]
    },
    {
      "cell_type": "markdown",
      "metadata": {
        "id": "NIvVSqPTMDsj"
      },
      "source": [
        "Write a function to return a list of unique elements in a provided `int_list`, appearing in the same order in which the elements appeared in the initial `int_list`."
      ]
    },
    {
      "cell_type": "code",
      "execution_count": null,
      "metadata": {
        "id": "gy7klSb_toqQ"
      },
      "outputs": [],
      "source": [
        "def get_unique_elements_in_order(int_list):\n",
        "  \"\"\"Return the unique elements in int_list in the same order as they appear.\"\"\"\n",
        "  # TODO(you): Implement\n",
        "  print('This method has not been implemented.')"
      ]
    },
    {
      "cell_type": "markdown",
      "metadata": {
        "id": "XPzTQp66nZj3"
      },
      "source": [
        "### Unit Tests\n",
        "\n",
        "Run the following cell to check your answer against some unit tests."
      ]
    },
    {
      "cell_type": "code",
      "execution_count": null,
      "metadata": {
        "id": "YZh0kYmStxVu"
      },
      "outputs": [],
      "source": [
        "get_unique_elements_in_order([1, 2, 5, 2, 7, 1, 3, 9])\n",
        "# Should print: [1, 2, 5, 7, 3, 9]"
      ]
    },
    {
      "cell_type": "markdown",
      "metadata": {
        "id": "TpJ074iTnZj4"
      },
      "source": [
        "### Solution"
      ]
    },
    {
      "cell_type": "markdown",
      "metadata": {
        "id": "IZt1bUdLMOjf"
      },
      "source": [
        "We can still use a set, but need to be more careful about the order in which elements are added to the set and when. We now have a `result` list and a `unique_numbers` set which is used to keep track of which numbers we have already seen. Sets are more efficient than lists for checking for membership, though using `not in` is supported for lists, as well."
      ]
    },
    {
      "cell_type": "code",
      "execution_count": null,
      "metadata": {
        "id": "Dg0MT5ltt_f_"
      },
      "outputs": [],
      "source": [
        "def get_unique_elements_in_order(int_list):\n",
        "  \"\"\"Return the unique elements in int_list in the same order as they appear.\"\"\"\n",
        "  result = []\n",
        "  unique_numbers = set()\n",
        "  for i in int_list:\n",
        "    if i not in unique_numbers:\n",
        "      result.append(i)\n",
        "    # We add it to the set after appending it to the result, so that we don't\n",
        "    # add any duplicates of it in the future.\n",
        "    unique_numbers.add(i)\n",
        "  return result"
      ]
    },
    {
      "cell_type": "markdown",
      "metadata": {
        "id": "eMoF0_36nZ_z"
      },
      "source": [
        "## Question 12"
      ]
    },
    {
      "cell_type": "markdown",
      "metadata": {
        "id": "8H6QQGwzMDxD"
      },
      "source": [
        "[Advanced] You've been given a list of books and a separate, corresponding list of page numbers:"
      ]
    },
    {
      "cell_type": "code",
      "execution_count": null,
      "metadata": {
        "id": "PWBheeiFNpGK"
      },
      "outputs": [],
      "source": [
        "book_list = ['Paradise Last', 'Gulliver\\'s Travails', 'The Kingdom of Dogs']\n",
        "page_number_list = [300, 250, 410]"
      ]
    },
    {
      "cell_type": "markdown",
      "metadata": {
        "id": "QMlh-9EPOJ2r"
      },
      "source": [
        "This means that, for instance, *The Kingdom of Dogs* has 410 pages. You'd access the title via `book_list[2]` and the number of pages with `page_number_list[2]`. Assume for now that each book has a unique number of pages.\n",
        "\n",
        "Return a list of the book titles sorted by number of pages."
      ]
    },
    {
      "cell_type": "code",
      "execution_count": null,
      "metadata": {
        "id": "PpC-rVUvI57v"
      },
      "outputs": [],
      "source": [
        "def sort_books_by_page_number(book_list, page_number_list):\n",
        "  \"\"\"Sort the elements in book_list by their page number.\"\"\"\n",
        "  # Raise an error if either int_list or priority_list is not unique.\n",
        "  if (len(get_unique_elements(book_list)) != len(book_list) or \n",
        "      len(get_unique_elements(page_number_list)) != len(page_number_list)):\n",
        "    raise ValueError('The lists must contain unique elements.')\n",
        "  \n",
        "  # Raise an error if book_list and page_number_list don't have the same length.\n",
        "  if len(book_list) != len(page_number_list):\n",
        "    raise ValueError('Input lists must have the same length.')\n",
        "\n",
        "  # TODO(you): Implement\n",
        "  print('This function has not been fully implemented.')"
      ]
    },
    {
      "cell_type": "markdown",
      "metadata": {
        "id": "ldzGsCV1DlWC"
      },
      "source": [
        "You may want to use the `get_unique_elements` function from a previous exercise."
      ]
    },
    {
      "cell_type": "code",
      "execution_count": null,
      "metadata": {
        "id": "91cXevFiDtsR"
      },
      "outputs": [],
      "source": [
        "def get_unique_elements(int_list):\n",
        "  \"\"\"Return the unique elements in int_list.\"\"\"\n",
        "  # Calling set(int_list) returns a set of unique integers. We need to convert\n",
        "  # this back to a list.\n",
        "  return list(set(int_list))"
      ]
    },
    {
      "cell_type": "markdown",
      "metadata": {
        "id": "dWDZu5HKVIhA"
      },
      "source": [
        "### Hint"
      ]
    },
    {
      "cell_type": "markdown",
      "metadata": {
        "id": "ItZgJqw5VIhC"
      },
      "source": [
        "You can use the `sorted` function to sort a list of integers."
      ]
    },
    {
      "cell_type": "code",
      "execution_count": null,
      "metadata": {
        "id": "xX0Hnvl7VO_p"
      },
      "outputs": [],
      "source": [
        "test_list = [15, 92, 2]\n",
        "print(test_list)\n",
        "print(sorted(test_list))"
      ]
    },
    {
      "cell_type": "markdown",
      "metadata": {
        "id": "gzdoUoblnZ_z"
      },
      "source": [
        "### Unit Tests\n",
        "\n",
        "Run the following cell to check your answer against some unit tests."
      ]
    },
    {
      "cell_type": "code",
      "execution_count": null,
      "metadata": {
        "id": "mjURhJZoJCeg"
      },
      "outputs": [],
      "source": [
        "book_list = ['Paradise Last', 'Gulliver\\'s Travails', 'The Kingdom of Dogs']\n",
        "page_number_list = [300, 250, 410]\n",
        "print(sort_books_by_page_number(book_list, page_number_list))\n",
        "# Should print: [\"Gulliver's Travails\", 'Paradise Last', 'The Kingdom of Dogs']\n",
        "\n",
        "book_list = ['Les Mozzarellas', 'Gouda Man', 'The Count of Manchego Cristo']\n",
        "page_number_list = [900, 55, 416]\n",
        "\n",
        "print(sort_books_by_page_number(book_list, page_number_list))\n",
        "# Should print: ['Gouda Man', 'The Count of Manchego Cristo', 'Les Mozzarellas']"
      ]
    },
    {
      "cell_type": "markdown",
      "metadata": {
        "id": "h_78Wr68nZ_0"
      },
      "source": [
        "### Solution"
      ]
    },
    {
      "cell_type": "markdown",
      "metadata": {
        "id": "UoeUAYloMOoW"
      },
      "source": [
        "This one is a bit more challenging. There are several ways to accomplish this, but our solution will use a map. We will map the books to their page numbers, sort the page numbers, and append the corresponding book title values to a new list."
      ]
    },
    {
      "cell_type": "code",
      "execution_count": null,
      "metadata": {
        "id": "jhilA3tRL9Fe"
      },
      "outputs": [],
      "source": [
        "def get_unique_elements(int_list):\n",
        "  \"\"\"Return the unique elements in int_list.\"\"\"\n",
        "  # Calling set(int_list) returns a set of unique integers. We need to convert\n",
        "  # this back to a list.\n",
        "  return list(set(int_list))\n",
        "\n",
        "\n",
        "def sort_books_by_page_number(book_list, page_number_list):\n",
        "  \"\"\"Sort the elements in book_list by their page number.\"\"\"\n",
        "  # Raise an error if either int_list or priority_list is not unique.\n",
        "  if (len(get_unique_elements(book_list)) != len(book_list) or \n",
        "      len(get_unique_elements(page_number_list)) != len(page_number_list)):\n",
        "    raise ValueError('The lists must contain unique elements.')\n",
        "  \n",
        "  # Raise an error if book_list and page_number_list don't have the same length.\n",
        "  if len(book_list) != len(page_number_list):\n",
        "    raise ValueError('Input lists must have the same length.')\n",
        "\n",
        "  page_number_map = {}\n",
        "  for i in range(len(book_list)):\n",
        "    # We know that len(int_list) == len(priority_list), so we can use the same\n",
        "    # index for both lists.\n",
        "    page_number_map[page_number_list[i]] = book_list[i]\n",
        "\n",
        "  # Default sorting is ascending, which is what we want.\n",
        "  sorted_page_numbers = sorted(page_number_list)\n",
        "  result = []\n",
        "  for p in sorted_page_numbers:\n",
        "    result.append(page_number_map[p])\n",
        "\n",
        "  return result"
      ]
    },
    {
      "cell_type": "markdown",
      "metadata": {
        "id": "PCdAWJTFnbeb"
      },
      "source": [
        "## Question 13"
      ]
    },
    {
      "cell_type": "markdown",
      "metadata": {
        "id": "OOe70wmnQGLP"
      },
      "source": [
        "A colleague has messaged you about some traffic and map software that they're working on. Currently, they're trying to measure the number of unique cars driving on a given highway over the course of a given day, but they're getting odd results. Below is the method they show you. Can you identify what's wrong with their code, and can you fix it?"
      ]
    },
    {
      "cell_type": "code",
      "execution_count": null,
      "metadata": {
        "id": "wMnH_UewSB38"
      },
      "outputs": [],
      "source": [
        "highway_map = {}\n",
        "\n",
        "# This function tracks a car driving along a specific highway.\n",
        "def update_highway_map_with_license_plate(highway_number, license_plate):\n",
        "  # My current data structure uses a map from the number of the highway to a\n",
        "  # list of all the license plate numbers of cars that have driven on that\n",
        "  # highway so far.\n",
        "  if highway_number not in highway_map:\n",
        "    highway_map[highway_number] = []\n",
        "  highway_map[highway_number].append(license_plate)"
      ]
    },
    {
      "cell_type": "markdown",
      "metadata": {
        "id": "V-JGoBQpnbec"
      },
      "source": [
        "### Solution"
      ]
    },
    {
      "cell_type": "markdown",
      "metadata": {
        "id": "YBc7Ok1JQOGw"
      },
      "source": [
        "The problem with your colleague's code is that it does not check for duplicates. Right now, the code just appends license plates to the list, which ignores that cars may be taking the same road multiple times in a day (a two-way commute, for instance). \n",
        "\n",
        "A set or map can be used to eliminate those duplicates so that you're not storing unneeded data. A map can also store additional data easily, like how many times we've seen a specific car. Let's try implementing this with a map."
      ]
    },
    {
      "cell_type": "code",
      "execution_count": null,
      "metadata": {
        "id": "arK2J3VJSV2s"
      },
      "outputs": [],
      "source": [
        "highway_map = {}\n",
        "\n",
        "# This function tracks a car driving along a specific highway.\n",
        "def update_highway_map_with_license_plate(highway_number, license_plate):\n",
        "  # Our new data structure uses a map to track the association between\n",
        "  # a highway and a map of car records.\n",
        "  if highway_number not in highway_map:\n",
        "    # This will map from a car's license plate to how many times the car has\n",
        "    # been seen.\n",
        "    highway_map[highway_number] = {}\n",
        "  record_car(highway_map[highway_number], license_plate)\n",
        "\n",
        "def record_car(car_record_map, license_plate):\n",
        "  if license_plate not in car_record_map:\n",
        "    car_record_map[license_plate] = 0\n",
        "  car_record_map[license_plate] += 1\n",
        "\n",
        "def get_number_of_unique_cars(highway_number):\n",
        "  # The set of highway_map[highway_number]'s keys is the number of unique cars \n",
        "  # that have passed through. We can just return that value.\n",
        "  if highway_map[highway_number]:\n",
        "    return len(highway_map[highway_number].keys())\n",
        "  return 0"
      ]
    },
    {
      "cell_type": "markdown",
      "metadata": {
        "id": "AJnQC-5dnfPb"
      },
      "source": [
        "## Question 14"
      ]
    },
    {
      "cell_type": "markdown",
      "metadata": {
        "id": "IoVb0XyBQGOF"
      },
      "source": [
        "The same colleague has built out a toll booth for cars. Cars will wait in line until they can pay the toll and then they'll be allowed to exit. However, your colleague wants to make some cars high priority, so that they can exit before regular cars (carpoolers, for instance). Is there a particularly good data structure for your colleague to use? Why?"
      ]
    },
    {
      "cell_type": "code",
      "execution_count": null,
      "metadata": {
        "id": "eeqMhU0iHWfY"
      },
      "outputs": [],
      "source": [
        "#freetext"
      ]
    },
    {
      "cell_type": "markdown",
      "metadata": {
        "id": "I3981yqYnfPc"
      },
      "source": [
        "### Solution"
      ]
    },
    {
      "cell_type": "markdown",
      "metadata": {
        "id": "NEz9jCaxQOJn"
      },
      "source": [
        "For this problem, since the cars are waiting in line, a queue is a natural data structure to propose. However, since your colleague has indicated that they want to give some preference to some cars, a priority queue is more appropriate, since it allows you to set the priority of elements when they're put into the queue. This will allow you to let certain cars out before other cars."
      ]
    },
    {
      "cell_type": "markdown",
      "metadata": {
        "id": "DrAWoQM8nf3i"
      },
      "source": [
        "## Question 15"
      ]
    },
    {
      "cell_type": "markdown",
      "metadata": {
        "id": "PPaNW7LmQGQN"
      },
      "source": [
        "After taking your suggestion, your colleague has tried implementing the toll booth processing software. The problem is, it's a bit buggy. Right now, every carpool car exits before any non-carpool car. Can you fix it so that carpoolers get a priority placement in the toll line but not such a high priority that they jump over every non-carpooler?"
      ]
    },
    {
      "cell_type": "code",
      "execution_count": null,
      "metadata": {
        "id": "KHu3AzjjS_lM"
      },
      "outputs": [],
      "source": [
        "import queue\n",
        "\n",
        "class Car:\n",
        "\n",
        "  def __init__(self, license_plate, carpool):\n",
        "    self.license_plate = license_plate\n",
        "    self.carpool = carpool\n",
        "\n",
        "  def get_plate(self):\n",
        "    return self.license_plate\n",
        "\n",
        "  def is_carpool(self):\n",
        "    return self.carpool\n",
        "\n",
        "# In a priority queue, a lower priority (closer to 0) indicates that it will go\n",
        "# closer to first. A 1 priority will exit the priority queue before a 2, for \n",
        "# instance.\n",
        "priority_queue = queue.PriorityQueue()\n",
        "\n",
        "def process_cars_through_toll_booth(car_list):\n",
        "  car_priority = 0 # starts at 0, increases over time\n",
        "  num_cars = 0\n",
        "  for car in car_list:\n",
        "    add_car_to_priority_queue(car, car_priority)\n",
        "    num_cars += 1\n",
        "    if num_cars % 5 == 0: # simulate cars getting through the booth\n",
        "      car_priority += 1\n",
        "\n",
        "def add_car_to_priority_queue(car, car_priority):\n",
        "  # The priority queue requires data to be put as a tuple, where\n",
        "  # the first item is the priority.\n",
        "  if car.is_carpool():\n",
        "    priority_queue.put((0, car.get_plate()))\n",
        "  else:\n",
        "    priority_queue.put((1, car.get_plate()))"
      ]
    },
    {
      "cell_type": "markdown",
      "metadata": {
        "id": "U7W-P7Bhnf3j"
      },
      "source": [
        "### Unit Tests\n",
        "\n",
        "Run the following cell to check your answer against some unit tests."
      ]
    },
    {
      "cell_type": "code",
      "execution_count": null,
      "metadata": {
        "id": "f4IeM3JGJWWr"
      },
      "outputs": [],
      "source": [
        "import random\n",
        "import string\n",
        "\n",
        "# Initializes the random-number generator to have deterministic outputs.\n",
        "random.seed(3742) \n",
        "\n",
        "MAX_NUM_DIGITS_IN_PLATE = 7\n",
        "\n",
        "def create_license_plate(length=MAX_NUM_DIGITS_IN_PLATE):\n",
        "  possible_letters = string.ascii_lowercase\n",
        "  return ''.join(random.choice(possible_letters) for i in range(length))\n",
        "\n",
        "car_list = []\n",
        "is_carpool_map = {}\n",
        "for i in range(15):\n",
        "  # This will make 15 cars with random license plates.\n",
        "  # Every fifth car will be a carpool car.\n",
        "  license_plate = create_license_plate()\n",
        "  is_carpool = (i % 4 == 0)\n",
        "  car_list.append(Car(license_plate, is_carpool))\n",
        "  is_carpool_map[license_plate] = is_carpool\n",
        "\n",
        "process_cars_through_toll_booth(car_list)\n",
        "print('License | Carpool Status')\n",
        "while(not priority_queue.empty()):\n",
        "  license_plate = priority_queue.get()[1]\n",
        "  print(license_plate, is_carpool_map[license_plate])\n",
        "# Should print multiline:\n",
        "# License | Carpool Status\n",
        "# abrtzhg True\n",
        "# swvqiaf True\n",
        "# imfewgk False\n",
        "# jempvym False\n",
        "# jepzcma True\n",
        "# lilaoor False\n",
        "# bmnhdza False\n",
        "# ezvpwyt False\n",
        "# ofhdsdt True\n",
        "# ygqmgpg False\n",
        "# zahtgaw False\n",
        "# aeajkch False\n",
        "# dakbazw False\n",
        "# pyonbec False\n",
        "# snjztrb False"
      ]
    },
    {
      "cell_type": "markdown",
      "metadata": {
        "id": "J-Kr2kl8nf3j"
      },
      "source": [
        "### Solution"
      ]
    },
    {
      "cell_type": "markdown",
      "metadata": {
        "id": "cEUhYa2FQONI"
      },
      "source": [
        "They're not updating the priority queue correctly; this will let every carpool car out before any of the non-carpool cars, which isn't ideal. Rather than setting a priority for all cars, we're instead adding 1 to the priority for non-carpool cars, so they have to wait slightly longer than their carpool counterparts."
      ]
    },
    {
      "cell_type": "code",
      "execution_count": null,
      "metadata": {
        "id": "BPyUdB0zTXpP"
      },
      "outputs": [],
      "source": [
        "import queue\n",
        "\n",
        "class Car:\n",
        "\n",
        "  def __init__(self, license_plate, carpool):\n",
        "    self.license_plate = license_plate\n",
        "    self.carpool = carpool\n",
        "\n",
        "  def get_plate(self):\n",
        "    return self.license_plate\n",
        "\n",
        "  def is_carpool(self):\n",
        "    return self.carpool\n",
        "\n",
        "# In a priority queue, a lower priority (closer to 0) indicates that it will go\n",
        "# closer to first. A 1 priority will exit the priority queue before a 2, for \n",
        "# instance.\n",
        "priority_queue = queue.PriorityQueue()\n",
        "\n",
        "def process_cars_through_toll_booth(car_list):\n",
        "  car_priority = 0 # starts at 0, increases over time\n",
        "  num_cars = 0\n",
        "  for car in car_list:\n",
        "    add_car_to_priority_queue(car, car_priority)\n",
        "    num_cars += 1\n",
        "    if num_cars % 5 == 0: # simulate cars getting through the booth\n",
        "      car_priority += 1\n",
        "\n",
        "def add_car_to_priority_queue(car, car_priority):\n",
        "  # The priority queue requires data to be put as a tuple, where\n",
        "  # the first item is the priority.\n",
        "  if car.is_carpool():\n",
        "    priority_queue.put((car_priority, car.get_plate()))\n",
        "  else:\n",
        "    priority_queue.put((car_priority + 1, car.get_plate()))"
      ]
    },
    {
      "cell_type": "markdown",
      "metadata": {
        "id": "mW6kATOlTYKf"
      },
      "source": [
        "That will interleave some of the early cars with some of the later carpoolers when you dequeue the elements."
      ]
    }
  ],
  "metadata": {
    "colab": {
      "collapsed_sections": [
        "K812Pm-n8ZpP",
        "i12y3LtO8umR",
        "7cCUrT8r877z",
        "0AHeLJRw90M4",
        "gmBareUDN-qf",
        "OnPWx-junOvD",
        "Owjo_7cfnTKE",
        "eSZGOLUgnTKF",
        "Nhh7xJLhnT6T",
        "7qx_fiJwnT6U",
        "lwZ81z9rnUwI",
        "co0Ac33AnXLi",
        "ABx5-dIKnXLi",
        "XPzTQp66nZj3",
        "TpJ074iTnZj4",
        "dWDZu5HKVIhA",
        "gzdoUoblnZ_z",
        "h_78Wr68nZ_0",
        "V-JGoBQpnbec",
        "I3981yqYnfPc",
        "U7W-P7Bhnf3j",
        "J-Kr2kl8nf3j"
      ],
      "name": "choosing_the_appropriate_data_structure.ipynb",
      "provenance": [ ]
    },
    "kernelspec": {
      "display_name": "Python 3",
      "name": "python3"
    }
  },
  "nbformat": 4,
  "nbformat_minor": 0
}
