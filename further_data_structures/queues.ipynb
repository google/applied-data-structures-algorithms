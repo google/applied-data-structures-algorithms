{
  "cells": [
    {
      "cell_type": "markdown",
      "metadata": {
        "id": "Pic8r3n4AWWu"
      },
      "source": [
        "# Queues"
      ]
    },
    {
      "cell_type": "markdown",
      "metadata": {
        "id": "81wSjnFtSJXJ"
      },
      "source": [
        "## Lesson Overview"
      ]
    },
    {
      "cell_type": "markdown",
      "metadata": {
        "id": "40klIjfB3g0H"
      },
      "source": [
        "\u003e A **queue** is a data structure which focuses on data retrieval according to what's called \"First In, First Out\" (FIFO). "
      ]
    },
    {
      "cell_type": "markdown",
      "metadata": {
        "id": "1kpIVtyZt0lb"
      },
      "source": [
        "Using a FIFO retrieval method, the *first* element added to a data structure is the first one removed. You've likely encountered queues in the real world, as most lines are a form of a queue, from waiting to get on a ride to the checkout line at a grocery store. The first person in line is the first person to exit the line. "
      ]
    },
    {
      "cell_type": "markdown",
      "metadata": {
        "id": "zJfaJqRHt5R2"
      },
      "source": [
        "### Implementation"
      ]
    },
    {
      "cell_type": "markdown",
      "metadata": {
        "id": "hVRHIZq0t3X_"
      },
      "source": [
        "A queue can be implemented as a Python class, backed by a list, like we have here:"
      ]
    },
    {
      "cell_type": "markdown",
      "metadata": {
        "id": "SdooSy9lTX90"
      },
      "source": [
        "```python\n",
        "class Queue:\n",
        "  \n",
        "  def __init__(self):\n",
        "    self.item_list = []\n",
        "\n",
        "  def length(self):\n",
        "    return len(self.item_list)\n",
        "```"
      ]
    },
    {
      "cell_type": "markdown",
      "metadata": {
        "id": "bHMLXv-knrg3"
      },
      "source": [
        "### Enqueue"
      ]
    },
    {
      "cell_type": "markdown",
      "metadata": {
        "id": "lmtnNc7cAagi"
      },
      "source": [
        "Queues include an `enqueue` method, which enables us to add elements to the end of the queue."
      ]
    },
    {
      "cell_type": "markdown",
      "metadata": {
        "id": "l5T6wl-wTeGN"
      },
      "source": [
        "```python\n",
        "class Queue:\n",
        "  \n",
        "  def __init__(self):\n",
        "    self.item_list = []\n",
        "\n",
        "  def length(self):\n",
        "    return len(self.item_list)\n",
        "```"
      ]
    },
    {
      "cell_type": "markdown",
      "metadata": {
        "id": "lGbK4hPMTbE8"
      },
      "source": [
        "```python\n",
        "number_list = [4, 17, 1, 4, 5, 5, 3, 6]\n",
        "example_queue = Queue()\n",
        "for element in number_list:\n",
        "  # Standard queues just take the element as an argument to enqueue().\n",
        "  example_queue.enqueue(element)\n",
        "```"
      ]
    },
    {
      "cell_type": "markdown",
      "metadata": {
        "id": "JCpUeVIr1nRm"
      },
      "source": [
        "### Dequeue"
      ]
    },
    {
      "cell_type": "markdown",
      "metadata": {
        "id": "fEBrpu56VjO7"
      },
      "source": [
        "Queues also include a `dequeue` method, which enables us to remove elements from the queue. Assuming we iterate through the queue, calling `dequeue` until it's empty, it should return the elements in the order that they're added. Note that this is different to a stack, in which elements leave the stack in the opposite order to which they enter the stack.\n"
      ]
    },
    {
      "cell_type": "markdown",
      "metadata": {
        "id": "Wy9PqGVno6s-"
      },
      "source": [
        "```python\n",
        "number_list = [4, 17, 1, 4, 5, 5, 3, 6]\n",
        "example_queue = Queue()\n",
        "for element in number_list:\n",
        "  # Standard queues just take the element as an argument to enqueue().\n",
        "  example_queue.enqueue(element)\n",
        "```  "
      ]
    },
    {
      "cell_type": "markdown",
      "metadata": {
        "id": "NVvdBRvxo-6v"
      },
      "source": [
        "```python\n",
        "while example_queue.length() \u003e 0:\n",
        "  # dequeue() takes no arguments and returns the next available element from or head of the queue.\n",
        "  print(example_queue.dequeue(), end = \", \")\n",
        "\n",
        "# 4, 17, 1, 4, 5, 5, 3, 6,\n",
        "```"
      ]
    },
    {
      "cell_type": "markdown",
      "metadata": {
        "id": "dDZ8mL2rVjRk"
      },
      "source": [
        "Looking at that queue, you might ask why you didn't just iterate through the array and print all the values in order. For this use case, a queue didn't help us that much. But queues are often used in computer science for situations where you don't have all the data upfront but still want to process them in FIFO order. For instance, buying a concert ticket will often put you in a queue, since the website wants to prioritize the people who were there first."
      ]
    },
    {
      "cell_type": "markdown",
      "metadata": {
        "id": "h62zz2Zd9Se1"
      },
      "source": [
        "## Question 1"
      ]
    },
    {
      "cell_type": "markdown",
      "metadata": {
        "id": "AKTOck129UPz"
      },
      "source": [
        "Which *one* of the following best defines a queue?"
      ]
    },
    {
      "cell_type": "markdown",
      "metadata": {
        "id": "txK8w9_xB-Vg"
      },
      "source": [
        "**a)** A linked list in which each element is a class that represents a person in a line\n",
        "\n",
        "**b)** A data structure in which you can remove any object that has been in the queue for a given amount of time\n",
        "\n",
        "**c)** A data structure in which you can only remove the object that has been in the queue the longest\n",
        "\n",
        "**d)** A data structure in which you can only remove the object that has most recently been added"
      ]
    },
    {
      "cell_type": "markdown",
      "metadata": {
        "id": "7h5_VlDyB_pX"
      },
      "source": [
        "### Solution"
      ]
    },
    {
      "cell_type": "markdown",
      "metadata": {
        "id": "oX__-qZUCAVd"
      },
      "source": [
        "The correct answer is **c)**.\n",
        "\n",
        "**a)** This could be one implementation of a queue, but this does not define a queue.\n",
        "\n",
        "**b)** Queues only allow you to dequeue the first element that was placed in the queue, not multiple elements.\n",
        "\n",
        "**d)** This is \"last in, first out\" retrieval, which is implemented by another data structure called a stack."
      ]
    },
    {
      "cell_type": "markdown",
      "metadata": {
        "id": "XcgucrJH_TAj"
      },
      "source": [
        "## Question 2"
      ]
    },
    {
      "cell_type": "markdown",
      "metadata": {
        "id": "L18pTggbCVGN"
      },
      "source": [
        "The following examples are either \"first in, first out\" retrieval (best implemented by a queue) or \"last in, first out\" retrieval (best implemented by a stack). Choose the examples that would be best implemented by a queue."
      ]
    },
    {
      "cell_type": "markdown",
      "metadata": {
        "id": "uPVIxnRjCUEr"
      },
      "source": [
        "**a)** The characters typed by a keyboard (along with the backspace key)\n",
        "\n",
        "**b)** The people in a line at a bank\n",
        "\n",
        "**c)** A company (with zero turnover) that, at the end of every year, promotes the two longest-tenured employees at each level to the next level\n",
        "\n",
        "**d)** A company (with zero voluntary turnover) that uses a \"last hired, first fired\" strategy, whereby if it needs to fire someone, fires the person most recently hired\n",
        "\n",
        "**e)** Your taxes, which are stored in a massive pile of paperwork on your table\n",
        "\n",
        "**f)** A medical office that has no appointments and serves patients \"first come, first served\""
      ]
    },
    {
      "cell_type": "markdown",
      "metadata": {
        "id": "7kS1zVpACUsb"
      },
      "source": [
        "### Solution"
      ]
    },
    {
      "cell_type": "markdown",
      "metadata": {
        "id": "kbdUmu1YCWOq"
      },
      "source": [
        "The correct answers are **b)**, **c)**, and **f)**.\n",
        "\n",
        "**a)** The cursor is generally at the most recently typed key, so this would be better implemented using a stack.\n",
        "\n",
        "**d)** Since the person leaving the company is the most recent addition to the company, this would be best implemented using a stack.\n",
        "\n",
        "**e)** This is a \"stack\" of paper, since you can only access the paper that has most recently been added to the pile."
      ]
    },
    {
      "cell_type": "markdown",
      "metadata": {
        "id": "Y3yq5hzqDCbc"
      },
      "source": [
        "## Question 3"
      ]
    },
    {
      "cell_type": "markdown",
      "metadata": {
        "id": "yV5yJk7kAi31"
      },
      "source": [
        "To start off, let's focus on the queue implementation details. Begin by writing the `enqueue()` method, based on the class implementation from the start of the lesson."
      ]
    },
    {
      "cell_type": "code",
      "execution_count": null,
      "metadata": {
        "id": "C_aquCYS_Ca8"
      },
      "outputs": [],
      "source": [
        "class Queue:\n",
        "\n",
        "  def __init__(self):\n",
        "    self.item_list = []\n",
        "\n",
        "  def length(self):\n",
        "    return len(self.item_list)\n",
        "\n",
        "  def enqueue(self, item):\n",
        "    # TODO(you): Implement\n",
        "    print('This method has not been implemented.')"
      ]
    },
    {
      "cell_type": "markdown",
      "metadata": {
        "id": "emA-QCpSDFmC"
      },
      "source": [
        "### Unit Tests\n",
        "\n",
        "Run the following cell to check your answer against some unit tests."
      ]
    },
    {
      "cell_type": "code",
      "execution_count": null,
      "metadata": {
        "id": "SekTtZ2m-1PJ"
      },
      "outputs": [],
      "source": [
        "example_queue = Queue()\n",
        "\n",
        "example_queue.enqueue(1)\n",
        "print(example_queue.item_list)\n",
        "# Should print: [1]\n",
        "\n",
        "example_queue.enqueue(2)\n",
        "print(example_queue.item_list)\n",
        "# Should print: [1, 2]"
      ]
    },
    {
      "cell_type": "markdown",
      "metadata": {
        "id": "gSn4hP1gDGyP"
      },
      "source": [
        "### Solution"
      ]
    },
    {
      "cell_type": "markdown",
      "metadata": {
        "id": "VPhnuSVhA3Cc"
      },
      "source": [
        "There doesn't need to be a lot of code, as the `list` structure's `append()` method can be used to add elements to `self.item_list`."
      ]
    },
    {
      "cell_type": "code",
      "execution_count": null,
      "metadata": {
        "id": "HsXBzUPrA4bl"
      },
      "outputs": [],
      "source": [
        "class Queue:\n",
        "\n",
        "  def __init__(self):\n",
        "    self.item_list = []\n",
        "\n",
        "  def length(self):\n",
        "    return len(self.item_list)\n",
        "\n",
        "  def enqueue(self, item):\n",
        "    self.item_list.append(item)"
      ]
    },
    {
      "cell_type": "markdown",
      "metadata": {
        "id": "Hjv2BZunKmSA"
      },
      "source": [
        "## Question 4"
      ]
    },
    {
      "cell_type": "markdown",
      "metadata": {
        "id": "KpavRRObp25k"
      },
      "source": [
        "Write the `dequeue()` method, based on the class implementation from the start of the lesson."
      ]
    },
    {
      "cell_type": "code",
      "execution_count": null,
      "metadata": {
        "id": "C9pIVYNvBGya"
      },
      "outputs": [],
      "source": [
        "class Queue:\n",
        "\n",
        "  def __init__(self):\n",
        "    self.item_list = []\n",
        "\n",
        "  def length(self):\n",
        "    return len(self.item_list)\n",
        "\n",
        "  def enqueue(self, item):\n",
        "    self.item_list.append(item)\n",
        "\n",
        "  def dequeue(self):\n",
        "    # TODO(you): Implement\n",
        "    print('This method has not been implemented.')"
      ]
    },
    {
      "cell_type": "markdown",
      "metadata": {
        "id": "CK-xV65FKmSA"
      },
      "source": [
        "### Unit Tests\n",
        "\n",
        "Run the following cell to check your answer against some unit tests."
      ]
    },
    {
      "cell_type": "code",
      "execution_count": null,
      "metadata": {
        "id": "MHJzmCrfBMdF"
      },
      "outputs": [],
      "source": [
        "example_queue = Queue()\n",
        "example_queue.enqueue(1)\n",
        "print(example_queue.dequeue())\n",
        "# Should print: 1\n",
        "\n",
        "example_queue.enqueue(2)\n",
        "example_queue.enqueue(3)\n",
        "print(example_queue.dequeue())\n",
        "# Should print: 2\n",
        "\n",
        "print(example_queue.dequeue())\n",
        "# Should print: 3"
      ]
    },
    {
      "cell_type": "markdown",
      "metadata": {
        "id": "0jSqsuRSKmSB"
      },
      "source": [
        "### Solution"
      ]
    },
    {
      "cell_type": "markdown",
      "metadata": {
        "id": "a0vvqnRkWPPJ"
      },
      "source": [
        "This isn't much code, but it can be challenging to understand how it works. Since a queue is First In, First Out, we need to remove the \"first\" element. Under our enqueue strategy, that means that the 0th element in the queue will always need to be removed. Removing it from the actual underlying list makes it easier to call `dequeue()` in the future. If we did not remove the element from the underlying list, we would have to keep track of the elements that have been removed to prevent errors. Make sure you don't forget to include an error if there are no elements in the list!"
      ]
    },
    {
      "cell_type": "code",
      "execution_count": null,
      "metadata": {
        "id": "Roio_8OgBe4g"
      },
      "outputs": [],
      "source": [
        "class Queue:\n",
        "\n",
        "  def __init__(self):\n",
        "    self.item_list = []\n",
        "\n",
        "  def length(self):\n",
        "    return len(self.item_list)\n",
        "\n",
        "  def enqueue(self, item):\n",
        "    self.item_list.append(item)\n",
        "\n",
        "  def dequeue(self):\n",
        "    if self.length() == 0:\n",
        "      raise ValueError(\"There are no elements in this queue.\")\n",
        "\n",
        "    result = self.item_list[0]\n",
        "    # This is the most important part; we have to remove result from the\n",
        "    # self.item_list object.\n",
        "    self.item_list = self.item_list[1:]\n",
        "    return result"
      ]
    },
    {
      "cell_type": "markdown",
      "metadata": {
        "id": "6zS8oaMphXcY"
      },
      "source": [
        "As a note, this isn't a particularly efficient implementation of a queue, since we're essentially making a copy of `self.item_list` each time. If you're interested in making this queue more efficient, you may want to use a more specialized data structure, like a linked list."
      ]
    },
    {
      "cell_type": "markdown",
      "metadata": {
        "id": "xuNdikrlEiIx"
      },
      "source": [
        "## Question 5"
      ]
    },
    {
      "cell_type": "markdown",
      "metadata": {
        "id": "WPqKFjoSEjGm"
      },
      "source": [
        "While queues can be implemented with lists, it is actually more common and efficient to implement a queue using a linked list. Below is an implementation of a linked list from a previous lesson."
      ]
    },
    {
      "cell_type": "code",
      "execution_count": null,
      "metadata": {
        "id": "oMXV8B6eE41Y"
      },
      "outputs": [],
      "source": [
        "class LinkedListElement:\n",
        "\n",
        "  def __init__(self, value):\n",
        "    self.value = value\n",
        "    self.next = None\n",
        "\n",
        "\n",
        "class LinkedList:\n",
        "\n",
        "  def __init__(self):\n",
        "    self.first = None\n",
        "\n",
        "  def print(self):\n",
        "    elem = self.first  \n",
        "    while elem is not None:\n",
        "      print(elem.value, end =\", \")\n",
        "      elem = elem.next\n",
        "\n",
        "  def get(self, n):\n",
        "    counter = 0\n",
        "    elem = self.first\n",
        "    while counter \u003c n:\n",
        "      # If a None type is hit, raise a ValueError.\n",
        "      if elem is None:\n",
        "        raise ValueError(\"Element does not exist at provided index.\")\n",
        "      counter += 1\n",
        "      elem = elem.next\n",
        "    return elem\n",
        "\n",
        "  def insert(self, new, position):\n",
        "    elem = self.get(position)\n",
        "    new.next = elem\n",
        "    if position == 0:\n",
        "      self.first = new\n",
        "    else:\n",
        "      prev = self.get(position - 1)\n",
        "      prev.next = new\n",
        "\n",
        "  def remove(self, position):\n",
        "    if position == 0:\n",
        "      self.first = self.first.next\n",
        "    else:\n",
        "      prev = self.get(position - 1)\n",
        "      prev.next = self.get(position).next\n",
        "\n",
        "  def length(self):\n",
        "    length = 0\n",
        "    elem = self.first\n",
        "    while elem is not None:\n",
        "      length += 1\n",
        "      elem = elem.next\n",
        "    return length"
      ]
    },
    {
      "cell_type": "markdown",
      "metadata": {
        "id": "1aZ86i4NE505"
      },
      "source": [
        "Create a class called `QueueLL` that inherits from `LinkedList` and implements *all* of the methods from previous questions:\n",
        "\n",
        "- `length` returns the number of elements\n",
        "- `enqueue` adds a new element to the queue\n",
        "- `dequeue` returns and removes an element from the queue"
      ]
    },
    {
      "cell_type": "code",
      "execution_count": null,
      "metadata": {
        "id": "wP117oar9zFd"
      },
      "outputs": [],
      "source": [
        "class QueueLL(LinkedList):\n",
        "  # TODO(you): Implement"
      ]
    },
    {
      "cell_type": "markdown",
      "metadata": {
        "id": "DlNC_HkeHIyZ"
      },
      "source": [
        "### Hint"
      ]
    },
    {
      "cell_type": "markdown",
      "metadata": {
        "id": "Dd0B1Sm4HKGS"
      },
      "source": [
        "- The `length` method is already inherited from `LinkedList`, so it does not need to be rewritten.\n",
        "\n",
        "- For `enqueue`, insert the new element at the *end* of the linked list rather than at the *start*. In the previous lesson, we created a stack based on a linked list that pushed new elements to the start of the linked list. However for a queue, in order that `dequeue` can still remove the `first` element, the new elements should be added at the end, so that the oldest elements are at the start.\n",
        "\n",
        "- For `dequeue`, remember that you also need to *return* the dequeued element before removing it. Based on the hint for `enqueue`, this means returning then removing the head of the linked list. One intricacy here is that you should return the `value` of the `LinkedListElement`, not the instance itself."
      ]
    },
    {
      "cell_type": "code",
      "execution_count": null,
      "metadata": {
        "id": "_qMk7pWMoLrl"
      },
      "outputs": [],
      "source": [
        "class QueueLL(LinkedList):\n",
        "\n",
        "  def enqueue(self, new):\n",
        "    # TODO(you): Implement\n",
        "  \n",
        "  def dequeue(self):\n",
        "    # TODO(you): Implement\n",
        "    # Remember to return the dequeued element's value!"
      ]
    },
    {
      "cell_type": "markdown",
      "metadata": {
        "id": "tj5nDnce-U4b"
      },
      "source": [
        "### Unit Tests\n",
        "\n",
        "Run the following cell to check your answer against some unit tests."
      ]
    },
    {
      "cell_type": "code",
      "execution_count": null,
      "metadata": {
        "id": "G6LuPf3snWl7"
      },
      "outputs": [],
      "source": [
        "example_queue = QueueLL()\n",
        "\n",
        "example_queue.enqueue(LinkedListElement(1))\n",
        "print(example_queue.first.value)\n",
        "# Should print: 1\n",
        "\n",
        "example_queue.enqueue(LinkedListElement(2))\n",
        "print(example_queue.length())\n",
        "# Should print: 2\n",
        "\n",
        "print(example_queue.dequeue())\n",
        "# Should print: 1\n",
        "\n",
        "print(example_queue.dequeue())\n",
        "# Should print: 2"
      ]
    },
    {
      "cell_type": "markdown",
      "metadata": {
        "id": "Ozu73f8bFLe1"
      },
      "source": [
        "### Solution"
      ]
    },
    {
      "cell_type": "markdown",
      "metadata": {
        "id": "_LrF-ZkfmaMU"
      },
      "source": [
        "You might notice that this is *almost exactly* the same code as for `StackLL`, which in the previous lesson created a stack from a linked list. The only difference (apart from changing the names of `push` and `pop` to `enqueue` and `dequeue` respectively) is that now `enqueue` adds an element to the *end* of the linked list, so that `dequeue` can still remove the `first` element."
      ]
    },
    {
      "cell_type": "code",
      "execution_count": null,
      "metadata": {
        "id": "Wf0gZUY3FRNL"
      },
      "outputs": [],
      "source": [
        "class QueueLL(LinkedList):\n",
        "  \n",
        "  def enqueue(self, new):\n",
        "    self.insert(new, self.length())\n",
        "  \n",
        "  def dequeue(self):\n",
        "    el = self.first.value\n",
        "    self.remove(0)\n",
        "    return el"
      ]
    },
    {
      "cell_type": "markdown",
      "metadata": {
        "id": "9pY6vXc3Km8P"
      },
      "source": [
        "## Question 6"
      ]
    },
    {
      "cell_type": "markdown",
      "metadata": {
        "id": "QVc_qcK7UVBM"
      },
      "source": [
        "Write a function that dequeues elements from a queue of strings until it sees the word \"STOP\" in all caps. `'STOP'` should also be printed."
      ]
    },
    {
      "cell_type": "code",
      "execution_count": null,
      "metadata": {
        "id": "xAxDsNV9CgKn"
      },
      "outputs": [],
      "source": [
        "def dequeue_until_stop(word_queue):\n",
        "  \"\"\"Dequeues a queue of words until it hits the word 'STOP'.\"\"\"\n",
        "  result = []\n",
        "  # TODO(you): Implement\n",
        "  print('This method has not been implemented.')"
      ]
    },
    {
      "cell_type": "markdown",
      "metadata": {
        "id": "6s2-4lgwpx6y"
      },
      "source": [
        "You may need to reference and run the following `Queue` code, since `word_queue` is in instance of the `Queue` class."
      ]
    },
    {
      "cell_type": "code",
      "execution_count": null,
      "metadata": {
        "id": "1ROpVJspp3fF"
      },
      "outputs": [],
      "source": [
        "class Queue:\n",
        "\n",
        "  def __init__(self):\n",
        "    self.item_list = []\n",
        "\n",
        "  def length(self):\n",
        "    return len(self.item_list)\n",
        "\n",
        "  def enqueue(self, item):\n",
        "    self.item_list.append(item)\n",
        "\n",
        "  def dequeue(self):\n",
        "    if len(self.item_list) == 0:\n",
        "      raise ValueError(\"There are no elements in this queue.\")\n",
        "\n",
        "    result = self.item_list[0]\n",
        "    # This is the most important part; we have to remove result from the\n",
        "    # self.item_list object.\n",
        "    self.item_list = self.item_list[1:]\n",
        "    return result"
      ]
    },
    {
      "cell_type": "markdown",
      "metadata": {
        "id": "ni-_PkxTKm8Q"
      },
      "source": [
        "### Unit Tests\n",
        "\n",
        "Run the following cell to check your answer against some unit tests."
      ]
    },
    {
      "cell_type": "code",
      "execution_count": null,
      "metadata": {
        "id": "nJUDaEcXCnvQ"
      },
      "outputs": [],
      "source": [
        "word_queue = Queue()\n",
        "word_queue.item_list = ['Keep', 'going', 'until', 'I', 'say', 'STOP', 'in',\n",
        "                        'all', 'caps']\n",
        "\n",
        "dequeue_until_stop(word_queue)\n",
        "# Should print: ['Keep', 'going', 'until', 'I', 'say', 'STOP']"
      ]
    },
    {
      "cell_type": "markdown",
      "metadata": {
        "id": "4W25WQ_PKm8Q"
      },
      "source": [
        "### Solution"
      ]
    },
    {
      "cell_type": "markdown",
      "metadata": {
        "id": "EyiykSceqTG8"
      },
      "source": [
        "There's a chance the word \"STOP\" isn't in our queue, in which case we should return the entire result."
      ]
    },
    {
      "cell_type": "code",
      "execution_count": null,
      "metadata": {
        "id": "HLGeqJd3DW4C"
      },
      "outputs": [],
      "source": [
        "def dequeue_until_stop(word_queue):\n",
        "  \"\"\"Dequeues a queue of words until it hits the word 'STOP'.\"\"\"\n",
        "  result = []\n",
        "  \n",
        "  while word_queue.length() \u003e 0:\n",
        "    word = word_queue.dequeue()\n",
        "    result.append(word)\n",
        "    if word == 'STOP':\n",
        "      break\n",
        "  \n",
        "  return result"
      ]
    },
    {
      "cell_type": "markdown",
      "metadata": {
        "id": "NGNj2eNbKnS4"
      },
      "source": [
        "## Question 7"
      ]
    },
    {
      "cell_type": "markdown",
      "metadata": {
        "id": "b456q3SfUVEv"
      },
      "source": [
        "Write a function that eliminates duplicates from a queue and returns a list of the unique elements."
      ]
    },
    {
      "cell_type": "code",
      "execution_count": null,
      "metadata": {
        "id": "ZMekW-I-p58X"
      },
      "outputs": [],
      "source": [
        "class Queue:\n",
        "\n",
        "  def __init__(self):\n",
        "    self.item_list = []\n",
        "\n",
        "  def length(self):\n",
        "    return len(self.item_list)\n",
        "\n",
        "  def enqueue(self, item):\n",
        "    self.item_list.append(item)\n",
        "\n",
        "  def dequeue(self):\n",
        "    if len(self.item_list) == 0:\n",
        "      raise ValueError(\"There are no elements in this queue.\")\n",
        "\n",
        "    result = self.item_list[0]\n",
        "    # This is the most important part; we have to remove result from the\n",
        "    # self.item_list object.\n",
        "    self.item_list = self.item_list[1:]\n",
        "    return result"
      ]
    },
    {
      "cell_type": "code",
      "execution_count": null,
      "metadata": {
        "id": "y6t20tC-D7u3"
      },
      "outputs": [],
      "source": [
        "def unique_list(queue):\n",
        "  \"\"\"Return a list of the unique elements in a queue.\"\"\"\n",
        "  # TODO(you): Implement\n",
        "  print('This method has not been implemented.')"
      ]
    },
    {
      "cell_type": "markdown",
      "metadata": {
        "id": "bYYW0euQNZR0"
      },
      "source": [
        "### Hint"
      ]
    },
    {
      "cell_type": "markdown",
      "metadata": {
        "id": "ngwyFPUGNaQi"
      },
      "source": [
        "You may want to use a set."
      ]
    },
    {
      "cell_type": "markdown",
      "metadata": {
        "id": "0se7-ZTcKnS4"
      },
      "source": [
        "### Unit Tests\n",
        "\n",
        "Run the following cell to check your answer against some unit tests."
      ]
    },
    {
      "cell_type": "code",
      "execution_count": null,
      "metadata": {
        "id": "5LqZQx83FCF6"
      },
      "outputs": [],
      "source": [
        "queue = Queue()\n",
        "queue.item_list = [2, 1, 2, 2, 1, 3, 1, 3, 4]\n",
        "\n",
        "u_list = unique_list(queue)\n",
        "print(sorted(u_list))\n",
        "# Should print: [1, 2, 3, 4]"
      ]
    },
    {
      "cell_type": "markdown",
      "metadata": {
        "id": "LGE3-7jvKnS5"
      },
      "source": [
        "### Solution"
      ]
    },
    {
      "cell_type": "markdown",
      "metadata": {
        "id": "el1S4J2bWO_L"
      },
      "source": [
        "We use a set to manage the deduplication."
      ]
    },
    {
      "cell_type": "code",
      "execution_count": null,
      "metadata": {
        "id": "HLLBH_c5EVpT"
      },
      "outputs": [],
      "source": [
        "def unique_list(queue):\n",
        "  \"\"\"Return a list of the unique elements in a queue.\"\"\"\n",
        "  item_set = set()\n",
        "\n",
        "  while queue.length() \u003e 0:\n",
        "    item_set.add(queue.dequeue())\n",
        "  \n",
        "  return list(item_set)"
      ]
    },
    {
      "cell_type": "markdown",
      "metadata": {
        "id": "-wE_i9OFFVce"
      },
      "source": [
        "Note that in general, sets do not maintain an ordering. If we want to ensure that the dequeue ordering is maintained in the output list, we should handle this a little differently. We still use a set to check for duplicates, but we use a list to store results."
      ]
    },
    {
      "cell_type": "code",
      "execution_count": null,
      "metadata": {
        "id": "64r1B7znFxSE"
      },
      "outputs": [],
      "source": [
        "def unique_list(queue):\n",
        "  \"\"\"Return a list of the unique elements in a queue.\"\"\"\n",
        "  result = []\n",
        "  item_set = set()\n",
        "\n",
        "  while queue.length() \u003e 0:\n",
        "    el = queue.dequeue()\n",
        "    if el not in item_set:\n",
        "      result.append(el)\n",
        "      item_set.add(el)\n",
        "  \n",
        "  return result"
      ]
    },
    {
      "cell_type": "markdown",
      "metadata": {
        "id": "nuudp06tKxNq"
      },
      "source": [
        "## Question 8"
      ]
    },
    {
      "cell_type": "markdown",
      "metadata": {
        "id": "4LPiaWMXUA2r"
      },
      "source": [
        "You're trying to manage a grocery store, but many of your cashiers are out sick today. Rather than have one line that's way too long, you decide to have four separate lines of customers that feed into one checkout aisle. As a result, to be fair to all the customers, you'll need to interleave the shoppers trying to check out. \n",
        "\n",
        "Write a `checkout()` function that takes in four arrays of equal length, representing shoppers visiting a grocery store, and then interleaves them using a queue. In other words, your output should contain, in order, the first element of each array, then the second element of each array, then the third element of each array, and so on.\n"
      ]
    },
    {
      "cell_type": "code",
      "execution_count": null,
      "metadata": {
        "id": "2sIarRiYp9Co"
      },
      "outputs": [],
      "source": [
        "class Queue:\n",
        "\n",
        "  def __init__(self):\n",
        "    self.item_list = []\n",
        "\n",
        "  def length(self):\n",
        "    return len(self.item_list)\n",
        "\n",
        "  def enqueue(self, item):\n",
        "    self.item_list.append(item)\n",
        "\n",
        "  def dequeue(self):\n",
        "    if len(self.item_list) == 0:\n",
        "      raise ValueError(\"There are no elements in this queue.\")\n",
        "\n",
        "    result = self.item_list[0]\n",
        "    # This is the most important part; we have to remove result from the\n",
        "    # self.item_list object.\n",
        "    self.item_list = self.item_list[1:]\n",
        "    return result"
      ]
    },
    {
      "cell_type": "code",
      "execution_count": null,
      "metadata": {
        "id": "Rv9esLXSMEHu"
      },
      "outputs": [],
      "source": [
        "def checkout(line_1, line_2, line_3, line_4):\n",
        "  checkout_line = Queue()\n",
        "  # TODO(you): Implement\n",
        "  print('This method has not been implemented.')"
      ]
    },
    {
      "cell_type": "markdown",
      "metadata": {
        "id": "b5mN204I2w0f"
      },
      "source": [
        "### Hint"
      ]
    },
    {
      "cell_type": "markdown",
      "metadata": {
        "id": "F9aRE3Qh2yqN"
      },
      "source": [
        "Remember that all of the input arrays have the same length! This means that iterating over `range(len(line_1))` allows you to iterate over all queues.\n",
        "\n",
        "Use the following code scaffolding."
      ]
    },
    {
      "cell_type": "code",
      "execution_count": null,
      "metadata": {
        "id": "colRIvOm2xtO"
      },
      "outputs": [],
      "source": [
        "def checkout(line_1, line_2, line_3, line_4):\n",
        "  checkout_line = Queue()\n",
        "  # Here, we store an array of all the line; you could put them in another\n",
        "  # data structure, if you want. A Queue could work nicely, here, but your\n",
        "  # subsequent syntax would change.\n",
        "  all_lines = [line_1, line_2, line_3, line_4]\n",
        "\n",
        "  # Here is where we rely on the fact that all arrays have the same length.\n",
        "  for i in range(len(line_1)):\n",
        "    # TODO(you): Complete\n",
        "      \n",
        "  result = []\n",
        "  while checkout_line.length() \u003e 0:\n",
        "    # TODO(you): Complete\n",
        "\n",
        "  return result"
      ]
    },
    {
      "cell_type": "markdown",
      "metadata": {
        "id": "72gbLdXUKxNq"
      },
      "source": [
        "### Unit Tests\n",
        "\n",
        "Run the following cell to check your answer against some unit tests."
      ]
    },
    {
      "cell_type": "code",
      "execution_count": null,
      "metadata": {
        "id": "tjZdGlnnMOiZ"
      },
      "outputs": [],
      "source": [
        "arr1 = ['P. Jackson', 'D. Trouble', 'A. Sato']\n",
        "arr2 = ['S. Aran', 'L. Knope', 'M. Murry']\n",
        "arr3 = ['J. A. Buendia', 'N. Sakuraba', 'L. James']\n",
        "arr4 = ['S. Williams', 'G. Stacy', 'M. Morales']\n",
        "\n",
        "checkout(arr1, arr2, arr3, arr4)\n",
        "# Should print multiline:\n",
        "# ['P. Jackson',\n",
        "#  'S. Aran',\n",
        "#  'J. A. Buendia',\n",
        "#  'S. Williams',\n",
        "#  'D. Trouble',\n",
        "#  'L. Knope',\n",
        "#  'N. Sakuraba',\n",
        "#  'G. Stacy',\n",
        "#  'A. Sato',\n",
        "#  'M. Murry',\n",
        "#  'L. James',\n",
        "#  'M. Morales']"
      ]
    },
    {
      "cell_type": "markdown",
      "metadata": {
        "id": "KtHhOGCvKxNr"
      },
      "source": [
        "### Solution"
      ]
    },
    {
      "cell_type": "markdown",
      "metadata": {
        "id": "2_u0R3B2UMFa"
      },
      "source": [
        "Interleaving the elements can be a fairly challenging problem. For that, it'll actually require us to handle the arrays as elements in the queue. Thankfully, since we know they're the same length, we just need to make sure we process them each in turn."
      ]
    },
    {
      "cell_type": "code",
      "execution_count": null,
      "metadata": {
        "id": "3RohTc-zMmrB"
      },
      "outputs": [],
      "source": [
        "def checkout(line_1, line_2, line_3, line_4):\n",
        "  checkout_line = Queue()\n",
        "  # Here, we store an array of all the line; you could put them in another\n",
        "  # data structure, if you want. A Queue could work nicely, here, but your\n",
        "  # subsequent syntax would change.\n",
        "  all_lines = [line_1, line_2, line_3, line_4]\n",
        "\n",
        "  # Here is where we rely on the fact that all arrays have the same length.\n",
        "  for i in range(len(line_1)):\n",
        "    for line in all_lines:\n",
        "      checkout_line.enqueue(line[i])\n",
        "      \n",
        "  result = []\n",
        "  while checkout_line.length() \u003e 0:\n",
        "    result.append(checkout_line.dequeue())\n",
        "\n",
        "  return result"
      ]
    },
    {
      "cell_type": "markdown",
      "metadata": {
        "id": "agsARJanNenz"
      },
      "source": [
        "While this doesn't necessarily require methods that are specific to queues, the queue is an easy way to get those elements in the order we've already specified."
      ]
    },
    {
      "cell_type": "markdown",
      "metadata": {
        "id": "vmyPD7KnKyR7"
      },
      "source": [
        "## Question 9"
      ]
    },
    {
      "cell_type": "markdown",
      "metadata": {
        "id": "UVxy2WOwAmIj"
      },
      "source": [
        "In the previous question, you wrote a `checkout` function that interleaves four queues of equal length into one queue. How would your function change if the lines aren't guaranteed to be the same length? Or if you received a queue of a different number of arrays?"
      ]
    },
    {
      "cell_type": "code",
      "execution_count": null,
      "metadata": {
        "id": "4PLWOKoNqAgY"
      },
      "outputs": [],
      "source": [
        "class Queue:\n",
        "\n",
        "  def __init__(self):\n",
        "    self.item_list = []\n",
        "\n",
        "  def length(self):\n",
        "    return len(self.item_list)\n",
        "\n",
        "  def enqueue(self, item):\n",
        "    self.item_list.append(item)\n",
        "\n",
        "  def dequeue(self):\n",
        "    if len(self.item_list) == 0:\n",
        "      raise ValueError(\"There are no elements in this queue.\")\n",
        "\n",
        "    result = self.item_list[0]\n",
        "    # This is the most important part; we have to remove result from the\n",
        "    # self.item_list object.\n",
        "    self.item_list = self.item_list[1:]\n",
        "    return result"
      ]
    },
    {
      "cell_type": "code",
      "execution_count": null,
      "metadata": {
        "id": "B9FlNVqp2kmB"
      },
      "outputs": [],
      "source": [
        "def checkout(array_queue):\n",
        "  checkout_line = Queue()\n",
        "  # TODO(you): Implement\n",
        "  print('This method has not been implemented.')"
      ]
    },
    {
      "cell_type": "markdown",
      "metadata": {
        "id": "I88NDOy-3Kjw"
      },
      "source": [
        "### Hint"
      ]
    },
    {
      "cell_type": "markdown",
      "metadata": {
        "id": "0oXWL6d4UMIQ"
      },
      "source": [
        "This is where the problem gets most interesting! If you write your code correctly, you can solve both problems at the same time. Assume that the input is a queue of arrays of unknown length, `array_queue`. Your solution shouldn't care how long the arrays are; it should only require that they're non-zero in length."
      ]
    },
    {
      "cell_type": "markdown",
      "metadata": {
        "id": "kz1-0r3bKyR8"
      },
      "source": [
        "### Unit Tests\n",
        "\n",
        "Run the following cell to check your answer against some unit tests."
      ]
    },
    {
      "cell_type": "code",
      "execution_count": null,
      "metadata": {
        "id": "kbfStxgGOOki"
      },
      "outputs": [],
      "source": [
        "array_queue = Queue()\n",
        "array_queue.item_list = [\n",
        "    ['P. Jackson', 'D. Trouble', 'A. Sato', 'S. Aran', 'L. Knope'],\n",
        "    ['M. Murry', 'J. A. Buendia'],\n",
        "    ['N. Sakuraba', 'L. James', 'S. Williams', 'G. Stacy'],\n",
        "    [],\n",
        "    ['M. Morales'],\n",
        "]\n",
        "\n",
        "checkout(array_queue)\n",
        "# Should print multiline:\n",
        "# ['P. Jackson',\n",
        "#  'M. Murry',\n",
        "#  'N. Sakuraba',\n",
        "#  'M. Morales',\n",
        "#  'D. Trouble',\n",
        "#  'J. A. Buendia',\n",
        "#  'L. James',\n",
        "#  'A. Sato',\n",
        "#  'S. Williams',\n",
        "#  'S. Aran',\n",
        "#  'G. Stacy',\n",
        "#  'L. Knope']"
      ]
    },
    {
      "cell_type": "markdown",
      "metadata": {
        "id": "EWuc6ulpKyR8"
      },
      "source": [
        "### Solution"
      ]
    },
    {
      "cell_type": "code",
      "execution_count": null,
      "metadata": {
        "id": "63Eq80_rNqo8"
      },
      "outputs": [],
      "source": [
        "def checkout(array_queue):\n",
        "  checkout_line = Queue()\n",
        "  # We first go through the arrays in order to add the first element from each\n",
        "  # array to our checkout_line.\n",
        "  while array_queue.length() \u003e 0:\n",
        "    array = array_queue.dequeue()\n",
        "    # We also need to check to make sure the array has some elements; it's\n",
        "    # possible for 0-length arrays to be passed in via array_queue.\n",
        "    if len(array) \u003e 0:\n",
        "      checkout_line.enqueue(array[0])\n",
        "      # Removing the first element from the array makes sure we don't add the\n",
        "      # same element again in the future.\n",
        "      array = array[1:]\n",
        "    # Adding the array back to the queue is the most important part of this\n",
        "    # function. This effectively makes the queue run through this processing\n",
        "    # step until all of the elements in all of the arrays are added to the\n",
        "    # checkout_line.\n",
        "    if len(array) \u003e 0:\n",
        "      array_queue.enqueue(array)\n",
        "\n",
        "  result = []\n",
        "  # Finally, go through the checkout_line and put all of the elements into a new\n",
        "  # list so that it can be returned.\n",
        "  while checkout_line.length() \u003e 0:\n",
        "    result.append(checkout_line.dequeue())\n",
        "\n",
        "  return result"
      ]
    },
    {
      "cell_type": "markdown",
      "metadata": {
        "id": "Cz44E9TbK2-3"
      },
      "source": [
        "## Question 10"
      ]
    },
    {
      "cell_type": "markdown",
      "metadata": {
        "id": "RQEV1QoyPCzD"
      },
      "source": [
        "Your colleague is working to improve DishWish, a dish management software for your local restaurant clients. DishWish tries to move the stacks of plates around as new plates are added so that no single stack gets too tall for someone to carry. As a result of your colleague's work, it can handle multiple stacks of plates! Unfortunately, the software upgrade is having problems, and the dishes are getting out of hand. Can you help them out?\n",
        "\n",
        "Assume that `dish_stacks` is a queue of three stacks of `Dish` objects. Here's the documentation for the `Stack`, `Queue`, and `Dish` classes:"
      ]
    },
    {
      "cell_type": "code",
      "execution_count": null,
      "metadata": {
        "id": "IjINFUl8IbhM"
      },
      "outputs": [],
      "source": [
        "class Queue:\n",
        "\n",
        "  def __init__(self):\n",
        "    self.item_list = []\n",
        "\n",
        "  def length(self):\n",
        "    return len(self.item_list)\n",
        "\n",
        "  def enqueue(self, item):\n",
        "    self.item_list.append(item)\n",
        "\n",
        "  def dequeue(self):\n",
        "    if len(self.item_list) == 0:\n",
        "      raise ValueError(\"There are no elements in this queue.\")\n",
        "\n",
        "    result = self.item_list[0]\n",
        "    # This is the most important part; we have to remove result from the\n",
        "    # self.item_list object.\n",
        "    self.item_list = self.item_list[1:]\n",
        "    return result"
      ]
    },
    {
      "cell_type": "code",
      "execution_count": null,
      "metadata": {
        "id": "1CERyt_bIbnz"
      },
      "outputs": [],
      "source": [
        "class Stack:\n",
        "  \n",
        "  def __init__(self):\n",
        "    self.item_list = []\n",
        "\n",
        "  def length(self):\n",
        "    return len(self.item_list)\n",
        "\n",
        "  def push(self, item):\n",
        "    self.item_list.append(item)\n",
        "\n",
        "  def pop(self):\n",
        "    return self.item_list.pop()"
      ]
    },
    {
      "cell_type": "code",
      "execution_count": null,
      "metadata": {
        "id": "MZu3ALA7Ibwb"
      },
      "outputs": [],
      "source": [
        "class Dish:\n",
        "\n",
        "  def __init__(self, type):\n",
        "    # Type should be 'HANDWASH' or 'DISHWASHER'.\n",
        "    self.type = type\n",
        "\n",
        "  def get_type(self):\n",
        "    return self.type"
      ]
    },
    {
      "cell_type": "code",
      "execution_count": null,
      "metadata": {
        "id": "8FSkYNabclK2"
      },
      "outputs": [],
      "source": [
        "stack_one = Stack()\n",
        "stack_two = Stack()\n",
        "stack_three = Stack()\n",
        "dish_stacks = Queue()\n",
        "dish_stacks.enqueue(stack_one)\n",
        "dish_stacks.enqueue(stack_two)\n",
        "dish_stacks.enqueue(stack_three)"
      ]
    },
    {
      "cell_type": "code",
      "execution_count": null,
      "metadata": {
        "id": "xJrq92sBIcL5"
      },
      "outputs": [],
      "source": [
        "RECOMMENDED_DISHES_PER_STACK = 10\n",
        "\n",
        "def add_dishes(num_dishes):\n",
        "  # This should get us the next available stack.\n",
        "  stack = dish_stacks.dequeue()\n",
        "  while num_dishes \u003e 0:\n",
        "    stack.push(Dish('DISHWASHER'))\n",
        "    num_dishes -= 1\n",
        "    if num_dishes == 0:\n",
        "      break\n",
        "    if stack.length() \u003e= RECOMMENDED_DISHES_PER_STACK:\n",
        "      stack = dish_stacks.dequeue()"
      ]
    },
    {
      "cell_type": "markdown",
      "metadata": {
        "id": "uArhgNmoIcSS"
      },
      "source": [
        "When your colleague calls `add_dishes(30)`, it runs without crashing. But as soon as they call `add_dishes(31)` or any number higher than that, the code crashes. What's wrong with it, and how can you easily fix it?"
      ]
    },
    {
      "cell_type": "markdown",
      "metadata": {
        "id": "QMCyexFNqRGq"
      },
      "source": [
        "### Hint"
      ]
    },
    {
      "cell_type": "markdown",
      "metadata": {
        "id": "aL83gtwsqRGr"
      },
      "source": [
        "Does `add_dishes(30)` work correctly? If so, why does `dish_stacks.length() == 0`?"
      ]
    },
    {
      "cell_type": "markdown",
      "metadata": {
        "id": "X7lZUlhCK2-3"
      },
      "source": [
        "### Unit Tests\n",
        "\n",
        "Run the following cell to check your answer against some unit tests."
      ]
    },
    {
      "cell_type": "code",
      "execution_count": null,
      "metadata": {
        "id": "lZ0haaqsIu_t"
      },
      "outputs": [],
      "source": [
        "stack_one = Stack()\n",
        "stack_two = Stack()\n",
        "stack_three = Stack()\n",
        "dish_stacks = Queue()\n",
        "dish_stacks.enqueue(stack_one)\n",
        "dish_stacks.enqueue(stack_two)\n",
        "dish_stacks.enqueue(stack_three)\n",
        "add_dishes(30)\n",
        "print(dish_stacks.length())\n",
        "# Should print: 3\n",
        "\n",
        "print(stack_one.length())\n",
        "# Should print: 10\n",
        "\n",
        "print(stack_two.length())\n",
        "# Should print: 10\n",
        "\n",
        "print(stack_three.length())\n",
        "# Should print: 10\n",
        "\n",
        "\n",
        "dish_stacks = Queue()\n",
        "dish_stacks.enqueue(Stack())\n",
        "dish_stacks.enqueue(Stack())\n",
        "dish_stacks.enqueue(Stack())\n",
        "add_dishes(31)\n",
        "print(dish_stacks.length())\n",
        "# Should print: 3\n",
        "\n",
        "print(stack_one.length())\n",
        "# Should print: 10\n",
        "\n",
        "print(stack_two.length())\n",
        "# Should print: 10\n",
        "\n",
        "print(stack_three.length())\n",
        "# Should print: 10"
      ]
    },
    {
      "cell_type": "markdown",
      "metadata": {
        "id": "M_l-f4EAK2-4"
      },
      "source": [
        "### Solution"
      ]
    },
    {
      "cell_type": "markdown",
      "metadata": {
        "id": "LuSZLDPlzdBY"
      },
      "source": [
        "The first thing that might strike you is that 31 is above the maximum number of dishes recommended (`3 * RECOMMENDED_DISHES_PER_STACK \u003c 31`), but there's another problem. When your colleague dequeues a stack, they never add it back to the queue. So after 3 dequeues (remember that `dish_stack` has 3 stacks), you run out of stacks and can't place any more dishes on them. Don't forget to add the stack back to the queue at the end of the loop, as well!"
      ]
    },
    {
      "cell_type": "code",
      "execution_count": null,
      "metadata": {
        "id": "qd0tx4yeRlL1"
      },
      "outputs": [],
      "source": [
        "RECOMMENDED_DISHES_PER_STACK = 10\n",
        "\n",
        "def add_dishes(num_dishes):\n",
        "  # This should get us the next available stack.\n",
        "  stack = dish_stacks.dequeue()\n",
        "  while num_dishes \u003e 0:\n",
        "    stack.push(Dish('DISHWASHER'))\n",
        "    num_dishes -= 1\n",
        "    if num_dishes == 0:\n",
        "      break\n",
        "    if stack.length() \u003e= RECOMMENDED_DISHES_PER_STACK:\n",
        "      # Add the stack back to the queue so it can be processed again later.\n",
        "      dish_stacks.enqueue(stack)\n",
        "      stack = dish_stacks.dequeue()\n",
        "  # Always make sure to add the stack being processed back to the queue at the \n",
        "  # end.\n",
        "  dish_stacks.enqueue(stack)"
      ]
    },
    {
      "cell_type": "markdown",
      "metadata": {
        "id": "AXpYe0sdK3c5"
      },
      "source": [
        "## Question 11"
      ]
    },
    {
      "cell_type": "markdown",
      "metadata": {
        "id": "W35dKasZWhiI"
      },
      "source": [
        "You've fixed the first problem, but now, when your colleague calls `add_dishes(25)`, they end up with an uneven distribution. Specifically, the first two stacks have 10 dishes each, and the third stack has only 5.\n",
        "\n",
        "Modify the function to make this a bit more even."
      ]
    },
    {
      "cell_type": "code",
      "execution_count": null,
      "metadata": {
        "id": "gYxdHLcDqKga"
      },
      "outputs": [],
      "source": [
        "class Queue:\n",
        "\n",
        "  def __init__(self):\n",
        "    self.item_list = []\n",
        "\n",
        "  def length(self):\n",
        "    return len(self.item_list)\n",
        "\n",
        "  def enqueue(self, item):\n",
        "    self.item_list.append(item)\n",
        "\n",
        "  def dequeue(self):\n",
        "    if len(self.item_list) == 0:\n",
        "      raise ValueError(\"There are no elements in this queue.\")\n",
        "\n",
        "    result = self.item_list[0]\n",
        "    # This is the most important part; we have to remove result from the\n",
        "    # self.item_list object.\n",
        "    self.item_list = self.item_list[1:]\n",
        "    return result"
      ]
    },
    {
      "cell_type": "code",
      "execution_count": null,
      "metadata": {
        "id": "aUmSr_nnqKgh"
      },
      "outputs": [],
      "source": [
        "class Stack:\n",
        "  \n",
        "  def __init__(self):\n",
        "    self.item_list = []\n",
        "\n",
        "  def length(self):\n",
        "    return len(self.item_list)\n",
        "\n",
        "  def push(self, item):\n",
        "    self.item_list.append(item)\n",
        "\n",
        "  def pop(self):\n",
        "    return self.item_list.pop()"
      ]
    },
    {
      "cell_type": "code",
      "execution_count": null,
      "metadata": {
        "id": "u6H9Xs9PqKgm"
      },
      "outputs": [],
      "source": [
        "#static \n",
        "class Dish:\n",
        "\n",
        "  def __init__(self, type):\n",
        "    # Type should be 'HANDWASH' or 'DISHWASHER'.\n",
        "    self.type = type\n",
        "\n",
        "  def get_type(self):\n",
        "    return self.type"
      ]
    },
    {
      "cell_type": "code",
      "execution_count": null,
      "metadata": {
        "id": "pGJ7QCIibTYH"
      },
      "outputs": [],
      "source": [
        "RECOMMENDED_DISHES_PER_STACK = 10\n",
        "\n",
        "def add_dishes(num_dishes):\n",
        "  # This should get us the next available stack.\n",
        "  stack = dish_stacks.dequeue()\n",
        "  while num_dishes \u003e 0:\n",
        "    stack.push(Dish('DISHWASHER'))\n",
        "    if stack.length() \u003e= RECOMMENDED_DISHES_PER_STACK:\n",
        "      # Add the stack back to the queue so it can be processed again later.\n",
        "      dish_stacks.enqueue(stack)\n",
        "      stack = dish_stacks.dequeue()\n",
        "    num_dishes -= 1\n",
        "  # Always make sure to add the stack being processed back to the queue at the \n",
        "  # end.\n",
        "  dish_stacks.enqueue(stack)"
      ]
    },
    {
      "cell_type": "markdown",
      "metadata": {
        "id": "npa3WI_WK3c5"
      },
      "source": [
        "### Unit Tests\n",
        "\n",
        "Run the following cell to check your answer against some unit tests."
      ]
    },
    {
      "cell_type": "code",
      "execution_count": null,
      "metadata": {
        "id": "oQzVf5C9SM23"
      },
      "outputs": [],
      "source": [
        "stack_one = Stack()\n",
        "stack_two = Stack()\n",
        "stack_three = Stack()\n",
        "dish_stacks = Queue()\n",
        "dish_stacks.enqueue(stack_one)\n",
        "dish_stacks.enqueue(stack_two)\n",
        "dish_stacks.enqueue(stack_three)\n",
        "add_dishes(30)\n",
        "print(dish_stacks.length())\n",
        "# Should print: 0\n",
        "\n",
        "print(stack_one.length())\n",
        "# Should print: 10\n",
        "\n",
        "print(stack_two.length())\n",
        "# Should print: 10\n",
        "\n",
        "print(stack_three.length())\n",
        "# Should print: 10\n",
        "\n",
        "stack_one = Stack()\n",
        "stack_two = Stack()\n",
        "stack_three = Stack()\n",
        "dish_stacks = Queue()\n",
        "dish_stacks.enqueue(stack_one)\n",
        "dish_stacks.enqueue(stack_two)\n",
        "dish_stacks.enqueue(stack_three)\n",
        "add_dishes(25)\n",
        "print(dish_stacks.length())\n",
        "# Should print: 3\n",
        "\n",
        "print(stack_one.length())\n",
        "# Should print: 9\n",
        "\n",
        "print(stack_two.length())\n",
        "# Should print: 8\n",
        "\n",
        "print(stack_three.length())\n",
        "# Should print: 8"
      ]
    },
    {
      "cell_type": "markdown",
      "metadata": {
        "id": "YUwbwrvJK3c6"
      },
      "source": [
        "### Solution"
      ]
    },
    {
      "cell_type": "markdown",
      "metadata": {
        "id": "Ivyoa8AvWlf6"
      },
      "source": [
        "You may have noticed the other problem with this method: it dumps as many dishes as it can on the first stack before moving on. Similar to the `interleave` function earlier, we need to place one dish on a stack and then process the next one."
      ]
    },
    {
      "cell_type": "code",
      "execution_count": null,
      "metadata": {
        "id": "U14VmOerSoRi"
      },
      "outputs": [],
      "source": [
        "RECOMMENDED_DISHES_PER_STACK = 10\n",
        "\n",
        "def add_dishes(num_dishes):\n",
        "  # This should get us the next available stack.\n",
        "  while num_dishes \u003e 0:\n",
        "    stack = dish_stacks.dequeue()\n",
        "    stack.push(Dish('DISHWASHER'))\n",
        "    if stack.length() \u003c RECOMMENDED_DISHES_PER_STACK:\n",
        "      # Add the stack back to the queue so it can be processed again later.\n",
        "      dish_stacks.enqueue(stack)\n",
        "    num_dishes -= 1"
      ]
    },
    {
      "cell_type": "markdown",
      "metadata": {
        "id": "aEICj0FSSsW3"
      },
      "source": [
        "This step removes a stack once it's hit `RECOMMENDED_DISHES_PER_STACK`, or more precisely, it only adds a stack back to the queue if it has fewer than the recommended number of dishes."
      ]
    }
  ],
  "metadata": {
    "colab": {
      "collapsed_sections": [
        "7h5_VlDyB_pX",
        "7kS1zVpACUsb",
        "emA-QCpSDFmC",
        "gSn4hP1gDGyP",
        "CK-xV65FKmSA",
        "0jSqsuRSKmSB",
        "DlNC_HkeHIyZ",
        "tj5nDnce-U4b",
        "Ozu73f8bFLe1",
        "ni-_PkxTKm8Q",
        "4W25WQ_PKm8Q",
        "bYYW0euQNZR0",
        "0se7-ZTcKnS4",
        "LGE3-7jvKnS5",
        "b5mN204I2w0f",
        "72gbLdXUKxNq",
        "KtHhOGCvKxNr",
        "I88NDOy-3Kjw",
        "kz1-0r3bKyR8",
        "EWuc6ulpKyR8",
        "QMCyexFNqRGq",
        "X7lZUlhCK2-3",
        "M_l-f4EAK2-4",
        "npa3WI_WK3c5",
        "YUwbwrvJK3c6"
      ],
      "name": "queues.ipynb",
      "provenance": [ ]
    },
    "kernelspec": {
      "display_name": "Python 3",
      "name": "python3"
    }
  },
  "nbformat": 4,
  "nbformat_minor": 0
}
