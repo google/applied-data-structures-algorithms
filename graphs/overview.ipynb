{
  "cells": [
    {
      "cell_type": "markdown",
      "metadata": {
        "id": "7ty-Y67T_n4N"
      },
      "source": [
        "# Graphs"
      ]
    },
    {
      "cell_type": "markdown",
      "metadata": {
        "id": "2uy_htdAyoj4"
      },
      "source": [
        "## Lesson Overview"
      ]
    },
    {
      "cell_type": "markdown",
      "metadata": {
        "id": "pco7lYEp_rbl"
      },
      "source": [
        "In computer science, a graph is a collection of objects and connections, if they exist, between those objects."
      ]
    },
    {
      "cell_type": "markdown",
      "metadata": {
        "id": "T7x0qn6GytV-"
      },
      "source": [
        "While this concept is simple, graphs have remarkably powerful applications in the real world:\n",
        "\n",
        "- Social networks are graphs, in which a person is connected to another person if they are friends or if they follow each other.\n",
        "\n",
        "- Flight maps are graphs, in which each airport is conncted to another airport if there is a direct flight between the two airports.\n",
        "\n",
        "- The teams in the NBA form a graph, in which each team is connected to the other teams in the same division.\n",
        "\n",
        "In the following lessons, you will learn how to represent and manipulate graphs in code, search graphs for specific values, and practice using graphs to model real-world examples."
      ]
    }
  ],
  "metadata": {
    "colab": {
      "collapsed_sections": [],
      "name": "graphs_overview.ipynb",
      "private_outputs": true,
      "provenance": [ ]
    },
    "kernelspec": {
      "display_name": "Python 3",
      "name": "python3"
    }
  },
  "nbformat": 4,
  "nbformat_minor": 0
}
