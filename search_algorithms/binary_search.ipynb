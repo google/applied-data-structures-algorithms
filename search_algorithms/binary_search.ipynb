{
  "cells": [
    {
      "cell_type": "markdown",
      "metadata": {
        "id": "JacjR-75g2wk"
      },
      "source": [
        "# Binary Search"
      ]
    },
    {
      "cell_type": "markdown",
      "metadata": {
        "id": "SecJ9zAOhMVo"
      },
      "source": [
        "## Lesson Overview"
      ]
    },
    {
      "cell_type": "markdown",
      "metadata": {
        "id": "DDNg4ofkZXVo"
      },
      "source": [
        "Binary search searches a **sorted** array of integers for a specific integer. "
      ]
    },
    {
      "cell_type": "markdown",
      "metadata": {
        "id": "cjcmHFqZZZzr"
      },
      "source": [
        "Unlike the input to linear search, the input to binary search **must be sorted**. The algorithm can be extended to strings and any data type that can be ordered.\n",
        "\n",
        "\u003e The average case time complexity of binary search is $O(\\log(n))$."
      ]
    },
    {
      "cell_type": "markdown",
      "metadata": {
        "id": "EBAykTepZboj"
      },
      "source": [
        "### Algorithm"
      ]
    },
    {
      "cell_type": "markdown",
      "metadata": {
        "id": "cHfSS1WfjVby"
      },
      "source": [
        "Binary search is an example of a [divide-and-conquer algorithm](https://en.wikipedia.org/wiki/Divide-and-conquer_algorithm) since it divides the array into smaller sub-arrays and applies the same searching logic to each sub-array. At each step, the algorithm cuts the array in half. One implementation of the binary search algorithm is outlined here."
      ]
    },
    {
      "cell_type": "markdown",
      "metadata": {
        "id": "oa6G5pxywkHa"
      },
      "source": [
        "This implementation searches a sorted array of length $n$ for a value $v$.\n",
        "\n",
        "0. If the array has length 0, the search value is definitely not in the array, so return -1.\n",
        "\n",
        "1. Find the middle index of the array. If $n$ is odd, the middle index is $\\frac{n+1}{2}$. If $n$ is even, then the middle index can be either $\\frac{n}{2}$ or $\\frac{n+2}{2}$, it does not matter.\n",
        "\n",
        "2. Let $m$ be the value of the array at the middle index. The \"top half\" of the array is the sub-array with indices greater than the middle index. Since the array is sorted, all of these values are $\\geq m$. Likewise, the \"bottom half\" of the array is the sub-array with indices less than the middle index. Since the array is sorted, all of these values are $\\leq m$. \n",
        "\n",
        "3. If $m = v$, the algorithm is done and has found the search value, so return the middle index.\n",
        "\n",
        "4. If $m \u003c v$, then if $v$ is in the array, it must be in the top half of the array. Using iteration or recursion, apply the entire algorithm to the top half of the array.\n",
        "\n",
        "5. If $m \u003e v$, then if $v$ is in the array, it must be in the bottom half of the array. Using iteration or recursion, apply the entire algorithm to the bottom half of the array."
      ]
    },
    {
      "cell_type": "markdown",
      "metadata": {
        "id": "UwXyj2CMZlgG"
      },
      "source": [
        "### Examples"
      ]
    },
    {
      "cell_type": "markdown",
      "metadata": {
        "id": "Dw4kuuPUZyhn"
      },
      "source": [
        "Here are two examples of searching an input array for a value. "
      ]
    },
    {
      "cell_type": "markdown",
      "metadata": {
        "id": "Uqftktxkp5j9"
      },
      "source": [
        "If the array length is even, we will arbitrarily choose $\\frac{n}{2}$ as the middle index instead of $\\frac{n+1}{2}$. Therefore, the top half array will contain one more element than the bottom half array. Remember that indices start from 0 in this example.\n",
        "\n",
        "*Example 1*\n",
        "\n",
        "- search value: 2\n",
        "- array length: 7\n",
        "\n",
        "Iteration | \u0026emsp;Input array\u0026emsp; | Middle index | Middle value | Left array | Right array\n",
        "--- | --- | --- | --- | --- | ---\n",
        "1 | [1, 2, 3, 5, 6, 8, 9] | 3 | 5 | [1, 2, 3] | [6, 8, 9]\n",
        "2 | [1, 2, 3] | 1 | 2 | NA | NA\n",
        "\n",
        "In this example, binary search found the value 2 within the array in 2 iterations. Note that the bottom and top halves of iteration 2 are NA since the search has already been found.\n",
        "\n",
        "*Example 2*\n",
        "\n",
        "- search value: 7\n",
        "- array length: 6\n",
        "\n",
        "Iteration | \u0026emsp;Input array\u0026emsp; | Middle index | Middle value | Left array | Right array\n",
        "--- | --- | --- | --- | --- | ---\n",
        "1 | [1, 3, 5, 6, 8, 9] | 2 | 5 | [1, 3] | [6, 8, 9]\n",
        "2 | [6, 8, 9] | 1 | 8 | [6] | [9]\n",
        "3 | [6] | 0 | 6 | NA | NA\n",
        "\n",
        "In this example, binary search found that the value 7 is not in the array in 3 iterations."
      ]
    },
    {
      "cell_type": "markdown",
      "metadata": {
        "id": "asQF920pZ1_z"
      },
      "source": [
        "### Comparison to linear search"
      ]
    },
    {
      "cell_type": "markdown",
      "metadata": {
        "id": "TV9s56gXaCq2"
      },
      "source": [
        "Linear search has a simpler implementation than binary search, and it works for any array whereas binary search only works for sorted arrays. However, the advantage of binary search is its efficiency. "
      ]
    },
    {
      "cell_type": "markdown",
      "metadata": {
        "id": "blPpJ6JFne6Y"
      },
      "source": [
        "Linear search, coded below, is $O(n)$ (linear) time in the worst and average case."
      ]
    },
    {
      "cell_type": "code",
      "execution_count": null,
      "metadata": {
        "id": "N4bU-7HtoaCj"
      },
      "outputs": [],
      "source": [
        "def linear_search(arr, v):\n",
        "  \"\"\"Searches a list of integers arr for a value v.\"\"\"\n",
        "  for i in range(len(arr)):\n",
        "    if arr[i] == v:\n",
        "      return i\n",
        "\n",
        "  return -1"
      ]
    },
    {
      "cell_type": "markdown",
      "metadata": {
        "id": "iG-9_UXgol-y"
      },
      "source": [
        "Binary search is $O(\\log(n))$ in the worst and average case since it leverages the pre-sorting of the input array. This difference in complexity can result in significant benefits for runtime and computational resources when $n$ is large.\n",
        "\n",
        "Consider the two previous examples:\n",
        "\n",
        "1. Searching for the value 2 in the array [1, 2, 3, 5, 6, 8, 9]\n",
        "\n",
        "   Binary search found the value in 2 iterations. Linear search would also find the value in 2 iterations, since 2 happens to be the 2nd element (index 1) of the array. This is a fairly good case for linear search, since the search value appears close to the start of the array. If, however, 2 had been closer to the end of the array, linear search would have been much slower.\n",
        "\n",
        "1. Searching for the value 7 in the array [1, 3, 5, 6, 8, 9]\n",
        "\n",
        "   In 3 iterations, binary search found that the value is not in the array. Linear search takes 6 iterations, since the algorithm checks all 6 elements of the array. It is generally in the worse cases (such as this example) that binary search significantly outperforms linear search."
      ]
    },
    {
      "cell_type": "markdown",
      "metadata": {
        "id": "_2ucbgN8fdo_"
      },
      "source": [
        "## Question 1"
      ]
    },
    {
      "cell_type": "markdown",
      "metadata": {
        "id": "X5qEwRMifguU"
      },
      "source": [
        "Which of the following statements about binary search are true?"
      ]
    },
    {
      "cell_type": "markdown",
      "metadata": {
        "id": "M0QIIDs8HLm7"
      },
      "source": [
        "**a)** The average case time complexity of binary search is $O(n\\log(n))$.\n",
        "\n",
        "**b)** The best case time complexity of binary search is $O(1)$.\n",
        "\n",
        "**c)** The input array to binary search must be sorted.\n",
        "\n",
        "**d)** The space complexity of binary search is $O(\\log(n))$."
      ]
    },
    {
      "cell_type": "markdown",
      "metadata": {
        "id": "Twrw4jASHMht"
      },
      "source": [
        "### Solution "
      ]
    },
    {
      "cell_type": "markdown",
      "metadata": {
        "id": "UuCkc2uUHTMk"
      },
      "source": [
        "The correct answers are **b)** and **c)**. \n",
        "\n",
        "**a)** This would make binary search slower than linear search, as linear search is $O(n)$ in the average case. \n",
        "\n",
        "**d)** If implemented well, binary search requires no new space allocation."
      ]
    },
    {
      "cell_type": "markdown",
      "metadata": {
        "id": "d-vd2iJjNikg"
      },
      "source": [
        "## Question 2"
      ]
    },
    {
      "cell_type": "markdown",
      "metadata": {
        "id": "c3y5Raoxs1g9"
      },
      "source": [
        "Implement binary search using iteration."
      ]
    },
    {
      "cell_type": "code",
      "execution_count": null,
      "metadata": {
        "id": "4HjGKUWyvFor"
      },
      "outputs": [],
      "source": [
        "def binary_search_iterative(arr, v):\n",
        "  \"\"\"Searches a sorted list of integers arr for a value v.\n",
        "  \n",
        "  Returns the index i at which arr[i] == v, or -1 if no such i exists.\n",
        "  \"\"\"\n",
        "  # TODO(you): Implement\n",
        "  print('This function has not been implemented.')"
      ]
    },
    {
      "cell_type": "markdown",
      "metadata": {
        "id": "HHWB0q1cN-Aj"
      },
      "source": [
        "### Hint"
      ]
    },
    {
      "cell_type": "markdown",
      "metadata": {
        "id": "r3i20i28vLB6"
      },
      "source": [
        "Use the following code scaffolding."
      ]
    },
    {
      "cell_type": "code",
      "execution_count": null,
      "metadata": {
        "id": "q0TSrwr7vPkN"
      },
      "outputs": [],
      "source": [
        "def binary_search_iterative(arr, v):\n",
        "  \"\"\"Searches a sorted list of integers arr for a value v.\n",
        "  \n",
        "  Returns the index i at which arr[i] == v, or -1 if no such i exists.\n",
        "  \"\"\"\n",
        "  # These values describe the indices of the array to be searched. This is\n",
        "  # initialized as the entire array.\n",
        "  low_index = 0\n",
        "  high_index = len(arr) # This can also be len(arr) - 1.\n",
        "  \n",
        "  # Calculate the middle index of the search array.\n",
        "  while low_index \u003c= high_index:\n",
        "    middle_index = # TODO(you): Complete\n",
        "    middle_value = arr[middle_index]\n",
        "    \n",
        "    # If the middle value is less than the search value, the right array becomes\n",
        "    # the new search array.\n",
        "    if middle_value \u003c v:\n",
        "      # TODO(you): Complete\n",
        "    # If the middle value is greater than the search value, the left array\n",
        "    # becomes the new search array.\n",
        "    elif middle_value \u003e v:\n",
        "      # TODO(you): Complete\n",
        "    # If the middle value equals the search value, the search is done. Exit the\n",
        "    # loop and return the index.\n",
        "    else:\n",
        "      # TODO(you): Complete\n",
        "  \n",
        "  return -1"
      ]
    },
    {
      "cell_type": "markdown",
      "metadata": {
        "id": "gwisUhQsN2M2"
      },
      "source": [
        "### Unit Tests\n",
        "\n",
        "Run the following cell to check your answer against some unit tests."
      ]
    },
    {
      "cell_type": "code",
      "execution_count": null,
      "metadata": {
        "id": "1XhWRVuWwVB7"
      },
      "outputs": [],
      "source": [
        "print(binary_search_iterative([1, 2, 3, 5, 6, 8, 9], 2))\n",
        "# Should print: 1\n",
        "\n",
        "print(binary_search_iterative([1, 3, 5, 6, 8, 9], 7))\n",
        "# Should print: -1"
      ]
    },
    {
      "cell_type": "markdown",
      "metadata": {
        "id": "QCCMK8MAs4Qw"
      },
      "source": [
        "### Solution"
      ]
    },
    {
      "cell_type": "code",
      "execution_count": null,
      "metadata": {
        "id": "uYiJli8YtDbg"
      },
      "outputs": [],
      "source": [
        "def binary_search_iterative(arr, v):\n",
        "  \"\"\"Searches a sorted list of integers arr for a value v.\n",
        "  \n",
        "  Returns the index i at which arr[i] == v, or -1 if no such i exists.\n",
        "  \"\"\"\n",
        "  # These values describe the indices of the array to be searched. This is\n",
        "  # initialized as the entire array.\n",
        "  low_index = 0\n",
        "  high_index = len(arr) # This can also be len(arr) - 1.\n",
        "  \n",
        "  # Calculate the middle index of the search array.\n",
        "  while low_index \u003c= high_index:\n",
        "    middle_index = (high_index + low_index) // 2\n",
        "    middle_value = arr[middle_index]\n",
        "    \n",
        "    # If the middle value is less than the search value, the right array becomes\n",
        "    # the new search array.\n",
        "    if middle_value \u003c v:\n",
        "      low_index = middle_index + 1\n",
        "    # If the middle value is greater than the search value, the left array\n",
        "    # becomes the new search array.\n",
        "    elif middle_value \u003e v:\n",
        "      high_index = middle_index - 1\n",
        "    # If the middle value equals the search value, the search is done. Exit the\n",
        "    # loop and return the index.\n",
        "    else:\n",
        "      return middle_index\n",
        "  \n",
        "  return -1"
      ]
    },
    {
      "cell_type": "markdown",
      "metadata": {
        "id": "jGldAINQOV1E"
      },
      "source": [
        "## Question 3"
      ]
    },
    {
      "cell_type": "markdown",
      "metadata": {
        "id": "jO3NSQ66KYHK"
      },
      "source": [
        "What is the best case time complexity of binary search? When does this occur?"
      ]
    },
    {
      "cell_type": "code",
      "execution_count": null,
      "metadata": {
        "id": "DkpzeNe1adIs"
      },
      "outputs": [],
      "source": [
        "#freetext"
      ]
    },
    {
      "cell_type": "markdown",
      "metadata": {
        "id": "Znrpatef6WRi"
      },
      "source": [
        "### Solution"
      ]
    },
    {
      "cell_type": "markdown",
      "metadata": {
        "id": "btDX9sHGLK3q"
      },
      "source": [
        "The best case occurs when the `middle_value` of the first iteration is equal to the search value. In this case, the algorithm succeeds in only one iteration, so the best case time complexity is $O(1)$."
      ]
    },
    {
      "cell_type": "markdown",
      "metadata": {
        "id": "WofBSU_ZOX7V"
      },
      "source": [
        "## Question 4"
      ]
    },
    {
      "cell_type": "markdown",
      "metadata": {
        "id": "DbtOK81ls59-"
      },
      "source": [
        "Implement binary search using recursion."
      ]
    },
    {
      "cell_type": "code",
      "execution_count": null,
      "metadata": {
        "id": "5vOvSffeiyXe"
      },
      "outputs": [],
      "source": [
        "def binary_search_recursive(arr, v): # add extra parameters if necessary\n",
        "  \"\"\"Searches a sorted list of integers arr for a value v.\n",
        "  \n",
        "  Returns the index i at which arr[i] == v, or -1 if no such i exists.\n",
        "  \"\"\"\n",
        "  if len(arr) == 0:\n",
        "    return -1\n",
        "\n",
        "  # TODO(you): Implement\n",
        "  print('This function has not been implemented.')"
      ]
    },
    {
      "cell_type": "markdown",
      "metadata": {
        "id": "UBzI93qj0bt_"
      },
      "source": [
        "### Hint"
      ]
    },
    {
      "cell_type": "markdown",
      "metadata": {
        "id": "7lbqgeIH0cc_"
      },
      "source": [
        "Use the following code scaffolding."
      ]
    },
    {
      "cell_type": "code",
      "execution_count": null,
      "metadata": {
        "id": "PscinkAO0abN"
      },
      "outputs": [],
      "source": [
        "def binary_search_recursive(arr, v, lowest_index = 0): # add lowest_index\n",
        "  \"\"\"Searches a sorted list of integers arr for a value v.\n",
        "  \n",
        "  Returns the index i at which arr[i] == v, or -1 if no such i exists.\n",
        "  \"\"\"\n",
        "  if len(arr) == 0:\n",
        "    return -1\n",
        "\n",
        "  # Calculate the middle index of the search array.\n",
        "  middle_index = len(arr) //  2\n",
        "\n",
        "  if arr[middle_index] \u003e v:\n",
        "    # Use the left half for the next recursion. Keep lowest_index at 0.\n",
        "    # TODO(you): Complete\n",
        "  elif arr[middle_index] \u003c v:\n",
        "    # Use the right half for the next recursion. Set lowest_index to\n",
        "    # (middle_index + 1).\n",
        "    # TODO(you): Complete\n",
        "  else:\n",
        "    # Search value found!\n",
        "    return lowest_index + middle_index"
      ]
    },
    {
      "cell_type": "markdown",
      "metadata": {
        "id": "T-Wg9we9Oy2P"
      },
      "source": [
        "### Unit Tests\n",
        "\n",
        "Run the following cell to check your answer against some unit tests."
      ]
    },
    {
      "cell_type": "code",
      "execution_count": null,
      "metadata": {
        "id": "82tgLNBEOy2R"
      },
      "outputs": [],
      "source": [
        "print(binary_search_recursive([1, 2, 3, 5, 6, 8, 9], 2))\n",
        "# Should print: 1\n",
        "\n",
        "print(binary_search_recursive([1, 3, 5, 6, 8, 9], 7))\n",
        "# Should print: -1"
      ]
    },
    {
      "cell_type": "markdown",
      "metadata": {
        "id": "AgVtLn2KOc98"
      },
      "source": [
        "### Solution"
      ]
    },
    {
      "cell_type": "code",
      "execution_count": null,
      "metadata": {
        "id": "490mGLo8hubI"
      },
      "outputs": [],
      "source": [
        "def binary_search_recursive(arr, v, lowest_index = 0): # add lowest_index\n",
        "  \"\"\"Searches a sorted list of integers arr for a value v.\n",
        "  \n",
        "  Returns the index i at which arr[i] == v, or -1 if no such i exists.\n",
        "  \"\"\"\n",
        "  if len(arr) == 0:\n",
        "    return -1\n",
        "\n",
        "  middle_index = len(arr) //  2\n",
        "\n",
        "  if arr[middle_index] \u003e v:\n",
        "    # Use the left half for the next recursion. Keep lowest_index at 0.\n",
        "    return binary_search_recursive(arr[:middle_index], v, 0)\n",
        "  elif arr[middle_index] \u003c v:\n",
        "    # Use the right half for the next recursion. Set lowest_index to\n",
        "    # (middle_index + 1).\n",
        "    lowest_index = middle_index + 1\n",
        "    return binary_search_recursive(arr[(lowest_index):], v, lowest_index)\n",
        "  else:\n",
        "    # Search value found!\n",
        "    return lowest_index + middle_index"
      ]
    },
    {
      "cell_type": "markdown",
      "metadata": {
        "id": "72coq8mwd3MX"
      },
      "source": [
        "The intricacy here comes from the added parameter `lowest_index`. This parameter represents the lower bound of the indices being searched for a given recursion. We need to keep track of this to ensure that the index being returned is the index of the search element in the *input* array, not the index of the search element in the sub-array currently being searched."
      ]
    },
    {
      "cell_type": "markdown",
      "metadata": {
        "id": "1AcXaH3MO-1o"
      },
      "source": [
        "## Question 5"
      ]
    },
    {
      "cell_type": "markdown",
      "metadata": {
        "id": "nVcSVOR3aw2b"
      },
      "source": [
        "You are the IT consultant for a major online retailer *Buynary*. The company is looking to do some data analysis on which products are most popular. The analytics team at *Buynary* currently uses a linear search to find the number of sales for a given product. Linear search works fine, but since *Buynary* usually sells more than one million items every day, the algorithm can take a long time to run. The head of analytics at *Buynary* has asked you to help implement a solution using binary search. "
      ]
    },
    {
      "cell_type": "markdown",
      "metadata": {
        "id": "oKJJcqXRKSZX"
      },
      "source": [
        "Each product at *Buynary* has a unique [SKU (stock keeping unit)](https://en.wikipedia.org/wiki/Stock_keeping_unit) number, which is a positive integer. When an item is bought, the SKU is logged in an array. At the end of each day, the system automatically sorts the items by SKU number. For example, suppose that on a given day *Buynary* sells:\n",
        "\n",
        "- 2 items of SKU 1\n",
        "- 3 items of SKU 3\n",
        "- 1 item of SKU 4\n",
        "\n",
        "Then the list of items sold at the end of the day is:\n",
        "\n",
        "```python\n",
        "[1, 1, 3, 3, 3, 4]\n",
        "```\n",
        "\n",
        "(This is an unrealistic example since *Buynary* usually sells more than one million items every day!)"
      ]
    },
    {
      "cell_type": "markdown",
      "metadata": {
        "id": "oC1etT2UbLMv"
      },
      "source": [
        "Below is the current implementation of linear search. Although it is functional, it can take a long time to run on large inputs. "
      ]
    },
    {
      "cell_type": "code",
      "execution_count": null,
      "metadata": {
        "id": "L0RXYzysP2BH"
      },
      "outputs": [],
      "source": [
        "def count_occurrences_linear(arr, v):\n",
        "  \"\"\"Counts the occurrences of a value v in a sorted list of integers arr.\"\"\"\n",
        "  count = 0\n",
        "\n",
        "  for i in arr:\n",
        "    if i == v:\n",
        "      count += 1\n",
        "  \n",
        "  return count"
      ]
    },
    {
      "cell_type": "markdown",
      "metadata": {
        "id": "zsCD-7vlQjpg"
      },
      "source": [
        "The analysts have started writing the following code that uses binary search to count the number occurrences of a value in a sorted array."
      ]
    },
    {
      "cell_type": "code",
      "execution_count": null,
      "metadata": {
        "id": "sGZA-cBSRP-x"
      },
      "outputs": [],
      "source": [
        "def binary_search_recursive(arr, v, lowest_index = 0):\n",
        "  \"\"\"Searches a sorted list of integers arr for a value v.\n",
        "  \n",
        "  Returns the index i at which arr[i] == v, or -1 if no such i exists.\n",
        "  \"\"\"\n",
        "  if len(arr) == 0:\n",
        "    return -1\n",
        "\n",
        "  middle_index = len(arr) //  2\n",
        "\n",
        "  if arr[middle_index] \u003e v:\n",
        "    # Use the bottom half for the next recursion. Keep lowest_index at 0.\n",
        "    return binary_search_recursive(arr[:middle_index], v, 0)\n",
        "  elif arr[middle_index] \u003c v:\n",
        "    # Use the right half for the next recursion. Set lowest_index to\n",
        "    # (middle_index + 1).\n",
        "    lowest_index = middle_index + 1\n",
        "    return binary_search_recursive(arr[(lowest_index):], v, lowest_index)\n",
        "  else:\n",
        "    # Search value found!\n",
        "    return lowest_index + middle_index"
      ]
    },
    {
      "cell_type": "code",
      "execution_count": null,
      "metadata": {
        "id": "Ofux0yZ6Q8sJ"
      },
      "outputs": [],
      "source": [
        "def count_occurrences_binary(arr, v):\n",
        "  \"\"\"Counts the occurrences of a value v in a sorted list of integers arr.\"\"\"\n",
        "  # Find the index of an instance of v in arr.\n",
        "  index = binary_search_recursive(arr, v)\n",
        "\n",
        "  if index == -1:\n",
        "    return 0\n",
        "  else:\n",
        "    count = 1\n",
        "\n",
        "  # Look at elements to the left of index.\n",
        "  left_index = index - 1\n",
        "  # Only look within indices that exist in the array.\n",
        "  while left_index \u003e -1:\n",
        "    if arr[left_index] == v:\n",
        "      count += 1\n",
        "    left_index -= 1\n",
        "  \n",
        "  # Look at elements to the right of index.\n",
        "  right_index = index + 1\n",
        "  # Only look within indices that exist in the array.\n",
        "  while right_index \u003c len(arr):\n",
        "    if arr[right_index] == v:\n",
        "      count += 1\n",
        "    right_index += 1\n",
        "  \n",
        "  return count"
      ]
    },
    {
      "cell_type": "markdown",
      "metadata": {
        "id": "2VlCSA-cjpy1"
      },
      "source": [
        "The function is producing the correct results, but the analysts have run some tests and concluded that it actually takes just as long as the linear search, despite using a binary search.\n",
        "\n",
        "Why is this? Modify the code above to improve the time complexity."
      ]
    },
    {
      "cell_type": "markdown",
      "metadata": {
        "id": "Meh7dzAvG2xX"
      },
      "source": [
        "### Solution"
      ]
    },
    {
      "cell_type": "markdown",
      "metadata": {
        "id": "L2wMGMfAy0jr"
      },
      "source": [
        "The issue with this code is that after the value `v` has been found in the array `arr` using `binary_search_recursive(arr, v)`, the function uses two `while` loops to search the entire rest of the array for other values of `v`. Since the array is sorted, all instances of `v` in the array are adjacent, so the `while` loop can be exited as soon as a value not equal to `v` is found."
      ]
    },
    {
      "cell_type": "markdown",
      "metadata": {
        "id": "6UZ-Sv46485M"
      },
      "source": [
        "The code for `count_occurrences_binary` can be simplified by absorbing the `if` statement into the `while` condition."
      ]
    },
    {
      "cell_type": "code",
      "execution_count": null,
      "metadata": {
        "id": "7ufIGJ6Z5JT-"
      },
      "outputs": [],
      "source": [
        "def count_occurrences_binary(arr, v):\n",
        "  \"\"\"Counts the occurrences of a value v in a sorted list of integers arr.\"\"\"\n",
        "  # Find the index of an instance of v in arr.\n",
        "  index = binary_search_recursive(arr, v)\n",
        "\n",
        "  if index == -1:\n",
        "    return 0\n",
        "  else:\n",
        "    count = 1\n",
        "\n",
        "  # Look at elements to the left of index.\n",
        "  left_index = index - 1\n",
        "  # Only look within indices that exist in the array.\n",
        "  # CHANGE THE WHILE CONDITION TO INCLUDE THE IF/ELSE STATEMENT.\n",
        "  while left_index \u003e -1 and arr[left_index] == v:\n",
        "    count += 1\n",
        "    left_index -= 1\n",
        "  \n",
        "  # Look at elements to the right of index.\n",
        "  right_index = index + 1\n",
        "  # Only look within indices that exist in the array.\n",
        "  # CHANGE THE WHILE CONDITION TO INCLUDE THE IF/ELSE STATEMENT.\n",
        "  while right_index \u003c len(arr) and arr[right_index] == v:\n",
        "    count += 1\n",
        "    right_index += 1\n",
        "  \n",
        "  return count"
      ]
    },
    {
      "cell_type": "markdown",
      "metadata": {
        "id": "MxxrFnOYPBrV"
      },
      "source": [
        "## Question 6"
      ]
    },
    {
      "cell_type": "markdown",
      "metadata": {
        "id": "QMYKxX4w52bM"
      },
      "source": [
        "What is the worst and average case big-O time complexity of the optimized `count_occurrences_binary`, shown here? "
      ]
    },
    {
      "cell_type": "code",
      "execution_count": null,
      "metadata": {
        "id": "LwapMEyqPdsr"
      },
      "outputs": [],
      "source": [
        "def count_occurrences_binary(arr, v):\n",
        "  \"\"\"Counts the occurrences of a value v in a sorted list of integers arr.\"\"\"\n",
        "  # Find the index of an instance of v in arr.\n",
        "  index = binary_search_recursive(arr, v)\n",
        "\n",
        "  if index == -1:\n",
        "    return 0\n",
        "  else:\n",
        "    count = 1\n",
        "\n",
        "  # Look at elements to the left of index.\n",
        "  left_index = index - 1\n",
        "  # Only look within indices that exist in the array.\n",
        "  # CHANGE THE WHILE CONDITION TO INCLUDE THE IF/ELSE STATEMENT.\n",
        "  while left_index \u003e -1 and arr[left_index] == v:\n",
        "    count += 1\n",
        "    left_index -= 1\n",
        "  \n",
        "  # Look at elements to the right of index.\n",
        "  right_index = index + 1\n",
        "  # Only look within indices that exist in the array.\n",
        "  # CHANGE THE WHILE CONDITION TO INCLUDE THE IF/ELSE STATEMENT.\n",
        "  while right_index \u003c len(arr) and arr[right_index] == v:\n",
        "    count += 1\n",
        "    right_index += 1\n",
        "  \n",
        "  return count"
      ]
    },
    {
      "cell_type": "code",
      "execution_count": null,
      "metadata": {
        "id": "BvPafHs4cDVl"
      },
      "outputs": [],
      "source": [
        "#freetext"
      ]
    },
    {
      "cell_type": "markdown",
      "metadata": {
        "id": "NcB9gkDWHwhd"
      },
      "source": [
        "### Hint"
      ]
    },
    {
      "cell_type": "markdown",
      "metadata": {
        "id": "X6HpCEngcBFO"
      },
      "source": [
        "Remember that `binary_search_recursive` is $O(\\log(n))$ in the worst and average case."
      ]
    },
    {
      "cell_type": "markdown",
      "metadata": {
        "id": "GrN7GpR9PHIz"
      },
      "source": [
        "### Solution"
      ]
    },
    {
      "cell_type": "markdown",
      "metadata": {
        "id": "Qw4rGZaX6M7o"
      },
      "source": [
        "Suppose that there are $m$ occurrences of `v` in `arr`.\n",
        "\n",
        "The function calls `binary_search_recursive` to find `v` in `arr`. This is $O(\\log(n))$. The rest of the function uses `while` to count the occurrences of `v`.\n",
        "\n",
        "The two `while` loops continue until either the loop reaches the start/end of the array, or an `index` is found such that `arr[index] != v`. Therefore, the number of iterations is approximately $m$. The reason this is approximate is that it depends on the implementation. It may be $m+1$ or $m-1$ depending on the control flow of the while block. But this doesn't affect the big-O complexity.\n",
        "\n",
        "The time complexity is $O(\\log(n) + m)$."
      ]
    },
    {
      "cell_type": "markdown",
      "metadata": {
        "id": "kgvUTwNDPCzj"
      },
      "source": [
        "## Question 7"
      ]
    },
    {
      "cell_type": "markdown",
      "metadata": {
        "id": "TkOATofUcJtn"
      },
      "source": [
        "Your roommate in college is taking a trial new course, *Computer Science for Biologists*. Many of the data structures and algorithms in computer science have applications in computational biology, and she is preparing for a PhD in bioinformatics."
      ]
    },
    {
      "cell_type": "markdown",
      "metadata": {
        "id": "BB5eOnAxpLrw"
      },
      "source": [
        "As part of her homework, she was asked to find the smallest missing value in a sorted array of unique non-negative integers (integers greater than or equal to 0), and to calculate the complexity. This is the solution she wrote, which uses linear search."
      ]
    },
    {
      "cell_type": "code",
      "execution_count": null,
      "metadata": {
        "id": "HHWVqD9itUig"
      },
      "outputs": [],
      "source": [
        "def smallest_missing_value_linear(arr):\n",
        "  \"\"\"Finds the smallest missing value in a sorted list of positive integers.\"\"\"\n",
        "  # Initialize the counter at the smallest positive integer.\n",
        "  counter = 1\n",
        "\n",
        "  for i in arr:\n",
        "    if i != counter:\n",
        "      # If the element does not match the counter, return the counter.\n",
        "      return counter\n",
        "    else:\n",
        "      # Otherwise, increment the counter and go to the next element.\n",
        "      counter += 1\n",
        "  \n",
        "  # Return -1 if there is no missing positive integer.\n",
        "  return -1"
      ]
    },
    {
      "cell_type": "markdown",
      "metadata": {
        "id": "n0SqDUSCu7Gs"
      },
      "source": [
        "Your roommate calculated the worst case complexity to be $O(n)$, since the algorithm needs to check each element of `arr` in the case that there is no missing element. However, she is pretty sure that she can leverage the concepts of binary search to find an $O(\\log(n))$ solution. This is what she has so far, but it isn't working.\n",
        "\n",
        "The function is returning -1 even when there is a missing positive integer in the array."
      ]
    },
    {
      "cell_type": "code",
      "execution_count": null,
      "metadata": {
        "id": "0wULBaAqvbFD"
      },
      "outputs": [],
      "source": [
        "def smallest_missing_value_binary(arr, low_index = 0, high_index = None):\n",
        "  \"\"\"Finds the smallest missing value in a sorted list of positive integers.\"\"\"\n",
        "\n",
        "  if high_index is None:\n",
        "    high_index = len(arr) - 1\n",
        "\n",
        "  # This is equivalent to if len(arr[low_index:high_index]) == 0.\n",
        "  if low_index \u003e high_index:\n",
        "    return -1\n",
        "\n",
        "  middle_index = low_index + (high_index - low_index) // 2\n",
        "\n",
        "  # There is a missing non-negative integer in the array if arr[index] != index.\n",
        "  if arr[middle_index] == middle_index:\n",
        "    # Use the top half for the next recursion.\n",
        "    low_index = middle_index + 1\n",
        "  else:\n",
        "    # Use the bottom half for the next recursion.\n",
        "    high_index = middle_index - 1\n",
        "  \n",
        "  return smallest_missing_value_binary(arr, low_index, high_index)\n",
        "\n",
        "\n",
        "print(smallest_missing_value_binary(\n",
        "    [0, 1, 2, 4, 5])) # returns -1, should return 3"
      ]
    },
    {
      "cell_type": "markdown",
      "metadata": {
        "id": "I3zCJC5QF8kl"
      },
      "source": [
        "Why is this function not working as intended? Can you fix it?"
      ]
    },
    {
      "cell_type": "markdown",
      "metadata": {
        "id": "gN4gmQvlQHYi"
      },
      "source": [
        "### Unit Tests\n",
        "\n",
        "Run the following cell to check your answer against some unit tests."
      ]
    },
    {
      "cell_type": "code",
      "execution_count": null,
      "metadata": {
        "id": "wg9jbW41ScZd"
      },
      "outputs": [],
      "source": [
        "print(smallest_missing_value_binary([0, 1, 2, 4, 5]))\n",
        "# Should print: 3"
      ]
    },
    {
      "cell_type": "markdown",
      "metadata": {
        "id": "_JHaLNp0PH8S"
      },
      "source": [
        "### Solution"
      ]
    },
    {
      "cell_type": "markdown",
      "metadata": {
        "id": "EA0lIAdgG5kJ"
      },
      "source": [
        "Using binary search techniques for this problem is tricky, but it does effectively reduce the worst case complexity to $O(\\log(n))$ by leveraging the pre-sorting of the array.\n",
        "\n",
        "The bug comes from the base case, which always returns -1. The right thing to return in the base case actually depends on whether there is actually a missing value in the array or not. If there is no missing value, then returning -1 is correct. If there is a missing value, the function should return `low_index`, since this is the lowest index that is missing.\n",
        "\n",
        "In order to implement this, a boolean parameter `missing_value_exists` needs to be added to the function signature. As soon as we find an index such that `arr[index] != index`, this value is switched to `True`, and passed to further recursions."
      ]
    },
    {
      "cell_type": "code",
      "execution_count": null,
      "metadata": {
        "id": "imnOkZbiSOFm"
      },
      "outputs": [],
      "source": [
        "def smallest_missing_value_binary(arr, low_index = 0, high_index = None,\n",
        "                                  missing_value_exists = False): # new parameter\n",
        "  \"\"\"Finds the smallest missing value in a sorted list of positive integers.\"\"\"\n",
        "\n",
        "  if high_index is None:\n",
        "    high_index = len(arr) - 1\n",
        "\n",
        "  # This is equivalent to if len(arr[low_index:high_index]) == 0.\n",
        "  if low_index \u003e high_index:\n",
        "    # Alter the if statement to check if a missing value exists in the array.\n",
        "    if missing_value_exists:\n",
        "      return low_index\n",
        "    else:\n",
        "      return -1\n",
        "\n",
        "  middle_index = low_index + (high_index - low_index) // 2\n",
        "\n",
        "  # There is a missing positive integer in the array if arr[index] != index.\n",
        "  if arr[middle_index] == middle_index:\n",
        "    # Use the top half for the next recursion.\n",
        "    low_index = middle_index + 1\n",
        "  else:\n",
        "    # Use the bottom half for the next recursion.\n",
        "    high_index = middle_index - 1\n",
        "    # In this case, there must be a missing value.\n",
        "    missing_value_exists = True\n",
        "  \n",
        "  # Pass parameters to the next recursion.\n",
        "  return smallest_missing_value_binary(arr, low_index, high_index,\n",
        "                                       missing_value_exists)"
      ]
    },
    {
      "cell_type": "markdown",
      "metadata": {
        "id": "XsYahU3ONm2L"
      },
      "source": [
        "## Question 8"
      ]
    },
    {
      "cell_type": "markdown",
      "metadata": {
        "id": "zfYq7QkFxDBr"
      },
      "source": [
        "[Advanced] As per the Lesson Overview, binary search runs in log time, in the average and worst case."
      ]
    },
    {
      "cell_type": "markdown",
      "metadata": {
        "id": "awL2Dcjbck0i"
      },
      "source": [
        "Show that the time complexity of binary search is $O(\\log(n))$ in the worst case. (Showing that the average case time complexity is also $O(\\log(n))$ is more challenging.)"
      ]
    },
    {
      "cell_type": "code",
      "execution_count": null,
      "metadata": {
        "id": "MMY5llOpcX98"
      },
      "outputs": [],
      "source": [
        "#freetext"
      ]
    },
    {
      "cell_type": "markdown",
      "metadata": {
        "id": "vIBnXwMEOLV1"
      },
      "source": [
        "### Hint"
      ]
    },
    {
      "cell_type": "markdown",
      "metadata": {
        "id": "4mrVaQ0_OMfz"
      },
      "source": [
        "All of the operations within each iteration are $O(1)$ computations, so the complexity of the algorithm is the number of iterations. At each iteration, the array is cut in half. The time complexity is therefore the number of cuts-in-half of the array before the algorithm terminates.\n",
        "\n",
        "If the array has length $n$, then the number of cuts-in-half $T$ before the array is reduced to length 1 follows the expression\n",
        "\n",
        "$$\\frac{n}{2^T} = 1.$$"
      ]
    },
    {
      "cell_type": "markdown",
      "metadata": {
        "id": "hz6cNKGcNs96"
      },
      "source": [
        "### Solution"
      ]
    },
    {
      "cell_type": "markdown",
      "metadata": {
        "id": "ATHaZGSHzJoZ"
      },
      "source": [
        "The earlier the algorithm finds the search value, the earlier it terminates. Therefore, the worst case for binary search is when the search value is not in the array. In this case, the algorithm is required to complete all of its cuts in looking for the non-existent search value.\n",
        "\n",
        "At each iteration, binary search cuts the array in half. The total number of iterations is therefore the number of cuts-in-half necessary to cut an array of size $n$ to an array of size 1. This is equivalent to finding $T$, the number of divisions-by-two necessary to get from $n$ to 1. By noting that dividing $n$ by 2 repeatedly $T$ times is equivalent to $\\frac{n}{2^T}$, we have\n",
        "\n",
        "\\begin{align*}\n",
        "\\frac{n}{2^T} \u0026= 1 \\\\\n",
        "n \u0026= 2^T \\\\\n",
        "T \u0026= \\log_2(n), \\\\\n",
        "\\end{align*}\n",
        "\n",
        "so binary search is $O(\\log(n))$ in the worst case."
      ]
    }
  ],
  "metadata": {
    "colab": {
      "collapsed_sections": [
        "Twrw4jASHMht",
        "HHWB0q1cN-Aj",
        "gwisUhQsN2M2",
        "QCCMK8MAs4Qw",
        "Znrpatef6WRi",
        "UBzI93qj0bt_",
        "T-Wg9we9Oy2P",
        "AgVtLn2KOc98",
        "Meh7dzAvG2xX",
        "NcB9gkDWHwhd",
        "GrN7GpR9PHIz",
        "gN4gmQvlQHYi",
        "_JHaLNp0PH8S",
        "vIBnXwMEOLV1",
        "hz6cNKGcNs96"
      ],
      "name": "binary_search.ipynb",
      "private_outputs": true,
      "provenance": [ ]
    },
    "kernelspec": {
      "display_name": "Python 3",
      "name": "python3"
    }
  },
  "nbformat": 4,
  "nbformat_minor": 0
}
