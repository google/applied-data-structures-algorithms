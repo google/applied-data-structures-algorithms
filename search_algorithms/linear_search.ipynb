{
  "cells": [
    {
      "cell_type": "markdown",
      "metadata": {
        "id": "fkgw_3aiIDZZ"
      },
      "source": [
        "# Linear Search"
      ]
    },
    {
      "cell_type": "markdown",
      "metadata": {
        "id": "qVe_nsOAKQds"
      },
      "source": [
        "## Lesson Overview"
      ]
    },
    {
      "cell_type": "markdown",
      "metadata": {
        "id": "x4iesNCiKUaw"
      },
      "source": [
        "Linear search is an algorithm that searches an array for a given value. If the array contains the given value, the algorithm returns the lowest index at which the value is found. If not, the algorithm usually returns -1 or an error."
      ]
    },
    {
      "cell_type": "markdown",
      "metadata": {
        "id": "6EChE4XBOU9U"
      },
      "source": [
        "For example, searching for `2` in the array `[5, 2, 1, 2]` returns 1 (since the first instance of `2` is at index 1), whereas searching for `2` in the array `[1, 3]` returns -1 (since `2` is not in the array).\n",
        "\n",
        "Linear search is one of the simplest searching algorithms to implement, and, as the name suggests, is $O(n)$ (linear time) in the average case."
      ]
    },
    {
      "cell_type": "markdown",
      "metadata": {
        "id": "RlzeISxrAPOU"
      },
      "source": [
        "### Algorithm"
      ]
    },
    {
      "cell_type": "markdown",
      "metadata": {
        "id": "vy1CagncLq9B"
      },
      "source": [
        "Suppose an array `arr` is being searched for a value `v`. This is an implementation of linear search that returns -1 if `v` is not contained in `arr`."
      ]
    },
    {
      "cell_type": "markdown",
      "metadata": {
        "id": "QIJ36oSzARD5"
      },
      "source": [
        "0. *Initialize:* Set $i = 0$.\n",
        "1. *Repeat:* Inspect the element with index $i$.\n",
        "  - If the element is equal to `v`, return $i$ and exit.\n",
        "  - Otherwise, increment $i$ by 1.\n",
        "2. *Exit:* If index $i$ does not exist in `arr`, that means you have iterated through the entire array and not found `v`, so return -1."
      ]
    },
    {
      "cell_type": "markdown",
      "metadata": {
        "id": "BzXugkDzKjkS"
      },
      "source": [
        "## Question 1"
      ]
    },
    {
      "cell_type": "markdown",
      "metadata": {
        "id": "MNJ6MvzrKk4T"
      },
      "source": [
        "Write an iterative algorithm that implements linear search."
      ]
    },
    {
      "cell_type": "code",
      "execution_count": null,
      "metadata": {
        "id": "DesT9ts7LJSG"
      },
      "outputs": [],
      "source": [
        "def linear_search(arr, v):\n",
        "  \"\"\"Searches a list of integers arr for a value v.\"\"\"\n",
        "  # TODO(you): Implement"
      ]
    },
    {
      "cell_type": "markdown",
      "metadata": {
        "id": "cA5aoJDILFiF"
      },
      "source": [
        "### Hint"
      ]
    },
    {
      "cell_type": "markdown",
      "metadata": {
        "id": "6W7aIv_ILGRH"
      },
      "source": [
        "Remember to return the *index* of the found element, and -1 if the element is not found."
      ]
    },
    {
      "cell_type": "markdown",
      "metadata": {
        "id": "IGy277zmK-hL"
      },
      "source": [
        "### Unit Tests\n",
        "\n",
        "Run the following cell to check your answer against some unit tests."
      ]
    },
    {
      "cell_type": "code",
      "execution_count": null,
      "metadata": {
        "id": "PnU5BhL4Ls6I"
      },
      "outputs": [],
      "source": [
        "print(linear_search([1, 2, 3, 5, 6, 8, 9], 2))\n",
        "# Should print: 1\n",
        "\n",
        "print(linear_search([1, 3, 5, 6, 8, 9], 7))\n",
        "# Should print: -1"
      ]
    },
    {
      "cell_type": "markdown",
      "metadata": {
        "id": "rWcDSx2vK2Ko"
      },
      "source": [
        "### Solution"
      ]
    },
    {
      "cell_type": "code",
      "execution_count": null,
      "metadata": {
        "id": "YQFm5FKRKupT"
      },
      "outputs": [],
      "source": [
        "def linear_search(arr, v):\n",
        "  \"\"\"Searches a list of integers arr for a value v.\"\"\"\n",
        "  for i in range(len(arr)):\n",
        "    if arr[i] == v:\n",
        "      return i\n",
        "\n",
        "  return -1"
      ]
    },
    {
      "cell_type": "markdown",
      "metadata": {
        "id": "Bc7UaUFAL5pJ"
      },
      "source": [
        "## Question 2"
      ]
    },
    {
      "cell_type": "markdown",
      "metadata": {
        "id": "CjijCU60PIKu"
      },
      "source": [
        "What is the best case time complexity of `linear_search`? In what case does this occur?"
      ]
    },
    {
      "cell_type": "code",
      "execution_count": null,
      "metadata": {
        "id": "-vY28LIeXuxq"
      },
      "outputs": [],
      "source": [
        "#freetext"
      ]
    },
    {
      "cell_type": "markdown",
      "metadata": {
        "id": "Fjj416UZMeBC"
      },
      "source": [
        "### Solution"
      ]
    },
    {
      "cell_type": "markdown",
      "metadata": {
        "id": "9eysDwUsMfwd"
      },
      "source": [
        "In the best case, `linear_search` finds `v` in the very first iteration of the `for` loop, at index 0. In this case, the algorithm requires 1 iteration, so has a time complexity of $O(1)$."
      ]
    },
    {
      "cell_type": "markdown",
      "metadata": {
        "id": "pWXluPLt74SS"
      },
      "source": [
        "## Question 3"
      ]
    },
    {
      "cell_type": "markdown",
      "metadata": {
        "id": "xQYemZYS75tp"
      },
      "source": [
        "What is the worst case time complexity of `linear_search`? In what case does this occur?"
      ]
    },
    {
      "cell_type": "code",
      "execution_count": null,
      "metadata": {
        "id": "DLDs81yDXzMY"
      },
      "outputs": [],
      "source": [
        "#freetext"
      ]
    },
    {
      "cell_type": "markdown",
      "metadata": {
        "id": "DNoeZqqz7-_2"
      },
      "source": [
        "### Solution"
      ]
    },
    {
      "cell_type": "markdown",
      "metadata": {
        "id": "fvRETK4V7_yp"
      },
      "source": [
        "In the worst case, `linear_search` needs to check every element of `arr` before either concluding that `v` is not in `arr` or that `v` is the last element of `arr`. In this case, the algorithm requires all $n$ iterations of the `for` loop (where $n$ is the length of `arr`), so has a time complexity of $O(n)$."
      ]
    },
    {
      "cell_type": "markdown",
      "metadata": {
        "id": "e7_WHZm7WCrO"
      },
      "source": [
        "## Question 4"
      ]
    },
    {
      "cell_type": "markdown",
      "metadata": {
        "id": "U2ZZnjMQWGFA"
      },
      "source": [
        "Your local public library has a scanning system that keeps track of all books at the library. Each book has a unique book number (for example, all copies of *The Bell Jar* by Sylvia Plath have the number 1842659).\n",
        "\n",
        "The library has asked you to write a function to count the number of copies of a given book number that are currently loaned out. The books that are loaned out are stored in an array. Use the principles of `linear_search` to write a `count_occurrences` function that counts the number of times an integer appears in an array."
      ]
    },
    {
      "cell_type": "code",
      "execution_count": null,
      "metadata": {
        "id": "nfOddifSnXMR"
      },
      "outputs": [],
      "source": [
        "def count_occurrences(arr, v):\n",
        "  \"\"\"Returns the number of times the value v appears in arr.\"\"\"\n",
        "  # TODO(you): Implement"
      ]
    },
    {
      "cell_type": "markdown",
      "metadata": {
        "id": "qGci-Y1KnfAQ"
      },
      "source": [
        "### Hint"
      ]
    },
    {
      "cell_type": "markdown",
      "metadata": {
        "id": "wp1bRGtznf2R"
      },
      "source": [
        "Modify your `linear_search` function, but instead of returning the index found, increment a counter."
      ]
    },
    {
      "cell_type": "code",
      "execution_count": null,
      "metadata": {
        "id": "vFL3Smjeni6T"
      },
      "outputs": [],
      "source": [
        "def linear_search(arr, v):\n",
        "  \"\"\"Searches a list of integers arr for a value v.\"\"\"\n",
        "  for i in range(len(arr)):\n",
        "    if arr[i] == v:\n",
        "      return i\n",
        "\n",
        "  return -1"
      ]
    },
    {
      "cell_type": "markdown",
      "metadata": {
        "id": "I8MO9m3-A1J-"
      },
      "source": [
        "### Unit Tests\n",
        "\n",
        "Run the following cell to check your answer against some unit tests."
      ]
    },
    {
      "cell_type": "code",
      "execution_count": null,
      "metadata": {
        "id": "-7Ef6ht9A2e2"
      },
      "outputs": [],
      "source": [
        "print(count_occurrences([1, 2, 1, 3, 1, 4, 1, 5], 1))\n",
        "# Should print: 4\n",
        "\n",
        "print(count_occurrences([1, 2, 1, 3, 1, 4, 1, 5], 6))\n",
        "# Should print: 0"
      ]
    },
    {
      "cell_type": "markdown",
      "metadata": {
        "id": "y7hXLXrvWEaR"
      },
      "source": [
        "### Solution"
      ]
    },
    {
      "cell_type": "code",
      "execution_count": null,
      "metadata": {
        "id": "Lfhe_5Q6nrnS"
      },
      "outputs": [],
      "source": [
        "def count_occurrences(arr, v):\n",
        "  \"\"\"Returns the number of times the value v appears in arr.\"\"\"\n",
        "  count = 0\n",
        "\n",
        "  for i in arr:\n",
        "    if i == v:\n",
        "      count += 1\n",
        "  \n",
        "  return count"
      ]
    },
    {
      "cell_type": "markdown",
      "metadata": {
        "id": "FQfcdx5Mko4V"
      },
      "source": [
        "## Question 5"
      ]
    },
    {
      "cell_type": "markdown",
      "metadata": {
        "id": "yu2ZPAWokp54"
      },
      "source": [
        "What optimizations can be made to the `linear_search` function if the input array is known to be pre-sorted (from lowest to highest)? Write a new function `linear_search_sorted` that accepts a pre-sorted array as an input."
      ]
    },
    {
      "cell_type": "code",
      "execution_count": null,
      "metadata": {
        "id": "SO9hRlvVkn9a"
      },
      "outputs": [],
      "source": [
        "def linear_search_sorted(arr, v):\n",
        "  \"\"\"Searches a sorted list of integers arr for a value v.\"\"\"\n",
        "  # TODO(you): Below is the linear_search code. Optimize it for a sorted input.\n",
        "  for i in range(len(arr)):\n",
        "    if arr[i] == v:\n",
        "      return i\n",
        "\n",
        "  return -1"
      ]
    },
    {
      "cell_type": "markdown",
      "metadata": {
        "id": "kfmFzBbX9hHd"
      },
      "source": [
        "### Hint"
      ]
    },
    {
      "cell_type": "markdown",
      "metadata": {
        "id": "Bvu0rNsvk7en"
      },
      "source": [
        "If the input array is sorted, then as soon as the `for` loop hits a value greater than the search value `v` (if not already found), the algorithm should exit."
      ]
    },
    {
      "cell_type": "markdown",
      "metadata": {
        "id": "c8E_AV7Yk6d3"
      },
      "source": [
        "### Solution"
      ]
    },
    {
      "cell_type": "code",
      "execution_count": null,
      "metadata": {
        "id": "znqe2Sp1lWkZ"
      },
      "outputs": [],
      "source": [
        "def linear_search_sorted(arr, v):\n",
        "  \"\"\"Searches a sorted list of integers arr for a value v.\"\"\"\n",
        "  for i in range(len(arr)):\n",
        "    if arr[i] == v:\n",
        "      return i\n",
        "    # Add the following if statement.\n",
        "    if arr[i] \u003e v:\n",
        "      return -1\n",
        "\n",
        "  return -1"
      ]
    },
    {
      "cell_type": "markdown",
      "metadata": {
        "id": "B9NwbF3DtF6X"
      },
      "source": [
        "## Question 6"
      ]
    },
    {
      "cell_type": "markdown",
      "metadata": {
        "id": "D9uOku6ctGyV"
      },
      "source": [
        "Linear search can be adapted to work on a linked list of integers."
      ]
    },
    {
      "cell_type": "markdown",
      "metadata": {
        "id": "nisoFZv-YCyj"
      },
      "source": [
        "Below is an implementation of a linked list from a previous lesson. Add a `search` method that uses linear search to search the linked list for a given value. If the value is in the linked list, return the index. If the value is not in the linked list, return -1."
      ]
    },
    {
      "cell_type": "code",
      "execution_count": null,
      "metadata": {
        "id": "dV9DdYR84gk0"
      },
      "outputs": [],
      "source": [
        "class LinkedListElement:\n",
        "\n",
        "  def __init__(self, value):\n",
        "    self.value = value\n",
        "    self.next = None"
      ]
    },
    {
      "cell_type": "code",
      "execution_count": null,
      "metadata": {
        "id": "-EAkbR1akdKS"
      },
      "outputs": [],
      "source": [
        "class LinkedList:\n",
        "\n",
        "  def __init__(self):\n",
        "    self.first = None\n",
        "\n",
        "  def search(self, v):\n",
        "    #TODO(you): Implement  "
      ]
    },
    {
      "cell_type": "markdown",
      "metadata": {
        "id": "MVe3gLeft41N"
      },
      "source": [
        "### Hint"
      ]
    },
    {
      "cell_type": "markdown",
      "metadata": {
        "id": "-hKM5xqDt71a"
      },
      "source": [
        "Use the following code scaffolding.\n",
        "\n",
        "```python\n",
        "def search(self, v):\n",
        "  elem = self.first\n",
        "  while elem is not None:\n",
        "    ...\n",
        "    elem = elem.next\n",
        "  return -1\n",
        "```\n",
        "\n",
        "In order to return the index, you may need to introduce a `counter` variable."
      ]
    },
    {
      "cell_type": "markdown",
      "metadata": {
        "id": "5XP2wGfbvVr3"
      },
      "source": [
        "### Unit Tests\n",
        "\n",
        "Run the following cell to check your answer against some unit tests."
      ]
    },
    {
      "cell_type": "code",
      "execution_count": null,
      "metadata": {
        "id": "o4ohicR6vXLf"
      },
      "outputs": [],
      "source": [
        "lle1 = LinkedListElement(1)\n",
        "lle1.next = LinkedListElement(2)\n",
        "\n",
        "lle2 = LinkedListElement(3)\n",
        "lle2.next = LinkedListElement(5)\n",
        "lle2.next.next = LinkedListElement(6)\n",
        "lle2.next.next.next = LinkedListElement(8)\n",
        "lle2.next.next.next.next = LinkedListElement(9)\n",
        "\n",
        "lle1.next.next = lle2\n",
        "\n",
        "ll = LinkedList()\n",
        "ll.first = lle1\n",
        "print(ll.search(2))\n",
        "# Should print: 1\n",
        "\n",
        "lle1.next = lle2\n",
        "print(ll.search(7))\n",
        "# Should print: -1"
      ]
    },
    {
      "cell_type": "markdown",
      "metadata": {
        "id": "uv8BAF4VuZnG"
      },
      "source": [
        "### Solution"
      ]
    },
    {
      "cell_type": "code",
      "execution_count": null,
      "metadata": {
        "id": "eTpnb_1Kubp6"
      },
      "outputs": [],
      "source": [
        "class LinkedList:\n",
        "\n",
        "  def __init__(self):\n",
        "    self.first = None\n",
        "\n",
        "  def search(self, v):\n",
        "    elem = self.first\n",
        "    counter = 0\n",
        "    while elem is not None:\n",
        "      if elem.value == v:\n",
        "        return counter\n",
        "      counter += 1\n",
        "      elem = elem.next\n",
        "    return -1"
      ]
    },
    {
      "cell_type": "markdown",
      "metadata": {
        "id": "usWcDHY1TYkx"
      },
      "source": [
        "## Question 7"
      ]
    },
    {
      "cell_type": "markdown",
      "metadata": {
        "id": "7fHt3EJ7TaXd"
      },
      "source": [
        "Linear search can also be implemented using recursion. Below is an implementation of a recursive linear search. However, it is producing some weird results. What is the bug in this code? Can you fix it?"
      ]
    },
    {
      "cell_type": "code",
      "execution_count": null,
      "metadata": {
        "id": "Eq8cLn1lThC-"
      },
      "outputs": [],
      "source": [
        "def linear_search_recursive(arr, v, index = 0):\n",
        "  \"\"\"Searches a list of integers arr for a value v using recursion.\"\"\"\n",
        "  if len(arr) == 0:\n",
        "    return -1\n",
        "\n",
        "  if arr[0] == v:\n",
        "    return index\n",
        "\n",
        "  return linear_search_recursive(arr[1:], v, index)\n",
        "\n",
        "\n",
        "print(linear_search_recursive(\n",
        "    [1, 2, 3, 5, 6, 8, 9], 2)) # returns 0, should return 1\n",
        "print(linear_search_recursive(\n",
        "    [1, 2, 3, 5, 6, 8, 9], 5)) # returns 0, should return 4"
      ]
    },
    {
      "cell_type": "markdown",
      "metadata": {
        "id": "KHBUQXL7CFWv"
      },
      "source": [
        "### Hint"
      ]
    },
    {
      "cell_type": "markdown",
      "metadata": {
        "id": "ALuC7Li3CGUO"
      },
      "source": [
        "What is the purpose of the `index` parameter? Why is it necessary? What is the value of `index` at each recursion?"
      ]
    },
    {
      "cell_type": "markdown",
      "metadata": {
        "id": "9WxJ3aSLToLq"
      },
      "source": [
        "### Unit Tests\n",
        "\n",
        "Run the following cell to check your answer against some unit tests."
      ]
    },
    {
      "cell_type": "code",
      "execution_count": null,
      "metadata": {
        "id": "3iBsiNYAToLs"
      },
      "outputs": [],
      "source": [
        "print(linear_search_recursive([1, 2, 3, 5, 6, 8, 9], 2))\n",
        "# Should print: 1\n",
        "\n",
        "print(linear_search_recursive([1, 2, 3, 5, 6, 8, 9], 5))\n",
        "# Should print: 3\n",
        "\n",
        "print(linear_search_recursive([1, 3, 5, 6, 8, 9], 7))\n",
        "# Should print: -1"
      ]
    },
    {
      "cell_type": "markdown",
      "metadata": {
        "id": "GpeBSP2nToLw"
      },
      "source": [
        "### Solution"
      ]
    },
    {
      "cell_type": "markdown",
      "metadata": {
        "id": "ftb5Vb87pAHC"
      },
      "source": [
        "This is a very subtle bug. Identifying and fixing it relies on understanding the utility of the `index` parameter. Recursive functions often rely on an index or counter parameter that is altered at each recursive step. \n",
        "\n",
        "In the case of `linear_search_recursive`, when `v` is found in `arr`, `index` is returned. Since `index` is initialized at 0 and never changed, this implementation will always return 0 if `v` is found and -1 if `v` is not found.\n",
        "\n",
        "In order to fix this, `index` must be incremented at each recursion."
      ]
    },
    {
      "cell_type": "code",
      "execution_count": null,
      "metadata": {
        "id": "Z8YIbomiToLx"
      },
      "outputs": [],
      "source": [
        "def linear_search_recursive(arr, v, index = 0):\n",
        "  \"\"\"Searches a list of integers arr for a value v using recursion.\"\"\"\n",
        "  if len(arr) == 0:\n",
        "    return -1\n",
        "\n",
        "  if arr[0] == v:\n",
        "    return index\n",
        "\n",
        "  # Change index to index + 1.\n",
        "  return linear_search_recursive(arr[1:], v, index + 1)"
      ]
    },
    {
      "cell_type": "markdown",
      "metadata": {
        "id": "jUCnC4qXNnDE"
      },
      "source": [
        "## Question 8"
      ]
    },
    {
      "cell_type": "markdown",
      "metadata": {
        "id": "QSvDTlaHO7eb"
      },
      "source": [
        "[Advanced] Why is the average case time complexity of linear search linear?"
      ]
    },
    {
      "cell_type": "code",
      "execution_count": null,
      "metadata": {
        "id": "Uy8G658HYvOZ"
      },
      "outputs": [],
      "source": [
        "#freetext"
      ]
    },
    {
      "cell_type": "markdown",
      "metadata": {
        "id": "cRvrTBmt8h-t"
      },
      "source": [
        "### Hint"
      ]
    },
    {
      "cell_type": "markdown",
      "metadata": {
        "id": "Ce1zG-MY8iyv"
      },
      "source": [
        "Consider two cases separately:\n",
        "\n",
        "- If `v` is in `arr`\n",
        "- If `v` is not in `arr`\n",
        "\n",
        "Calculate the average case time complexity under each case, and show that both are $O(n)$. If the average case time complexity for both cases is $O(n)$, the average case time complexity averaged across all cases must also be $O(n)$."
      ]
    },
    {
      "cell_type": "markdown",
      "metadata": {
        "id": "TtghL7B_O50_"
      },
      "source": [
        "### Solution"
      ]
    },
    {
      "cell_type": "markdown",
      "metadata": {
        "id": "rXBfjokNPXfv"
      },
      "source": [
        "Let's first assume that `v` is in `arr`. In the average case, `v` has an equal probability of being in any index, namely $\\frac{1}{n}$.\n",
        "\n",
        "If `v` is in index 0, `linear_search` takes 1 iteration. If `v` is in index 1, `linear_search` takes 2 iterations. In general, if `v` is in index $i$, `linear_search` takes $i+1$ iterations. Since the probability of `v` being at any specific index is $\\frac{1}{n}$, the average case complexity is\n",
        "\n",
        "$$ \\frac{1}{n} (1 + 2 + ... + n). $$\n",
        "\n",
        "Using the formula that $\\sum\\limits_{i=1}^n i = \\frac{n(n+1)}{2}$, this is\n",
        "\n",
        "\\begin{align*}\n",
        "\\frac{1}{n} \\frac{n(n+1)}{2} \u0026= \\frac{n+1}{2} \\\\\n",
        "\u0026= \\frac{n}{2} + \\frac{1}{2} \\\\\n",
        "\u0026= O(n). \\\\\n",
        "\\end{align*}\n",
        "\n",
        "Therefore, if `v` is in `arr`, the average case time complexity is $O(n)$.\n",
        "\n",
        "Now, assume that `v` is not in `arr`. This is the worst case of linear search, and as per a previous question, and the time complexity $O(n)$. Since the average case time complexity is $O(n)$ in both cases (whether `v` is in `arr` or not), the average case time complexity of linear search is $O(n)$."
      ]
    }
  ],
  "metadata": {
    "colab": {
      "collapsed_sections": [
        "cA5aoJDILFiF",
        "IGy277zmK-hL",
        "rWcDSx2vK2Ko",
        "Fjj416UZMeBC",
        "DNoeZqqz7-_2",
        "qGci-Y1KnfAQ",
        "I8MO9m3-A1J-",
        "y7hXLXrvWEaR",
        "kfmFzBbX9hHd",
        "c8E_AV7Yk6d3",
        "MVe3gLeft41N",
        "5XP2wGfbvVr3",
        "uv8BAF4VuZnG",
        "KHBUQXL7CFWv",
        "9WxJ3aSLToLq",
        "GpeBSP2nToLw",
        "cRvrTBmt8h-t",
        "TtghL7B_O50_"
      ],
      "name": "linear_search.ipynb",
      "private_outputs": true,
      "provenance": [ ]
    },
    "kernelspec": {
      "display_name": "Python 3",
      "name": "python3"
    }
  },
  "nbformat": 4,
  "nbformat_minor": 0
}
