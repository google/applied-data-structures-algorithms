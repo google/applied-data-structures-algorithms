{
  "cells": [
    {
      "cell_type": "markdown",
      "metadata": {
        "id": "ZvWmwRaBVGCD"
      },
      "source": [
        "# Hash Tables In Practice"
      ]
    },
    {
      "cell_type": "markdown",
      "metadata": {
        "id": "x9RLTvTeI-W4"
      },
      "source": [
        "## Lesson Overview"
      ]
    },
    {
      "cell_type": "markdown",
      "metadata": {
        "id": "W3IDx0mGI8Wx"
      },
      "source": [
        "*This lesson demonstrates the principles learned in this unit. It is different from other lessons in that each question relies on all of the previous questions. It is therefore best to complete the questions in order as they build upon each other. The provided solutions are not the only possible solutions. Your solutions may vary in syntax and even design, and still be correct.*"
      ]
    },
    {
      "cell_type": "markdown",
      "metadata": {
        "id": "Buc7H6EaXg2-"
      },
      "source": [
        "When you settled in for work this morning, you noticed an email from your coworker, Bobby."
      ]
    },
    {
      "cell_type": "markdown",
      "metadata": {
        "id": "Nv6Jg0JiVK8F"
      },
      "source": [
        "\u003cdiv style=\"background: #f5f5f5; padding: 15px; box-shadow: 0px 2px 4px #9991;\"\u003e\n",
        "\u003cbr\u003e\n",
        "\u003cb\u003eFrom:\u003c/b\u003e Bobby Tables \u0026lt;lilbobbytables@bridgecorp.com\u0026gt;\u003cbr\u003e\n",
        "\u003cb\u003eTo:\u003c/b\u003e You \u0026lt;you@bridgecorp.com\u0026gt;\u003cbr\u003e\n",
        "\u003cb\u003eSubject:\u003c/b\u003e URGENT! I need your help fixing a huge mistake\u003cbr\u003e\n",
        "\u003cbr\u003e  \n",
        "Hey,\u003cbr\u003e\n",
        "\u003cbr\u003e\n",
        "I really screwed up today and I need your help. One of our clients is a middle school, and they’re using BridgeCloud to store student records. Well, this morning, \u003cb\u003eI accidentally wiped the server with all of their student records.\u003c/b\u003e We have a backup, but all the data is in a completely different format. Steph, our team lead, said we need to implement some sort of hash table to get it back on the server, but I barely know what a hash table is. \u003cb\u003eCan you help me rebuild this thing before schools reopen tomorrow?\u003c/b\u003e\u003cbr\u003e\n",
        "\u003cbr\u003e\n",
        "Thanks,\u003cbr\u003e\n",
        "Bobby\u003cbr\u003e\u003cbr\u003e\n",
        "\u003cdiv\u003e"
      ]
    },
    {
      "cell_type": "markdown",
      "metadata": {
        "id": "oc9qFFkQ4eCQ"
      },
      "source": [
        "### Student record storage"
      ]
    },
    {
      "cell_type": "markdown",
      "metadata": {
        "id": "spedHhTodXS5"
      },
      "source": [
        "Bobby tells you that in the backup data, each student has their records stored in an instance of the `StudentRecord` class."
      ]
    },
    {
      "cell_type": "code",
      "execution_count": null,
      "metadata": {
        "id": "kB2w5Mz6e0DA"
      },
      "outputs": [],
      "source": [
        "#persistent\n",
        "class StudentRecord:\n",
        "\n",
        "  def __init__(self, id, name, grade):\n",
        "    self.id = id # student ID, e.g. 12345\n",
        "    self.name = name # student name, e.g. Bobby Tables\n",
        "    self.grade = grade # student grade, e.g. 7\n",
        "    self.records = None # student records such as exam marks, absences"
      ]
    },
    {
      "cell_type": "markdown",
      "metadata": {
        "id": "q0wnhcEXfPDj"
      },
      "source": [
        "The backup data is an array of the 952 students enrolled in the middle school. An example of four students is below."
      ]
    },
    {
      "cell_type": "code",
      "execution_count": null,
      "metadata": {
        "id": "zbA7lHqgfQE6"
      },
      "outputs": [],
      "source": [
        "leia_evans = StudentRecord(12345, 'Leia Evans', 7)\n",
        "niena_york = StudentRecord(97531, 'Niena York', 6)\n",
        "thomas_cruz = StudentRecord(2468, 'Thomas Cruz', 8)\n",
        "steph_jolly = StudentRecord(567890, 'Steph Jolly', 6)\n",
        "\n",
        "# The backup data of the school contains 952 students, not just 4.\n",
        "all_students = [leia_evans, niena_york, thomas_cruz, steph_jolly]"
      ]
    },
    {
      "cell_type": "markdown",
      "metadata": {
        "id": "YXbuKvZJ4sXj"
      },
      "source": [
        "### Using a hash table to help"
      ]
    },
    {
      "cell_type": "markdown",
      "metadata": {
        "id": "132y8ozehPye"
      },
      "source": [
        "Since there is no way to look up a student based on student ID or name, this format is incompatible with the server. Based on Steph's suggestion, Bobby wants to store this data in a hash table with the student ID as the key. With help from Steph, Bobby has put together the skeleton of a `StudentHashTable` class. But he needs help implementing some of the core methods."
      ]
    },
    {
      "cell_type": "code",
      "execution_count": null,
      "metadata": {
        "id": "COuefJzglRVR"
      },
      "outputs": [],
      "source": [
        "class StudentHashTable:\n",
        "\n",
        "  # This is the default initial table size for the hash table.\n",
        "  INITIAL_TABLE_SIZE = 1000\n",
        "\n",
        "  def __init__(self):\n",
        "    self.current_table_size = self.INITIAL_TABLE_SIZE\n",
        "    self.buckets = [None] * self.INITIAL_TABLE_SIZE\n",
        "    self.bucket_in_use = [False] * self.INITIAL_TABLE_SIZE\n",
        "    self.num_buckets_in_use = 0"
      ]
    },
    {
      "cell_type": "markdown",
      "metadata": {
        "id": "qGjhH0QON_wZ"
      },
      "source": [
        "## Question 1"
      ]
    },
    {
      "cell_type": "markdown",
      "metadata": {
        "id": "wv5jpFUFN_wZ"
      },
      "source": [
        "Along with sending you that skeleton of his `StudentHashTable` class, Bobby asks, \"Before I get too deep into this hash table implementation, are we sure using a hash table is the right move? Would another data structure work?\"\n",
        "\n",
        "What statements should you tell him?"
      ]
    },
    {
      "cell_type": "markdown",
      "metadata": {
        "id": "GIuQ9hQw3pXr"
      },
      "source": [
        "**a)** A list may not work well, here, because students are indexed by ID and we don't have a guarantee that IDs are in strictly increasing order.\n",
        "\n",
        "**b)** A linked list may be a great data structure to use instead of a hash table, since we can then access all of the student data in some ordering.\n",
        "\n",
        "**c)** A hash table may not be a good idea, since there's no guaranteed ordering of the keys in a hash table.\n",
        "\n",
        "**d)** A hash table is a good data structure to use, here, as there's a clear key-value relationship between a student's name or ID and the rest of their information.\n"
      ]
    },
    {
      "cell_type": "markdown",
      "metadata": {
        "id": "ldoR-O9I3kTC"
      },
      "source": [
        "### Solution"
      ]
    },
    {
      "cell_type": "markdown",
      "metadata": {
        "id": "HjXYgJy-3qpf"
      },
      "source": [
        "The correct responses are **a)** and **d)**. \n",
        "\n",
        "**b)** Bobby wants a way to look up students based on their ID or name, not just to iterate through the list.\n",
        "\n",
        "**c)** While that's a true statement about hash tables, it's not a problem, here, as Bobby wants to be able to store student records based on ID and then use the ID to retrieve them."
      ]
    },
    {
      "cell_type": "markdown",
      "metadata": {
        "id": "ACFTw_a4JRMH"
      },
      "source": [
        "## Question 2"
      ]
    },
    {
      "cell_type": "markdown",
      "metadata": {
        "id": "ONvhTbhgiKD2"
      },
      "source": [
        "Bobby wants the lookup value to be the integer student ID because it is the unique identifier of a student. You explain to Bobby that the hash function you choose should always have `current_table_size` as the number of possible buckets."
      ]
    },
    {
      "cell_type": "markdown",
      "metadata": {
        "id": "igioEN164_A0"
      },
      "source": [
        "Write a hash function to hash a student ID to an integer with the appropriate number of buckets."
      ]
    },
    {
      "cell_type": "code",
      "execution_count": null,
      "metadata": {
        "id": "37MMqTCk5Dvm"
      },
      "outputs": [],
      "source": [
        "class StudentHashTable:\n",
        "\n",
        "  # This is the default initial table size for the hash table.\n",
        "  INITIAL_TABLE_SIZE = 1000\n",
        "\n",
        "  def __init__(self):\n",
        "    self.current_table_size = self.INITIAL_TABLE_SIZE\n",
        "    self.buckets = [None] * self.INITIAL_TABLE_SIZE\n",
        "    self.bucket_in_use = [False] * self.INITIAL_TABLE_SIZE\n",
        "    self.num_buckets_in_use = 0\n",
        "  \n",
        "  def hash_function(self, student_id):\n",
        "    # TODO(you): Implement\n",
        "    print('This method has not been implemented.')"
      ]
    },
    {
      "cell_type": "markdown",
      "metadata": {
        "id": "qBit-Hkx_5OT"
      },
      "source": [
        "### Unit Tests\n",
        "\n",
        "Run the following cell to check your answer against some unit tests."
      ]
    },
    {
      "cell_type": "code",
      "execution_count": null,
      "metadata": {
        "id": "ZvEuWTzb_6az"
      },
      "outputs": [],
      "source": [
        "student_hash_table = StudentHashTable()\n",
        "\n",
        "# Check that a student ID value is hashed to an appropriate bucket.\n",
        "h = student_hash_table.hash_function(12345)\n",
        "print(0 \u003c= h \u003c 1000)\n",
        "# Should print: True"
      ]
    },
    {
      "cell_type": "markdown",
      "metadata": {
        "id": "rpPr3rA948oQ"
      },
      "source": [
        "### Solution"
      ]
    },
    {
      "cell_type": "code",
      "execution_count": null,
      "metadata": {
        "id": "uJvv_zEC5LNg"
      },
      "outputs": [],
      "source": [
        "class StudentHashTable:\n",
        "\n",
        "  # This is the default initial table size for the hash table.\n",
        "  INITIAL_TABLE_SIZE = 1000\n",
        "\n",
        "  def __init__(self):\n",
        "    self.current_table_size = self.INITIAL_TABLE_SIZE\n",
        "    self.buckets = [None] * self.INITIAL_TABLE_SIZE\n",
        "    self.bucket_in_use = [False] * self.INITIAL_TABLE_SIZE\n",
        "    self.num_buckets_in_use = 0\n",
        "  \n",
        "  def hash_function(self, student_id):\n",
        "    return student_id % self.current_table_size"
      ]
    },
    {
      "cell_type": "markdown",
      "metadata": {
        "id": "7ePvJAPYKyWM"
      },
      "source": [
        "## Question 3"
      ]
    },
    {
      "cell_type": "markdown",
      "metadata": {
        "id": "KoTtHVlhEwto"
      },
      "source": [
        "The high school has 952 students, so Bobby set the `INITIAL_TABLE_SIZE` at 1000 in order to fit all of the students. You explain to him that there is no guarantee that the `hash_function` method will always assign different student IDs to different hash keys. Therefore, Bobby needs some kind of **collision resolution**."
      ]
    },
    {
      "cell_type": "markdown",
      "metadata": {
        "id": "rLC7fqfH48nE"
      },
      "source": [
        "Write a method called `resolve_collisions` that searches for an empty bucket using linear resolution."
      ]
    },
    {
      "cell_type": "code",
      "execution_count": null,
      "metadata": {
        "id": "oNIENBzkFXiN"
      },
      "outputs": [],
      "source": [
        "class StudentHashTable:\n",
        "\n",
        "  # This is the default initial table size for the hash table.\n",
        "  INITIAL_TABLE_SIZE = 1000\n",
        "\n",
        "  def __init__(self):\n",
        "    self.current_table_size = self.INITIAL_TABLE_SIZE\n",
        "    self.buckets = [None] * self.INITIAL_TABLE_SIZE\n",
        "    self.bucket_in_use = [False] * self.INITIAL_TABLE_SIZE\n",
        "    self.num_buckets_in_use = 0\n",
        "  \n",
        "  def hash_function(self, student_id):\n",
        "    return student_id % self.current_table_size\n",
        "  \n",
        "  def resolve_collisions(self, key):\n",
        "    # TODO(you): Implement\n",
        "    print('This function has not been implemented.')"
      ]
    },
    {
      "cell_type": "markdown",
      "metadata": {
        "id": "lTLVldSzFpTl"
      },
      "source": [
        "### Unit Tests\n",
        "\n",
        "Run the following cell to check your answer against some unit tests."
      ]
    },
    {
      "cell_type": "code",
      "execution_count": null,
      "metadata": {
        "id": "Pig8X4qtFqnb"
      },
      "outputs": [],
      "source": [
        "student_hash_table = StudentHashTable()\n",
        "\n",
        "# Fake a few hash table entries.\n",
        "student_hash_table.buckets[0] = 67890\n",
        "student_hash_table.bucket_in_use[0] = True\n",
        "student_hash_table.buckets[1] = 54321\n",
        "student_hash_table.bucket_in_use[1] = True\n",
        "student_hash_table.num_buckets_in_use = 2\n",
        "\n",
        "# 10000 is assigned to 0 (because hash_function(10000) = 0), so should resolve\n",
        "# to bucket 2 since 0 and 1 are filled.\n",
        "print(student_hash_table.resolve_collisions(10000))\n",
        "# Should print: 2"
      ]
    },
    {
      "cell_type": "markdown",
      "metadata": {
        "id": "Kst_Mnk3FeXx"
      },
      "source": [
        "### Solution"
      ]
    },
    {
      "cell_type": "code",
      "execution_count": null,
      "metadata": {
        "id": "H7fQ7C-jFhBT"
      },
      "outputs": [],
      "source": [
        "class StudentHashTable:\n",
        "\n",
        "  # This is the default initial table size for the hash table.\n",
        "  INITIAL_TABLE_SIZE = 1000\n",
        "\n",
        "  def __init__(self):\n",
        "    self.current_table_size = self.INITIAL_TABLE_SIZE\n",
        "    self.buckets = [None] * self.INITIAL_TABLE_SIZE\n",
        "    self.bucket_in_use = [False] * self.INITIAL_TABLE_SIZE\n",
        "    self.num_buckets_in_use = 0\n",
        "  \n",
        "  def hash_function(self, student_id):\n",
        "    return student_id % self.current_table_size\n",
        "  \n",
        "  def resolve_collisions(self, key):\n",
        "    # If we hit the same bucket twice during this linear resolution, we should\n",
        "    # notify the user that a collision couldn't be resolved.\n",
        "    bucket_num = self.hash_function(key)\n",
        "    initial_bucket_num = bucket_num\n",
        "    while self.bucket_in_use[bucket_num]:\n",
        "      bucket_num = (bucket_num + 1) % self.current_table_size\n",
        "      if bucket_num == initial_bucket_num:\n",
        "        raise ValueError(\n",
        "          'A hash table collision has occurred that cannot be resolved.')\n",
        "    return bucket_num"
      ]
    },
    {
      "cell_type": "markdown",
      "metadata": {
        "id": "N4BmHb6yMAaE"
      },
      "source": [
        "## Question 4"
      ]
    },
    {
      "cell_type": "markdown",
      "metadata": {
        "id": "iXKzWrhZ8id4"
      },
      "source": [
        "Now that Bobby has a method to resolve collisions, Bobby is confident that using a table size of 1000 will work. However, you explain to Bobby that while this will work for the current 952 students, if the number of students increases past 1000 next year, this hash table will no longer work, and we will have to keep updating `INITIAL_TABLE_SIZE` manually. Instead, you suggest Bobby **resize the table**. This step involves creating new available buckets for the hash table."
      ]
    },
    {
      "cell_type": "markdown",
      "metadata": {
        "id": "3KpXH_3i46VE"
      },
      "source": [
        "Write a `resize` method. Your method should double the number of buckets when it is called. You should use the `RESIZE_FACTOR` class constant in your function."
      ]
    },
    {
      "cell_type": "code",
      "execution_count": null,
      "metadata": {
        "id": "U5PN2L-W9kap"
      },
      "outputs": [],
      "source": [
        "class StudentHashTable:\n",
        "\n",
        "  # This is the default initial table size for the hash table.\n",
        "  INITIAL_TABLE_SIZE = 1000\n",
        "\n",
        "  # This indicates how much the backing table will expand when we resize, e.g.\n",
        "  # if RESIZE_FACTOR == 2, the table will double in size when resize() is\n",
        "  # called.\n",
        "  RESIZE_FACTOR = 2\n",
        "\n",
        "  def __init__(self):\n",
        "    self.current_table_size = self.INITIAL_TABLE_SIZE\n",
        "    self.buckets = [None] * self.INITIAL_TABLE_SIZE\n",
        "    self.bucket_in_use = [False] * self.INITIAL_TABLE_SIZE\n",
        "    self.num_buckets_in_use = 0\n",
        "  \n",
        "  def hash_function(self, student_id):\n",
        "    return student_id % self.current_table_size\n",
        "\n",
        "  def resolve_collisions(self, key):\n",
        "    # If we hit the same bucket twice during this linear resolution, we should\n",
        "    # notify the user that a collision couldn't be resolved.\n",
        "    bucket_num = self.hash_function(key)\n",
        "    initial_bucket_num = bucket_num\n",
        "    while self.bucket_in_use[bucket_num]:\n",
        "      bucket_num = (bucket_num + 1) % self.current_table_size\n",
        "      if bucket_num == initial_bucket_num:\n",
        "        raise ValueError(\n",
        "          'A hash table collision has occurred that cannot be resolved.')\n",
        "    return bucket_num\n",
        "\n",
        "  def resize(self):\n",
        "    # TODO(you): Implement\n",
        "    print('This method has not been implemented.')"
      ]
    },
    {
      "cell_type": "markdown",
      "metadata": {
        "id": "Z2f7U9J9Bmkb"
      },
      "source": [
        "### Unit Tests\n",
        "\n",
        "Run the following cell to check your answer against some unit tests."
      ]
    },
    {
      "cell_type": "code",
      "execution_count": null,
      "metadata": {
        "id": "xJf8djdKBnyV"
      },
      "outputs": [],
      "source": [
        "student_hash_table = StudentHashTable()\n",
        "n = len(student_hash_table.buckets)\n",
        "\n",
        "student_hash_table.resize()\n",
        "print(len(student_hash_table.buckets) == student_hash_table.RESIZE_FACTOR * n)\n",
        "# Should print: True"
      ]
    },
    {
      "cell_type": "markdown",
      "metadata": {
        "id": "HdpQjpCf97wt"
      },
      "source": [
        "### Solution"
      ]
    },
    {
      "cell_type": "code",
      "execution_count": null,
      "metadata": {
        "id": "ix6vRCiR98qI"
      },
      "outputs": [],
      "source": [
        "class StudentHashTable:\n",
        "\n",
        "  # This is the default initial table size for the hash table.\n",
        "  INITIAL_TABLE_SIZE = 1000\n",
        "\n",
        "  # This indicates how much the backing table will expand when we resize, e.g.\n",
        "  # if RESIZE_FACTOR == 2, the table will double in size when resize() is\n",
        "  # called.\n",
        "  RESIZE_FACTOR = 2\n",
        "\n",
        "  def __init__(self):\n",
        "    self.current_table_size = self.INITIAL_TABLE_SIZE\n",
        "    self.buckets = [None] * self.INITIAL_TABLE_SIZE\n",
        "    self.bucket_in_use = [False] * self.INITIAL_TABLE_SIZE\n",
        "    self.num_buckets_in_use = 0\n",
        "  \n",
        "  def hash_function(self, student_id):\n",
        "    return student_id % self.current_table_size\n",
        "\n",
        "  def resolve_collisions(self, key):\n",
        "    # If we hit the same bucket twice during this linear resolution, we should\n",
        "    # notify the user that a collision couldn't be resolved.\n",
        "    bucket_num = self.hash_function(key)\n",
        "    initial_bucket_num = bucket_num\n",
        "    while self.bucket_in_use[bucket_num]:\n",
        "      bucket_num = (bucket_num + 1) % self.current_table_size\n",
        "      if bucket_num == initial_bucket_num:\n",
        "        raise ValueError(\n",
        "          'A hash table collision has occurred that cannot be resolved.')\n",
        "    return bucket_num\n",
        "\n",
        "  def resize(self):\n",
        "    new_buckets = [None] * (len(self.buckets) * self.RESIZE_FACTOR)\n",
        "    new_bucket_in_use = [False] * (len(self.bucket_in_use) * self.RESIZE_FACTOR)\n",
        "    self.current_table_size *= self.RESIZE_FACTOR\n",
        "    for item in self.buckets:\n",
        "      if item is not None:\n",
        "        new_bucket_num = self.hash_function(item.key)\n",
        "        if new_bucket_in_use[new_bucket_num]:\n",
        "          new_bucket_num = self.resolve_collisions(item.key)\n",
        "        item.hash_code = new_bucket_num\n",
        "        new_buckets[new_bucket_num] = item\n",
        "        new_bucket_in_use[new_bucket_num] = True\n",
        "    self.buckets = new_buckets\n",
        "    self.bucket_in_use = new_bucket_in_use"
      ]
    },
    {
      "cell_type": "markdown",
      "metadata": {
        "id": "-_kMcwn7MwVT"
      },
      "source": [
        "## Question 5"
      ]
    },
    {
      "cell_type": "markdown",
      "metadata": {
        "id": "VzA7_pRt7fd0"
      },
      "source": [
        "Bobby has been eager to start inserting the student records in the hash table. And finally, we can!"
      ]
    },
    {
      "cell_type": "markdown",
      "metadata": {
        "id": "b2fYQmnn5DTV"
      },
      "source": [
        "Write a `put` method that adds an instance of the `StudentRecord` class to the hash table. It may be helpful to recall the `StudentRecord` class."
      ]
    },
    {
      "cell_type": "code",
      "execution_count": null,
      "metadata": {
        "id": "8MwTUgmmiFIG"
      },
      "outputs": [],
      "source": [
        "class StudentRecord:\n",
        "\n",
        "  def __init__(self, id, name, grade):\n",
        "    self.id = id # student ID, e.g. 12345\n",
        "    self.name = name # student name, e.g. Bobby Tables\n",
        "    self.grade = grade # student grade, e.g. 7\n",
        "    self.records = None # student records such as exam marks, absences"
      ]
    },
    {
      "cell_type": "markdown",
      "metadata": {
        "id": "-sHRT_CMiLUK"
      },
      "source": [
        "For an example usage of the desired `put` method, see below:\n",
        "\n",
        "```python\n",
        "leia_evans = StudentRecord(12345, 'Leia Evans', 7)\n",
        "student_hash_table = StudentHashTable()\n",
        "\n",
        "student_hash_table.put(leia_evans)\n",
        "# hash key: leia_evans.id\n",
        "# hash value: leia_evans\n",
        "```\n",
        "\n",
        "\n",
        "The method should resize the table if it is more than 75% full (see `BUCKET_RESIZE_PERCENTAGE` below)."
      ]
    },
    {
      "cell_type": "code",
      "execution_count": null,
      "metadata": {
        "id": "eTO4PxpyN7W0"
      },
      "outputs": [],
      "source": [
        "class StudentHashTable:\n",
        "\n",
        "  # This is the default initial table size for the hash table.\n",
        "  INITIAL_TABLE_SIZE = 1000\n",
        "\n",
        "  # This indicates how much the backing table will expand when we resize, e.g.\n",
        "  # if RESIZE_FACTOR == 2, the table will double in size when resize() is\n",
        "  # called.\n",
        "  RESIZE_FACTOR = 2\n",
        "\n",
        "  # What % of buckets must be full before we resize?\n",
        "  BUCKET_RESIZE_PERCENTAGE = 0.75\n",
        "\n",
        "  def __init__(self):\n",
        "    self.current_table_size = self.INITIAL_TABLE_SIZE\n",
        "    self.buckets = [None] * self.INITIAL_TABLE_SIZE\n",
        "    self.bucket_in_use = [False] * self.INITIAL_TABLE_SIZE\n",
        "    self.num_buckets_in_use = 0\n",
        "  \n",
        "  def hash_function(self, student_id):\n",
        "    return student_id % self.current_table_size\n",
        "\n",
        "  def resolve_collisions(self, key):\n",
        "    # If we hit the same bucket twice during this linear resolution, we should\n",
        "    # notify the user that a collision couldn't be resolved.\n",
        "    bucket_num = self.hash_function(key)\n",
        "    initial_bucket_num = bucket_num\n",
        "    while self.bucket_in_use[bucket_num]:\n",
        "      bucket_num = (bucket_num + 1) % self.current_table_size\n",
        "      if bucket_num == initial_bucket_num:\n",
        "        raise ValueError(\n",
        "          'A hash table collision has occurred that cannot be resolved.')\n",
        "    return bucket_num\n",
        "\n",
        "  def resize(self):\n",
        "    new_buckets = [None] * (len(self.buckets) * self.RESIZE_FACTOR)\n",
        "    new_bucket_in_use = [False] * (len(self.bucket_in_use) * self.RESIZE_FACTOR)\n",
        "    self.current_table_size *= self.RESIZE_FACTOR\n",
        "    for item in self.buckets:\n",
        "      if item is not None:\n",
        "        new_bucket_num = self.hash_function(item.key)\n",
        "        if new_bucket_in_use[new_bucket_num]:\n",
        "          new_bucket_num = self.resolve_collisions(item.key)\n",
        "        item.hash_code = new_bucket_num\n",
        "        new_buckets[new_bucket_num] = item\n",
        "        new_bucket_in_use[new_bucket_num] = True\n",
        "    self.buckets = new_buckets\n",
        "    self.bucket_in_use = new_bucket_in_use\n",
        "\n",
        "  def put(self, student):\n",
        "    # Puts an instance of the StudentRecord class in the hash table.\n",
        "    # TODO(you): Implement\n",
        "    print('This method has not been implemented.')"
      ]
    },
    {
      "cell_type": "markdown",
      "metadata": {
        "id": "FwpNpR1xQdA_"
      },
      "source": [
        "### Unit Tests\n",
        "\n",
        "Run the following cell to check your answer against some unit tests."
      ]
    },
    {
      "cell_type": "code",
      "execution_count": null,
      "metadata": {
        "id": "s4pCsMiYQd_A"
      },
      "outputs": [],
      "source": [
        "student_hash_table = StudentHashTable()\n",
        "\n",
        "leia_evans = StudentRecord(12345, 'Leia Evans', 7)\n",
        "student_hash_table.put(leia_evans)\n",
        "\n",
        "print(student_hash_table.buckets[345].id)\n",
        "# Should print: 12345\n",
        "print(student_hash_table.buckets[345].name)\n",
        "# Should print: Leia Evans\n",
        "\n",
        "niena_york = StudentRecord(98345, 'Niena York', 8)\n",
        "student_hash_table.put(niena_york)\n",
        "\n",
        "print(student_hash_table.buckets[346].id)\n",
        "# Should print: 98345\n",
        "print(student_hash_table.buckets[346].name)\n",
        "# Should print: Niena York"
      ]
    },
    {
      "cell_type": "markdown",
      "metadata": {
        "id": "FFDse8TX8RH4"
      },
      "source": [
        "### Solution"
      ]
    },
    {
      "cell_type": "code",
      "execution_count": null,
      "metadata": {
        "id": "PU2SnFjROKr_"
      },
      "outputs": [],
      "source": [
        "class StudentHashTable:\n",
        "\n",
        "  # This is the default initial table size for the hash table.\n",
        "  INITIAL_TABLE_SIZE = 1000\n",
        "\n",
        "  # This indicates how much the backing table will expand when we resize, e.g.\n",
        "  # if RESIZE_FACTOR == 2, the table will double in size when resize() is\n",
        "  # called.\n",
        "  RESIZE_FACTOR = 2\n",
        "\n",
        "  # What % of buckets must be full before we resize?\n",
        "  BUCKET_RESIZE_PERCENTAGE = 0.75\n",
        "\n",
        "  def __init__(self):\n",
        "    self.current_table_size = self.INITIAL_TABLE_SIZE\n",
        "    self.buckets = [None] * self.INITIAL_TABLE_SIZE\n",
        "    self.bucket_in_use = [False] * self.INITIAL_TABLE_SIZE\n",
        "    self.num_buckets_in_use = 0\n",
        "  \n",
        "  def hash_function(self, student_id):\n",
        "    return student_id % self.current_table_size\n",
        "\n",
        "  def resolve_collisions(self, key):\n",
        "    # If we hit the same bucket twice during this linear resolution, we should\n",
        "    # notify the user that a collision couldn't be resolved.\n",
        "    bucket_num = self.hash_function(key)\n",
        "    initial_bucket_num = bucket_num\n",
        "    while self.bucket_in_use[bucket_num]:\n",
        "      bucket_num = (bucket_num + 1) % self.current_table_size\n",
        "      if bucket_num == initial_bucket_num:\n",
        "        raise ValueError(\n",
        "          'A hash table collision has occurred that cannot be resolved.')\n",
        "    return bucket_num\n",
        "\n",
        "  def resize(self):\n",
        "    new_buckets = [None] * (len(self.buckets) * self.RESIZE_FACTOR)\n",
        "    new_bucket_in_use = [False] * (len(self.bucket_in_use) * self.RESIZE_FACTOR)\n",
        "    self.current_table_size *= self.RESIZE_FACTOR\n",
        "    for item in self.buckets:\n",
        "      if item is not None:\n",
        "        new_bucket_num = self.hash_function(item.key)\n",
        "        if new_bucket_in_use[new_bucket_num]:\n",
        "          new_bucket_num = self.resolve_collisions(item.key)\n",
        "        item.hash_code = new_bucket_num\n",
        "        new_buckets[new_bucket_num] = item\n",
        "        new_bucket_in_use[new_bucket_num] = True\n",
        "    self.buckets = new_buckets\n",
        "    self.bucket_in_use = new_bucket_in_use\n",
        "\n",
        "  def put(self, student_record):\n",
        "    # Resize if the filled proportion is more than the threshold.\n",
        "    if self.num_buckets_in_use \u003e= (\n",
        "        len(self.buckets) * self.BUCKET_RESIZE_PERCENTAGE):\n",
        "      self.resize()\n",
        "    bucket_num = self.hash_function(student_record.id)\n",
        "    if self.bucket_in_use[bucket_num]:\n",
        "      bucket_num = self.resolve_collisions(student_record.id)\n",
        "    # Add the StudentRecord instance to the hash table.\n",
        "    self.buckets[bucket_num] = student_record\n",
        "    self.bucket_in_use[bucket_num] = True"
      ]
    },
    {
      "cell_type": "markdown",
      "metadata": {
        "id": "FjSMxWrAN4pS"
      },
      "source": [
        "## Question 6"
      ]
    },
    {
      "cell_type": "markdown",
      "metadata": {
        "id": "nVXIo1z6UEk_"
      },
      "source": [
        "The reason that Steph, Bobby's manager, wanted to use a hash table for the student records is that this data structure allows us to easily look up values based on the key."
      ]
    },
    {
      "cell_type": "markdown",
      "metadata": {
        "id": "bGfsKNBk5Hll"
      },
      "source": [
        "Write a method called `get` that retrieves the instance of `StudentRecord` associated with a given student ID. You should raise a `ValueError` if the input student ID cannot be found."
      ]
    },
    {
      "cell_type": "code",
      "execution_count": null,
      "metadata": {
        "id": "eszcZLjOUg9D"
      },
      "outputs": [],
      "source": [
        "class StudentHashTable:\n",
        "\n",
        "  # This is the default initial table size for the hash table.\n",
        "  INITIAL_TABLE_SIZE = 1000\n",
        "\n",
        "  # This indicates how much the backing table will expand when we resize, e.g.\n",
        "  # if RESIZE_FACTOR == 2, the table will double in size when resize() is\n",
        "  # called.\n",
        "  RESIZE_FACTOR = 2\n",
        "\n",
        "  # What % of buckets must be full before we resize?\n",
        "  BUCKET_RESIZE_PERCENTAGE = 0.75\n",
        "\n",
        "  def __init__(self):\n",
        "    self.current_table_size = self.INITIAL_TABLE_SIZE\n",
        "    self.buckets = [None] * self.INITIAL_TABLE_SIZE\n",
        "    self.bucket_in_use = [False] * self.INITIAL_TABLE_SIZE\n",
        "    self.num_buckets_in_use = 0\n",
        "  \n",
        "  def hash_function(self, student_id):\n",
        "    return student_id % self.current_table_size\n",
        "\n",
        "  def resolve_collisions(self, key):\n",
        "    # If we hit the same bucket twice during this linear resolution, we should\n",
        "    # notify the user that a collision couldn't be resolved.\n",
        "    bucket_num = self.hash_function(key)\n",
        "    initial_bucket_num = bucket_num\n",
        "    while self.bucket_in_use[bucket_num]:\n",
        "      bucket_num = (bucket_num + 1) % self.current_table_size\n",
        "      if bucket_num == initial_bucket_num:\n",
        "        raise ValueError(\n",
        "          'A hash table collision has occurred that cannot be resolved.')\n",
        "    return bucket_num\n",
        "\n",
        "  def resize(self):\n",
        "    new_buckets = [None] * (len(self.buckets) * self.RESIZE_FACTOR)\n",
        "    new_bucket_in_use = [False] * (len(self.bucket_in_use) * self.RESIZE_FACTOR)\n",
        "    self.current_table_size *= self.RESIZE_FACTOR\n",
        "    for item in self.buckets:\n",
        "      if item is not None:\n",
        "        new_bucket_num = self.hash_function(item.key)\n",
        "        if new_bucket_in_use[new_bucket_num]:\n",
        "          new_bucket_num = self.resolve_collisions(item.key)\n",
        "        item.hash_code = new_bucket_num\n",
        "        new_buckets[new_bucket_num] = item\n",
        "        new_bucket_in_use[new_bucket_num] = True\n",
        "    self.buckets = new_buckets\n",
        "    self.bucket_in_use = new_bucket_in_use\n",
        "\n",
        "  def put(self, student_record):\n",
        "    # Resize if the filled proportion is more than the threshold.\n",
        "    if self.num_buckets_in_use \u003e= (\n",
        "        len(self.buckets) * self.BUCKET_RESIZE_PERCENTAGE):\n",
        "      self.resize()\n",
        "    bucket_num = self.hash_function(student_record.id)\n",
        "    if self.bucket_in_use[bucket_num]:\n",
        "      bucket_num = self.resolve_collisions(student_record.id)\n",
        "    # Add the StudentRecord instance to the hash table.\n",
        "    self.buckets[bucket_num] = student_record\n",
        "    self.bucket_in_use[bucket_num] = True\n",
        "\n",
        "  def get(self, id):\n",
        "    # TODO(you): Implement\n",
        "    print('This function has not been implemented.')"
      ]
    },
    {
      "cell_type": "markdown",
      "metadata": {
        "id": "qj0p_qaKV069"
      },
      "source": [
        "### Unit Tests\n",
        "\n",
        "Run the following cell to check your answer against some unit tests."
      ]
    },
    {
      "cell_type": "code",
      "execution_count": null,
      "metadata": {
        "id": "65wIkWkoV3KN"
      },
      "outputs": [],
      "source": [
        "student_hash_table = StudentHashTable()\n",
        "\n",
        "# Make sure we can retrieve Leia's student records from her ID.\n",
        "leia_evans = StudentRecord(12345, 'Leia Evans', 7)\n",
        "student_hash_table.put(leia_evans)\n",
        "got = student_hash_table.get(12345)\n",
        "print(got.id)\n",
        "# Should print: 12345\n",
        "print(got.name)\n",
        "# Should print: Leia Evans\n",
        "\n",
        "student_hash_table.get(123456)\n",
        "# Should raise: ValueError"
      ]
    },
    {
      "cell_type": "markdown",
      "metadata": {
        "id": "dDBkyv1VUnjh"
      },
      "source": [
        "### Solution"
      ]
    },
    {
      "cell_type": "code",
      "execution_count": null,
      "metadata": {
        "id": "hRgQwI3mUodU"
      },
      "outputs": [],
      "source": [
        "#persistent\n",
        "class StudentHashTable:\n",
        "\n",
        "  # This is the default initial table size for the hash table.\n",
        "  INITIAL_TABLE_SIZE = 1000\n",
        "\n",
        "  # This indicates how much the backing table will expand when we resize, e.g.\n",
        "  # if RESIZE_FACTOR == 2, the table will double in size when resize() is\n",
        "  # called.\n",
        "  RESIZE_FACTOR = 2\n",
        "\n",
        "  # What % of buckets must be full before we resize?\n",
        "  BUCKET_RESIZE_PERCENTAGE = 0.75\n",
        "\n",
        "  def __init__(self):\n",
        "    self.current_table_size = self.INITIAL_TABLE_SIZE\n",
        "    self.buckets = [None] * self.INITIAL_TABLE_SIZE\n",
        "    self.bucket_in_use = [False] * self.INITIAL_TABLE_SIZE\n",
        "    self.num_buckets_in_use = 0\n",
        "  \n",
        "  def hash_function(self, student_id):\n",
        "    return student_id % self.current_table_size\n",
        "\n",
        "  def resolve_collisions(self, key):\n",
        "    # If we hit the same bucket twice during this linear resolution, we should\n",
        "    # notify the user that a collision couldn't be resolved.\n",
        "    bucket_num = self.hash_function(key)\n",
        "    initial_bucket_num = bucket_num\n",
        "    while self.bucket_in_use[bucket_num]:\n",
        "      bucket_num = (bucket_num + 1) % self.current_table_size\n",
        "      if bucket_num == initial_bucket_num:\n",
        "        raise ValueError(\n",
        "          'A hash table collision has occurred that cannot be resolved.')\n",
        "    return bucket_num\n",
        "\n",
        "  def resize(self):\n",
        "    new_buckets = [None] * (len(self.buckets) * self.RESIZE_FACTOR)\n",
        "    new_bucket_in_use = [False] * (len(self.bucket_in_use) * self.RESIZE_FACTOR)\n",
        "    self.current_table_size *= self.RESIZE_FACTOR\n",
        "    for item in self.buckets:\n",
        "      if item is not None:\n",
        "        new_bucket_num = self.hash_function(item.key)\n",
        "        if new_bucket_in_use[new_bucket_num]:\n",
        "          new_bucket_num = self.resolve_collisions(item.key)\n",
        "        item.hash_code = new_bucket_num\n",
        "        new_buckets[new_bucket_num] = item\n",
        "        new_bucket_in_use[new_bucket_num] = True\n",
        "    self.buckets = new_buckets\n",
        "    self.bucket_in_use = new_bucket_in_use\n",
        "\n",
        "  def put(self, student_record):\n",
        "    # Resize if the filled proportion is more than the threshold.\n",
        "    if self.num_buckets_in_use \u003e= (\n",
        "        len(self.buckets) * self.BUCKET_RESIZE_PERCENTAGE):\n",
        "      self.resize()\n",
        "    bucket_num = self.hash_function(student_record.id)\n",
        "    if self.bucket_in_use[bucket_num]:\n",
        "      bucket_num = self.resolve_collisions(student_record.id)\n",
        "    # Add the StudentRecord instance to the hash table.\n",
        "    self.buckets[bucket_num] = student_record\n",
        "    self.bucket_in_use[bucket_num] = True\n",
        "\n",
        "  def get(self, id):\n",
        "    student_record = None\n",
        "    for bucket_num in range(self.current_table_size):\n",
        "      if (self.buckets[bucket_num] is not None and\n",
        "          self.buckets[bucket_num].id == id):\n",
        "        student_record = self.buckets[bucket_num]\n",
        "        break\n",
        "    if student_record is not None:\n",
        "      return student_record\n",
        "    else:\n",
        "      raise ValueError('Could not find student with ID %d' % id)"
      ]
    },
    {
      "cell_type": "markdown",
      "metadata": {
        "id": "QurboQb1TuKz"
      },
      "source": [
        "## Congratulations!"
      ]
    },
    {
      "cell_type": "markdown",
      "metadata": {
        "id": "G5ayb_jaTv1r"
      },
      "source": [
        "Steph has seen the hash table design that Bobby has brought to her, and she is thrilled! This design has allowed the team to quickly populate the hash table as follows:"
      ]
    },
    {
      "cell_type": "code",
      "execution_count": null,
      "metadata": {
        "id": "nEoU2J8XT6no"
      },
      "outputs": [],
      "source": [
        "leia_evans = StudentRecord(12345, 'Leia Evans', 7)\n",
        "niena_york = StudentRecord(97531, 'Niena York', 6)\n",
        "thomas_cruz = StudentRecord(2468, 'Thomas Cruz', 8)\n",
        "steph_jolly = StudentRecord(567890, 'Steph Jolly', 6)\n",
        "\n",
        "# The backup data of the school contains 952 students, not just 4.\n",
        "all_students = [leia_evans, niena_york, thomas_cruz, steph_jolly]"
      ]
    },
    {
      "cell_type": "code",
      "execution_count": null,
      "metadata": {
        "id": "y0UUCMbEBtfU"
      },
      "outputs": [],
      "source": [
        "student_hash_table = StudentHashTable()\n",
        "\n",
        "for student in all_students:\n",
        "  student_hash_table.put(student)"
      ]
    },
    {
      "cell_type": "markdown",
      "metadata": {
        "id": "mtkcusFgeF6T"
      },
      "source": [
        "And a student's records can be very easily retrieved."
      ]
    },
    {
      "cell_type": "code",
      "execution_count": null,
      "metadata": {
        "id": "3T2EmosUeIkn"
      },
      "outputs": [],
      "source": [
        "student = student_hash_table.get(97531)\n",
        "print('The student with ID %d has name %s and is in grade %d.' %\n",
        "      (student.id, student.name, student.grade))"
      ]
    },
    {
      "cell_type": "markdown",
      "metadata": {
        "id": "ewuWnp6_5fH4"
      },
      "source": [
        "---"
      ]
    },
    {
      "cell_type": "markdown",
      "metadata": {
        "id": "2lng2T0Ge_lU"
      },
      "source": [
        "Bobby mentioned to Steph how instrumental you were in helping him out so quickly, and Steph sent you the following email, cc'ing your manager Amina."
      ]
    },
    {
      "cell_type": "markdown",
      "metadata": {
        "id": "c25wsgOTfW9M"
      },
      "source": [
        "\u003cdiv style=\"background: #f5f5f5; padding: 15px; box-shadow: 0px 2px 4px #9991;\"\u003e\n",
        "\u003cbr\u003e\n",
        "\u003cb\u003eFrom:\u003c/b\u003e Steph Team-Lead \u0026lt;stephtl@bridgecorp.com\u0026gt;\u003cbr\u003e\n",
        "\u003cb\u003eTo:\u003c/b\u003e You \u0026lt;you@bridgecorp.com\u0026gt;\u003cbr\u003e\n",
        "\u003cb\u003eTo:\u003c/b\u003e Amina Algos \u0026lt;aalgos@bridgecorp.com\u0026gt;\u003cbr\u003e\n",
        "\u003cb\u003eSubject:\u003c/b\u003e Thank you so much\u003cbr\u003e\n",
        "\u003cbr\u003e  \n",
        "Hi,\u003cbr\u003e\n",
        "\u003cbr\u003e\n",
        "Bobby mentioned to me how helpful you were with our high school data loss, and I wanted to personally thank you for your help. This was a huge team effort, and without your technical knowledge, there is no way we could have recovered that data within the timeframe we had. This work is of critical importance to both us and our client. Thank you so much for your contribution.\u003cbr\u003e\n",
        "\u003cbr\u003e\n",
        "We couldn't have done it without you. Thanks again.\u003cbr\u003e\n",
        "Steph\u003cbr\u003e\u003cbr\u003e\n",
        "\u003cdiv\u003e"
      ]
    }
  ],
  "metadata": {
    "colab": {
      "collapsed_sections": [
        "ldoR-O9I3kTC",
        "qBit-Hkx_5OT",
        "rpPr3rA948oQ",
        "lTLVldSzFpTl",
        "Kst_Mnk3FeXx",
        "Z2f7U9J9Bmkb",
        "HdpQjpCf97wt",
        "FwpNpR1xQdA_",
        "FFDse8TX8RH4",
        "qj0p_qaKV069",
        "dDBkyv1VUnjh",
        "QurboQb1TuKz"
      ],
      "name": "hash_tables_in_practice.ipynb",
      "private_outputs": true,
      "provenance": [ ]
    },
    "kernelspec": {
      "display_name": "Python 3",
      "name": "python3"
    }
  },
  "nbformat": 4,
  "nbformat_minor": 0
}
