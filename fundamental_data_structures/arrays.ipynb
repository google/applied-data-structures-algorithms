{
  "cells": [
    {
      "cell_type": "markdown",
      "metadata": {
        "id": "3FVIHSGuJBMK"
      },
      "source": [
        "# Arrays"
      ]
    },
    {
      "cell_type": "markdown",
      "metadata": {
        "id": "dolMOw0bJMsR"
      },
      "source": [
        "## Lesson Overview"
      ]
    },
    {
      "cell_type": "markdown",
      "metadata": {
        "id": "VkiQCNq72Bi2"
      },
      "source": [
        "The array is one of the most fundamental data structures in computer science. "
      ]
    },
    {
      "cell_type": "markdown",
      "metadata": {
        "id": "g15X20fRJQgI"
      },
      "source": [
        "An array in Python is called a **list**, and you can think of an array like an everyday list of things.\n",
        "\n",
        "**NOTE:** Since the Python implementation of an array is called a list, the words \"array\" and \"list\" are used interchangeably throughout this lesson."
      ]
    },
    {
      "cell_type": "markdown",
      "metadata": {
        "id": "vTD0wLiY2b7e"
      },
      "source": [
        "### Creating arrays"
      ]
    },
    {
      "cell_type": "markdown",
      "metadata": {
        "id": "G4IdlAMgPpmk"
      },
      "source": [
        "\u003e An **array** is an ordered collection of objects.\n",
        "\n",
        "Python's list allows different data types within the same array, e.g., `[\"a\", 1]`, but it is best practice to only create and use lists in which all elements have the same data type. In most other languages, the objects within an array must all have the same data type. Therefore, in this lesson, we will only consider arrays of the same type."
      ]
    },
    {
      "cell_type": "code",
      "execution_count": null,
      "metadata": {
        "id": "v8KHHlltMrSW"
      },
      "outputs": [],
      "source": [
        "int_list = [1, 3, 5, 7, 9]\n",
        "string_list = [\"This\", \"is\", \"an\", \"array\", \"of\", \"strings.\"]\n",
        "\n",
        "print(int_list)\n",
        "print(string_list)"
      ]
    },
    {
      "cell_type": "markdown",
      "metadata": {
        "id": "5faIS5z321nM"
      },
      "source": [
        "### Array indices"
      ]
    },
    {
      "cell_type": "markdown",
      "metadata": {
        "id": "TYqNZtPlPwpW"
      },
      "source": [
        "Since arrays have an ordering, elements are stored by integer **index**. This index starts at 0 and counts up."
      ]
    },
    {
      "cell_type": "code",
      "execution_count": null,
      "metadata": {
        "id": "AoMjOJ_RNOra"
      },
      "outputs": [],
      "source": [
        "int_list = [1, 3, 5, 7, 9]\n",
        "print(int_list[0])\n",
        "print(int_list[3])\n",
        "\n",
        "string_list = [\"This\", \"is\", \"an\", \"array\", \"of\", \"strings.\"]\n",
        "print(string_list[1])\n",
        "print(string_list[5])"
      ]
    },
    {
      "cell_type": "markdown",
      "metadata": {
        "id": "mm319UDs3cyK"
      },
      "source": [
        "### Accessing elements in an array"
      ]
    },
    {
      "cell_type": "markdown",
      "metadata": {
        "id": "4GIhGXfkN7J5"
      },
      "source": [
        "Python also provides various notations for accessing different indices of an array."
      ]
    },
    {
      "cell_type": "code",
      "execution_count": null,
      "metadata": {
        "id": "_fZhFfGeOacK"
      },
      "outputs": [],
      "source": [
        "int_list = [1, 3, 5, 7, 9]\n",
        "\n",
        "# Negatives are used to access indices from the reverse. For example, list[-1]\n",
        "# gets the last element in the list.\n",
        "print(int_list[-1])\n",
        "print(int_list[-2])\n",
        "\n",
        "# A \"slice\" of an array is a subset of the array accessed using \":\".\n",
        "print(int_list[:2])\n",
        "print(int_list[1:3])\n",
        "print(int_list[:-2])\n",
        "print(int_list[1:-1])\n",
        "print(int_list[-3:-1])"
      ]
    },
    {
      "cell_type": "markdown",
      "metadata": {
        "id": "DepHea5R3pha"
      },
      "source": [
        "### Accessing non-existent elements"
      ]
    },
    {
      "cell_type": "markdown",
      "metadata": {
        "id": "xk4dQ0cVNwyb"
      },
      "source": [
        "If you try to access an index that does not exist, Python raises an error."
      ]
    },
    {
      "cell_type": "code",
      "execution_count": null,
      "metadata": {
        "id": "bGIb2jWqN25G"
      },
      "outputs": [],
      "source": [
        "int_list = [1, 3, 5, 7, 9]\n",
        "print(int_list[100])"
      ]
    },
    {
      "cell_type": "markdown",
      "metadata": {
        "id": "fzLbNraK32PZ"
      },
      "source": [
        "### Repeated elements"
      ]
    },
    {
      "cell_type": "markdown",
      "metadata": {
        "id": "_JeIBZ3w0jiZ"
      },
      "source": [
        "The same element can appear at different indices of an array, resulting in duplicate elements. For example, `[1, 1, 1, 1]` is a valid array."
      ]
    },
    {
      "cell_type": "code",
      "execution_count": null,
      "metadata": {
        "id": "EWmpjYmb0l_M"
      },
      "outputs": [],
      "source": [
        "multiple_ones = [1, 1, 1, 1]\n",
        "print(multiple_ones[0])\n",
        "print(multiple_ones[3])"
      ]
    },
    {
      "cell_type": "markdown",
      "metadata": {
        "id": "tKxIMD5a39cm"
      },
      "source": [
        "### Array length"
      ]
    },
    {
      "cell_type": "markdown",
      "metadata": {
        "id": "UR8sf2--WS5p"
      },
      "source": [
        "You can get the length of an array using `len`."
      ]
    },
    {
      "cell_type": "code",
      "execution_count": null,
      "metadata": {
        "id": "FvY6rOf9WWKy"
      },
      "outputs": [],
      "source": [
        "int_list = [1, 3, 5, 7, 9]\n",
        "print(len(int_list))\n",
        "print(len(string_list))"
      ]
    },
    {
      "cell_type": "markdown",
      "metadata": {
        "id": "gcWAFDh64x8K"
      },
      "source": [
        "### Iterating over an array"
      ]
    },
    {
      "cell_type": "markdown",
      "metadata": {
        "id": "Q8TSRZ6p5Goj"
      },
      "source": [
        "Arrays can also be iterated over, using `for`. The exact implementation of this varies by language. "
      ]
    },
    {
      "cell_type": "markdown",
      "metadata": {
        "id": "MJ9G1vcCQdB2"
      },
      "source": [
        "Some languages let you iterate over the elements in the array, while others force you to loop through integer indices and access the elements within the loop.\n",
        "\n",
        "Throughout this lesson, these notations are used interchangeably. You should be familiar with both implementations."
      ]
    },
    {
      "cell_type": "code",
      "execution_count": null,
      "metadata": {
        "id": "xDCPs-nCXJPj"
      },
      "outputs": [],
      "source": [
        "int_list = [1, 3, 5, 7, 9]\n",
        "\n",
        "# Looping through a list using range.\n",
        "for i in int_list:\n",
        "  print(i)\n",
        "\n",
        "# Looping through a list via its index.\n",
        "# This can be useful when we want to access not only the element, but also the\n",
        "# index.\n",
        "for i in range(len(string_list)):\n",
        "  print(i, string_list[i])"
      ]
    },
    {
      "cell_type": "markdown",
      "metadata": {
        "id": "zfEwAxgJ48l6"
      },
      "source": [
        "### Appending elements"
      ]
    },
    {
      "cell_type": "markdown",
      "metadata": {
        "id": "0NFdkarFRyNi"
      },
      "source": [
        "Another important concept native to an array is appending data. The `append` method lets you attach data onto the end of an array."
      ]
    },
    {
      "cell_type": "code",
      "execution_count": null,
      "metadata": {
        "id": "8nwxErVjYmpu"
      },
      "outputs": [],
      "source": [
        "my_list = [1, 2]\n",
        "print(my_list)\n",
        "\n",
        "# Append one element.\n",
        "my_list.append(3)\n",
        "print(my_list)\n",
        "\n",
        "# Use a for loop to append several elements.\n",
        "for i in range(4, 8):\n",
        "  my_list.append(i)\n",
        "\n",
        "print(my_list)"
      ]
    },
    {
      "cell_type": "markdown",
      "metadata": {
        "id": "iiezxdCa56Ot"
      },
      "source": [
        "### Tuples"
      ]
    },
    {
      "cell_type": "markdown",
      "metadata": {
        "id": "uumzC1BR-jiF"
      },
      "source": [
        "Python and some (but not all) other programming languages include another data structure called a tuple, which is similar to an array.\n",
        "\n",
        "\u003e A tuple is an *immutable* list. That is, once initialized, the values and length of the tuple cannot be changed."
      ]
    },
    {
      "cell_type": "markdown",
      "metadata": {
        "id": "dbJOlbyu6GHO"
      },
      "source": [
        "A tuple has all of the same key properties as an array.\n",
        "\n",
        "- A tuple has a length.\n",
        "- A tuple can be iterated over.\n",
        "- Elements in a tuple can be accessed using indexing and slicing.\n",
        "\n",
        "However, any process that changes the length or the value of any of the elements of the tuple is forbidden. This includes assigning values to elements, appending or inserting new elements, and removing elements. The only way to change the elements in a tuple is to completely rewrite the tuple."
      ]
    },
    {
      "cell_type": "code",
      "execution_count": null,
      "metadata": {
        "id": "HQIdB_NpAw0K"
      },
      "outputs": [],
      "source": [
        "tup = (1, 2, 3)\n",
        "\n",
        "tup[0] = -1 # throws an error\n",
        "tup = (-1, 2, 3) # doesn't throw an error"
      ]
    },
    {
      "cell_type": "markdown",
      "metadata": {
        "id": "tr1Un05P6MCR"
      },
      "source": [
        "### List comprehension"
      ]
    },
    {
      "cell_type": "markdown",
      "metadata": {
        "id": "3XHQzVp46bpi"
      },
      "source": [
        "In Python, arrays can be created and modified using a simplified syntax called a list comprehension."
      ]
    },
    {
      "cell_type": "markdown",
      "metadata": {
        "id": "NXH5YIDV7lyc"
      },
      "source": [
        "This syntax is a shortcut to combine `for` and `if` statements into one line."
      ]
    },
    {
      "cell_type": "markdown",
      "metadata": {
        "id": "6FTlaixlpmjE"
      },
      "source": [
        "```python\n",
        "[ expression for item in list if conditional ]\n",
        "```"
      ]
    },
    {
      "cell_type": "markdown",
      "metadata": {
        "id": "ap1TGfBh6l60"
      },
      "source": [
        "List comprehension syntax is only applicable to handling lists and is only available in Python."
      ]
    },
    {
      "cell_type": "code",
      "execution_count": null,
      "metadata": {
        "id": "hThA_S7d8PTM"
      },
      "outputs": [],
      "source": [
        "# Create an array\n",
        "arr = [i for i in range(10)]\n",
        "print(arr)\n",
        "\n",
        "# Iterate through an array\n",
        "print([i for i in arr])\n",
        "\n",
        "# Iterate through an array with an if statement\n",
        "print([i for i in arr if i % 2 == 0])\n",
        "\n",
        "# Count the elements of an array that meet a criteria\n",
        "print(sum(1 for i in arr if i % 2 == 0))\n",
        "\n",
        "# Add the elements of an array that meet a criteria\n",
        "print(sum(i for i in arr if i % 2 == 0))"
      ]
    },
    {
      "cell_type": "markdown",
      "metadata": {
        "id": "N-bnJ3Ku6-Zm"
      },
      "source": [
        "### Arrays are passed by reference, not value"
      ]
    },
    {
      "cell_type": "markdown",
      "metadata": {
        "id": "9uHXVFL4jpu-"
      },
      "source": [
        "In Python, assigning a variable to an array assigns the variable to a reference in memory, not to a set of values. One important consequence of this is that if you set `new_array = array` and change the values of `new_array`, the values of the underlying `array` also change."
      ]
    },
    {
      "cell_type": "code",
      "execution_count": null,
      "metadata": {
        "id": "jhlA15oMjg-N"
      },
      "outputs": [],
      "source": [
        "array = [1, 2, 3]\n",
        "new_array = array\n",
        "\n",
        "# Change the first value of new_array.\n",
        "new_array[0] = 100\n",
        "print(new_array)\n",
        "# array[0] has also changed.\n",
        "print(array)\n",
        "\n",
        "print(array[0] == new_array[0])"
      ]
    },
    {
      "cell_type": "markdown",
      "metadata": {
        "id": "NMtLra_gk3C2"
      },
      "source": [
        "The best way to mitigate this is to use the `copy` method. Setting `new_array = array.copy()` creates a new variable `new_array` equal to the *values* of `array`, not the memory reference."
      ]
    },
    {
      "cell_type": "code",
      "execution_count": null,
      "metadata": {
        "id": "fIACpPmolI7Y"
      },
      "outputs": [],
      "source": [
        "array = [1, 2, 3]\n",
        "new_array = array.copy()\n",
        "\n",
        "# Change the first value of new_array.\n",
        "new_array[0] = 100\n",
        "print(new_array)\n",
        "# array[0] has not changed.\n",
        "print(array)\n",
        "\n",
        "print(array[0] == new_array[0])"
      ]
    },
    {
      "cell_type": "markdown",
      "metadata": {
        "id": "GNkuLDq3CdU0"
      },
      "source": [
        "## Question 1"
      ]
    },
    {
      "cell_type": "markdown",
      "metadata": {
        "id": "Bpv7yWM8Ce1I"
      },
      "source": [
        "Which one of the following options best defines an array?"
      ]
    },
    {
      "cell_type": "markdown",
      "metadata": {
        "id": "68MXhDPkWk6m"
      },
      "source": [
        "**a)** An unordered collection of objects\n",
        "\n",
        "**b)** An ordered collection of objects\n",
        "\n",
        "**c)** An ordered collection of integers\n",
        "\n",
        "**d)** A collection of objects in which each object points to the next"
      ]
    },
    {
      "cell_type": "markdown",
      "metadata": {
        "id": "ONgKE8TjU77b"
      },
      "source": [
        "### Solution"
      ]
    },
    {
      "cell_type": "markdown",
      "metadata": {
        "id": "KWXCp59HVDFp"
      },
      "source": [
        "The correct answer is **b)**.\n",
        "\n",
        "**a)** An array has an ordering. This definition defines another data structure called a *set*.\n",
        "\n",
        "**c)** Almost, but arrays can contain *any* data type.\n",
        "\n",
        "**d)** This definition defines another data strucure called a *linked list*."
      ]
    },
    {
      "cell_type": "markdown",
      "metadata": {
        "id": "dZihyn7cokv-"
      },
      "source": [
        "## Question 2"
      ]
    },
    {
      "cell_type": "markdown",
      "metadata": {
        "id": "xItAVIc8oKYA"
      },
      "source": [
        "Which one of the following options is the printed output of this code?"
      ]
    },
    {
      "cell_type": "markdown",
      "metadata": {
        "id": "2wiMqFE7kO7K"
      },
      "source": [
        "```python\n",
        "my_list = [\"This\", \"list\", \"is\", \"really\", \"cool!\"]\n",
        "\n",
        "for i in range(len(my_list)):\n",
        "  if i % 2 == 0:\n",
        "    print(my_list[i], end = \" \")\n",
        "```"
      ]
    },
    {
      "cell_type": "markdown",
      "metadata": {
        "id": "6KLRctezU60_"
      },
      "source": [
        "**a)** `\"This list is really cool!\"`\n",
        "\n",
        "**b)** `\"This list\"`\n",
        "\n",
        "**c)** `\"list really\"`\n",
        "\n",
        "**d)** `\"This is cool!\"`"
      ]
    },
    {
      "cell_type": "markdown",
      "metadata": {
        "id": "6PTJicnvXvGK"
      },
      "source": [
        "### Hint"
      ]
    },
    {
      "cell_type": "markdown",
      "metadata": {
        "id": "EWRKHnicXwyT"
      },
      "source": [
        "The modulo operator `%` returns the remainder of an integer division. For example, for any integer `a`, `a % 2` returns either 0 (if `a` is even) or 1 if `a` is odd)."
      ]
    },
    {
      "cell_type": "markdown",
      "metadata": {
        "id": "9bZnYyRXWw_G"
      },
      "source": [
        "### Solution"
      ]
    },
    {
      "cell_type": "markdown",
      "metadata": {
        "id": "eDOIVW3MWyA2"
      },
      "source": [
        "The correct answer is **d)**.\n",
        "\n",
        "**a)** Not all words in the array are printed. The `if` statement regulates which words are printed.\n",
        "\n",
        "**b)** Remember that `i % 2 == 0` if `i` is even.\n",
        "\n",
        "**c)** This is what would be printed if the `if` statement read `if i % 2 == 1`."
      ]
    },
    {
      "cell_type": "markdown",
      "metadata": {
        "id": "_3vX9bmjAQFc"
      },
      "source": [
        "## Question 3"
      ]
    },
    {
      "cell_type": "markdown",
      "metadata": {
        "id": "ZI44eZbtAR7Y"
      },
      "source": [
        "Which of the following tuple operations **produces an error** when applied to the tuple `tup = (1, 2, 4, 9, 16)`? There may be more than one correct response."
      ]
    },
    {
      "cell_type": "markdown",
      "metadata": {
        "id": "pzhVT7sfX5SB"
      },
      "source": [
        "**a)** `tup[3] = 8`\n",
        "\n",
        "**b)** `tup[3] == 8`\n",
        "\n",
        "**c)** `tup = (1, 2, 4, 8, 16)`\n",
        "\n",
        "**d)** `l = len(tup)`\n",
        "\n",
        "**e)** `tup[1:3]`\n",
        "\n",
        "**f)** `tup.append(32)`"
      ]
    },
    {
      "cell_type": "markdown",
      "metadata": {
        "id": "VHBWTVpuY_XX"
      },
      "source": [
        "### Hint"
      ]
    },
    {
      "cell_type": "markdown",
      "metadata": {
        "id": "uydB1jl_ZAPm"
      },
      "source": [
        "Operations that *alter* an existing tuple throw an error."
      ]
    },
    {
      "cell_type": "markdown",
      "metadata": {
        "id": "eEzKasKhX6k-"
      },
      "source": [
        "### Solution"
      ]
    },
    {
      "cell_type": "markdown",
      "metadata": {
        "id": "G6boAT0PX7uQ"
      },
      "source": [
        "The correct answers are **a)** and **f)**.\n",
        "\n",
        "**b)** Accessing an element in a tuple and comparing it to a constant is allowed.\n",
        "\n",
        "**c)** Reassigning a new tuple to a variable is allowed.\n",
        "\n",
        "**d)** Calculating the length of a tuple is fine!\n",
        "\n",
        "**e)** Accessing slices of a tuple is fine!"
      ]
    },
    {
      "cell_type": "markdown",
      "metadata": {
        "id": "HnxmpfsL85bj"
      },
      "source": [
        "## Question 4"
      ]
    },
    {
      "cell_type": "markdown",
      "metadata": {
        "id": "uGju3itV88Wz"
      },
      "source": [
        "Which of the following are correct syntaxes to create the array `[0, 3, 6, 9]`? Remember that `i % 3 == 0` if `i` is divisible by 3. There may be more than one correct response."
      ]
    },
    {
      "cell_type": "markdown",
      "metadata": {
        "id": "SgFFO4pzZ0jA"
      },
      "source": [
        "**a)** `[for i in range(10) if i % 3 == 0]`\n",
        "\n",
        "**b)** `[i for i in range(10) if i % 3 == 0]`\n",
        "\n",
        "**c)** `[i if i % 3 == 0 for i in range(10)]`\n",
        "\n",
        "**d)** `[i while i \u003c 10 if i % 3 == 0]`\n",
        "\n",
        "**e)** `[3*i for i in range(4)]`"
      ]
    },
    {
      "cell_type": "markdown",
      "metadata": {
        "id": "ZV5qs2hlZ2at"
      },
      "source": [
        "### Solution"
      ]
    },
    {
      "cell_type": "markdown",
      "metadata": {
        "id": "Yk7k0hHeZ3a9"
      },
      "source": [
        "The correct answers are **b)** and **e)**.\n",
        "\n",
        "**a)** This misses the first `i`, and will throw a syntax error.\n",
        "\n",
        "**c)** The `for` statement must come before the `if` statement.\n",
        "\n",
        "**d)** List comprehension syntax does not support `while` statements."
      ]
    },
    {
      "cell_type": "markdown",
      "metadata": {
        "id": "vOexKdQK9ww0"
      },
      "source": [
        "## Question 5"
      ]
    },
    {
      "cell_type": "markdown",
      "metadata": {
        "id": "wdewbKpB9y14"
      },
      "source": [
        "Suppose that `arr = [1, 2, 3, 4, 5]`. Which one of the following slices outputs the array `[2, 3]`?"
      ]
    },
    {
      "cell_type": "markdown",
      "metadata": {
        "id": "ntpV5R_ybyuw"
      },
      "source": [
        "**a)** `arr[2:3]`\n",
        "\n",
        "**b)** `arr[1:2]`\n",
        "\n",
        "**c)** `arr[2:4]`\n",
        "\n",
        "**d)** `arr[1:3]`"
      ]
    },
    {
      "cell_type": "markdown",
      "metadata": {
        "id": "BMMXfPUpb8PO"
      },
      "source": [
        "### Solution"
      ]
    },
    {
      "cell_type": "markdown",
      "metadata": {
        "id": "o5IpozYVb9ZP"
      },
      "source": [
        "The correct answer is **d)**.\n",
        "\n",
        "**a)** This yields the array `[3]`.\n",
        "\n",
        "**b)** This yields the array `[2]`.\n",
        "\n",
        "**c)** This yields the array `[3, 4]`."
      ]
    },
    {
      "cell_type": "markdown",
      "metadata": {
        "id": "LBqW77L2osHq"
      },
      "source": [
        "## Question 6"
      ]
    },
    {
      "cell_type": "markdown",
      "metadata": {
        "id": "iaW2rdZUAfZa"
      },
      "source": [
        "Use `append` to concatenate the following two lists containing lines from [Romeo and Juliet](https://en.wikipedia.org/wiki/Romeo_and_Juliet). Your output should be one long list containing the words from both lines."
      ]
    },
    {
      "cell_type": "code",
      "execution_count": null,
      "metadata": {
        "id": "990vzxNryV1l"
      },
      "outputs": [],
      "source": [
        "line1 = [\"What's\", \"in\", \"a\", \"name?\",\n",
        "         \"That\", \"which\", \"we\", \"call\", \"a\", \"rose\"]\n",
        "line2 = [\"By\", \"any\", \"other\", \"name\", \"would\", \"smell\", \"as\", \"sweet;\"]"
      ]
    },
    {
      "cell_type": "code",
      "execution_count": null,
      "metadata": {
        "id": "MOdj-ppHZ4fH"
      },
      "outputs": [],
      "source": [
        "# TODO(you): Concatenate line1 and line2 into an array called long_line"
      ]
    },
    {
      "cell_type": "markdown",
      "metadata": {
        "id": "Tgz8AgRZoz3D"
      },
      "source": [
        "### Solution"
      ]
    },
    {
      "cell_type": "markdown",
      "metadata": {
        "id": "cR5OWfIFdRnU"
      },
      "source": [
        "Since we append `line1` to `line2`, we loop through the elements in `line2` and append each word, one by one."
      ]
    },
    {
      "cell_type": "code",
      "execution_count": null,
      "metadata": {
        "id": "bisJeYV8Z_6b"
      },
      "outputs": [],
      "source": [
        "line1 = [\"What's\", \"in\", \"a\", \"name?\",\n",
        "         \"That\", \"which\", \"we\", \"call\", \"a\", \"rose\"]\n",
        "line2 = [\"By\", \"any\", \"other\", \"name\", \"would\", \"smell\", \"as\", \"sweet;\"]\n",
        "\n",
        "# Make a copy of line1 so we don't change the original list.\n",
        "long_line = line1.copy()\n",
        "\n",
        "for i in line2:\n",
        "  long_line.append(i)\n",
        "\n",
        "print(long_line)"
      ]
    },
    {
      "cell_type": "markdown",
      "metadata": {
        "id": "YfFZKq72aSyv"
      },
      "source": [
        "Python also gives us the `extend` method, which allows us to extend a list by another list."
      ]
    },
    {
      "cell_type": "code",
      "execution_count": null,
      "metadata": {
        "id": "wmOag5xxaYU3"
      },
      "outputs": [],
      "source": [
        "line1 = [\"What's\", \"in\", \"a\", \"name?\",\n",
        "         \"That\", \"which\", \"we\", \"call\", \"a\", \"rose\"]\n",
        "line2 = [\"By\", \"any\", \"other\", \"name\", \"would\", \"smell\", \"as\", \"sweet;\"]\n",
        "\n",
        "long_line = line1.copy()\n",
        "long_line.extend(line2)\n",
        "print(long_line)"
      ]
    },
    {
      "cell_type": "markdown",
      "metadata": {
        "id": "zfguthrx2B8e"
      },
      "source": [
        "You can also use the `+` operation to concatenate two lists."
      ]
    },
    {
      "cell_type": "code",
      "execution_count": null,
      "metadata": {
        "id": "hF6oXqvP2GVK"
      },
      "outputs": [],
      "source": [
        "line1 = [\"What's\", \"in\", \"a\", \"name?\",\n",
        "         \"That\", \"which\", \"we\", \"call\", \"a\", \"rose\"]\n",
        "line2 = [\"By\", \"any\", \"other\", \"name\", \"would\", \"smell\", \"as\", \"sweet;\"]\n",
        "\n",
        "long_line = line1 + line2\n",
        "print(long_line)"
      ]
    },
    {
      "cell_type": "markdown",
      "metadata": {
        "id": "TLla8Iv1-qpa"
      },
      "source": [
        "## Question 7"
      ]
    },
    {
      "cell_type": "markdown",
      "metadata": {
        "id": "ERUacMVq-sGK"
      },
      "source": [
        "Write a function that uses slice notation to return the final 3 elements of an array. The body of the function (excluding the comments and the error handling) should be one line."
      ]
    },
    {
      "cell_type": "code",
      "execution_count": null,
      "metadata": {
        "id": "CyZDypBd-6T6"
      },
      "outputs": [],
      "source": [
        "def last_3(arr):\n",
        "  \"\"\"Returns the last 3 elements of an array.\"\"\"\n",
        "  # TODO(you): Implement\n",
        "  if len(arr) \u003c 3:\n",
        "    raise IndexError('Input array should have at least 3 elements.')\n",
        "  print('This function has not been implemented.')"
      ]
    },
    {
      "cell_type": "markdown",
      "metadata": {
        "id": "oql-vsrT_VKM"
      },
      "source": [
        "### Unit Tests\n",
        "\n",
        "Run the following cell to check your answer against some unit tests."
      ]
    },
    {
      "cell_type": "code",
      "execution_count": null,
      "metadata": {
        "id": "cL-Lef9u_Wus"
      },
      "outputs": [],
      "source": [
        "print(last_3([1, 2, 3, 4, 5]))\n",
        "# Should print: [3, 4, 5]\n",
        "\n",
        "print(last_3([1, 2]))\n",
        "# Should raise: IndexError"
      ]
    },
    {
      "cell_type": "markdown",
      "metadata": {
        "id": "U32itn2x_GE8"
      },
      "source": [
        "### Solution"
      ]
    },
    {
      "cell_type": "markdown",
      "metadata": {
        "id": "h9NjmaG2AYKC"
      },
      "source": [
        "An alternative to `arr[-3:]` is `arr[len(arr)-3:len(arr)]`. However, this is more cumbersome to read, to write, and to calculate."
      ]
    },
    {
      "cell_type": "code",
      "execution_count": null,
      "metadata": {
        "id": "QJ_l0TM0_Ivo"
      },
      "outputs": [],
      "source": [
        "def last_3(arr):\n",
        "  \"\"\"Returns the last 3 elements of an array.\"\"\"\n",
        "  if len(arr) \u003c 3:\n",
        "    raise IndexError('Input array should have at least 3 elements.')\n",
        "  return arr[-3:]"
      ]
    },
    {
      "cell_type": "markdown",
      "metadata": {
        "id": "B9Cjfnv4o8CU"
      },
      "source": [
        "## Question 8"
      ]
    },
    {
      "cell_type": "markdown",
      "metadata": {
        "id": "QrQ225xfOPnt"
      },
      "source": [
        "Given an element `x`, count the number of times that element appears in a given array."
      ]
    },
    {
      "cell_type": "code",
      "execution_count": null,
      "metadata": {
        "id": "Upmj9PyQa7vx"
      },
      "outputs": [],
      "source": [
        "def count_equal_to(input_list, x):\n",
        "  \"\"\"Count the number of times an element x appears in the input_list.\"\"\"\n",
        "  # TODO(you): Implement\n",
        "  print(\"This function has not been implemented.\")"
      ]
    },
    {
      "cell_type": "markdown",
      "metadata": {
        "id": "AI2oDiJZhDQw"
      },
      "source": [
        "### Unit Tests\n",
        "\n",
        "Run the following cell to check your answer against some unit tests."
      ]
    },
    {
      "cell_type": "code",
      "execution_count": null,
      "metadata": {
        "id": "v8O7qpy-axPe"
      },
      "outputs": [],
      "source": [
        "my_list = [4, 2, 2, 1, 4, 4, 1, 2, 3, 1, 1, 4]\n",
        "\n",
        "print(count_equal_to(my_list, 1))\n",
        "# Should print: 4\n",
        "print(count_equal_to(my_list, 2))\n",
        "# Should print: 3\n",
        "print(count_equal_to(my_list, 3))\n",
        "# Should print: 1\n",
        "print(count_equal_to(my_list, 4))\n",
        "# Should print: 4"
      ]
    },
    {
      "cell_type": "markdown",
      "metadata": {
        "id": "IASZVMIepIlM"
      },
      "source": [
        "### Solution"
      ]
    },
    {
      "cell_type": "markdown",
      "metadata": {
        "id": "lNYpTY6oPLF-"
      },
      "source": [
        "The low-level solution to this exercise uses iteration to check if each element `i` in the list `l` matches the target `x`."
      ]
    },
    {
      "cell_type": "code",
      "execution_count": null,
      "metadata": {
        "id": "Fcq0hsgvbWTN"
      },
      "outputs": [],
      "source": [
        "def count_equal_to(input_list, x):\n",
        "  \"\"\"Count the number of times an element x appears in input_list.\"\"\"\n",
        "  output = 0\n",
        "\n",
        "  for i in input_list:\n",
        "    if i == x:\n",
        "      output += 1\n",
        "\n",
        "  return output"
      ]
    },
    {
      "cell_type": "markdown",
      "metadata": {
        "id": "cc5mS6Aib0Y9"
      },
      "source": [
        "Using a list comprehension provides us with a more convenient solution. The underlying approach is actually the same as the iterative approach above: add `1` `for` each time we find an `i` `in` `l` that is equal to `x`. The only new thing is that with a list comprehension, we can write all that in one line."
      ]
    },
    {
      "cell_type": "code",
      "execution_count": null,
      "metadata": {
        "id": "ePOKU_Pvb9gv"
      },
      "outputs": [],
      "source": [
        "def count_equal_to(input_list, x):\n",
        "  \"\"\"Count the number of times an element x appears in a list l.\"\"\"\n",
        "  return sum(1 for i in input_list if i == x)"
      ]
    },
    {
      "cell_type": "markdown",
      "metadata": {
        "id": "SGcwKePqpBLm"
      },
      "source": [
        "## Question 9"
      ]
    },
    {
      "cell_type": "markdown",
      "metadata": {
        "id": "-TMhhh9HPgmZ"
      },
      "source": [
        "*Use a list comprehension* to write a one-line function that, given an array of elements, returns an array containing all the elements that are less than some threshold."
      ]
    },
    {
      "cell_type": "code",
      "execution_count": null,
      "metadata": {
        "id": "LgRxrlJGddP7"
      },
      "outputs": [],
      "source": [
        "def less_than(input_list, x):\n",
        "  \"\"\"Return the elements in input_list that are less than x.\"\"\"\n",
        "  # TODO(you): Implement\n",
        "  print(\"This function has not been implemented.\")"
      ]
    },
    {
      "cell_type": "markdown",
      "metadata": {
        "id": "uURv85HDg7LM"
      },
      "source": [
        "### Unit Tests\n",
        "\n",
        "Run the following cell to check your answer against some unit tests."
      ]
    },
    {
      "cell_type": "code",
      "execution_count": null,
      "metadata": {
        "id": "LxXLdcfVdZlh"
      },
      "outputs": [],
      "source": [
        "my_list = [10, 2, 8, 1, 3, 7, 6, 2, 1, 5, 5, 9]\n",
        "\n",
        "print(less_than(my_list, 1))\n",
        "# Should print: []\n",
        "print(less_than(my_list, 4))\n",
        "# Should print: [2, 1, 3, 2, 1]\n",
        "print(less_than(my_list, 7))\n",
        "# Should print: [2, 1, 3, 6, 2, 1, 5, 5]\n",
        "print(less_than(my_list, 10))\n",
        "# Should print: [2, 8, 1, 3, 7, 6, 2, 1, 5, 5, 9]"
      ]
    },
    {
      "cell_type": "markdown",
      "metadata": {
        "id": "LyL7j-sjpPmH"
      },
      "source": [
        "### Solution"
      ]
    },
    {
      "cell_type": "markdown",
      "metadata": {
        "id": "09p_Ko8ZQOOU"
      },
      "source": [
        "The code for this should be similar to the code you wrote for the previous question, except: \n",
        "\n",
        "- Instead of checking for equality, check for inequality.\n",
        "- Instead of incrementing a count, append to a new array.\n",
        "- You should use a list comprehension."
      ]
    },
    {
      "cell_type": "code",
      "execution_count": null,
      "metadata": {
        "id": "ED3QXaYkemK1"
      },
      "outputs": [],
      "source": [
        "def less_than(input_list, x):\n",
        "  \"\"\"Return the elements in input_list that are less than x.\"\"\"\n",
        "  return [i for i in input_list if i \u003c x]"
      ]
    },
    {
      "cell_type": "markdown",
      "metadata": {
        "id": "rpre_94xegUq"
      },
      "source": [
        "This is what the expanded (without using a list comprehension) function looks like. You can see that list comprehension syntax saves us several lines of code."
      ]
    },
    {
      "cell_type": "code",
      "execution_count": null,
      "metadata": {
        "id": "Zlk9pQEoeCaB"
      },
      "outputs": [],
      "source": [
        "def less_than(input_list, x):\n",
        "  \"\"\"Return the elements in input_list that are less than x.\"\"\"\n",
        "  output = []\n",
        "\n",
        "  for i in input_list:\n",
        "    if i \u003c x:\n",
        "      output.append(i)\n",
        "\n",
        "  return output"
      ]
    },
    {
      "cell_type": "markdown",
      "metadata": {
        "id": "4POpdLjmjUte"
      },
      "source": [
        "## Question 10"
      ]
    },
    {
      "cell_type": "markdown",
      "metadata": {
        "id": "BDoVIwgIlMrK"
      },
      "source": [
        "Your friend needs some help with passing arrays. She is currently organizing a marathon, and has written two helper functions to help sort the runners. The input array to both functions is an array of names of runners, initially sorted by arrival time (therefore the winner is element 0, second-place is element 1, and so on). "
      ]
    },
    {
      "cell_type": "markdown",
      "metadata": {
        "id": "SWUAbniypPdF"
      },
      "source": [
        "For example, if 10 runners come in as follows:\n",
        "\n",
        "Runner's Name | Runner's Time (h:m)\n",
        "--- | ---\n",
        "Padme | 2:18\n",
        "Yoda | 2:24\n",
        "Leia | 2:39\n",
        "Lando | 2:56\n",
        "Han | 3:06\n",
        "Anakin | 3:34\n",
        "Obi-Wan | 3:40\n",
        "Sheev | 4:01\n",
        "Luke | 4:02\n",
        "Jabba | 10:25\n",
        "\n",
        "Then the runners array is:"
      ]
    },
    {
      "cell_type": "markdown",
      "metadata": {
        "id": "TwooDAobkUKp"
      },
      "source": [
        "```python\n",
        "['Padme', 'Yoda', 'Leia', 'Lando', 'Han', 'Anakin', 'Obi-Wan', 'Sheev', 'Luke', 'Jabba']\n",
        "```"
      ]
    },
    {
      "cell_type": "markdown",
      "metadata": {
        "id": "8_1f58SVo4Af"
      },
      "source": [
        "Your friend has written two helper functions for processing the results:\n",
        "\n",
        "- `podium` lists the top 3 finishers, in this case `['Padme', 'Yoda', 'Leia']`\n",
        "- `alphabetical` returns a list of all runners sorted alphabetically, in this case `['Anakin', 'Han', 'Jabba', 'Lando', 'Leia', 'Luke', 'Obi-Wan', 'Padme', 'Sheev', 'Yoda']`"
      ]
    },
    {
      "cell_type": "code",
      "execution_count": null,
      "metadata": {
        "id": "VyUFYNXylOT7"
      },
      "outputs": [],
      "source": [
        "def podium(arr):\n",
        "  \"\"\"Returns the top 3 finishers in the race.\"\"\"\n",
        "  return arr[0:3]\n",
        "\n",
        "def alphabetical(arr):\n",
        "  \"\"\"Sorts the runners by name alphabetically.\"\"\"\n",
        "  arr.sort()\n",
        "  return arr"
      ]
    },
    {
      "cell_type": "markdown",
      "metadata": {
        "id": "jkcrIeXFgniv"
      },
      "source": [
        "The issue is that once your friend calls `alphabetical`, which sorts all of the runners' names alphabetically, the input array is changed forever! Consequently, calling `podium` on the sorted array returns the first 3 runners by alphabetical order, not the first 3 runners by time. This is erroneously awarding the medals to Anakin, Han, and Jabba, instead of Padme, Yoda, and Leia.\n",
        "\n",
        "Use the `copy` method to modify the `alphabetical` function so that it does not alter the input array."
      ]
    },
    {
      "cell_type": "markdown",
      "metadata": {
        "id": "VbJ1bSEZgz5i"
      },
      "source": [
        "### Unit Tests\n",
        "\n",
        "Run the following cell to check your answer against some unit tests."
      ]
    },
    {
      "cell_type": "code",
      "execution_count": null,
      "metadata": {
        "id": "WVj-fUe2g1cv"
      },
      "outputs": [],
      "source": [
        "runners = ['Padme', 'Yoda', 'Leia', 'Lando', 'Han', 'Anakin', 'Obi-Wan', 'Sheev', 'Luke', 'Jabba']\n",
        "\n",
        "alphabetical_runners = alphabetical(runners)\n",
        "print(alphabetical_runners)\n",
        "# Should print: ['Anakin', 'Han', 'Jabba', 'Lando', 'Leia', 'Luke', 'Obi-Wan', 'Padme', 'Sheev', 'Yoda']\n",
        "\n",
        "print(podium(runners))\n",
        "# Should print: ['Padme', 'Yoda', 'Leia']"
      ]
    },
    {
      "cell_type": "markdown",
      "metadata": {
        "id": "Ap5s-ZCWpxM1"
      },
      "source": [
        "### Solution"
      ]
    },
    {
      "cell_type": "markdown",
      "metadata": {
        "id": "AwzGh_W1p32l"
      },
      "source": [
        "The key step here is create a *copy* of `arr` and store it in a different variable, `arr_sorted`. Then, we can call `sort` on this copied variable."
      ]
    },
    {
      "cell_type": "code",
      "execution_count": null,
      "metadata": {
        "id": "x0SR6Wi9pyY1"
      },
      "outputs": [],
      "source": [
        "def alphabetical(arr):\n",
        "  \"\"\"Sorts the runners by name alphabetically.\"\"\"\n",
        "  arr_sorted = arr.copy()\n",
        "  arr_sorted.sort()\n",
        "  return arr_sorted"
      ]
    },
    {
      "cell_type": "markdown",
      "metadata": {
        "id": "UF7bFZmVpeSK"
      },
      "source": [
        "## Question 11"
      ]
    },
    {
      "cell_type": "markdown",
      "metadata": {
        "id": "RW5C9Hu-GLRx"
      },
      "source": [
        "Arrays can be nested. That is, the elements of an array can be arrays themselves."
      ]
    },
    {
      "cell_type": "code",
      "execution_count": null,
      "metadata": {
        "id": "XLo3E11_UnZc"
      },
      "outputs": [],
      "source": [
        "nested_list = [ [1, 2, 3], [4], [5, 6] ]\n",
        "print(nested_list)"
      ]
    },
    {
      "cell_type": "markdown",
      "metadata": {
        "id": "XXNVQiTMUmSd"
      },
      "source": [
        "Use an iterative approach to \"unnest\" a list. You can assume that there is only one level of nesting; that is, that the input contains lists within lists, but no lists within lists within lists. You can also assume that there are no un-nested elements in the input array."
      ]
    },
    {
      "cell_type": "code",
      "execution_count": null,
      "metadata": {
        "id": "hjOsHTmXgd3y"
      },
      "outputs": [],
      "source": [
        "def unnest(nested_list):\n",
        "  \"\"\"Unnest a list that has exactly one level of nesting.\"\"\"\n",
        "  # TODO(you): Implement\n",
        "  print(\"This function has not been implemented.\")"
      ]
    },
    {
      "cell_type": "markdown",
      "metadata": {
        "id": "wy52Hdsbgyol"
      },
      "source": [
        "### Unit Tests\n",
        "\n",
        "Run the following cell to check your answer against some unit tests."
      ]
    },
    {
      "cell_type": "code",
      "execution_count": null,
      "metadata": {
        "id": "8DG1QzaWhCWV"
      },
      "outputs": [],
      "source": [
        "print(unnest([ [1, 2, 3], [4], [5, 6] ]))\n",
        "# Should print: [1, 2, 3, 4, 5, 6]"
      ]
    },
    {
      "cell_type": "markdown",
      "metadata": {
        "id": "YxjOS6fCqHH0"
      },
      "source": [
        "### Solution"
      ]
    },
    {
      "cell_type": "markdown",
      "metadata": {
        "id": "mb38YRe2F7XC"
      },
      "source": [
        "This can be done with two `for` loops."
      ]
    },
    {
      "cell_type": "code",
      "execution_count": null,
      "metadata": {
        "id": "mA1KsqGai4EK"
      },
      "outputs": [],
      "source": [
        "def unnest(nested_list):\n",
        "  \"\"\"Unnest a list that has exactly one level of nesting.\"\"\"\n",
        "  output = []\n",
        "  # First, loop through the lists in the nested list.\n",
        "  for l in nested_list:\n",
        "    # Now, loop through the items in the sub-list.\n",
        "    for i in l:\n",
        "      output.append(i)\n",
        "\n",
        "  return output"
      ]
    },
    {
      "cell_type": "markdown",
      "metadata": {
        "id": "-WIJOONmprcc"
      },
      "source": [
        "## Question 12"
      ]
    },
    {
      "cell_type": "markdown",
      "metadata": {
        "id": "cCyPSqWXI78-"
      },
      "source": [
        "Now let's do the reverse! Suppose you have some array, and you want to nest the elements in sub-arrays. As soon as each sub-array has a length of 3, it is marked as \"full\" and you move to filling the next sub-array. If there are leftover elements, just append the sub-array even though it has length less than 3."
      ]
    },
    {
      "cell_type": "code",
      "execution_count": null,
      "metadata": {
        "id": "-Czan_W3jcjm"
      },
      "outputs": [],
      "source": [
        "def nest_by_3(flat_list):\n",
        "  \"\"\"Create a list of sub-lists of a maximum length of 3.\"\"\"\n",
        "  # TODO(you): Implement\n",
        "  print(\"This function has not been implemented.\")"
      ]
    },
    {
      "cell_type": "markdown",
      "metadata": {
        "id": "BpgdaNVWgsGH"
      },
      "source": [
        "### Unit Tests\n",
        "\n",
        "Run the following cell to check your answer against some unit tests."
      ]
    },
    {
      "cell_type": "code",
      "execution_count": null,
      "metadata": {
        "id": "lhswSwQ_jq7O"
      },
      "outputs": [],
      "source": [
        "print(nest_by_3([9, 7, 5, 3, 1, 0, 2, 4, 6, 8]))\n",
        "# Should print: [ [9, 7, 5], [3, 1, 0], [2, 4, 6], [8] ]"
      ]
    },
    {
      "cell_type": "markdown",
      "metadata": {
        "id": "0aPQz0W2qPOU"
      },
      "source": [
        "### Solution"
      ]
    },
    {
      "cell_type": "code",
      "execution_count": null,
      "metadata": {
        "id": "Em8rIXrOj0dh"
      },
      "outputs": [],
      "source": [
        "def nest_by_3(flat_list):\n",
        "  \"\"\"Create a list of sub-lists of a maximum length of 3.\"\"\"\n",
        "  output = []\n",
        "  # Initialize the first sub-list.\n",
        "  sub = []\n",
        "\n",
        "  for i in flat_list:\n",
        "    sub.append(i)\n",
        "    # If the sub-list has a length of 3, append it to the output and\n",
        "    # re-initialize it.\n",
        "    if len(sub) == 3:\n",
        "      output.append(sub)\n",
        "      sub = []\n",
        "  \n",
        "  # Append the last sub-list, regardless of length.\n",
        "  output.append(sub)\n",
        "\n",
        "  return output"
      ]
    },
    {
      "cell_type": "markdown",
      "metadata": {
        "id": "HXG8PKWepwD8"
      },
      "source": [
        "## Question 13"
      ]
    },
    {
      "cell_type": "markdown",
      "metadata": {
        "id": "uDwhA_4LMoRA"
      },
      "source": [
        "Implement a `reverse` function using iteration."
      ]
    },
    {
      "cell_type": "code",
      "execution_count": null,
      "metadata": {
        "id": "HqG-JZkOlAye"
      },
      "outputs": [],
      "source": [
        "def reverse(input_list):\n",
        "  \"\"\"Reverse the elements of the input_list.\"\"\"\n",
        "  # TODO(you): Implement\n",
        "  print(\"This function has not been implemented.\")"
      ]
    },
    {
      "cell_type": "markdown",
      "metadata": {
        "id": "Ntcot4dsgk-2"
      },
      "source": [
        "### Unit Tests\n",
        "\n",
        "Run the following cell to check your answer against some unit tests."
      ]
    },
    {
      "cell_type": "code",
      "execution_count": null,
      "metadata": {
        "id": "W-7Lq_KGlALS"
      },
      "outputs": [],
      "source": [
        "words = [\"you\", \"must\", \"unlearn\", \"what\", \"you\", \"have\", \"learned\"]\n",
        "\n",
        "print(reverse(words))\n",
        "# Should print: [\"learned\", \"have\", \"you\", \"what\", \"unlearn\", \"must\", \"you\"]"
      ]
    },
    {
      "cell_type": "markdown",
      "metadata": {
        "id": "I4XrUos0rrXO"
      },
      "source": [
        "### Solution"
      ]
    },
    {
      "cell_type": "markdown",
      "metadata": {
        "id": "X8DuLEr5NNL7"
      },
      "source": [
        "Implementation may depend quite a bit on the language you are using. The solution below is one of the lowest-level approaches, and should work across most languages:"
      ]
    },
    {
      "cell_type": "code",
      "execution_count": null,
      "metadata": {
        "id": "LIqSVdd8meoe"
      },
      "outputs": [],
      "source": [
        "def reverse(input_list):\n",
        "  \"\"\"Reverse the elements of the input_list.\"\"\"\n",
        "  output = []\n",
        "\n",
        "  # Loop backwards through the list.\n",
        "  for i in range(len(input_list) - 1, -1, -1):\n",
        "    output.append(input_list[i])\n",
        "  \n",
        "  return output"
      ]
    },
    {
      "cell_type": "markdown",
      "metadata": {
        "id": "6YSO1dsTnPd0"
      },
      "source": [
        "Python again has a built-in method to reverse a list, `reverse`. But be careful; it alters the list in place. So make sure to make a `copy` before altering it."
      ]
    },
    {
      "cell_type": "code",
      "execution_count": null,
      "metadata": {
        "id": "7l1jwPYdnr74"
      },
      "outputs": [],
      "source": [
        "words = [\"you\", \"must\", \"unlearn\", \"what\", \"you\", \"have\", \"learned\"]\n",
        "\n",
        "reversed_words = words.copy()\n",
        "reversed_words.reverse()\n",
        "print(reversed_words)"
      ]
    },
    {
      "cell_type": "markdown",
      "metadata": {
        "id": "bZ72G-i3cV-r"
      },
      "source": [
        "Python *also* has a built-in function to reverse a list, called `reversed`. The only catch with this function is that it does not return a list. It instead returns a [generator](https://wiki.python.org/moin/Generators), which needs to be coerced to a list."
      ]
    },
    {
      "cell_type": "code",
      "execution_count": null,
      "metadata": {
        "id": "fdqM36oXcrFL"
      },
      "outputs": [],
      "source": [
        "words = [\"you\", \"must\", \"unlearn\", \"what\", \"you\", \"have\", \"learned\"]\n",
        "\n",
        "list(reversed(words))"
      ]
    },
    {
      "cell_type": "markdown",
      "metadata": {
        "id": "F8Uvs0KNp4Tl"
      },
      "source": [
        "## Question 14"
      ]
    },
    {
      "cell_type": "markdown",
      "metadata": {
        "id": "LiAN79AJnycD"
      },
      "source": [
        "[Advanced] In a previous question, we wrote a function to unnest a list in which every single element of the outer list is an unnested list; that is, the input has exactly one level of nesting.\n",
        "\n",
        "Let's extend that function to a new function called `general_unnest` that unnests a list in which each element can have any level of nesting."
      ]
    },
    {
      "cell_type": "code",
      "execution_count": null,
      "metadata": {
        "id": "cCCJ_xn-pk-k"
      },
      "outputs": [],
      "source": [
        "def general_unnest(input_list):\n",
        "  \"\"\"Unnest input_list with any level of nesting to a flat list.\"\"\"\n",
        "  # TODO(you): Implement\n",
        "  print(\"This function has not been implemented.\")"
      ]
    },
    {
      "cell_type": "markdown",
      "metadata": {
        "id": "06yBSVdvddpO"
      },
      "source": [
        "### Hint"
      ]
    },
    {
      "cell_type": "markdown",
      "metadata": {
        "id": "N2XHFi_Hdhl8"
      },
      "source": [
        "Use recursion! You can use the `extend` method, an extension of `append`, to extend an array by another array."
      ]
    },
    {
      "cell_type": "code",
      "execution_count": null,
      "metadata": {
        "id": "AyI6FvxGZYNr"
      },
      "outputs": [],
      "source": [
        "a = [1, 2, 3]\n",
        "b = [4, 5]\n",
        "\n",
        "a.extend(b)\n",
        "print(a)"
      ]
    },
    {
      "cell_type": "markdown",
      "metadata": {
        "id": "_BotBz1ZZLXZ"
      },
      "source": [
        "You can also check if an object is a list using `isinstance`."
      ]
    },
    {
      "cell_type": "code",
      "execution_count": null,
      "metadata": {
        "id": "L9_S5qdzibm4"
      },
      "outputs": [],
      "source": [
        "print(isinstance(0, list))\n",
        "print(isinstance([0], list))"
      ]
    },
    {
      "cell_type": "markdown",
      "metadata": {
        "id": "sZXIJte8dldT"
      },
      "source": [
        "### Unit Tests\n",
        "\n",
        "Run the following cell to check your answer against some unit tests."
      ]
    },
    {
      "cell_type": "code",
      "execution_count": null,
      "metadata": {
        "id": "t9-K-13lpzMi"
      },
      "outputs": [],
      "source": [
        "print(general_unnest([1, 2, 3, 4, 5]))\n",
        "# Should print: [1, 2, 3, 4, 5]\n",
        "\n",
        "print(general_unnest([[1], [2, 3], [4, 5]]))\n",
        "# Should print: [1, 2, 3, 4, 5]\n",
        "\n",
        "print(general_unnest([1, [2, 3, [4, 5]]]))\n",
        "# Should print: [1, 2, 3, 4, 5]\n",
        "\n",
        "print(general_unnest([[1, [2, [3, [4, [5]]]]]]))\n",
        "# Should print: [1, 2, 3, 4, 5]"
      ]
    },
    {
      "cell_type": "markdown",
      "metadata": {
        "id": "bs00_0nvrvCU"
      },
      "source": [
        "### Solution"
      ]
    },
    {
      "cell_type": "markdown",
      "metadata": {
        "id": "IijFpsb2qM_1"
      },
      "source": [
        "The basis of this algorithm is that we loop through the input list `l` and recursively unnest any elements that are lists. When all individual elements are no longer lists, we `append` them."
      ]
    },
    {
      "cell_type": "code",
      "execution_count": null,
      "metadata": {
        "id": "b0wfTiOXqNpr"
      },
      "outputs": [],
      "source": [
        "def general_unnest(input_list):\n",
        "  \"\"\"Unnest input_list with any level of nesting to a flat list.\"\"\"\n",
        "  output = []\n",
        "  # Loop through the list.\n",
        "\n",
        "  for i in input_list:\n",
        "    # Check if the element is itself a list.\n",
        "    if isinstance(i, list):\n",
        "      # Recursively extend the list.\n",
        "      output.extend(general_unnest(i))\n",
        "    else:\n",
        "      output.append(i)\n",
        "\n",
        "  return output"
      ]
    },
    {
      "cell_type": "markdown",
      "metadata": {
        "id": "4-Mn_csWr3tJ"
      },
      "source": [
        "## Question 15"
      ]
    },
    {
      "cell_type": "markdown",
      "metadata": {
        "id": "Yx_Ey6sjU5uU"
      },
      "source": [
        "You and your friend collect tennis player fan cards. You each store your collected cards in lists based on when you acquired the card. Each player is stored as a player number, and this numbering system is consistent across all cards. \n",
        "\n",
        "For example, if Serena Williams has number 1234 and you collect her card, then your list stores 1234 as an element. If your friend also acquires Serena Williams, your friend's list will also append 1234. Note that you can collect the same player multiple times.\n",
        "\n",
        "Your friend wants to compare your two collections to find the number of players you both have in your collections. However, this code is crashing with an error.\n",
        "\n",
        "What is causing the crash? Can you fix it?"
      ]
    },
    {
      "cell_type": "code",
      "execution_count": null,
      "metadata": {
        "id": "khtBu7P7c3FY"
      },
      "outputs": [],
      "source": [
        "def n_players_in_common(my_cards, your_cards):\n",
        "  \"\"\"Returns the number of players in common given two lists of players.\"\"\"\n",
        "  output = 0\n",
        "\n",
        "  for i in range(len(my_cards)):\n",
        "    for j in range(len(your_cards)):\n",
        "      if my_cards[i] == your_cards[i]:\n",
        "        output += 1\n",
        "\n",
        "  return output\n",
        "\n",
        "my_cards = [34, 14, 20, 49, 100, 6]\n",
        "your_cards = [26, 49, 87, 14]\n",
        "\n",
        "print(n_players_in_common(my_cards, your_cards))"
      ]
    },
    {
      "cell_type": "markdown",
      "metadata": {
        "id": "C5XQDQdwiLqv"
      },
      "source": [
        "### Unit Tests\n",
        "\n",
        "Run the following cell to check your answer against some unit tests."
      ]
    },
    {
      "cell_type": "code",
      "execution_count": null,
      "metadata": {
        "id": "GPq4oVgei-pL"
      },
      "outputs": [],
      "source": [
        "my_cards = [34, 14, 20, 49, 100, 6]\n",
        "your_cards = [26, 49, 87, 14]\n",
        "\n",
        "print(n_players_in_common(my_cards, your_cards))\n",
        "# Should print: 2"
      ]
    },
    {
      "cell_type": "markdown",
      "metadata": {
        "id": "VW-AsY3nsDWf"
      },
      "source": [
        "### Solution"
      ]
    },
    {
      "cell_type": "markdown",
      "metadata": {
        "id": "5e73VKaeU8HU"
      },
      "source": [
        "The code compares `my_cards[i]` to `your_cards[i]`. This should be `your_cards[j]`. Since `i` is looping through the range of `my_cards`, there is no guarantee that `your_cards[i]` exists. When it does not exist, the code crashes with an index error. The fixed code is below:"
      ]
    },
    {
      "cell_type": "code",
      "execution_count": null,
      "metadata": {
        "id": "YYuCvTuWtcQC"
      },
      "outputs": [],
      "source": [
        "def n_players_in_common(my_cards, your_cards):\n",
        "  \"\"\"Returns the number of players in common given two lists of players.\"\"\"\n",
        "  output = 0\n",
        "\n",
        "  for i in range(len(my_cards)):\n",
        "    for j in range(len(your_cards)):\n",
        "      if my_cards[i] == your_cards[j]:\n",
        "        output += 1\n",
        "\n",
        "  return output"
      ]
    },
    {
      "cell_type": "markdown",
      "metadata": {
        "id": "8F72Qsq6r7By"
      },
      "source": [
        "## Question 16"
      ]
    },
    {
      "cell_type": "markdown",
      "metadata": {
        "id": "-R4RU2SBa8QB"
      },
      "source": [
        "The fix worked! The code no longer crashes. However, your friend is seeing weird results. The code is consistently *overcounting* the number of cards you both have in common.\n",
        "\n",
        "Why is this? Can you suggest a fix?"
      ]
    },
    {
      "cell_type": "code",
      "execution_count": null,
      "metadata": {
        "id": "V0AboYo_EFl7"
      },
      "outputs": [],
      "source": [
        "def n_players_in_common(my_cards, your_cards):\n",
        "  \"\"\"Returns the number of players in common given two lists of players.\"\"\"\n",
        "  output = 0\n",
        "\n",
        "  for i in range(len(my_cards)):\n",
        "    for j in range(len(your_cards)):\n",
        "      if my_cards[i] == your_cards[j]:\n",
        "        output += 1\n",
        "\n",
        "  return output\n",
        "\n",
        "my_cards = [34, 14, 20, 49, 100, 6, 14, 14] # added two extra 14 cards\n",
        "your_cards = [26, 49, 87, 14]\n",
        "\n",
        "# This should return 2, but is currently returning 4.\n",
        "print(n_players_in_common(my_cards, your_cards))"
      ]
    },
    {
      "cell_type": "markdown",
      "metadata": {
        "id": "en1ryikpgX-c"
      },
      "source": [
        "### Hint"
      ]
    },
    {
      "cell_type": "markdown",
      "metadata": {
        "id": "kvKEsVlOnfmE"
      },
      "source": [
        "You can check whether an element is in an array using `in`."
      ]
    },
    {
      "cell_type": "code",
      "execution_count": null,
      "metadata": {
        "id": "bnUUqkaF-j63"
      },
      "outputs": [],
      "source": [
        "my_array = [1, 2, 3]\n",
        "print(0 in my_array)\n",
        "print(1 in my_array)"
      ]
    },
    {
      "cell_type": "markdown",
      "metadata": {
        "id": "aPDtmsHTnrQo"
      },
      "source": [
        "### Unit Tests\n",
        "\n",
        "Run the following cell to check your answer against some unit tests."
      ]
    },
    {
      "cell_type": "code",
      "execution_count": null,
      "metadata": {
        "id": "NZMIcXMNnsjt"
      },
      "outputs": [],
      "source": [
        "my_cards = [34, 14, 20, 49, 100, 6, 14, 14] # added two extra 14 cards\n",
        "your_cards = [26, 49, 87, 14]\n",
        "\n",
        "print(n_players_in_common(my_cards, your_cards))\n",
        "# Should print: 2"
      ]
    },
    {
      "cell_type": "markdown",
      "metadata": {
        "id": "fvabxXTZsKwG"
      },
      "source": [
        "### Solution"
      ]
    },
    {
      "cell_type": "markdown",
      "metadata": {
        "id": "RLHTq82UbLBu"
      },
      "source": [
        "The problem arises because each collection of cards can have duplicates. If you have Serena Williams twice and your friend has Serena Williams 3 times, then this code will count $2 \\times 3$ pairs, and increment `output` by 6, instead of just 1.\n",
        "\n",
        "To solve this issue, we need to track which players are in both collections in a separate array, `players_in_common`. Then, when a match between `my_cards` and `your_cards` is found, we only add the card to `players_in_common` if it is not already contained within the array."
      ]
    },
    {
      "cell_type": "code",
      "execution_count": null,
      "metadata": {
        "id": "uo5l8sjyt91t"
      },
      "outputs": [],
      "source": [
        "def n_players_in_common(my_cards, your_cards):\n",
        "  \"\"\"Returns the number of players in common given two lists of players.\"\"\"\n",
        "  players_in_common = []\n",
        "\n",
        "  for i in range(len(my_cards)):\n",
        "    # Save my_cards[i] as a variable since it is used three times.\n",
        "    my_card = my_cards[i]\n",
        "\n",
        "    for j in range(len(your_cards)):\n",
        "      if my_card == your_cards[j]:\n",
        "        # Only add the card to players_in_common if it is not already contained.\n",
        "        if my_card not in players_in_common:\n",
        "          players_in_common.append(my_card)\n",
        "\n",
        "  return len(players_in_common)"
      ]
    }
  ],
  "metadata": {
    "colab": {
      "collapsed_sections": [
        "ONgKE8TjU77b",
        "6PTJicnvXvGK",
        "9bZnYyRXWw_G",
        "VHBWTVpuY_XX",
        "eEzKasKhX6k-",
        "ZV5qs2hlZ2at",
        "BMMXfPUpb8PO",
        "Tgz8AgRZoz3D",
        "oql-vsrT_VKM",
        "U32itn2x_GE8",
        "AI2oDiJZhDQw",
        "IASZVMIepIlM",
        "uURv85HDg7LM",
        "LyL7j-sjpPmH",
        "VbJ1bSEZgz5i",
        "Ap5s-ZCWpxM1",
        "wy52Hdsbgyol",
        "YxjOS6fCqHH0",
        "BpgdaNVWgsGH",
        "0aPQz0W2qPOU",
        "Ntcot4dsgk-2",
        "I4XrUos0rrXO",
        "06yBSVdvddpO",
        "sZXIJte8dldT",
        "bs00_0nvrvCU",
        "C5XQDQdwiLqv",
        "VW-AsY3nsDWf",
        "en1ryikpgX-c",
        "aPDtmsHTnrQo",
        "fvabxXTZsKwG"
      ],
      "name": "arrays.ipynb",
      "provenance": [ ]
    },
    "kernelspec": {
      "display_name": "Python 3",
      "name": "python3"
    }
  },
  "nbformat": 4,
  "nbformat_minor": 0
}
