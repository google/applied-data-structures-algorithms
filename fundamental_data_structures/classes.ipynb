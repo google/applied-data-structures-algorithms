{
  "cells": [
    {
      "cell_type": "markdown",
      "metadata": {
        "id": "Pic8r3n4AWWu"
      },
      "source": [
        "# Classes"
      ]
    },
    {
      "cell_type": "markdown",
      "metadata": {
        "id": "40klIjfB3g0H"
      },
      "source": [
        "## Lesson Overview"
      ]
    },
    {
      "cell_type": "markdown",
      "metadata": {
        "id": "FjZNMoAeyvGW"
      },
      "source": [
        "You may often want to store data in some ordered fashion in a programming language, but you might find that existing data structures don't exactly serve your needs. For instance, consider trying to store information about a student at a school."
      ]
    },
    {
      "cell_type": "code",
      "execution_count": null,
      "metadata": {
        "id": "gRZSa2B7Dqn8"
      },
      "outputs": [],
      "source": [
        "student_id = 71919\n",
        "student_name = \"Daphne Jones\"\n",
        "# Days since the start of the year that the student has missed.\n",
        "student_absences = [False, False, False, False, False, True, False]"
      ]
    },
    {
      "cell_type": "markdown",
      "metadata": {
        "id": "JxH2nPX2DyaY"
      },
      "source": [
        "If you want to pass all that into a function `print_student_record()` that prints all of a student's details, that's a lot of data to move around:"
      ]
    },
    {
      "cell_type": "code",
      "execution_count": null,
      "metadata": {
        "id": "ODYg9CVmD2jr"
      },
      "outputs": [],
      "source": [
        "def print_student_record(student_id, student_name, student_absences):\n",
        "  print(student_id)\n",
        "  print(student_name)\n",
        "  num_absences = 0\n",
        "  for potential_absence in student_absences:\n",
        "    if potential_absence:\n",
        "      num_absences += 1\n",
        "  absence_string = \"%d day\" % num_absences\n",
        "\n",
        "  # This block makes \"day\" plural if the number of days missed is not 1 so\n",
        "  # that the sentence is grammatically correct.\n",
        "  if num_absences != 1:\n",
        "    absence_string += \"s\"\n",
        "\n",
        "  print(\"The student missed %s of class.\" % absence_string)\n",
        "\n",
        "print_student_record(student_id, student_name, student_absences)"
      ]
    },
    {
      "cell_type": "markdown",
      "metadata": {
        "id": "NQPW4VngESPy"
      },
      "source": [
        "It also becomes a challenge to add new data or change existing data. If we want to separate `student_name` into `student_first_name` and `student_last_name`, we would then need to modify every line that calls `print_student_record()`, *and* we would need to modify the function definition.\n",
        "\n",
        "Instead, we can define a **struct** or **class** to hold that data."
      ]
    },
    {
      "cell_type": "markdown",
      "metadata": {
        "id": "RgTbB-o6MlZl"
      },
      "source": [
        "### Definition"
      ]
    },
    {
      "cell_type": "markdown",
      "metadata": {
        "id": "yTwOEow2yFbp"
      },
      "source": [
        "\u003e A **struct** or **class** is a data structure that implements specified attributes and behaviors."
      ]
    },
    {
      "cell_type": "markdown",
      "metadata": {
        "id": "EvBVhEIPMwPp"
      },
      "source": [
        "In Python, a **class** can be used the same way a **struct** is used in other languages, but the syntax is different."
      ]
    },
    {
      "cell_type": "markdown",
      "metadata": {
        "id": "7wfmO9uBMxib"
      },
      "source": [
        "### Initialization"
      ]
    },
    {
      "cell_type": "markdown",
      "metadata": {
        "id": "vfiwEA1L0Jji"
      },
      "source": [
        "Let's look at building a `Student` class to hold the required data. The following class contains three variables: `id`, `name`, and `absence_list`."
      ]
    },
    {
      "cell_type": "code",
      "execution_count": null,
      "metadata": {
        "id": "Gd3ExfDh-rYD"
      },
      "outputs": [],
      "source": [
        "class Student:\n",
        "\n",
        "  def __init__(self):\n",
        "    self.id = None\n",
        "    self.name = None\n",
        "    self.absence_list = None"
      ]
    },
    {
      "cell_type": "markdown",
      "metadata": {
        "id": "w5zaoxv268em"
      },
      "source": [
        "Classes allow us to store variables that are accessible only within the class. These are defined using the `__init__` method. This is the Python equivalent to a [constructor](https://en.wikipedia.org/wiki/Constructor_(object-oriented_programming)#Python) that you may have seen in other languages."
      ]
    },
    {
      "cell_type": "markdown",
      "metadata": {
        "id": "gmpbbffL0uhI"
      },
      "source": [
        "\u003e You may notice that we're using a keyword `self`. That just refers to the instance of the class. Think of it like using the word \"myself\" to refer to you. If you're an instance of the `Person` class, then you referring to `self.height` is a different value than if your friend calls `self.height`. "
      ]
    },
    {
      "cell_type": "markdown",
      "metadata": {
        "id": "ksA8YepaM54Y"
      },
      "source": [
        "### Instances"
      ]
    },
    {
      "cell_type": "markdown",
      "metadata": {
        "id": "O-tQ_B9Y7PN3"
      },
      "source": [
        "An **instance** of a class is created when you create a specific occurrence of a class.\n",
        "\n",
        "The difference between a class and an instance is similar to the difference between a type and a variable. For example, `a = 0` is an instance of `int`, and `b = \"bee\"` is an instance of `str`."
      ]
    },
    {
      "cell_type": "code",
      "execution_count": null,
      "metadata": {
        "id": "LPxaPDyTOF6s"
      },
      "outputs": [],
      "source": [
        "class Student:\n",
        "\n",
        "  def __init__(self):\n",
        "    self.id = None\n",
        "    self.name = None\n",
        "    self.absence_list = None"
      ]
    },
    {
      "cell_type": "code",
      "execution_count": null,
      "metadata": {
        "id": "N8mJY7zS-6aH"
      },
      "outputs": [],
      "source": [
        "daphne_jones = Student()\n",
        "daphne_jones.id = 71919\n",
        "daphne_jones.name = \"Daphne Jones\"\n",
        "daphne_jones.absence_list = [False, False, False, False, False, True, False]"
      ]
    },
    {
      "cell_type": "markdown",
      "metadata": {
        "id": "uELBL59J_Uvt"
      },
      "source": [
        "`__init__` also allows us to set the variable values when instantiating (creating an instance of) the class."
      ]
    },
    {
      "cell_type": "code",
      "execution_count": null,
      "metadata": {
        "id": "oK7YEiQn7MO-"
      },
      "outputs": [],
      "source": [
        "class Student:\n",
        "\n",
        "  def __init__(self, id, name, absence_list):\n",
        "    self.id = id\n",
        "    self.name = name\n",
        "    self.absence_list = absence_list"
      ]
    },
    {
      "cell_type": "code",
      "execution_count": null,
      "metadata": {
        "id": "OS6vzRJjAgl6"
      },
      "outputs": [],
      "source": [
        "daphne_jones = Student(71919, \"Daphne Jones\",\n",
        "                       [False, False, False, False, False, True, False])"
      ]
    },
    {
      "cell_type": "markdown",
      "metadata": {
        "id": "EPt2peObI9Ot"
      },
      "source": [
        "Let's try printing the student record of a `Student` class."
      ]
    },
    {
      "cell_type": "code",
      "execution_count": null,
      "metadata": {
        "id": "qKFa7zCMJjOE"
      },
      "outputs": [],
      "source": [
        "def print_student_record(student):\n",
        "  \"\"\"Prints the ID, name, and number of days missed of a student.\"\"\"\n",
        "  print(student.id)\n",
        "  print(student.name)\n",
        "  num_absences = 0\n",
        "  for potential_absence in student.absence_list:\n",
        "    if potential_absence:\n",
        "      num_absences += 1\n",
        "  absence_string = \"%d day\" % num_absences\n",
        "\n",
        "  # This block makes \"day\" plural if the number of days missed is not 1 so\n",
        "  # that the sentence is grammatically correct.\n",
        "  if num_absences != 1:\n",
        "    absence_string += \"s\"\n",
        "\n",
        "  print(\"The student missed %s of class.\" % absence_string)"
      ]
    },
    {
      "cell_type": "code",
      "execution_count": null,
      "metadata": {
        "id": "GGsmqOfm_dSX"
      },
      "outputs": [],
      "source": [
        "print_student_record(daphne_jones)"
      ]
    },
    {
      "cell_type": "markdown",
      "metadata": {
        "id": "m9gVdQn0M_3i"
      },
      "source": [
        "### Methods"
      ]
    },
    {
      "cell_type": "markdown",
      "metadata": {
        "id": "rXO_zCHYKIVX"
      },
      "source": [
        "One of the most useful aspects of classes is being able to define **methods**. An **instance method** is a function written within a class that is only accessible to instances of that class. Instance methods must, referring to the class instance, have `self` as their first argument. Apart from that, a method looks just like a function!"
      ]
    },
    {
      "cell_type": "code",
      "execution_count": null,
      "metadata": {
        "id": "z0FxFZykWi-Z"
      },
      "outputs": [],
      "source": [
        "class Student:\n",
        "  \n",
        "  def __init__(self, id, name, absence_list):\n",
        "    self.id = id\n",
        "    self.name = name\n",
        "    self.absence_list = absence_list\n",
        "\n",
        "  def print_record(self):\n",
        "    print(self.id)\n",
        "    print(self.name)\n",
        "    num_absences = 0\n",
        "    for potential_absence in self.absence_list:\n",
        "      if potential_absence:\n",
        "        num_absences += 1\n",
        "    absence_string = \"%d day\" % num_absences\n",
        "\n",
        "    # This block makes \"day\" plural if the number of days missed is not 1 so\n",
        "    # that the sentence is grammatically correct.\n",
        "    if num_absences != 1:\n",
        "      absence_string += \"s\"\n",
        "\n",
        "    print(\"The student missed %s of class.\" % absence_string)"
      ]
    },
    {
      "cell_type": "code",
      "execution_count": null,
      "metadata": {
        "id": "jBs4OA0zB1HJ"
      },
      "outputs": [],
      "source": [
        "daphne_jones = Student(71919, \"Daphne Jones\",\n",
        "                       [False, False, False, False, False, True, False])\n",
        "daphne_jones.print_record()"
      ]
    },
    {
      "cell_type": "markdown",
      "metadata": {
        "id": "R_jJtA8VNFoc"
      },
      "source": [
        "### Inheritance"
      ]
    },
    {
      "cell_type": "markdown",
      "metadata": {
        "id": "nKpadWNxmkZK"
      },
      "source": [
        "Another major feature of classes is **inheritance**, or the ability for a class to essentially take after another class (called its **parent**). For example, let's say we wanted to make a `UniversityStudent` class. We've already implemented `Student`, so rather than duplicate the code, `UniversityStudent` can inherit from it."
      ]
    },
    {
      "cell_type": "code",
      "execution_count": null,
      "metadata": {
        "id": "2yD3A1TW28oE"
      },
      "outputs": [],
      "source": [
        "class Student:\n",
        "\n",
        "  def __init__(self, id, name, absence_list):\n",
        "    self.id = id\n",
        "    self.name = name\n",
        "    self.absence_list = absence_list\n",
        "\n",
        "\n",
        "class UniversityStudent(Student):\n",
        "\n",
        "  def print_whether_transfer_student(self, is_transfer):\n",
        "    if is_transfer:\n",
        "      print('%s is a transfer student.' % self.name)\n",
        "    else:\n",
        "      print('%s is not a transfer student.' % self.name)"
      ]
    },
    {
      "cell_type": "code",
      "execution_count": null,
      "metadata": {
        "id": "0eWtYJb0_tw6"
      },
      "outputs": [],
      "source": [
        "daphne_jones = UniversityStudent(\n",
        "    71919, 'Daphne Jones', [False, False, False, False, False, True, False])\n",
        "\n",
        "daphne_jones.print_whether_transfer_student(True)"
      ]
    },
    {
      "cell_type": "markdown",
      "metadata": {
        "id": "-Ft4fcrJ34vv"
      },
      "source": [
        "In this case, `UniversityStudent` inherits the `__init__` and `print_record` methods from `Student`, and it also adds a method to print whether a student is a transfer student.\n",
        "\n",
        "Alternately, an inherited class can also replace, or override, its parent's `__init__` method to add/remove attributes."
      ]
    },
    {
      "cell_type": "code",
      "execution_count": null,
      "metadata": {
        "id": "qnPIwL06mkr9"
      },
      "outputs": [],
      "source": [
        "class Student:\n",
        "\n",
        "  def __init__(self, id, name, absence_list):\n",
        "    self.id = id\n",
        "    self.name = name\n",
        "    self.absence_list = absence_list\n",
        "\n",
        "\n",
        "class UniversityStudent(Student):\n",
        "\n",
        "  def __init__(self, id, name, absence_list, university_name):\n",
        "    self.id = id\n",
        "    self.name = name\n",
        "    self.absence_list = absence_list\n",
        "    self.university_name = university_name"
      ]
    },
    {
      "cell_type": "markdown",
      "metadata": {
        "id": "yF1itgZ6_FAN"
      },
      "source": [
        "If you want to add new attributes to the inherited class and maintain all of the existing properties inherited from the parent, you can use the following syntax."
      ]
    },
    {
      "cell_type": "code",
      "execution_count": null,
      "metadata": {
        "id": "yS85XzoE_fqn"
      },
      "outputs": [],
      "source": [
        "class Student:\n",
        "\n",
        "  def __init__(self, id, name, absence_list):\n",
        "    self.id = id\n",
        "    self.name = name\n",
        "    self.absence_list = absence_list\n",
        "\n",
        "\n",
        "class UniversityStudent(Student):\n",
        "\n",
        "  def __init__(self, id, name, absence_list, university_name):\n",
        "    # The following line initializes the attributes inherited from Student.\n",
        "    Student.__init__(self, id, name, absence_list)\n",
        "    # The following line initiates the new attribute that is not in Student.\n",
        "    self.university_name = university_name"
      ]
    },
    {
      "cell_type": "markdown",
      "metadata": {
        "id": "t9-ZVeMc2Oue"
      },
      "source": [
        "## Question 1"
      ]
    },
    {
      "cell_type": "markdown",
      "metadata": {
        "id": "vfZIklfl2Qbf"
      },
      "source": [
        "In which of the following situations would a class be the most appropriate data structure to use? (Note that this does not preclude using a class alongside another data structure, such as an array of instances of a class.) There may be more than one correct response."
      ]
    },
    {
      "cell_type": "markdown",
      "metadata": {
        "id": "TuIYwKAQDbPe"
      },
      "source": [
        "**a)** Storing and comparing the features of different animals at a zoo\n",
        "\n",
        "**b)** Storing the temperatures of each day of a year\n",
        "\n",
        "**c)** Storing the names of all the different animals you saw one day at the zoo\n",
        "\n",
        "**d)** Storing the key statistics of different basketball players in a league"
      ]
    },
    {
      "cell_type": "markdown",
      "metadata": {
        "id": "H3ak5R1hDskc"
      },
      "source": [
        "### Solution"
      ]
    },
    {
      "cell_type": "markdown",
      "metadata": {
        "id": "kE6EK0CYDtcN"
      },
      "source": [
        "The correct answers are **a)** and **d)**.\n",
        "\n",
        "**b)** You may be able to use a class, but an array is definitely more appropriate.\n",
        "\n",
        "**c)** Since the stored animals are necessarily unique, these should be stored in a set. Moreover, remember that you are only storing the names of the animals, not any attributes or behaviors that would necessitate the use of a class."
      ]
    },
    {
      "cell_type": "markdown",
      "metadata": {
        "id": "Erzt5tWKk1yl"
      },
      "source": [
        "## Question 2"
      ]
    },
    {
      "cell_type": "markdown",
      "metadata": {
        "id": "HmqBcBZmOUJD"
      },
      "source": [
        "Consider a class that stores information about an animal. Your friend Eric \"doesn't like\" (is afraid of) animals with more than four legs. Write a method within `Animal` called `check_if_eric_likes_this_animal` that returns `True` if Eric likes a given animal and `False` otherwise."
      ]
    },
    {
      "cell_type": "code",
      "execution_count": null,
      "metadata": {
        "id": "iG5ful_GYJFz"
      },
      "outputs": [],
      "source": [
        "class Animal:\n",
        "\n",
        "  def __init__(self, name, num_legs, num_eyes, noise):\n",
        "    self.name = name\n",
        "    self.num_legs = num_legs\n",
        "    self.num_eyes = num_eyes\n",
        "    self.noise = noise\n",
        "\n",
        "  def check_if_eric_likes_this_animal(self):\n",
        "    # TODO(you): Implement\n",
        "    print(\"This method has not been implemented.\")"
      ]
    },
    {
      "cell_type": "markdown",
      "metadata": {
        "id": "qEHpLWtyrTkT"
      },
      "source": [
        "### Hint"
      ]
    },
    {
      "cell_type": "markdown",
      "metadata": {
        "id": "muxyZgqsrU1h"
      },
      "source": [
        "Don't forget that class attributes are accessed via `self`, which is why it's passed in as a parameter (`check_if_eric_likes_this_animal(self)`)."
      ]
    },
    {
      "cell_type": "markdown",
      "metadata": {
        "id": "G2-9M6U_ehAx"
      },
      "source": [
        "### Unit Tests\n",
        "\n",
        "Run the following cell to check your answer against some unit tests."
      ]
    },
    {
      "cell_type": "code",
      "execution_count": null,
      "metadata": {
        "id": "rR7p_RtNXhLh"
      },
      "outputs": [],
      "source": [
        "spider = Animal(\"spider\", 8, 8, \"\")\n",
        "print(spider.check_if_eric_likes_this_animal())\n",
        "# Should print: False\n",
        "\n",
        "pig = Animal(\"pig\", 4, 2, \"oink\")\n",
        "print(pig.check_if_eric_likes_this_animal())\n",
        "# Should print: True"
      ]
    },
    {
      "cell_type": "markdown",
      "metadata": {
        "id": "6eqyTpFClXNJ"
      },
      "source": [
        "### Solution"
      ]
    },
    {
      "cell_type": "markdown",
      "metadata": {
        "id": "GqeKLocLA9y7"
      },
      "source": [
        "For this method we need to quickly determine how many legs the animal we're given has. That's not too challenging since we can get its `num_legs` attribute via `self.num_legs`."
      ]
    },
    {
      "cell_type": "code",
      "execution_count": null,
      "metadata": {
        "id": "4LP1MwhUYs8e"
      },
      "outputs": [],
      "source": [
        "class Animal:\n",
        "\n",
        "  def __init__(self, name, num_legs, num_eyes, noise):\n",
        "    self.name = name\n",
        "    self.num_legs = num_legs\n",
        "    self.num_eyes = num_eyes\n",
        "    self.noise = noise\n",
        "  \n",
        "  def check_if_eric_likes_this_animal(self):\n",
        "    return self.num_legs \u003c= 4"
      ]
    },
    {
      "cell_type": "markdown",
      "metadata": {
        "id": "sHInT5ywY0dC"
      },
      "source": [
        "Good programming style usually dictates that we make that 4 into a constant, so that it is clear what it means."
      ]
    },
    {
      "cell_type": "code",
      "execution_count": null,
      "metadata": {
        "id": "wY0CGDHNY3Xg"
      },
      "outputs": [],
      "source": [
        "MAX_NUM_LEGS_ERIC_WILL_TOLERATE = 4\n",
        "\n",
        "class Animal:\n",
        "\n",
        "  def __init__(self, name, num_legs, num_eyes, noise):\n",
        "    self.name = name\n",
        "    self.num_legs = num_legs\n",
        "    self.num_eyes = num_eyes\n",
        "    self.noise = noise\n",
        "\n",
        "  def check_if_eric_likes_this_animal(animal):\n",
        "    return animal.num_legs \u003c= MAX_NUM_LEGS_ERIC_WILL_TOLERATE"
      ]
    },
    {
      "cell_type": "markdown",
      "metadata": {
        "id": "2y3GkD0XlGeR"
      },
      "source": [
        "## Question 3"
      ]
    },
    {
      "cell_type": "markdown",
      "metadata": {
        "id": "9YqAudhuSxJg"
      },
      "source": [
        "Python allows you to specify the way you want an instance of your class to be printed by default, via the `__str__` method. "
      ]
    },
    {
      "cell_type": "code",
      "execution_count": null,
      "metadata": {
        "id": "wdVxUvqXTEjF"
      },
      "outputs": [],
      "source": [
        "class Animal:\n",
        "\n",
        "  def __init__(self, name, num_legs, num_eyes, noise):\n",
        "    self.name = name\n",
        "    self.num_legs = num_legs\n",
        "    self.num_eyes = num_eyes\n",
        "    self.noise = noise\n",
        "  \n",
        "  def __str__(self):\n",
        "    # Note that that the `__str__` method must `return` the string to be\n",
        "    # printed, not `print` it.\n",
        "    return \"This animal is called a %s.\" % self.name"
      ]
    },
    {
      "cell_type": "code",
      "execution_count": null,
      "metadata": {
        "id": "a9cNw1J6TjkS"
      },
      "outputs": [],
      "source": [
        "snake = Animal(\"snake\", 0, 2, \"ssssssssssss\")\n",
        "print(snake)"
      ]
    },
    {
      "cell_type": "markdown",
      "metadata": {
        "id": "1hLacMuRTvwr"
      },
      "source": [
        "Write a `__str__` method that returns a string containing the animal's name, the number of legs and eyes it has, and the noise it makes."
      ]
    },
    {
      "cell_type": "code",
      "execution_count": null,
      "metadata": {
        "id": "O-M96AfBU5Od"
      },
      "outputs": [],
      "source": [
        "class Animal:\n",
        "\n",
        "  def __init__(self, name, num_legs, num_eyes, noise):\n",
        "    self.name = name\n",
        "    self.num_legs = num_legs\n",
        "    self.num_eyes = num_eyes\n",
        "    self.noise = noise\n",
        "  \n",
        "  def __str__(self):\n",
        "    # TODO(you): Implement"
      ]
    },
    {
      "cell_type": "markdown",
      "metadata": {
        "id": "xlUMC8Lh-Btg"
      },
      "source": [
        "### Hint"
      ]
    },
    {
      "cell_type": "markdown",
      "metadata": {
        "id": "LkQV-HEr-DhU"
      },
      "source": [
        "Use the following function that creates an \"attribute string\" for an animal."
      ]
    },
    {
      "cell_type": "code",
      "execution_count": null,
      "metadata": {
        "id": "GDz5XL3Y-Op5"
      },
      "outputs": [],
      "source": [
        "def create_attribute_string(num_attributes, attribute_name):\n",
        "  result = \"%d \" % num_attributes\n",
        "  result += attribute_name\n",
        "\n",
        "  # This block makes attribute_name plural if the number is not\n",
        "  # 1 so that the sentence is grammatically correct.\n",
        "  if num_attributes != 1:\n",
        "    result += \"s\"\n",
        "  return result\n",
        "\n",
        "print(create_attribute_string(4, 'leg'))\n",
        "print(create_attribute_string(1, 'leg'))"
      ]
    },
    {
      "cell_type": "markdown",
      "metadata": {
        "id": "tSWHIR_hlV1j"
      },
      "source": [
        "### Solution"
      ]
    },
    {
      "cell_type": "markdown",
      "metadata": {
        "id": "MbhauGObT5F0"
      },
      "source": [
        "To make life easier, we create a function called `create_attribute_string`, so that we can factorize some of the printing of the legs and eyes."
      ]
    },
    {
      "cell_type": "code",
      "execution_count": null,
      "metadata": {
        "id": "3tBzs_2sUm2n"
      },
      "outputs": [],
      "source": [
        "def create_attribute_string(num_attributes, attribute_name):\n",
        "  result = \"%d \" % num_attributes\n",
        "  result += attribute_name\n",
        "\n",
        "  # This block makes attribute_name plural if the number is not\n",
        "  # 1 so that the sentence is grammatically correct.\n",
        "  if num_attributes != 1:\n",
        "    result += \"s\"\n",
        "  return result\n",
        "\n",
        "\n",
        "class Animal:\n",
        "\n",
        "  def __init__(self, name, num_legs, num_eyes, noise):\n",
        "    self.name = name\n",
        "    self.num_legs = num_legs\n",
        "    self.num_eyes = num_eyes\n",
        "    self.noise = noise\n",
        "  \n",
        "  def __str__(self):\n",
        "    result = \"The \" + self.name + \" has \"\n",
        "    result += create_attribute_string(self.num_legs, \"leg\")\n",
        "    result += \" and \" + create_attribute_string(self.num_eyes, \"eye\")\n",
        "    noise_string = \"\\\"\" + self.noise + \"\\\"!\"      \n",
        "    result += \", and it goes \" + noise_string\n",
        "    return result"
      ]
    },
    {
      "cell_type": "code",
      "execution_count": null,
      "metadata": {
        "id": "V2dEVaFjUS5-"
      },
      "outputs": [],
      "source": [
        "snake = Animal(\"snake\", 0, 2, \"ssssssssssss\")\n",
        "print(snake)"
      ]
    },
    {
      "cell_type": "markdown",
      "metadata": {
        "id": "-L9oHBk7lMbg"
      },
      "source": [
        "## Question 4"
      ]
    },
    {
      "cell_type": "markdown",
      "metadata": {
        "id": "4LPiaWMXUA2r"
      },
      "source": [
        "Given the `Animal` class and associated `__str__` method from the previous question, write a `print_animals` function that takes in a list of `Animal` instances and prints them all. The first code block displays the desired outputs, and the code from the previous question is copied below it for convenience. "
      ]
    },
    {
      "cell_type": "markdown",
      "metadata": {
        "id": "vmDekrXWUrKM"
      },
      "source": [
        "```python \n",
        "snake = Animal(\"snake\", 0, 2, \"ssssssssssss\")\n",
        "human = Animal(\"human\", 2, 2, \"hi\")\n",
        "animal_list = [snake, human]\n",
        "print_animals(animal_list)\n",
        "# The snake has 0 legs and 2 eyes, and it goes \"ssssssssssss\"!\n",
        "# The human has 2 legs and 2 eyes, and it goes \"hi\"!\n",
        "```"
      ]
    },
    {
      "cell_type": "code",
      "execution_count": null,
      "metadata": {
        "id": "HAnJy400lJe3"
      },
      "outputs": [],
      "source": [
        "def create_attribute_string(num_attributes, attribute_name):\n",
        "  result = \"%d \" % num_attributes\n",
        "  result += attribute_name\n",
        "\n",
        "  # This block makes attribute_name plural if the number is not\n",
        "  # 1 so that the sentence is grammatically correct.\n",
        "  if num_attributes != 1:\n",
        "    result += \"s\"\n",
        "  return result\n",
        "\n",
        "class Animal:\n",
        "\n",
        "  def __init__(self, name, num_legs, num_eyes, noise):\n",
        "    self.name = name\n",
        "    self.num_legs = num_legs\n",
        "    self.num_eyes = num_eyes\n",
        "    self.noise = noise\n",
        "  \n",
        "  def __str__(self):\n",
        "    result = \"The \" + self.name + \" has \"\n",
        "    result += create_attribute_string(self.num_legs, \"leg\")\n",
        "    result += \" and \" + create_attribute_string(self.num_eyes, \"eye\")\n",
        "    noise_string = \"\\\"\" + self.noise + \"\\\"!\"      \n",
        "    result += \", and it goes \" + noise_string\n",
        "    return result"
      ]
    },
    {
      "cell_type": "code",
      "execution_count": null,
      "metadata": {
        "id": "cJwrtANqak1E"
      },
      "outputs": [],
      "source": [
        "def print_animals(animal_list):\n",
        "  # TODO(you): Implement\n",
        "  print(\"This function has not been implemented.\")"
      ]
    },
    {
      "cell_type": "markdown",
      "metadata": {
        "id": "I1hELNlCk1gm"
      },
      "source": [
        "### Unit Tests\n",
        "\n",
        "Run the following cell to check your answer against some unit tests."
      ]
    },
    {
      "cell_type": "code",
      "execution_count": null,
      "metadata": {
        "id": "go5R63ERk3G2"
      },
      "outputs": [],
      "source": [
        "snake = Animal(\"snake\", 0, 2, \"ssssssssssss\")\n",
        "human = Animal(\"human\", 2, 2, \"hi\")\n",
        "animal_list = [snake, human]\n",
        "\n",
        "print_animals(animal_list)\n",
        "# Should print multiline:\n",
        "# 'The snake has 0 legs and 2 eyes, and it goes \"ssssssssssss\"!'\n",
        "# 'The human has 2 legs and 2 eyes, and it goes \"hi\"!'"
      ]
    },
    {
      "cell_type": "markdown",
      "metadata": {
        "id": "avX4cnD-lS51"
      },
      "source": [
        "### Solution"
      ]
    },
    {
      "cell_type": "markdown",
      "metadata": {
        "id": "2_u0R3B2UMFa"
      },
      "source": [
        "To print each animal in the list, we can iteratively apply the `print` method."
      ]
    },
    {
      "cell_type": "code",
      "execution_count": null,
      "metadata": {
        "id": "BtWsTD1Qc5h2"
      },
      "outputs": [],
      "source": [
        "def print_animals(animal_list):\n",
        "  for animal in animal_list:\n",
        "    print(animal)"
      ]
    },
    {
      "cell_type": "markdown",
      "metadata": {
        "id": "1JAnHceo9Bbv"
      },
      "source": [
        "## Question 5"
      ]
    },
    {
      "cell_type": "markdown",
      "metadata": {
        "id": "3AoNX5t29CuJ"
      },
      "source": [
        "One of the most common use cases for class inheritance is when one class is a *subset* of another class. For example, consider the `Animal` class from the previous exercises. \n",
        "\n",
        "There are many sub-categories of animal, such as mammals, birds, and reptiles. Create a `Mammal` class that inherits all of the attributes and methods from the `Animal` class above, and also adds some additional information."
      ]
    },
    {
      "cell_type": "markdown",
      "metadata": {
        "id": "9uSMA-wEV4F6"
      },
      "source": [
        "Your new `Mammal` class should also include:\n",
        "\n",
        "- `group`, the subclass of mammal under which this animal falls, which must be one of:\n",
        "  - placental\n",
        "  - marsupial\n",
        "  - monotreme\n",
        "- `is_endangered`, a boolean indicating whether the mammal is endangered"
      ]
    },
    {
      "cell_type": "code",
      "execution_count": null,
      "metadata": {
        "id": "W7WJ-Ua39Xql"
      },
      "outputs": [],
      "source": [
        "class Animal:\n",
        "\n",
        "  def __init__(self, name, num_legs, num_eyes, noise):\n",
        "    self.name = name\n",
        "    self.num_legs = num_legs\n",
        "    self.num_eyes = num_eyes\n",
        "    self.noise = noise\n",
        "  \n",
        "  def check_if_eric_likes_this_animal(self):\n",
        "    return self.num_legs \u003c= 4\n",
        "\n",
        "class Mammal(Animal):\n",
        "  \n",
        "  #TODO(you): Implement    "
      ]
    },
    {
      "cell_type": "markdown",
      "metadata": {
        "id": "3fuMmXMze1pV"
      },
      "source": [
        "### Unit Tests\n",
        "\n",
        "Run the following cell to check your answer against some unit tests."
      ]
    },
    {
      "cell_type": "code",
      "execution_count": null,
      "metadata": {
        "id": "UAa70-CseFV_"
      },
      "outputs": [],
      "source": [
        "tasmanian_devil = Mammal('Tasmanian Devil', 4, 2, 'grrrr', 'marsupial', True)\n",
        "\n",
        "print(hasattr(tasmanian_devil, 'group'))\n",
        "# Should print: True\n",
        "\n",
        "print(hasattr(tasmanian_devil, 'is_endangered'))\n",
        "# Should print: True"
      ]
    },
    {
      "cell_type": "markdown",
      "metadata": {
        "id": "U1NkRZVOCfWV"
      },
      "source": [
        "### Solution"
      ]
    },
    {
      "cell_type": "code",
      "execution_count": null,
      "metadata": {
        "id": "aCkufOIlAqbx"
      },
      "outputs": [],
      "source": [
        "class Animal:\n",
        "\n",
        "  def __init__(self, name, num_legs, num_eyes, noise):\n",
        "    self.name = name\n",
        "    self.num_legs = num_legs\n",
        "    self.num_eyes = num_eyes\n",
        "    self.noise = noise\n",
        "\n",
        "  def check_if_eric_likes_this_animal(self):\n",
        "    return self.num_legs \u003c= 4\n",
        "\n",
        "\n",
        "class Mammal(Animal):\n",
        "\n",
        "  def __init__(self, name, num_legs, num_eyes, noise, group, is_endangered):\n",
        "    Animal.__init__(self, name, num_legs, num_eyes, noise)\n",
        "    self.group = group\n",
        "    self.is_endangered = is_endangered"
      ]
    },
    {
      "cell_type": "markdown",
      "metadata": {
        "id": "5xxpBodvDWti"
      },
      "source": [
        "## Question 6"
      ]
    },
    {
      "cell_type": "markdown",
      "metadata": {
        "id": "Bnjga7rWDcBh"
      },
      "source": [
        "A research group is conducting a study on the three groups of mammals: placentals, marsupials, and monotremes. The study concerns the prevalence of different types of mammals in Australia.\n",
        "\n",
        "- There are 4000 species of placentals, found all over the world. (After all, humans are placentals!)\n",
        "- There are 335 species of marsupials, in Australiasia and the Americas.\n",
        "- There are only 5 species of monotremes, all in Australasia.\n",
        "\n",
        "The research group is studying endangered marsupials and monotremes. Write a method for the `Mammal` class called `flagged` (since these mammals are flagged for research), which returns a boolean for whether the mammal is either marsupial or monotreme, and is endangered.\n",
        "\n",
        "Remember that the `group` attribute is one of `'placental'`, `'marsupial'`, or `'monotreme'`."
      ]
    },
    {
      "cell_type": "code",
      "execution_count": null,
      "metadata": {
        "id": "Ue3-5bSYFIAE"
      },
      "outputs": [],
      "source": [
        "class Animal:\n",
        "\n",
        "  def __init__(self, name, num_legs, num_eyes, noise):\n",
        "    self.name = name\n",
        "    self.num_legs = num_legs\n",
        "    self.num_eyes = num_eyes\n",
        "    self.noise = noise\n",
        "\n",
        "  def check_if_eric_likes_this_animal(self):\n",
        "    return self.num_legs \u003c= 4\n",
        "\n",
        "\n",
        "class Mammal(Animal):\n",
        "\n",
        "  def __init__(self, name, num_legs, num_eyes, noise, group, is_endangered):\n",
        "    Animal.__init__(self, name, num_legs, num_eyes, noise)\n",
        "    self.group = group\n",
        "    self.is_endangered = is_endangered\n",
        "  \n",
        "  def flagged(): # TODO(you): Add arguments\n",
        "    # TODO(you): Implement"
      ]
    },
    {
      "cell_type": "markdown",
      "metadata": {
        "id": "N8UFaeJwK_-X"
      },
      "source": [
        "### Hint"
      ]
    },
    {
      "cell_type": "markdown",
      "metadata": {
        "id": "wpe_3x7WLAk0"
      },
      "source": [
        "Don't forget the `self` keyword as an argument to `flagged` and as a prefix before all attributes! For example, you cannot call `group` alone, you must call `self.group`."
      ]
    },
    {
      "cell_type": "markdown",
      "metadata": {
        "id": "LE2m--5CLNeP"
      },
      "source": [
        "### Unit Tests\n",
        "\n",
        "Run the following cell to check your answer against some unit tests."
      ]
    },
    {
      "cell_type": "code",
      "execution_count": null,
      "metadata": {
        "id": "zDy4T3Y8LOvP"
      },
      "outputs": [],
      "source": [
        "tasmanian_devil = Mammal('Tasmanian Devil', 4, 2, 'grrrr', 'marsupial', True)\n",
        "print(tasmanian_devil.flagged())\n",
        "# Should print: True\n",
        "\n",
        "echidna = Mammal('Echidna', 2, 2, 'roll', 'monotreme', False)\n",
        "print(echidna.flagged())\n",
        "# Should print: False"
      ]
    },
    {
      "cell_type": "markdown",
      "metadata": {
        "id": "YzDozzCFFQzw"
      },
      "source": [
        "### Solution"
      ]
    },
    {
      "cell_type": "code",
      "execution_count": null,
      "metadata": {
        "id": "5c5o4ycmFS2g"
      },
      "outputs": [],
      "source": [
        "class Animal:\n",
        "\n",
        "  def __init__(self, name, num_legs, num_eyes, noise):\n",
        "    self.name = name\n",
        "    self.num_legs = num_legs\n",
        "    self.num_eyes = num_eyes\n",
        "    self.noise = noise\n",
        "\n",
        "  def check_if_eric_likes_this_animal(self):\n",
        "    return self.num_legs \u003c= 4\n",
        "\n",
        "\n",
        "class Mammal(Animal):\n",
        "\n",
        "  def __init__(self, name, num_legs, num_eyes, noise, group, is_endangered):\n",
        "    Animal.__init__(self, name, num_legs, num_eyes, noise)\n",
        "    self.group = group\n",
        "    self.is_endangered = is_endangered\n",
        "  \n",
        "  def flagged(self):\n",
        "    return self.group in ('marsupial', 'monotreme') and self.is_endangered"
      ]
    },
    {
      "cell_type": "markdown",
      "metadata": {
        "id": "xUQaTzugFo7j"
      },
      "source": [
        "## Question 7"
      ]
    },
    {
      "cell_type": "markdown",
      "metadata": {
        "id": "9Ip9IEHWFptl"
      },
      "source": [
        "After a recent trip to Australia, your friend Eric has a new type of animal that he doesn't like: monotremes. While on a wildlife tour, Eric saw a few echidnas and a platypus, the only two types of monotreme in the world. He finds it *extremely* offputting that a mammal (especially one with as much fur as a platypus) can lay eggs. He also doesn't like the echidna's spikes.\n",
        "\n",
        "The `Mammal` class inherited the `check_if_eric_likes_this_animal` method from the `Animal` class, but this needs to be overwritten based on the `group` of the mammal. Overwrite this method in the `Mammal` class."
      ]
    },
    {
      "cell_type": "code",
      "execution_count": null,
      "metadata": {
        "id": "RNTt5EMTHVcs"
      },
      "outputs": [],
      "source": [
        "class Animal:\n",
        "  def __init__(self, name, num_legs, num_eyes, noise):\n",
        "    self.name = name\n",
        "    self.num_legs = num_legs\n",
        "    self.num_eyes = num_eyes\n",
        "    self.noise = noise\n",
        "\n",
        "  def check_if_eric_likes_this_animal(self):\n",
        "    return self.num_legs \u003c= 4\n",
        "\n",
        "\n",
        "class Mammal(Animal):\n",
        "\n",
        "  def __init__(self, name, num_legs, num_eyes, noise, group, is_endangered):\n",
        "    Animal.__init__(self, name, num_legs, num_eyes, noise)\n",
        "    self.group = group\n",
        "    self.is_endangered = is_endangered\n",
        "  \n",
        "  def flagged(self):\n",
        "    return self.group in ('marsupial', 'monotreme') and self.is_endangered\n",
        "  \n",
        "  # TODO(you): Add a method for whether Eric likes this mammal."
      ]
    },
    {
      "cell_type": "markdown",
      "metadata": {
        "id": "T74obwOWMu_I"
      },
      "source": [
        "### Unit Tests\n",
        "\n",
        "Run the following cell to check your answer against some unit tests."
      ]
    },
    {
      "cell_type": "code",
      "execution_count": null,
      "metadata": {
        "id": "pqMF3PSwMu_S"
      },
      "outputs": [],
      "source": [
        "tasmanian_devil = Mammal('Tasmanian Devil', 4, 2, 'grrrr', 'marsupial', True)\n",
        "print(tasmanian_devil.check_if_eric_likes_this_animal())\n",
        "# Should print: True\n",
        "\n",
        "echidna = Mammal('Echidna', 2, 2, 'roll', 'monotreme', False)\n",
        "print(echidna.check_if_eric_likes_this_animal())\n",
        "# Should print: False"
      ]
    },
    {
      "cell_type": "markdown",
      "metadata": {
        "id": "2Ih2KgYnHaFQ"
      },
      "source": [
        "### Solution"
      ]
    },
    {
      "cell_type": "code",
      "execution_count": null,
      "metadata": {
        "id": "p38arkKGHbXa"
      },
      "outputs": [],
      "source": [
        "class Animal:\n",
        "\n",
        "  def __init__(self, name, num_legs, num_eyes, noise):\n",
        "    self.name = name\n",
        "    self.num_legs = num_legs\n",
        "    self.num_eyes = num_eyes\n",
        "    self.noise = noise\n",
        "\n",
        "  def check_if_eric_likes_this_animal(self):\n",
        "    return self.num_legs \u003c= 4\n",
        "\n",
        "\n",
        "class Mammal(Animal):\n",
        "\n",
        "  def __init__(self, name, num_legs, num_eyes, noise, group, is_endangered):\n",
        "    Animal.__init__(self, name, num_legs, num_eyes, noise)\n",
        "    self.group = group\n",
        "    self.is_endangered = is_endangered\n",
        "  \n",
        "  def flagged(self):\n",
        "    return self.group in ('marsupial', 'monotreme') and self.is_endangered\n",
        "  \n",
        "  def check_if_eric_likes_this_animal(self):\n",
        "    return self.group != 'monotreme'"
      ]
    },
    {
      "cell_type": "markdown",
      "metadata": {
        "id": "IztGLROAo6U9"
      },
      "source": [
        "## Question 8"
      ]
    },
    {
      "cell_type": "markdown",
      "metadata": {
        "id": "b456q3SfUVEv"
      },
      "source": [
        "You are in charge of the database for the National Football League (NFL). It is your responsibility to keep track of the key statistics that go into deciding who makes it to the playoffs. (If you're not familiar with NFL, don't worry; you don't need to be! But if you would like more context on how the teams who make the playoffs are decided, see [this Wikipedia entry on NFL playoffs](https://en.wikipedia.org/wiki/NFL_playoffs#Current_playoff_system).)\n",
        "\n",
        "Build a class called `Match` that stores the following:\n",
        "\n",
        "* The home team as `home_team`\n",
        "* The away team as `away_team`\n",
        "* The winner (don't forget to account for a tie) as `winner`\n",
        "\n",
        "These should be passed in as arguments to the class."
      ]
    },
    {
      "cell_type": "code",
      "execution_count": null,
      "metadata": {
        "id": "YEshBK7-NS_j"
      },
      "outputs": [],
      "source": [
        "class Match:\n",
        "\n",
        "  # TODO(you): Implement\n",
        "  def __init__(self): # Add arguments to init as necessary\n",
        "    print(\"This method has not been implemented.\")"
      ]
    },
    {
      "cell_type": "markdown",
      "metadata": {
        "id": "EXBmr9skv7_b"
      },
      "source": [
        "### Unit Tests\n",
        "\n",
        "Run the following cell to check your answer against some unit tests."
      ]
    },
    {
      "cell_type": "code",
      "execution_count": null,
      "metadata": {
        "id": "cTXWkJwXPuyy"
      },
      "outputs": [],
      "source": [
        "lions_vs_patriots = Match(\"Detroit Lions\", \"New England Patriots\",\n",
        "                          \"Detroit Lions\") # Lions win!\n",
        "\n",
        "print(vars(lions_vs_patriots))\n",
        "# Should print: {'home_team': 'Detroit Lions', 'away_team': 'New England Patriots', 'winner': 'Detroit Lions'}"
      ]
    },
    {
      "cell_type": "markdown",
      "metadata": {
        "id": "p7i2_vlPpcdJ"
      },
      "source": [
        "### Solution"
      ]
    },
    {
      "cell_type": "markdown",
      "metadata": {
        "id": "el1S4J2bWO_L"
      },
      "source": [
        "We need to add all of the fields to the `__init__` method."
      ]
    },
    {
      "cell_type": "code",
      "execution_count": null,
      "metadata": {
        "id": "umg8BJR3k6cW"
      },
      "outputs": [],
      "source": [
        "class Match:\n",
        "\n",
        "  def __init__(self, home_team, away_team, winner):\n",
        "    self.home_team = home_team\n",
        "    self.away_team = away_team\n",
        "    self.winner = winner # None if game is tied"
      ]
    },
    {
      "cell_type": "markdown",
      "metadata": {
        "id": "EQ5AQZeho82z"
      },
      "source": [
        "## Question 9"
      ]
    },
    {
      "cell_type": "markdown",
      "metadata": {
        "id": "QDaz-n-8MHBa"
      },
      "source": [
        "Build a class called `Team` that stores:\n",
        "\n",
        "   - the number of wins as `wins`\n",
        "   - the number of losses as `losses`\n",
        "   - the number of ties as `ties`\n",
        "   - a list of all matches played as `matches`\n",
        "\n",
        "The class should only take `name` as an argument; the other fields should be initialized in `__init__` but modified elsewhere."
      ]
    },
    {
      "cell_type": "code",
      "execution_count": null,
      "metadata": {
        "id": "uKzHncBNNHNl"
      },
      "outputs": [],
      "source": [
        "class Team:\n",
        "\n",
        "  # TODO(you): Implement\n",
        "  def __init__(self, name):\n",
        "    print(\"This method has not been implemented.\")"
      ]
    },
    {
      "cell_type": "markdown",
      "metadata": {
        "id": "mbFm8wzYNxb0"
      },
      "source": [
        "It should be called as follows:"
      ]
    },
    {
      "cell_type": "markdown",
      "metadata": {
        "id": "LFCEa8PJVTcH"
      },
      "source": [
        "```python\n",
        "detroit_lions = Team(\"Detroit Lions\")\n",
        "```\n",
        "\n"
      ]
    },
    {
      "cell_type": "markdown",
      "metadata": {
        "id": "e8OWaIx9vYuI"
      },
      "source": [
        "### Hint"
      ]
    },
    {
      "cell_type": "markdown",
      "metadata": {
        "id": "_bHISPHevaWC"
      },
      "source": [
        "Use 0 as the initialization value for `wins`, `losses`, and `ties`. Use an empty list as the initialization value for `matches`."
      ]
    },
    {
      "cell_type": "markdown",
      "metadata": {
        "id": "ufZxRQhSvKfN"
      },
      "source": [
        "### Unit Tests\n",
        "\n",
        "Run the following cell to check your answer against some unit tests."
      ]
    },
    {
      "cell_type": "code",
      "execution_count": null,
      "metadata": {
        "id": "1zREg7KkvM4e"
      },
      "outputs": [],
      "source": [
        "detroit_lions = Team(\"Detroit Lions\")\n",
        "\n",
        "print(vars(detroit_lions))\n",
        "# Should print: {'name': 'Detroit Lions', 'wins': 0, 'losses': 0, 'ties': 0, 'matches': []}"
      ]
    },
    {
      "cell_type": "markdown",
      "metadata": {
        "id": "5vSm4i-xpa0T"
      },
      "source": [
        "### Solution"
      ]
    },
    {
      "cell_type": "markdown",
      "metadata": {
        "id": "PMfzPvuHMcTx"
      },
      "source": [
        "The tricky part about this question is that while only `name` is passed to `__init__`, the attributes `wins`, `losses`, `ties`, and `matches` are all initialized as attributes."
      ]
    },
    {
      "cell_type": "code",
      "execution_count": null,
      "metadata": {
        "id": "5gwRlc3GMiH4"
      },
      "outputs": [],
      "source": [
        "class Team:\n",
        "\n",
        "  def __init__(self, name):\n",
        "    self.name = name\n",
        "    self.wins = 0\n",
        "    self.losses = 0\n",
        "    self.ties = 0\n",
        "    self.matches = []"
      ]
    },
    {
      "cell_type": "code",
      "execution_count": null,
      "metadata": {
        "id": "cq8xAHrRQD0d"
      },
      "outputs": [],
      "source": [
        "detroit_lions = Team(\"Detroit Lions\")"
      ]
    },
    {
      "cell_type": "markdown",
      "metadata": {
        "id": "nkGHiTCjpETP"
      },
      "source": [
        "## Question 10"
      ]
    },
    {
      "cell_type": "markdown",
      "metadata": {
        "id": "sE39F1e7Mplt"
      },
      "source": [
        "Add a method to `Team` that updates an instance's fields based on a new `Match` outcome."
      ]
    },
    {
      "cell_type": "code",
      "execution_count": null,
      "metadata": {
        "id": "BdimG9ajMx1g"
      },
      "outputs": [],
      "source": [
        "class Match:\n",
        "\n",
        "  def __init__(self, home_team, away_team, winner):\n",
        "    self.home_team = home_team\n",
        "    self.away_team = away_team\n",
        "    self.winner = winner # None if game is tied\n",
        "\n",
        "class Team:\n",
        "\n",
        "  def __init__(self, name):\n",
        "    self.name = name\n",
        "    self.wins = 0\n",
        "    self.losses = 0\n",
        "    self.ties = 0\n",
        "    self.matches = []\n",
        "  \n",
        "  def update(self, match):\n",
        "    \"\"\"Updates the fields of a Team based on the outcome of a Match.\"\"\"\n",
        "    # TODO(you): Implement\n",
        "    print(\"This method has not been implemented.\")"
      ]
    },
    {
      "cell_type": "markdown",
      "metadata": {
        "id": "nVQVDDsTwcYK"
      },
      "source": [
        "### Unit Tests\n",
        "\n",
        "Run the following cell to check your answer against some unit tests."
      ]
    },
    {
      "cell_type": "code",
      "execution_count": null,
      "metadata": {
        "id": "PYIyJ2wsQH-N"
      },
      "outputs": [],
      "source": [
        "detroit_lions = Team(\"Detroit Lions\")\n",
        "new_england_patriots = Team(\"New England Patriots\")\n",
        "\n",
        "lions_vs_patriots = Match(\"Detroit Lions\", \"New England Patriots\",\n",
        "                          \"Detroit Lions\") # Lions win!\n",
        "\n",
        "detroit_lions.update(lions_vs_patriots)\n",
        "new_england_patriots.update(lions_vs_patriots)\n",
        "\n",
        "print(detroit_lions.wins)\n",
        "# Should print: 1\n",
        "\n",
        "print(detroit_lions.losses)\n",
        "# Should print: 0\n",
        "\n",
        "print(new_england_patriots.wins)\n",
        "# Should print: 0\n",
        "\n",
        "print(new_england_patriots.losses)\n",
        "# Should print: 1"
      ]
    },
    {
      "cell_type": "markdown",
      "metadata": {
        "id": "cTldU2-OpZEW"
      },
      "source": [
        "### Solution"
      ]
    },
    {
      "cell_type": "code",
      "execution_count": null,
      "metadata": {
        "id": "ObcV6UIkOF51"
      },
      "outputs": [],
      "source": [
        "class Team:\n",
        "\n",
        "  def __init__(self, name):\n",
        "    self.name = name\n",
        "    self.wins = 0\n",
        "    self.losses = 0\n",
        "    self.ties = 0\n",
        "    self.matches = []\n",
        "  \n",
        "  def update(self, match):\n",
        "    \"\"\"Updates the fields of a Team based on the outcome of a Match.\"\"\"\n",
        "    if self.name != match.home_team and self.name != match.away_team:\n",
        "      raise ValueError(\"This match does not contain team %s\" % self.name)\n",
        "    \n",
        "    if match.winner == self.name:\n",
        "      self.wins += 1\n",
        "      print(\"Match won by %s.\" % self.name)\n",
        "    elif match.winner is None:\n",
        "      self.ties += 1\n",
        "      print(\"Match tied.\")\n",
        "    else:\n",
        "      self.losses += 1\n",
        "      print(\"Match lost by %s.\" % self.name)\n",
        "\n",
        "    self.matches.append(match)"
      ]
    },
    {
      "cell_type": "markdown",
      "metadata": {
        "id": "kmE3X7hvpIq5"
      },
      "source": [
        "## Question 11"
      ]
    },
    {
      "cell_type": "markdown",
      "metadata": {
        "id": "W_HshGhqWa7G"
      },
      "source": [
        "In the NFL, the 32 teams are divided into 8 divisions of 4 teams each. For example, the NFC West consists of: Seattle Seahawks, San Francisco 49ers, Los Angeles Rams, and Arizona Cardinals. (See [here](https://en.wikipedia.org/wiki/National_Football_League#Teams) for more context on the 8 divisions.) When deciding who makes the playoffs, it's not just about who has the most wins; some wins count for more than others.\n",
        "\n",
        "A *division game* occurs when two teams from the same division play against each other. A *division win/losses/tie* is a win/loss/tie that occurs in a division game. To decide who makes it to the playoffs, we not only care about a team's overall record, but a team's record in division games. Modify the `Match` class to track whether a given match is a division game."
      ]
    },
    {
      "cell_type": "code",
      "execution_count": null,
      "metadata": {
        "id": "u4ICj8jSZ3gO"
      },
      "outputs": [],
      "source": [
        "class Match:\n",
        "\n",
        "  # TODO(you): Implement\n",
        "  def __init__(self): # Add arguments to init as necessary\n",
        "    print(\"This method has not been implemented.\")"
      ]
    },
    {
      "cell_type": "markdown",
      "metadata": {
        "id": "sAOsWp7TpW9n"
      },
      "source": [
        "### Solution"
      ]
    },
    {
      "cell_type": "code",
      "execution_count": null,
      "metadata": {
        "id": "tG7bBRWmaBO8"
      },
      "outputs": [],
      "source": [
        "class Match:\n",
        "\n",
        "  def __init__(self, home_team, away_team, winner, is_division_game):\n",
        "    self.home_team = home_team\n",
        "    self.away_team = away_team\n",
        "    self.winner = winner # None if game is tied\n",
        "    self.is_division_game = is_division_game"
      ]
    },
    {
      "cell_type": "markdown",
      "metadata": {
        "id": "ZJqU4Bz1_4pc"
      },
      "source": [
        "## Question 12"
      ]
    },
    {
      "cell_type": "markdown",
      "metadata": {
        "id": "W1rt8D2w_54N"
      },
      "source": [
        "Modify the `Team` class to record the number of division wins, losses, and ties."
      ]
    },
    {
      "cell_type": "code",
      "execution_count": null,
      "metadata": {
        "id": "AfCde2spXT7P"
      },
      "outputs": [],
      "source": [
        "class Team:\n",
        "\n",
        "  # TODO(you): Implement\n",
        "  def __init__(self, name, division):\n",
        "    print(\"This method has not been implemented.\")"
      ]
    },
    {
      "cell_type": "markdown",
      "metadata": {
        "id": "iiqyKCXPAoxj"
      },
      "source": [
        "### Solution"
      ]
    },
    {
      "cell_type": "markdown",
      "metadata": {
        "id": "YsY00rarZ7ss"
      },
      "source": [
        "For the `Team` class, we need to duplicate the statistics we have, for the division."
      ]
    },
    {
      "cell_type": "code",
      "execution_count": null,
      "metadata": {
        "id": "nsGdPsT0YKtR"
      },
      "outputs": [],
      "source": [
        "class Team:\n",
        "\n",
        "  def __init__(self, name, division):\n",
        "    self.name = name\n",
        "    self.division = division\n",
        "    # Overall (division and non-division games)\n",
        "    self.wins = 0\n",
        "    self.losses = 0\n",
        "    self.ties = 0\n",
        "    self.matches = []\n",
        "    # Division (division games only)\n",
        "    self.division_wins = 0\n",
        "    self.division_losses = 0\n",
        "    self.division_ties = 0\n",
        "    self.division_matches = []"
      ]
    },
    {
      "cell_type": "markdown",
      "metadata": {
        "id": "QPqbzIX6pNp0"
      },
      "source": [
        "## Question 13"
      ]
    },
    {
      "cell_type": "markdown",
      "metadata": {
        "id": "7W_eMut_YYaq"
      },
      "source": [
        "[Advanced] Now modify `update` such that a team's overall and division statistics can be updated by a match, based on whether the match is a division game."
      ]
    },
    {
      "cell_type": "code",
      "execution_count": null,
      "metadata": {
        "id": "90d4NbTxY8_r"
      },
      "outputs": [],
      "source": [
        "class Match:\n",
        "\n",
        "  def __init__(self, home_team, away_team, winner, is_division_game):\n",
        "    self.home_team = home_team\n",
        "    self.away_team = away_team\n",
        "    self.winner = winner # None if game is tied\n",
        "    self.is_division_game = is_division_game\n",
        "\n",
        "class Team:\n",
        "\n",
        "  def __init__(self, name, division):\n",
        "    self.name = name\n",
        "    self.division = division\n",
        "    # Overall (division and non-division games)\n",
        "    self.wins = 0\n",
        "    self.losses = 0\n",
        "    self.ties = 0\n",
        "    self.matches = []\n",
        "    # Division (division games only)\n",
        "    self.division_wins = 0\n",
        "    self.division_losses = 0\n",
        "    self.division_ties = 0\n",
        "    self.division_matches = []\n",
        "  \n",
        "  def update(self, match):\n",
        "    \"\"\"Updates the fields of a Team based on the outcome of a Match.\"\"\"\n",
        "    # TODO(you): Implement\n",
        "    print(\"This method has not been implemented.\")"
      ]
    },
    {
      "cell_type": "markdown",
      "metadata": {
        "id": "XYcxj8iPyRIJ"
      },
      "source": [
        "It should be called as follows:"
      ]
    },
    {
      "cell_type": "markdown",
      "metadata": {
        "id": "AT8ePxnGVsUJ"
      },
      "source": [
        "```python \n",
        "seattle_seahawks = Team(\"Seattle Seahawks\", \"NFC West\")\n",
        "seahawks_vs_49ers = Match(\"Seattle Seahawks\", \"San Francisco 49ers\",\n",
        "                          \"Seattle Seahawks\", True) # Seahawks win!\n",
        "\n",
        "seattle_seahawks.update(seahawks_vs_49ers)\n",
        "```"
      ]
    },
    {
      "cell_type": "markdown",
      "metadata": {
        "id": "gFhk5qwcyNtZ"
      },
      "source": [
        "### Unit Tests\n",
        "\n",
        "Run the following cell to check your answer against some unit tests."
      ]
    },
    {
      "cell_type": "code",
      "execution_count": null,
      "metadata": {
        "id": "x4tpTcmpafbs"
      },
      "outputs": [],
      "source": [
        "seattle_seahawks = Team(\"Seattle Seahawks\", \"NFC West\")\n",
        "seahawks_vs_49ers = Match(\"Seattle Seahawks\", \"San Francisco 49ers\",\n",
        "                          \"Seattle Seahawks\", True) # Seahawks win!\n",
        "seahawks_vs_lions = Match(\"Seattle Seahawks\", \"Detroit Lions\",\n",
        "                          \"Seattle Seahawks\", False) # Seahawks win!\n",
        "\n",
        "seattle_seahawks.update(seahawks_vs_49ers)\n",
        "seattle_seahawks.update(seahawks_vs_lions)\n",
        "\n",
        "print(seattle_seahawks.wins)\n",
        "# Should print: 2\n",
        "\n",
        "print(seattle_seahawks.division_wins)\n",
        "# Should print: 1"
      ]
    },
    {
      "cell_type": "markdown",
      "metadata": {
        "id": "ASh_aVwepVOT"
      },
      "source": [
        "### Solution"
      ]
    },
    {
      "cell_type": "markdown",
      "metadata": {
        "id": "aSTiVhRyZRi3"
      },
      "source": [
        "The main change we need to make is to compare the divisions of the two teams to see if it is a division game."
      ]
    },
    {
      "cell_type": "code",
      "execution_count": null,
      "metadata": {
        "id": "Au49xtncZQ_e"
      },
      "outputs": [],
      "source": [
        "class Team:\n",
        "\n",
        "  def __init__(self, name, division):\n",
        "    self.name = name\n",
        "    self.division = division\n",
        "    # Overall (division and non-division games)\n",
        "    self.wins = 0\n",
        "    self.losses = 0\n",
        "    self.ties = 0\n",
        "    self.matches = []\n",
        "    # Division\n",
        "    self.division_wins = 0\n",
        "    self.division_losses = 0\n",
        "    self.division_ties = 0\n",
        "    self.division_matches = []\n",
        "  \n",
        "  def update(self, match):\n",
        "    \"\"\"Updates the fields of a Team based on the outcome of a Match.\"\"\"\n",
        "    if self.name != match.home_team and self.name != match.away_team:\n",
        "      raise ValueError(\"This match does not contain team %s\" % self.name)\n",
        "    \n",
        "    if match.winner == self.name:\n",
        "      self.wins += 1\n",
        "      print(\"Match won by %s.\" % self.name)\n",
        "      if match.is_division_game:\n",
        "        self.division_wins += 1\n",
        "    elif match.winner is None:\n",
        "      self.ties += 1\n",
        "      print(\"Match tied.\")\n",
        "      if match.is_division_game:\n",
        "        self.division_ties += 1\n",
        "    else:\n",
        "      self.losses += 1\n",
        "      print(\"Match lost by %s.\" % self.name)\n",
        "      if match.is_division_game:\n",
        "        self.division_losses += 1\n",
        "\n",
        "    self.matches.append(match)\n",
        "    if match.is_division_game:\n",
        "      print(\"This is a division game.\")\n",
        "      self.division_matches.append(match)"
      ]
    },
    {
      "cell_type": "markdown",
      "metadata": {
        "id": "OY9amlJJqDGm"
      },
      "source": [
        "## Question 14"
      ]
    },
    {
      "cell_type": "markdown",
      "metadata": {
        "id": "iFecyN82ZPPH"
      },
      "source": [
        "Your colleague is implementing a class of their own to track time; they're calling it a `Calendar` class. One of their methods is a bit buggy, though."
      ]
    },
    {
      "cell_type": "markdown",
      "metadata": {
        "id": "fa9b9b6zXbGx"
      },
      "source": [
        "Here's their implementation:"
      ]
    },
    {
      "cell_type": "code",
      "execution_count": null,
      "metadata": {
        "id": "gIpYdVclZYI5"
      },
      "outputs": [],
      "source": [
        "class Calendar:\n",
        "\n",
        "  def __init__(year, month, day):\n",
        "    self.year = year\n",
        "    self.month = month\n",
        "    self.day = day\n",
        "\n",
        "  # Prints the date stored in the Calendar instance.\n",
        "  def print_date():\n",
        "    print(self.year)\n",
        "    print(self.month)\n",
        "    print(self.day)\n",
        "\n",
        "cal = Calendar(2020, 2, 15)\n",
        "print_date()    "
      ]
    },
    {
      "cell_type": "markdown",
      "metadata": {
        "id": "NmA-NolpZp00"
      },
      "source": [
        "Can you debug what's going wrong with the `__init__` and `print_date` methods?"
      ]
    },
    {
      "cell_type": "markdown",
      "metadata": {
        "id": "TSNGvjFTzT0q"
      },
      "source": [
        "### Unit Tests\n",
        "\n",
        "Run the following cell to check your answer against some unit tests."
      ]
    },
    {
      "cell_type": "code",
      "execution_count": null,
      "metadata": {
        "id": "RAN1ZFqtkHoL"
      },
      "outputs": [],
      "source": [
        "today = Calendar(2020, 4, 14)\n",
        "today.print_date()\n",
        "# Should not raise error"
      ]
    },
    {
      "cell_type": "markdown",
      "metadata": {
        "id": "5owEjnDQqLTA"
      },
      "source": [
        "### Solution"
      ]
    },
    {
      "cell_type": "markdown",
      "metadata": {
        "id": "bIKDADfnj2IB"
      },
      "source": [
        "The issue with these methods is that neither of them include `self` as a parameter. This is a common thing to forget when you're building a class: the first argument in any of that class's instance methods should be `self`, so that you can refer to that instance inside of the method (via `self.year`, `self.month`, or any other variable within that instance of the class)."
      ]
    },
    {
      "cell_type": "code",
      "execution_count": null,
      "metadata": {
        "id": "7t96MED0kDzs"
      },
      "outputs": [],
      "source": [
        "class Calendar:\n",
        "\n",
        "  def __init__(self, year, month, day):\n",
        "    self.year = year\n",
        "    self.month = month\n",
        "    self.day = day\n",
        "\n",
        "  # Prints the date stored in the Calendar instance.\n",
        "  def print_date(self):\n",
        "    print(self.year)\n",
        "    print(self.month)\n",
        "    print(self.day)"
      ]
    },
    {
      "cell_type": "markdown",
      "metadata": {
        "id": "l2jrXj1GqB_H"
      },
      "source": [
        "## Question 15"
      ]
    },
    {
      "cell_type": "markdown",
      "metadata": {
        "id": "otVyPF4etHpF"
      },
      "source": [
        "Your colleague is now trying to print the date as one block rather than on three separate lines, but they're still having some issues."
      ]
    },
    {
      "cell_type": "code",
      "execution_count": null,
      "metadata": {
        "id": "Rjjefr755pBW"
      },
      "outputs": [],
      "source": [
        "class Calendar:\n",
        "\n",
        "  def __init__(self, year, month, day):\n",
        "    self.year = year\n",
        "    self.month = month\n",
        "    self.day = day\n",
        "\n",
        "  # Prints the date stored in the Calendar instance.\n",
        "  def print_date(self):\n",
        "    print(self.year + \"/\" + self.month + \"/\" + self.day)\n",
        "\n",
        "today = Calendar(2020, 4, 14)\n",
        "today.print_date()    "
      ]
    },
    {
      "cell_type": "markdown",
      "metadata": {
        "id": "tbE9LfM76eEu"
      },
      "source": [
        "For some reason, this method now results in a `TypeError`. Can you find the problems and fix them?\n",
        "\n",
        "You should also format the day and month to display two digits, using the formatting below:"
      ]
    },
    {
      "cell_type": "markdown",
      "metadata": {
        "id": "G35zIA-mWC1b"
      },
      "source": [
        "```python\n",
        "print('%02d' % 2)\n",
        "```"
      ]
    },
    {
      "cell_type": "markdown",
      "metadata": {
        "id": "5YYOK2tPzsgt"
      },
      "source": [
        "### Unit Tests\n",
        "\n",
        "Run the following cell to check your answer against some unit tests."
      ]
    },
    {
      "cell_type": "code",
      "execution_count": null,
      "metadata": {
        "id": "dSJm107X9z7a"
      },
      "outputs": [],
      "source": [
        "today = Calendar(2020, 4, 14)\n",
        "today.print_date()\n",
        "# Should print: 2020/04/14"
      ]
    },
    {
      "cell_type": "markdown",
      "metadata": {
        "id": "fEPKOqXHqHUi"
      },
      "source": [
        "### Solution"
      ]
    },
    {
      "cell_type": "markdown",
      "metadata": {
        "id": "LuSZLDPlzdBY"
      },
      "source": [
        "The problem here is that `print_date` tries to add together an `int` and a `str` type. To fix this, we need to coerce all types to `str`. We should also coerce the months and days to have two digits."
      ]
    },
    {
      "cell_type": "code",
      "execution_count": null,
      "metadata": {
        "id": "B_MsJxWI9z7V"
      },
      "outputs": [],
      "source": [
        "class Calendar:\n",
        "\n",
        "  def __init__(self, year, month, day):\n",
        "    self.year = year\n",
        "    self.month = month\n",
        "    self.day = day\n",
        "\n",
        "  # Prints the date stored in the Calendar instance.\n",
        "  def print_date(self):\n",
        "    print(\"%d/%02d/%02d\" % (self.year, self.month, self.day))"
      ]
    },
    {
      "cell_type": "markdown",
      "metadata": {
        "id": "sKiAjO_6p_m5"
      },
      "source": [
        "## Question 16"
      ]
    },
    {
      "cell_type": "markdown",
      "metadata": {
        "id": "W35dKasZWhiI"
      },
      "source": [
        "Your coworker has decided to add an `increment_date()` method to their `Calendar` class. But it's not working. For example, it is incrementing 2020/04/30 to 2020/04/31, which does not exist."
      ]
    },
    {
      "cell_type": "code",
      "execution_count": null,
      "metadata": {
        "id": "PhhBVw-o-hB1"
      },
      "outputs": [],
      "source": [
        "class Calendar:\n",
        "\n",
        "  def __init__(self, year, month, day):\n",
        "    self.year = year\n",
        "    self.month = month\n",
        "    self.day = day\n",
        "\n",
        "  # Prints the date stored in the Calendar instance.\n",
        "  def print_date(self):\n",
        "    print(\"%d/%02d/%02d\" % (self.year, self.month, self.day))\n",
        "\n",
        "  def increment_date(self):\n",
        "    self.day += 1\n",
        "    if self.day \u003e 31:\n",
        "      self.day = 1\n",
        "      self.month += 1\n",
        "      if self.month \u003e 12:\n",
        "        self.month = 1\n",
        "        self.year += 1\n",
        "\n",
        "    self.print_date()\n",
        "\n",
        "today = Calendar(2020, 4, 30)\n",
        "today.increment_date()    "
      ]
    },
    {
      "cell_type": "markdown",
      "metadata": {
        "id": "pXNPIsIj0bQQ"
      },
      "source": [
        "As a bonus, if you would like to account for leap years, this function should help!"
      ]
    },
    {
      "cell_type": "code",
      "execution_count": null,
      "metadata": {
        "id": "ywidpjpk0fXf"
      },
      "outputs": [],
      "source": [
        "def is_leap_year(year):\n",
        "  if year % 4 == 0:\n",
        "    if year % 100 == 0:\n",
        "      if year % 400 == 0:\n",
        "        return True\n",
        "    else:\n",
        "      return True\n",
        "  return False"
      ]
    },
    {
      "cell_type": "markdown",
      "metadata": {
        "id": "qzKd5XoR0wSM"
      },
      "source": [
        "### Unit Tests\n",
        "\n",
        "Run the following cell to check your answer against some unit tests."
      ]
    },
    {
      "cell_type": "code",
      "execution_count": null,
      "metadata": {
        "id": "l69AB64H0xVr"
      },
      "outputs": [],
      "source": [
        "today = Calendar(2020, 4, 15)\n",
        "today.increment_date()\n",
        "# Should print: 2020/04/16\n",
        "\n",
        "today = Calendar(2020, 4, 30)\n",
        "today.increment_date()\n",
        "# Should print: 2020/05/01\n",
        "\n",
        "today = Calendar(2020, 2, 28)\n",
        "today.increment_date()\n",
        "# Should print: 2020/02/29\n",
        "\n",
        "today = Calendar(2021, 2, 28)\n",
        "today.increment_date()\n",
        "# Should print: 2021/03/01\n",
        "\n",
        "today = Calendar(1999, 12, 31)\n",
        "today.increment_date()\n",
        "# Should print: 2000/01/01"
      ]
    },
    {
      "cell_type": "markdown",
      "metadata": {
        "id": "WbelSaHOqE7q"
      },
      "source": [
        "### Solution"
      ]
    },
    {
      "cell_type": "markdown",
      "metadata": {
        "id": "Ivyoa8AvWlf6"
      },
      "source": [
        "Your coworker got the month transition correct, but not every month has 31 days. Not to mention, they don't account for leap years. Accounting for leap years is beyond the scope of this exercise, but the fully correct solution that does account for leap years is below:"
      ]
    },
    {
      "cell_type": "code",
      "execution_count": null,
      "metadata": {
        "id": "6JFf9Sac0j0q"
      },
      "outputs": [],
      "source": [
        "def is_leap_year(year):\n",
        "  if year % 4 == 0:\n",
        "    if year % 100 == 0:\n",
        "      if year % 400 == 0:\n",
        "        return True\n",
        "    else:\n",
        "      return True\n",
        "  return False"
      ]
    },
    {
      "cell_type": "code",
      "execution_count": null,
      "metadata": {
        "id": "3ayz1gU1Bu9M"
      },
      "outputs": [],
      "source": [
        "class Calendar:\n",
        "\n",
        "  def __init__(self, year, month, day):\n",
        "    self.year = year\n",
        "    self.month = month\n",
        "    self.day = day\n",
        "\n",
        "  # Prints the date stored in the Calendar instance.\n",
        "  def print_date(self):\n",
        "    print(\"%d/%02d/%02d\" % (self.year, self.month, self.day))\n",
        "\n",
        "  def increment_date(self):\n",
        "    self.day += 1\n",
        "    change_month = False\n",
        "\n",
        "    # Check for February which has 28 days usually, 29 in leap year.\n",
        "    if self.month == 2:\n",
        "    # Check for leap year and end of month.\n",
        "      if is_leap_year(self.year):\n",
        "        if self.day \u003e 29:\n",
        "          change_month = True\n",
        "      elif self.day \u003e 28:\n",
        "        change_month = True\n",
        "\n",
        "    # Check for 30 days in April, June, September, November.\n",
        "    elif self.month in [4, 6, 9, 11]:\n",
        "      if self.day \u003e 30:\n",
        "        change_month = True\n",
        "    \n",
        "    # Check for all remaining months, which have 31 days.\n",
        "    elif self.month \u003e= 1 and self.month \u003c= 12:\n",
        "      if self.day \u003e 31:\n",
        "        change_month = True\n",
        "    \n",
        "    if change_month:\n",
        "      self.day = 1\n",
        "      self.month += 1\n",
        "      if self.month \u003e 12:\n",
        "        self.month = 1\n",
        "        self.year += 1\n",
        "\n",
        "    self.print_date()"
      ]
    }
  ],
  "metadata": {
    "colab": {
      "collapsed_sections": [
        "H3ak5R1hDskc",
        "qEHpLWtyrTkT",
        "G2-9M6U_ehAx",
        "6eqyTpFClXNJ",
        "xlUMC8Lh-Btg",
        "tSWHIR_hlV1j",
        "I1hELNlCk1gm",
        "avX4cnD-lS51",
        "3fuMmXMze1pV",
        "U1NkRZVOCfWV",
        "N8UFaeJwK_-X",
        "LE2m--5CLNeP",
        "YzDozzCFFQzw",
        "T74obwOWMu_I",
        "2Ih2KgYnHaFQ",
        "EXBmr9skv7_b",
        "p7i2_vlPpcdJ",
        "e8OWaIx9vYuI",
        "ufZxRQhSvKfN",
        "5vSm4i-xpa0T",
        "nVQVDDsTwcYK",
        "cTldU2-OpZEW",
        "sAOsWp7TpW9n",
        "iiqyKCXPAoxj",
        "gFhk5qwcyNtZ",
        "ASh_aVwepVOT",
        "TSNGvjFTzT0q",
        "5owEjnDQqLTA",
        "5YYOK2tPzsgt",
        "fEPKOqXHqHUi",
        "qzKd5XoR0wSM",
        "WbelSaHOqE7q"
      ],
      "name": "classes.ipynb",
      "provenance": [ ]
    },
    "kernelspec": {
      "display_name": "Python 3",
      "name": "python3"
    }
  },
  "nbformat": 4,
  "nbformat_minor": 0
}
