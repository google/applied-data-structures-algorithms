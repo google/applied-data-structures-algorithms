{
  "cells": [
    {
      "cell_type": "markdown",
      "metadata": {
        "id": "ayZnJ9srrGcK"
      },
      "source": [
        "# Sets"
      ]
    },
    {
      "cell_type": "markdown",
      "metadata": {
        "id": "QTMUU9mur9q3"
      },
      "source": [
        "## Lesson Overview"
      ]
    },
    {
      "cell_type": "markdown",
      "metadata": {
        "id": "6HIFT8Vk1tWs"
      },
      "source": [
        "The set is a data structure that is common in both computer science and mathematics. "
      ]
    },
    {
      "cell_type": "markdown",
      "metadata": {
        "id": "r4jCRUz2T7Zb"
      },
      "source": [
        "If you have encountered a [set in mathematics](https://en.wikipedia.org/wiki/Finite_set), a [set in computer science](https://en.wikipedia.org/wiki/Set_(abstract_data_type)) is the same concept."
      ]
    },
    {
      "cell_type": "markdown",
      "metadata": {
        "id": "9QMp5oiEUhbO"
      },
      "source": [
        "### Definition"
      ]
    },
    {
      "cell_type": "markdown",
      "metadata": {
        "id": "yR6Sh_K2S-m7"
      },
      "source": [
        "\u003e A **set** is an unordered collection of unique objects.\n",
        "\n",
        "Sets collect unique objects. A set has no native order and cannot contain duplicate objects."
      ]
    },
    {
      "cell_type": "markdown",
      "metadata": {
        "id": "rcB5xWOaUk93"
      },
      "source": [
        "For example, you could use a set to keep track of the players in a basketball team. A set is a good choice since there is no obvious ordering for the players, and a team cannot contain the same player more than once."
      ]
    },
    {
      "cell_type": "markdown",
      "metadata": {
        "id": "xXOqLJbqUnY1"
      },
      "source": [
        "### Initialization"
      ]
    },
    {
      "cell_type": "markdown",
      "metadata": {
        "id": "JeNp1pXsNHEn"
      },
      "source": [
        "Sets are generally initialized in one of two ways."
      ]
    },
    {
      "cell_type": "code",
      "execution_count": null,
      "metadata": {
        "id": "tINocQ2M8d6N"
      },
      "outputs": [],
      "source": [
        "# Option 1: Using curly brackets.\n",
        "my_set = {0, 2, 4, 6, 8}\n",
        "print(my_set)\n",
        "\n",
        "# Option 2: Using the `set` keyword with an array input.\n",
        "your_set = set([0, 2, 4, 6, 8])\n",
        "print(your_set)"
      ]
    },
    {
      "cell_type": "markdown",
      "metadata": {
        "id": "4m71aqoAQHH4"
      },
      "source": [
        "Be careful though: the *only* correct way to initialize an empty set is with the set operator. Assigning a variable to `{}` initializes an empty *map*, which is a different data structure that we will cover in a later lesson."
      ]
    },
    {
      "cell_type": "code",
      "execution_count": null,
      "metadata": {
        "id": "yfYofZ6EQTfY"
      },
      "outputs": [],
      "source": [
        "empty_set = set()"
      ]
    },
    {
      "cell_type": "markdown",
      "metadata": {
        "id": "14t0PvcsTI4n"
      },
      "source": [
        "Sets typically contain only one type. Different languages vary on their different implementations of a set, and some allow different types within the same set. For this lesson, we will assume that a set can only contain one type."
      ]
    },
    {
      "cell_type": "markdown",
      "metadata": {
        "id": "lpxhDLqNUxiR"
      },
      "source": [
        "### Properties"
      ]
    },
    {
      "cell_type": "markdown",
      "metadata": {
        "id": "4S-uEbX9U4bR"
      },
      "source": [
        "Let's look at some properties of sets. "
      ]
    },
    {
      "cell_type": "markdown",
      "metadata": {
        "id": "clc8hF6U8hDF"
      },
      "source": [
        "You can iterate through a set using `for`."
      ]
    },
    {
      "cell_type": "code",
      "execution_count": null,
      "metadata": {
        "id": "-pcrOwhwAoqi"
      },
      "outputs": [],
      "source": [
        "my_set = {0, 2, 4, 6, 8}\n",
        "for i in my_set:\n",
        "  print(i)"
      ]
    },
    {
      "cell_type": "markdown",
      "metadata": {
        "id": "ETfkHOeHzSPm"
      },
      "source": [
        "---"
      ]
    },
    {
      "cell_type": "markdown",
      "metadata": {
        "id": "8L2bgJeNBPIW"
      },
      "source": [
        "If you try to create a set from an array that has duplicate elements, the duplicate elements will be removed."
      ]
    },
    {
      "cell_type": "code",
      "execution_count": null,
      "metadata": {
        "id": "-Ryr868vBV2M"
      },
      "outputs": [],
      "source": [
        "print({0, 0, 1, 1, 2, 2})\n",
        "print(set([3, 4, 3, 4, 3, 4]))"
      ]
    },
    {
      "cell_type": "markdown",
      "metadata": {
        "id": "IeQTzJbQzU3T"
      },
      "source": [
        "---"
      ]
    },
    {
      "cell_type": "markdown",
      "metadata": {
        "id": "zETybPkSO6li"
      },
      "source": [
        "Sets do not have an ordering."
      ]
    },
    {
      "cell_type": "code",
      "execution_count": null,
      "metadata": {
        "id": "J7n8KGUdO_Cx"
      },
      "outputs": [],
      "source": [
        "ordered_set = {0, 1, 2, 3, 4}\n",
        "jumbled_set = {1, 4, 3, 0, 2}\n",
        "\n",
        "print(ordered_set == jumbled_set)"
      ]
    },
    {
      "cell_type": "markdown",
      "metadata": {
        "id": "jCp6AwXWzcB4"
      },
      "source": [
        "---"
      ]
    },
    {
      "cell_type": "markdown",
      "metadata": {
        "id": "e0rUkLjBR9ra"
      },
      "source": [
        "A consequence of sets not having an ordering is that elements cannot be accessed using indexing."
      ]
    },
    {
      "cell_type": "code",
      "execution_count": null,
      "metadata": {
        "id": "2AUeQczmSCbb"
      },
      "outputs": [],
      "source": [
        "my_set = {0, 2, 4, 6, 8}\n",
        "print(my_set[0]) # throws an error"
      ]
    },
    {
      "cell_type": "markdown",
      "metadata": {
        "id": "7YoSL25fU9d-"
      },
      "source": [
        "### Methods"
      ]
    },
    {
      "cell_type": "markdown",
      "metadata": {
        "id": "s6EgQRqeVAY7"
      },
      "source": [
        "Let's look at some of the common set methods. "
      ]
    },
    {
      "cell_type": "markdown",
      "metadata": {
        "id": "8LH3zcqTLJ3X"
      },
      "source": [
        "Sets come with an `add` method, which adds a new element to a set *if it does not already exist in the set*."
      ]
    },
    {
      "cell_type": "code",
      "execution_count": null,
      "metadata": {
        "id": "mvm-_7NOA6PJ"
      },
      "outputs": [],
      "source": [
        "my_set = {0, 2, 4, 6, 8}\n",
        "\n",
        "# Add a new element to the set.\n",
        "my_set.add(10)\n",
        "print(my_set)\n",
        "\n",
        "# Try to re-add an existing element to the set.\n",
        "my_set.add(10)\n",
        "print(my_set)"
      ]
    },
    {
      "cell_type": "markdown",
      "metadata": {
        "id": "11LkkvZbziBo"
      },
      "source": [
        "---"
      ]
    },
    {
      "cell_type": "markdown",
      "metadata": {
        "id": "JEL0MGUT3ozq"
      },
      "source": [
        "Similarly, sets come with a `remove` method, which removes an element if it exists in the set."
      ]
    },
    {
      "cell_type": "code",
      "execution_count": null,
      "metadata": {
        "id": "pdpgWlBNCAMK"
      },
      "outputs": [],
      "source": [
        "my_set = {0, 2, 4, 6, 8}\n",
        "\n",
        "my_set.remove(8)\n",
        "print(my_set)"
      ]
    },
    {
      "cell_type": "markdown",
      "metadata": {
        "id": "c61n2tgQzmWA"
      },
      "source": [
        "---"
      ]
    },
    {
      "cell_type": "markdown",
      "metadata": {
        "id": "GUdAUFh0CP9J"
      },
      "source": [
        "If you try to remove an element that does not exist, Python will raise an error."
      ]
    },
    {
      "cell_type": "code",
      "execution_count": null,
      "metadata": {
        "id": "GbqAx-tECTx6"
      },
      "outputs": [],
      "source": [
        "my_set = {0, 2, 4, 6, 8}\n",
        "\n",
        "my_set.remove(10)\n",
        "print(my_set)"
      ]
    },
    {
      "cell_type": "markdown",
      "metadata": {
        "id": "rScdczwVznbz"
      },
      "source": [
        "---"
      ]
    },
    {
      "cell_type": "markdown",
      "metadata": {
        "id": "1oGGWrG3KLFm"
      },
      "source": [
        "An extension of the `add` method is `update`, which allows you to add multiple items to a set."
      ]
    },
    {
      "cell_type": "code",
      "execution_count": null,
      "metadata": {
        "id": "qnJ7gtHsLG9w"
      },
      "outputs": [],
      "source": [
        "my_set = {0, 2, 4, 6, 8}\n",
        "\n",
        "my_set.update({10, 12})\n",
        "print(my_set)"
      ]
    },
    {
      "cell_type": "markdown",
      "metadata": {
        "id": "hj7pVKUJzp8H"
      },
      "source": [
        "---"
      ]
    },
    {
      "cell_type": "markdown",
      "metadata": {
        "id": "dVJzwO0VOYYg"
      },
      "source": [
        "If you try to `add` to or `update` a set with elements that are already contained, only the new elements will be added."
      ]
    },
    {
      "cell_type": "code",
      "execution_count": null,
      "metadata": {
        "id": "t_cCSuu7K1WR"
      },
      "outputs": [],
      "source": [
        "my_set = {0, 2, 4, 6, 8}\n",
        "\n",
        "my_set.update([6, 8, 10, 12])\n",
        "print(my_set)"
      ]
    },
    {
      "cell_type": "markdown",
      "metadata": {
        "id": "6GIFR8aPVFZf"
      },
      "source": [
        "### Note about exercises"
      ]
    },
    {
      "cell_type": "markdown",
      "metadata": {
        "id": "HAMYyCv0GQBh"
      },
      "source": [
        "\u003e NOTE: The exercises in this lesson can be solved more efficiently using built-in Python functions. However, we encourage you to attempt the exercise using a low-level solution, that is, with iteration only and no built-in Python methods. Once you have solved the problems with the low-level solution, you can also implement the high-level solution. The high-level solutions will be described in the Solution sections."
      ]
    },
    {
      "cell_type": "markdown",
      "metadata": {
        "id": "ay1r9yhXVKFr"
      },
      "source": [
        "The reasoning behind this is that many lower-level languages (e.g., C, C++, Java) do not have some of the built-in functionality that Python provides. It is useful to know the lower-level implementation of basic code constructions."
      ]
    },
    {
      "cell_type": "markdown",
      "metadata": {
        "id": "RambUaGULHkQ"
      },
      "source": [
        "## Question 1"
      ]
    },
    {
      "cell_type": "markdown",
      "metadata": {
        "id": "vh_sUZX1LJrc"
      },
      "source": [
        "Which *one* of the following best defines a set?"
      ]
    },
    {
      "cell_type": "markdown",
      "metadata": {
        "id": "a9nC7rNbKonk"
      },
      "source": [
        "**a)** An ordered collection of unique objects\n",
        "\n",
        "**b)** An ordered collection of objects\n",
        "\n",
        "**c)** An unordered collection of unique objects\n",
        "\n",
        "**d)** An unordereed collection of objects"
      ]
    },
    {
      "cell_type": "markdown",
      "metadata": {
        "id": "XmbOeqf3KneX"
      },
      "source": [
        "### Solution"
      ]
    },
    {
      "cell_type": "markdown",
      "metadata": {
        "id": "1bB_SyAcKrUj"
      },
      "source": [
        "The correct answer is **c)**.\n",
        "\n",
        "**a)** A set has no ordering.\n",
        "\n",
        "**b)** A set has no ordering; this is the definition of an array.\n",
        "\n",
        "**d)** This is almost correct, but this definition could include duplicate objects."
      ]
    },
    {
      "cell_type": "markdown",
      "metadata": {
        "id": "vFND0Oc-Mbsz"
      },
      "source": [
        "## Question 2"
      ]
    },
    {
      "cell_type": "markdown",
      "metadata": {
        "id": "vHMnKS2hOn6w"
      },
      "source": [
        "Which of the following are correct ways to create a variable `s` equal to the set containing the elements 0, 1, and 2? There may be more than one correct response."
      ]
    },
    {
      "cell_type": "markdown",
      "metadata": {
        "id": "6BXq2t9DLOaa"
      },
      "source": [
        "**a)** `s = {0, 1, 2}`\n",
        "\n",
        "**b)** `s = [0, 1, 2]`\n",
        "\n",
        "**c)** `s = {2, 0, 1}`\n",
        "\n",
        "**d)** `s = set([0, 1, 2)])`\n",
        "\n",
        "**e)** `s = (0, 1, 2)`\n",
        "\n",
        "**f)** `s = set([0, 2, 1, 2, 1, 0, 0, 2])`"
      ]
    },
    {
      "cell_type": "markdown",
      "metadata": {
        "id": "WqJie94YLP_3"
      },
      "source": [
        "### Solution"
      ]
    },
    {
      "cell_type": "markdown",
      "metadata": {
        "id": "IlcOKQklLQy5"
      },
      "source": [
        "The correct answers are **a)**, **c)**, **d)**, and **f)**.\n",
        "\n",
        "**b)** This notation creates an array, not a set.\n",
        "\n",
        "**e)** This notation creates a tuple, not a set."
      ]
    },
    {
      "cell_type": "markdown",
      "metadata": {
        "id": "WW2I01x7RbLE"
      },
      "source": [
        "## Question 3"
      ]
    },
    {
      "cell_type": "markdown",
      "metadata": {
        "id": "yAJwt2SFRdcf"
      },
      "source": [
        "Which of the following statements about the differences between an array and a set are true? There may be more than one correct response."
      ]
    },
    {
      "cell_type": "markdown",
      "metadata": {
        "id": "K08uXMgoL899"
      },
      "source": [
        "**a)** An array has an ordering while a set does not.\n",
        "\n",
        "**b)** Both arrays and sets have indexing by which elements and slices can be accessed.\n",
        "\n",
        "**c)** Both arrays and sets can be iterated over using a `for` or a `while` loop.\n",
        "\n",
        "**d)** Since sets do not have an ordering, it is impossible to calculate the length of a set.\n",
        "\n",
        "**e)** The equivalent of `append` for an array is `add` for a set."
      ]
    },
    {
      "cell_type": "markdown",
      "metadata": {
        "id": "zTRMoLw-L9w7"
      },
      "source": [
        "### Solution"
      ]
    },
    {
      "cell_type": "markdown",
      "metadata": {
        "id": "QI5aPM2oL-gc"
      },
      "source": [
        "The correct answers are **a)**, **c)**, and **e)**.\n",
        "\n",
        "**b)** Since sets do not have an ordering, elements in a set cannot be accessed by indexing.\n",
        "\n",
        "**d)** The length of a set is the number of elements in it."
      ]
    },
    {
      "cell_type": "markdown",
      "metadata": {
        "id": "H6QNsxWYTQ_C"
      },
      "source": [
        "## Question 4"
      ]
    },
    {
      "cell_type": "markdown",
      "metadata": {
        "id": "iuPMA23MTTKB"
      },
      "source": [
        "In which of the following use cases would a set be the most appropriate data structure to use? There may be more than one correct response."
      ]
    },
    {
      "cell_type": "markdown",
      "metadata": {
        "id": "YabYnl1JMg4k"
      },
      "source": [
        "**a)** A collection of all the unique words used in a book\n",
        "\n",
        "**b)** A record of the ages (in years) of all the students in a class\n",
        "\n",
        "**c)** A lookup table mapping each student in a school to an emergency contact number\n",
        "\n",
        "**d)** Listing all of the numbers between 1 and 100"
      ]
    },
    {
      "cell_type": "markdown",
      "metadata": {
        "id": "GTMm9T0XMhTy"
      },
      "source": [
        "### Solution"
      ]
    },
    {
      "cell_type": "markdown",
      "metadata": {
        "id": "r8YFiuskMiWv"
      },
      "source": [
        "The correct answers are **a)** and **d)**.\n",
        "\n",
        "**b)** This can have duplicate entries if two students have the same age, so an array is likely the best choice.\n",
        "\n",
        "**c)** Another data structure called a  *map*, which will be covered in a later lesson, is the most appropriate here."
      ]
    },
    {
      "cell_type": "markdown",
      "metadata": {
        "id": "t45JxBEQouCG"
      },
      "source": [
        "## Question 5"
      ]
    },
    {
      "cell_type": "markdown",
      "metadata": {
        "id": "X41N0ZcIGD1t"
      },
      "source": [
        "Use iteration to write a `set_length` function that counts the number of items in a set."
      ]
    },
    {
      "cell_type": "code",
      "execution_count": null,
      "metadata": {
        "id": "Iw8QhfXWHice"
      },
      "outputs": [],
      "source": [
        "def set_length(s):\n",
        "  \"\"\"Calculate the number of items in a set.\"\"\"\n",
        "  # TODO(you): Implement\n",
        "  print(\"This function has not been implemented.\")"
      ]
    },
    {
      "cell_type": "markdown",
      "metadata": {
        "id": "NgPeKh6Io4y1"
      },
      "source": [
        "### Unit Tests\n",
        "\n",
        "Run the following cell to check your answer against some unit tests."
      ]
    },
    {
      "cell_type": "code",
      "execution_count": null,
      "metadata": {
        "id": "eSFmcRvSo6Oj"
      },
      "outputs": [],
      "source": [
        "my_set = {0, 1}\n",
        "print(set_length(my_set))\n",
        "# Should print: 2\n",
        "\n",
        "my_set.add(2)\n",
        "print(set_length(my_set))\n",
        "# Should print: 3"
      ]
    },
    {
      "cell_type": "markdown",
      "metadata": {
        "id": "ywY7i8mwo0rE"
      },
      "source": [
        "### Solution"
      ]
    },
    {
      "cell_type": "markdown",
      "metadata": {
        "id": "y0K_VMvGHrMk"
      },
      "source": [
        "We iterate through the set, incrementing a counter by one at each iteration."
      ]
    },
    {
      "cell_type": "code",
      "execution_count": null,
      "metadata": {
        "id": "q9JOneaBHwia"
      },
      "outputs": [],
      "source": [
        "def set_length(s):\n",
        "  \"\"\"Calculate the number of items in a set.\"\"\"\n",
        "  count = 0\n",
        "  for i in s:\n",
        "    # Sets are already de-duplicated, so we don't need to check for duplicates.\n",
        "    count += 1\n",
        "  return count"
      ]
    },
    {
      "cell_type": "markdown",
      "metadata": {
        "id": "DWMg7PNhIXJK"
      },
      "source": [
        "We can also use Python's `len` function to check a set's length."
      ]
    },
    {
      "cell_type": "code",
      "execution_count": null,
      "metadata": {
        "id": "gPTA5U5QIeAH"
      },
      "outputs": [],
      "source": [
        "my_set = {0, 1}\n",
        "len(my_set)"
      ]
    },
    {
      "cell_type": "markdown",
      "metadata": {
        "id": "EhB_xMtZpGWy"
      },
      "source": [
        "## Question 6"
      ]
    },
    {
      "cell_type": "markdown",
      "metadata": {
        "id": "TvkZ2FAr7-G6"
      },
      "source": [
        "Use iteration to create a `contains` function, which checks whether a set contains an element."
      ]
    },
    {
      "cell_type": "code",
      "execution_count": null,
      "metadata": {
        "id": "gB2zTN0MD2Gx"
      },
      "outputs": [],
      "source": [
        "def set_contains(set, element):\n",
        "  \"\"\"Checks if the set contains the given element.\"\"\"\n",
        "  # TODO(you): Implement\n",
        "  print(\"This function has not been implemented.\")"
      ]
    },
    {
      "cell_type": "markdown",
      "metadata": {
        "id": "3A8SXCOQpPIE"
      },
      "source": [
        "### Unit Tests\n",
        "\n",
        "Run the following cell to check your answer against some unit tests."
      ]
    },
    {
      "cell_type": "code",
      "execution_count": null,
      "metadata": {
        "id": "k4kZ7PYBFhk2"
      },
      "outputs": [],
      "source": [
        "my_set = {0, 2, 4, 6, 8}\n",
        "\n",
        "print(set_contains(my_set, 0))\n",
        "# Should print: True\n",
        "\n",
        "print(set_contains(my_set, 10))\n",
        "# Should print: False"
      ]
    },
    {
      "cell_type": "markdown",
      "metadata": {
        "id": "Zdm6Yc4apLK1"
      },
      "source": [
        "### Solution"
      ]
    },
    {
      "cell_type": "markdown",
      "metadata": {
        "id": "XRM1go3w4rZ8"
      },
      "source": [
        "We iterate through the set, and each time we check to see if the element matches the element we are looking for."
      ]
    },
    {
      "cell_type": "code",
      "execution_count": null,
      "metadata": {
        "id": "qGYwTG8dEXpZ"
      },
      "outputs": [],
      "source": [
        "def set_contains(s, e):\n",
        "  \"\"\"Checks if the set s contains the given element e.\"\"\"\n",
        "  for i in s:\n",
        "    if i == e:\n",
        "      return True\n",
        "  return False"
      ]
    },
    {
      "cell_type": "markdown",
      "metadata": {
        "id": "Hpj1V_WpFVNy"
      },
      "source": [
        "In Python we can check if an element is in a set using `in`."
      ]
    },
    {
      "cell_type": "code",
      "execution_count": null,
      "metadata": {
        "id": "VO--6XxoFiXa"
      },
      "outputs": [],
      "source": [
        "my_set = {0, 2, 4, 6, 8}\n",
        "print(0 in my_set)\n",
        "print(10 in my_set)"
      ]
    },
    {
      "cell_type": "markdown",
      "metadata": {
        "id": "sYWoQc_Qpzjj"
      },
      "source": [
        "## Question 7"
      ]
    },
    {
      "cell_type": "markdown",
      "metadata": {
        "id": "Ysrl5762Lwk6"
      },
      "source": [
        "Use iteration to extend the `remove` method to a `remove_multiple` function, which removes all elements in a new set from an existing set. (This is the same extension as `update` is to `add`.)"
      ]
    },
    {
      "cell_type": "code",
      "execution_count": null,
      "metadata": {
        "id": "mxZ85rddMBp1"
      },
      "outputs": [],
      "source": [
        "def remove_multiple(original_set, set_to_remove):\n",
        "  \"\"\"Remove all elements in set_to_remove from original_set.\"\"\"\n",
        "  # TODO(you): Implement\n",
        "  print(\"This function has not been implemented.\")"
      ]
    },
    {
      "cell_type": "markdown",
      "metadata": {
        "id": "4YwKxUR6p3Jw"
      },
      "source": [
        "### Unit Tests\n",
        "\n",
        "Run the following cell to check your answer against some unit tests."
      ]
    },
    {
      "cell_type": "code",
      "execution_count": null,
      "metadata": {
        "id": "C-lehr_vp5Ik"
      },
      "outputs": [],
      "source": [
        "set1 = {0, 1, 2, 3, 4}\n",
        "set2 = {3, 4, 5, 6, 7}\n",
        "\n",
        "print(remove_multiple(set1, set2))\n",
        "# Should print: {0, 1, 2}"
      ]
    },
    {
      "cell_type": "markdown",
      "metadata": {
        "id": "fs76J4rapyeS"
      },
      "source": [
        "### Solution"
      ]
    },
    {
      "cell_type": "markdown",
      "metadata": {
        "id": "TFk_ffusMPAS"
      },
      "source": [
        "We iterate through `set_to_remove` and remove each element from `original_set` *only if it exists* in `original_set`."
      ]
    },
    {
      "cell_type": "code",
      "execution_count": null,
      "metadata": {
        "id": "3yxjEQy8MisQ"
      },
      "outputs": [],
      "source": [
        "def remove_multiple(original_set, set_to_remove):\n",
        "  \"\"\"Remove all elements in set_to_remove from original_set.\"\"\"\n",
        "  for i in set_to_remove:\n",
        "    # Since remove throws an error if the element is not in the set, we first\n",
        "    # need to check if the element we want to remove exists in the set.\n",
        "    if i in original_set:\n",
        "      original_set.remove(i)\n",
        "  return original_set"
      ]
    },
    {
      "cell_type": "markdown",
      "metadata": {
        "id": "B4Ge3AwfNd4I"
      },
      "source": [
        "Again, Python has a built-in method to do this: `difference_update`. We will discuss \"set difference\" in more depth later in this lesson."
      ]
    },
    {
      "cell_type": "code",
      "execution_count": null,
      "metadata": {
        "id": "D4ft5sIbN2SO"
      },
      "outputs": [],
      "source": [
        "set1 = {0, 1, 2, 3, 4}\n",
        "set2 = {3, 4, 5, 6, 7}\n",
        "set1.difference_update(set2)\n",
        "print(set1)"
      ]
    },
    {
      "cell_type": "markdown",
      "metadata": {
        "id": "ZkQgTChZqKwk"
      },
      "source": [
        "## Question 8"
      ]
    },
    {
      "cell_type": "markdown",
      "metadata": {
        "id": "wbtwncBb0unq"
      },
      "source": [
        "You and your roommate both have grocery shopping lists. Both of these shopping lists are stored in arrays of strings. Instead of going shopping and having to look at both lists, you want to consolidate the two lists into one. You don't care about duplicates, so you decide to take the `union` of both sets."
      ]
    },
    {
      "cell_type": "markdown",
      "metadata": {
        "id": "f_4ukckAQavy"
      },
      "source": [
        "[Union](https://en.wikipedia.org/wiki/Union_(set_theory)) is a common set operator that takes elements of multiple sets and returns one set that contains the elements that appear in *any* of the input sets.\n",
        "\n",
        "The union of sets $A$ and $B$ is denoted by $A \\cup B$. For example, $\\{1, 2, 3\\} \\cup \\{2, 6, 5, 1\\} = \\{1, 2, 3, 5, 6\\}$. (Note the ordering of all of these sets does not matter, since sets are unordered.)\n",
        "\n",
        "Union can be extended from two sets to three sets as follows:\n",
        "\n",
        "$$ A \\cup B \\cup C = (A \\cup B) \\cup C$$\n",
        "\n",
        "The union operation can be extended to an arbitrary number of sets. In fact, the order in which we calculate set union doesn't matter; it is an [associate operation](https://en.wikipedia.org/wiki/Associative_property). Therefore, we can calculate the union of multiple sets by taking the union of any two sets, then union-ing the result with another set, then another set, etc., until we have unioned all sets.\n",
        "\n",
        "Create a `union` function to take the union of two sets of strings. You may use any functions and methods in this lesson."
      ]
    },
    {
      "cell_type": "code",
      "execution_count": null,
      "metadata": {
        "id": "E6iq5UOduKnr"
      },
      "outputs": [],
      "source": [
        "def union(set1, set2):\n",
        "  \"\"\"Return the set union of two sets.\"\"\"\n",
        "  # TODO(you): Implement\n",
        "  print(\"This function has not been implemented.\")"
      ]
    },
    {
      "cell_type": "markdown",
      "metadata": {
        "id": "SSDWg8RIqJMd"
      },
      "source": [
        "### Unit Tests\n",
        "\n",
        "Run the following cell to check your answer against some unit tests."
      ]
    },
    {
      "cell_type": "code",
      "execution_count": null,
      "metadata": {
        "id": "fPrZz16rt2VE"
      },
      "outputs": [],
      "source": [
        "my_shopping_list = {\n",
        "    \"apples\",\n",
        "    \"chocolate\",\n",
        "    \"salt\",\n",
        "}\n",
        "\n",
        "roommates_shopping_list = {\n",
        "    \"chocolate\",\n",
        "    \"apples\",\n",
        "    \"popcorn\"\n",
        "}\n",
        "\n",
        "union(my_shopping_list, roommates_shopping_list)\n",
        "# Should print: {\"apples\", \"chocolate\", \"salt\", \"popcorn\"}"
      ]
    },
    {
      "cell_type": "markdown",
      "metadata": {
        "id": "BAxWhGhmsBOA"
      },
      "source": [
        "### Solution"
      ]
    },
    {
      "cell_type": "markdown",
      "metadata": {
        "id": "4Auf9XBZUUe5"
      },
      "source": [
        "This is just rewriting a method as a function! We can use `update` to extend `set1` by `set2`. It is best practice to save this in a new set using `copy`, so we don't overwrite `set1` (in case we need to use `set1` later)."
      ]
    },
    {
      "cell_type": "code",
      "execution_count": null,
      "metadata": {
        "id": "8QlphsOjvORS"
      },
      "outputs": [],
      "source": [
        "def union(set1, set2):\n",
        "  \"\"\"Return the set union of two sets.\"\"\"\n",
        "  output = set1.copy()\n",
        "  output.update(set2)\n",
        "  return output"
      ]
    },
    {
      "cell_type": "markdown",
      "metadata": {
        "id": "ZEtsinoGw5rX"
      },
      "source": [
        "Again, Python has built-in functionality for this, `set.union`."
      ]
    },
    {
      "cell_type": "code",
      "execution_count": null,
      "metadata": {
        "id": "emocb9-axBH3"
      },
      "outputs": [],
      "source": [
        "my_shopping_list = {\n",
        "    \"apples\",\n",
        "    \"chocolate\",\n",
        "    \"salt\",\n",
        "}\n",
        "\n",
        "roommates_shopping_list = {\n",
        "    \"chocolate\",\n",
        "    \"apples\",\n",
        "    \"popcorn\"\n",
        "}\n",
        "set.union(my_shopping_list, roommates_shopping_list)"
      ]
    },
    {
      "cell_type": "markdown",
      "metadata": {
        "id": "p2x5VczUxSXm"
      },
      "source": [
        "In fact, `set.union` allows us to calculate the union of as many sets as we need."
      ]
    },
    {
      "cell_type": "code",
      "execution_count": null,
      "metadata": {
        "id": "mNJqzWUjxGMh"
      },
      "outputs": [],
      "source": [
        "another_shopping_list = {\n",
        "    \"tequila\",\n",
        "    \"salt\",\n",
        "    \"lime\",\n",
        "}\n",
        "\n",
        "set.union(my_shopping_list, roommates_shopping_list, another_shopping_list)"
      ]
    },
    {
      "cell_type": "markdown",
      "metadata": {
        "id": "jeCys5I3qbDS"
      },
      "source": [
        "## Question 9"
      ]
    },
    {
      "cell_type": "markdown",
      "metadata": {
        "id": "9QzuLfwatHuW"
      },
      "source": [
        "You and your friend are taking part in an eating competition. You are trying to eat at as many local restaurants as you can. You are each storing the restaurants where you've eaten in a set.\n",
        "\n",
        "The two of you decide you want to see how many restaurants you have in common that you have both been to. Use iteration to write a function `number_in_common` that takes two restaurant sets and returns the number of restaurants common to both sets."
      ]
    },
    {
      "cell_type": "code",
      "execution_count": null,
      "metadata": {
        "id": "Xa7DMG4N2sZO"
      },
      "outputs": [],
      "source": [
        "def number_in_common(set1, set2):\n",
        "  \"\"\"Calculates the number of items in common between two sets.\"\"\"\n",
        "  # TODO(you): Implement\n",
        "  print(\"This function has not been implemented.\")"
      ]
    },
    {
      "cell_type": "markdown",
      "metadata": {
        "id": "YKyAWmdHq1pf"
      },
      "source": [
        "### Unit Tests\n",
        "\n",
        "Run the following cell to check your answer against some unit tests."
      ]
    },
    {
      "cell_type": "code",
      "execution_count": null,
      "metadata": {
        "id": "YLvH_0pk2pNL"
      },
      "outputs": [],
      "source": [
        "my_restaurants = {\n",
        "    \"Say Cheez\",\n",
        "    \"Lots o' Pasta\",\n",
        "    \"Curry in a Hurry\",\n",
        "}\n",
        "\n",
        "friends_restaurants = {\n",
        "    \"Curry in a Hurry\",\n",
        "    \"Steiner's Diner\",\n",
        "    \"Lots o' Pasta\",\n",
        "    \"Loxs of Bagels\",\n",
        "}\n",
        "\n",
        "number_in_common(my_restaurants, friends_restaurants)\n",
        "# Should print: 2"
      ]
    },
    {
      "cell_type": "markdown",
      "metadata": {
        "id": "vHpI7qIpsDzr"
      },
      "source": [
        "### Solution"
      ]
    },
    {
      "cell_type": "markdown",
      "metadata": {
        "id": "VQYBdoXRxbT4"
      },
      "source": [
        "As with previous methods, there is no need to worry about duplicates! We can just loop through each possible combination and increment by 1 if the pair is a match."
      ]
    },
    {
      "cell_type": "code",
      "execution_count": null,
      "metadata": {
        "id": "7kTU8tJ-3jgR"
      },
      "outputs": [],
      "source": [
        "def number_in_common(set1, set2):\n",
        "  \"\"\"Calculates the number of items in common between two sets.\"\"\"\n",
        "  output = 0\n",
        "\n",
        "  for i in set1:\n",
        "    for j in set2:\n",
        "      if i == j:\n",
        "        output += 1\n",
        "  \n",
        "  return output"
      ]
    },
    {
      "cell_type": "markdown",
      "metadata": {
        "id": "TSIijJMiqbrw"
      },
      "source": [
        "## Question 10"
      ]
    },
    {
      "cell_type": "markdown",
      "metadata": {
        "id": "WXKD2FzH1WV7"
      },
      "source": [
        "Another fundamental set operator, along with union, is `intersect`. The [intersection](https://en.wikipedia.org/wiki/Intersection_(set_theory)) of multiple sets returns one set with all the elements that are common to all of the sets."
      ]
    },
    {
      "cell_type": "markdown",
      "metadata": {
        "id": "XdnQlGJNypiu"
      },
      "source": [
        "The intersection of sets $A$ and $B$ is denoted by $A \\cap B$. For example, $\\{1, 2, 3\\} \\cap \\{2, 6, 5, 1\\} = \\{1, 2\\}$.\n",
        "\n",
        "Intersect has the same properties as set union; it is [associative](https://en.wikipedia.org/wiki/Associative_property) and can be applied to any number of sets.\n",
        "\n",
        "Whether you know it or not, you have already done most of the work you need in order to write an `intersect` function. Edit your function in (2) to return a set of the restaurants in common, instead of just counting the restaurants."
      ]
    },
    {
      "cell_type": "code",
      "execution_count": null,
      "metadata": {
        "id": "hhuCyGuu7k0z"
      },
      "outputs": [],
      "source": [
        "def intersect(set1, set2):\n",
        "  \"\"\"Return the set intersection of two sets.\"\"\"\n",
        "  # TODO(you): Implement\n",
        "  print(\"This function has not been implemented.\")"
      ]
    },
    {
      "cell_type": "markdown",
      "metadata": {
        "id": "5VfBRwPoq2jG"
      },
      "source": [
        "### Unit Tests\n",
        "\n",
        "Run the following cell to check your answer against some unit tests."
      ]
    },
    {
      "cell_type": "code",
      "execution_count": null,
      "metadata": {
        "id": "AC7KMjyl7cAw"
      },
      "outputs": [],
      "source": [
        "my_restaurants = {\n",
        "    \"Say Cheez\",\n",
        "    \"Lots o' Pasta\",\n",
        "    \"Curry in a Hurry\",\n",
        "}\n",
        "\n",
        "friends_restaurants = {\n",
        "    \"Curry in a Hurry\",\n",
        "    \"Steiner's Diner\",\n",
        "    \"Lots o' Pasta\",\n",
        "    \"Loxs of Bagels\",\n",
        "}\n",
        "\n",
        "intersection(my_restaurants, friends_restaurants)\n",
        "# Should print: {\"Lots o' Pasta\", \"Curry in a Hurry\"}"
      ]
    },
    {
      "cell_type": "markdown",
      "metadata": {
        "id": "Z5jpkrn2sE9J"
      },
      "source": [
        "### Solution"
      ]
    },
    {
      "cell_type": "markdown",
      "metadata": {
        "id": "iE-0dLLV0YB7"
      },
      "source": [
        "Instead of incrementing a count to indicate the number of elements the two sets have in common, we append to an `output` set."
      ]
    },
    {
      "cell_type": "code",
      "execution_count": null,
      "metadata": {
        "id": "AcH1ErxJ72D0"
      },
      "outputs": [],
      "source": [
        "def intersection(set1, set2):\n",
        "  \"\"\"Return the set intersection of two sets.\"\"\"\n",
        "  output = set()\n",
        "\n",
        "  for i in set1:\n",
        "    for j in set2:\n",
        "      if i == j:\n",
        "        output.add(i)\n",
        "\n",
        "  return output"
      ]
    },
    {
      "cell_type": "markdown",
      "metadata": {
        "id": "5atoF0uK9_M7"
      },
      "source": [
        "Similar to `union`, Python has an `intersection` method. This also works for any number of sets."
      ]
    },
    {
      "cell_type": "code",
      "execution_count": null,
      "metadata": {
        "id": "w20gC6-x-GIk"
      },
      "outputs": [],
      "source": [
        "my_restaurants = {\n",
        "    \"Say Cheez\",\n",
        "    \"Lots o' Pasta\",\n",
        "    \"Curry in a Hurry\",\n",
        "}\n",
        "\n",
        "friends_restaurants = {\n",
        "    \"Curry in a Hurry\",\n",
        "    \"Steiner's Diner\",\n",
        "    \"Lots o' Pasta\",\n",
        "    \"Loxs of Bagels\",\n",
        "}\n",
        "\n",
        "set.intersection(my_restaurants, friends_restaurants)"
      ]
    },
    {
      "cell_type": "code",
      "execution_count": null,
      "metadata": {
        "id": "0yZw1KbNBCCH"
      },
      "outputs": [],
      "source": [
        "more_restaurants = {\n",
        "    \"Joey's Hoagies\",\n",
        "    \"Curry in a Hurry\",\n",
        "    \"Sherry's Deli\",\n",
        "    \"Steiner's Diner\",\n",
        "    \"Lots and LOTS o' Pasta\",\n",
        "}\n",
        "\n",
        "set.intersection(my_restaurants, friends_restaurants, more_restaurants)"
      ]
    },
    {
      "cell_type": "markdown",
      "metadata": {
        "id": "bCgH9gbnEJHy"
      },
      "source": [
        "The `number_in_common` function we wrote in an earlier exercise can be simplified using the `len` and `intersection` functions. Calculating the `len` of the `intersection` of multiple sets is equivalent to calculating the number of elements in common."
      ]
    },
    {
      "cell_type": "code",
      "execution_count": null,
      "metadata": {
        "id": "KuDhr0DjEaS-"
      },
      "outputs": [],
      "source": [
        "print(len(set.intersection(my_restaurants, friends_restaurants)))\n",
        "print(len(set.intersection(\n",
        "    my_restaurants, friends_restaurants, more_restaurants)))"
      ]
    },
    {
      "cell_type": "markdown",
      "metadata": {
        "id": "dflbxwGMqcSo"
      },
      "source": [
        "## Question 11"
      ]
    },
    {
      "cell_type": "markdown",
      "metadata": {
        "id": "sEC_eDYi1pFS"
      },
      "source": [
        "The last core set operation is the [set difference](https://en.wikipedia.org/wiki/Complement_(set_theory)), also known as the complement. This can be used to see which elements in a set are *not* in another set."
      ]
    },
    {
      "cell_type": "markdown",
      "metadata": {
        "id": "Et15QIBX4r-H"
      },
      "source": [
        "The set difference between $A$ and $B$ is denoted by $A \\backslash B$. For example, $\\{1, 2, 3\\} \\backslash \\{2, 6, 5, 1\\} = \\{3\\}$. Unlike union and intersection, set difference is not reciprocal. That is, $A \\backslash B$ is not necessarily the same as $B \\backslash A$. In this case, $B \\backslash A = \\{6, 5\\}$.\n",
        "\n",
        "We can use set difference to see which restaurants you visited that your friend did not, and which restaurants your friend visited that you did not.\n",
        "\n",
        "Write a function called `difference` that takes two restaurant lists and returns the set difference. Remember you can use any previously mentioned methods and functions. (However, for now do not use the built-in Python functionalities that were mentioned only in solutions.)"
      ]
    },
    {
      "cell_type": "code",
      "execution_count": null,
      "metadata": {
        "id": "GfuUb9vUFPds"
      },
      "outputs": [],
      "source": [
        "def difference(set1, set2):\n",
        "  \"\"\"Calculate the set difference set1 \\ set2.\"\"\"\n",
        "  # TODO(you): Implement\n",
        "  print(\"This function has not been implemented.\")"
      ]
    },
    {
      "cell_type": "markdown",
      "metadata": {
        "id": "8CkVeq1Wq4mB"
      },
      "source": [
        "### Unit Tests\n",
        "\n",
        "Run the following cell to check your answer against some unit tests."
      ]
    },
    {
      "cell_type": "code",
      "execution_count": null,
      "metadata": {
        "id": "gu-R_bJyFHEj"
      },
      "outputs": [],
      "source": [
        "my_restaurants = {\n",
        "    \"Say Cheez\",\n",
        "    \"Lots o' Pasta\",\n",
        "    \"Curry in a Hurry\",\n",
        "}\n",
        "\n",
        "friends_restaurants = {\n",
        "    \"Curry in a Hurry\",\n",
        "    \"Steiner's Diner\",\n",
        "    \"Lots o' Pasta\",\n",
        "    \"Loxs of Bagels\",\n",
        "}\n",
        "\n",
        "print(difference(my_restaurants, friends_restaurants))\n",
        "# Should print: {\"Say Cheez\"}\n",
        "print(difference(friends_restaurants, my_restaurants))\n",
        "# Should print: {\"Steiner's Diner\", \"Loxs of Bagels\"}"
      ]
    },
    {
      "cell_type": "markdown",
      "metadata": {
        "id": "Kdj_HmUJsGI9"
      },
      "source": [
        "### Solution"
      ]
    },
    {
      "cell_type": "markdown",
      "metadata": {
        "id": "rv5daAxQ5_o2"
      },
      "source": [
        "This function can be written with the `remove` method. We need to remove all the elements in the second list from the first list, if they exist. Remember we should make a `copy` of `set1` before tampering with it, so we don't mess with the original."
      ]
    },
    {
      "cell_type": "code",
      "execution_count": null,
      "metadata": {
        "id": "2DB2ULJbFnOG"
      },
      "outputs": [],
      "source": [
        "def difference(set1, set2):\n",
        "  \"\"\"Calculate the set difference between set1 and set2.\"\"\"\n",
        "  output = set1.copy()\n",
        "\n",
        "  for i in set2:\n",
        "    if i in set1:\n",
        "      output.remove(i)\n",
        "  \n",
        "  return output"
      ]
    },
    {
      "cell_type": "markdown",
      "metadata": {
        "id": "SAM-IzekCKn1"
      },
      "source": [
        "Again, this step can be done using the built-in method `difference`."
      ]
    },
    {
      "cell_type": "code",
      "execution_count": null,
      "metadata": {
        "id": "eDUsRCIxCMuD"
      },
      "outputs": [],
      "source": [
        "my_restaurants = {\n",
        "    \"Say Cheez\",\n",
        "    \"Lots o' Pasta\",\n",
        "    \"Curry in a Hurry\",\n",
        "}\n",
        "\n",
        "friends_restaurants = {\n",
        "    \"Curry in a Hurry\",\n",
        "    \"Steiner's Diner\",\n",
        "    \"Lots o' Pasta\",\n",
        "    \"Loxs of Bagels\",\n",
        "}\n",
        "\n",
        "print(my_restaurants.difference(friends_restaurants))\n",
        "print(friends_restaurants.difference(my_restaurants))"
      ]
    },
    {
      "cell_type": "markdown",
      "metadata": {
        "id": "_c2qQ6AJqfwO"
      },
      "source": [
        "## Question 12"
      ]
    },
    {
      "cell_type": "markdown",
      "metadata": {
        "id": "it40CqT6QCKK"
      },
      "source": [
        "Your friend's method is checking whether `s` is a superset of `t`, but their code seems to be having some unexpected results. Can you find and fix the problems?"
      ]
    },
    {
      "cell_type": "markdown",
      "metadata": {
        "id": "oEd6i80l1fAK"
      },
      "source": [
        "Your friend is taking a computer science course at school. They are trying to write a method that checks whether a given set is a [subset](https://en.wikipedia.org/wiki/Subset) of another set. They explain to you that $A$ is a subset of $B$, denoted $A \\subset B$ if all the elements of $A$ are elements of $B$. If $A$ is a subset of $B$, then $B$ is a *superset* of $A$, denoted $B \\supset A$."
      ]
    },
    {
      "cell_type": "code",
      "execution_count": null,
      "metadata": {
        "id": "WC1XTIYbIEuE"
      },
      "outputs": [],
      "source": [
        "def is_subset(s, t):\n",
        "  \"\"\"Returns True if s is a subset of t.\"\"\"\n",
        "  for i in s:\n",
        "    # Check if the element is also an element of t.\n",
        "    if i in t:\n",
        "      return True\n",
        "  return False"
      ]
    },
    {
      "cell_type": "markdown",
      "metadata": {
        "id": "HVU6lwVWIcLW"
      },
      "source": [
        "Your friend finds that the test compiles and runs, but the test returns `True` in cases where it should not."
      ]
    },
    {
      "cell_type": "markdown",
      "metadata": {
        "id": "8A9WZncisnxF"
      },
      "source": [
        "### Solution"
      ]
    },
    {
      "cell_type": "markdown",
      "metadata": {
        "id": "bm-hpv9L3b3C"
      },
      "source": [
        "The problem with this method is that it returns too soon. As soon as it finds a single element of `s` that is also in `t`, it returns `True`, without looking at the other elements.\n",
        "\n",
        "To fix this, instead of returning `True` as soon as we find an element of `s` in `t`, let's return `False` as soon as we find an element of `s` that is not in `t`. When we see this, we know `s` cannot be a subset of `t`. Once we have looped through all elements, if we haven't returned `False`, we can return `True`."
      ]
    },
    {
      "cell_type": "code",
      "execution_count": null,
      "metadata": {
        "id": "tkjroY91Iy-i"
      },
      "outputs": [],
      "source": [
        "def is_subset(s, t):\n",
        "  \"\"\"Returns True if s is a subset of t.\"\"\"\n",
        "  for i in s:\n",
        "    # Check if the element is not in t.\n",
        "    if i not in t:\n",
        "      return False\n",
        "  return True"
      ]
    },
    {
      "cell_type": "markdown",
      "metadata": {
        "id": "QRbMJTNJI5-M"
      },
      "source": [
        "Again and as usual, Python provides us with a built-in way to check if `s` is a subset of `t`. We can just use `s.issubset(t)`."
      ]
    },
    {
      "cell_type": "markdown",
      "metadata": {
        "id": "wH_9709IqgZD"
      },
      "source": [
        "## Question 13"
      ]
    },
    {
      "cell_type": "markdown",
      "metadata": {
        "id": "aaGTgunb14te"
      },
      "source": [
        "Your friend is now covering a new concept: [mutual exclusivity](https://en.wikipedia.org/wiki/Mutual_exclusivity). Two sets are mutually exclusive, also called disjoint, if they have no elements in common.\n",
        "\n",
        "Your friend is writing a function `is_disjoint` to check whether two sets of integers are disjoint. "
      ]
    },
    {
      "cell_type": "markdown",
      "metadata": {
        "id": "DXljFmKh-AC3"
      },
      "source": [
        "Their code is below, but it always returns `False`:"
      ]
    },
    {
      "cell_type": "code",
      "execution_count": null,
      "metadata": {
        "id": "Ti9VVnqSJS0f"
      },
      "outputs": [],
      "source": [
        "def is_disjoint(s, t):\n",
        "  \"\"\"Returns True if s and t are disjoint (mutually exclusive).\"\"\"\n",
        "  for i in s:\n",
        "    if i in s:\n",
        "      return False\n",
        "  return True"
      ]
    },
    {
      "cell_type": "markdown",
      "metadata": {
        "id": "Tjco2u3jsrMD"
      },
      "source": [
        "### Solution"
      ]
    },
    {
      "cell_type": "markdown",
      "metadata": {
        "id": "E_7lGt3v_vCf"
      },
      "source": [
        "This mistake is likely just a typo. Instead of `if i in s` the second time, you need to check `if i in t`."
      ]
    },
    {
      "cell_type": "code",
      "execution_count": null,
      "metadata": {
        "id": "bGdBo3sJJx9P"
      },
      "outputs": [],
      "source": [
        "def is_disjoint(s, t):\n",
        "  \"\"\"Returns True if s and t are disjoint (mutually exclusive).\"\"\"\n",
        "  for i in s:\n",
        "    if i in t:\n",
        "      return False\n",
        "  return True"
      ]
    },
    {
      "cell_type": "markdown",
      "metadata": {
        "id": "6QQiBSe3J4QY"
      },
      "source": [
        "This fix can also be made using the built-in Python method `s.isdisjoint(t)`."
      ]
    },
    {
      "cell_type": "markdown",
      "metadata": {
        "id": "Xo37eN-oqhER"
      },
      "source": [
        "## Question 14"
      ]
    },
    {
      "cell_type": "markdown",
      "metadata": {
        "id": "KjJiMHFlByUq"
      },
      "source": [
        "Can you think of a way to write `is_disjoint` that does not involve any loops (or any special built-in Python functionality), and instead uses code from this lesson?"
      ]
    },
    {
      "cell_type": "code",
      "execution_count": null,
      "metadata": {
        "id": "xgCAW-6vXd-U"
      },
      "outputs": [],
      "source": [
        "def is_disjoint(s, t):\n",
        "  \"\"\"Returns True if s and t are disjoint (mutually exclusive).\"\"\"\n",
        "  # TODO(you): Implement"
      ]
    },
    {
      "cell_type": "markdown",
      "metadata": {
        "id": "wTG4o4cMssGB"
      },
      "source": [
        "### Solution"
      ]
    },
    {
      "cell_type": "markdown",
      "metadata": {
        "id": "s6S3RESzB75O"
      },
      "source": [
        "Of course we can! Two sets are disjoint if they have no elements in common."
      ]
    },
    {
      "cell_type": "code",
      "execution_count": null,
      "metadata": {
        "id": "zH5fLWpYKS75"
      },
      "outputs": [],
      "source": [
        "def is_disjoint(s, t):\n",
        "  return len(set.intersection(s, t)) == 0"
      ]
    }
  ],
  "metadata": {
    "colab": {
      "collapsed_sections": [
        "XmbOeqf3KneX",
        "WqJie94YLP_3",
        "zTRMoLw-L9w7",
        "GTMm9T0XMhTy",
        "NgPeKh6Io4y1",
        "ywY7i8mwo0rE",
        "3A8SXCOQpPIE",
        "Zdm6Yc4apLK1",
        "4YwKxUR6p3Jw",
        "fs76J4rapyeS",
        "SSDWg8RIqJMd",
        "BAxWhGhmsBOA",
        "YKyAWmdHq1pf",
        "vHpI7qIpsDzr",
        "5VfBRwPoq2jG",
        "Z5jpkrn2sE9J",
        "8CkVeq1Wq4mB",
        "Kdj_HmUJsGI9",
        "8A9WZncisnxF",
        "Tjco2u3jsrMD",
        "wTG4o4cMssGB"
      ],
      "name": "sets.ipynb",
      "provenance": [ ]
    },
    "kernelspec": {
      "display_name": "Python 3",
      "name": "python3"
    }
  },
  "nbformat": 4,
  "nbformat_minor": 0
}
