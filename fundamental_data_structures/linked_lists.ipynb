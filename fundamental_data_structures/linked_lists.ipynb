{
  "cells": [
    {
      "cell_type": "markdown",
      "metadata": {
        "id": "kKR1PJ6JANtj"
      },
      "source": [
        "# Linked Lists"
      ]
    },
    {
      "cell_type": "markdown",
      "metadata": {
        "id": "syc7KI3rJqG1"
      },
      "source": [
        "## Lesson Overview"
      ]
    },
    {
      "cell_type": "markdown",
      "metadata": {
        "id": "qTdohVMJBCjD"
      },
      "source": [
        "In an earlier lesson, you were introduced to arrays. In an array:\n",
        "\n",
        "- Each element's place is defined by a location in memory.\n",
        "- The computer needs to store not only the *value* of each element, but the *ordering* of the locations in memory.\n"
      ]
    },
    {
      "cell_type": "markdown",
      "metadata": {
        "id": "-2VFoZCZH0_9"
      },
      "source": [
        "While an array's structure and ordering makes accessing elements simple, it makes some basic operations (like inserting and removing elements) non-trivial and inefficient. In fact, there is a particular data structure that is especially good at inserting and removing new elements efficiently, called a **linked list**."
      ]
    },
    {
      "cell_type": "markdown",
      "metadata": {
        "id": "NQuP5zkKH5o4"
      },
      "source": [
        "### Definition"
      ]
    },
    {
      "cell_type": "markdown",
      "metadata": {
        "id": "JUR27DQrsQRh"
      },
      "source": [
        "\u003e A **linked list** is a collection of elements in which each element (except the last) points to the next element."
      ]
    },
    {
      "cell_type": "markdown",
      "metadata": {
        "id": "6cbiaVJmH-nW"
      },
      "source": [
        "You can think of a linked list as a chain of people, where each person (except the very last person in the chain) is holding the hand of the next person."
      ]
    },
    {
      "cell_type": "markdown",
      "metadata": {
        "id": "AT1KfdS0IBFq"
      },
      "source": [
        "### Implementation"
      ]
    },
    {
      "cell_type": "markdown",
      "metadata": {
        "id": "as8wSn2vc2cH"
      },
      "source": [
        "A linked list can be implemented with a class, as follows."
      ]
    },
    {
      "cell_type": "code",
      "execution_count": null,
      "metadata": {
        "id": "-EAkbR1akdKS"
      },
      "outputs": [],
      "source": [
        "#persistent\n",
        "class LinkedListElement:\n",
        "\n",
        "  def __init__(self, value):\n",
        "    self.value = value\n",
        "    self.next = None"
      ]
    },
    {
      "cell_type": "code",
      "execution_count": null,
      "metadata": {
        "id": "3beYUc4MvY3D"
      },
      "outputs": [],
      "source": [
        "class LinkedList:\n",
        "\n",
        "  def __init__(self):\n",
        "    self.first = None"
      ]
    },
    {
      "cell_type": "code",
      "execution_count": null,
      "metadata": {
        "id": "ro0j5R5WkiEk"
      },
      "outputs": [],
      "source": [
        "my_linked_list = LinkedList()\n",
        "\n",
        "my_linked_list.first = LinkedListElement(2)\n",
        "print('The first value in the linked list is %d.' % my_linked_list.first.value)\n",
        "\n",
        "my_linked_list.first.next = LinkedListElement(3)\n",
        "print('The next value in the linked list is %d.' %\n",
        "      my_linked_list.first.next.value)"
      ]
    },
    {
      "cell_type": "markdown",
      "metadata": {
        "id": "HLjIBoFLnRZ1"
      },
      "source": [
        "## Question 1"
      ]
    },
    {
      "cell_type": "markdown",
      "metadata": {
        "id": "U83MZG4SnTek"
      },
      "source": [
        "Which *one* of the following best defines a linked list?"
      ]
    },
    {
      "cell_type": "markdown",
      "metadata": {
        "id": "zEKrfOo3ES0l"
      },
      "source": [
        "* A collection of elements in which each element (except the first) points to the previous element\n",
        "  * Incorrect - The elements in a linked list point to the *next* element, not the previous.\n",
        "* A collection of elements in which each element (except the last) points to the next element\n",
        "  * Correct\n",
        "* A collection of elements in which each element (except the first and last) points to the previous and next element\n",
        "  * Incorrect - This defines another data structure called a *doubly linked list*.\n",
        "* A collection of elements in which each element is referenced only by memory, not by value\n",
        "  * Incorrect - This is to some extent true, but is a *consequence* of a linked list, not the definition. Another definition better defines a linked list."
      ]
    },
    {
      "cell_type": "markdown",
      "metadata": {
        "id": "09TrNuHfETiO"
      },
      "source": [
        "### Solution"
      ]
    },
    {
      "cell_type": "markdown",
      "metadata": {
        "id": "TVgVGe85EVXx"
      },
      "source": [
        "The correct answer is **b)**.\n",
        "\n",
        "**a)** The elements in a linked list point to the *next* element, not the previous.\n",
        "\n",
        "**c)** This defines another data structure called a *doubly linked list*.\n",
        "\n",
        "**d)** This is to some extent true, but is a *consequence* of a linked list, not the definition. Another definition better defines a linked list."
      ]
    },
    {
      "cell_type": "markdown",
      "metadata": {
        "id": "5KzwrQizMtRH"
      },
      "source": [
        "## Question 2"
      ]
    },
    {
      "cell_type": "markdown",
      "metadata": {
        "id": "xgFeUCSuI28-"
      },
      "source": [
        "Consider the following linked list implementation."
      ]
    },
    {
      "cell_type": "markdown",
      "metadata": {
        "id": "U53_j79vjnYW"
      },
      "source": [
        "```python\n",
        "class LinkedListElement:\n",
        "\n",
        "  def __init__(self, value):\n",
        "    self.value = value\n",
        "    self.next = None\n",
        "\n",
        "\n",
        "class LinkedList:\n",
        "\n",
        "  def __init__(self):\n",
        "    self.first = None\n",
        "```"
      ]
    },
    {
      "cell_type": "markdown",
      "metadata": {
        "id": "gIj7odJSMu7C"
      },
      "source": [
        "Suppose that `linked_list` is an instance of the `LinkedList` class. Which of the following loop structures allows you to iterate over the elements of `linked_list` without throwing an error? There may be more than one correct response.\n",
        "\n",
        "**a)**\n",
        "```python\n",
        "for el in linked_list:\n",
        "  # ...\n",
        "```\n",
        "\n",
        "**b)**\n",
        "\n",
        "```python\n",
        "for el in linked_list:\n",
        "  if el is not None:\n",
        "    # ...\n",
        "```\n",
        "\n",
        "**c)**\n",
        "```python\n",
        "el = linked_list.first\n",
        "while el.next is not None:\n",
        "  # ...\n",
        "  el = el.next\n",
        "```\n",
        "\n",
        "**d)**\n",
        "```python\n",
        "el = linked_list.first\n",
        "while el is not None:\n",
        "  # ...\n",
        "  el = el.next\n",
        "```"
      ]
    },
    {
      "cell_type": "markdown",
      "metadata": {
        "id": "uxbaPC-YF4A-"
      },
      "source": [
        "### Solution"
      ]
    },
    {
      "cell_type": "markdown",
      "metadata": {
        "id": "kTRWHiQiF4_M"
      },
      "source": [
        "The correct answer is **d)**.\n",
        "\n",
        "**a)** The `LinkedList` class has no in-built iteration, so `for el in linked_list` will raise an error.\n",
        "\n",
        "**b)** The `LinkedList` class has no in-built iteration, so `for el in linked_list` will raise an error.\n",
        "\n",
        "**c)** Almost, but this implementation ignores the possibility that `linked_list.first` could be `None`."
      ]
    },
    {
      "cell_type": "markdown",
      "metadata": {
        "id": "8hLBOFvPLWHn"
      },
      "source": [
        "## Question 3"
      ]
    },
    {
      "cell_type": "markdown",
      "metadata": {
        "id": "92GXgUSeLXjq"
      },
      "source": [
        "Which of the following array operations can you also do with a linked list (though not necessarily with the same syntax)? There may be more than one correct response."
      ]
    },
    {
      "cell_type": "markdown",
      "metadata": {
        "id": "VLRkPvyLHHp3"
      },
      "source": [
        "**a)** Calculate the length\n",
        "\n",
        "**b)** Access an element by index\n",
        "\n",
        "**c)** Iterate over elements in a loop\n",
        "\n",
        "**d)** Access a slice (or subset) by indices\n",
        "\n",
        "**e)** Store any data type\n",
        "\n",
        "**f)** Append a new element"
      ]
    },
    {
      "cell_type": "markdown",
      "metadata": {
        "id": "ScSfn3YbHcNp"
      },
      "source": [
        "### Solution"
      ]
    },
    {
      "cell_type": "markdown",
      "metadata": {
        "id": "cyxa2FYTHc8L"
      },
      "source": [
        "The correct answers are **a)**, **c)**, **e)**, and **f)**.\n",
        "\n",
        "**b)** Elements in a linked list do not have an associated index.\n",
        "\n",
        "**d)** Elements in a linked list do not have an associated index."
      ]
    },
    {
      "cell_type": "markdown",
      "metadata": {
        "id": "jNhqrFob5MYs"
      },
      "source": [
        "## Question 4"
      ]
    },
    {
      "cell_type": "markdown",
      "metadata": {
        "id": "0Ci_aLWyJqPi"
      },
      "source": [
        "In which of the following use cases would a linked list be more appropriate than an array? There may be more than one correct response."
      ]
    },
    {
      "cell_type": "markdown",
      "metadata": {
        "id": "syXpt5oLIIk9"
      },
      "source": [
        "**a)** Inserting an element in the middle of the data structure\n",
        "\n",
        "**b)** Removing an element from the middle of the data structure\n",
        "\n",
        "**c)** Accessing an element from the middle of the data structure\n",
        "\n",
        "**d)** Storing a \"queue\" data structure whereby elements that join the queue most recently have to wait the longest before leaving the queue"
      ]
    },
    {
      "cell_type": "markdown",
      "metadata": {
        "id": "vJMvKQ2LIHtQ"
      },
      "source": [
        "### Solution"
      ]
    },
    {
      "cell_type": "markdown",
      "metadata": {
        "id": "yP2HMJtbIT5S"
      },
      "source": [
        "The correct answers are **a)**, **b)**, and **d)**.\n",
        "\n",
        "**c)** In an array, elements can be accessed by index, whereas in a linked list, elements must be accessed by iterating through each element."
      ]
    },
    {
      "cell_type": "markdown",
      "metadata": {
        "id": "LFcWaAo14l0l"
      },
      "source": [
        "## Question 5"
      ]
    },
    {
      "cell_type": "markdown",
      "metadata": {
        "id": "Gir-OfNkNG5o"
      },
      "source": [
        "Write a method to print the values of an entire linked list, separated by commas."
      ]
    },
    {
      "cell_type": "code",
      "execution_count": null,
      "metadata": {
        "id": "U5nTFpgRNiAV"
      },
      "outputs": [],
      "source": [
        "class LinkedListElement:\n",
        "\n",
        "  def __init__(self, value):\n",
        "    self.value = value\n",
        "    self.next = None\n",
        "\n",
        "\n",
        "class LinkedList:\n",
        "\n",
        "  def __init__(self):\n",
        "    self.first = None\n",
        "\n",
        "  def print(self):\n",
        "    # TODO(you): Implement\n",
        "    print(\"This method has not been implemented.\")"
      ]
    },
    {
      "cell_type": "markdown",
      "metadata": {
        "id": "Wk0nsq726CXo"
      },
      "source": [
        "For example, if you have the following linked list:\n",
        "\n",
        "```python \n",
        "my_linked_list = LinkedList()\n",
        "my_linked_list.first = LinkedListElement(2)\n",
        "my_linked_list.first.next = LinkedListElement(3)\n",
        "my_linked_list.first.next.next = LinkedListElement(5)\n",
        "```"
      ]
    },
    {
      "cell_type": "markdown",
      "metadata": {
        "id": "XZchAS366HAw"
      },
      "source": [
        "`my_linked_list.print()` should print `2, 3, 5,`. (For the purposes of this exercise, keep the trailing comma at the end of the last element being printed.)"
      ]
    },
    {
      "cell_type": "markdown",
      "metadata": {
        "id": "xgI9FGnx5tVb"
      },
      "source": [
        "### Unit Tests\n",
        "\n",
        "Run the following cell to check your answer against some unit tests."
      ]
    },
    {
      "cell_type": "code",
      "execution_count": null,
      "metadata": {
        "id": "XXymvJTSNfAf"
      },
      "outputs": [],
      "source": [
        "my_linked_list = LinkedList()\n",
        "my_linked_list.first = LinkedListElement(2)\n",
        "my_linked_list.first.next = LinkedListElement(3)\n",
        "my_linked_list.first.next.next = LinkedListElement(5)\n",
        "\n",
        "my_linked_list.print()\n",
        "# Should print: 2, 3, 5,"
      ]
    },
    {
      "cell_type": "markdown",
      "metadata": {
        "id": "U34hQGB97HWZ"
      },
      "source": [
        "### Solution"
      ]
    },
    {
      "cell_type": "markdown",
      "metadata": {
        "id": "oil7Qd-UN0ja"
      },
      "source": [
        "The linked list must be iterated over, but it does not have indices like an array does. Therefore, we need to iterate over it element by element, each time looking for the `next` element. As soon as we find a `None` element, we stop printing."
      ]
    },
    {
      "cell_type": "code",
      "execution_count": null,
      "metadata": {
        "id": "SlXIHWehN1Xh"
      },
      "outputs": [],
      "source": [
        "class LinkedListElement:\n",
        "\n",
        "  def __init__(self, value):\n",
        "    self.value = value\n",
        "    self.next = None\n",
        "\n",
        "\n",
        "class LinkedList:\n",
        "\n",
        "  def __init__(self):\n",
        "    self.first = None\n",
        "\n",
        "  def print(self):\n",
        "    elem = self.first\n",
        "    while elem is not None:\n",
        "      print(elem.value, end =\", \")\n",
        "      elem = elem.next"
      ]
    },
    {
      "cell_type": "markdown",
      "metadata": {
        "id": "6c_MfMAt4npw"
      },
      "source": [
        "## Question 6"
      ]
    },
    {
      "cell_type": "markdown",
      "metadata": {
        "id": "bWgbDngebWS3"
      },
      "source": [
        "Sometimes it's useful to be able to access a linked list by some index value, so that you can get some element."
      ]
    },
    {
      "cell_type": "markdown",
      "metadata": {
        "id": "D29eMwNGJnna"
      },
      "source": [
        "Write a method to return the $n^{\\textrm{th}}$ element of a linked list. If there is no $n^{\\textrm{th}}$ element, raise a `ValueError`."
      ]
    },
    {
      "cell_type": "code",
      "execution_count": null,
      "metadata": {
        "id": "HDY9c_zTKGZb"
      },
      "outputs": [],
      "source": [
        "class LinkedListElement:\n",
        "\n",
        "  def __init__(self, value):\n",
        "    self.value = value\n",
        "    self.next = None\n",
        "\n",
        "\n",
        "class LinkedList:\n",
        "\n",
        "  def __init__(self):\n",
        "    self.first = None\n",
        "\n",
        "  def print(self):\n",
        "    elem = self.first\n",
        "    while elem is not None:\n",
        "      print(elem.value, end =\", \")\n",
        "      elem = elem.next\n",
        "\n",
        "  def get(self, n):\n",
        "    # TODO(you): Implement\n",
        "    print(\"This method has not been implemented.\")"
      ]
    },
    {
      "cell_type": "markdown",
      "metadata": {
        "id": "ji7yfNtv7PKV"
      },
      "source": [
        "### Unit Tests\n",
        "\n",
        "Run the following cell to check your answer against some unit tests."
      ]
    },
    {
      "cell_type": "code",
      "execution_count": null,
      "metadata": {
        "id": "rjDU_w2lLRjb"
      },
      "outputs": [],
      "source": [
        "my_linked_list = LinkedList()\n",
        "my_linked_list.first = LinkedListElement(2)\n",
        "my_linked_list.first.next = LinkedListElement(3)\n",
        "\n",
        "print(my_linked_list.get(0).value)\n",
        "# Should print: 2\n",
        "\n",
        "print(my_linked_list.get(1).value)\n",
        "# Should print: 3\n",
        "\n",
        "print(my_linked_list.get(2).value)\n",
        "# Should raise: ValueError"
      ]
    },
    {
      "cell_type": "markdown",
      "metadata": {
        "id": "gEgJbQSi7amP"
      },
      "source": [
        "### Solution"
      ]
    },
    {
      "cell_type": "markdown",
      "metadata": {
        "id": "O-Q1ARwrKR2T"
      },
      "source": [
        "We iterate until the $n^{\\textrm{th}}$ element, then we return the corresponding value. If we hit a `None` element, we exit the loop and raise a `ValueError`."
      ]
    },
    {
      "cell_type": "code",
      "execution_count": null,
      "metadata": {
        "id": "lMTPdcvVKUxD"
      },
      "outputs": [],
      "source": [
        "class LinkedListElement:\n",
        "\n",
        "  def __init__(self, value):\n",
        "    self.value = value\n",
        "    self.next = None\n",
        "\n",
        "\n",
        "class LinkedList:\n",
        "\n",
        "  def __init__(self):\n",
        "    self.first = None\n",
        "\n",
        "  def print(self):\n",
        "    elem = self.first\n",
        "    while elem is not None:\n",
        "      print(elem.value, end =\", \")\n",
        "      elem = elem.next\n",
        "\n",
        "  def get(self, n):\n",
        "    counter = 0\n",
        "    elem = self.first\n",
        "    while counter \u003c n:\n",
        "      # If a None type is hit, raise a ValueError.\n",
        "      if elem is None:\n",
        "        raise ValueError(\"Element does not exist at provided index.\")\n",
        "      counter += 1\n",
        "      elem = elem.next\n",
        "    return elem"
      ]
    },
    {
      "cell_type": "markdown",
      "metadata": {
        "id": "70lZEuii5m9k"
      },
      "source": [
        "## Question 7"
      ]
    },
    {
      "cell_type": "markdown",
      "metadata": {
        "id": "Ye95sLMOblc3"
      },
      "source": [
        "Write a method to insert a new `LinkedListElement` into a `LinkedList`. The method should accept the new element as well as the place to insert it."
      ]
    },
    {
      "cell_type": "markdown",
      "metadata": {
        "id": "HW4u_LOUMH9i"
      },
      "source": [
        "Linked lists are especially good for inserting (and removing) elements. This is because we need only modify two pointers, namely the `next` attributes of the preceding element and the inserted element itself. This is different from arrays where we must modify the indices for *all* elements after the inserted element.\n",
        "\n",
        "For your method:\n",
        "\n",
        "- If `position=0`, the new element should be the new head of the linked list.\n",
        "- If `position=n`, the new element should be inserted between the $(n-1)^{\\textrm{th}}$ and $n^{\\textrm{th}}$ elements.\n",
        "\n",
        "Do *not* account for the case where the position is greater than the length of the linked list. Instead, let Python raise an error."
      ]
    },
    {
      "cell_type": "code",
      "execution_count": null,
      "metadata": {
        "id": "6WpeZgjeM7QN"
      },
      "outputs": [],
      "source": [
        "class LinkedListElement:\n",
        "\n",
        "  def __init__(self, value):\n",
        "    self.value = value\n",
        "    self.next = None\n",
        "\n",
        "\n",
        "class LinkedList:\n",
        "\n",
        "  def __init__(self):\n",
        "    self.first = None\n",
        "\n",
        "  def print(self):\n",
        "    elem = self.first\n",
        "    while elem is not None:\n",
        "      print(elem.value, end =\", \")\n",
        "      elem = elem.next\n",
        "\n",
        "  def get(self, n):\n",
        "    counter = 0\n",
        "    elem = self.first\n",
        "    while counter \u003c n:\n",
        "      # If a None type is hit, raise a ValueError.\n",
        "      if elem is None:\n",
        "        raise ValueError(\"Element does not exist at provided index.\")\n",
        "      counter += 1\n",
        "      elem = elem.next\n",
        "    return elem\n",
        "\n",
        "  def insert(self, new, position):\n",
        "    # TODO(you): Implement\n",
        "    print(\"This method has not been implemented.\")"
      ]
    },
    {
      "cell_type": "markdown",
      "metadata": {
        "id": "G0_NZRof8ecy"
      },
      "source": [
        "### Unit Tests\n",
        "\n",
        "Run the following cell to check your answer against some unit tests."
      ]
    },
    {
      "cell_type": "code",
      "execution_count": null,
      "metadata": {
        "id": "NbaeuBWIT6pQ"
      },
      "outputs": [],
      "source": [
        "my_linked_list = LinkedList()\n",
        "\n",
        "my_linked_list.first = LinkedListElement(2)\n",
        "my_linked_list.first.next = LinkedListElement(3)\n",
        "my_linked_list.print()\n",
        "# Should print: 2, 3,\n",
        "\n",
        "print(\"\\n\")\n",
        "my_linked_list.insert(LinkedListElement(4), 1)\n",
        "my_linked_list.print()\n",
        "# Should print: 2, 4, 3,\n",
        "\n",
        "print(\"\\n\")\n",
        "my_linked_list.insert(LinkedListElement(5), 0)\n",
        "my_linked_list.print()\n",
        "# Should print: 5, 2, 4, 3,\n",
        "\n",
        "print(\"\\n\")\n",
        "my_linked_list.insert(LinkedListElement(6), 10)\n",
        "my_linked_list.print()\n",
        "# Should raise: ValueError"
      ]
    },
    {
      "cell_type": "markdown",
      "metadata": {
        "id": "UtwjqPen9Ev7"
      },
      "source": [
        "### Solution"
      ]
    },
    {
      "cell_type": "markdown",
      "metadata": {
        "id": "KteST5bMNaj2"
      },
      "source": [
        "The algorithm relies heavily on the `get` method. We use this to get the elements that we need to alter. The exact implementation varies based on whether we are inserting at the head of the linked list or otherwise."
      ]
    },
    {
      "cell_type": "code",
      "execution_count": null,
      "metadata": {
        "id": "q4hAs0TgNZ7o"
      },
      "outputs": [],
      "source": [
        "class LinkedListElement:\n",
        "\n",
        "  def __init__(self, value):\n",
        "    self.value = value\n",
        "    self.next = None\n",
        "\n",
        "\n",
        "class LinkedList:\n",
        "\n",
        "  def __init__(self):\n",
        "    self.first = None\n",
        "\n",
        "  def print(self):\n",
        "    elem = self.first  \n",
        "    while elem is not None:\n",
        "      print(elem.value, end =\", \")\n",
        "      elem = elem.next\n",
        "\n",
        "  def get(self, n):\n",
        "    counter = 0\n",
        "    elem = self.first\n",
        "    while counter \u003c n:\n",
        "      # If a None type is hit, raise a ValueError.\n",
        "      if elem is None:\n",
        "        raise ValueError(\"Element does not exist at provided index.\")\n",
        "      counter += 1\n",
        "      elem = elem.next\n",
        "    return elem\n",
        "\n",
        "  def insert(self, new, position):\n",
        "    elem = self.get(position)\n",
        "    new.next = elem\n",
        "    if position == 0:\n",
        "      self.first = new\n",
        "    else:\n",
        "      prev = self.get(position-1)\n",
        "      prev.next = new"
      ]
    },
    {
      "cell_type": "markdown",
      "metadata": {
        "id": "nNbWR0RV5ohk"
      },
      "source": [
        "## Question 8"
      ]
    },
    {
      "cell_type": "markdown",
      "metadata": {
        "id": "oTVE7bzYUNdO"
      },
      "source": [
        "Now that you can insert elements, try removing them! Write a method to remove an element from a linked list. The method should accept the position of the element to be removed.\n",
        "\n",
        "Do *not* account for the case where the position is greater than the length of the linked list. Instead, let Python raise an error."
      ]
    },
    {
      "cell_type": "code",
      "execution_count": null,
      "metadata": {
        "id": "8IIVGCNSUXpN"
      },
      "outputs": [],
      "source": [
        "class LinkedListElement:\n",
        "\n",
        "  def __init__(self, value):\n",
        "    self.value = value\n",
        "    self.next = None\n",
        "\n",
        "\n",
        "class LinkedList:\n",
        "\n",
        "  def __init__(self):\n",
        "    self.first = None\n",
        "\n",
        "  def print(self):\n",
        "    elem = self.first  \n",
        "    while elem is not None:\n",
        "      print(elem.value, end =\", \")\n",
        "      elem = elem.next\n",
        "\n",
        "  def get(self, n):\n",
        "    counter = 0\n",
        "    elem = self.first\n",
        "    while counter \u003c n:\n",
        "      # If a None type is hit, raise a ValueError.\n",
        "      if elem is None:\n",
        "        raise ValueError(\"Element does not exist at provided index.\")\n",
        "      counter += 1\n",
        "      elem = elem.next\n",
        "    return elem\n",
        "\n",
        "  def insert(self, new, position):\n",
        "    elem = self.get(position)\n",
        "    new.next = elem\n",
        "    if position == 0:\n",
        "      self.first = new\n",
        "    else:\n",
        "      prev = self.get(position-1)\n",
        "      prev.next = new\n",
        "\n",
        "  def remove(self, position):\n",
        "    # TODO(you): Implement\n",
        "    print(\"This method has not been implemented.\")"
      ]
    },
    {
      "cell_type": "markdown",
      "metadata": {
        "id": "hlXSnG5l94l_"
      },
      "source": [
        "### Unit Tests\n",
        "\n",
        "Run the following cell to check your answer against some unit tests."
      ]
    },
    {
      "cell_type": "code",
      "execution_count": null,
      "metadata": {
        "id": "YzCSlQdMbeKH"
      },
      "outputs": [],
      "source": [
        "my_linked_list = LinkedList()\n",
        "\n",
        "my_linked_list.insert(LinkedListElement(2), 0)\n",
        "my_linked_list.insert(LinkedListElement(3), 1)\n",
        "my_linked_list.insert(LinkedListElement(5), 2)\n",
        "my_linked_list.print()\n",
        "# Should print: 2, 3, 5,\n",
        "\n",
        "print(\"\\n\")\n",
        "my_linked_list.remove(1)\n",
        "my_linked_list.print()\n",
        "# Should print: 2, 5,\n",
        "\n",
        "print(\"\\n\")\n",
        "my_linked_list.remove(0)\n",
        "my_linked_list.print()\n",
        "# Should print: 5,\n",
        "\n",
        "print(\"\\n\")\n",
        "my_linked_list.remove(1)\n",
        "my_linked_list.print()\n",
        "# Should raise: ValueError"
      ]
    },
    {
      "cell_type": "markdown",
      "metadata": {
        "id": "NDEfbzcXKNkh"
      },
      "source": [
        "### Solution"
      ]
    },
    {
      "cell_type": "markdown",
      "metadata": {
        "id": "K4SvSK4FXy8F"
      },
      "source": [
        "We need to take the previous element, and point its `next` attribute to the `next` of the element we are replacing."
      ]
    },
    {
      "cell_type": "code",
      "execution_count": null,
      "metadata": {
        "id": "1IB9aQMSXzfJ"
      },
      "outputs": [],
      "source": [
        "class LinkedListElement:\n",
        "\n",
        "  def __init__(self, value):\n",
        "    self.value = value\n",
        "    self.next = None\n",
        "\n",
        "\n",
        "class LinkedList:\n",
        "\n",
        "  def __init__(self):\n",
        "    self.first = None\n",
        "\n",
        "  def print(self):\n",
        "    elem = self.first  \n",
        "    while elem is not None:\n",
        "      print(elem.value, end =\", \")\n",
        "      elem = elem.next\n",
        "\n",
        "  def get(self, n):\n",
        "    counter = 0\n",
        "    elem = self.first\n",
        "    while counter \u003c n:\n",
        "      # If a None type is hit, raise a ValueError.\n",
        "      if elem is None:\n",
        "        raise ValueError(\"Element does not exist at provided index.\")\n",
        "      counter += 1\n",
        "      elem = elem.next\n",
        "    return elem\n",
        "\n",
        "  def insert(self, new, position):\n",
        "    elem = self.get(position)\n",
        "    new.next = elem\n",
        "    if position == 0:\n",
        "      self.first = new\n",
        "    else:\n",
        "      prev = self.get(position - 1)\n",
        "      prev.next = new\n",
        "\n",
        "  def remove(self, position):\n",
        "    if position == 0:\n",
        "      self.first = self.first.next\n",
        "    else:\n",
        "      prev = self.get(position - 1)\n",
        "      prev.next = self.get(position).next"
      ]
    },
    {
      "cell_type": "markdown",
      "metadata": {
        "id": "Zjqv7yZwqgL_"
      },
      "source": [
        "## Question 9"
      ]
    },
    {
      "cell_type": "markdown",
      "metadata": {
        "id": "A99eNM2qqiqw"
      },
      "source": [
        "Just like an array, a set, and a map, a linked list also has a length, namely the number of elements. Write a method to calculate the length of a linked list."
      ]
    },
    {
      "cell_type": "code",
      "execution_count": null,
      "metadata": {
        "id": "K_CHiFH3q2XR"
      },
      "outputs": [],
      "source": [
        "class LinkedListElement:\n",
        "\n",
        "  def __init__(self, value):\n",
        "    self.value = value\n",
        "    self.next = None\n",
        "\n",
        "\n",
        "class LinkedList:\n",
        "\n",
        "  def __init__(self):\n",
        "    self.first = None\n",
        "\n",
        "  def print(self):\n",
        "    elem = self.first  \n",
        "    while elem is not None:\n",
        "      print(elem.value, end =\", \")\n",
        "      elem = elem.next\n",
        "\n",
        "  def get(self, n):\n",
        "    counter = 0\n",
        "    elem = self.first\n",
        "    while counter \u003c n:\n",
        "      # If a None type is hit, raise a ValueError.\n",
        "      if elem is None:\n",
        "        raise ValueError(\"Element does not exist at provided index.\")\n",
        "      counter += 1\n",
        "      elem = elem.next\n",
        "    return elem\n",
        "\n",
        "  def insert(self, new, position):\n",
        "    elem = self.get(position)\n",
        "    new.next = elem\n",
        "    if position == 0:\n",
        "      self.first = new\n",
        "    else:\n",
        "      prev = self.get(position - 1)\n",
        "      prev.next = new\n",
        "\n",
        "  def remove(self, position):\n",
        "    if position == 0:\n",
        "      self.first = self.first.next\n",
        "    else:\n",
        "      prev = self.get(position - 1)\n",
        "      prev.next = self.get(position).next\n",
        "  \n",
        "  def length(self):\n",
        "    # TODO(you): Implement\n",
        "    print(\"This method has not been implemented.\")"
      ]
    },
    {
      "cell_type": "markdown",
      "metadata": {
        "id": "kCQzXISYN4I5"
      },
      "source": [
        "### Unit Tests\n",
        "\n",
        "Run the following cell to check your answer against some unit tests."
      ]
    },
    {
      "cell_type": "code",
      "execution_count": null,
      "metadata": {
        "id": "vvRxYozJqR7R"
      },
      "outputs": [],
      "source": [
        "ll = LinkedList()\n",
        "print(ll.length())\n",
        "# Should print: 0\n",
        "\n",
        "ll.first = LinkedListElement(1)\n",
        "print(ll.length())\n",
        "# Should print: 1\n",
        "\n",
        "ll.first.next = LinkedListElement(2)\n",
        "print(ll.length())\n",
        "# Should print: 2"
      ]
    },
    {
      "cell_type": "markdown",
      "metadata": {
        "id": "hE8N9FltOAiO"
      },
      "source": [
        "### Solution"
      ]
    },
    {
      "cell_type": "markdown",
      "metadata": {
        "id": "pgqXbDn6qkbL"
      },
      "source": [
        "This implementation is similar to the `get` implementation in the backing `LinkedList` class. We iterate through the linked list by going through each element's `next`, and stop when we hit `None`."
      ]
    },
    {
      "cell_type": "code",
      "execution_count": null,
      "metadata": {
        "id": "gS2Z_iwyou94"
      },
      "outputs": [],
      "source": [
        "class LinkedListElement:\n",
        "\n",
        "  def __init__(self, value):\n",
        "    self.value = value\n",
        "    self.next = None\n",
        "\n",
        "\n",
        "class LinkedList:\n",
        "\n",
        "  def __init__(self):\n",
        "    self.first = None\n",
        "\n",
        "  def print(self):\n",
        "    elem = self.first  \n",
        "    while elem is not None:\n",
        "      print(elem.value, end =\", \")\n",
        "      elem = elem.next\n",
        "\n",
        "  def get(self, n):\n",
        "    counter = 0\n",
        "    elem = self.first\n",
        "    while counter \u003c n:\n",
        "      # If a None type is hit, raise a ValueError.\n",
        "      if elem is None:\n",
        "        raise ValueError(\"Element does not exist at provided index.\")\n",
        "      counter += 1\n",
        "      elem = elem.next\n",
        "    return elem\n",
        "\n",
        "  def insert(self, new, position):\n",
        "    elem = self.get(position)\n",
        "    new.next = elem\n",
        "    if position == 0:\n",
        "      self.first = new\n",
        "    else:\n",
        "      prev = self.get(position - 1)\n",
        "      prev.next = new\n",
        "\n",
        "  def remove(self, position):\n",
        "    if position == 0:\n",
        "      self.first = self.first.next\n",
        "    else:\n",
        "      prev = self.get(position - 1)\n",
        "      prev.next = self.get(position).next\n",
        "\n",
        "  def length(self):\n",
        "    length = 0\n",
        "    elem = self.first\n",
        "    while elem is not None:\n",
        "      length += 1\n",
        "      elem = elem.next\n",
        "    return length"
      ]
    },
    {
      "cell_type": "markdown",
      "metadata": {
        "id": "ZGAoz7WaNPLN"
      },
      "source": [
        "## Question 10"
      ]
    },
    {
      "cell_type": "markdown",
      "metadata": {
        "id": "DjwPZ-p1nrjI"
      },
      "source": [
        "You are the coach of a Minor League Baseball team and have designed your [batting order](https://en.wikipedia.org/wiki/Batting_order_(baseball)). The batting order is implemented as a linked list. Create a `BattingOrder` [class that inherits](https://en.wikipedia.org/wiki/Inheritance_(object-oriented_programming)) all the same methods from the parent `LinkedList` class.\n",
        "\n",
        "For now, you don't need to include any new methods."
      ]
    },
    {
      "cell_type": "code",
      "execution_count": null,
      "metadata": {
        "id": "444W7VBJNbCb"
      },
      "outputs": [],
      "source": [
        "class LinkedListElement:\n",
        "\n",
        "  def __init__(self, value):\n",
        "    self.value = value\n",
        "    self.next = None\n",
        "\n",
        "\n",
        "class LinkedList:\n",
        "\n",
        "  def __init__(self):\n",
        "    self.first = None\n",
        "\n",
        "  def print(self):\n",
        "    elem = self.first  \n",
        "    while elem is not None:\n",
        "      print(elem.value, end =\", \")\n",
        "      elem = elem.next\n",
        "\n",
        "  def get(self, n):\n",
        "    counter = 0\n",
        "    elem = self.first\n",
        "    while counter \u003c n:\n",
        "      # If a None type is hit, raise a ValueError.\n",
        "      if elem is None:\n",
        "        raise ValueError(\"Element does not exist at provided index.\")\n",
        "      counter += 1\n",
        "      elem = elem.next\n",
        "    return elem\n",
        "\n",
        "  def insert(self, new, position):\n",
        "    elem = self.get(position)\n",
        "    new.next = elem\n",
        "    if position == 0:\n",
        "      self.first = new\n",
        "    else:\n",
        "      prev = self.get(position - 1)\n",
        "      prev.next = new\n",
        "\n",
        "  def remove(self, position):\n",
        "    if position == 0:\n",
        "      self.first = self.first.next\n",
        "    else:\n",
        "      prev = self.get(position - 1)\n",
        "      prev.next = self.get(position).next\n",
        "\n",
        "  def length(self):\n",
        "    length = 0\n",
        "    elem = self.first\n",
        "    while elem is not None:\n",
        "      length += 1\n",
        "      elem = elem.next\n",
        "    return length"
      ]
    },
    {
      "cell_type": "code",
      "execution_count": null,
      "metadata": {
        "id": "XbuvKbNms7PP"
      },
      "outputs": [],
      "source": [
        "# TODO(you): Create a BattingOrder class that inherits from LinkedList"
      ]
    },
    {
      "cell_type": "markdown",
      "metadata": {
        "id": "ed-2vh6dsBvX"
      },
      "source": [
        "### Hint"
      ]
    },
    {
      "cell_type": "markdown",
      "metadata": {
        "id": "G8fhYYvMsCiZ"
      },
      "source": [
        "You can use the `pass` keyword to create a class with no methods."
      ]
    },
    {
      "cell_type": "code",
      "execution_count": null,
      "metadata": {
        "id": "Eu0GaKG1sJVo"
      },
      "outputs": [],
      "source": [
        "class DoNothing:\n",
        "  pass"
      ]
    },
    {
      "cell_type": "markdown",
      "metadata": {
        "id": "qDfApp_hrwtX"
      },
      "source": [
        "### Solution"
      ]
    },
    {
      "cell_type": "code",
      "execution_count": null,
      "metadata": {
        "id": "2-AGWyxftAhl"
      },
      "outputs": [],
      "source": [
        "class LinkedListElement:\n",
        "\n",
        "  def __init__(self, value):\n",
        "    self.value = value\n",
        "    self.next = None\n",
        "\n",
        "\n",
        "class LinkedList:\n",
        "\n",
        "  def __init__(self):\n",
        "    self.first = None\n",
        "\n",
        "  def print(self):\n",
        "    elem = self.first  \n",
        "    while elem is not None:\n",
        "      print(elem.value, end =\", \")\n",
        "      elem = elem.next\n",
        "\n",
        "  def get(self, n):\n",
        "    counter = 0\n",
        "    elem = self.first\n",
        "    while counter \u003c n:\n",
        "      # If a None type is hit, raise a ValueError.\n",
        "      if elem is None:\n",
        "        raise ValueError(\"Element does not exist at provided index.\")\n",
        "      counter += 1\n",
        "      elem = elem.next\n",
        "    return elem\n",
        "\n",
        "  def insert(self, new, position):\n",
        "    elem = self.get(position)\n",
        "    new.next = elem\n",
        "    if position == 0:\n",
        "      self.first = new\n",
        "    else:\n",
        "      prev = self.get(position - 1)\n",
        "      prev.next = new\n",
        "\n",
        "  def remove(self, position):\n",
        "    if position == 0:\n",
        "      self.first = self.first.next\n",
        "    else:\n",
        "      prev = self.get(position - 1)\n",
        "      prev.next = self.get(position).next\n",
        "\n",
        "  def length(self):\n",
        "    length = 0\n",
        "    elem = self.first\n",
        "    while elem is not None:\n",
        "      length += 1\n",
        "      elem = elem.next\n",
        "    return length"
      ]
    },
    {
      "cell_type": "code",
      "execution_count": null,
      "metadata": {
        "id": "TpXwRIDVrx_W"
      },
      "outputs": [],
      "source": [
        "class BattingOrder(LinkedList):\n",
        "  pass"
      ]
    },
    {
      "cell_type": "markdown",
      "metadata": {
        "id": "76MYQ_8_sOxo"
      },
      "source": [
        "## Question 11"
      ]
    },
    {
      "cell_type": "markdown",
      "metadata": {
        "id": "6P2lUuBisPn_"
      },
      "source": [
        "With the inherited `BattingOrder` class, you have used the inherited `insert` and `remove` methods to create your batting order. But after all of this adding and removing of batters, you have forgotten how many players you actually have in your lineup! And it doesn't make much sense to add a batter to the batting order if the team already has 9 batters.\n",
        "\n",
        "Write a method for the `BattingOrder` class called `insert_if_possible` that inserts a new batter *only if* the insertion doesn't make the length of the batting order exceed 9. If the batting order is already full, raise an `IndexError` indicating so.\n",
        "\n",
        "Remember that you can use *any* of the methods inherited from the `LinkedList` class."
      ]
    },
    {
      "cell_type": "code",
      "execution_count": null,
      "metadata": {
        "id": "L-KBjLhZtDFT"
      },
      "outputs": [],
      "source": [
        "class LinkedListElement:\n",
        "\n",
        "  def __init__(self, value):\n",
        "    self.value = value\n",
        "    self.next = None\n",
        "\n",
        "\n",
        "class LinkedList:\n",
        "\n",
        "  def __init__(self):\n",
        "    self.first = None\n",
        "\n",
        "  def print(self):\n",
        "    elem = self.first  \n",
        "    while elem is not None:\n",
        "      print(elem.value, end =\", \")\n",
        "      elem = elem.next\n",
        "\n",
        "  def get(self, n):\n",
        "    counter = 0\n",
        "    elem = self.first\n",
        "    while counter \u003c n:\n",
        "      # If a None type is hit, raise a ValueError.\n",
        "      if elem is None:\n",
        "        raise ValueError(\"Element does not exist at provided index.\")\n",
        "      counter += 1\n",
        "      elem = elem.next\n",
        "    return elem\n",
        "\n",
        "  def insert(self, new, position):\n",
        "    elem = self.get(position)\n",
        "    new.next = elem\n",
        "    if position == 0:\n",
        "      self.first = new\n",
        "    else:\n",
        "      prev = self.get(position - 1)\n",
        "      prev.next = new\n",
        "\n",
        "  def remove(self, position):\n",
        "    if position == 0:\n",
        "      self.first = self.first.next\n",
        "    else:\n",
        "      prev = self.get(position - 1)\n",
        "      prev.next = self.get(position).next\n",
        "\n",
        "  def length(self):\n",
        "    length = 0\n",
        "    elem = self.first\n",
        "    while elem is not None:\n",
        "      length += 1\n",
        "      elem = elem.next\n",
        "    return length"
      ]
    },
    {
      "cell_type": "code",
      "execution_count": null,
      "metadata": {
        "id": "r3lDSHV1eZnW"
      },
      "outputs": [],
      "source": [
        "class BattingOrder(LinkedList):\n",
        "\n",
        "  def insert_if_possible(self, new_batter):\n",
        "    # TODO(Implement)\n",
        "    print(\"This method has not been implemented.\")"
      ]
    },
    {
      "cell_type": "markdown",
      "metadata": {
        "id": "kR7upt7L4nR3"
      },
      "source": [
        "### Hint"
      ]
    },
    {
      "cell_type": "markdown",
      "metadata": {
        "id": "sdhPbu974n8r"
      },
      "source": [
        "Raise an `IndexError` using the following code.\n",
        "\n",
        "```python\n",
        "raise IndexError('This batting order is already full!')\n",
        "```"
      ]
    },
    {
      "cell_type": "markdown",
      "metadata": {
        "id": "JYlo3Ucf19Co"
      },
      "source": [
        "### Unit Tests\n",
        "\n",
        "Run the following cell to check your answer against some unit tests."
      ]
    },
    {
      "cell_type": "code",
      "execution_count": null,
      "metadata": {
        "id": "iy6d84YM1-qQ"
      },
      "outputs": [],
      "source": [
        "redsox_batting_order = BattingOrder()\n",
        "redsox_batting_order.insert_if_possible(LinkedListElement('H. Astros'))\n",
        "redsox_batting_order.insert_if_possible(LinkedListElement('C. Cubs'))\n",
        "redsox_batting_order.insert_if_possible(LinkedListElement('N.Y. Yankees'))\n",
        "redsox_batting_order.insert_if_possible(LinkedListElement('C. Reds'))\n",
        "redsox_batting_order.insert_if_possible(LinkedListElement('L.A. Dodgers'))\n",
        "redsox_batting_order.insert_if_possible(LinkedListElement('B. Jays'))\n",
        "redsox_batting_order.insert_if_possible(LinkedListElement('A. Braves'))\n",
        "redsox_batting_order.insert_if_possible(LinkedListElement('P. Phillies'))\n",
        "redsox_batting_order.insert_if_possible(LinkedListElement('D. Tigers'))\n",
        "\n",
        "redsox_batting_order.insert_if_possible(LinkedListElement('W. Nationals'))\n",
        "# Should raise: IndexError"
      ]
    },
    {
      "cell_type": "markdown",
      "metadata": {
        "id": "ArnGYA-VtJI0"
      },
      "source": [
        "### Solution"
      ]
    },
    {
      "cell_type": "code",
      "execution_count": null,
      "metadata": {
        "id": "3EiNfXO2tLKt"
      },
      "outputs": [],
      "source": [
        "class LinkedListElement:\n",
        "\n",
        "  def __init__(self, value):\n",
        "    self.value = value\n",
        "    self.next = None\n",
        "\n",
        "\n",
        "class LinkedList:\n",
        "\n",
        "  def __init__(self):\n",
        "    self.first = None\n",
        "\n",
        "  def print(self):\n",
        "    elem = self.first  \n",
        "    while elem is not None:\n",
        "      print(elem.value, end =\", \")\n",
        "      elem = elem.next\n",
        "\n",
        "  def get(self, n):\n",
        "    counter = 0\n",
        "    elem = self.first\n",
        "    while counter \u003c n:\n",
        "      # If a None type is hit, raise a ValueError.\n",
        "      if elem is None:\n",
        "        raise ValueError(\"Element does not exist at provided index.\")\n",
        "      counter += 1\n",
        "      elem = elem.next\n",
        "    return elem\n",
        "\n",
        "  def insert(self, new, position):\n",
        "    elem = self.get(position)\n",
        "    new.next = elem\n",
        "    if position == 0:\n",
        "      self.first = new\n",
        "    else:\n",
        "      prev = self.get(position - 1)\n",
        "      prev.next = new\n",
        "\n",
        "  def remove(self, position):\n",
        "    if position == 0:\n",
        "      self.first = self.first.next\n",
        "    else:\n",
        "      prev = self.get(position - 1)\n",
        "      prev.next = self.get(position).next\n",
        "\n",
        "  def length(self):\n",
        "    length = 0\n",
        "    elem = self.first\n",
        "    while elem is not None:\n",
        "      length += 1\n",
        "      elem = elem.next\n",
        "    return length"
      ]
    },
    {
      "cell_type": "code",
      "execution_count": null,
      "metadata": {
        "id": "EGfmC1fQtLKz"
      },
      "outputs": [],
      "source": [
        "class BattingOrder(LinkedList):\n",
        "\n",
        "  MAX_NUM_BATTERS = 9\n",
        "\n",
        "  def insert_if_possible(self, new_batter):\n",
        "    l = self.length()\n",
        "    if l \u003c self.MAX_NUM_BATTERS:\n",
        "      self.insert(new_batter, l)\n",
        "    else:\n",
        "      raise IndexError('This batting order is already full!')"
      ]
    },
    {
      "cell_type": "markdown",
      "metadata": {
        "id": "mOagZzihNRgY"
      },
      "source": [
        "## Question 12"
      ]
    },
    {
      "cell_type": "markdown",
      "metadata": {
        "id": "uuzxrgdysY0z"
      },
      "source": [
        "You work on the engineering team for a telecommunications company. Your company responds to a high volume of customer service telephone calls, and it is your job to manage who gets served next.\n",
        "\n",
        "It is very common to implement a waiting list or *queue* using a linked list. Your implementation of `WaitingList` is such that the person who is `first` is closest to being served."
      ]
    },
    {
      "cell_type": "code",
      "execution_count": null,
      "metadata": {
        "id": "fzda8yIAAsjP"
      },
      "outputs": [],
      "source": [
        "class LinkedListElement:\n",
        "\n",
        "  def __init__(self, value):\n",
        "    self.value = value\n",
        "    self.next = None\n",
        "\n",
        "\n",
        "class LinkedList:\n",
        "\n",
        "  def __init__(self):\n",
        "    self.first = None\n",
        "\n",
        "  def print(self):\n",
        "    elem = self.first  \n",
        "    while elem is not None:\n",
        "      print(elem.value, end =\", \")\n",
        "      elem = elem.next\n",
        "\n",
        "  def get(self, n):\n",
        "    counter = 0\n",
        "    elem = self.first\n",
        "    while counter \u003c n:\n",
        "      # If a None type is hit, raise a ValueError.\n",
        "      if elem is None:\n",
        "        raise ValueError(\"Element does not exist at provided index.\")\n",
        "      counter += 1\n",
        "      elem = elem.next\n",
        "    return elem\n",
        "\n",
        "  def insert(self, new, position):\n",
        "    elem = self.get(position)\n",
        "    new.next = elem\n",
        "    if position == 0:\n",
        "      self.first = new\n",
        "    else:\n",
        "      prev = self.get(position - 1)\n",
        "      prev.next = new\n",
        "\n",
        "  def remove(self, position):\n",
        "    if position == 0:\n",
        "      self.first = self.first.next\n",
        "    else:\n",
        "      prev = self.get(position - 1)\n",
        "      prev.next = self.get(position).next\n",
        "\n",
        "  def length(self):\n",
        "    length = 0\n",
        "    elem = self.first\n",
        "    while elem is not None:\n",
        "      length += 1\n",
        "      elem = elem.next\n",
        "    return length"
      ]
    },
    {
      "cell_type": "code",
      "execution_count": null,
      "metadata": {
        "id": "j5ADJH-NuIup"
      },
      "outputs": [],
      "source": [
        "class WaitingList(LinkedList):\n",
        "  pass"
      ]
    },
    {
      "cell_type": "markdown",
      "metadata": {
        "id": "ys-sx1FDzYL0"
      },
      "source": [
        "Write a method named `add_new_caller` that adds a new caller to the *back* (or tail) of the waiting list."
      ]
    },
    {
      "cell_type": "code",
      "execution_count": null,
      "metadata": {
        "id": "WBzEfFKKwaq-"
      },
      "outputs": [],
      "source": [
        "class WaitingList(LinkedList):\n",
        "\n",
        "  def add_new_caller(self, new):\n",
        "    # TODO(you): Implement\n",
        "    print(\"This method has not been implemented.\")"
      ]
    },
    {
      "cell_type": "markdown",
      "metadata": {
        "id": "TS5VpBL-J-k_"
      },
      "source": [
        "### Hint"
      ]
    },
    {
      "cell_type": "markdown",
      "metadata": {
        "id": "8Qc7O3f00S-C"
      },
      "source": [
        "You can use any of the methods defined throughout this lesson. Remember that `WaitingList` inherits all of the methods of `LinkedList`."
      ]
    },
    {
      "cell_type": "markdown",
      "metadata": {
        "id": "m8qJFntzJtBm"
      },
      "source": [
        "### Unit Tests\n",
        "\n",
        "Run the following cell to check your answer against some unit tests."
      ]
    },
    {
      "cell_type": "code",
      "execution_count": null,
      "metadata": {
        "id": "Ib2tfQ0d1an9"
      },
      "outputs": [],
      "source": [
        "telecom_waiting_list = WaitingList()\n",
        "\n",
        "telecom_waiting_list.add_new_caller(LinkedListElement(\"Caller 1\"))\n",
        "telecom_waiting_list.print()\n",
        "# Should print: Caller 1,\n",
        "\n",
        "print(\"\\n\")\n",
        "telecom_waiting_list.add_new_caller(LinkedListElement(\"Caller 2\"))\n",
        "telecom_waiting_list.print()\n",
        "# Should print: Caller 1, Caller 2,\n",
        "\n",
        "print(\"\\n\")\n",
        "telecom_waiting_list.add_new_caller(LinkedListElement(\"Caller 3\"))\n",
        "telecom_waiting_list.print()\n",
        "# Should print: Caller 1, Caller 2, Caller 3,"
      ]
    },
    {
      "cell_type": "markdown",
      "metadata": {
        "id": "a599_rboqb_n"
      },
      "source": [
        "### Solution"
      ]
    },
    {
      "cell_type": "markdown",
      "metadata": {
        "id": "M7YAufBb0NLW"
      },
      "source": [
        "Adding a new caller means we add a caller to the tail of the linked list."
      ]
    },
    {
      "cell_type": "code",
      "execution_count": null,
      "metadata": {
        "id": "6IvCYTXHo2Ur"
      },
      "outputs": [],
      "source": [
        "class LinkedListElement:\n",
        "\n",
        "  def __init__(self, value):\n",
        "    self.value = value\n",
        "    self.next = None\n",
        "\n",
        "\n",
        "class LinkedList:\n",
        "\n",
        "  def __init__(self):\n",
        "    self.first = None\n",
        "\n",
        "  def print(self):\n",
        "    elem = self.first  \n",
        "    while elem is not None:\n",
        "      print(elem.value, end =\", \")\n",
        "      elem = elem.next\n",
        "\n",
        "  def get(self, n):\n",
        "    counter = 0\n",
        "    elem = self.first\n",
        "    while counter \u003c n:\n",
        "      # If a None type is hit, raise a ValueError.\n",
        "      if elem is None:\n",
        "        raise ValueError(\"Element does not exist at provided index.\")\n",
        "      counter += 1\n",
        "      elem = elem.next\n",
        "    return elem\n",
        "\n",
        "  def insert(self, new, position):\n",
        "    elem = self.get(position)\n",
        "    new.next = elem\n",
        "    if position == 0:\n",
        "      self.first = new\n",
        "    else:\n",
        "      prev = self.get(position - 1)\n",
        "      prev.next = new\n",
        "\n",
        "  def remove(self, position):\n",
        "    if position == 0:\n",
        "      self.first = self.first.next\n",
        "    else:\n",
        "      prev = self.get(position - 1)\n",
        "      prev.next = self.get(position).next\n",
        "\n",
        "  def length(self):\n",
        "    length = 0\n",
        "    elem = self.first\n",
        "    while elem is not None:\n",
        "      length += 1\n",
        "      elem = elem.next\n",
        "    return length"
      ]
    },
    {
      "cell_type": "code",
      "execution_count": null,
      "metadata": {
        "id": "o9JGgBe30N4L"
      },
      "outputs": [],
      "source": [
        "class WaitingList(LinkedList):\n",
        "\n",
        "  def add_new_caller(self, new):\n",
        "    self.insert(new, self.length())"
      ]
    },
    {
      "cell_type": "markdown",
      "metadata": {
        "id": "CrKEIrdFJeBF"
      },
      "source": [
        "## Question 13"
      ]
    },
    {
      "cell_type": "markdown",
      "metadata": {
        "id": "_ZxSFR35Jeyc"
      },
      "source": [
        "Write a method called `serve_caller` that removes the `first` caller from the waiting list."
      ]
    },
    {
      "cell_type": "code",
      "execution_count": null,
      "metadata": {
        "id": "GCQzKunBo4Ld"
      },
      "outputs": [],
      "source": [
        "class LinkedListElement:\n",
        "\n",
        "  def __init__(self, value):\n",
        "    self.value = value\n",
        "    self.next = None\n",
        "\n",
        "\n",
        "class LinkedList:\n",
        "\n",
        "  def __init__(self):\n",
        "    self.first = None\n",
        "\n",
        "  def print(self):\n",
        "    elem = self.first  \n",
        "    while elem is not None:\n",
        "      print(elem.value, end =\", \")\n",
        "      elem = elem.next\n",
        "\n",
        "  def get(self, n):\n",
        "    counter = 0\n",
        "    elem = self.first\n",
        "    while counter \u003c n:\n",
        "      # If a None type is hit, raise a ValueError.\n",
        "      if elem is None:\n",
        "        raise ValueError(\"Element does not exist at provided index.\")\n",
        "      counter += 1\n",
        "      elem = elem.next\n",
        "    return elem\n",
        "\n",
        "  def insert(self, new, position):\n",
        "    elem = self.get(position)\n",
        "    new.next = elem\n",
        "    if position == 0:\n",
        "      self.first = new\n",
        "    else:\n",
        "      prev = self.get(position - 1)\n",
        "      prev.next = new\n",
        "\n",
        "  def remove(self, position):\n",
        "    if position == 0:\n",
        "      self.first = self.first.next\n",
        "    else:\n",
        "      prev = self.get(position - 1)\n",
        "      prev.next = self.get(position).next\n",
        "\n",
        "  def length(self):\n",
        "    length = 0\n",
        "    elem = self.first\n",
        "    while elem is not None:\n",
        "      length += 1\n",
        "      elem = elem.next\n",
        "    return length"
      ]
    },
    {
      "cell_type": "code",
      "execution_count": null,
      "metadata": {
        "id": "VruwPAeyJi6q"
      },
      "outputs": [],
      "source": [
        "class WaitingList(LinkedList):\n",
        "\n",
        "  def add_new_caller(self, new):\n",
        "    self.insert(new, self.length())\n",
        "\n",
        "  def serve_caller(self):\n",
        "    # TODO(you): Implement\n",
        "    print(\"This method has not been implemented.\")"
      ]
    },
    {
      "cell_type": "markdown",
      "metadata": {
        "id": "JpLWVmV4KOqJ"
      },
      "source": [
        "### Unit Tests\n",
        "\n",
        "Run the following cell to check your answer against some unit tests."
      ]
    },
    {
      "cell_type": "code",
      "execution_count": null,
      "metadata": {
        "id": "1KmjN_7PKPxY"
      },
      "outputs": [],
      "source": [
        "telecom_waiting_list = WaitingList()\n",
        "\n",
        "telecom_waiting_list.add_new_caller(LinkedListElement(\"Caller 1\"))\n",
        "telecom_waiting_list.print()\n",
        "# Should print: Caller 1,\n",
        "\n",
        "print(\"\\n\")\n",
        "telecom_waiting_list.serve_caller()\n",
        "telecom_waiting_list.print()\n",
        "# Should print nothing\n",
        "\n",
        "print(\"\\n\")\n",
        "telecom_waiting_list.add_new_caller(LinkedListElement(\"Caller 2\"))\n",
        "telecom_waiting_list.print()\n",
        "# Should print: Caller 2,\n",
        "\n",
        "print(\"\\n\")\n",
        "telecom_waiting_list.add_new_caller(LinkedListElement(\"Caller 3\"))\n",
        "telecom_waiting_list.print()\n",
        "# Should print: Caller 2, Caller 3,\n",
        "\n",
        "print(\"\\n\")\n",
        "telecom_waiting_list.serve_caller()\n",
        "telecom_waiting_list.print()\n",
        "# Should print: Caller 2,"
      ]
    },
    {
      "cell_type": "markdown",
      "metadata": {
        "id": "yPgtuzhpKIYC"
      },
      "source": [
        "### Solution"
      ]
    },
    {
      "cell_type": "markdown",
      "metadata": {
        "id": "sLzpFn0FKJs4"
      },
      "source": [
        "Removing a caller means we remove the first element."
      ]
    },
    {
      "cell_type": "code",
      "execution_count": null,
      "metadata": {
        "id": "iYkMnfT5o5rJ"
      },
      "outputs": [],
      "source": [
        "class LinkedListElement:\n",
        "\n",
        "  def __init__(self, value):\n",
        "    self.value = value\n",
        "    self.next = None\n",
        "\n",
        "\n",
        "class LinkedList:\n",
        "\n",
        "  def __init__(self):\n",
        "    self.first = None\n",
        "\n",
        "  def print(self):\n",
        "    elem = self.first  \n",
        "    while elem is not None:\n",
        "      print(elem.value, end =\", \")\n",
        "      elem = elem.next\n",
        "\n",
        "  def get(self, n):\n",
        "    counter = 0\n",
        "    elem = self.first\n",
        "    while counter \u003c n:\n",
        "      # If a None type is hit, raise a ValueError.\n",
        "      if elem is None:\n",
        "        raise ValueError(\"Element does not exist at provided index.\")\n",
        "      counter += 1\n",
        "      elem = elem.next\n",
        "    return elem\n",
        "\n",
        "  def insert(self, new, position):\n",
        "    elem = self.get(position)\n",
        "    new.next = elem\n",
        "    if position == 0:\n",
        "      self.first = new\n",
        "    else:\n",
        "      prev = self.get(position - 1)\n",
        "      prev.next = new\n",
        "\n",
        "  def remove(self, position):\n",
        "    if position == 0:\n",
        "      self.first = self.first.next\n",
        "    else:\n",
        "      prev = self.get(position - 1)\n",
        "      prev.next = self.get(position).next\n",
        "\n",
        "  def length(self):\n",
        "    length = 0\n",
        "    elem = self.first\n",
        "    while elem is not None:\n",
        "      length += 1\n",
        "      elem = elem.next\n",
        "    return length"
      ]
    },
    {
      "cell_type": "code",
      "execution_count": null,
      "metadata": {
        "id": "N98NjK1xKi0F"
      },
      "outputs": [],
      "source": [
        "class WaitingList(LinkedList):\n",
        "\n",
        "  def add_new_caller(self, new):\n",
        "    self.insert(new, self.length())\n",
        "\n",
        "  def serve_caller(self):\n",
        "    self.remove(0)"
      ]
    },
    {
      "cell_type": "markdown",
      "metadata": {
        "id": "QrVOGp_yK1OH"
      },
      "source": [
        "## Question 14"
      ]
    },
    {
      "cell_type": "markdown",
      "metadata": {
        "id": "d30ViVjI2kj7"
      },
      "source": [
        "Your telecommunications company has received some negative feedback, that users have to wait too long. The solution you and your team come up with is to offer a callback service, for those who are likely to wait a long time.\n",
        "\n",
        "Therefore, you create a new linked list, called `CallbackList`. It inherits the methods from `WaitingList` (therefore it also inherits the methods from `LinkedList`), so it can add and serve callers."
      ]
    },
    {
      "cell_type": "code",
      "execution_count": null,
      "metadata": {
        "id": "5jXJW8yELDsz"
      },
      "outputs": [],
      "source": [
        "class LinkedListElement:\n",
        "\n",
        "  def __init__(self, value):\n",
        "    self.value = value\n",
        "    self.next = None\n",
        "\n",
        "\n",
        "class LinkedList:\n",
        "\n",
        "  def __init__(self):\n",
        "    self.first = None\n",
        "\n",
        "  def print(self):\n",
        "    elem = self.first  \n",
        "    while elem is not None:\n",
        "      print(elem.value, end =\", \")\n",
        "      elem = elem.next\n",
        "\n",
        "  def get(self, n):\n",
        "    counter = 0\n",
        "    elem = self.first\n",
        "    while counter \u003c n:\n",
        "      # If a None type is hit, raise a ValueError.\n",
        "      if elem is None:\n",
        "        raise ValueError(\"Element does not exist at provided index.\")\n",
        "      counter += 1\n",
        "      elem = elem.next\n",
        "    return elem\n",
        "\n",
        "  def insert(self, new, position):\n",
        "    elem = self.get(position)\n",
        "    new.next = elem\n",
        "    if position == 0:\n",
        "      self.first = new\n",
        "    else:\n",
        "      prev = self.get(position - 1)\n",
        "      prev.next = new\n",
        "\n",
        "  def remove(self, position):\n",
        "    if position == 0:\n",
        "      self.first = self.first.next\n",
        "    else:\n",
        "      prev = self.get(position - 1)\n",
        "      prev.next = self.get(position).next\n",
        "\n",
        "  def length(self):\n",
        "    length = 0\n",
        "    elem = self.first\n",
        "    while elem is not None:\n",
        "      length += 1\n",
        "      elem = elem.next\n",
        "    return length"
      ]
    },
    {
      "cell_type": "code",
      "execution_count": null,
      "metadata": {
        "id": "qetEc5BULFbh"
      },
      "outputs": [],
      "source": [
        "class WaitingList(LinkedList):\n",
        "\n",
        "  def add_new_caller(self, new):\n",
        "    self.insert(new, self.length())\n",
        "\n",
        "  def serve_caller(self):\n",
        "    self.remove(0)"
      ]
    },
    {
      "cell_type": "code",
      "execution_count": null,
      "metadata": {
        "id": "0AuXUQD5eI5L"
      },
      "outputs": [],
      "source": [
        "class CallbackList(WaitingList):\n",
        "  pass"
      ]
    },
    {
      "cell_type": "markdown",
      "metadata": {
        "id": "QhqGS3nCif4k"
      },
      "source": [
        "You have written a function that takes a `WaitingList`, checks it, and moves all callers after the fifth caller to a new `CallbackList`."
      ]
    },
    {
      "cell_type": "code",
      "execution_count": null,
      "metadata": {
        "id": "U48ym7xtpabz"
      },
      "outputs": [],
      "source": [
        "def transfer_callers_to_callback(waiting_list, callback_list=None):\n",
        "  # Only do anything if the waiting list is above 5.\n",
        "  if waiting_list.length() \u003e 5:\n",
        "\n",
        "    # Find the 6th caller of the waiting list. All callers after will be moved\n",
        "    # to the callback list.\n",
        "    caller6 = waiting_list.get(6)\n",
        "    \n",
        "    if callback_list is None:\n",
        "      # If there is no input CallbackList, create a new one.\n",
        "      callback_list = CallbackList()\n",
        "      callback_list.first = caller6\n",
        "    else:\n",
        "      # Otherwise, add the 6th caller to the callback list.\n",
        "      last = callback_list.get(callback_list.length())\n",
        "      last.next = caller6\n",
        "\n",
        "  return callback_list"
      ]
    },
    {
      "cell_type": "markdown",
      "metadata": {
        "id": "3WNUUYRjtdXC"
      },
      "source": [
        "However, you have found that the function does not work exactly as you expected. You encounter an error when trying to assign the eleventh caller to the last element of the callback list. Can you fix the problem?"
      ]
    },
    {
      "cell_type": "markdown",
      "metadata": {
        "id": "sj5BGIviT778"
      },
      "source": [
        "### Unit Tests\n",
        "\n",
        "Run the following cell to check your answer against some unit tests."
      ]
    },
    {
      "cell_type": "code",
      "execution_count": null,
      "metadata": {
        "id": "jC7EEEQcT9q-"
      },
      "outputs": [],
      "source": [
        "waiting_list = WaitingList()\n",
        "\n",
        "waiting_list.add_new_caller(LinkedListElement(\"Caller 1\"))\n",
        "waiting_list.add_new_caller(LinkedListElement(\"Caller 2\"))\n",
        "waiting_list.add_new_caller(LinkedListElement(\"Caller 3\"))\n",
        "waiting_list.add_new_caller(LinkedListElement(\"Caller 4\"))\n",
        "waiting_list.add_new_caller(LinkedListElement(\"Caller 5\"))\n",
        "waiting_list.add_new_caller(LinkedListElement(\"Caller 6\"))\n",
        "waiting_list.add_new_caller(LinkedListElement(\"Caller 7\"))\n",
        "\n",
        "callback_list = transfer_callers_to_callback(waiting_list)\n",
        "\n",
        "print(callback_list.length())\n",
        "# Should print: 2\n",
        "\n",
        "print(callback_list.get(0).value)\n",
        "# Should print: Caller 6"
      ]
    },
    {
      "cell_type": "markdown",
      "metadata": {
        "id": "viVCRCY6LNFg"
      },
      "source": [
        "### Solution"
      ]
    },
    {
      "cell_type": "markdown",
      "metadata": {
        "id": "zrwuGYd8wf45"
      },
      "source": [
        "The problem is quite a subtle one, and it is often encountered with [zero-indexing](https://en.wikipedia.org/wiki/Zero-based_numbering). It is also a common problem with array-based indexing.\n",
        "\n",
        "Since we engineered the `get` method to be zero-indexed, trying to `linked_list.get(linked_list.length())` returns `None`. Therefore, when we try to assign it a `next` value, it results in an error.\n",
        "\n",
        "Instead, we need to access the final element of the linked list using `linked_list.get(linked_list.length() - 1)`.\n",
        "\n",
        "You may also notice that there is another zero-indexing problem in this code. When we `get` the 6th caller of the `waiting_list`, we use `get(6)`, but we need to use `get(5)`."
      ]
    },
    {
      "cell_type": "code",
      "execution_count": null,
      "metadata": {
        "id": "cGh29kyox_Tx"
      },
      "outputs": [],
      "source": [
        "def transfer_callers_to_callback(waiting_list, callback_list=None):\n",
        "  # Only do anything if the waiting list is above 5.\n",
        "  if waiting_list.length() \u003e 5:\n",
        "\n",
        "    # Find the 6th caller of the waiting list. All callers after will be moved\n",
        "    # to the callback list.\n",
        "    caller6 = waiting_list.get(5)\n",
        "    \n",
        "    if callback_list is None:\n",
        "      # If there is no input CallbackList, create a new one.\n",
        "      callback_list = CallbackList()\n",
        "      callback_list.first = caller6\n",
        "    else:\n",
        "      # Otherwise, add the 6th caller to the callback list.\n",
        "      last = callback_list.get(callback_list.length() - 1)\n",
        "      last.next = caller6\n",
        "\n",
        "  return callback_list"
      ]
    },
    {
      "cell_type": "markdown",
      "metadata": {
        "id": "t5LiNibxK27o"
      },
      "source": [
        "## Question 15"
      ]
    },
    {
      "cell_type": "markdown",
      "metadata": {
        "id": "YcU7v1v-yCUP"
      },
      "source": [
        "The code still does not seem to be working as intended. When you move the callers from the `waiting_list` to the `callback_list`, you find that while the callers are moved to the `callback_list`, they remain on the original `waiting_list`.\n",
        "\n",
        "Add the necessary lines of code to fix this."
      ]
    },
    {
      "cell_type": "code",
      "execution_count": null,
      "metadata": {
        "id": "iD9qOZ2BpF-x"
      },
      "outputs": [],
      "source": [
        "class LinkedListElement:\n",
        "\n",
        "  def __init__(self, value):\n",
        "    self.value = value\n",
        "    self.next = None\n",
        "\n",
        "\n",
        "class LinkedList:\n",
        "\n",
        "  def __init__(self):\n",
        "    self.first = None\n",
        "\n",
        "  def print(self):\n",
        "    elem = self.first  \n",
        "    while elem is not None:\n",
        "      print(elem.value, end =\", \")\n",
        "      elem = elem.next\n",
        "\n",
        "  def get(self, n):\n",
        "    counter = 0\n",
        "    elem = self.first\n",
        "    while counter \u003c n:\n",
        "      # If a None type is hit, raise a ValueError.\n",
        "      if elem is None:\n",
        "        raise ValueError(\"Element does not exist at provided index.\")\n",
        "      counter += 1\n",
        "      elem = elem.next\n",
        "    return elem\n",
        "\n",
        "  def insert(self, new, position):\n",
        "    elem = self.get(position)\n",
        "    new.next = elem\n",
        "    if position == 0:\n",
        "      self.first = new\n",
        "    else:\n",
        "      prev = self.get(position - 1)\n",
        "      prev.next = new\n",
        "\n",
        "  def remove(self, position):\n",
        "    if position == 0:\n",
        "      self.first = self.first.next\n",
        "    else:\n",
        "      prev = self.get(position - 1)\n",
        "      prev.next = self.get(position).next\n",
        "\n",
        "  def length(self):\n",
        "    length = 0\n",
        "    elem = self.first\n",
        "    while elem is not None:\n",
        "      length += 1\n",
        "      elem = elem.next\n",
        "    return length"
      ]
    },
    {
      "cell_type": "code",
      "execution_count": null,
      "metadata": {
        "id": "-d5MKd2JpF-3"
      },
      "outputs": [],
      "source": [
        "class WaitingList(LinkedList):\n",
        "\n",
        "  def add_new_caller(self, new):\n",
        "    self.insert(new, self.length())\n",
        "\n",
        "  def serve_caller(self):\n",
        "    self.remove(0)"
      ]
    },
    {
      "cell_type": "code",
      "execution_count": null,
      "metadata": {
        "id": "7NJSf07SpF-5"
      },
      "outputs": [],
      "source": [
        "class CallbackList(WaitingList):\n",
        "  pass"
      ]
    },
    {
      "cell_type": "code",
      "execution_count": null,
      "metadata": {
        "id": "szWCMuMLWQjd"
      },
      "outputs": [],
      "source": [
        "def transfer_callers_to_callback(waiting_list, callback_list=None):\n",
        "  # TODO(you): Fix this function to delete callers from the waiting list when\n",
        "  # moved to the callback list.\n",
        "\n",
        "  # Only do anything if the waiting list is above 5.\n",
        "  if waiting_list.length() \u003e 5:\n",
        "\n",
        "    # Find the 6th caller of the waiting list. All callers after will be moved\n",
        "    # to the callback list.\n",
        "    caller6 = waiting_list.get(5)\n",
        "    \n",
        "    if callback_list is None:\n",
        "      # If there is no input CallbackList, create a new one.\n",
        "      callback_list = CallbackList()\n",
        "      callback_list.first = caller6\n",
        "    else:\n",
        "      # Otherwise, add the 6th caller to the callback list.\n",
        "      last = callback_list.get(callback_list.length() - 1)\n",
        "      last.next = caller6\n",
        "\n",
        "  return callback_list"
      ]
    },
    {
      "cell_type": "markdown",
      "metadata": {
        "id": "V1uyPClEWMFO"
      },
      "source": [
        "### Unit Tests\n",
        "\n",
        "Run the following cell to check your answer against some unit tests."
      ]
    },
    {
      "cell_type": "code",
      "execution_count": null,
      "metadata": {
        "id": "Iqs3W0UyWNXZ"
      },
      "outputs": [],
      "source": [
        "waiting_list = WaitingList()\n",
        "\n",
        "waiting_list.add_new_caller(LinkedListElement(\"Caller 1\"))\n",
        "waiting_list.add_new_caller(LinkedListElement(\"Caller 2\"))\n",
        "waiting_list.add_new_caller(LinkedListElement(\"Caller 3\"))\n",
        "waiting_list.add_new_caller(LinkedListElement(\"Caller 4\"))\n",
        "waiting_list.add_new_caller(LinkedListElement(\"Caller 5\"))\n",
        "waiting_list.add_new_caller(LinkedListElement(\"Caller 6\"))\n",
        "waiting_list.add_new_caller(LinkedListElement(\"Caller 7\"))\n",
        "\n",
        "callback_list = transfer_callers_to_callback(waiting_list)\n",
        "\n",
        "print(waiting_list.length())\n",
        "# Should print: 5"
      ]
    },
    {
      "cell_type": "markdown",
      "metadata": {
        "id": "Om1UE6UsLfuC"
      },
      "source": [
        "### Solution"
      ]
    },
    {
      "cell_type": "markdown",
      "metadata": {
        "id": "m8Ull1aKzPY1"
      },
      "source": [
        "This can be done by assigning the `next` value of the sixth caller in the `waiting_list` to `None`."
      ]
    },
    {
      "cell_type": "code",
      "execution_count": null,
      "metadata": {
        "id": "_QMLRKPuz1Lh"
      },
      "outputs": [],
      "source": [
        "def transfer_callers_to_callback(waiting_list, callback_list=None):\n",
        "  # Only do anything if the waiting list is above 5.\n",
        "  if waiting_list.length() \u003e 5:\n",
        "\n",
        "    # Find the 6th caller of the waiting list. All callers after will be moved\n",
        "    # to the callback list.\n",
        "    caller6 = waiting_list.get(5)\n",
        "\n",
        "    # Remove all callers after the 5th caller.\n",
        "    caller5 = waiting_list.get(4)\n",
        "    caller5.next = None\n",
        "    \n",
        "    if callback_list is None:\n",
        "      # If there is no input CallbackList, create a new one.\n",
        "      callback_list = CallbackList()\n",
        "      callback_list.first = caller6\n",
        "    else:\n",
        "      # Otherwise, add the 6th caller to the callback list.\n",
        "      last = callback_list.get(callback_list.length() - 1)\n",
        "      last.next = caller6\n",
        "\n",
        "  return callback_list"
      ]
    },
    {
      "cell_type": "markdown",
      "metadata": {
        "id": "X3jyp5lWK4ao"
      },
      "source": [
        "## Question 16"
      ]
    },
    {
      "cell_type": "markdown",
      "metadata": {
        "id": "cjd-nw0T0sY6"
      },
      "source": [
        "You decide that it makes sense to allow users of the function to adjust the maximum number of callers allowed in the `WaitingList` before being moved to the `CallbackList`.\n",
        "\n",
        "Make changes to the code to include `threshold` as a parameter of the function."
      ]
    },
    {
      "cell_type": "code",
      "execution_count": null,
      "metadata": {
        "id": "0TI_VKyRpLjs"
      },
      "outputs": [],
      "source": [
        "class LinkedListElement:\n",
        "\n",
        "  def __init__(self, value):\n",
        "    self.value = value\n",
        "    self.next = None\n",
        "\n",
        "\n",
        "class LinkedList:\n",
        "\n",
        "  def __init__(self):\n",
        "    self.first = None\n",
        "\n",
        "  def print(self):\n",
        "    elem = self.first  \n",
        "    while elem is not None:\n",
        "      print(elem.value, end =\", \")\n",
        "      elem = elem.next\n",
        "\n",
        "  def get(self, n):\n",
        "    counter = 0\n",
        "    elem = self.first\n",
        "    while counter \u003c n:\n",
        "      # If a None type is hit, raise a ValueError.\n",
        "      if elem is None:\n",
        "        raise ValueError(\"Element does not exist at provided index.\")\n",
        "      counter += 1\n",
        "      elem = elem.next\n",
        "    return elem\n",
        "\n",
        "  def insert(self, new, position):\n",
        "    elem = self.get(position)\n",
        "    new.next = elem\n",
        "    if position == 0:\n",
        "      self.first = new\n",
        "    else:\n",
        "      prev = self.get(position - 1)\n",
        "      prev.next = new\n",
        "\n",
        "  def remove(self, position):\n",
        "    if position == 0:\n",
        "      self.first = self.first.next\n",
        "    else:\n",
        "      prev = self.get(position - 1)\n",
        "      prev.next = self.get(position).next\n",
        "\n",
        "  def length(self):\n",
        "    length = 0\n",
        "    elem = self.first\n",
        "    while elem is not None:\n",
        "      length += 1\n",
        "      elem = elem.next\n",
        "    return length"
      ]
    },
    {
      "cell_type": "code",
      "execution_count": null,
      "metadata": {
        "id": "T2_B-1n1pLjy"
      },
      "outputs": [],
      "source": [
        "class WaitingList(LinkedList):\n",
        "\n",
        "  def add_new_caller(self, new):\n",
        "    self.insert(new, self.length())\n",
        "\n",
        "  def serve_caller(self):\n",
        "    self.remove(0)"
      ]
    },
    {
      "cell_type": "code",
      "execution_count": null,
      "metadata": {
        "id": "0UPUQSuzpLj1"
      },
      "outputs": [],
      "source": [
        "class CallbackList(WaitingList):\n",
        "  pass"
      ]
    },
    {
      "cell_type": "code",
      "execution_count": null,
      "metadata": {
        "id": "KtAQvCCefEhL"
      },
      "outputs": [],
      "source": [
        "def transfer_callers_to_callback(waiting_list, threshold, callback_list=None):\n",
        "  # TODO(you): Incorporate the threshold parameter into the function.\n",
        "\n",
        "  if not isinstance(threshold, int) or threshold \u003c= 0:\n",
        "    raise ValueError(\"Threshold must be a positive integer.\")\n",
        "\n",
        "  # Only do anything if the waiting list is above 5.\n",
        "  if waiting_list.length() \u003e 5:\n",
        "\n",
        "    # Find the 6th caller of the waiting list. All callers after will be moved\n",
        "    # to the callback list.\n",
        "    caller6 = waiting_list.get(5)\n",
        "\n",
        "    # Remove all callers after the 5th caller.\n",
        "    caller5 = waiting_list.get(4)\n",
        "    caller5.next = None\n",
        "    \n",
        "    if callback_list is None:\n",
        "      # If there is no input CallbackList, create a new one.\n",
        "      callback_list = CallbackList()\n",
        "      callback_list.first = caller6\n",
        "    else:\n",
        "      # Otherwise, add the 6th caller to the callback list.\n",
        "      last = callback_list.get(callback_list.length() - 1)\n",
        "      last.next = caller6\n",
        "\n",
        "  return callback_list"
      ]
    },
    {
      "cell_type": "markdown",
      "metadata": {
        "id": "7RA6SIEde_6t"
      },
      "source": [
        "### Unit Tests\n",
        "\n",
        "Run the following cell to check your answer against some unit tests."
      ]
    },
    {
      "cell_type": "code",
      "execution_count": null,
      "metadata": {
        "id": "uEY-nWfLfSZj"
      },
      "outputs": [],
      "source": [
        "waiting_list = WaitingList()\n",
        "\n",
        "waiting_list.add_new_caller(LinkedListElement(\"Caller 1\"))\n",
        "waiting_list.add_new_caller(LinkedListElement(\"Caller 2\"))\n",
        "waiting_list.add_new_caller(LinkedListElement(\"Caller 3\"))\n",
        "waiting_list.add_new_caller(LinkedListElement(\"Caller 4\"))\n",
        "waiting_list.add_new_caller(LinkedListElement(\"Caller 5\"))\n",
        "waiting_list.add_new_caller(LinkedListElement(\"Caller 6\"))\n",
        "\n",
        "callback_list = transfer_callers_to_callback(waiting_list, 4)\n",
        "\n",
        "print(callback_list.length())\n",
        "# Should print: 2\n",
        "print(waiting_list.length())\n",
        "# Should print: 4"
      ]
    },
    {
      "cell_type": "markdown",
      "metadata": {
        "id": "b5sp8gobwdLX"
      },
      "source": [
        "### Solution"
      ]
    },
    {
      "cell_type": "markdown",
      "metadata": {
        "id": "ypLDjua42a8q"
      },
      "source": [
        "We should replace all instances of 5 with `threshold`, and rename the relevant variables."
      ]
    },
    {
      "cell_type": "code",
      "execution_count": null,
      "metadata": {
        "id": "1R7RcYHSbMNv"
      },
      "outputs": [],
      "source": [
        "def transfer_callers_to_callback(waiting_list, threshold, callback_list=None):\n",
        "\n",
        "  if not isinstance(threshold, int) or threshold \u003c= 0:\n",
        "    raise ValueError(\"Threshold must be a positive integer.\")\n",
        "\n",
        "  # Only do anything if the waiting list is above the threshold.\n",
        "  if waiting_list.length() \u003e threshold:\n",
        "\n",
        "    # Find the (n+1)th caller of the waiting list. All callers after will be\n",
        "    # moved to the callback list.\n",
        "    next_caller = waiting_list.get(threshold)\n",
        "\n",
        "    # Remove all callers after the nth caller.\n",
        "    nth_caller = waiting_list.get(threshold - 1)\n",
        "    nth_caller.next = None\n",
        "    \n",
        "    if callback_list is None:\n",
        "      # If there is no input CallbackList, create a new one.\n",
        "      callback_list = CallbackList()\n",
        "      callback_list.first = next_caller\n",
        "    else:\n",
        "      # Otherwise, add the (n+1)th caller to the callback list.\n",
        "      last = callback_list.get(callback_list.length() - 1)\n",
        "      last.next = next_caller\n",
        "\n",
        "  return callback_list"
      ]
    }
  ],
  "metadata": {
    "colab": {
      "collapsed_sections": [
        "09TrNuHfETiO",
        "uxbaPC-YF4A-",
        "ScSfn3YbHcNp",
        "vJMvKQ2LIHtQ",
        "xgI9FGnx5tVb",
        "U34hQGB97HWZ",
        "ji7yfNtv7PKV",
        "gEgJbQSi7amP",
        "G0_NZRof8ecy",
        "UtwjqPen9Ev7",
        "hlXSnG5l94l_",
        "NDEfbzcXKNkh",
        "kCQzXISYN4I5",
        "hE8N9FltOAiO",
        "ed-2vh6dsBvX",
        "qDfApp_hrwtX",
        "kR7upt7L4nR3",
        "JYlo3Ucf19Co",
        "ArnGYA-VtJI0",
        "TS5VpBL-J-k_",
        "m8qJFntzJtBm",
        "a599_rboqb_n",
        "JpLWVmV4KOqJ",
        "yPgtuzhpKIYC",
        "sj5BGIviT778",
        "viVCRCY6LNFg",
        "V1uyPClEWMFO",
        "Om1UE6UsLfuC",
        "7RA6SIEde_6t",
        "b5sp8gobwdLX"
      ],
      "name": "linked_lists.ipynb",
      "provenance": [ ]
    },
    "kernelspec": {
      "display_name": "Python 3",
      "name": "python3"
    }
  },
  "nbformat": 4,
  "nbformat_minor": 0
}
