{
  "cells": [
    {
      "cell_type": "markdown",
      "metadata": {
        "id": "GFSd1QNJ3tDI"
      },
      "source": [
        "# Comparing Sorting Algorithms"
      ]
    },
    {
      "cell_type": "markdown",
      "metadata": {
        "id": "s2eAqNmxMmQt"
      },
      "source": [
        "## Lesson Overview"
      ]
    },
    {
      "cell_type": "markdown",
      "metadata": {
        "id": "PVYbsADyMnMd"
      },
      "source": [
        "Now that you have seen the most commonly used sorting algorithms, it is important to know the advantages and disadvantages of each algorithm, in terms of:\n",
        "\n",
        "- Time complexity\n",
        "- Space complexity\n",
        "- Code complexity"
      ]
    },
    {
      "cell_type": "markdown",
      "metadata": {
        "id": "d3OpZr-FNHOJ"
      },
      "source": [
        "The questions in this lesson ask you to compare the sorting algorithms you have seen, in order to know which algorithm is appropriate to use for different problems."
      ]
    },
    {
      "cell_type": "markdown",
      "metadata": {
        "id": "7f4riG-1zuCG"
      },
      "source": [
        "## Question"
      ]
    },
    {
      "cell_type": "markdown",
      "metadata": {
        "id": "N_P2X41TzzUE"
      },
      "source": [
        "Fill out the following table of time and space complexities. The complexities should be expressed using big-O notation."
      ]
    },
    {
      "cell_type": "markdown",
      "metadata": {
        "id": "FmG4A-jH4BHf"
      },
      "source": [
        "**Algorithm**  | **Average time** | **Best case time** | **Worst case time** | **Space**\n",
        "--- | --- | --- | --- | ---\n",
        "Bubble sort | | | |\n",
        "Insertion sort | | | |\n",
        "Merge sort | | | |\n",
        "Quicksort | | | |\n",
        "Selection sort | | | |"
      ]
    },
    {
      "cell_type": "code",
      "execution_count": null,
      "metadata": {
        "id": "5dCh0GgB4Ble"
      },
      "outputs": [],
      "source": [
        "#freetext"
      ]
    },
    {
      "cell_type": "markdown",
      "metadata": {
        "id": "a-1AbJxY1cn2"
      },
      "source": [
        "### Solution"
      ]
    },
    {
      "cell_type": "markdown",
      "metadata": {
        "id": "9rB0Xoxd1e9V"
      },
      "source": [
        "Some of these complexities, such as the [space complexity of quicksort](https://stackoverflow.com/questions/12573330/why-does-quicksort-use-ologn-extra-space), depend on the implementation."
      ]
    },
    {
      "cell_type": "markdown",
      "metadata": {
        "id": "CKnJGSOt4FC-"
      },
      "source": [
        "**Algorithm**  | **Average time** | **Worst case time** | **Best case time** | **Space (all cases)**\n",
        "--- | --- | --- | --- | ---\n",
        "Bubble sort | $O(n^2)$ | $O(n^2)$ | $O(n)$ | $O(1)$\n",
        "Insertion sort | $O(n^2)$ | $O(n^2)$ | $O(n)$ | $O(1)$\n",
        "Merge sort | $O(n\\log(n))$ | $O(n\\log(n))$ | $O(n\\log(n))$ | $O(n)$\n",
        "Quicksort | $O(n\\log(n))$ | $O(n^2)$ | $O(n\\log(n))$ | $O(\\log(n))$\n",
        "Selection sort | $O(n^2)$ | $O(n^2)$ | $O(n^2)$ | $O(1)$"
      ]
    },
    {
      "cell_type": "markdown",
      "metadata": {
        "id": "KyaJoO3A7vsC"
      },
      "source": [
        "## Question"
      ]
    },
    {
      "cell_type": "markdown",
      "metadata": {
        "id": "gYB2WjkZ7xQq"
      },
      "source": [
        "Identify each of the following sorting algorithms, based on the state of the array after each iteration, as one of the following:\n",
        "\n",
        "- Bubble sort\n",
        "- Insertion sort\n",
        "- Merge sort\n",
        "- Quicksort\n",
        "- Selection sort"
      ]
    },
    {
      "cell_type": "markdown",
      "metadata": {
        "id": "-LtgMUz34KeV"
      },
      "source": [
        "The input array is [4, 2, 5, 4, 8, 1].\n",
        "\n",
        "**Iteration** | **Algorithm 1** | **Algorithm 2** | **Algorithm 3** | **Algorithm 4** | **Algorithm 5**\n",
        "--- | --- | --- | --- | --- | ---\n",
        "0 | [] | [4] [2] [5] [4] [8] [1] | [2, 4, 4, 5, 1, 8] | [] | [2, 4, 1, 4, 5, 8]\n",
        "1 | [4] | [2, 4] [4, 5] [1, 8] | [2, 4, 4, 1, 5, 8] | [1] | [1, 2, 4, 4, 5, 8]\n",
        "2 | [2, 4] | [2, 4, 4, 5] [1, 8] | [2, 4, 1, 4, 5, 8] | [1, 2] |\n",
        "3 | [2, 4, 5] | [1, 2, 4, 4, 5, 8] | [2, 1, 4, 4, 5, 8] | [1, 2, 4] |\n",
        "4 | [2, 4, 4, 5] |  |  | [1, 2, 4, 4] |\n",
        "5 | [2, 4, 4, 5, 8] |  | | [1, 2, 4, 4, 5] |\n",
        "6 | [1, 2, 4, 4, 5, 8] | | | [1, 2, 4, 4, 5, 8] |"
      ]
    },
    {
      "cell_type": "markdown",
      "metadata": {
        "id": "b5k7W2QrKvZB"
      },
      "source": [
        "### Solution"
      ]
    },
    {
      "cell_type": "markdown",
      "metadata": {
        "id": "mA_1rbxJKwNg"
      },
      "source": [
        "1. Insertion sort\n",
        "\n",
        "   A key indicator here is that the first iteration is an empty array, so the algorithm is either insertion or selection sort. At each iteration, the left-most element of the input array is moved to the output array and inserted at the right point.\n",
        "\n",
        "1. Merge sort\n",
        "\n",
        "   Merge sort looks different from other algorithms in that it divides the input into singleton arrays then merges them back together.\n",
        "\n",
        "1. Bubble sort\n",
        "\n",
        "   The array length remains the same at each iteration, as elements are swapped. A notable feature of bubble sort is that at each iteration, the next highest element is moved to the right. For example, 8 is moved to the right after iteration 0, then 5 in iteration 1, then 4 in iteration 2, and so on.\n",
        "\n",
        "1. Selection sort\n",
        "\n",
        "   Like insertion sort, selection sort is characterized by adding elements to an output array one by one. While insertion sort moves the left-most element of the input array, selection sort moves the minimum element of the input array.\n",
        "\n",
        "1. Quicksort\n",
        "\n",
        "   This is one of the trickiest to categorize, when the pivot at each iteration is not easy to spot. However, quicksort can be deduced by the process of elimination, since the array length stays the same at each iteration, but is much quicker than bubble sort."
      ]
    },
    {
      "cell_type": "markdown",
      "metadata": {
        "id": "QiHsnRUxy0nq"
      },
      "source": [
        "## Question"
      ]
    },
    {
      "cell_type": "markdown",
      "metadata": {
        "id": "OLism73ipj_F"
      },
      "source": [
        "One of the clients you work with is a grocery chain *QuickShop*, and the IT department there relies on sorting algorithms to sort its employees (e.g. by name, start date, salary) and products (e.g. by price, units sold, expiration date). "
      ]
    },
    {
      "cell_type": "markdown",
      "metadata": {
        "id": "jBRZnuGnhtb_"
      },
      "source": [
        "The IT department at *QuickShop* currently uses bubble sort to do this, but the head of IT is pushing for the company to use merge sort instead, since merge sort is $O(n\\log(n))$, and therefore more time efficient than bubble sort which is $O(n^2)$. The code for both of these algorithms is given here."
      ]
    },
    {
      "cell_type": "markdown",
      "metadata": {
        "id": "aF4bpTmiErMP"
      },
      "source": [
        "**Bubble sort**"
      ]
    },
    {
      "cell_type": "code",
      "execution_count": null,
      "metadata": {
        "id": "iIYvBwfqq1-6"
      },
      "outputs": [],
      "source": [
        "#persistent\n",
        "def bubble_sort(arr):\n",
        "  \"\"\"Sorts an array of integers in ascending order.\"\"\"\n",
        "  output = arr.copy()\n",
        "  n = len(arr)\n",
        "\n",
        "  for i in range(n-1):\n",
        "    no_swaps = True # indicates whether any swaps were made\n",
        "\n",
        "    # Only need to check the sub-array arr[:(n-i)].\n",
        "    for j in range(n-i-1):\n",
        "      if output[j+1] \u003c output[j]:\n",
        "        # Swap the elements if out of order.\n",
        "        output[j], output[j+1] = output[j+1], output[j]\n",
        "        no_swaps = False\n",
        "\n",
        "    # If no single pairs are swapped, the array is sorted.\n",
        "    if no_swaps:\n",
        "      break\n",
        "  \n",
        "  return output"
      ]
    },
    {
      "cell_type": "markdown",
      "metadata": {
        "id": "8id9WCZxEtA5"
      },
      "source": [
        "**Merge sort**"
      ]
    },
    {
      "cell_type": "code",
      "execution_count": null,
      "metadata": {
        "id": "1CIFofI2q5J6"
      },
      "outputs": [],
      "source": [
        "#persistent\n",
        "def merge(arr1, arr2):\n",
        "  \"\"\"Merges two sorted arrays into one such that the final array is sorted.\"\"\"\n",
        "  \n",
        "  output = []\n",
        "  i, j = 0, 0\n",
        "  \n",
        "  # Loop through arr1 and arr2 for indices that are in common.\n",
        "  while i \u003c len(arr1) and j \u003c len(arr2):\n",
        "    # Add the smaller element to the output.\n",
        "    if arr1[i] \u003c arr2[j]:\n",
        "      output.append(arr1[i])\n",
        "      i += 1\n",
        "    else:\n",
        "      output.append(arr2[j])\n",
        "      j += 1\n",
        "  \n",
        "  # Add the rest of arr1, if any, (which is already sorted) to output.\n",
        "  while i \u003c len(arr1):\n",
        "    output.append(arr1[i])\n",
        "    i += 1\n",
        "  \n",
        "  # Add the rest of arr2, if any, (which is already sorted) to output.\n",
        "  while j \u003c len(arr2):\n",
        "    output.append(arr2[j])\n",
        "    j += 1\n",
        "  \n",
        "  return output\n",
        "\n",
        "\n",
        "def merge_sort(arr):\n",
        "  \"\"\"Sorts an array of integers in ascending order.\"\"\"\n",
        "  if len(arr) \u003c 2:\n",
        "    return arr\n",
        "\n",
        "  # Split the array into two.\n",
        "  midpoint = len(arr) // 2\n",
        "  left = arr[:midpoint]\n",
        "  right = arr[midpoint:]\n",
        "\n",
        "  # Merge the arrays recursively.\n",
        "  return merge(merge_sort(left), merge_sort(right))"
      ]
    },
    {
      "cell_type": "markdown",
      "metadata": {
        "id": "ZTZOJ4u3EoH4"
      },
      "source": [
        "In order to transition from bubble sort to merge sort, the head of IT has to demonstrate to the Chief Technology Officer (CTO) that merge sort is indeed faster than bubble sort, not just theoretically but in practice. To do this, the head of IT has written some code to generate a random list of length `n` and report the runtime for bubble sort and merge sort."
      ]
    },
    {
      "cell_type": "code",
      "execution_count": null,
      "metadata": {
        "id": "mv1lI5UIq-x2"
      },
      "outputs": [],
      "source": [
        "import random\n",
        "import time\n",
        "\n",
        "\n",
        "def compare_runtimes(n, a=0, b=999):\n",
        "  \"\"\"Runtimes for bubble sort and merge_sort for a random n-length arrays.\"\"\"\n",
        "  random_list = [random.randint(a, b) for _ in range(n)]\n",
        "\n",
        "  bubble_start = time.process_time()\n",
        "  bubble_sorted = bubble_sort(random_list)\n",
        "  bubble_time = time.process_time() - bubble_start\n",
        "\n",
        "  merge_start = time.process_time()\n",
        "  merge_sorted = merge_sort(random_list)\n",
        "  merge_time = time.process_time() - merge_start\n",
        "\n",
        "  return (bubble_time, merge_time)"
      ]
    },
    {
      "cell_type": "markdown",
      "metadata": {
        "id": "f9DNiow1FbQJ"
      },
      "source": [
        "This function can then be used to compare the runtime of bubble sort and merge sort for a random array."
      ]
    },
    {
      "cell_type": "code",
      "execution_count": null,
      "metadata": {
        "id": "O0YgHvtjsySc"
      },
      "outputs": [],
      "source": [
        "bubble_time, merge_time = compare_runtimes(100)\n",
        "\n",
        "print('Bubble sort takes %f seconds. Merge sort takes %f seconds.' %\n",
        "      (bubble_time, merge_time))"
      ]
    },
    {
      "cell_type": "markdown",
      "metadata": {
        "id": "s9DrATcgF6Kx"
      },
      "source": [
        "To make this more robust, the head of IT wants to generalize this. She wants to have `n_iters` random runs of `compare_runtimes` and calculate the mean runtime of all of the runs for bubble sort and merge sort. Can you modify `compare_runtimes` to accept an `n_iters` parameter and return the mean runtime over `n_iters` iterations?"
      ]
    },
    {
      "cell_type": "code",
      "execution_count": null,
      "metadata": {
        "id": "2meFZhtCJKV9"
      },
      "outputs": [],
      "source": [
        "import random\n",
        "import time\n",
        "\n",
        "\n",
        "def mean(arr):\n",
        "  \"\"\"Mean of an array.\"\"\"\n",
        "  return 1.0 * sum(arr) / len(arr)\n",
        "\n",
        "\n",
        "def compare_runtimes(n, n_iters, a=0, b=999):\n",
        "  \"\"\"Mean runtime of n_iters random n-arrays of bubble sort and merge sort.\"\"\"\n",
        "  # TODO(you): Modify this function to return the mean over n_iters iterations,\n",
        "  # instead of just one iteration.\n",
        "  random_list = [random.randint(a, b) for _ in range(n)]\n",
        "\n",
        "  bubble_start = time.process_time()\n",
        "  bubble_sorted = bubble_sort(random_list)\n",
        "  bubble_time = time.process_time() - bubble_start\n",
        "\n",
        "  merge_start = time.process_time()\n",
        "  merge_sorted = merge_sort(random_list)\n",
        "  merge_time = time.process_time() - merge_start\n",
        "\n",
        "  return (bubble_time, merge_time)"
      ]
    },
    {
      "cell_type": "markdown",
      "metadata": {
        "id": "oqgCJtM4y_b7"
      },
      "source": [
        "### Solution"
      ]
    },
    {
      "cell_type": "markdown",
      "metadata": {
        "id": "biy5xO5nK3VC"
      },
      "source": [
        "You can do this by:\n",
        "\n",
        "1. Moving the original function code to within a `for _ in range(n_iters)` loop.\n",
        "2. Instead of returning the runtime, append it to a list of bubble/merge runtimes.\n",
        "3. Return the mean of each runtime array."
      ]
    },
    {
      "cell_type": "code",
      "execution_count": null,
      "metadata": {
        "id": "7Na2KsbQK3z7"
      },
      "outputs": [],
      "source": [
        "import random\n",
        "import time\n",
        "\n",
        "\n",
        "def mean(arr):\n",
        "  \"\"\"Mean of an array.\"\"\"\n",
        "  return 1.0 * sum(arr) / len(arr)\n",
        "\n",
        "\n",
        "def compare_runtimes(n, n_iters, a=0, b=999):\n",
        "  \"\"\"Mean runtime of n_iters random n-arrays of bubble sort and merge sort.\"\"\"\n",
        "  bubble_times = []\n",
        "  merge_times = []\n",
        "\n",
        "  for _ in range(n_iters):\n",
        "    random_list = [random.randint(a, b) for _ in range(n)]\n",
        "\n",
        "    bubble_start = time.process_time()\n",
        "    bubble_sorted = bubble_sort(random_list)\n",
        "    bubble_times.append(time.process_time() - bubble_start)\n",
        "\n",
        "    merge_start = time.process_time()\n",
        "    merge_sorted = merge_sort(random_list)\n",
        "    merge_times.append(time.process_time() - merge_start)\n",
        "\n",
        "  return (mean(bubble_times), mean(merge_times))"
      ]
    },
    {
      "cell_type": "code",
      "execution_count": null,
      "metadata": {
        "id": "9rJ2nt4RMuey"
      },
      "outputs": [],
      "source": [
        "# Mean runtime over 1000 iterations for 100-arrays, for bubble and merge sort.\n",
        "compare_runtimes(100, 1000)"
      ]
    },
    {
      "cell_type": "markdown",
      "metadata": {
        "id": "XUeS7GLfNQLC"
      },
      "source": [
        "Based on the above code, it seems like merge sort outperforms bubble sort on average, at least for arrays of length 100."
      ]
    },
    {
      "cell_type": "markdown",
      "metadata": {
        "id": "vhrCH5jEy3Xc"
      },
      "source": [
        "## Question"
      ]
    },
    {
      "cell_type": "markdown",
      "metadata": {
        "id": "te0WIsTRM5XG"
      },
      "source": [
        "The head of IT can now show the CTO how the average runtime of bubble sort compares to merge sort for a given array length. Now, she wants to be able to show how this changes for different array lengths. She has decided that a visualization is the most appropriate way to show this."
      ]
    },
    {
      "cell_type": "markdown",
      "metadata": {
        "id": "YYp3-Rfw4yXa"
      },
      "source": [
        "Given the new `compare_runtimes` function you helped her with in the previous question, she has written some code to plot how the mean runtime changes as the input array length changes. (The first two code cells are the solution to the previous problem. The third code cell contains the new code.)"
      ]
    },
    {
      "cell_type": "code",
      "execution_count": null,
      "metadata": {
        "id": "I_a8Q7wUyxe6"
      },
      "outputs": [],
      "source": [
        "#persistent\n",
        "import random\n",
        "import time\n",
        "\n",
        "\n",
        "def mean(arr):\n",
        "  \"\"\"Mean of an array.\"\"\"\n",
        "  return 1.0 * sum(arr) / len(arr)\n",
        "\n",
        "\n",
        "def compare_runtimes(n, n_iters, a=0, b=999):\n",
        "  \"\"\"Mean runtime of n_iters random n-arrays of bubble sort and merge sort.\"\"\"\n",
        "  bubble_times = []\n",
        "  merge_times = []\n",
        "\n",
        "  for _ in range(n_iters):\n",
        "    random_list = [random.randint(a, b) for _ in range(n)]\n",
        "\n",
        "    bubble_start = time.process_time()\n",
        "    bubble_sorted = bubble_sort(random_list)\n",
        "    bubble_times.append(time.process_time() - bubble_start)\n",
        "\n",
        "    merge_start = time.process_time()\n",
        "    merge_sorted = merge_sort(random_list)\n",
        "    merge_times.append(time.process_time() - merge_start)\n",
        "\n",
        "  return (mean(bubble_times), mean(merge_times))"
      ]
    },
    {
      "cell_type": "code",
      "execution_count": null,
      "metadata": {
        "id": "8WZtfFqNyxfJ"
      },
      "outputs": [],
      "source": [
        "# Mean runtime over 1000 iterations for 100-arrays, for bubble and merge sort.\n",
        "compare_runtimes(100, 1000)"
      ]
    },
    {
      "cell_type": "code",
      "execution_count": null,
      "metadata": {
        "id": "GxZyhHIcPJdn"
      },
      "outputs": [],
      "source": [
        "# This code cell takes a few seconds to run.\n",
        "\n",
        "import matplotlib.pyplot as plt\n",
        "\n",
        "\n",
        "mean_bubble_times = []\n",
        "mean_merge_times = []\n",
        "x_range = range(10, 50)\n",
        "n_iters = 100\n",
        "\n",
        "for n in x_range:\n",
        "  mean_bubble_time, mean_merge_time = compare_runtimes(n, n_iters)\n",
        "  mean_bubble_times.append(mean_bubble_time)\n",
        "  mean_merge_times.append(mean_merge_time)\n",
        "\n",
        "\n",
        "plt.plot(x_range, mean_bubble_times, label='bubble')\n",
        "plt.plot(x_range, mean_merge_times, label='merge')\n",
        "plt.xlabel('length of array')\n",
        "plt.ylabel('CPU runtime (seconds)')\n",
        "plt.legend()\n",
        "plt.show()"
      ]
    },
    {
      "cell_type": "markdown",
      "metadata": {
        "id": "9tvZ-LwgQVOf"
      },
      "source": [
        "This is exactly the opposite to what the head of IT wanted to see! Bubble sort, with a time complexity of $O(n^2)$ seems to be consistently quicker than merge sort, with a time complexity of $O(n\\log(n))$. The head of IT has asked you to help her \"fix\" this graph. Can you help her?"
      ]
    },
    {
      "cell_type": "markdown",
      "metadata": {
        "id": "0ny_NkaYzAM8"
      },
      "source": [
        "### Solution"
      ]
    },
    {
      "cell_type": "markdown",
      "metadata": {
        "id": "DCc-6JkPQtBB"
      },
      "source": [
        "In general, for two functions of *n*, *f* and *g*, if *f* has a lower time complexity than *g*, that does *not* necessarily imply that it has a faster runtime for a specific value of *n*. What it implies is that as *n* increases, the runtime of *f* will grow less quickly than the runtime of *g*."
      ]
    },
    {
      "cell_type": "markdown",
      "metadata": {
        "id": "YRwwfGQ35lBI"
      },
      "source": [
        "You might be able to see that in the graph presented to you by the head of IT, even though bubble sort appears to have a faster runtime than merge sort for all array lengths, the gap appears to be closing as $n$ increases. Let's see what happens when we increase `x_range` to values up to 100. "
      ]
    },
    {
      "cell_type": "code",
      "execution_count": null,
      "metadata": {
        "id": "7JFlHG8ASFLa"
      },
      "outputs": [],
      "source": [
        "# This code cell takes a few seconds to run.\n",
        "\n",
        "mean_bubble_times = []\n",
        "mean_merge_times = []\n",
        "x_range = range(10, 100)\n",
        "n_iters = 100\n",
        "\n",
        "for n in x_range:\n",
        "  mean_bubble_time, mean_merge_time = compare_runtimes(n, n_iters)\n",
        "  mean_bubble_times.append(mean_bubble_time)\n",
        "  mean_merge_times.append(mean_merge_time)"
      ]
    },
    {
      "cell_type": "code",
      "execution_count": null,
      "metadata": {
        "id": "rge3KszxSFLd"
      },
      "outputs": [],
      "source": [
        "import matplotlib.pyplot as plt\n",
        "\n",
        "\n",
        "plt.plot(x_range, mean_bubble_times, label='bubble')\n",
        "plt.plot(x_range, mean_merge_times, label='merge')\n",
        "plt.xlabel('length of array')\n",
        "plt.ylabel('CPU runtime (seconds)')\n",
        "plt.legend()\n",
        "plt.show()"
      ]
    },
    {
      "cell_type": "markdown",
      "metadata": {
        "id": "UglKq8nhSPGz"
      },
      "source": [
        "Finally! Merge sort seems to be outperforming bubble sort in terms of runtime, for larger values of $n$. Let's push this to 200. (Increasing to more than 200 takes a long time to run.)"
      ]
    },
    {
      "cell_type": "code",
      "execution_count": null,
      "metadata": {
        "id": "RENOcGdcSZaB"
      },
      "outputs": [],
      "source": [
        "# This code cell takes a few seconds to run.\n",
        "\n",
        "mean_bubble_times = []\n",
        "mean_merge_times = []\n",
        "x_range = range(10, 200)\n",
        "n_iters = 100\n",
        "\n",
        "for n in x_range:\n",
        "  mean_bubble_time, mean_merge_time = compare_runtimes(n, n_iters)\n",
        "  mean_bubble_times.append(mean_bubble_time)\n",
        "  mean_merge_times.append(mean_merge_time)"
      ]
    },
    {
      "cell_type": "code",
      "execution_count": null,
      "metadata": {
        "id": "xBEJLv1fSZaH"
      },
      "outputs": [],
      "source": [
        "import matplotlib.pyplot as plt\n",
        "\n",
        "\n",
        "plt.plot(x_range, mean_bubble_times, label='bubble')\n",
        "plt.plot(x_range, mean_merge_times, label='merge')\n",
        "plt.xlabel('length of array')\n",
        "plt.ylabel('CPU runtime (seconds)')\n",
        "plt.legend()\n",
        "plt.show()"
      ]
    },
    {
      "cell_type": "markdown",
      "metadata": {
        "id": "3yNah1IkSpjM"
      },
      "source": [
        "This graph shows clearly that merge sort has a lower runtime than bubble sort at large values of $n$. The \"crossover\" (where the runtimes are approximately equal) occurs at about $n=60$, and from then on, the runtime of bubble sort grows significantly more quickly than that of merge sort.\n",
        "\n",
        "When the head of IT shows the CTO of *QuickShop* this graph, the leadership is convinced that choosing merge sort over bubble sort will save time and computational resources going forward, so the company decides to go ahead with the transition."
      ]
    }
  ],
  "metadata": {
    "colab": {
      "collapsed_sections": [],
      "name": "comparing_sorting_algorithms.ipynb",
      "private_outputs": true,
      "provenance": [ ]
    },
    "kernelspec": {
      "display_name": "Python 3",
      "name": "python3"
    }
  },
  "nbformat": 4,
  "nbformat_minor": 0
}
