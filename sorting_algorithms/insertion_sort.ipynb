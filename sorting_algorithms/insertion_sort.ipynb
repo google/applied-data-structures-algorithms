{
  "cells": [
    {
      "cell_type": "markdown",
      "metadata": {
        "id": "5_USMGQXaApK"
      },
      "source": [
        "# Insertion Sort"
      ]
    },
    {
      "cell_type": "markdown",
      "metadata": {
        "id": "WPswkEc6aCNq"
      },
      "source": [
        "## Lesson Overview"
      ]
    },
    {
      "cell_type": "markdown",
      "metadata": {
        "id": "RvmsLMdEK4xZ"
      },
      "source": [
        "**Insertion sort** is a sorting algorithm that repeatedly removes the first element of the input array and searches for the right place to put it in a sorted output array."
      ]
    },
    {
      "cell_type": "markdown",
      "metadata": {
        "id": "Q0w06rRJ5OMC"
      },
      "source": [
        "\u003e The average case time complexity of insertion sort is $O(n^2)$."
      ]
    },
    {
      "cell_type": "markdown",
      "metadata": {
        "id": "V67mX01z5RFx"
      },
      "source": [
        "### Algorithm"
      ]
    },
    {
      "cell_type": "markdown",
      "metadata": {
        "id": "RQWtqHL75Xni"
      },
      "source": [
        "An example implementation of insertion sort is outlined here."
      ]
    },
    {
      "cell_type": "markdown",
      "metadata": {
        "id": "8KIeigzQ6ZJD"
      },
      "source": [
        "0. **Initialize** an output array that will eventually contain all of the elements of the input array, sorted.\n",
        "\n",
        "1. **Insert** the first element of the input array to the output array, inserting it such that the output array maintains ordering. (Ensure to remove the moved element from the input array.)\n",
        "\n",
        "2. **Repeat** the insertion step until the input array is empty."
      ]
    },
    {
      "cell_type": "markdown",
      "metadata": {
        "id": "JIbfTJmj5c3T"
      },
      "source": [
        "**Example**"
      ]
    },
    {
      "cell_type": "markdown",
      "metadata": {
        "id": "XI_dlrDC6SoG"
      },
      "source": [
        "The following table demonstrates sorting the array [2, 1, 4, 5] using insertion sort."
      ]
    },
    {
      "cell_type": "markdown",
      "metadata": {
        "id": "U9_rtBHc5g30"
      },
      "source": [
        "**Iteration** | **Input array** | **Output array**\n",
        "--- | --- | ---\n",
        "0 | [2, 1, 4, 5] | []\n",
        "1 | [1, 4, 5] | [2]\n",
        "2 | [4, 5] | [1, 2]\n",
        "3 | [5] | [1, 2, 4]\n",
        "4 | [] | [1, 2, 4, 5]"
      ]
    },
    {
      "cell_type": "markdown",
      "metadata": {
        "id": "ZYkuukkoUimg"
      },
      "source": [
        "### Space complexity"
      ]
    },
    {
      "cell_type": "markdown",
      "metadata": {
        "id": "xEuyZNDpUlmo"
      },
      "source": [
        "Insertion sort can be implemented either in-place or out-of-place."
      ]
    },
    {
      "cell_type": "markdown",
      "metadata": {
        "id": "FusegFLDUny2"
      },
      "source": [
        "Insertion sort may appear like an out-of-place sorting algorithm since it creates a new output array. However, it does not *copy* the input array, it *moves* elements from the input array to the output array. Insertion sort therefore does not create any *new* storage, so is $O(1)$."
      ]
    },
    {
      "cell_type": "markdown",
      "metadata": {
        "id": "sMFaqHjnm10W"
      },
      "source": [
        "## Question"
      ]
    },
    {
      "cell_type": "markdown",
      "metadata": {
        "id": "zFDbri71aeTR"
      },
      "source": [
        "Most of the heavy lifting in insertion sort comes from finding the right place to insert an element into the sorted array, so let's start there. Write a function that takes in a sorted array along with a new element, and inserts the element in the appropriate place in the array. Your function should not `return` anything, instead it should modify the input array `arr`."
      ]
    },
    {
      "cell_type": "code",
      "execution_count": null,
      "metadata": {
        "id": "qU_qi5V8Nt1u"
      },
      "outputs": [],
      "source": [
        "def insert_into_sorted_array(arr, el):\n",
        "  \"\"\"Inserts an integer el into arr, an array of sorted integers.\"\"\"\n",
        "  # TODO(you): Implement\n",
        "  print('This function has not been implemented.')"
      ]
    },
    {
      "cell_type": "markdown",
      "metadata": {
        "id": "xQOwLQyinlJ9"
      },
      "source": [
        "### Hint"
      ]
    },
    {
      "cell_type": "markdown",
      "metadata": {
        "id": "CADUlmjLnmAE"
      },
      "source": [
        "`arr.insert(el, idx)` inserts the element `el` at index `idx` of an array `arr`."
      ]
    },
    {
      "cell_type": "markdown",
      "metadata": {
        "id": "VH_yY0iqno-F"
      },
      "source": [
        "### Unit Tests\n",
        "\n",
        "Run the following cell to check your answer against some unit tests."
      ]
    },
    {
      "cell_type": "code",
      "execution_count": null,
      "metadata": {
        "id": "ezASxlDIM7cK"
      },
      "outputs": [],
      "source": [
        "arr = []\n",
        "\n",
        "insert_into_sorted_array(arr, 4)\n",
        "print(arr) # Should print: [4]\n",
        "\n",
        "insert_into_sorted_array(arr, 2)\n",
        "print(arr) # Should print: [2, 4]\n",
        "\n",
        "insert_into_sorted_array(arr, 2)\n",
        "print(arr) # Should print: [2, 2, 4]\n",
        "\n",
        "insert_into_sorted_array(arr, 1)\n",
        "print(arr) # Should print: [1, 2, 2, 4]"
      ]
    },
    {
      "cell_type": "markdown",
      "metadata": {
        "id": "exda7mOlMnxh"
      },
      "source": [
        "### Solution"
      ]
    },
    {
      "cell_type": "code",
      "execution_count": null,
      "metadata": {
        "id": "zCDTKwbFM4B3"
      },
      "outputs": [],
      "source": [
        "def insert_into_sorted_array(arr, el):\n",
        "  \"\"\"Inserts an integer el into arr, an array of sorted integers.\"\"\"\n",
        "\n",
        "  # Iterate through arr and insert el at the first position whose value is\n",
        "  # greater than or equal to el. If a value, exit the function.\n",
        "  for i in range(len(arr)):\n",
        "    if el \u003c= arr[i]:\n",
        "      arr.insert(i, el)\n",
        "      return\n",
        "\n",
        "  # If no element was found in arr whose value is greater than or equal to el,\n",
        "  # insert el at the end of arr.\n",
        "  arr.append(el)"
      ]
    },
    {
      "cell_type": "markdown",
      "metadata": {
        "id": "IvxChCt7m_KT"
      },
      "source": [
        "## Question"
      ]
    },
    {
      "cell_type": "markdown",
      "metadata": {
        "id": "q-z56wFNQaMs"
      },
      "source": [
        "What is the big-O time complexity of `insert_into_sorted_array` in the best, average, and worst case?"
      ]
    },
    {
      "cell_type": "code",
      "execution_count": null,
      "metadata": {
        "id": "dHNuCT-pn3Ye"
      },
      "outputs": [],
      "source": [
        "def insert_into_sorted_array(arr, el):\n",
        "  \"\"\"Inserts an integer el into arr, an array of sorted integers.\"\"\"\n",
        "\n",
        "  # Iterate through arr and insert el at the first position whose value is\n",
        "  # greater than or equal to el. If a value, exit the function.\n",
        "  for i in range(len(arr)):\n",
        "    if el \u003c= arr[i]:\n",
        "      arr.insert(i, el)\n",
        "      return\n",
        "\n",
        "  # If no element was found in arr whose value is greater than or equal to el,\n",
        "  # insert el at the end of arr.\n",
        "  arr.append(el)"
      ]
    },
    {
      "cell_type": "code",
      "execution_count": null,
      "metadata": {
        "id": "LAcIXU9D5uPk"
      },
      "outputs": [],
      "source": [
        "#freetext"
      ]
    },
    {
      "cell_type": "markdown",
      "metadata": {
        "id": "cxyAfkJsnKUg"
      },
      "source": [
        "### Solution"
      ]
    },
    {
      "cell_type": "markdown",
      "metadata": {
        "id": "h2HBefN3Q52X"
      },
      "source": [
        "All of the operations in the function are $O(1)$, so the complexity is the number of iterations before `return` is called. Let $n$ be the length of the input array.\n",
        "\n",
        "In the trivial case, `len(arr) == 0`, and the function does not requires 0 iterations, so is $O(1)$.\n",
        "\n",
        "In the best non-trivial case, the element being added is less than the first element of the sorted array, so `el \u003c= arr[0]`. This case requires only 1 iteration, so is $O(1)$.\n",
        "\n",
        "In the worst case, the element being added is greater than the maximum element of the sorted array, so `el \u003e arr[i]` for all `i`. This case requires $n$ iterations *plus* the final append, which is equivalent to $n+1$ iterations, which is $O(n)$.\n",
        "\n",
        "Remember that the average case complexity is the mean complexity averaged over all possible insertion indices. If `el` is inserted at index 0, it requires 1 iteration. If `el` is inserted at index 1, it requires 2 iterations. If `el` is inserted at index 3, it requires 3 iterations, and so on. If `el` is inserted at position $n-1$, it requires $n$ iterations. If `el` is appended to the end of the array, it effectively requires $n+1$ iterations. This is equivalent to taking the mean of the integers between 1 and $n+1$. We have\n",
        "\n",
        "\\begin{align*}\n",
        "\\frac{1}{n+1} \\sum\\limits_{i=1}^{n+1} i \u0026= \\frac{1}{n+1} \\frac{(n+2)(n+1)}{2} \\\\\n",
        "\u0026= \\frac{n+2}{2} \\\\\n",
        "\u0026= \\frac{1}{2} n + 1 \\\\\n",
        "\u0026= O(n), \\\\\n",
        "\\end{align*}\n",
        "\n",
        "where the first equality comes from the [formula for an arithmetic sum](https://en.wikipedia.org/wiki/1_%2B_2_%2B_3_%2B_4_%2B_%E2%8B%AF).\n",
        "\n",
        "Therefore, the average case complexity, like the worst case, is $O(n)$, while the best case is $O(1)$. For this function, the average case number of iterations, $\\frac{n+2}{2}$, is equal to half way between the best case number of iterations, 1, and the worst case number of iterations, $n+1$."
      ]
    },
    {
      "cell_type": "markdown",
      "metadata": {
        "id": "FjR0u4dpnAqA"
      },
      "source": [
        "## Question"
      ]
    },
    {
      "cell_type": "markdown",
      "metadata": {
        "id": "bdW-Xk6IwfQe"
      },
      "source": [
        "Use `insert_into_sorted_array` to implement insertion sort."
      ]
    },
    {
      "cell_type": "code",
      "execution_count": null,
      "metadata": {
        "id": "Ock5ZiAsoPOu"
      },
      "outputs": [],
      "source": [
        "#persistent\n",
        "def insert_into_sorted_array(arr, el):\n",
        "  \"\"\"Inserts an integer el into arr, an array of sorted integers.\"\"\"\n",
        "\n",
        "  # Iterate through arr and insert el at the first position whose value is\n",
        "  # greater than or equal to el. If a value, exit the function.\n",
        "  for i in range(len(arr)):\n",
        "    if el \u003c= arr[i]:\n",
        "      arr.insert(i, el)\n",
        "      return\n",
        "\n",
        "  # If no element was found in arr whose value is greater than or equal to el,\n",
        "  # insert el at the end of arr.\n",
        "  arr.append(el)"
      ]
    },
    {
      "cell_type": "code",
      "execution_count": null,
      "metadata": {
        "id": "a4uqASBZwpE5"
      },
      "outputs": [],
      "source": [
        "def insertion_sort(arr):\n",
        "  \"\"\"Sorts an array of integers in ascending order.\"\"\"\n",
        "  # TODO(you): Implement\n",
        "  print('This function has not been implemented.')"
      ]
    },
    {
      "cell_type": "markdown",
      "metadata": {
        "id": "CMv4NirTGTAh"
      },
      "source": [
        "### Hint"
      ]
    },
    {
      "cell_type": "markdown",
      "metadata": {
        "id": "1cb3w4_dGT3T"
      },
      "source": [
        "Use the `pop` method to repeatedly remove the first element of the input array into the output array. Call `insert_into_sorted_array` to add the popped element to the output array such that the output array maintains order."
      ]
    },
    {
      "cell_type": "markdown",
      "metadata": {
        "id": "GwaSDtjvoTGx"
      },
      "source": [
        "### Unit Tests\n",
        "\n",
        "Run the following cell to check your answer against some unit tests."
      ]
    },
    {
      "cell_type": "code",
      "execution_count": null,
      "metadata": {
        "id": "7eIU8jQG5ac-"
      },
      "outputs": [],
      "source": [
        "print(insertion_sort([2, 1, 4, 5, 2, 3, 7, 6]))\n",
        "# Should print: [1, 2, 2, 3, 4, 5, 6, 7]"
      ]
    },
    {
      "cell_type": "markdown",
      "metadata": {
        "id": "6LThk8pDnLHQ"
      },
      "source": [
        "### Solution"
      ]
    },
    {
      "cell_type": "markdown",
      "metadata": {
        "id": "ESnayYJH5ALb"
      },
      "source": [
        "Insertion sort loops through each element in the input array and inserts it into the output array by repeatedly calling `insert_into_sorted_array`."
      ]
    },
    {
      "cell_type": "code",
      "execution_count": null,
      "metadata": {
        "id": "TLAS8xDu5AwW"
      },
      "outputs": [],
      "source": [
        "def insertion_sort(arr):\n",
        "  \"\"\"Sorts an array of integers in ascending order.\"\"\"\n",
        "  output = []\n",
        "\n",
        "  while len(arr) \u003e 0:\n",
        "    i = arr.pop(0)\n",
        "    insert_into_sorted_array(output, i)\n",
        "  \n",
        "  return output"
      ]
    },
    {
      "cell_type": "markdown",
      "metadata": {
        "id": "ASIzt5_qnCai"
      },
      "source": [
        "## Question"
      ]
    },
    {
      "cell_type": "markdown",
      "metadata": {
        "id": "hqBvzLexLn_l"
      },
      "source": [
        "What is the big-O time complexity of `insertion_sort`, in the best, average, and worst case? "
      ]
    },
    {
      "cell_type": "markdown",
      "metadata": {
        "id": "_N7EGLkgWkTs"
      },
      "source": [
        "Remember that `insert_into_sorted_array` is $O(n)$ in the worst and average case, and $O(1)$ in the best case."
      ]
    },
    {
      "cell_type": "code",
      "execution_count": null,
      "metadata": {
        "id": "KueIJ7V1olei"
      },
      "outputs": [],
      "source": [
        "def insertion_sort(arr):\n",
        "  \"\"\"Sorts an array of integers in ascending order.\"\"\"\n",
        "  output = []\n",
        "\n",
        "  while len(arr) \u003e 0:\n",
        "    i = arr.pop(0)\n",
        "    insert_into_sorted_array(output, i)\n",
        "  \n",
        "  return output"
      ]
    },
    {
      "cell_type": "code",
      "execution_count": null,
      "metadata": {
        "id": "eHWpBvvr59fn"
      },
      "outputs": [],
      "source": [
        "#freetext"
      ]
    },
    {
      "cell_type": "markdown",
      "metadata": {
        "id": "YwNkyGpmnLxh"
      },
      "source": [
        "### Solution"
      ]
    },
    {
      "cell_type": "markdown",
      "metadata": {
        "id": "_OnjQQTAPE0N"
      },
      "source": [
        "As per a previous question and the hint, `insert_into_sorted_array` is $O(n)$ in the average and worst case, and $O(1)$ in the best case. The implementation of `insertion_sort` is essentially $n$ calls of `insert_into_sorted_array`. Therefore, `insertion_sort` is $O(n)$ in the best case, and $O(n^2)$ in the average and worst case."
      ]
    }
  ],
  "metadata": {
    "colab": {
      "collapsed_sections": [],
      "name": "insertion_sort.ipynb",
      "private_outputs": true,
      "provenance": [ ]
    },
    "kernelspec": {
      "display_name": "Python 3",
      "name": "python3"
    }
  },
  "nbformat": 4,
  "nbformat_minor": 0
}
