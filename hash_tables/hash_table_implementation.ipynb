{
  "cells": [
    {
      "cell_type": "markdown",
      "metadata": {
        "id": "Pic8r3n4AWWu"
      },
      "source": [
        "# Hash Table Implementation"
      ]
    },
    {
      "cell_type": "markdown",
      "metadata": {
        "id": "m4MuVXxeVV_8"
      },
      "source": [
        "## Lesson Overview"
      ]
    },
    {
      "cell_type": "markdown",
      "metadata": {
        "id": "40klIjfB3g0H"
      },
      "source": [
        "To best understand hash tables, it's important to understand their component parts:\n",
        "\n",
        "*   Hash function\n",
        "*   Hash collisions\n",
        "*   Hash collision resolution strategies"
      ]
    },
    {
      "cell_type": "markdown",
      "metadata": {
        "id": "u9ktLPAESNzB"
      },
      "source": [
        "Once you've got a good sense of those, you can begin to put them together into a full implementation of a hash table. That said, this is a step up in complexity, so the potential for bugs becomes greater, as well. For one, most maps/dictionaries (and your hash tables, consequently) don't just store the value in a bucket; they store a combination of three pieces of data:\n",
        " \n",
        "*   the `key`, or the unique identifier for the data being stored\n",
        "*   the `hash_code`, or the result of the hash function run on the key\n",
        "*   the `value`, or the data corresponding to the key being stored"
      ]
    },
    {
      "cell_type": "code",
      "execution_count": null,
      "metadata": {
        "id": "g9ZB2SSMylq2"
      },
      "outputs": [],
      "source": [
        "#persistent\n",
        "class TableEntry:\n",
        "\n",
        "  def __init__(self, hash_code, key, value):\n",
        "    self.hash_code = hash_code\n",
        "    self.key = key\n",
        "    self.value = value"
      ]
    },
    {
      "cell_type": "markdown",
      "metadata": {
        "id": "fRSb4TbxHvVz"
      },
      "source": [
        "### Writing a hash table class"
      ]
    },
    {
      "cell_type": "markdown",
      "metadata": {
        "id": "5KDaElUzx9SO"
      },
      "source": [
        "To build a working `HashTable` class, we'll need a hash function, a way to resolve collisions, and ultimately, a way to put data into the table that makes use of those functions. Here's one possible implementation below."
      ]
    },
    {
      "cell_type": "code",
      "execution_count": null,
      "metadata": {
        "id": "cYprzcTry6DN"
      },
      "outputs": [],
      "source": [
        "# This is the default initial table size for the hash table.\n",
        "INITIAL_TABLE_SIZE = 5\n",
        "\n",
        "class HashTable:\n",
        "\n",
        "  def __init__(self):\n",
        "    self.current_table_size = INITIAL_TABLE_SIZE\n",
        "    # Make INITIAL_TABLE_SIZE buckets for TableEntry instances.\n",
        "    self.buckets = [None] * INITIAL_TABLE_SIZE\n",
        "    # This is a quick shorthand to allow us to check if the bucket currently is\n",
        "    # being used by our hash table.\n",
        "    # It stores booleans: False when the bucket is empty, and True otherwise.\n",
        "    # It is more efficient to store this array of booleans than to look up if\n",
        "    # elements of the buckets array are None.\n",
        "    self.bucket_in_use = [False] * INITIAL_TABLE_SIZE\n",
        "    self.num_buckets_in_use = 0\n",
        "    self.keys = set()\n",
        "    self.values = set()\n",
        "\n",
        "  def hash_function(self, key):\n",
        "    # Python provides a hash() function, which returns an integer for the given\n",
        "    # argument. Our hash_function takes that and uses the modulo operator to get\n",
        "    # a bucket that we can use for our hash table.\n",
        "    hash_code = hash(key)\n",
        "    return hash_code % self.current_table_size\n",
        "\n",
        "  def resolve_collisions(self, key):\n",
        "    # If we hit the same bucket twice during this linear resolution, we should\n",
        "    # notify the user that a collision couldn't be resolved.\n",
        "    bucket_num = self.hash_function(key)\n",
        "    initial_bucket_num = bucket_num\n",
        "    while self.bucket_in_use[bucket_num]:\n",
        "      bucket_num = (bucket_num + 1) % self.current_table_size\n",
        "      if bucket_num == initial_bucket_num:\n",
        "        raise ValueError(\n",
        "          'A hash table collision has occurred that cannot be resolved.')\n",
        "    return bucket_num\n",
        "\n",
        "  def put(self, key, value):\n",
        "    bucket_num = self.hash_function(key)\n",
        "    if self.bucket_in_use[bucket_num]:\n",
        "      bucket_num = self.resolve_collisions(key)\n",
        "    self.buckets[bucket_num] = TableEntry(bucket_num, key, value)\n",
        "    self.bucket_in_use[bucket_num] = True\n",
        "    self.keys.add(key)\n",
        "    self.values.add(value)"
      ]
    },
    {
      "cell_type": "markdown",
      "metadata": {
        "id": "dLLv1UAfH_be"
      },
      "source": [
        "That said, what happens when you ultimately fill the table? Since a collision can't be resolved, you'll run into a `ValueError`. Is there a way to fix that problem before it throws an error?"
      ]
    },
    {
      "cell_type": "markdown",
      "metadata": {
        "id": "lLrrWO_SyfTh"
      },
      "source": [
        "### Resizing a hash table"
      ]
    },
    {
      "cell_type": "markdown",
      "metadata": {
        "id": "p_o-crJ8y7ko"
      },
      "source": [
        "You now need to consider things like the number of your buckets relative to the number of entries you're going to have. For instance, calling the `put()` method adds a new entry to your map. You need to have at least one bucket available to put that new entry into. If you have more entries than buckets, you'll never be able to resolve a collision and `put()` will fail. As a result, you need to be able to **resize** your hash table."
      ]
    },
    {
      "cell_type": "markdown",
      "metadata": {
        "id": "cNiD3XaTw0Ga"
      },
      "source": [
        "We haven't talked about the need for a `resize()` method, yet, but it's critical to allow your hash table to take on more elements. A map usually starts small and then, once it hits its `RESIZE_PERCENTAGE`, it creates a larger storage section for it. Python's dictionary, for instance (implemented as a hash table), resizes its backing hash table whenever it's 2/3 full (as we've done, here). Let's look at an implementation of this method."
      ]
    },
    {
      "cell_type": "markdown",
      "metadata": {
        "id": "D320X26aw69A"
      },
      "source": [
        "```python\n",
        "# This indicates how much the backing table will expand when we resize, e.g. if\n",
        "# RESIZE_FACTOR == 2, the table will double in size when resize() is called.\n",
        "RESIZE_FACTOR = 2\n",
        "\n",
        "# What % of buckets must be full before we resize?\n",
        "BUCKET_RESIZE_PERCENTAGE = 0.6666666666\n",
        "\n",
        "def resize(self):\n",
        "  new_buckets = [None] * (len(self.buckets) * RESIZE_FACTOR)\n",
        "  new_bucket_in_use = [False] * (len(self.bucket_in_use) * RESIZE_FACTOR)\n",
        "  self.current_table_size *= RESIZE_FACTOR\n",
        "  for item in self.buckets:\n",
        "    if item is not None:\n",
        "      new_bucket_num = self.hash_function(item.key)\n",
        "      if new_bucket_in_use[new_bucket_num]:\n",
        "        new_bucket_num = self.resolve_collisions(item.key)\n",
        "      item.hash_code = new_bucket_num\n",
        "      new_buckets[new_bucket_num] = item\n",
        "      new_bucket_in_use[new_bucket_num] = True\n",
        "  self.buckets = new_buckets\n",
        "  self.bucket_in_use = new_bucket_in_use\n",
        "```"
      ]
    },
    {
      "cell_type": "markdown",
      "metadata": {
        "id": "hqsKSvzSSmVF"
      },
      "source": [
        "The `resize()` method doubles the number of available buckets, but it then has to do the lengthier task of moving all of the old data into the new buckets. Since that consumes a lot of time and memory, we try to avoid doing it for as long as we can. With this, though, you should have all you need to implement your own hash table."
      ]
    },
    {
      "cell_type": "markdown",
      "metadata": {
        "id": "F_riRn3pE_GW"
      },
      "source": [
        "### Building a full hash table"
      ]
    },
    {
      "cell_type": "markdown",
      "metadata": {
        "id": "-M2VvqMpyhnB"
      },
      "source": [
        "Now that we've completed the `resize()` implementation, we can integrate that into our existing hash table implementation."
      ]
    },
    {
      "cell_type": "code",
      "execution_count": null,
      "metadata": {
        "id": "er3g1w2aEdub"
      },
      "outputs": [],
      "source": [
        "#persistent\n",
        "# This is the default initial table size for the hash table.\n",
        "INITIAL_TABLE_SIZE = 5\n",
        "\n",
        "# This indicates how much the backing table will expand when we resize, e.g. if\n",
        "# RESIZE_FACTOR == 2, the table will double in size when resize() is called.\n",
        "RESIZE_FACTOR = 2\n",
        "\n",
        "# What % of buckets must be full before we resize?\n",
        "BUCKET_RESIZE_PERCENTAGE = 0.6666666666\n",
        "\n",
        "class HashTable:\n",
        "\n",
        "  def __init__(self):\n",
        "    self.current_table_size = INITIAL_TABLE_SIZE\n",
        "    # Make INITIAL_TABLE_SIZE buckets for TableEntry instances.\n",
        "    self.buckets = [None] * INITIAL_TABLE_SIZE\n",
        "    # This is a quick shorthand to allow us to check if the bucket currently is\n",
        "    # being used by our hash table.\n",
        "    # It stores booleans: False when the bucket is empty, and True otherwise.\n",
        "    # It is more efficient to store this array of booleans than to look up if\n",
        "    # elements of the buckets array are None.\n",
        "    self.bucket_in_use = [False] * INITIAL_TABLE_SIZE\n",
        "    self.num_buckets_in_use = 0\n",
        "    self.keys = set()\n",
        "    self.values = set()\n",
        "\n",
        "  def hash_function(self, key):\n",
        "    # Python provides a hash() function, which returns an integer for the given\n",
        "    # argument. Our hash_function takes that and uses the modulo operator to get\n",
        "    # a bucket that we can use for our hash table.\n",
        "    hash_code = hash(key)\n",
        "    return hash_code % self.current_table_size\n",
        "\n",
        "  def resolve_collisions(self, key):\n",
        "    # If we hit the same bucket twice during this linear resolution, we should\n",
        "    # notify the user that a collision couldn't be resolved.\n",
        "    bucket_num = self.hash_function(key)\n",
        "    initial_bucket_num = bucket_num\n",
        "    while self.bucket_in_use[bucket_num]:\n",
        "      bucket_num = (bucket_num + 1) % self.current_table_size\n",
        "      if bucket_num == initial_bucket_num:\n",
        "        raise ValueError(\n",
        "          'A hash table collision has occurred that cannot be resolved.')\n",
        "    return bucket_num\n",
        "\n",
        "  def put(self, key, value):\n",
        "    if self.num_buckets_in_use \u003e= (\n",
        "        len(self.buckets) * BUCKET_RESIZE_PERCENTAGE):\n",
        "      # Note the use of self.resize, here, if the number of buckets in use ever\n",
        "      # exceeds the limit we've set internally.\n",
        "      self.resize()\n",
        "    bucket_num = self.hash_function(key)\n",
        "    if self.bucket_in_use[bucket_num]:\n",
        "      bucket_num = self.resolve_collisions(key)\n",
        "    self.buckets[bucket_num] = TableEntry(bucket_num, key, value)\n",
        "    self.bucket_in_use[bucket_num] = True\n",
        "    self.keys.add(key)\n",
        "    self.values.add(value)\n",
        "\n",
        "  def resize(self):\n",
        "    new_buckets = [None] * (len(self.buckets) * RESIZE_FACTOR)\n",
        "    new_bucket_in_use = [False] * (len(self.bucket_in_use) * RESIZE_FACTOR)\n",
        "    self.current_table_size *= RESIZE_FACTOR\n",
        "    for item in self.buckets:\n",
        "      if item is not None:\n",
        "        new_bucket_num = self.hash_function(item.key)\n",
        "        if new_bucket_in_use[new_bucket_num]:\n",
        "          new_bucket_num = self.resolve_collisions(item.key)\n",
        "        item.hash_code = new_bucket_num\n",
        "        new_buckets[new_bucket_num] = item\n",
        "        new_bucket_in_use[new_bucket_num] = True\n",
        "    self.buckets = new_buckets\n",
        "    self.bucket_in_use = new_bucket_in_use"
      ]
    },
    {
      "cell_type": "markdown",
      "metadata": {
        "id": "qwdBHbvQEhcC"
      },
      "source": [
        "In the following exercises, we will use [class inheritance](https://en.wikipedia.org/wiki/Inheritance_(object-oriented_programming)) to create a new class `YourHashTable` that inherits all the methods defined above for `HashTable`. This means we can create new methods for `YourHashTable` without having to copy-paste the entire `HashTable` definition."
      ]
    },
    {
      "cell_type": "markdown",
      "metadata": {
        "id": "qGjhH0QON_wZ"
      },
      "source": [
        "## Question 1"
      ]
    },
    {
      "cell_type": "markdown",
      "metadata": {
        "id": "wv5jpFUFN_wZ"
      },
      "source": [
        "Which of these statements about a hash table are true? There may be more than one correct response. \n"
      ]
    },
    {
      "cell_type": "markdown",
      "metadata": {
        "id": "FOxE0c_80wC5"
      },
      "source": [
        "**a)** When resizing a hash table, you may also need to rehash the elements in the table.\n",
        "\n",
        "**b)** A hash table needs some form of collision resolution to avoid crashes.\n",
        "\n",
        "**c)** A perfect hash function will have 0 collisions.\n",
        "\n",
        "**d)** Hash tables rely on hash functions, hash collision resolution, and dynamic resizing in order to dynamically store elements."
      ]
    },
    {
      "cell_type": "markdown",
      "metadata": {
        "id": "QPXp4rBwz007"
      },
      "source": [
        "### Solution"
      ]
    },
    {
      "cell_type": "markdown",
      "metadata": {
        "id": "hQ0TLsoNz4Oy"
      },
      "source": [
        "The correct answers are **a)**, **b)**, and **d)**. \n",
        "\n",
        "**c)** The hash function depends on the number of buckets, so if you have more entries being stored in the table than buckets, then a collision is guaranteed via the pigeonhole principle."
      ]
    },
    {
      "cell_type": "markdown",
      "metadata": {
        "id": "wEtAf6ZZWQPG"
      },
      "source": [
        "## Question 2"
      ]
    },
    {
      "cell_type": "markdown",
      "metadata": {
        "id": "4qDQtfc16U5K"
      },
      "source": [
        "Let's start by implementing `contains()`, which will return True if a given key exists in the table. If the key doesn't exist, we will return False.\n",
        "\n",
        "Hash tables usually store their keys and values in some accessible structure, like a `set`. Assume our hash table has a set called `keys` keeping track of the keys that the table has been storing."
      ]
    },
    {
      "cell_type": "code",
      "execution_count": null,
      "metadata": {
        "id": "qed4iZCL6hsJ"
      },
      "outputs": [],
      "source": [
        "class YourHashTable(HashTable):\n",
        "\n",
        "  def contains(self, key):\n",
        "    # TODO(you): Implement\n",
        "    print('This method has not been implemented.')"
      ]
    },
    {
      "cell_type": "markdown",
      "metadata": {
        "id": "dVTeIltYWSJK"
      },
      "source": [
        "### Hint"
      ]
    },
    {
      "cell_type": "markdown",
      "metadata": {
        "id": "nv8MAkYiWTbC"
      },
      "source": [
        "Keep in mind that a set `my_set` allows you to see if it contains `key` by using `if key in my_set`."
      ]
    },
    {
      "cell_type": "markdown",
      "metadata": {
        "id": "DDHiufcvWQPH"
      },
      "source": [
        "### Unit Tests\n",
        "\n",
        "Run the following cell to check your answer against some unit tests."
      ]
    },
    {
      "cell_type": "code",
      "execution_count": null,
      "metadata": {
        "id": "rC5ySdrz7Pz5"
      },
      "outputs": [],
      "source": [
        "test_table = YourHashTable()\n",
        "test_table.put('apple', 'orange')\n",
        "\n",
        "print(test_table.contains('apple'))\n",
        "# Should print: True\n",
        "\n",
        "print(test_table.contains('peach'))\n",
        "# Should print: False"
      ]
    },
    {
      "cell_type": "markdown",
      "metadata": {
        "id": "bQnH1GYnWQPI"
      },
      "source": [
        "### Solution"
      ]
    },
    {
      "cell_type": "markdown",
      "metadata": {
        "id": "QPUgBhcG7eCe"
      },
      "source": [
        "In Python we can use `in` to check if a key is in a set. For non-Python languages, you can loop through the set's elements and compare them to `key`, returning `True` if you find a match."
      ]
    },
    {
      "cell_type": "code",
      "execution_count": null,
      "metadata": {
        "id": "zlYoevZD7pLK"
      },
      "outputs": [],
      "source": [
        "class YourHashTable(HashTable):\n",
        "\n",
        "  def contains(self, key):\n",
        "    return key in self.keys"
      ]
    },
    {
      "cell_type": "markdown",
      "metadata": {
        "id": "TS8uW_brnTKE"
      },
      "source": [
        "## Question 3"
      ]
    },
    {
      "cell_type": "markdown",
      "metadata": {
        "id": "D2hsSek6wuC8"
      },
      "source": [
        "Next, let's work on building out a method called `get_bucket_number()`. Think of this as a better version of `hash_function`, as it allows you to get the bucket number of a key after you've handled collision resolution. This will help us with a later implementation."
      ]
    },
    {
      "cell_type": "markdown",
      "metadata": {
        "id": "V5wQrneD8VB-"
      },
      "source": [
        "Start by finding the initial bucket number, and then handle collisions if needed. You may assume collisions are resolved linearly, if you want, but your implementation can be completed without that assumption."
      ]
    },
    {
      "cell_type": "code",
      "execution_count": null,
      "metadata": {
        "id": "edAlPOlv8GHj"
      },
      "outputs": [],
      "source": [
        "class YourHashTable(HashTable):\n",
        "\n",
        "  def contains(self, key):\n",
        "    return key in self.keys\n",
        "\n",
        "  def get_bucket_number(self, key):\n",
        "    if not self.contains(key): \n",
        "      raise ValueError('The key does not exist in the table.')\n",
        "    # TODO(you): Implement\n",
        "    print('This method has not been implemented.')"
      ]
    },
    {
      "cell_type": "markdown",
      "metadata": {
        "id": "Owjo_7cfnTKE"
      },
      "source": [
        "### Unit Tests\n",
        "\n",
        "Run the following cell to check your answer against some unit tests."
      ]
    },
    {
      "cell_type": "code",
      "execution_count": null,
      "metadata": {
        "id": "9HPXyirX9Qdc"
      },
      "outputs": [],
      "source": [
        "test_table = YourHashTable()\n",
        "test_table.put('apple', 'orange')\n",
        "\n",
        "print(test_table.get_bucket_number('apple'))\n",
        "# Should print: 0\n",
        "\n",
        "print(test_table.get_bucket_number('peach')) \n",
        "# Should raise: ValueError"
      ]
    },
    {
      "cell_type": "markdown",
      "metadata": {
        "id": "eSZGOLUgnTKF"
      },
      "source": [
        "### Solution"
      ]
    },
    {
      "cell_type": "markdown",
      "metadata": {
        "id": "2_u0R3B2UMFa"
      },
      "source": [
        "`get_bucket_number()` should first verify the key exists, and then once you know that, you can either try to resolve it most efficiently (which would depend on how your table implementation resolves collisions) or just do a quick linear scan of the buckets. Since we don't know what method our table uses to resolve collisions, currently, let's do a linear scan."
      ]
    },
    {
      "cell_type": "code",
      "execution_count": null,
      "metadata": {
        "id": "Qr1VvBeV8mGq"
      },
      "outputs": [],
      "source": [
        "class YourHashTable(HashTable):\n",
        "\n",
        "  def contains(self, key):\n",
        "    return key in self.keys\n",
        "\n",
        "  def get_bucket_number(self, key):\n",
        "    if not self.contains(key): \n",
        "      raise ValueError('The key does not exist in the table.')\n",
        "    # We've already verified that the key we're looking for exists in the table,\n",
        "    # so we know we will hit it in one of these iterations.\n",
        "    for bucket_num in range(self.current_table_size):\n",
        "      # Once we find the key, return the bucket number. We need to check that\n",
        "      # the bucket is not None before checking the key.\n",
        "      if (self.buckets[bucket_num] is not None and\n",
        "          self.buckets[bucket_num].key == key):\n",
        "        return bucket_num"
      ]
    },
    {
      "cell_type": "markdown",
      "metadata": {
        "id": "MronaygGVe_m"
      },
      "source": [
        "## Question 4"
      ]
    },
    {
      "cell_type": "markdown",
      "metadata": {
        "id": "UVxy2WOwAmIj"
      },
      "source": [
        "Now that we know whether or not a key exists and what bucket it's mapped to, we can implement `update()`, which allows users to pass in a key and value and, if that key exists, it overwrites that key's previous value with a new one. Assume that your keys will be of type `string` and your values will be of type `string`. You should use the same internal structures and methods given in the Lesson Overview, and you'll need your answers to the previous two questions, as well. Implement `update()`."
      ]
    },
    {
      "cell_type": "code",
      "execution_count": null,
      "metadata": {
        "id": "PhsMH5Am-9gn"
      },
      "outputs": [],
      "source": [
        "class YourHashTable(HashTable):\n",
        "\n",
        "  def contains(self, key):\n",
        "    return key in self.keys\n",
        "\n",
        "  def get_bucket_number(self, key):\n",
        "    if not self.contains(key): \n",
        "      raise ValueError('The key does not exist in the table.')\n",
        "    # We've already verified that the key we're looking for exists in the table,\n",
        "    # so we know we will hit it in one of these iterations.\n",
        "    for bucket_num in range(self.current_table_size):\n",
        "      # Once we find the key, return the bucket number. We need to check that\n",
        "      # the bucket is not None before checking the key.\n",
        "      if (self.buckets[bucket_num] is not None and\n",
        "          self.buckets[bucket_num].key == key):\n",
        "        return bucket_num\n",
        "\n",
        "  def update(self, key, value):\n",
        "    if not self.contains(key):\n",
        "      raise ValueError('The key does not exist in the table.')\n",
        "    # TODO(you): Implement\n",
        "    print('This method has not been implemented.')"
      ]
    },
    {
      "cell_type": "markdown",
      "metadata": {
        "id": "RWJOQbhYVe_n"
      },
      "source": [
        "### Unit Tests\n",
        "\n",
        "Run the following cell to check your answer against some unit tests."
      ]
    },
    {
      "cell_type": "code",
      "execution_count": null,
      "metadata": {
        "id": "t-BKpLlQAy26"
      },
      "outputs": [],
      "source": [
        "test_table = YourHashTable()\n",
        "\n",
        "test_table.put('apple', 'orange')\n",
        "# Check that the value for 'apple' is 'orange'.\n",
        "print(test_table.buckets[test_table.get_bucket_number('apple')].value)\n",
        "# Should print: 'orange'\n",
        "\n",
        "test_table.update('apple', 'pie')\n",
        "# Check that the new value for 'apple' is 'pie'.\n",
        "print(test_table.buckets[test_table.get_bucket_number('apple')].value)\n",
        "# Should print: 'pie'"
      ]
    },
    {
      "cell_type": "markdown",
      "metadata": {
        "id": "5W0RS8ovVe_n"
      },
      "source": [
        "### Solution"
      ]
    },
    {
      "cell_type": "markdown",
      "metadata": {
        "id": "qCXNHfCwp731"
      },
      "source": [
        "For `update()`, we can leverage the `contains` and `get_bucket_number` methods to greatly simplify this method."
      ]
    },
    {
      "cell_type": "code",
      "execution_count": null,
      "metadata": {
        "id": "sSI8oAD1_9eB"
      },
      "outputs": [],
      "source": [
        "class YourHashTable(HashTable):\n",
        "\n",
        "  def contains(self, key):\n",
        "    return key in self.keys\n",
        "\n",
        "  def get_bucket_number(self, key):\n",
        "    if not self.contains(key): \n",
        "      raise ValueError('The key does not exist in the table.')\n",
        "    # We've already verified that the key we're looking for exists in the table,\n",
        "    # so we know we will hit it in one of these iterations.\n",
        "    for bucket_num in range(self.current_table_size):\n",
        "      # Once we find the key, return the bucket number. We need to check that\n",
        "      # the bucket is not None before checking the key.\n",
        "      if (self.buckets[bucket_num] is not None and\n",
        "          self.buckets[bucket_num].key == key):\n",
        "        return bucket_num\n",
        "\n",
        "  def update(self, key, value):\n",
        "    if not self.contains(key):\n",
        "        raise ValueError('The key does not exist in the table.')\n",
        "    self.buckets[self.get_bucket_number(key)].value = value"
      ]
    },
    {
      "cell_type": "markdown",
      "metadata": {
        "id": "1sXg96bTVkJh"
      },
      "source": [
        "## Question 5"
      ]
    },
    {
      "cell_type": "markdown",
      "metadata": {
        "id": "4LPiaWMXUA2r"
      },
      "source": [
        "Now that we've seen an implementation for `put()`, let's implement `get()`. You may assume the hash table stores string keys and string values. If the key is not in the table, raise an error. Keep in mind that hash tables store their keys and values in sets called `keys()` and `values()`, as you've seen in the implementation of `HashTable`. You may also use any methods you've written or seen in this lesson."
      ]
    },
    {
      "cell_type": "code",
      "execution_count": null,
      "metadata": {
        "id": "jQ6u-4kac1Wj"
      },
      "outputs": [],
      "source": [
        "class YourHashTable(HashTable):\n",
        "\n",
        "  def contains(self, key):\n",
        "    return key in self.keys\n",
        "\n",
        "  def get_bucket_number(self, key):\n",
        "    if not self.contains(key): \n",
        "      raise ValueError('The key does not exist in the table.')\n",
        "    # We've already verified that the key we're looking for exists in the table,\n",
        "    # so we know we will hit it in one of these iterations.\n",
        "    for bucket_num in range(self.current_table_size):\n",
        "      # Once we find the key, return the bucket number. We need to check that\n",
        "      # the bucket is not None before checking the key.\n",
        "      if (self.buckets[bucket_num] is not None and\n",
        "          self.buckets[bucket_num].key == key):\n",
        "        return bucket_num\n",
        "\n",
        "  def update(self, key, value):\n",
        "    if not self.contains(key):\n",
        "        raise ValueError('The key does not exist in the table.')\n",
        "    self.buckets[self.get_bucket_number(key)].value = value\n",
        "\n",
        "  def get(self, key):\n",
        "    # TODO(you): Implement\n",
        "    print('This method has not been implemented.')"
      ]
    },
    {
      "cell_type": "markdown",
      "metadata": {
        "id": "pu2S_HLPVkJh"
      },
      "source": [
        "### Unit Tests\n",
        "\n",
        "Run the following cell to check your answer against some unit tests."
      ]
    },
    {
      "cell_type": "code",
      "execution_count": null,
      "metadata": {
        "id": "KklZwONKc3ig"
      },
      "outputs": [],
      "source": [
        "new_table = YourHashTable()\n",
        "new_table.put('a', 'c')\n",
        "new_table.put('b', 'c')\n",
        "new_table.put('d', 'e')\n",
        "\n",
        "print(new_table.get('a'))\n",
        "# Should print: c\n",
        "print(new_table.get('d'))\n",
        "# Should print: e"
      ]
    },
    {
      "cell_type": "markdown",
      "metadata": {
        "id": "xZ7OrYy3VkJi"
      },
      "source": [
        "### Solution"
      ]
    },
    {
      "cell_type": "markdown",
      "metadata": {
        "id": "el1S4J2bWO_L"
      },
      "source": [
        "Given that we already have implemented `get_bucket_number()`, we can use it to simplify our `get()` code."
      ]
    },
    {
      "cell_type": "code",
      "execution_count": null,
      "metadata": {
        "id": "H8BZ2VmBdX6A"
      },
      "outputs": [],
      "source": [
        "class YourHashTable(HashTable):\n",
        "\n",
        "  def contains(self, key):\n",
        "    return key in self.keys\n",
        "\n",
        "  def get_bucket_number(self, key):\n",
        "    if not self.contains(key): \n",
        "      raise ValueError('The key does not exist in the table.')\n",
        "    # We've already verified that the key we're looking for exists in the table,\n",
        "    # so we know we will hit it in one of these iterations.\n",
        "    for bucket_num in range(self.current_table_size):\n",
        "      # Once we find the key, return the bucket number. We need to check that\n",
        "      # the bucket is not None before checking the key.\n",
        "      if (self.buckets[bucket_num] is not None and\n",
        "          self.buckets[bucket_num].key == key):\n",
        "        return bucket_num\n",
        "\n",
        "  def update(self, key, value):\n",
        "    if not self.contains(key):\n",
        "        raise ValueError('The key does not exist in the table.')\n",
        "    self.buckets[self.get_bucket_number(key)].value = value\n",
        "\n",
        "  def get(self, key):\n",
        "    if not self.contains(key):\n",
        "      raise ValueError('Key does not exist in hash table.')\n",
        "    return self.buckets[self.get_bucket_number(key)].value"
      ]
    },
    {
      "cell_type": "markdown",
      "metadata": {
        "id": "uspMWfH9ViO_"
      },
      "source": [
        "## Question 6"
      ]
    },
    {
      "cell_type": "markdown",
      "metadata": {
        "id": "wPOyC6I5CRmV"
      },
      "source": [
        "A useful method implemented by a number of maps and dictionaries is `from_keys()`, which allows users to pass in a list of keys and a value that should be set for all of them."
      ]
    },
    {
      "cell_type": "markdown",
      "metadata": {
        "id": "7yMH7itwTPzo"
      },
      "source": [
        "```python\n",
        "new_table = YourHashTable.from_keys(['a', 'b', 'c', 'd', 'e'], 'f')\n",
        "```"
      ]
    },
    {
      "cell_type": "markdown",
      "metadata": {
        "id": "7DYGsSI9TQ4o"
      },
      "source": [
        "This is equivalent to adding `('a', 'f')`, `('b', 'f')`, `('c', 'f')`, `('d', 'f')`, and `('e', 'f')`,  to your hash table.\n",
        "\n",
        "Implement `from_keys()`."
      ]
    },
    {
      "cell_type": "code",
      "execution_count": null,
      "metadata": {
        "id": "ZC0jJKTlCZrN"
      },
      "outputs": [],
      "source": [
        "class YourHashTable(HashTable):\n",
        "\n",
        "  def contains(self, key):\n",
        "    return key in self.keys\n",
        "\n",
        "  def get_bucket_number(self, key):\n",
        "    if not self.contains(key): \n",
        "      raise ValueError('The key does not exist in the table.')\n",
        "    # We've already verified that the key we're looking for exists in the table,\n",
        "    # so we know we will hit it in one of these iterations.\n",
        "    for bucket_num in range(self.current_table_size):\n",
        "      # Once we find the key, return the bucket number. We need to check that\n",
        "      # the bucket is not None before checking the key.\n",
        "      if (self.buckets[bucket_num] is not None and\n",
        "          self.buckets[bucket_num].key == key):\n",
        "        return bucket_num\n",
        "\n",
        "  def update(self, key, value):\n",
        "    if not self.contains(key):\n",
        "        raise ValueError('The key does not exist in the table.')\n",
        "    self.buckets[self.get_bucket_number(key)].value = value\n",
        "\n",
        "  def get(self, key):\n",
        "    if not self.contains(key):\n",
        "      raise ValueError('Key does not exist in hash table.')\n",
        "    return self.buckets[self.get_bucket_number(key)].value\n",
        "\n",
        "  @classmethod\n",
        "  def from_keys(cls, key_list, default_value):\n",
        "    # This creates a new table, like calling the __init__ method.\n",
        "    new_table = cls()\n",
        "    # TODO(you): Implement\n",
        "    print('This method has not been implemented.')\n",
        "    return new_tables"
      ]
    },
    {
      "cell_type": "markdown",
      "metadata": {
        "id": "nkF41WJ5Cfi0"
      },
      "source": [
        "You'll see that this has `@classmethod` precedes the `from_keys` method. This is a Python-only keyword, called a method *decorator*. You can essentially ignore it; it just indicates that `from_keys` is called in the following way:\n",
        "\n",
        "```python\n",
        "new_table = YourHashTable.from_keys(['a', 'b', 'c', 'd', 'e'], 'f')\n",
        "```\n",
        "\n",
        "Instead of:\n",
        "\n",
        "```python\n",
        "new_table = YourHashTable()\n",
        "new_table.from_keys(['a', 'b', 'c', 'd', 'e'], 'f')\n",
        "```\n",
        "\n",
        "For more information on `@classmethod`, take a look at the [official Python docs](https://docs.python.org/3/library/functions.html#classmethod)."
      ]
    },
    {
      "cell_type": "markdown",
      "metadata": {
        "id": "zhj8hO6nViO_"
      },
      "source": [
        "### Unit Tests\n",
        "\n",
        "Run the following cell to check your answer against some unit tests."
      ]
    },
    {
      "cell_type": "code",
      "execution_count": null,
      "metadata": {
        "id": "XrrmFO4rCw4U"
      },
      "outputs": [],
      "source": [
        "new_table = YourHashTable.from_keys(['a', 'b', 'c', 'd', 'e'], 'f')\n",
        "print(new_table.get('a'))\n",
        "# Should print: f\n",
        "\n",
        "print(new_table.get('c'))\n",
        "# Should print: f\n",
        "\n",
        "print(new_table.get('o'))\n",
        "# Should raise: ValueError"
      ]
    },
    {
      "cell_type": "markdown",
      "metadata": {
        "id": "YWiQqHbqViO_"
      },
      "source": [
        "### Solution"
      ]
    },
    {
      "cell_type": "markdown",
      "metadata": {
        "id": "GqeKLocLA9y7"
      },
      "source": [
        "The `from_keys` method is implemented as a series of `put` calls."
      ]
    },
    {
      "cell_type": "code",
      "execution_count": null,
      "metadata": {
        "id": "qAtAq9Y9CuZ0"
      },
      "outputs": [],
      "source": [
        "class YourHashTable(HashTable):\n",
        "\n",
        "  def contains(self, key):\n",
        "    return key in self.keys\n",
        "\n",
        "  def get_bucket_number(self, key):\n",
        "    if not self.contains(key): \n",
        "      raise ValueError('The key does not exist in the table.')\n",
        "    # We've already verified that the key we're looking for exists in the table,\n",
        "    # so we know we will hit it in one of these iterations.\n",
        "    for bucket_num in range(self.current_table_size):\n",
        "      # Once we find the key, return the bucket number. We need to check that\n",
        "      # the bucket is not None before checking the key.\n",
        "      if (self.buckets[bucket_num] is not None and\n",
        "          self.buckets[bucket_num].key == key):\n",
        "        return bucket_num\n",
        "\n",
        "  def update(self, key, value):\n",
        "    if not self.contains(key):\n",
        "        raise ValueError('The key does not exist in the table.')\n",
        "    self.buckets[self.get_bucket_number(key)].value = value\n",
        "\n",
        "  def get(self, key):\n",
        "    if not self.contains(key):\n",
        "      raise ValueError('Key does not exist in hash table.')\n",
        "    return self.buckets[self.get_bucket_number(key)].value\n",
        "\n",
        "  @classmethod\n",
        "  def from_keys(cls, key_list, default_value):\n",
        "    new_table = cls()\n",
        "    for key in key_list:\n",
        "      new_table.put(key, default_value)\n",
        "    return new_table"
      ]
    },
    {
      "cell_type": "markdown",
      "metadata": {
        "id": "H4CcCO5iVk0_"
      },
      "source": [
        "## Question 7"
      ]
    },
    {
      "cell_type": "markdown",
      "metadata": {
        "id": "hamc5bnDUVJY"
      },
      "source": [
        "Since we've filled out our hash table, let's empty it. Implement `clear()`, which goes through a hash table and wipes out all of the entries. You may continue to use the hash table definition and any methods seen earlier in this lesson. "
      ]
    },
    {
      "cell_type": "code",
      "execution_count": null,
      "metadata": {
        "id": "BxU96sILgmho"
      },
      "outputs": [],
      "source": [
        "class YourHashTable(HashTable):\n",
        "\n",
        "  def contains(self, key):\n",
        "    return key in self.keys\n",
        "\n",
        "  def get_bucket_number(self, key):\n",
        "    if not self.contains(key): \n",
        "      raise ValueError('The key does not exist in the table.')\n",
        "    # We've already verified that the key we're looking for exists in the table,\n",
        "    # so we know we will hit it in one of these iterations.\n",
        "    for bucket_num in range(self.current_table_size):\n",
        "      # Once we find the key, return the bucket number. We need to check that\n",
        "      # the bucket is not None before checking the key.\n",
        "      if (self.buckets[bucket_num] is not None and\n",
        "          self.buckets[bucket_num].key == key):\n",
        "        return bucket_num\n",
        "\n",
        "  def update(self, key, value):\n",
        "    if not self.contains(key):\n",
        "        raise ValueError('The key does not exist in the table.')\n",
        "    self.buckets[self.get_bucket_number(key)].value = value\n",
        "\n",
        "  @classmethod\n",
        "  def from_keys(cls, key_list, default_value):\n",
        "    new_table = cls()\n",
        "    for key in key_list:\n",
        "      new_table.put(key, default_value)\n",
        "    return new_table\n",
        "\n",
        "  def get(self, key):\n",
        "    if not self.contains(key):\n",
        "      raise ValueError('Key does not exist in hash table.')\n",
        "    return self.buckets[self.get_bucket_number(key)].value\n",
        "\n",
        "  def clear(self):\n",
        "    # TODO(you): Implement\n",
        "    print('This method has not been implemented.')"
      ]
    },
    {
      "cell_type": "markdown",
      "metadata": {
        "id": "IDE0miP7Vk1A"
      },
      "source": [
        "### Unit Tests\n",
        "\n",
        "Run the following cell to check your answer against some unit tests."
      ]
    },
    {
      "cell_type": "code",
      "execution_count": null,
      "metadata": {
        "id": "wLTzJWvvgp79"
      },
      "outputs": [],
      "source": [
        "new_table = YourHashTable.from_keys(['a', 'b'], 'c')\n",
        "new_table.put('d', 'e')\n",
        "new_table.clear()\n",
        "\n",
        "print(len(new_table.keys))\n",
        "# Should print: 0"
      ]
    },
    {
      "cell_type": "markdown",
      "metadata": {
        "id": "fBaFGrsEVk1B"
      },
      "source": [
        "### Solution"
      ]
    },
    {
      "cell_type": "markdown",
      "metadata": {
        "id": "ccDEqbF0WPIO"
      },
      "source": [
        "For `clear()`, one strategy is just to go through all of the buckets and empty them out. While this is a reasonable implementation, it's somewhat inefficient. Remember how we have the `bucket_in_use` array? We can speed this function up by just clearing out *that* array, so that when new elements are added, the `put()` method will overwrite the memory for us. Just don't forget to empty out `self.keys()` and `self.values()` as well. "
      ]
    },
    {
      "cell_type": "markdown",
      "metadata": {
        "id": "ewIjfuyf9YOK"
      },
      "source": [
        "This is all done in the `__init__()` method of `HashTable`, so, calling that will clear out the hashtable for us."
      ]
    },
    {
      "cell_type": "code",
      "execution_count": null,
      "metadata": {
        "id": "n4OUAGp_lI9w"
      },
      "outputs": [],
      "source": [
        "class YourHashTable(HashTable):\n",
        "\n",
        "  def contains(self, key):\n",
        "    return key in self.keys\n",
        "\n",
        "  def get_bucket_number(self, key):\n",
        "    if not self.contains(key): \n",
        "      raise ValueError('The key does not exist in the table.')\n",
        "    # We've already verified that the key we're looking for exists in the table,\n",
        "    # so we know we will hit it in one of these iterations.\n",
        "    for bucket_num in range(self.current_table_size):\n",
        "      # Once we find the key, return the bucket number. We need to check that\n",
        "      # the bucket is not None before checking the key.\n",
        "      if (self.buckets[bucket_num] is not None and\n",
        "          self.buckets[bucket_num].key == key):\n",
        "        return bucket_num\n",
        "\n",
        "  def update(self, key, value):\n",
        "    if not self.contains(key):\n",
        "        raise ValueError('The key does not exist in the table.')\n",
        "    self.buckets[self.get_bucket_number(key)].value = value\n",
        "\n",
        "  @classmethod\n",
        "  def from_keys(cls, key_list, default_value):\n",
        "    new_table = cls()\n",
        "    for key in key_list:\n",
        "      new_table.put(key, default_value)\n",
        "    return new_table\n",
        "\n",
        "  def get(self, key):\n",
        "    if not self.contains(key):\n",
        "      raise ValueError('Key does not exist in hash table.')\n",
        "    return self.buckets[self.get_bucket_number(key)].value\n",
        "\n",
        "  def clear(self):\n",
        "    self.__init__()"
      ]
    },
    {
      "cell_type": "markdown",
      "metadata": {
        "id": "ZjRbuIU2VleH"
      },
      "source": [
        "## Question 8"
      ]
    },
    {
      "cell_type": "markdown",
      "metadata": {
        "id": "KpavRRObp25k"
      },
      "source": [
        "Next, let's implement `items()`, which returns a list of tuples with key-value pairs in the hash table. If you're not familiar with a tuple, this is how to make one:"
      ]
    },
    {
      "cell_type": "code",
      "execution_count": null,
      "metadata": {
        "id": "5Y0RyOOLscOB"
      },
      "outputs": [],
      "source": [
        "key = 'apple'\n",
        "value = 'orange'\n",
        "my_tuple = (key, value)\n",
        "print(my_tuple)"
      ]
    },
    {
      "cell_type": "markdown",
      "metadata": {
        "id": "HlB6_pCxsj3f"
      },
      "source": [
        "Finish the implementation for `items()`. Don't forget that a `TableEntry` item holds both the key and the value."
      ]
    },
    {
      "cell_type": "code",
      "execution_count": null,
      "metadata": {
        "id": "ykw-yYNVmSY8"
      },
      "outputs": [],
      "source": [
        "class YourHashTable(HashTable):\n",
        "\n",
        "  def contains(self, key):\n",
        "    return key in self.keys\n",
        "\n",
        "  def get_bucket_number(self, key):\n",
        "    if not self.contains(key): \n",
        "      raise ValueError('The key does not exist in the table.')\n",
        "    # We've already verified that the key we're looking for exists in the table,\n",
        "    # so we know we will hit it in one of these iterations.\n",
        "    for bucket_num in range(self.current_table_size):\n",
        "      # Once we find the key, return the bucket number. We need to check that\n",
        "      # the bucket is not None before checking the key.\n",
        "      if (self.buckets[bucket_num] is not None and\n",
        "          self.buckets[bucket_num].key == key):\n",
        "        return bucket_num\n",
        "\n",
        "  def update(self, key, value):\n",
        "    if not self.contains(key):\n",
        "        raise ValueError('The key does not exist in the table.')\n",
        "    self.buckets[self.get_bucket_number(key)].value = value\n",
        "\n",
        "  @classmethod\n",
        "  def from_keys(cls, key_list, default_value):\n",
        "    new_table = cls()\n",
        "    for key in key_list:\n",
        "      new_table.put(key, default_value)\n",
        "    return new_table\n",
        "\n",
        "  def get(self, key):\n",
        "    if not self.contains(key):\n",
        "      raise ValueError('Key does not exist in hash table.')\n",
        "    return self.buckets[self.get_bucket_number(key)].value\n",
        "\n",
        "  def items(self):\n",
        "    # TODO(you): Implement\n",
        "    print('This method has not been implemented.')"
      ]
    },
    {
      "cell_type": "markdown",
      "metadata": {
        "id": "zmHxYAdxVleH"
      },
      "source": [
        "### Unit Tests\n",
        "\n",
        "Run the following cell to check your answer against some unit tests."
      ]
    },
    {
      "cell_type": "code",
      "execution_count": null,
      "metadata": {
        "id": "UY2oxGJal59L"
      },
      "outputs": [],
      "source": [
        "test_table = YourHashTable()\n",
        "test_table.put('apple', 'orange')\n",
        "test_table.put('peach', 'pear')\n",
        "\n",
        "items = test_table.items()\n",
        "items.sort()\n",
        "print(items)\n",
        "# Should print: [('apple', 'orange'), ('peach', 'pear')]"
      ]
    },
    {
      "cell_type": "markdown",
      "metadata": {
        "id": "nEDh_ujPVleI"
      },
      "source": [
        "### Solution"
      ]
    },
    {
      "cell_type": "markdown",
      "metadata": {
        "id": "a0vvqnRkWPPJ"
      },
      "source": [
        "One thing that maps do not guarantee is an ordering of the items if you iterate through them because the items are stored in a bucket ordering rather than alphabetically or some other sorting criteria. Given how hash functions and collision resolutions work, you may return the items in any order you like, but it's likely easiest to just iterate through the buckets."
      ]
    },
    {
      "cell_type": "code",
      "execution_count": null,
      "metadata": {
        "id": "4qfad_6qmb4S"
      },
      "outputs": [],
      "source": [
        "class YourHashTable(HashTable):\n",
        "\n",
        "  def contains(self, key):\n",
        "    return key in self.keys\n",
        "\n",
        "  def get_bucket_number(self, key):\n",
        "    if not self.contains(key): \n",
        "      raise ValueError('The key does not exist in the table.')\n",
        "    # We've already verified that the key we're looking for exists in the table,\n",
        "    # so we know we will hit it in one of these iterations.\n",
        "    for bucket_num in range(self.current_table_size):\n",
        "      # Once we find the key, return the bucket number. We need to check that\n",
        "      # the bucket is not None before checking the key.\n",
        "      if (self.buckets[bucket_num] is not None and\n",
        "          self.buckets[bucket_num].key == key):\n",
        "        return bucket_num\n",
        "\n",
        "  def update(self, key, value):\n",
        "    if not self.contains(key):\n",
        "        raise ValueError('The key does not exist in the table.')\n",
        "    self.buckets[self.get_bucket_number(key)].value = value\n",
        "\n",
        "  @classmethod\n",
        "  def from_keys(cls, key_list, default_value):\n",
        "    new_table = cls()\n",
        "    for key in key_list:\n",
        "      new_table.put(key, default_value)\n",
        "    return new_table\n",
        "\n",
        "  def get(self, key):\n",
        "    if not self.contains(key):\n",
        "      raise ValueError('Key does not exist in hash table.')\n",
        "    return self.buckets[self.get_bucket_number(key)].value\n",
        "\n",
        "  def items(self):\n",
        "    result = []\n",
        "    for i in range(len(self.buckets)):\n",
        "      # Note that we check if bucket_in_use[i] is True instead of checking if\n",
        "      # buckets[i] is not None. This is more efficient, and consistent with our\n",
        "      # design.\n",
        "      if self.bucket_in_use[i]:\n",
        "        result.append((self.buckets[i].key, self.buckets[i].value))\n",
        "    return result"
      ]
    },
    {
      "cell_type": "markdown",
      "metadata": {
        "id": "rZsgzS__ruUS"
      },
      "source": [
        "If you prefer, you can also call `keys()` and iterate through the table, calling `get()` on each key. It's less efficient, but it requires less code, given the other methods in the class."
      ]
    },
    {
      "cell_type": "code",
      "execution_count": null,
      "metadata": {
        "id": "mu5auNddr3Kb"
      },
      "outputs": [],
      "source": [
        "class YourHashTable(HashTable):\n",
        "\n",
        "  def contains(self, key):\n",
        "    return key in self.keys\n",
        "\n",
        "  def get_bucket_number(self, key):\n",
        "    if not self.contains(key): \n",
        "      raise ValueError('The key does not exist in the table.')\n",
        "    # We've already verified that the key we're looking for exists in the table,\n",
        "    # so we know we will hit it in one of these iterations.\n",
        "    for bucket_num in range(self.current_table_size):\n",
        "      # Once we find the key, return the bucket number. We need to check that\n",
        "      # the bucket is not None before checking the key.\n",
        "      if (self.buckets[bucket_num] is not None and\n",
        "          self.buckets[bucket_num].key == key):\n",
        "        return bucket_num\n",
        "\n",
        "  def update(self, key, value):\n",
        "    if not self.contains(key):\n",
        "        raise ValueError('The key does not exist in the table.')\n",
        "    self.buckets[self.get_bucket_number(key)].value = value\n",
        "\n",
        "  @classmethod\n",
        "  def from_keys(cls, key_list, default_value):\n",
        "    new_table = cls()\n",
        "    for key in key_list:\n",
        "      new_table.put(key, default_value)\n",
        "    return new_table\n",
        "\n",
        "  def get(self, key):\n",
        "    if not self.contains(key):\n",
        "      raise ValueError('Key does not exist in hash table.')\n",
        "    return self.buckets[self.get_bucket_number(key)].value\n",
        "\n",
        "  def contains(self, key):\n",
        "    return key in self.keys\n",
        "\n",
        "  def get_bucket_number(self, key):\n",
        "    if not self.contains(key): \n",
        "      raise ValueError('The key does not exist in the table.')\n",
        "    # We've already verified that the key we're looking for exists in the table,\n",
        "    # so we know we will hit it in one of these iterations.\n",
        "    for bucket_num in range(self.current_table_size):\n",
        "      # Once we find the key, return the bucket number. We need to check that\n",
        "      # the bucket is not None before checking the key.\n",
        "      if (self.buckets[bucket_num] is not None and\n",
        "          self.buckets[bucket_num].key == key):\n",
        "        return bucket_num\n",
        "\n",
        "  def get(self, key):\n",
        "    if not self.contains(key):\n",
        "      raise ValueError('Key does not exist in hash table.')\n",
        "    return self.buckets[self.get_bucket_number(key)].value\n",
        "\n",
        "  def items(self):\n",
        "    result = []\n",
        "    for key in self.keys:\n",
        "      result.append((key, self.get(key)))\n",
        "    return result"
      ]
    },
    {
      "cell_type": "markdown",
      "metadata": {
        "id": "alRkPgf7VnjC"
      },
      "source": [
        "## Question 9"
      ]
    },
    {
      "cell_type": "markdown",
      "metadata": {
        "id": "otVyPF4etHpF"
      },
      "source": [
        "Your colleague is working to try and finish up the hash table implementation that you started; this time, they're trying to implement `pop()`, which removes an element with the specified key and returns its value (a `string`, in this case). Here is their implementation, based on your hash table code."
      ]
    },
    {
      "cell_type": "markdown",
      "metadata": {
        "id": "Qow8SoSNV6mz"
      },
      "source": [
        "Their code doesn't seem to be working. What's wrong with their code, and how would you fix it?"
      ]
    },
    {
      "cell_type": "code",
      "execution_count": null,
      "metadata": {
        "id": "_Wga8Euha1G3"
      },
      "outputs": [],
      "source": [
        "#persistent\n",
        "class YourHashTable(HashTable):\n",
        "\n",
        "  def contains(self, key):\n",
        "    return key in self.keys\n",
        "\n",
        "  def get_bucket_number(self, key):\n",
        "    if not self.contains(key): \n",
        "      raise ValueError('The key does not exist in the table.')\n",
        "    # We've already verified that the key we're looking for exists in the table,\n",
        "    # so we know we will hit it in one of these iterations.\n",
        "    for bucket_num in range(self.current_table_size):\n",
        "      # Once we find the key, return the bucket number. We need to check that\n",
        "      # the bucket is not None before checking the key.\n",
        "      if (self.buckets[bucket_num] is not None and\n",
        "          self.buckets[bucket_num].key == key):\n",
        "        return bucket_num\n",
        "\n",
        "  def update(self, key, value):\n",
        "    if not self.contains(key):\n",
        "        raise ValueError('The key does not exist in the table.')\n",
        "    self.buckets[self.get_bucket_number(key)].value = value\n",
        "\n",
        "  @classmethod\n",
        "  def from_keys(cls, key_list, default_value):\n",
        "    new_table = cls()\n",
        "    for key in key_list:\n",
        "      new_table.put(key, default_value)\n",
        "    return new_table\n",
        "\n",
        "  def get(self, key):\n",
        "    if not self.contains(key):\n",
        "      raise ValueError('Key does not exist in hash table.')\n",
        "    return self.buckets[self.get_bucket_number(key)].value\n",
        "\n",
        "  def contains(self, key):\n",
        "    return key in self.keys\n",
        "\n",
        "  def get_bucket_number(self, key):\n",
        "    if not self.contains(key): \n",
        "      raise ValueError('The key does not exist in the table.')\n",
        "    # We've already verified that the key we're looking for exists in the table,\n",
        "    # so we know we will hit it in one of these iterations.\n",
        "    for bucket_num in range(self.current_table_size):\n",
        "      # Once we find the key, return the bucket number. We need to check that\n",
        "      # the bucket is not None before checking the key.\n",
        "      if (self.buckets[bucket_num] is not None and\n",
        "          self.buckets[bucket_num].key == key):\n",
        "        return bucket_num\n",
        "\n",
        "  def get(self, key):\n",
        "    if not self.contains(key):\n",
        "      raise ValueError('Key does not exist in hash table.')\n",
        "    return self.buckets[self.get_bucket_number(key)].value\n",
        "\n",
        "  def items(self):\n",
        "    result = []\n",
        "    for key in self.keys:\n",
        "      result.append((key, self.get(key)))\n",
        "    return result"
      ]
    },
    {
      "cell_type": "code",
      "execution_count": null,
      "metadata": {
        "id": "hDpDbYf5V2Sf"
      },
      "outputs": [],
      "source": [
        "class TheirHashTable(YourHashTable):\n",
        "\n",
        "  def pop(self, key):\n",
        "    # TODO(you): Find the problem in this code and fix it.\n",
        "    if not self.contains(key):\n",
        "      raise ValueError('The key does not exist in the table.')\n",
        "\n",
        "    for i in range(len(self.buckets)):\n",
        "      if i == self.hash_function(key):\n",
        "        return self.buckets[i].value"
      ]
    },
    {
      "cell_type": "markdown",
      "metadata": {
        "id": "E_nA5fayVnjD"
      },
      "source": [
        "### Unit Tests\n",
        "\n",
        "Run the following cell to check your answer against some unit tests."
      ]
    },
    {
      "cell_type": "code",
      "execution_count": null,
      "metadata": {
        "id": "bSNcTtmrbTlh"
      },
      "outputs": [],
      "source": [
        "new_table = TheirHashTable.from_keys(['a', 'b'], 'c')\n",
        "new_table.put('d', 'e')\n",
        "\n",
        "print(new_table.pop('b'))\n",
        "# Should print: 'c'\n",
        "\n",
        "print(new_table.pop('b'))\n",
        "# Should raise: ValueError"
      ]
    },
    {
      "cell_type": "markdown",
      "metadata": {
        "id": "chIogk_rbJUq"
      },
      "source": [
        "### Solution"
      ]
    },
    {
      "cell_type": "markdown",
      "metadata": {
        "id": "LuSZLDPlzdBY"
      },
      "source": [
        "There are a number of issues with this method. First off, comparing `i` to `hash_function(key)` is not efficient, as you're recalculating the hash every time you make that comparison. Additionally, given that we aren't sure how this map resolves collisions (or if collisions occurred), we can't guarantee that `hash_function(key)` is the bucket that our value is currently in (it might have been moved). Instead, let's use the `get_bucket_number()` that we implemented earlier in this lesson.\n"
      ]
    },
    {
      "cell_type": "code",
      "execution_count": null,
      "metadata": {
        "id": "APhcL-M2aCJB"
      },
      "outputs": [],
      "source": [
        "class TheirHashTable(YourHashTable):\n",
        "\n",
        "  def pop(self, key):\n",
        "    if not self.contains(key):\n",
        "      raise ValueError('The key does not exist in the table.')\n",
        "    return self.buckets[self.get_bucket_number(key)].value"
      ]
    },
    {
      "cell_type": "markdown",
      "metadata": {
        "id": "_VFFjrqlaOLP"
      },
      "source": [
        "That looks pretty good! But you may have noticed something else is wrong. We're never actually popping; this is identical to the `get()` method. Instead, we can leverage the fact that the hash table uses `bucket_in_use` to determine if the bucket is being used and set that to `False` in order to tell the table that that bucket is no longer occupied. This will allow new data to be stored in that bucket later on."
      ]
    },
    {
      "cell_type": "code",
      "execution_count": null,
      "metadata": {
        "id": "JFZ3NAdmaCLt"
      },
      "outputs": [],
      "source": [
        "class TheirHashTable(YourHashTable):\n",
        "\n",
        "  def pop(self, key):\n",
        "    if not self.contains(key):\n",
        "      raise ValueError('The key does not exist in the table.')\n",
        "    bucket_number = self.get_bucket_number(key)\n",
        "    self.bucket_in_use[bucket_number] = False\n",
        "    self.keys.remove(key)\n",
        "    return self.buckets[bucket_number].value"
      ]
    },
    {
      "cell_type": "markdown",
      "metadata": {
        "id": "rynhWZeeVqop"
      },
      "source": [
        "## Question 10"
      ]
    },
    {
      "cell_type": "markdown",
      "metadata": {
        "id": "iAlCzfd_Kv9_"
      },
      "source": [
        "Your coworker is going a bit above and beyond and writing a new method called `get_keys_for_value()`. It takes a value and returns an array of keys that map to that value."
      ]
    },
    {
      "cell_type": "markdown",
      "metadata": {
        "id": "7hwoVyssWDah"
      },
      "source": [
        "It's got a few bugs. Can you identify and fix them all?"
      ]
    },
    {
      "cell_type": "code",
      "execution_count": null,
      "metadata": {
        "id": "HxBpa48LWBxo"
      },
      "outputs": [],
      "source": [
        "class TheirHashTable(YourHashTable):\n",
        "\n",
        "  def pop(self, key):\n",
        "    if not self.contains(key):\n",
        "      raise ValueError('The key does not exist in the table.')\n",
        "    bucket_number = self.get_bucket_number(key)\n",
        "    self.bucket_in_use[bucket_number] = False\n",
        "    self.keys.remove(key)\n",
        "    return self.buckets[bucket_number].value\n",
        " \n",
        "  def get_keys_for_value(self, value):\n",
        "    # TODO(you): Find the bugs in this method and fix them.\n",
        "    bucket_num = self.hash_function(value)\n",
        "    for i in range(len(self.buckets)):\n",
        "      bucket_num = (bucket_num + i) % len(self.buckets)\n",
        "      # Skip buckets that aren't filled.\n",
        "      if not self.buckets[bucket_num]:\n",
        "        continue\n",
        "      if self.buckets[bucket_num].value == value:\n",
        "        return self.buckets[bucket_num].value"
      ]
    },
    {
      "cell_type": "markdown",
      "metadata": {
        "id": "qF3gBlgzbLbC"
      },
      "source": [
        "### Unit Tests\n",
        "\n",
        "Run the following cell to check your answer against some unit tests."
      ]
    },
    {
      "cell_type": "code",
      "execution_count": null,
      "metadata": {
        "id": "iih1We1Wbe2R"
      },
      "outputs": [],
      "source": [
        "new_table = TheirHashTable.from_keys(['a', 'b'], 'c')\n",
        "new_table.put('d', 'e')\n",
        "\n",
        "keys = new_table.get_keys_for_value('c')\n",
        "keys.sort()\n",
        "print(keys)\n",
        "# Should print: ['a', 'b']"
      ]
    },
    {
      "cell_type": "markdown",
      "metadata": {
        "id": "eBRclwdfVqor"
      },
      "source": [
        "### Solution"
      ]
    },
    {
      "cell_type": "markdown",
      "metadata": {
        "id": "Ivyoa8AvWlf6"
      },
      "source": [
        "This is close to the right idea, but they've done a few things that are incorrect. For starters, there's no need to complicate the code by hashing `value`; we can just start at `bucket_num = 0`."
      ]
    },
    {
      "cell_type": "code",
      "execution_count": null,
      "metadata": {
        "id": "7XRST9-Aad4B"
      },
      "outputs": [],
      "source": [
        "class TheirHashTable(YourHashTable):\n",
        "\n",
        "  def pop(self, key):\n",
        "    if not self.contains(key):\n",
        "      raise ValueError('The key does not exist in the table.')\n",
        "    bucket_number = self.get_bucket_number(key)\n",
        "    self.bucket_in_use[bucket_number] = False\n",
        "    self.keys.remove(key)\n",
        "    return self.buckets[bucket_number].value\n",
        "\n",
        "  def get_keys_for_value(self, value):\n",
        "    for i in range(len(self.buckets)):\n",
        "      # Skip buckets that aren't filled.\n",
        "      if not self.buckets[i]:\n",
        "        continue\n",
        "      if self.buckets[i].value == value:\n",
        "        return self.buckets[i].value"
      ]
    },
    {
      "cell_type": "markdown",
      "metadata": {
        "id": "K_PaRhztam-u"
      },
      "source": [
        "This is closer, but still not there. Recall that we should be returning an array of keys for the value provided, not just the value, which is what your coworker did by mistake. Let's fix that by appending the found key to a `result` array."
      ]
    },
    {
      "cell_type": "code",
      "execution_count": null,
      "metadata": {
        "id": "KnmyCC7fafN2"
      },
      "outputs": [],
      "source": [
        "class TheirHashTable(YourHashTable):\n",
        "\n",
        "  def pop(self, key):\n",
        "    if not self.contains(key):\n",
        "      raise ValueError('The key does not exist in the table.')\n",
        "    bucket_number = self.get_bucket_number(key)\n",
        "    self.bucket_in_use[bucket_number] = False\n",
        "    self.keys.remove(key)\n",
        "    return self.buckets[bucket_number].value\n",
        "\n",
        "  def get_keys_for_value(self, value):\n",
        "    result = []\n",
        "    for i in range(len(self.buckets)):\n",
        "      # Skip buckets that aren't filled.\n",
        "      if not self.buckets[i]:\n",
        "        continue\n",
        "      # Once the buckets are found, check their values to find a match.\n",
        "      if self.buckets[i].value == value:\n",
        "        result.append(self.buckets[i].key)\n",
        "\n",
        "    return result"
      ]
    },
    {
      "cell_type": "markdown",
      "metadata": {
        "id": "Hq-JBXRGan9Y"
      },
      "source": [
        "This way, even if the value doesn't exist, we will just return an empty array, which is valid."
      ]
    }
  ],
  "metadata": {
    "colab": {
      "collapsed_sections": [
        "QPXp4rBwz007",
        "dVTeIltYWSJK",
        "DDHiufcvWQPH",
        "bQnH1GYnWQPI",
        "Owjo_7cfnTKE",
        "eSZGOLUgnTKF",
        "RWJOQbhYVe_n",
        "5W0RS8ovVe_n",
        "pu2S_HLPVkJh",
        "xZ7OrYy3VkJi",
        "zhj8hO6nViO_",
        "YWiQqHbqViO_",
        "IDE0miP7Vk1A",
        "fBaFGrsEVk1B",
        "zmHxYAdxVleH",
        "nEDh_ujPVleI",
        "E_nA5fayVnjD",
        "chIogk_rbJUq",
        "qF3gBlgzbLbC",
        "eBRclwdfVqor"
      ],
      "name": "hash_table_implementation.ipynb",
      "provenance": [ ]
    },
    "kernelspec": {
      "display_name": "Python 3",
      "name": "python3"
    }
  },
  "nbformat": 4,
  "nbformat_minor": 0
}
