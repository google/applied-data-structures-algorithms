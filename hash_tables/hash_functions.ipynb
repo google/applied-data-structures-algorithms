{
  "cells": [
    {
      "cell_type": "markdown",
      "metadata": {
        "id": "Pic8r3n4AWWu"
      },
      "source": [
        "# Hash Functions"
      ]
    },
    {
      "cell_type": "markdown",
      "metadata": {
        "id": "40klIjfB3g0H"
      },
      "source": [
        "## Lesson Overview"
      ]
    },
    {
      "cell_type": "markdown",
      "metadata": {
        "id": "UZuohXXnhy4c"
      },
      "source": [
        "In order to understand the use cases and implementation of a hash table, it is important to first understand the underlying mechanism, the hash function."
      ]
    },
    {
      "cell_type": "markdown",
      "metadata": {
        "id": "UFPQ0B24fA17"
      },
      "source": [
        "Hash tables use hash functions to store complex values of any type as integers. The key of the hash table is passed through a hash function, and the resulting integer is the storage location of the corresponding value. This key must be **hashable**, in that the result of calling the hash function on a key does not change if the hash function is called multiple times."
      ]
    },
    {
      "cell_type": "markdown",
      "metadata": {
        "id": "aATLyRFpufJO"
      },
      "source": [
        "### Definition"
      ]
    },
    {
      "cell_type": "markdown",
      "metadata": {
        "id": "Ch_g9-QWw5d1"
      },
      "source": [
        "\u003e A **hash function** is a [function](https://en.wikipedia.org/wiki/Function_(mathematics)) that maps an arbitrary input to an integer within a pre-specified range."
      ]
    },
    {
      "cell_type": "markdown",
      "metadata": {
        "id": "io8Q7YNXh968"
      },
      "source": [
        "Hash functions can only output a certain number of outputs (called **buckets**). For example, this hash function accepts an arbitrary integer and has 10 hash buckets. To do so, this function uses the **modulo** operator ($\\%$). For two numbers $n$ and $m$, $n \\% m$ is equal to the remainder of $\\frac{n}{m}$."
      ]
    },
    {
      "cell_type": "code",
      "execution_count": null,
      "metadata": {
        "id": "3Pth09Vbs6iW"
      },
      "outputs": [],
      "source": [
        "def hash_bucket(value):\n",
        "  return value % 10"
      ]
    },
    {
      "cell_type": "code",
      "execution_count": null,
      "metadata": {
        "id": "H_tCmvS0Pnuc"
      },
      "outputs": [],
      "source": [
        "print(hash_bucket(107))"
      ]
    },
    {
      "cell_type": "markdown",
      "metadata": {
        "id": "MOrJfzVHVQue"
      },
      "source": [
        "## Question 1"
      ]
    },
    {
      "cell_type": "markdown",
      "metadata": {
        "id": "8WldYt9uLYNy"
      },
      "source": [
        "Which of the following statements about a hash function are true? There may be more than one correct response."
      ]
    },
    {
      "cell_type": "markdown",
      "metadata": {
        "id": "t1wrRdBepSVv"
      },
      "source": [
        "**a)** A hash function can be used only with integer inputs.\n",
        "\n",
        "**b)** A hash function should produce only integer outputs.\n",
        "\n",
        "**c)** A hash function's output should be randomized so that a given input can produce different outputs when run through the same hash function.\n",
        "\n",
        "**d)** The hash function you use depends on the number of hash buckets you have available."
      ]
    },
    {
      "cell_type": "markdown",
      "metadata": {
        "id": "ZsbmKtg7n0cJ"
      },
      "source": [
        "### Solution"
      ]
    },
    {
      "cell_type": "markdown",
      "metadata": {
        "id": "zk2njOE6n6IU"
      },
      "source": [
        "The correct answers are **b)** and **d)**.\n",
        "\n",
        "**a)** As long as you have the correct hash function, your inputs can be arbitrary. The input itself just needs to be hashable.\n",
        "\n",
        "**c)** A hash function should be consistent. If you input a value, a hash function should always return the same output for the given input."
      ]
    },
    {
      "cell_type": "markdown",
      "metadata": {
        "id": "sKO8iIQFRqTP"
      },
      "source": [
        "## Question 2"
      ]
    },
    {
      "cell_type": "markdown",
      "metadata": {
        "id": "Yif4pTvpRqTQ"
      },
      "source": [
        "Which one of the following statements about a hash bucket is true?"
      ]
    },
    {
      "cell_type": "markdown",
      "metadata": {
        "id": "T7KVpVLkqHWi"
      },
      "source": [
        "**a)** Hash tables use hash buckets to store values.\n",
        "\n",
        "**b)** A hash table uses a single hash bucket that can store multiple values.\n",
        "\n",
        "**c)** Hash buckets can store only integers."
      ]
    },
    {
      "cell_type": "markdown",
      "metadata": {
        "id": "UU9upH2gpf5m"
      },
      "source": [
        "### Solution"
      ]
    },
    {
      "cell_type": "markdown",
      "metadata": {
        "id": "SYAKq_NMppRz"
      },
      "source": [
        "The correct answer is **a)**.\n",
        "\n",
        "Which of the following statements about a hash bucket are true?\n",
        "\n",
        "**b)** Generally hash tables attempt to store values so that they're fairly evenly spread across multiple buckets.\n",
        "\n",
        "**c)** A hash bucket should be able to store any arbitrary data. We use integer outputs from hash functions to identify the hash bucket that we will store our data in."
      ]
    },
    {
      "cell_type": "markdown",
      "metadata": {
        "id": "HUn6zyALTqVd"
      },
      "source": [
        "## Question 3"
      ]
    },
    {
      "cell_type": "markdown",
      "metadata": {
        "id": "ZLwJvvRgTqVd"
      },
      "source": [
        "Which of the following statements about the modulo operator are true? There may be more than one correct response.\n"
      ]
    },
    {
      "cell_type": "markdown",
      "metadata": {
        "id": "iLVmsaYoq9QE"
      },
      "source": [
        "**a)** Any number modulo 0 raises an error.\n",
        "\n",
        "**b)** The modulo operator can return fractional / decimal values.\n",
        "\n",
        "**c)** Modulo raises a `NoRemainderError` if no remainder exists.\n",
        "\n",
        "**d)** A number modulo a larger number raises an error, such as `5 % 6`."
      ]
    },
    {
      "cell_type": "markdown",
      "metadata": {
        "id": "uvlFyblgqecs"
      },
      "source": [
        "### Solution"
      ]
    },
    {
      "cell_type": "markdown",
      "metadata": {
        "id": "0tSQGKHgqXqZ"
      },
      "source": [
        "The correct answers are **a)** and **b)**. \n",
        "\n",
        "**c)** In that case, it just returns 0. We can check this by verifying that `10 % 10 == 0`.\n",
        "\n",
        "**d)** Modulo would just return the number on the left-hand side. In this case, `5 % 6 == 5` because 5 divided by 6 is 0, with a remainder of 5."
      ]
    },
    {
      "cell_type": "markdown",
      "metadata": {
        "id": "PQCEgYk2WIe5"
      },
      "source": [
        "## Question 4"
      ]
    },
    {
      "cell_type": "markdown",
      "metadata": {
        "id": "Ksjiwv5FWIe5"
      },
      "source": [
        "[\"Duck, Duck, Goose\"](https://en.wikipedia.org/wiki/Duck,_duck,_goose) is a common children's game in which children sit in a circle while one player (the caller) walks around the circle saying \"Duck\" or \"Goose\" to the other players as they pass by. If \"Goose\" is ever said, the indicated player must quickly stand up and run clockwise around the circle to tag the caller before the caller can sit down in the player's spot. This action ends the caller's turn. We can trace this out in code using the modulo operator."
      ]
    },
    {
      "cell_type": "markdown",
      "metadata": {
        "id": "CvBzzL8L8-UM"
      },
      "source": [
        "Write a `duck_duck_goose` function that takes a list of players as input and some integer `num_calls_before_goose` which is the number of times that the caller will say \"duck\" before saying \"goose\". Your function should print a player's name and \"Duck...\" or \"Goose!\", depending on which should be said. You can assume `num_calls_before_goose` is an integer greater than 0."
      ]
    },
    {
      "cell_type": "code",
      "execution_count": null,
      "metadata": {
        "id": "rmGC9MqFWIe5"
      },
      "outputs": [],
      "source": [
        "def duck_duck_goose(player_list, num_calls_before_goose):\n",
        "  # TODO(you): implement\n",
        "  print('This function has not been implemented.')"
      ]
    },
    {
      "cell_type": "markdown",
      "metadata": {
        "id": "cjrwBd7tYOoI"
      },
      "source": [
        "### Hint"
      ]
    },
    {
      "cell_type": "markdown",
      "metadata": {
        "id": "rcoKPBC0YOoI"
      },
      "source": [
        "You'll need to use the modulo operator to iterate through a list. You can use `% len(player_list)` to avoid indexing out of bounds as you iterate. You'll also need to print the player's name and \"Duck\" or \"Goose\", like so:\n",
        "\n",
        "```python\n",
        "current_player = 0 # You'll need to determine the current player.\n",
        "print(player_list[current_player], ' - Duck...')\n",
        "```"
      ]
    },
    {
      "cell_type": "markdown",
      "metadata": {
        "id": "VrvC2lyKXOnX"
      },
      "source": [
        "### Unit Tests\n",
        "\n",
        "Run the following cell to check your answer against some unit tests."
      ]
    },
    {
      "cell_type": "code",
      "execution_count": null,
      "metadata": {
        "id": "sQq2o6ZRXOnX"
      },
      "outputs": [],
      "source": [
        "duck_duck_goose(['Jerry', 'Tom'], 4)\n",
        "# Should print:\n",
        "# Jerry - Duck...\n",
        "# Tom - Duck...\n",
        "# Jerry - Duck...\n",
        "# Tom - Duck...\n",
        "# Jerry - Goose!\n",
        "\n",
        "duck_duck_goose(['Abigail', 'Billy', 'Chih'], 4)\n",
        "# Should print:\n",
        "# Abigail - Duck...\n",
        "# Billy - Duck...\n",
        "# Chih - Duck...\n",
        "# Abigail - Duck...\n",
        "# Billy - Goose!\n",
        "\n",
        "duck_duck_goose(['Abigail', 'Billy', 'Chih'], 6)\n",
        "# Should print:\n",
        "# Abigail - Duck...\n",
        "# Billy - Duck...\n",
        "# Chih - Duck...\n",
        "# Abigail - Duck...\n",
        "# Billy - Duck...\n",
        "# Chih - Duck...\n",
        "# Abigail - Goose!"
      ]
    },
    {
      "cell_type": "markdown",
      "metadata": {
        "id": "OfsyBibTWIe5"
      },
      "source": [
        "### Solution"
      ]
    },
    {
      "cell_type": "markdown",
      "metadata": {
        "id": "dD97L0neXz8J"
      },
      "source": [
        "Don't forget that `num_calls_before_goose` doesn't include calling \"goose\", so you need to add an extra call for the final player."
      ]
    },
    {
      "cell_type": "code",
      "execution_count": null,
      "metadata": {
        "id": "qOFr6XXzWIe5"
      },
      "outputs": [],
      "source": [
        "def duck_duck_goose(player_list, num_calls_before_goose):\n",
        "  for i in range(num_calls_before_goose):\n",
        "    print(player_list[i % len(player_list)], '- Duck...')\n",
        "  # Now we can call goose. We can use num_calls_before_goose explicitly,\n",
        "  # since arrays are 0-indexed. Don't forget to use modulo!\n",
        "  print(player_list[num_calls_before_goose % len(player_list)], '- Goose!')"
      ]
    },
    {
      "cell_type": "markdown",
      "metadata": {
        "id": "d2Edaw5QhZKH"
      },
      "source": [
        "## Question 5"
      ]
    },
    {
      "cell_type": "markdown",
      "metadata": {
        "id": "HIzL9bzBh7XM"
      },
      "source": [
        "Parameterize the following hash function so that the number of buckets (10 in the example) is an input to the function."
      ]
    },
    {
      "cell_type": "code",
      "execution_count": null,
      "metadata": {
        "id": "nTyzwIDhhne8"
      },
      "outputs": [],
      "source": [
        "def hash_bucket(value):\n",
        "  # TODO(you): Parameterize so that the number of buckets is a function input.\n",
        "  return value % 10"
      ]
    },
    {
      "cell_type": "markdown",
      "metadata": {
        "id": "aHrs-T5mhs6j"
      },
      "source": [
        "### Solution"
      ]
    },
    {
      "cell_type": "code",
      "execution_count": null,
      "metadata": {
        "id": "Cfoi8vEKtmxR"
      },
      "outputs": [],
      "source": [
        "def hash_bucket(value, n_buckets):\n",
        "  return value % n_buckets"
      ]
    },
    {
      "cell_type": "markdown",
      "metadata": {
        "id": "WH3-4aEnhamm"
      },
      "source": [
        "## Question 6"
      ]
    },
    {
      "cell_type": "markdown",
      "metadata": {
        "id": "qZ2GUtZOh86n"
      },
      "source": [
        "For what values of `n_buckets` is this hash function undefined? Add some lines to raise a `ValueError` for these input values."
      ]
    },
    {
      "cell_type": "code",
      "execution_count": null,
      "metadata": {
        "id": "SJ7W4pmpjSj1"
      },
      "outputs": [],
      "source": [
        "def hash_bucket(value, n_buckets):\n",
        "  # TODO(you): Raise a ValueError if the hash function is undefined.\n",
        "  return value % n_buckets"
      ]
    },
    {
      "cell_type": "markdown",
      "metadata": {
        "id": "-JHcQOIMKSgT"
      },
      "source": [
        "### Hint"
      ]
    },
    {
      "cell_type": "markdown",
      "metadata": {
        "id": "KZr2mX8HJYEo"
      },
      "source": [
        "You can use the `isinstance` function to check if an object is a given type."
      ]
    },
    {
      "cell_type": "code",
      "execution_count": null,
      "metadata": {
        "id": "Xj3N2OSLJceY"
      },
      "outputs": [],
      "source": [
        "isinstance(3, int) # Is 3 an integer?"
      ]
    },
    {
      "cell_type": "markdown",
      "metadata": {
        "id": "uFDH-lAKjTZs"
      },
      "source": [
        "### Unit Tests\n",
        "\n",
        "Run the following cell to check your answer against some unit tests."
      ]
    },
    {
      "cell_type": "code",
      "execution_count": null,
      "metadata": {
        "id": "89RefPHOj1Im"
      },
      "outputs": [],
      "source": [
        "print(hash_bucket(3, 2))\n",
        "# Should print: 1\n",
        "\n",
        "print(hash_bucket(3, -2))\n",
        "# Should raise: ValueError\n",
        "\n",
        "print(hash_bucket(3, 1.5))\n",
        "# Should raise: ValueError"
      ]
    },
    {
      "cell_type": "markdown",
      "metadata": {
        "id": "j_9YS7UejX-2"
      },
      "source": [
        "### Solution"
      ]
    },
    {
      "cell_type": "markdown",
      "metadata": {
        "id": "kUTZiymCiNtW"
      },
      "source": [
        "The function should raise an error whenever `n_buckets` is not a positive integer."
      ]
    },
    {
      "cell_type": "code",
      "execution_count": null,
      "metadata": {
        "id": "eSz78cEfyyt_"
      },
      "outputs": [],
      "source": [
        "def hash_bucket(value, n_buckets):\n",
        "  if not isinstance(n_buckets, int) or n_buckets \u003c= 0:\n",
        "    raise ValueError('n_buckets must be a positive integer.')\n",
        "\n",
        "  return value % n_buckets"
      ]
    },
    {
      "cell_type": "markdown",
      "metadata": {
        "id": "q2QO9wM5hb1_"
      },
      "source": [
        "## Question 7"
      ]
    },
    {
      "cell_type": "markdown",
      "metadata": {
        "id": "OWgKwn4kh-pC"
      },
      "source": [
        "Write a hash function with 100 buckets for a `float` input. The output buckets should be the integers from 0 to 99 inclusive. (There are several correct answers to this question.)"
      ]
    },
    {
      "cell_type": "code",
      "execution_count": null,
      "metadata": {
        "id": "GkOOq0AYlBql"
      },
      "outputs": [],
      "source": [
        "def hash_bucket(f):\n",
        "  \"\"\"Hash function for a float-valued input f with 100 buckets.\"\"\"\n",
        "  # TODO(you): Implement\n",
        "  print(\"This function has not been implemented.\")"
      ]
    },
    {
      "cell_type": "markdown",
      "metadata": {
        "id": "wGmw44dfk6v4"
      },
      "source": [
        "### Unit Tests\n",
        "\n",
        "Run the following cell to check your answer against some unit tests."
      ]
    },
    {
      "cell_type": "code",
      "execution_count": null,
      "metadata": {
        "id": "RB5RCwLrk6KS"
      },
      "outputs": [],
      "source": [
        "def output_is_ok(x):\n",
        "  # Check that a bucket is an integer in [0, 99].\n",
        "  return isinstance(x, int) and 0 \u003c= x \u003c= 99\n",
        "\n",
        "print(output_is_ok(hash_bucket(0.123456789)))\n",
        "# Should print: True\n",
        "\n",
        "print(output_is_ok(hash_bucket(-9876543210)))\n",
        "# Should print: True\n",
        "\n",
        "print(output_is_ok(hash_bucket(-2718281.828459045)))\n",
        "# Should print: True\n",
        "\n",
        "print(output_is_ok(hash_bucket(3.141592653589793)))\n",
        "# Should print: True"
      ]
    },
    {
      "cell_type": "markdown",
      "metadata": {
        "id": "Thq-Lhlfkm1M"
      },
      "source": [
        "### Solution"
      ]
    },
    {
      "cell_type": "markdown",
      "metadata": {
        "id": "OvrIbfnhiP7q"
      },
      "source": [
        "As stated in the question, there are several possible answers; this is only one of them.\n",
        "\n",
        "In this hash function, we take the [floor](https://en.wikipedia.org/wiki/Floor_and_ceiling_functions) of the value (the highest integer that is less than or equal to the value), then return the modulo of that number by 100.\n",
        "\n",
        "`int(f//1)` is just an easy way to calculate `floor(f)` without having to import any packages."
      ]
    },
    {
      "cell_type": "code",
      "execution_count": null,
      "metadata": {
        "id": "CYxjLBqGzteA"
      },
      "outputs": [],
      "source": [
        "def hash_bucket(f):\n",
        "  \"\"\"Hash function for a float-valued input f with 100 buckets.\"\"\"\n",
        "  return int(f//1) % 100"
      ]
    },
    {
      "cell_type": "markdown",
      "metadata": {
        "id": "m0DJfpAzu0VA"
      },
      "source": [
        "## Question 8"
      ]
    },
    {
      "cell_type": "markdown",
      "metadata": {
        "id": "JJdVJQ0fiwEf"
      },
      "source": [
        "Write a hash function that takes a string of any length and has 25 buckets. (Use the integers from 0 to 24 as the values for your hash buckets.)"
      ]
    },
    {
      "cell_type": "code",
      "execution_count": null,
      "metadata": {
        "id": "zHLhGKS_vwgJ"
      },
      "outputs": [],
      "source": [
        "def hash_bucket(string):\n",
        "  # TODO(you): Implement\n",
        "  print(\"This function has not been implemented.\")"
      ]
    },
    {
      "cell_type": "markdown",
      "metadata": {
        "id": "_J5abt8bu9pw"
      },
      "source": [
        "### Hint"
      ]
    },
    {
      "cell_type": "markdown",
      "metadata": {
        "id": "9eVY0CG4u-b0"
      },
      "source": [
        "If you like, you can use the `ord` function, which takes a single character and returns the [ASCII](https://en.wikipedia.org/wiki/ASCII) numeric value for that character."
      ]
    },
    {
      "cell_type": "code",
      "execution_count": null,
      "metadata": {
        "id": "GvkavqeKL0d4"
      },
      "outputs": [],
      "source": [
        "for char in 'P@s$w0Rd':\n",
        "  print(ord(char))"
      ]
    },
    {
      "cell_type": "markdown",
      "metadata": {
        "id": "B7IDrMzuvNWJ"
      },
      "source": [
        "### Unit Tests\n",
        "\n",
        "Run the following cell to check your answer against some unit tests."
      ]
    },
    {
      "cell_type": "code",
      "execution_count": null,
      "metadata": {
        "id": "f2m398iIvO_C"
      },
      "outputs": [],
      "source": [
        "def output_is_ok(x):\n",
        "  return isinstance(x, int) and 0 \u003c= x \u003c= 24\n",
        "\n",
        "print(output_is_ok(hash_bucket('')))\n",
        "# Should print: True\n",
        "\n",
        "print(output_is_ok(hash_bucket('¿Cómo estás?')))\n",
        "# Should print: True\n",
        "\n",
        "print(output_is_ok(hash_bucket('how_much_wood_could_a_woodchuck_chuck')))\n",
        "# Should print: True\n",
        "\n",
        "print(output_is_ok(hash_bucket('What does Anakin think about sand?')))\n",
        "# Should print: True"
      ]
    },
    {
      "cell_type": "markdown",
      "metadata": {
        "id": "3uPH7UW5vBd_"
      },
      "source": [
        "### Solution"
      ]
    },
    {
      "cell_type": "markdown",
      "metadata": {
        "id": "Tkvok-C_i3Ya"
      },
      "source": [
        "This function sums the ASCII values for each character in the string, then takes then takes the modulus by 25, to ensure there are 25 buckets. (Note that this is not the only solution.)"
      ]
    },
    {
      "cell_type": "code",
      "execution_count": null,
      "metadata": {
        "id": "7rIoFBX328fX"
      },
      "outputs": [],
      "source": [
        "def hash_bucket(string):\n",
        "  # Sum the value of all the characters in the string.\n",
        "  char_sum = 0\n",
        "  for i in string:\n",
        "    char_sum += ord(i)\n",
        "\n",
        "  # Return the sum of the values, mod the number of buckets.\n",
        "  return char_sum % 25"
      ]
    },
    {
      "cell_type": "markdown",
      "metadata": {
        "id": "xiS_ehM5u16k"
      },
      "source": [
        "## Question 9"
      ]
    },
    {
      "cell_type": "markdown",
      "metadata": {
        "id": "_m9GqNprix6R"
      },
      "source": [
        "Use your hash function from the previous exercise to calculate the hash buckets for the following strings.\n",
        "\n",
        "- \"Hash\"\n",
        "- \"functions\"\n",
        "- \"are\"\n",
        "- \"really...\"\n",
        "- \"REALLY\"\n",
        "- \"cool!\""
      ]
    },
    {
      "cell_type": "markdown",
      "metadata": {
        "id": "ivncIIyV9Rcf"
      },
      "source": [
        "The code from the solution to the previous exercise is copied below. If you have a different `hash_bucket` function, then your solution may be different."
      ]
    },
    {
      "cell_type": "code",
      "execution_count": null,
      "metadata": {
        "id": "mTt1lTUbkWrk"
      },
      "outputs": [],
      "source": [
        "def hash_bucket(string):\n",
        "  # Sum the value of all the characters in the string.\n",
        "  char_sum = 0\n",
        "  for i in string:\n",
        "    char_sum += ord(i)\n",
        "\n",
        "  # Return the sum of the values, mod the number of buckets.\n",
        "  return char_sum % 25"
      ]
    },
    {
      "cell_type": "code",
      "execution_count": null,
      "metadata": {
        "id": "SyqHbWFxkY0I"
      },
      "outputs": [],
      "source": [
        "# TODO(you): Calculate the hash bucket for the following strings:\n",
        "# - \"Hash\"\n",
        "# - \"functions\"\n",
        "# - \"are\"\n",
        "# - \"really...\"\n",
        "# - \"REALLY\"\n",
        "# - \"cool!\""
      ]
    },
    {
      "cell_type": "markdown",
      "metadata": {
        "id": "EyiykSceqTG8"
      },
      "source": [
        "### Solution"
      ]
    },
    {
      "cell_type": "markdown",
      "metadata": {
        "id": "XMCwBxCqi50w"
      },
      "source": [
        "If you have a different `hash_bucket` function in the previous exercise, your solution may be different, but not necessarily incorrect.\n",
        "\n",
        "Let's use a `for` loop to print the hash bucket for each of the words in the list."
      ]
    },
    {
      "cell_type": "code",
      "execution_count": null,
      "metadata": {
        "id": "QrImmwf2vmz1"
      },
      "outputs": [],
      "source": [
        "# This is the hash_bucket function in the solution to a previous question.\n",
        "\n",
        "def hash_bucket(string):\n",
        "  # Sum the value of all the characters in the string.\n",
        "  char_sum = 0\n",
        "  for i in string:\n",
        "    char_sum += ord(i)\n",
        "\n",
        "  # Return the sum of the values, mod the number of buckets.\n",
        "  return char_sum % 25"
      ]
    },
    {
      "cell_type": "code",
      "execution_count": null,
      "metadata": {
        "id": "5c56Lbz33vQA"
      },
      "outputs": [],
      "source": [
        "words = [\"Hash\", \"functions\", \"are\", \"really...\", \"REALLY\", \"cool!\"]\n",
        "\n",
        "for word in words:\n",
        "  print(\"'%s' is mapped to bucket %d.\" % (word, hash_bucket(word)))"
      ]
    },
    {
      "cell_type": "markdown",
      "metadata": {
        "id": "UmUfN6os4HPT"
      },
      "source": [
        "In this case, both \"are\" and \"cool!\" are mapped to bucket 12. This is called a *hash collision*, and you'll learn more about them in a subsequent lesson."
      ]
    },
    {
      "cell_type": "markdown",
      "metadata": {
        "id": "HhCDvnynOheA"
      },
      "source": [
        "## Question 10"
      ]
    },
    {
      "cell_type": "markdown",
      "metadata": {
        "id": "TdXJ4WxuOheA"
      },
      "source": [
        "Python implements its own hash function by default, called `hash`. Hashing works on a variety of different objects and variables, including instances of a class, if correctly implemented. By default, classes implement a `__hash__` method, but you can override it if you want a specific piece of information about that class to be the main hash feature. Take this `Student` class, for instance:"
      ]
    },
    {
      "cell_type": "code",
      "execution_count": null,
      "metadata": {
        "id": "TABd73EEPNqP"
      },
      "outputs": [],
      "source": [
        "class Student:\n",
        "\n",
        "  def __init__(self, id, name, grade):\n",
        "    self.id = id\n",
        "    self.name = name\n",
        "    self.grade = grade\n",
        "\n",
        "  def __hash__(self):\n",
        "    return hash(self.id)"
      ]
    },
    {
      "cell_type": "markdown",
      "metadata": {
        "id": "DsFOCc7_Pay1"
      },
      "source": [
        "If we were to call `hash` on an instance of the `Student` class, it would now depend on their ID number. Write a `student_hash` method that uses `hash` to take an instance of the `Student` class as input and return a value between 1 and `num_buckets` as output."
      ]
    },
    {
      "cell_type": "code",
      "execution_count": null,
      "metadata": {
        "id": "mOpzdzpyP698"
      },
      "outputs": [],
      "source": [
        "def student_hash(student, num_buckets):\n",
        "  # TODO(you): implement\n",
        "  print('This method has not been implemented!')"
      ]
    },
    {
      "cell_type": "markdown",
      "metadata": {
        "id": "elsgpNW6QiA0"
      },
      "source": [
        "### Unit Tests\n",
        "\n",
        "Run the following cell to check your answer against some unit tests."
      ]
    },
    {
      "cell_type": "code",
      "execution_count": null,
      "metadata": {
        "id": "bGn_2PnSOheA"
      },
      "outputs": [],
      "source": [
        "students = [Student(1048, 'M. Morales', 11),\n",
        "            Student(65, 'G. Stacey', 9)]\n",
        "\n",
        "print(student_hash(students[0], 5))\n",
        "# Should print: 3\n",
        "\n",
        "print(student_hash(students[1], 5))\n",
        "# Should print: 0\n",
        "\n",
        "print(student_hash(students[0], 10))\n",
        "# Should print: 8"
      ]
    },
    {
      "cell_type": "markdown",
      "metadata": {
        "id": "Tkv-NdAsOheA"
      },
      "source": [
        "### Solution"
      ]
    },
    {
      "cell_type": "markdown",
      "metadata": {
        "id": "UsB4mSxmOheA"
      },
      "source": [
        "`hash` works essentially like the hash functions we've already written, even though we don't see specifically what the `hash` function is doing."
      ]
    },
    {
      "cell_type": "code",
      "execution_count": null,
      "metadata": {
        "id": "MXYxKyq4OheA"
      },
      "outputs": [],
      "source": [
        "def student_hash(student, num_buckets):\n",
        "  return hash(student) % num_buckets"
      ]
    },
    {
      "cell_type": "markdown",
      "metadata": {
        "id": "PF0o6UffheO0"
      },
      "source": [
        "## Question 11"
      ]
    },
    {
      "cell_type": "markdown",
      "metadata": {
        "id": "Zf8P7B0K8R7p"
      },
      "source": [
        "How many buckets does the following hash function have?"
      ]
    },
    {
      "cell_type": "code",
      "execution_count": null,
      "metadata": {
        "id": "3I80SMWY8amt"
      },
      "outputs": [],
      "source": [
        "def hash_function(i):\n",
        "  if not isinstance(i, float) or not (0 \u003c i \u003c 1):\n",
        "    raise ValueError(\"Input must be a float between 0 and 1 exclusive.\")\n",
        "  return int(i**i * 500)"
      ]
    },
    {
      "cell_type": "code",
      "execution_count": null,
      "metadata": {
        "id": "SpF42mH_VU9V"
      },
      "outputs": [],
      "source": [
        "#freetext"
      ]
    },
    {
      "cell_type": "markdown",
      "metadata": {
        "id": "GqeKLocLA9y7"
      },
      "source": [
        "### Solution\n"
      ]
    },
    {
      "cell_type": "markdown",
      "metadata": {
        "id": "j9MEEN9S8Xm9"
      },
      "source": [
        "This hash function returns integers between 0 and 499, so it has 500 buckets."
      ]
    },
    {
      "cell_type": "markdown",
      "metadata": {
        "id": "KxBAeCsslM0I"
      },
      "source": [
        "The first thing to notice is that this function is only valid for float inputs in the range $(0, 1)$. Therefore, since we know that $0 \u003c i \u003c 1$, we know that $0 \u003c i^j \u003c 1$ for any positive $j$. And since we know that $i$ itself is positive, we know that $0 \u003c i^i \u003c 1$.\n",
        "\n",
        "Since $0 \u003c i^i \u003c 1$, it follows that $0 \u003c 500i^i \u003c 500$. The `int` function acts as a `floor` function, returning the highest integer less than or equal to the input. Therefore, $0 \\leq \\textrm{floor} (500i^i) \u003c 500$. (Note that the lower inequality became a strict inequality in the last step.)"
      ]
    },
    {
      "cell_type": "markdown",
      "metadata": {
        "id": "Ri1SxIqbhc9_"
      },
      "source": [
        "## Question 12"
      ]
    },
    {
      "cell_type": "markdown",
      "metadata": {
        "id": "NUna9Tt9iARL"
      },
      "source": [
        "You wrote the following hash function to hash a float-valued number to one of 100 buckets. (Remember that `int(x//1)` is equivalent to `floor(x)`.)"
      ]
    },
    {
      "cell_type": "code",
      "execution_count": null,
      "metadata": {
        "id": "hrCNTygtt8hd"
      },
      "outputs": [],
      "source": [
        "def hash_bucket(f):\n",
        "  \"\"\"Hash function for a float-valued input f with 100 buckets.\"\"\"\n",
        "  return int(f//1) % 100"
      ]
    },
    {
      "cell_type": "markdown",
      "metadata": {
        "id": "K7D29z9g0iHh"
      },
      "source": [
        "The function worked fine when the input `f` was any random float. But what if the input is restricted to the range 0 to 1 exclusive? If you use this same function on the new inputs, all values are hashed to 0. This isn't a very effective hash function, since it is supposed to have 100 buckets.\n",
        "\n",
        "Modify this function to raise a `ValueError` if the input `f` is not within the required range $(0, 1)$, and to be evenly distributed across all of the possible bucket values."
      ]
    },
    {
      "cell_type": "code",
      "execution_count": null,
      "metadata": {
        "id": "aVk_7--Mlbrp"
      },
      "outputs": [],
      "source": [
        "def hash_bucket(f):\n",
        "  \"\"\"Hash function for a float-valued input f with 100 buckets.\"\"\"\n",
        "  # TODO(you): Raise a ValueError if f is not in (0, 1).\n",
        "  # TODO(you): Modify the return statement so that the output is more even.\n",
        "  return int(f//1) % 100"
      ]
    },
    {
      "cell_type": "markdown",
      "metadata": {
        "id": "VX2FywnouEbi"
      },
      "source": [
        "### Solution"
      ]
    },
    {
      "cell_type": "markdown",
      "metadata": {
        "id": "XQtred81iRTj"
      },
      "source": [
        "Since the function should still have 100 buckets, it makes sense to keep the `% 100` operation. Instead of applying the modulus to `f`, we can apply it to the first two decimal places of `f`. These digits can be accessed by multiplying `f` by 100."
      ]
    },
    {
      "cell_type": "code",
      "execution_count": null,
      "metadata": {
        "id": "nIHQr3PW1Dj_"
      },
      "outputs": [],
      "source": [
        "def hash_bucket(f):\n",
        "  if not (0 \u003c f \u003c 1):\n",
        "    raise ValueError(\"Input must be between 0 and 1 inclusive.\")\n",
        "\n",
        "  return int((f*100)//1)"
      ]
    },
    {
      "cell_type": "markdown",
      "metadata": {
        "id": "veSyxOo70d2W"
      },
      "source": [
        "## Question 13"
      ]
    },
    {
      "cell_type": "markdown",
      "metadata": {
        "id": "EkxLFtC8i9fC"
      },
      "source": [
        "A few days ago, a colleague came to you for some advice on how to store data. You suggested a hash function. Now, they are having some problems getting their hash function to work. Once the hash is used to store data, your colleague cannot retrieve the data. Can you identify why the hash function is not working as intended? What possible solutions might you suggest?"
      ]
    },
    {
      "cell_type": "code",
      "execution_count": null,
      "metadata": {
        "id": "8nnmnqFe4X2d"
      },
      "outputs": [],
      "source": [
        "import random\n",
        "\n",
        "def my_hash(input):\n",
        "  \"\"\"Hash function with 100 buckets.\"\"\"\n",
        "  # Return a random integer between 0 and 99.\n",
        "  return random.randrange(100)"
      ]
    },
    {
      "cell_type": "markdown",
      "metadata": {
        "id": "gMkSEDlN4jt6"
      },
      "source": [
        "### Solution"
      ]
    },
    {
      "cell_type": "markdown",
      "metadata": {
        "id": "hbj6R2h2i_7E"
      },
      "source": [
        "The main problem with this hash function is that it is *independent of the input*. You might notice that `input` does not appear in the function body. As a result, this function is useless for data storage; it is just a random number generator."
      ]
    },
    {
      "cell_type": "markdown",
      "metadata": {
        "id": "vuqcKQB2l1BA"
      },
      "source": [
        "Your suggestion for a better hash function would probably depend on what kind of data your colleague is expecting. If it is equally likely to be any float in the computer's range, it may make sense just to use `input % 100`. However, if all the inputs are within a given range (e.g. within 0 and 10), you would need to ensure a reasonable distribution between buckets. If the input is a string, then a different approach would be required."
      ]
    },
    {
      "cell_type": "markdown",
      "metadata": {
        "id": "XKh-mClk0fJC"
      },
      "source": [
        "## Question 14"
      ]
    },
    {
      "cell_type": "markdown",
      "metadata": {
        "id": "nKeuq8uW46iO"
      },
      "source": [
        "Your colleague is working with word data, and has written the following hash function. The input to the function is always a single word."
      ]
    },
    {
      "cell_type": "code",
      "execution_count": null,
      "metadata": {
        "id": "BmJj9NPe6l1Z"
      },
      "outputs": [],
      "source": [
        "def my_hash(word):\n",
        "  \"\"\"Hash function with a string input and 250 buckets.\"\"\"\n",
        "  return len(word) % 250\n",
        "\n",
        "print(my_hash('tundra'))\n",
        "print(my_hash('taiga'))\n",
        "print(my_hash('savanna'))\n",
        "print(my_hash('grassland'))"
      ]
    },
    {
      "cell_type": "code",
      "execution_count": null,
      "metadata": {
        "id": "mw_EaNnOmBkK"
      },
      "outputs": [],
      "source": [
        "# TODO(you): Write a better hash function for these inputs."
      ]
    },
    {
      "cell_type": "markdown",
      "metadata": {
        "id": "HbZWFLaA7Cs_"
      },
      "source": [
        "They are finding that even though this function should have 250 buckets, the hash buckets for their input words are usually below 10, and always below 20. Why is this? Can you think of a way to fix this?"
      ]
    },
    {
      "cell_type": "markdown",
      "metadata": {
        "id": "LuSZLDPlzdBY"
      },
      "source": [
        "### Solution"
      ]
    },
    {
      "cell_type": "markdown",
      "metadata": {
        "id": "hbfut6v47Qnp"
      },
      "source": [
        "The input to `my_hash` is always a single word. Therefore, when `my_hash` calculates `len(word)` for a single word, it is just the number of letters in the word, which is below 20 for most words."
      ]
    },
    {
      "cell_type": "markdown",
      "metadata": {
        "id": "yMLbrNE5l8uK"
      },
      "source": [
        "We could consider squaring or cubing `len(s)` before applying `% 250`. However, this will result in all 3-letter words having the same bucket, all 4-letter words having the same bucket, and so on.\n",
        "\n",
        "A better approach would be to convert characters to numbers and then sum the values of each character. The [ASCII](https://en.wikipedia.org/wiki/ASCII) encoding is the most ubiquitous method of converting a character to an integer value, and Python's `ord` function implements this."
      ]
    },
    {
      "cell_type": "code",
      "execution_count": null,
      "metadata": {
        "id": "g_tLTMGexdtU"
      },
      "outputs": [],
      "source": [
        "def my_hash(word):\n",
        "  \"\"\"Hash function with a string input and 250 buckets.\"\"\"\n",
        "  # Sum the value of all the characters in the string.\n",
        "  char_sum = 0\n",
        "  for i in word:\n",
        "    char_sum += ord(i)\n",
        "\n",
        "  # Return the sum of the values, mod the number of buckets.\n",
        "  return char_sum % 250"
      ]
    },
    {
      "cell_type": "markdown",
      "metadata": {
        "id": "-UnVZzWoxgy4"
      },
      "source": [
        "If this approach doesn't give us enough buckets, we could even add the squared ASCII values `ord(i)**2` of each letter in the string."
      ]
    }
  ],
  "metadata": {
    "colab": {
      "collapsed_sections": [
        "ZsbmKtg7n0cJ",
        "UU9upH2gpf5m",
        "uvlFyblgqecs",
        "cjrwBd7tYOoI",
        "VrvC2lyKXOnX",
        "OfsyBibTWIe5",
        "aHrs-T5mhs6j",
        "-JHcQOIMKSgT",
        "uFDH-lAKjTZs",
        "j_9YS7UejX-2",
        "wGmw44dfk6v4",
        "Thq-Lhlfkm1M",
        "_J5abt8bu9pw",
        "B7IDrMzuvNWJ",
        "3uPH7UW5vBd_",
        "EyiykSceqTG8",
        "elsgpNW6QiA0",
        "Tkv-NdAsOheA",
        "GqeKLocLA9y7",
        "VX2FywnouEbi",
        "gMkSEDlN4jt6",
        "LuSZLDPlzdBY"
      ],
      "name": "hash_functions.ipynb",
      "provenance": [ ]
    },
    "kernelspec": {
      "display_name": "Python 3",
      "name": "python3"
    }
  },
  "nbformat": 4,
  "nbformat_minor": 0
}
