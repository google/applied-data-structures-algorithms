{
  "cells": [
    {
      "cell_type": "markdown",
      "metadata": {
        "id": "NYEjBqiKwurw"
      },
      "source": [
        "# Hash Collisions"
      ]
    },
    {
      "cell_type": "markdown",
      "metadata": {
        "id": "jPDVz0YszDK6"
      },
      "source": [
        "## Lesson Overview"
      ]
    },
    {
      "cell_type": "markdown",
      "metadata": {
        "id": "E00OTzwskygJ"
      },
      "source": [
        "The reason hash functions are so useful is that we can store complex data types and values as integer-valued hash buckets. However, issues arise if a hash function maps two distinct values to the same bucket; in that case, we can't distinguish between these two values."
      ]
    },
    {
      "cell_type": "markdown",
      "metadata": {
        "id": "WYfGXfGS0sfD"
      },
      "source": [
        "\u003e A **hash collision** is when a hash function maps two different values to the same bucket.\n",
        "\n",
        "For a hash function $H$, a collision exists for two values $a$ and $b$ if $a \\neq b$ but $H(a) = H(b)$.\n",
        "\n",
        "When there are more input values than buckets, the hash function is guaranteed to have collisions. Even when there are fewer input values than buckets, it is still possible to have collisions."
      ]
    },
    {
      "cell_type": "markdown",
      "metadata": {
        "id": "4dkWITS3LWUN"
      },
      "source": [
        "## Question 1"
      ]
    },
    {
      "cell_type": "markdown",
      "metadata": {
        "id": "8WldYt9uLYNy"
      },
      "source": [
        "Which of the following statements about a hash collision are true? There may be more than one correct response.\n"
      ]
    },
    {
      "cell_type": "markdown",
      "metadata": {
        "id": "qf82vSAZw6PC"
      },
      "source": [
        "**a)** A hash collision occurs when a hash function maps two different inputs to the same bucket.\n",
        "\n",
        "**b)** If a hash function has more input values than buckets, a collision cannot be avoided.\n",
        "\n",
        "**c)** If a hash function has fewer input values than buckets, a collision cannot occur."
      ]
    },
    {
      "cell_type": "markdown",
      "metadata": {
        "id": "J_UCWRRJwh6l"
      },
      "source": [
        "### Solution"
      ]
    },
    {
      "cell_type": "markdown",
      "metadata": {
        "id": "6ia_wGE0wkew"
      },
      "source": [
        "The correct answers are **a)** and **b)**. \n",
        "\n",
        "**c)**  A collision can still occur even when there are more buckets than input values."
      ]
    },
    {
      "cell_type": "markdown",
      "metadata": {
        "id": "y87y3nkdDDKf"
      },
      "source": [
        "## Question 2"
      ]
    },
    {
      "cell_type": "markdown",
      "metadata": {
        "id": "EwsIDzrKk46r"
      },
      "source": [
        "You have data coming in that can be any lower-case character. Will the following hash function have any potential collisions? If so, for what values and buckets?"
      ]
    },
    {
      "cell_type": "code",
      "execution_count": null,
      "metadata": {
        "id": "rtGHi6OXfs_p"
      },
      "outputs": [],
      "source": [
        "import string\n",
        "\n",
        "def hash_bucket(char):\n",
        "  # Raise an error if the character is not a lower-case character.\n",
        "  if len(char) != 1 or not char.islower():\n",
        "    raise ValueError('Input must be a single lower-case letter.')\n",
        "\n",
        "  # string.ascii_lowercase.index returns the position of a letter in the\n",
        "  # alphabet. For example:\n",
        "  # - string.ascii_lowercase.index('a') = 0\n",
        "  # - string.ascii_lowercase.index('e') = 4\n",
        "  return string.ascii_lowercase.index(char) % 25"
      ]
    },
    {
      "cell_type": "code",
      "execution_count": null,
      "metadata": {
        "id": "O48dPxEJcup7"
      },
      "outputs": [],
      "source": [
        "#freetext"
      ]
    },
    {
      "cell_type": "markdown",
      "metadata": {
        "id": "sPS__ZTgdKzr"
      },
      "source": [
        "### Solution"
      ]
    },
    {
      "cell_type": "markdown",
      "metadata": {
        "id": "hUcs6qevk9HC"
      },
      "source": [
        "This hash function has 25 buckets, since the `return` statement ends with `% 25`. In general, whenever a hash function ends with `% n` it has $n$ buckets, since `x % n` is always an integer between 0 and $n-1$.\n",
        "\n",
        "There are 26 possible input values, `'a'` through `'z'`. Since there are more input values than buckets, this function is guaranteed to have collisions.\n",
        "\n",
        "The collision occurs for `'a'` and `'z'`.\n",
        "\n",
        "```python\n",
        "hash_bucket('a') = 0 % 25\n",
        "                 = 0\n",
        "hash_bucket('z') = 25 % 25\n",
        "                 = 0\n",
        "```"
      ]
    },
    {
      "cell_type": "code",
      "execution_count": null,
      "metadata": {
        "id": "U1SQZFw1icDh"
      },
      "outputs": [],
      "source": [
        "import string\n",
        "\n",
        "def hash_bucket(char):\n",
        "  # Raise an error if the character is not a lower-case character.\n",
        "  if len(char) != 1 or not char.islower():\n",
        "    raise ValueError('Input must be a single lower-case letter.')\n",
        "\n",
        "  # string.ascii_lowercase.index returns the position of a letter in the\n",
        "  # alphabet. For example:\n",
        "  # - string.ascii_lowercase.index('a') = 0\n",
        "  # - string.ascii_lowercase.index('e') = 4\n",
        "  return string.ascii_lowercase.index(char) % 25"
      ]
    },
    {
      "cell_type": "code",
      "execution_count": null,
      "metadata": {
        "id": "v2tbzmqmeSt0"
      },
      "outputs": [],
      "source": [
        "print(hash_bucket('a'))\n",
        "print(hash_bucket('z'))"
      ]
    },
    {
      "cell_type": "markdown",
      "metadata": {
        "id": "fa9Koe1WDFi_"
      },
      "source": [
        "## Question 3"
      ]
    },
    {
      "cell_type": "markdown",
      "metadata": {
        "id": "XW9-sa-nk61z"
      },
      "source": [
        "Consider the following hash function for integers."
      ]
    },
    {
      "cell_type": "code",
      "execution_count": null,
      "metadata": {
        "id": "lbwwPpCOj5rn"
      },
      "outputs": [],
      "source": [
        "def hash_bucket(i):\n",
        "  return i**2 % 10"
      ]
    },
    {
      "cell_type": "markdown",
      "metadata": {
        "id": "PvHybKztvRkq"
      },
      "source": [
        "Below are the data you need to store using this hash function."
      ]
    },
    {
      "cell_type": "code",
      "execution_count": null,
      "metadata": {
        "id": "RBgT9Wo9vtU5"
      },
      "outputs": [],
      "source": [
        "data = [0, 6, -6, 3, 9, -5, 2, 1]"
      ]
    },
    {
      "cell_type": "markdown",
      "metadata": {
        "id": "CXykbbMNvxYl"
      },
      "source": [
        "For this data and hash function, do you expect any collisions? If so, for what values and buckets?"
      ]
    },
    {
      "cell_type": "code",
      "execution_count": null,
      "metadata": {
        "id": "yfan7tCFu87s"
      },
      "outputs": [],
      "source": [
        "# TODO(you): Write code to check for collisions."
      ]
    },
    {
      "cell_type": "markdown",
      "metadata": {
        "id": "Ym4wUECAdNP_"
      },
      "source": [
        "### Solution"
      ]
    },
    {
      "cell_type": "markdown",
      "metadata": {
        "id": "iWF4lrkPk9_m"
      },
      "source": [
        "This hash function has 10 buckets and there are 8 data points. Therefore, we are not *guaranteed* to have collisions, but there may be some anyway.\n",
        "\n",
        "The easiest way to check if there are collisions is to compute the hash bucket for every input value. (Note that realistically, this may not always be possible; for example when you have billions of inputs.) This can be accomplished with a `for` loop."
      ]
    },
    {
      "cell_type": "code",
      "execution_count": null,
      "metadata": {
        "id": "h7l4OeTavobX"
      },
      "outputs": [],
      "source": [
        "def hash_bucket(i):\n",
        "  return i**2 % 10\n",
        "\n",
        "data = [0, 6, -6, 3, 9, -5, 2, 1]"
      ]
    },
    {
      "cell_type": "code",
      "execution_count": null,
      "metadata": {
        "id": "mhei7B1Av9Lv"
      },
      "outputs": [],
      "source": [
        "for i in data:\n",
        "  print(\"input: %d, hash_bucket: %d\" % (i, hash_bucket(i)))"
      ]
    },
    {
      "cell_type": "markdown",
      "metadata": {
        "id": "hB_fpW4-Le-0"
      },
      "source": [
        "Both 6 and -6 map to 6, and both 1 and 9 map to 1. Therefore, two buckets (6 and 1) have collisions, with both containing two data entries."
      ]
    },
    {
      "cell_type": "markdown",
      "metadata": {
        "id": "UP54-GJoXXjk"
      },
      "source": [
        "## Question 4"
      ]
    },
    {
      "cell_type": "markdown",
      "metadata": {
        "id": "q-yPvfzwXXjk"
      },
      "source": [
        "Consider the following hash function for integers."
      ]
    },
    {
      "cell_type": "code",
      "execution_count": null,
      "metadata": {
        "id": "QNYh2bz3XXjk"
      },
      "outputs": [],
      "source": [
        "def hash_bucket(i):\n",
        "  return i**2 % 10"
      ]
    },
    {
      "cell_type": "markdown",
      "metadata": {
        "id": "rBulpw3xXXjk"
      },
      "source": [
        "Below are the data you need to store using this hash function."
      ]
    },
    {
      "cell_type": "code",
      "execution_count": null,
      "metadata": {
        "id": "gShbHoFNXXjk"
      },
      "outputs": [],
      "source": [
        "data = [0, 6, -6, 3, 9, -5, 2, 1]"
      ]
    },
    {
      "cell_type": "markdown",
      "metadata": {
        "id": "25YI5yNtXXjk"
      },
      "source": [
        "In the previous question, we showed that both 6 and -6 map to 6, and both 1 and 9 map to 1. What changes might you make to this hash function in order to reduce the number of collisions to 0?"
      ]
    },
    {
      "cell_type": "code",
      "execution_count": null,
      "metadata": {
        "id": "6pskJM3AvH7R"
      },
      "outputs": [],
      "source": [
        "def hash_bucket(i):\n",
        "  # TODO(you): Edit this function to avoid collisions.\n",
        "  return i**2 % 10"
      ]
    },
    {
      "cell_type": "markdown",
      "metadata": {
        "id": "hfqtbc3JXXjk"
      },
      "source": [
        "### Solution"
      ]
    },
    {
      "cell_type": "markdown",
      "metadata": {
        "id": "t9tFWciFXXjk"
      },
      "source": [
        "This is not the only correct solution, but given that negative numbers are handled differently than positive numbers by Python's modulo operator, you can change `hash_bucket` to cube the number, rather than square it."
      ]
    },
    {
      "cell_type": "code",
      "execution_count": null,
      "metadata": {
        "id": "hBQW0RcFXXjk"
      },
      "outputs": [],
      "source": [
        "def hash_bucket(i):\n",
        "  return i**3 % 10\n",
        "\n",
        "data = [0, 6, -6, 3, 9, -5, 2, 1]"
      ]
    },
    {
      "cell_type": "code",
      "execution_count": null,
      "metadata": {
        "id": "HCDiqfqJXXjk"
      },
      "outputs": [],
      "source": [
        "for i in data:\n",
        "  print(\"input: %d, hash_bucket: %d\" % (i, hash_bucket(i)))"
      ]
    },
    {
      "cell_type": "markdown",
      "metadata": {
        "id": "hUSwhAHgXXjk"
      },
      "source": [
        "Now, no two inputs map to the same output."
      ]
    },
    {
      "cell_type": "markdown",
      "metadata": {
        "id": "dIDpnruXechr"
      },
      "source": [
        "## Question 5"
      ]
    },
    {
      "cell_type": "markdown",
      "metadata": {
        "id": "ygltL2kkrX_C"
      },
      "source": [
        "Your coworker needs some help with a hash function, which is being used to store employee identification values. The company has 1,000 employees. Each employee's ID is a random integer between 0 and 99,999. The hash function used by your coworker has 2,000 buckets. Since there are more hash buckets than input values, your coworker doesn't know for sure if there are any collisions."
      ]
    },
    {
      "cell_type": "markdown",
      "metadata": {
        "id": "oJaF40XVOjnI"
      },
      "source": [
        "Instead of going through each value one by one, can you automate the checking of collisions? Assume:\n",
        "\n",
        "- The hash function has the signature `def hash_bucket(employee_id)`, where:\n",
        "  - `employee_id` is a string\n",
        "  - `hash_bucket` returns an integer between 0 and 1,999\n",
        "\n",
        "- The employee identification values are stored in a list called `employee_ids`."
      ]
    },
    {
      "cell_type": "code",
      "execution_count": null,
      "metadata": {
        "id": "k_SEE_6ZfUDE"
      },
      "outputs": [],
      "source": [
        "def check_collisions(hash_bucket, employee_ids):\n",
        "  \"\"\"Checks if a hash bucket function has collisions for a list of employee IDs.\n",
        "\n",
        "  Args:\n",
        "    hash_bucket: A hash function of employee ID to integer.\n",
        "    employee_ids: A list of employee_ids.\n",
        "\n",
        "  Returns:\n",
        "    A list of buckets that have multiple entries, in the form of a tuple. The\n",
        "    first element of the tuple is the hash bucket. The second element is a list\n",
        "    of all the employee IDs in that bucket.\n",
        "  \"\"\"\n",
        "  # TODO(you): Implement\n",
        "  print(\"This function has not been implemented.\")"
      ]
    },
    {
      "cell_type": "markdown",
      "metadata": {
        "id": "LKaPv9pEfYNx"
      },
      "source": [
        "### Unit Tests\n",
        "\n",
        "Run the following cell to check your answer against some unit tests."
      ]
    },
    {
      "cell_type": "code",
      "execution_count": null,
      "metadata": {
        "id": "1LPVvqEhshE5"
      },
      "outputs": [],
      "source": [
        "# Get some random employee IDs in the range 0 to 99.\n",
        "import random\n",
        "# Set a seed for consistent results.\n",
        "# If you want random results, comments the following line out.\n",
        "random.seed(1)\n",
        "\n",
        "employee_ids = []\n",
        "n_employees = 10\n",
        "for _ in range(n_employees):\n",
        "  employee_ids.append(random.randrange(100))\n",
        "\n",
        "print(check_collisions(lambda x: x % 20, employee_ids))\n",
        "# Should print: [(17, [17, 97, 97, 57]), (12, [72, 32])]"
      ]
    },
    {
      "cell_type": "markdown",
      "metadata": {
        "id": "nPi2_i4feg9z"
      },
      "source": [
        "### Solution"
      ]
    },
    {
      "cell_type": "markdown",
      "metadata": {
        "id": "8UOigqtOtNM2"
      },
      "source": [
        "This can be automated in a `for` loop. Note that this is not the only solution."
      ]
    },
    {
      "cell_type": "code",
      "execution_count": null,
      "metadata": {
        "id": "Xig98K9Rqipu"
      },
      "outputs": [],
      "source": [
        "def check_collisions(hash_bucket, employee_ids):\n",
        "  \"\"\"Checks if a hash bucket function has collisions for a list of employee IDs.\n",
        "\n",
        "  Args:\n",
        "    hash_bucket: A hash function of employee ID to integer.\n",
        "    employee_ids: A list of employee_ids.\n",
        "\n",
        "  Returns:\n",
        "    A list of buckets that have multiple entries, in the form of a tuple. The\n",
        "    first element of the tuple is the hash bucket. The second element is a list\n",
        "    of all the employee IDs in that bucket.\n",
        "  \"\"\"\n",
        "  # Since we need to check if a bucket has already been hit, it makes sense to\n",
        "  # use a dictionary, mapping a bucket to all of its entries.\n",
        "  buckets = {}\n",
        "\n",
        "  # Loop through all the employee_ids.\n",
        "  for id in employee_ids:\n",
        "    bucket = hash_bucket(id)\n",
        "    if bucket in buckets:\n",
        "      buckets[bucket].append(id)\n",
        "    else:\n",
        "      buckets[bucket] = [id]\n",
        "\n",
        "  # Return the buckets that have more than one entry.\n",
        "  output = []\n",
        "  for key, val in buckets.items():\n",
        "    if len(val) \u003e 1:\n",
        "      output.append((key, val))\n",
        "\n",
        "  return output"
      ]
    },
    {
      "cell_type": "markdown",
      "metadata": {
        "id": "LobSE5m5eeeW"
      },
      "source": [
        "## Question 6"
      ]
    },
    {
      "cell_type": "markdown",
      "metadata": {
        "id": "bX3AlNJzX1rc"
      },
      "source": [
        "Design a hash function with 10 buckets that satisfies the following map. The hash function only accepts non-negative integers."
      ]
    },
    {
      "cell_type": "markdown",
      "metadata": {
        "id": "yIfYj_2ke5ab"
      },
      "source": [
        "Input | Hash Bucket\n",
        "----- | -----------\n",
        "0     | 1\n",
        "3     | 8\n",
        "4     | 6\n",
        "6     | 4\n",
        "7     | 8\n",
        "10    | 4"
      ]
    },
    {
      "cell_type": "code",
      "execution_count": null,
      "metadata": {
        "id": "u9WW5Q9Hu0cK"
      },
      "outputs": [],
      "source": [
        "def hash_bucket(i):\n",
        "  if not isinstance(i, int) or i \u003c 0:\n",
        "    raise ValueError(\"Input must be a non-negative integer.\")\n",
        "  # TODO(you): Implement\n",
        "  print(\"This function has not been implemented.\")"
      ]
    },
    {
      "cell_type": "markdown",
      "metadata": {
        "id": "pZu7Uz5-pRrm"
      },
      "source": [
        "### Hint"
      ]
    },
    {
      "cell_type": "markdown",
      "metadata": {
        "id": "T_VFA16EpUCU"
      },
      "source": [
        "Notice that 0 is the only input that has an odd bucket. What function produces even results for all positive integers, but 1 for 0?"
      ]
    },
    {
      "cell_type": "markdown",
      "metadata": {
        "id": "ayJoY5wzgnFY"
      },
      "source": [
        "### Unit Tests\n",
        "\n",
        "Run the following cell to check your answer against some unit tests."
      ]
    },
    {
      "cell_type": "code",
      "execution_count": null,
      "metadata": {
        "id": "QYRWTTj0gpWA"
      },
      "outputs": [],
      "source": [
        "inputs = [0, 3, 4, 6, 7, 10]\n",
        "buckets = []\n",
        "\n",
        "for i in inputs:\n",
        "  buckets.append(hash_bucket(i))\n",
        "\n",
        "print(buckets)\n",
        "# Should print: [1, 8, 6, 4, 8, 4]"
      ]
    },
    {
      "cell_type": "markdown",
      "metadata": {
        "id": "8pOpmhKcejR4"
      },
      "source": [
        "### Solution"
      ]
    },
    {
      "cell_type": "markdown",
      "metadata": {
        "id": "gDcl8y55X9-Z"
      },
      "source": [
        "There may be several solutions. Here is just one."
      ]
    },
    {
      "cell_type": "code",
      "execution_count": null,
      "metadata": {
        "id": "zy0pzMkqvJMk"
      },
      "outputs": [],
      "source": [
        "def hash_bucket(i):\n",
        "  if not isinstance(i, int) or i \u003c 0:\n",
        "    raise ValueError(\"Input must be a non-negative integer.\")\n",
        "  return 2**i % 10"
      ]
    },
    {
      "cell_type": "markdown",
      "metadata": {
        "id": "PYZLfd6KvT-p"
      },
      "source": [
        "We can check our answers using a `for` loop."
      ]
    },
    {
      "cell_type": "code",
      "execution_count": null,
      "metadata": {
        "id": "-D2QQ-UPvTPh"
      },
      "outputs": [],
      "source": [
        "inputs = [0, 3, 4, 6, 7, 10]\n",
        "buckets = []\n",
        "\n",
        "for i in inputs:\n",
        "  buckets.append(hash_bucket(i))\n",
        "\n",
        "print(buckets)"
      ]
    },
    {
      "cell_type": "markdown",
      "metadata": {
        "id": "yJfjAS76qk3a"
      },
      "source": [
        "## Question 7"
      ]
    },
    {
      "cell_type": "markdown",
      "metadata": {
        "id": "SJA9T5MhKcPo"
      },
      "source": [
        "Your colleague has written the following hash function, that maps a word to integer buckets."
      ]
    },
    {
      "cell_type": "code",
      "execution_count": null,
      "metadata": {
        "id": "Q4INswCGKXqY"
      },
      "outputs": [],
      "source": [
        "def hash_bucket(word):\n",
        "  return len(word) % 100"
      ]
    },
    {
      "cell_type": "markdown",
      "metadata": {
        "id": "c9nEi9DAZ6XO"
      },
      "source": [
        "They then use this hash function to store the words in the following sentence ([source](https://en.wikipedia.org/wiki/Collision_(computer_science))) into integers.\n",
        "\n",
        "\u003e *In computer science, a collision or clash is a situation that occurs when two distinct pieces of data have the same hash value.*\n",
        "\n",
        "However, they notice that there are some collisions, even though the number of buckets (100) is much greater than the number of unique words in the sentence (22).\n",
        "\n",
        "Can you explain to your colleague why this might be a suboptimal choice of hash function, for this use case?"
      ]
    },
    {
      "cell_type": "code",
      "execution_count": null,
      "metadata": {
        "id": "dR10mL-cfG0s"
      },
      "outputs": [],
      "source": [
        "#freetext"
      ]
    },
    {
      "cell_type": "markdown",
      "metadata": {
        "id": "ZWeVEU1FrCUg"
      },
      "source": [
        "### Solution"
      ]
    },
    {
      "cell_type": "markdown",
      "metadata": {
        "id": "3PKBCfjKLBex"
      },
      "source": [
        "The problem with this hash function is that while there are theoretically 100 buckets, in order for a word to be put in bucket 99, it needs to have 99 characters in it. This is basically never true in English. Therefore, while there are 100 buckets, the *distribution* of values into buckets is not uniform. Most words will fall into buckets 1-15, with almost none falling in buckets above 20."
      ]
    },
    {
      "cell_type": "code",
      "execution_count": null,
      "metadata": {
        "id": "D5whysoxw2dX"
      },
      "outputs": [],
      "source": [
        "words = [\"In\", \"computer\", \"science\", \"a\", \"collision\", \"or\", \"clash\", \"is\",\n",
        "         \"a\", \"situation\", \"that\", \"occurs\", \"when\", \"two\", \"distinct\",\n",
        "         \"pieces\", \"of\", \"data\", \"have\", \"the\", \"same\", \"hash\", \"value\"]\n",
        "\n",
        "unique_words = set(words)\n",
        "\n",
        "def hash_bucket(string):\n",
        "  return len(string) % 100\n",
        "\n",
        "for i in unique_words:\n",
        "  print(\"'%s' hashes to: %d\" % (i, hash_bucket(i)))"
      ]
    },
    {
      "cell_type": "markdown",
      "metadata": {
        "id": "8LcP3Z1vLc81"
      },
      "source": [
        "Words with the same length always have the same hash bucket."
      ]
    }
  ],
  "metadata": {
    "colab": {
      "collapsed_sections": [
        "J_UCWRRJwh6l",
        "sPS__ZTgdKzr",
        "Ym4wUECAdNP_",
        "hfqtbc3JXXjk",
        "LKaPv9pEfYNx",
        "nPi2_i4feg9z",
        "pZu7Uz5-pRrm",
        "ayJoY5wzgnFY",
        "8pOpmhKcejR4",
        "ZWeVEU1FrCUg"
      ],
      "name": "hash_collisions.ipynb",
      "provenance": [ ]
    },
    "kernelspec": {
      "display_name": "Python 3",
      "name": "python3"
    }
  },
  "nbformat": 4,
  "nbformat_minor": 0
}
