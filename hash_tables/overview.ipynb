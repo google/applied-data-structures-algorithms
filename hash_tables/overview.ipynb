{
  "cells": [
    {
      "cell_type": "markdown",
      "metadata": {
        "id": "CjP9pevm98KL"
      },
      "source": [
        "# Hash Tables"
      ]
    },
    {
      "cell_type": "markdown",
      "metadata": {
        "id": "rNVaCvIExERY"
      },
      "source": [
        "## Lesson Overview"
      ]
    },
    {
      "cell_type": "markdown",
      "metadata": {
        "id": "0oVPWEKX-6KT"
      },
      "source": [
        "In a previous lesson, we introduced *maps* (known in Python as *dictionaries*). A map is a data structure that stores unique *keys* that map to *values*.\n",
        "\n",
        "In practice, almost all languages use a *hash table* as the backend implementation for a map. Hash tables, like maps, are used to store data such that a given value can be found by looking up a key."
      ]
    },
    {
      "cell_type": "markdown",
      "metadata": {
        "id": "JLq2aPU0xHsJ"
      },
      "source": [
        "\u003e A **hash table** is a data structure that maps unique *keys* to *values*. Values are stored in *hash buckets*, computed using a *hash function*.\n",
        "\n",
        "The implementation of a hash table involves the following concepts, which are introduced in the following lessons:\n",
        "\n",
        "- Hash functions\n",
        "- Hash collision resolution\n",
        "- Resizing"
      ]
    }
  ],
  "metadata": {
    "colab": {
      "collapsed_sections": [],
      "name": "hash_tables_overview.ipynb",
      "private_outputs": true,
      "provenance": [ ]
    },
    "kernelspec": {
      "display_name": "Python 3",
      "name": "python3"
    }
  },
  "nbformat": 4,
  "nbformat_minor": 0
}
