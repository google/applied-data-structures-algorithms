{
  "cells": [
    {
      "cell_type": "markdown",
      "metadata": {
        "id": "be4WYJCpv-GD"
      },
      "source": [
        "# Hash Collision Resolution"
      ]
    },
    {
      "cell_type": "markdown",
      "metadata": {
        "id": "kOxa1xuWwALh"
      },
      "source": [
        "## Lesson Overview"
      ]
    },
    {
      "cell_type": "markdown",
      "metadata": {
        "id": "-H4KUR1GwB4P"
      },
      "source": [
        "Collisions are practically unavoidable when using hash functions. However, there are techniques we can use to avoid or **resolve** collisions. All hash table implementations should include a collision resolution algorithm."
      ]
    },
    {
      "cell_type": "markdown",
      "metadata": {
        "id": "we6O3yJyPHcu"
      },
      "source": [
        "For this lesson, we will only consider hash tables that have more buckets than entries. If a hash table has fewer buckets than entries, it is guaranteed to have collisions, and nothing can be done to avoid this. (This is a case of the [Pigeonhole Principle](https://en.wikipedia.org/wiki/Pigeonhole_principle).)\n",
        "\n",
        "We will implement hash tables using Python lists, where the index is the bucket, and the element is the value. This is a convenient implementation, since the buckets of a hash table are almost always named 0 through $N-1$, where $N$ is the number of buckets, and list indices are named likewise."
      ]
    },
    {
      "cell_type": "markdown",
      "metadata": {
        "id": "-Ftz8-mXzvpZ"
      },
      "source": [
        "### Open addressing"
      ]
    },
    {
      "cell_type": "markdown",
      "metadata": {
        "id": "vmWbcbCxz3FO"
      },
      "source": [
        "\u003e One of the most commonly used collision resolution is **open addressing**. In this technique, if a value is hashed to a bucket that is already filled, the algorithm systematically tries other buckets until an empty bucket is found. Once an empty bucket is found, the value is put there."
      ]
    },
    {
      "cell_type": "markdown",
      "metadata": {
        "id": "Iq27-j8zPOgu"
      },
      "source": [
        "Two of the most common forms of open addressing are:\n",
        "\n",
        "- Linear probing\n",
        "- Quadratic probing"
      ]
    },
    {
      "cell_type": "markdown",
      "metadata": {
        "id": "bgeggZstvF25"
      },
      "source": [
        "### Linear probing"
      ]
    },
    {
      "cell_type": "markdown",
      "metadata": {
        "id": "6p2yLbHEz8ct"
      },
      "source": [
        "In linear probing, if a value is hashed to an already-filled bucket, we keep looking for an empty bucket by incrementing the bucket number by a constant (usually 1), *modulo the number of buckets*. The modulo operation basically means that if we reach the end of the buckets, we loop back to bucket 0."
      ]
    },
    {
      "cell_type": "markdown",
      "metadata": {
        "id": "gnXaZKhmPTt9"
      },
      "source": [
        "\u003e The [modulo](https://en.wikipedia.org/wiki/Modulo_operation) of two numbers returns the remainder after the division of the numbers. $a \\ \\textrm{mod} \\ b$ returns the remainder of the division $a \\div b$.\n",
        "\n",
        "For example, $7 \\ \\textrm{mod} \\ 3 = 1$, since $7 \\div 3 = 2 \\ \\textrm{remainder} \\ 1$. In most coding languages, the modulo operation is denoted by a precentage sign `%`, e.g. `a % b`.\n",
        "\n",
        "See the code below for an implementation of linear probing. There is quite a bit happening here, so take some time to understand the code."
      ]
    },
    {
      "cell_type": "code",
      "execution_count": null,
      "metadata": {
        "id": "ddd3wnaU1y7I"
      },
      "outputs": [],
      "source": [
        "#persistent\n",
        "class HashMap:\n",
        "\n",
        "  def __init__(self, n_buckets):\n",
        "    \"\"\"Create an empty list of length n_buckets. This backs the hash table.\"\"\"\n",
        "    self.table = [None]*n_buckets\n",
        "\n",
        "  def linear_resolve(self, item):\n",
        "    \"\"\"Add a (bucket, value) pair to an existing hash table.\n",
        "\n",
        "    Args:\n",
        "      hash_map: A list where the indices are the hash buckets and the elements\n",
        "        are the values.\n",
        "      item: Tuple containing the (bucket, value) to be added to the hash table.\n",
        "        The tuple is added using linear probing.\n",
        "    \n",
        "    Raises:\n",
        "      ValueError: If the provided bucket value is not within the range of the\n",
        "        backing list.\n",
        "    \"\"\"\n",
        "    n_buckets = len(self.table)\n",
        "    bucket, value = item[0], item[1]\n",
        "\n",
        "    # If the bucket is not in the hash table, raise an error.\n",
        "    if bucket \u003e= n_buckets:\n",
        "      raise ValueError(\n",
        "          \"`bucket` parameter %d must be an index of `self.table`.\" % bucket)\n",
        "\n",
        "    if self.table[bucket] is None:\n",
        "      self.table[bucket] = value\n",
        "    else:\n",
        "      # Recursively search for the next available bucket.\n",
        "      self.linear_resolve(((bucket + 1) % n_buckets, value))"
      ]
    },
    {
      "cell_type": "markdown",
      "metadata": {
        "id": "eO3vqsRPzW2s"
      },
      "source": [
        "### Adding values to a hash table"
      ]
    },
    {
      "cell_type": "markdown",
      "metadata": {
        "id": "Hc94OZ5Zz_OV"
      },
      "source": [
        "Let's create a hash table and add some values to it."
      ]
    },
    {
      "cell_type": "code",
      "execution_count": null,
      "metadata": {
        "id": "bLUv4du9xzK4"
      },
      "outputs": [],
      "source": [
        "#persistent\n",
        "# Create a hash table with 10 buckets.\n",
        "hash_map = HashMap(10)\n",
        "print(hash_map.table)\n",
        "\n",
        "# Populate a few buckets.\n",
        "hash_map.table[1] = \"a\"\n",
        "hash_map.table[4] = \"b\"\n",
        "hash_map.table[8] = \"c\"\n",
        "print(hash_map.table)"
      ]
    },
    {
      "cell_type": "markdown",
      "metadata": {
        "id": "v-gYgklA2xpz"
      },
      "source": [
        "---"
      ]
    },
    {
      "cell_type": "markdown",
      "metadata": {
        "id": "LL1jr2D90DWw"
      },
      "source": [
        "Now, let's try adding some new values to this table, resolving any collisions using linear probing."
      ]
    },
    {
      "cell_type": "code",
      "execution_count": null,
      "metadata": {
        "id": "jVExVEmI7_4i"
      },
      "outputs": [],
      "source": [
        "# Try to add \"d\" at bucket 2. No resolution necessary.\n",
        "hash_map.linear_resolve((2, \"d\"))\n",
        "print(hash_map.table)\n",
        "\n",
        "# Try to add \"e\" at bucket 2. Resolved to bucket 3.\n",
        "hash_map.linear_resolve((2, \"e\"))\n",
        "print(hash_map.table)\n",
        "\n",
        "# Try to add \"f\" at bucket 1. Resolved to bucket 5.\n",
        "hash_map.linear_resolve((1, \"f\"))\n",
        "print(hash_map.table)"
      ]
    },
    {
      "cell_type": "markdown",
      "metadata": {
        "id": "mlD3uBTS-MMA"
      },
      "source": [
        "### Quadratic probing"
      ]
    },
    {
      "cell_type": "markdown",
      "metadata": {
        "id": "bero-YoQ0Fze"
      },
      "source": [
        "Instead of successively adding a constant to the hash bucket, quadratic probing adds successive square numbers to the original bucket until an empty bucket is found."
      ]
    },
    {
      "cell_type": "markdown",
      "metadata": {
        "id": "4CnQrrSCP0JR"
      },
      "source": [
        "The simplest and most common version of the algorithm is outlined here.\n",
        "\n",
        "\u003e - **Initialize:** Calculate the hash bucket using the hash function. Call this bucket $H_0$.\n",
        "\u003e - **Repeat:** If bucket $H_{i-1}$ is filled, calculate the following bucket $H_i = H_0 + i^2 \\ \\% \\ m$ for $i = 1, 2,...$, where $m$ is the number of buckets.\n",
        "\u003e - **Exit:** As soon as a bucket $H_i$ is empty, fill it with the value."
      ]
    },
    {
      "cell_type": "markdown",
      "metadata": {
        "id": "gvPSINMk3WOE"
      },
      "source": [
        "This is what the algorithm looks like in practice:\n",
        "\n",
        "0. Calculate the hash bucket of the input value using the hash function.\n",
        "1. If this bucket is already filled, add $1^2$ to it to get a new bucket.\n",
        "2. If this following bucket is also filled, add $2^2$ to the *original* hash bucket to get a new bucket.\n",
        "3. If this next bucket is also filled, add $3^2$ to the *original* bucket to get a new bucket.\n",
        "\n",
        "The algorithm stops as soon as an empty bucket is found. And if, throughout this process, the hash bucket number exceeds $n$ (where $n$ is the number of buckets in the table), loop around back to bucket 0."
      ]
    },
    {
      "cell_type": "markdown",
      "metadata": {
        "id": "qGjhH0QON_wZ"
      },
      "source": [
        "## Question 1"
      ]
    },
    {
      "cell_type": "markdown",
      "metadata": {
        "id": "wv5jpFUFN_wZ"
      },
      "source": [
        "Which of the following statements about hash collision resolution strategies are true? There may be more than one correct response.\n",
        "\n",
        "**a)** There are exactly two types of hash collision resolution strategies - linear probing and quadratic probing.\n",
        "\n",
        "**b)** Hash collision resolution strategies help keep the runtime of insertion and retrieval consistent.\n",
        "\n",
        "**c)** It is possible for a hash collision resolution strategy to fail if there are no available buckets.\n",
        "\n",
        "**d)** In quadratic probing, we quadruple the bucket number each time to check for an available bucket."
      ]
    },
    {
      "cell_type": "markdown",
      "metadata": {
        "id": "P4K-SkYwwiTn"
      },
      "source": [
        "### Solution"
      ]
    },
    {
      "cell_type": "markdown",
      "metadata": {
        "id": "hukT-bN8wccI"
      },
      "source": [
        "The correct answers are **b)** and **c)**.\n",
        "\n",
        "**a)** These are two common types of open addressing. Open addressing is of the more common hash collision resolution strategies, but many other types of strategies exist.\n",
        "\n",
        "**d)** We add successive square numbers to the bucket until an empty bucket is found."
      ]
    },
    {
      "cell_type": "markdown",
      "metadata": {
        "id": "qCmbFwaC-JhA"
      },
      "source": [
        "## Question 2"
      ]
    },
    {
      "cell_type": "markdown",
      "metadata": {
        "id": "TFxvcix22QFU"
      },
      "source": [
        "You have the following values and hash function."
      ]
    },
    {
      "cell_type": "code",
      "execution_count": null,
      "metadata": {
        "id": "sMY9-fvi0bMt"
      },
      "outputs": [],
      "source": [
        "values = [17, 44, 13, 25, 5, 4, 26, 6, 31, 15]\n",
        "\n",
        "def hash_function(input):\n",
        "  return input**2 % 100"
      ]
    },
    {
      "cell_type": "markdown",
      "metadata": {
        "id": "I8uMZr-90iH9"
      },
      "source": [
        "When you hash all of these values, are there any collisions? If so, try and resolve them using linear probing. You may use the `HashMap` class and the associated `linear_resolve` method to add values to a hash map, like so:\n",
        "\n",
        "```python\n",
        "hash_map = HashMap(100)\n",
        "\n",
        "# Add a value to a hash bucket.\n",
        "hash_map.linear_resolve(bucket, value)\n",
        "```\n",
        "\n",
        "What are the final buckets for each value?"
      ]
    },
    {
      "cell_type": "code",
      "execution_count": null,
      "metadata": {
        "id": "QYlBe8CW3h2E"
      },
      "outputs": [],
      "source": [
        "# TODO(you): Write code to calculate the hash bucket for each value."
      ]
    },
    {
      "cell_type": "markdown",
      "metadata": {
        "id": "XwcJ9h2a-R99"
      },
      "source": [
        "### Solution"
      ]
    },
    {
      "cell_type": "markdown",
      "metadata": {
        "id": "7I-bQzNQ5gQi"
      },
      "source": [
        "Let's first see what each value is mapped to independently, without any collision resolution. Since the number of values is small, this can be done quickly using a `for` loop and `print`."
      ]
    },
    {
      "cell_type": "code",
      "execution_count": null,
      "metadata": {
        "id": "Y6EjMG0T0oTi"
      },
      "outputs": [],
      "source": [
        "values = [17, 44, 13, 25, 5, 4, 26, 6, 31, 15]\n",
        "\n",
        "def hash_function(input):\n",
        "  return input**2 % 100"
      ]
    },
    {
      "cell_type": "code",
      "execution_count": null,
      "metadata": {
        "id": "8lWe3_Jy0vRI"
      },
      "outputs": [],
      "source": [
        "for v in values:\n",
        "  print(\"hash_function(%d) = %d\" % (v, hash_function(v)))"
      ]
    },
    {
      "cell_type": "markdown",
      "metadata": {
        "id": "WHPHF1Yx08pN"
      },
      "source": [
        "Below are the results.\n",
        "\n",
        "Input | Hash Bucket\n",
        "------|------------\n",
        "17    | 89\n",
        "44    | 36\n",
        "13    | 69\n",
        "25    | 25\n",
        "5     | 25\n",
        "4     | 16\n",
        "26    | 76\n",
        "6     | 36\n",
        "31    | 61\n",
        "15    | 25\n",
        "\n",
        "- 44 and 6 both map to 36\n",
        "- 25, 5, and 15 all map to 25\n",
        "\n",
        "We can resolve these collisions via linear probing."
      ]
    },
    {
      "cell_type": "code",
      "execution_count": null,
      "metadata": {
        "id": "sugvBHYL1FjU"
      },
      "outputs": [],
      "source": [
        "# The hash function indicates there are 100 buckets in the hash table.\n",
        "# This line creates an empty hash table with 100 buckets.\n",
        "hash_map = HashMap(100)"
      ]
    },
    {
      "cell_type": "code",
      "execution_count": null,
      "metadata": {
        "id": "MMT4aLoU1Zux"
      },
      "outputs": [],
      "source": [
        "# Populate the hash table using the hash function.\n",
        "# Use linear_resolve to add values and resolve collisions.\n",
        "for v in values:\n",
        "  hash_map.linear_resolve((hash_function(v), v))"
      ]
    },
    {
      "cell_type": "code",
      "execution_count": null,
      "metadata": {
        "id": "gMZLT2ME3qsl"
      },
      "outputs": [],
      "source": [
        "for bucket in range(len(hash_map.table)):\n",
        "  value = hash_map.table[bucket]\n",
        "  if value is not None:\n",
        "    print(\"input: %d, hash bucket: %d\" % (value, bucket))"
      ]
    },
    {
      "cell_type": "markdown",
      "metadata": {
        "id": "fKvLogau4kJH"
      },
      "source": [
        "This yields the following final hash table.\n",
        "\n",
        "Input | Hash Bucket\n",
        "------|------------\n",
        "17    | 89\n",
        "44    | 36\n",
        "13    | 69\n",
        "25    | 25\n",
        "5     | 26\n",
        "4     | 16\n",
        "26    | 76\n",
        "6     | 37\n",
        "31    | 61\n",
        "15    | 27\n",
        "\n",
        "The following three collisions were resolved.\n",
        "   \n",
        "1. 5 is hashed to 25 which is already occupied (by 25), so it is resolved to 26 which is empty.\n",
        "2. 6 is hashed to 36 which is already occupied (by 44), so it is resolved to 37 which is empty.\n",
        "3. 15 is hashed to 25 which is already occupied (by 25), so it is resolved to 26 which is already occupied (by 5), so it is resolved to 27 which is empty."
      ]
    },
    {
      "cell_type": "markdown",
      "metadata": {
        "id": "1xXNg9RQ-LPM"
      },
      "source": [
        "## Question 3"
      ]
    },
    {
      "cell_type": "markdown",
      "metadata": {
        "id": "-NQIQOyxVHki"
      },
      "source": [
        "Without doing any coding, resolve the following hash table using *quadratic* probing. (Note that there are multiple correct answers to this, since in a collision, you can resolve any of the colliding values.)"
      ]
    },
    {
      "cell_type": "markdown",
      "metadata": {
        "id": "JlZap33xQTWF"
      },
      "source": [
        "Input | Hash Bucket\n",
        "------|------------\n",
        "17    | 89\n",
        "44    | 36\n",
        "13    | 69\n",
        "25    | 25\n",
        "5     | 25\n",
        "4     | 16\n",
        "26    | 76\n",
        "6     | 36\n",
        "31    | 61\n",
        "15    | 25"
      ]
    },
    {
      "cell_type": "code",
      "execution_count": null,
      "metadata": {
        "id": "ljvNVzwIxY02"
      },
      "outputs": [],
      "source": [
        "#freetext"
      ]
    },
    {
      "cell_type": "markdown",
      "metadata": {
        "id": "Ff-H0qOh-Xac"
      },
      "source": [
        "### Solution"
      ]
    },
    {
      "cell_type": "markdown",
      "metadata": {
        "id": "1jWpkbijyhdK"
      },
      "source": [
        "Below is the *original* table for reference.\n",
        "\n",
        "Input | Hash Bucket\n",
        "------|------------\n",
        "17    | 89\n",
        "44    | 36\n",
        "13    | 69\n",
        "25    | 25\n",
        "5     | 25\n",
        "4     | 16\n",
        "26    | 76\n",
        "6     | 36\n",
        "31    | 61\n",
        "15    | 25"
      ]
    },
    {
      "cell_type": "markdown",
      "metadata": {
        "id": "oDaS8g6bGYVX"
      },
      "source": [
        "Let's first identify the collisions.\n",
        "\n",
        "- 44 and 6 both map to 36\n",
        "- 25, 5, and 15 all map to 25\n",
        "\n",
        "These can be resolved as follows.\n",
        "\n",
        "1. 5 is hashed to 25 which is already occupied (by 25), so it is resolved to 26 ($25+1^2$) which is empty.\n",
        "2. 6 is hashed to 36 which is already occupied (by 44), so it is resolved to 37 ($36+1^2$) which is empty.\n",
        "3. 15 is hashed to 25 which is already occupied (by 25), so it is resolved to 26 ($25+1^2$) which is already occupied (by 5), so it is resolved to 29 ($25+2^2$) which is empty."
      ]
    },
    {
      "cell_type": "markdown",
      "metadata": {
        "id": "DESWZY0vQYrV"
      },
      "source": [
        "Input | Hash Bucket\n",
        "------|------------\n",
        "17    | 89\n",
        "44    | 36\n",
        "13    | 69\n",
        "25    | 25\n",
        "5     | 26\n",
        "4     | 16\n",
        "26    | 76\n",
        "6     | 37\n",
        "31    | 61\n",
        "15    | 29"
      ]
    },
    {
      "cell_type": "markdown",
      "metadata": {
        "id": "fUS8IAEFB5GI"
      },
      "source": [
        "## Question 4"
      ]
    },
    {
      "cell_type": "markdown",
      "metadata": {
        "id": "-jdldwede3X1"
      },
      "source": [
        "Without writing any code, resolve the following hash table using linear probing. There are 20 buckets in the table (labelled 0-19). Assume that input values are hashed in the order in which they appear in the table. This means that rows that come first in the table have precedence to keep their original hash bucket. (For example, when resolving bucket 15, you should allow input 3 to keep this bucket and find a new bucket for input 6.)"
      ]
    },
    {
      "cell_type": "markdown",
      "metadata": {
        "id": "iMWTFnokQb01"
      },
      "source": [
        "Input | Hash Bucket\n",
        "------|------------\n",
        "3     | 15\n",
        "9     | 0\n",
        "8     | 3\n",
        "2     | 19\n",
        "6     | 15\n",
        "0     | 7\n",
        "5     | 16\n",
        "7     | 19"
      ]
    },
    {
      "cell_type": "code",
      "execution_count": null,
      "metadata": {
        "id": "Di3krk37xatA"
      },
      "outputs": [],
      "source": [
        "#freetext"
      ]
    },
    {
      "cell_type": "markdown",
      "metadata": {
        "id": "rOfyXlxLCBzh"
      },
      "source": [
        "### Solution"
      ]
    },
    {
      "cell_type": "markdown",
      "metadata": {
        "id": "XDrl0w2o6gsX"
      },
      "source": [
        "Below is the *original* table for reference.\n",
        "\n",
        "Input | Hash Bucket\n",
        "------|------------\n",
        "3     | 15\n",
        "9     | 0\n",
        "8     | 3\n",
        "2     | 19\n",
        "6     | 15\n",
        "0     | 7\n",
        "5     | 16\n",
        "7     | 19"
      ]
    },
    {
      "cell_type": "markdown",
      "metadata": {
        "id": "FrvIL5vRRBlS"
      },
      "source": [
        "**Step 1: Resolving bucket 15**\n",
        "   \n",
        "Both 3 and 6 hash to the same bucket, 15. We will resolve for the input value that came later, which is 6. To resolve the collision, we add 1 to the original bucket value of 15 to get 16, which is already filled (by 5). So we add 1 again to get 17, which is empty. Therefore the resolved hash bucket for 6 is 17. The updated table is below.\n",
        "\n",
        "Input | Hash Bucket\n",
        "------|------------\n",
        "3     | 15\n",
        "9     | 0\n",
        "8     | 3\n",
        "2     | 19\n",
        "6     | 17\n",
        "0     | 7\n",
        "5     | 16\n",
        "7     | 19\n",
        "\n",
        "**Step 2: Resolving bucket 19**\n",
        "   \n",
        "The next collision is in bucket 19, for inputs 2 and 7. Again, we will resolve for the input that came later, which is 7. We start by adding 1 to 19 which gives 0, which is already filled (by 9). *Since there are 20 buckets, all additions are modulo 20, so $19+1=0$.* Another way to think about this is that there is no bucket 20, so we loop back around to bucket 0. So we add 1 again to get 1, which is empty. Therefore the resolved hash bucket for 7 is 1. The final hash table is below.\n",
        "\n",
        "Input | Hash Bucket\n",
        "------|------------\n",
        "3     | 15\n",
        "9     | 0\n",
        "8     | 3\n",
        "2     | 19\n",
        "6     | 17\n",
        "0     | 7\n",
        "5     | 16\n",
        "7     | 1"
      ]
    },
    {
      "cell_type": "markdown",
      "metadata": {
        "id": "H9yjcGnjB7M3"
      },
      "source": [
        "## Question 5"
      ]
    },
    {
      "cell_type": "markdown",
      "metadata": {
        "id": "1YIkHdp-609p"
      },
      "source": [
        "Without writing any code, resolve the following hash table using *quadratic* probing. There are 20 buckets in the table (labelled 0-19). Assume that input values are hashed in the order in which they appear in the table. This means that rows that come first in the table have precedence to keep their original hash bucket. (For example, when resolving bucket 15, you should allow input 3 to keep this bucket and find a new bucket for input 6.)"
      ]
    },
    {
      "cell_type": "markdown",
      "metadata": {
        "id": "r4EcvPszQkSY"
      },
      "source": [
        "Input | Hash Bucket\n",
        "------|------------\n",
        "3     | 15\n",
        "9     | 0\n",
        "8     | 3\n",
        "2     | 19\n",
        "6     | 15\n",
        "0     | 7\n",
        "5     | 16\n",
        "7     | 19"
      ]
    },
    {
      "cell_type": "code",
      "execution_count": null,
      "metadata": {
        "id": "3hlvc1_pxbt4"
      },
      "outputs": [],
      "source": [
        "#freetext"
      ]
    },
    {
      "cell_type": "markdown",
      "metadata": {
        "id": "r5rviK1MEMb3"
      },
      "source": [
        "### Solution"
      ]
    },
    {
      "cell_type": "markdown",
      "metadata": {
        "id": "xpqt89bE_BFf"
      },
      "source": [
        "Below is the original hash table, for reference.\n",
        "\n",
        "Input | Hash Bucket\n",
        "------|------------\n",
        "3     | 15\n",
        "9     | 0\n",
        "8     | 3\n",
        "2     | 19\n",
        "6     | 15\n",
        "0     | 7\n",
        "5     | 16\n",
        "7     | 19"
      ]
    },
    {
      "cell_type": "markdown",
      "metadata": {
        "id": "KYTLqgYvRMnD"
      },
      "source": [
        "**Step 1: Resolving bucket 15**\n",
        "   \n",
        "We try to resolve this by adding $1^2$ to 15 which is 16, which is already filled (by 5). So we add $2^2$ to 15 which is 19, which is already filled by 7. So we add $3^2$ to 15 (modulo 20) to get $24 \\ \\textrm{mod} \\ 20 = 4$, which is empty. Therefore the resolved hash bucket for 6 is 4.\n",
        "\n",
        "Input | Hash Bucket\n",
        "------|------------\n",
        "3     | 15\n",
        "9     | 0\n",
        "8     | 3\n",
        "2     | 19\n",
        "6     | 4\n",
        "0     | 7\n",
        "5     | 16\n",
        "7     | 19\n",
        "\n",
        "**Step 2: Resolving bucket 19**\n",
        "   \n",
        "We try to resolve this by adding $1^2$ to 19 (modulo 20) to get $20 \\ \\textrm{mod} \\ 20 = 0$, which is already filled (by 9). So we add $2^2$ to 19 (modulo 20) to get $23 \\ \\textrm{mod} \\ 20 = 3$, which is already filled (by 8). So we add $3^2$ to 19 (modulo 20) to get $28 \\ \\textrm{mod} \\ 20 = 8$, which is empty. Therefore the resolved hash bucket for 7 is 8. The final output table is below.\n",
        "\n",
        "Input | Hash Bucket\n",
        "------|------------\n",
        "3     | 15\n",
        "9     | 0\n",
        "8     | 3\n",
        "2     | 19\n",
        "6     | 17\n",
        "0     | 7\n",
        "5     | 16\n",
        "7     | 8"
      ]
    },
    {
      "cell_type": "markdown",
      "metadata": {
        "id": "157oasJ9EkSu"
      },
      "source": [
        "## Question 6"
      ]
    },
    {
      "cell_type": "markdown",
      "metadata": {
        "id": "AAtOTTd6LKxw"
      },
      "source": [
        "Add a `quadratic_resolve` method to the code snippet in the Lesson Overview. The code for `linear_resolve` is below; it may be useful for reference.\n",
        "\n",
        "This problem can be solved iteratively (using a `for` or `while` loop) or recursively (calling the function within itself), but the recursive solution may require adding another input parameter."
      ]
    },
    {
      "cell_type": "code",
      "execution_count": null,
      "metadata": {
        "id": "dq18s_YvRkx_"
      },
      "outputs": [],
      "source": [
        "class HashMap:\n",
        "\n",
        "  def __init__(self, n_buckets):\n",
        "    \"\"\"Create an empty list of length n_buckets. This is the backing table.\"\"\"\n",
        "    self.table = [None]*n_buckets\n",
        "\n",
        "  def linear_resolve(self, item):\n",
        "    \"\"\"Add a (bucket, value) pair to an existing hash table.\n",
        "\n",
        "    Args:\n",
        "      hash_map: A list where the indices are the hash buckets and the elements\n",
        "        are the values.\n",
        "      item: Tuple containing the (bucket, value) to be added to the hash table.\n",
        "        The tuple is added using linear probing.\n",
        "    \"\"\"\n",
        "    n_buckets = len(self.table)\n",
        "    bucket, value = item[0], item[1]\n",
        "\n",
        "    # If the bucket is not in the hash table, raise an error.\n",
        "    if bucket \u003e= n_buckets:\n",
        "      raise ValueError(\n",
        "          \"bucket parameter %d must be an index of self.table.\" % bucket)\n",
        "\n",
        "    if self.table[bucket] is None:\n",
        "      self.table[bucket] = value\n",
        "    else:\n",
        "      # Recursively search for the next available bucket.\n",
        "      self.linear_resolve(((bucket + 1) % n_buckets, value))\n",
        "\n",
        "  def quadratic_resolve(self, item):\n",
        "    \"\"\"Add a (bucket, value) pair to an existing hash table.\n",
        "\n",
        "    Args:\n",
        "      hash_map: A list where the indices are the hash buckets and the elements\n",
        "        are the values.\n",
        "      item: Tuple containing the (bucket, value) to be added to the hash table.\n",
        "        The tuple is added using quadratic probing.\n",
        "    \"\"\"\n",
        "    # TODO(you): Implement\n",
        "    print(\"This method has not been implemented.\")"
      ]
    },
    {
      "cell_type": "markdown",
      "metadata": {
        "id": "fI3ZfFezFAow"
      },
      "source": [
        "### Unit Tests\n",
        "\n",
        "Run the following cell to check your answer against some unit tests."
      ]
    },
    {
      "cell_type": "code",
      "execution_count": null,
      "metadata": {
        "id": "kYqC-amUU4Fe"
      },
      "outputs": [],
      "source": [
        "hash_map = HashMap(10)\n",
        "\n",
        "hash_map.table[1] = \"a\"\n",
        "hash_map.table[4] = \"b\"\n",
        "hash_map.table[8] = \"c\"\n",
        "\n",
        "# Try to add \"d\" at bucket 9. No resolution necessary.\n",
        "hash_map.quadratic_resolve((9, \"d\"))\n",
        "print(hash_map.table)\n",
        "# Should print: [None, 'a', None, None, 'b', None, None, None, 'c', 'd']\n",
        "\n",
        "# Try to add \"e\" at bucket 9. Resolved to bucket 0.\n",
        "hash_map.quadratic_resolve((9, \"e\"))\n",
        "print(hash_map.table)\n",
        "# Should print: ['e', 'a', None, None, 'b', None, None, None, 'c', 'd']\n",
        "\n",
        "# Try to add \"f\" at bucket 8. Resolved to bucket 2.\n",
        "hash_map.quadratic_resolve((8, \"f\"))\n",
        "print(hash_map.table)\n",
        "# Should print: ['e', 'a', 'f', None, 'b', None, None, None, 'c', 'd']"
      ]
    },
    {
      "cell_type": "markdown",
      "metadata": {
        "id": "uN2JXd72CFPM"
      },
      "source": [
        "### Solution"
      ]
    },
    {
      "cell_type": "markdown",
      "metadata": {
        "id": "xQWFPosKcQqf"
      },
      "source": [
        "This is just one possible solution. There are several other potential solutions, for example using a `while` loop."
      ]
    },
    {
      "cell_type": "code",
      "execution_count": null,
      "metadata": {
        "id": "3Rwgbm-WSez7"
      },
      "outputs": [],
      "source": [
        "class HashMap:\n",
        "\n",
        "  def __init__(self, n_buckets):\n",
        "    \"\"\"Create an empty list of length n_buckets. This is the backing table.\"\"\"\n",
        "    self.table = [None]*n_buckets\n",
        "\n",
        "  def linear_resolve(self, item):\n",
        "    \"\"\"Add a (bucket, value) pair to an existing hash table.\n",
        "\n",
        "    Args:\n",
        "      hash_map: A list where the indices are the hash buckets and the elements\n",
        "        are the values.\n",
        "      item: Tuple containing the (bucket, value) to be added to the hash table.\n",
        "        The tuple is added using linear probing.\n",
        "    \"\"\"\n",
        "    n_buckets = len(self.table)\n",
        "    bucket, value = item[0], item[1]\n",
        "\n",
        "    # If the bucket is not in the hash table, raise an error.\n",
        "    if bucket \u003e= n_buckets:\n",
        "      raise ValueError(\n",
        "          \"bucket parameter %d must be an index of self.table.\" % bucket)\n",
        "\n",
        "    if self.table[bucket] is None:\n",
        "      self.table[bucket] = value\n",
        "    else:\n",
        "      # Recursively search for the next available bucket.\n",
        "      self.linear_resolve(((bucket + 1) % n_buckets, value))\n",
        "\n",
        "  def quadratic_resolve(self, item, step=1):\n",
        "    \"\"\"Add a (bucket, value) pair to an existing hash table.\n",
        "\n",
        "    Args:\n",
        "      hash_map: A list where the indices are the hash buckets and the elements\n",
        "        are the values.\n",
        "      item: Tuple containing the (bucket, value) to be added to the hash table.\n",
        "        The tuple is added using quadratic probing.\n",
        "      step: This is a helper parameter, and should not be manually configured.\n",
        "    \"\"\"\n",
        "    n_buckets = len(self.table)\n",
        "    bucket, value = item[0], item[1]\n",
        "\n",
        "    # If the bucket is not in the hash table, raise an error.\n",
        "    if bucket \u003e= n_buckets:\n",
        "      raise ValueError(\n",
        "          \"bucket parameter %d must be an index of self.table.\" % bucket)\n",
        "\n",
        "    if self.table[bucket] is None:\n",
        "      self.table[bucket] = value\n",
        "    else:\n",
        "      # Recursively search for the next available bucket.\n",
        "      # Increment the step parameter by one each time.\n",
        "      self.quadratic_resolve(((bucket + step**2) % n_buckets, value, step+1))"
      ]
    },
    {
      "cell_type": "markdown",
      "metadata": {
        "id": "T3G_CyBMFZDr"
      },
      "source": [
        "## Question 7"
      ]
    },
    {
      "cell_type": "markdown",
      "metadata": {
        "id": "gw5YbnsiDmct"
      },
      "source": [
        "Your coworker has sent you some code to review. It uses quadratic probing to resolve collisions in a hash table. It uses a `while` loop instead of a recursive algorithm for `quadratic_resolve`. The code is currently not running, and you are seeing an `IndexError` in the unit test log. Your coworker has asked you to identify what is causing the index error."
      ]
    },
    {
      "cell_type": "code",
      "execution_count": null,
      "metadata": {
        "id": "QtwqSTCnWD_b"
      },
      "outputs": [],
      "source": [
        "class HashMap:\n",
        "\n",
        "  def __init__(self, n_buckets):\n",
        "    \"\"\"Create an empty list of length n_buckets. This is the backing table.\"\"\"\n",
        "    self.table = [None]*n_buckets\n",
        "\n",
        "  def quadratic_resolve(self, item):\n",
        "    # TODO(you): Fix the code so that it no longer raises an error.\n",
        "    \"\"\"Add a (bucket, value) pair to an existing hash table.\n",
        "\n",
        "    Args:\n",
        "      hash_map: A list where the indices are the hash buckets and the elements\n",
        "        are the values.\n",
        "      item: Tuple containing the (bucket, value) to be added to the hash table.\n",
        "        The tuple is added using quadratic probing.\n",
        "    \"\"\"\n",
        "    n_buckets = len(self.table)\n",
        "    bucket, value = item[0], item[1]\n",
        "\n",
        "    # If the bucket is not in the hash table, raise an error.\n",
        "    if bucket \u003e= n_buckets:\n",
        "      raise ValueError(\n",
        "          \"bucket parameter %d must be an index of self.table.\" % bucket)\n",
        "\n",
        "    new_bucket = bucket\n",
        "    counter = 1\n",
        "    # Keep looping until a free spot in the hash table is found.\n",
        "    while self.table[new_bucket] is not None:\n",
        "      new_bucket += counter**2\n",
        "      counter += 1\n",
        "\n",
        "    self.table[new_bucket] = value"
      ]
    },
    {
      "cell_type": "markdown",
      "metadata": {
        "id": "No2edc3jXW7U"
      },
      "source": [
        "The following code results in an `IndexError`."
      ]
    },
    {
      "cell_type": "code",
      "execution_count": null,
      "metadata": {
        "id": "GPIqZZJpW8RA"
      },
      "outputs": [],
      "source": [
        "hash_map = HashMap(10)\n",
        "\n",
        "hash_map.table[1] = \"a\"\n",
        "hash_map.table[4] = \"b\"\n",
        "hash_map.table[8] = \"c\"\n",
        "\n",
        "# Try to add \"d\" at bucket 9. No resolution necessary.\n",
        "hash_map.quadratic_resolve((9, \"d\"))\n",
        "print(hash_map.table)\n",
        "\n",
        "# Try to add \"e\" at bucket 9. Resolved to bucket 0.\n",
        "hash_map.quadratic_resolve((9, \"e\"))\n",
        "print(hash_map.table)\n",
        "\n",
        "# Try to add \"f\" at bucket 8. Resolved to bucket 2.\n",
        "hash_map.quadratic_resolve((8, \"f\"))\n",
        "print(hash_map.table)"
      ]
    },
    {
      "cell_type": "markdown",
      "metadata": {
        "id": "9II5_GYxF_jf"
      },
      "source": [
        "### Unit Tests\n",
        "\n",
        "Run the following cell to check your answer against some unit tests."
      ]
    },
    {
      "cell_type": "code",
      "execution_count": null,
      "metadata": {
        "id": "yrLYe_kbYIpq"
      },
      "outputs": [],
      "source": [
        "hash_map = HashMap(10)\n",
        "\n",
        "hash_map.table[1] = \"a\"\n",
        "hash_map.table[4] = \"b\"\n",
        "hash_map.table[8] = \"c\"\n",
        "\n",
        "# Try to add \"d\" at bucket 9. No resolution necessary.\n",
        "hash_map.quadratic_resolve((9, \"d\"))\n",
        "# Should not raise error\n",
        "\n",
        "# Try to add \"e\" at bucket 9. Resolved.\n",
        "hash_map.quadratic_resolve((9, \"e\"))\n",
        "# Should not raise error\n",
        "\n",
        "# Try to add \"f\" at bucket 8. Resolved.\n",
        "hash_map.quadratic_resolve((8, \"f\"))\n",
        "# Should not raise error"
      ]
    },
    {
      "cell_type": "markdown",
      "metadata": {
        "id": "Ad47BCFbFhwf"
      },
      "source": [
        "### Solution"
      ]
    },
    {
      "cell_type": "markdown",
      "metadata": {
        "id": "GqKTzSEDFc5s"
      },
      "source": [
        "The cause of the error is that, within the `while` loop, the addition of `counter**2` to `new_hash` needs to be performed modulo the number of buckets. Without this, the code is trying to put a value into a bucket value that should not exist in the hash table."
      ]
    },
    {
      "cell_type": "markdown",
      "metadata": {
        "id": "OkzwRMJf4lqM"
      },
      "source": [
        "This is fixed by simply making the addition modulo `n_buckets`. This can be done by either:\n",
        "\n",
        "- Adding the line `new_bucket = new_bucket % n_buckets` \n",
        "- Changing the existing line to `new_bucket = (new_bucket + counter**2) % n_buckets`"
      ]
    },
    {
      "cell_type": "code",
      "execution_count": null,
      "metadata": {
        "id": "GLcDKA9XXsE0"
      },
      "outputs": [],
      "source": [
        "class HashMap:\n",
        "\n",
        "  def __init__(self, n_buckets):\n",
        "    \"\"\"Create an empty list of length n_buckets. This is the backing table.\"\"\"\n",
        "    self.table = [None]*n_buckets\n",
        "\n",
        "  def quadratic_resolve(self, item):\n",
        "    \"\"\"Add a (bucket, value) pair to an existing hash table.\n",
        "\n",
        "    Args:\n",
        "      hash_map: A list where the indices are the hash buckets and the elements\n",
        "        are the values.\n",
        "      item: Tuple containing the (bucket, value) to be added to the hash table.\n",
        "        The tuple is added using quadratic probing.\n",
        "    \"\"\"\n",
        "    n_buckets = len(self.table)\n",
        "    bucket, value = item[0], item[1]\n",
        "\n",
        "    # If the bucket is not in the hash table, raise an error.\n",
        "    if bucket \u003e= n_buckets:\n",
        "      raise ValueError(\n",
        "          \"bucket parameter %d must be an index of self.table.\" % bucket)\n",
        "\n",
        "    new_bucket = bucket\n",
        "    counter = 1\n",
        "    # Keep looping until a free spot in the hash table is found.\n",
        "    while self.table[new_bucket] is not None:\n",
        "      # The following line changed to be modulo n_buckets.\n",
        "      new_bucket = (new_bucket + counter**2) % n_buckets\n",
        "      counter += 1\n",
        "\n",
        "    self.table[new_bucket] = value"
      ]
    },
    {
      "cell_type": "markdown",
      "metadata": {
        "id": "tIu5AJQny5kL"
      },
      "source": [
        "Now, the same code runs without an `IndexError`."
      ]
    },
    {
      "cell_type": "code",
      "execution_count": null,
      "metadata": {
        "id": "-OS0IJqczG6_"
      },
      "outputs": [],
      "source": [
        "hash_map = HashMap(10)\n",
        "\n",
        "hash_map.table[1] = \"a\"\n",
        "hash_map.table[4] = \"b\"\n",
        "hash_map.table[8] = \"c\"\n",
        "\n",
        "# Try to add \"d\" at bucket 9. No resolution necessary.\n",
        "hash_map.quadratic_resolve((9, \"d\"))\n",
        "print(hash_map.table)\n",
        "\n",
        "# Try to add \"e\" at bucket 9. Resolved to bucket 0.\n",
        "hash_map.quadratic_resolve((9, \"e\"))\n",
        "print(hash_map.table)\n",
        "\n",
        "# Try to add \"f\" at bucket 8. Resolved to bucket 2.\n",
        "hash_map.quadratic_resolve((8, \"f\"))\n",
        "print(hash_map.table)"
      ]
    },
    {
      "cell_type": "markdown",
      "metadata": {
        "id": "1nrfj8WNFb5G"
      },
      "source": [
        "## Question 8"
      ]
    },
    {
      "cell_type": "markdown",
      "metadata": {
        "id": "wK7Ap8LqFi_7"
      },
      "source": [
        "Your fix worked! The code now runs. However, your coworker has noticed that the unit tests do not pass. These are unit tests that you wrote based on your existing knowledge of quadratic probing. (For this problem, you can assume that the unit tests are correctly implemented.) Your coworker is having trouble figuring out where they are going wrong, and they have asked you to review the code."
      ]
    },
    {
      "cell_type": "code",
      "execution_count": null,
      "metadata": {
        "id": "Z2LZ2AZ8rFdK"
      },
      "outputs": [],
      "source": [
        "class HashMap:\n",
        "\n",
        "  def __init__(self, n_buckets):\n",
        "    \"\"\"Create an empty list of length n_buckets. This is the backing table.\"\"\"\n",
        "    self.table = [None]*n_buckets\n",
        "\n",
        "  def quadratic_resolve(self, item):\n",
        "    # TODO(you): Find the bug that causes the unit tests to fail\n",
        "    \"\"\"Add a (bucket, value) pair to an existing hash table.\n",
        "\n",
        "    Args:\n",
        "      hash_map: A list where the indices are the hash buckets and the elements\n",
        "        are the values.\n",
        "      item: Tuple containing the (bucket, value) to be added to the hash table.\n",
        "        The tuple is added using quadratic probing.\n",
        "    \"\"\"\n",
        "    n_buckets = len(self.table)\n",
        "    bucket, value = item[0], item[1]\n",
        "\n",
        "    # If the bucket is not in the hash table, raise an error.\n",
        "    if bucket \u003e= n_buckets:\n",
        "      raise ValueError(\n",
        "          \"bucket parameter %d must be an index of self.table.\" % bucket)\n",
        "\n",
        "    new_bucket = bucket\n",
        "    counter = 1\n",
        "    # Keep looping until a free spot in the hash table is found.\n",
        "    while self.table[new_bucket] is not None:\n",
        "      # The following line changed to be modulo n_buckets.\n",
        "      new_bucket = (new_bucket + counter**2) % n_buckets\n",
        "      counter += 1\n",
        "\n",
        "    self.table[new_bucket] = value"
      ]
    },
    {
      "cell_type": "markdown",
      "metadata": {
        "id": "TNKsq_ZgGlwd"
      },
      "source": [
        "### Hint"
      ]
    },
    {
      "cell_type": "markdown",
      "metadata": {
        "id": "7H51lmDvGm4p"
      },
      "source": [
        "In the following example, the existing algorithm resolves `\"f\"` to bucket 3, but it should be resolved to bucket 2."
      ]
    },
    {
      "cell_type": "code",
      "execution_count": null,
      "metadata": {
        "id": "qPLh0VJ3GsYs"
      },
      "outputs": [],
      "source": [
        "hash_map = HashMap(10)\n",
        "\n",
        "hash_map.table[1] = \"a\"\n",
        "hash_map.table[4] = \"b\"\n",
        "hash_map.table[8] = \"c\"\n",
        "\n",
        "hash_map.quadratic_resolve((9, \"d\"))\n",
        "print(hash_map.table)\n",
        "\n",
        "hash_map.quadratic_resolve((9, \"e\"))\n",
        "print(hash_map.table)\n",
        "\n",
        "hash_map.quadratic_resolve((8, \"f\"))\n",
        "print(hash_map.table)"
      ]
    },
    {
      "cell_type": "markdown",
      "metadata": {
        "id": "EQQercGKHnDT"
      },
      "source": [
        "### Unit Tests\n",
        "\n",
        "Run the following cell to check your answer against some unit tests."
      ]
    },
    {
      "cell_type": "code",
      "execution_count": null,
      "metadata": {
        "id": "UNtb6FTbHoH5"
      },
      "outputs": [],
      "source": [
        "hash_map = HashMap(10)\n",
        "\n",
        "hash_map.table[1] = \"a\"\n",
        "hash_map.table[4] = \"b\"\n",
        "hash_map.table[8] = \"c\"\n",
        "\n",
        "# Try to add \"d\" at bucket 9. No resolution necessary.\n",
        "hash_map.quadratic_resolve((9, \"d\"))\n",
        "print(hash_map.table)\n",
        "# Should print: [None, 'a', None, None, 'b', None, None, None, 'c', 'd']\n",
        "\n",
        "# Try to add \"e\" at bucket 9. Resolved to bucket 0.\n",
        "hash_map.quadratic_resolve((9, \"e\"))\n",
        "print(hash_map.table)\n",
        "# Should print: ['e', 'a', None, None, 'b', None, None, None, 'c', 'd']\n",
        "\n",
        "# Try to add \"f\" at bucket 8. Resolved to bucket 2.\n",
        "hash_map.quadratic_resolve((8, \"f\"))\n",
        "print(hash_map.table)\n",
        "# Should print: ['e', 'a', 'f', None, 'b', None, None, None, 'c', 'd']"
      ]
    },
    {
      "cell_type": "markdown",
      "metadata": {
        "id": "JdPmKjrnFZSl"
      },
      "source": [
        "### Solution"
      ]
    },
    {
      "cell_type": "markdown",
      "metadata": {
        "id": "LPsgJjr8GHss"
      },
      "source": [
        "This is a subtle bug. Not fixing this won't break anything, but if you don't fix it, your coworker's code will not implement the same algorithm as was outlined in the Lesson Overview."
      ]
    },
    {
      "cell_type": "markdown",
      "metadata": {
        "id": "oRBiICCm4zr9"
      },
      "source": [
        "Instead of adding `counter**2` to the `new_bucket` value, the code should be adding it to the *original* hash value `bucket`.\n",
        "\n",
        "```python\n",
        "new_bucket = (bucket + counter^2) % n_buckets\n",
        "```"
      ]
    },
    {
      "cell_type": "code",
      "execution_count": null,
      "metadata": {
        "id": "bVLYU4KLYsQ3"
      },
      "outputs": [],
      "source": [
        "class HashMap:\n",
        "\n",
        "  def __init__(self, n_buckets):\n",
        "    \"\"\"Create an empty list of length n_buckets. This is the backing table.\"\"\"\n",
        "    self.table = [None]*n_buckets\n",
        "\n",
        "  def quadratic_resolve(self, item):\n",
        "    \"\"\"Add a (bucket, value) pair to an existing hash table.\n",
        "\n",
        "    Args:\n",
        "      hash_map: A list where the indices are the hash buckets and the elements\n",
        "        are the values.\n",
        "      item: Tuple containing the (bucket, value) to be added to the hash table.\n",
        "        The tuple is added using quadratic probing.\n",
        "    \"\"\"\n",
        "    n_buckets = len(self.table)\n",
        "    bucket, value = item[0], item[1]\n",
        "\n",
        "    # If the bucket is not in the hash table, raise an error.\n",
        "    if bucket \u003e= n_buckets:\n",
        "      raise ValueError(\n",
        "          \"bucket parameter %d must be an index of self.table.\" % bucket)\n",
        "\n",
        "    new_bucket = bucket\n",
        "    counter = 1\n",
        "    # Keep looping until a free spot in the hash table is found.\n",
        "    while self.table[new_bucket] is not None:\n",
        "      # The following line changed to use bucket instead of new_bucket.\n",
        "      new_bucket = (bucket + counter**2) % n_buckets\n",
        "      counter += 1\n",
        "\n",
        "    self.table[new_bucket] = value"
      ]
    }
  ],
  "metadata": {
    "colab": {
      "collapsed_sections": [
        "P4K-SkYwwiTn",
        "XwcJ9h2a-R99",
        "Ff-H0qOh-Xac",
        "rOfyXlxLCBzh",
        "r5rviK1MEMb3",
        "fI3ZfFezFAow",
        "uN2JXd72CFPM",
        "9II5_GYxF_jf",
        "Ad47BCFbFhwf",
        "TNKsq_ZgGlwd",
        "EQQercGKHnDT",
        "JdPmKjrnFZSl"
      ],
      "name": "hash_collision_resolution.ipynb",
      "provenance": [ ]
    },
    "kernelspec": {
      "display_name": "Python 3",
      "name": "python3"
    }
  },
  "nbformat": 4,
  "nbformat_minor": 0
}
