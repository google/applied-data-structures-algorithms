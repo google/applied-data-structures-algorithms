{
  "cells": [
    {
      "cell_type": "markdown",
      "metadata": {
        "id": "Pic8r3n4AWWu"
      },
      "source": [
        "# Loops"
      ]
    },
    {
      "cell_type": "markdown",
      "metadata": {
        "id": "40klIjfB3g0H"
      },
      "source": [
        "## Lesson Overview"
      ]
    },
    {
      "cell_type": "markdown",
      "metadata": {
        "id": "8WWPuZ6JxE5L"
      },
      "source": [
        "Often, patterns or sections of code need to run more than one time during a program's execution. While copying and pasting code is an easy way to ensure that said code executes repeatedly, that additional code can make the program harder to read, and any changes that need to be made to the code then have to be made to each copy of that code. Instead, most coding languages support **loops**, or control structures that allow blocks of code to be repeated more than once."
      ]
    },
    {
      "cell_type": "markdown",
      "metadata": {
        "id": "24FzSdqzmP3q"
      },
      "source": [
        "### While loops"
      ]
    },
    {
      "cell_type": "markdown",
      "metadata": {
        "id": "ATOSsPdvZ2ES"
      },
      "source": [
        "One type of loop is a **while loop**, or a loop that continues repeating a block of code while some criteria is `True`. After executing the block of code, the criteria is checked again, and while that criteria continues to evaluate to `True`, the loop continues. Here's an example."
      ]
    },
    {
      "cell_type": "code",
      "execution_count": null,
      "metadata": {
        "id": "V5FS5JvhaGmU"
      },
      "outputs": [],
      "source": [
        "countdown = 5\n",
        "while countdown \u003e 0:\n",
        "  print(countdown)\n",
        "  countdown -= 1\n",
        "print('Happy New Year!')"
      ]
    },
    {
      "cell_type": "markdown",
      "metadata": {
        "id": "6GbrQ3zVaTgO"
      },
      "source": [
        "In this loop, `countdown` starts at 5, and decreases by 1 every time the loop is run. After 5 iterations of the loop, `countdown` will be 0. Since `0 \u003e 0` evaluates to `False`, the loop stops and `'Happy New Year!'` is printed.\n",
        "\n",
        "Note that the loop criteria is only checked at the top of the loop; even if a variable is changed such that the loop criteria would otherwise evaluate to `False`, if it is modified again before the top of the loop, the loop will continue."
      ]
    },
    {
      "cell_type": "code",
      "execution_count": null,
      "metadata": {
        "id": "yK5xajFkazVL"
      },
      "outputs": [],
      "source": [
        "countdown = 5\n",
        "while countdown \u003e 0:\n",
        "  if countdown == 3:\n",
        "    countdown = -5\n",
        "  print(countdown)\n",
        "  if countdown == -5:\n",
        "    countdown = 3\n",
        "  countdown -= 1\n",
        "print('Happy New Year!')"
      ]
    },
    {
      "cell_type": "markdown",
      "metadata": {
        "id": "i-sLVP4ia9LD"
      },
      "source": [
        "Even though `countdown` was changed to be less than 0 during the loop where `countdown == 3`, the body of the loop continued since the criteria is only checked at the start of each iteration. By the next iteration, `countdown` had changed to be above 0 again.\n",
        "\n",
        "In addition to loops based on a criteria, there are also **infinite loops**, or code that would continue forever (unless stopped by some other process). This code, for instance, is an infinite loop:\n",
        "\n",
        "```python\n",
        "while True:\n",
        "  print('loop')\n",
        "```\n",
        "\n",
        "This code will just print `'loop'` over and over, as the criteria is always `True`. Your code will crash, at some point (to prevent an infinite execution), but running code that loops infinitely can cause errors or undefined behavior."
      ]
    },
    {
      "cell_type": "markdown",
      "metadata": {
        "id": "FIXsI2AWYlEI"
      },
      "source": [
        "### Break and continue"
      ]
    },
    {
      "cell_type": "markdown",
      "metadata": {
        "id": "PaPEeL3Cboly"
      },
      "source": [
        "Two reserved words in Python can be used to control program flow within a loop. The reserved word `break` allows a loop to be cancelled prematurely, and the reserved word `continue` allows a single iteration of a loop to be skipped."
      ]
    },
    {
      "cell_type": "code",
      "execution_count": null,
      "metadata": {
        "id": "v1WnXzhXb8Qf"
      },
      "outputs": [],
      "source": [
        "countdown = 5\n",
        "while countdown \u003e 0:\n",
        "  print(countdown)\n",
        "  if countdown == 3:\n",
        "    break\n",
        "  countdown -= 1\n",
        "print('Happy New Year!')"
      ]
    },
    {
      "cell_type": "markdown",
      "metadata": {
        "id": "ED8jG2qHcGE_"
      },
      "source": [
        "In this code, `countdown` equals 3 after two iterations of the loop, so halfway through the third iteration, the `break` statement exits the loop, allowing the code to print `Happy New Year!`. At this point in the code, `countdown` is still 3, as well. A `break` statement can also be used to exit from the `while True` loop from earlier:"
      ]
    },
    {
      "cell_type": "code",
      "execution_count": null,
      "metadata": {
        "id": "6sS_l89mcZES"
      },
      "outputs": [],
      "source": [
        "countdown = 5\n",
        "while True:\n",
        "  print(countdown)\n",
        "  countdown -= 1\n",
        "  if countdown == 0:\n",
        "    break\n",
        "print('Happy New Year!')"
      ]
    },
    {
      "cell_type": "markdown",
      "metadata": {
        "id": "0luhF-3Rcm8Y"
      },
      "source": [
        "Without the `break` keyword, the loop would continue infinitely, but since our conditional statement checks `countdown` and breaks when `countdown` is 0, our loop functions identically to the loops from earlier in the lesson."
      ]
    },
    {
      "cell_type": "markdown",
      "metadata": {
        "id": "F7HIs56LczxB"
      },
      "source": [
        "Instead of breaking out of a loop entirely, a `continue` statement will skip the current iteration of the loop and move on to the next one. Take this example, which prints all even numbers between 0 and 20:"
      ]
    },
    {
      "cell_type": "code",
      "execution_count": null,
      "metadata": {
        "id": "1M91OmbAdq6R"
      },
      "outputs": [],
      "source": [
        "number = -1\n",
        "while number \u003c= 20:\n",
        "  number += 1\n",
        "  if number % 2 == 1:\n",
        "    continue\n",
        "  print(number)"
      ]
    },
    {
      "cell_type": "markdown",
      "metadata": {
        "id": "xUUqqmbDejVg"
      },
      "source": [
        "Without the `continue` statement, `number` would get printed every time. With more complicated code, `continue` can also be used to skip code blocks that shouldn't be run and prevent errors or crashes."
      ]
    },
    {
      "cell_type": "markdown",
      "metadata": {
        "id": "CoZnoYhYqFYr"
      },
      "source": [
        "### For loops"
      ]
    },
    {
      "cell_type": "markdown",
      "metadata": {
        "id": "0G73zNasexIX"
      },
      "source": [
        "Generally, while loops run until some criteria is met, but they force the person writing the code to consider how to exit the loop so that the loop doesn't continue infinitely. `for` loops, on the other hand, include a built-in advancement so that the loop will continue until a built-in criteria is met. To accomplish this, many `for` loops use the `range` function. The `range` function allows the user to set a start value, a stop value, and a step, or how much the range will increase with every iteration. This allows range to be used in a variety of ways. To use `range` in conjunction with a `for` loop, use this syntax:"
      ]
    },
    {
      "cell_type": "code",
      "execution_count": null,
      "metadata": {
        "id": "9e0PjUeefQRC"
      },
      "outputs": [],
      "source": [
        "for i in range(0, 5, 1):\n",
        "  print(i)"
      ]
    },
    {
      "cell_type": "markdown",
      "metadata": {
        "id": "lLkZpaSDfpS2"
      },
      "source": [
        "This code prints every value between 0 and 5, excluding 5. In computer science, things are 0-indexed, meaning that counting starts from 0, rather than 1. \n",
        "\n",
        "`range` typically uses 3 values: the `start` value (0, by default), the `stop` value (5, in this case), and a `step` value (1, by default). The `stop` value of `range` is **exclusive**, so `range(0, 5, 1)` does not include 5, only 0 through 4. `range` also assumes, by default, that if `range(x)` is called, that the desired outcome is `range(0, x, 1)`, or the range of values from 0 to `x`, excluding `x`, incrementing by 1 each time. That means the code above is also equivalent to this:"
      ]
    },
    {
      "cell_type": "code",
      "execution_count": null,
      "metadata": {
        "id": "fCdOV09bgKkY"
      },
      "outputs": [],
      "source": [
        "for i in range(5):\n",
        "  print(i)"
      ]
    },
    {
      "cell_type": "markdown",
      "metadata": {
        "id": "tiw2V_cigRdV"
      },
      "source": [
        "`range(0, 5, 1)`, `range(0, 5)` and `range(5)` are all equivalent statements, in Python. The variable `i` is updated every iteration of the loop with the next value in `range`. Once `range` has no more additional values, the loop ends. Here are some more examples of `range` in practice:"
      ]
    },
    {
      "cell_type": "code",
      "execution_count": null,
      "metadata": {
        "id": "UCYwMG3Tgidm"
      },
      "outputs": [],
      "source": [
        "for i in range(1, 5, 2):\n",
        "  print(i)"
      ]
    },
    {
      "cell_type": "code",
      "execution_count": null,
      "metadata": {
        "id": "ms0_-xF8giiW"
      },
      "outputs": [],
      "source": [
        "for i in range(10, 5, -1):\n",
        "  print(i)"
      ]
    },
    {
      "cell_type": "code",
      "execution_count": null,
      "metadata": {
        "id": "UvV9aQ3Fgimu"
      },
      "outputs": [],
      "source": [
        "for i in range(10, -25, -5):\n",
        "  print(i)"
      ]
    },
    {
      "cell_type": "markdown",
      "metadata": {
        "id": "fHsIBfNDg21h"
      },
      "source": [
        "This loop is very functionally similar to a `while` loop. In fact, `while` loops and `for` loops can produce identical results, if they're written correctly. Here's an example:"
      ]
    },
    {
      "cell_type": "code",
      "execution_count": null,
      "metadata": {
        "id": "djlOIuCKhPR4"
      },
      "outputs": [],
      "source": [
        "countdown = 5\n",
        "while countdown \u003e 0:\n",
        "  print(countdown)\n",
        "  countdown -= 1\n",
        "print('Happy New Year!')"
      ]
    },
    {
      "cell_type": "code",
      "execution_count": null,
      "metadata": {
        "id": "yBuISgI-hY4C"
      },
      "outputs": [],
      "source": [
        "for i in range(5, 0, -1):\n",
        "  print(i)\n",
        "print('Happy New Year!')"
      ]
    },
    {
      "cell_type": "markdown",
      "metadata": {
        "id": "wlEM5LZqhZds"
      },
      "source": [
        "Both code blocks have the same output. `i` can even be changed to `countdown` to make this more clear:"
      ]
    },
    {
      "cell_type": "code",
      "execution_count": null,
      "metadata": {
        "id": "Zdcmwl4lhgzB"
      },
      "outputs": [],
      "source": [
        "for countdown in range(5, 0, -1):\n",
        "  print(countdown)\n",
        "print('Happy New Year!')"
      ]
    },
    {
      "cell_type": "markdown",
      "metadata": {
        "id": "-MmA-PJ2hmDr"
      },
      "source": [
        "The `break` and `continue` statements can both be used with `for` loops, as well."
      ]
    },
    {
      "cell_type": "code",
      "execution_count": null,
      "metadata": {
        "id": "KvqnU9K2htdK"
      },
      "outputs": [],
      "source": [
        "for countdown in range(5, 0, -1):\n",
        "  print(countdown)\n",
        "  if countdown == 3:\n",
        "    break\n",
        "print('Happy New Year!')"
      ]
    },
    {
      "cell_type": "code",
      "execution_count": null,
      "metadata": {
        "id": "cvrLO83Jh0UN"
      },
      "outputs": [],
      "source": [
        "for number in range(0, 21):\n",
        "  if number % 2 == 1:\n",
        "    continue\n",
        "  print(number)"
      ]
    },
    {
      "cell_type": "markdown",
      "metadata": {
        "id": "DfcvU0kWh9ps"
      },
      "source": [
        "Note that to include 20, `range` had to be set from 0 to 21 (since `range` excludes its `stop` value). While both loops are mostly interchangeable, different use cases or coding styles may dictate whether a `for` loop or a `while` loop is better in the moment."
      ]
    },
    {
      "cell_type": "markdown",
      "metadata": {
        "id": "yJPGGvQy6y_c"
      },
      "source": [
        "### Nesting loops"
      ]
    },
    {
      "cell_type": "markdown",
      "metadata": {
        "id": "Q_76vHcqiOKK"
      },
      "source": [
        "Like conditionals, loops can also be nested. This can be as simple as placing a `for` loop inside of another `for` loop, a `while` loop inside of another `while` loop, or mixing it up. Take this code, which prints all the perfect squares from $1^2$ to $10^2$:"
      ]
    },
    {
      "cell_type": "code",
      "execution_count": null,
      "metadata": {
        "id": "MJMkNMCOikbG"
      },
      "outputs": [],
      "source": [
        "for i in range(1, 11):\n",
        "  for j in range(1, 11):\n",
        "    if i == j:\n",
        "      print(i * j)"
      ]
    },
    {
      "cell_type": "markdown",
      "metadata": {
        "id": "RFr7pS2zi2cI"
      },
      "source": [
        "Generally `i` is used as the first choice for an index, `j` is used as the second choice, `k` is used as the third choice, etc. While this example uses a `for` loop, a `while` loop can have similar functionality."
      ]
    },
    {
      "cell_type": "code",
      "execution_count": null,
      "metadata": {
        "id": "_-eb6B3FD4z5"
      },
      "outputs": [],
      "source": [
        "i = 1\n",
        "j = 1\n",
        "while i \u003c 11:\n",
        "  while j \u003c 11:\n",
        "    if i == j:\n",
        "      print(i * j)\n",
        "    j += 1\n",
        "  i += 1\n",
        "  j = 1"
      ]
    },
    {
      "cell_type": "markdown",
      "metadata": {
        "id": "GH9OWx3wjhTE"
      },
      "source": [
        "## Question 1"
      ]
    },
    {
      "cell_type": "markdown",
      "metadata": {
        "id": "YjLrLVfvikwZ"
      },
      "source": [
        "Consider the following code."
      ]
    },
    {
      "cell_type": "markdown",
      "metadata": {
        "id": "IpMTvcMoiWud"
      },
      "source": [
        "```python\n",
        "countdown = 10\n",
        "while True:\n",
        "  countdown -= 1\n",
        "print('Happy New Year!')\n",
        "```"
      ]
    },
    {
      "cell_type": "markdown",
      "metadata": {
        "id": "ootP2MVBis6I"
      },
      "source": [
        "When running this code, what will be printed?"
      ]
    },
    {
      "cell_type": "markdown",
      "metadata": {
        "id": "5NdGphqGi6vz"
      },
      "source": [
        "**a)** The numbers 10 through 1, then 'Happy New Year!'.\n",
        "\n",
        "**b)** 'Happy New Year!'\n",
        "\n",
        "**c)** Increasingly negative numbers and then a program crash.\n",
        "\n",
        "**d)** Nothing; this program will crash without printing anything."
      ]
    },
    {
      "cell_type": "markdown",
      "metadata": {
        "id": "FkNJ2Wghi6v0"
      },
      "source": [
        "### Solution"
      ]
    },
    {
      "cell_type": "markdown",
      "metadata": {
        "id": "Kn3LHu90i6v0"
      },
      "source": [
        "The correct answer is **d)**.\n",
        "\n",
        "**a)** There is no `print` statement inside the loop, but also, when does the loop terminate?\n",
        "\n",
        "**b)** This loop is a `while True` loop with no termination condition, so the `'Happy New Year'` `print` statement is never reached.\n",
        "\n",
        "**c)** There is no `print` statement inside the loop, but this answer is almost correct."
      ]
    },
    {
      "cell_type": "markdown",
      "metadata": {
        "id": "2FUqsgnyqgGU"
      },
      "source": [
        "## Question 2"
      ]
    },
    {
      "cell_type": "markdown",
      "metadata": {
        "id": "Tw9YdiHsMorw"
      },
      "source": [
        "Consider the following code."
      ]
    },
    {
      "cell_type": "markdown",
      "metadata": {
        "id": "m3-PUWTyMor8"
      },
      "source": [
        "```python\n",
        "num_iterations = 0\n",
        "for i in range(0, 18, 3):\n",
        "  num_iterations += 1\n",
        "  if num_iterations == 3:\n",
        "    num_iterations = 0\n",
        "    continue\n",
        "  print(i)\n",
        "```"
      ]
    },
    {
      "cell_type": "markdown",
      "metadata": {
        "id": "lhlBkYlGMor8"
      },
      "source": [
        "When running this code, what will be printed?"
      ]
    },
    {
      "cell_type": "markdown",
      "metadata": {
        "id": "cg6KiBDuMor8"
      },
      "source": [
        "**a)** 0, 3, 9, 12\n",
        "\n",
        "**b)** 0, 3, 9, 12, 18\n",
        "\n",
        "**c)** 3, 9, 12, 18\n",
        "\n",
        "**d)** 0, 1, 3, 4, 6, 7, 9, 10, 12, 13, 15, 16, 18"
      ]
    },
    {
      "cell_type": "markdown",
      "metadata": {
        "id": "2qIy2BsrMor8"
      },
      "source": [
        "### Solution"
      ]
    },
    {
      "cell_type": "markdown",
      "metadata": {
        "id": "xUxf2PY6Mor8"
      },
      "source": [
        "The correct answer is **a)**.\n",
        "\n",
        "**b)** `range` is exclusive of its `stop` value, so `i` will never be 18.\n",
        "\n",
        "**c)** `range` is *inclusive* of its `start` value and *exclusive* of its `stop` value, so it should include 0 and not 18.\n",
        "\n",
        "**d)** Check `range`'s `step` value. Since `step` is 3, every third value will be printed, so this option has too many values in it."
      ]
    },
    {
      "cell_type": "markdown",
      "metadata": {
        "id": "TefxHWdYlmuI"
      },
      "source": [
        "## Question 3"
      ]
    },
    {
      "cell_type": "markdown",
      "metadata": {
        "id": "0GS4AdN-lmuU"
      },
      "source": [
        "Consider the following code."
      ]
    },
    {
      "cell_type": "markdown",
      "metadata": {
        "id": "RjwcpN_mlmuU"
      },
      "source": [
        "```python\n",
        "for i in range(3):\n",
        "  for j in range(0, 3, i):\n",
        "    print(i + j)\n",
        "```"
      ]
    },
    {
      "cell_type": "markdown",
      "metadata": {
        "id": "eoY-nFP4lmuV"
      },
      "source": [
        "When running this code, what will be printed?"
      ]
    },
    {
      "cell_type": "markdown",
      "metadata": {
        "id": "nXg0xHRGlmuV"
      },
      "source": [
        "**a)** 1, 2, 3, 2, 3, 4\n",
        "\n",
        "**b)** 1, 2, 3, 2, 4\n",
        "\n",
        "**c)** 0, 1, 2, 1, 2, 3, 2, 3, 4\n",
        "\n",
        "**d)** This code will not run."
      ]
    },
    {
      "cell_type": "markdown",
      "metadata": {
        "id": "bnnfwX1WlmuV"
      },
      "source": [
        "### Solution"
      ]
    },
    {
      "cell_type": "markdown",
      "metadata": {
        "id": "jGHwj8QdlmuV"
      },
      "source": [
        "The correct answer is **b)**.\n",
        "\n",
        "**a)** Note that `i` is the `step` value for the second `range`. This means that the second loop will run with `step` equal to 2, or every other value between 0 and 3 (0 and 2).\n",
        "\n",
        "**c)** Check `step` again. This result corresponds to a `step` value of 1. If `step` is not 1, what happens in each iteration of the outer loop? It may help to use a sheet of paper to walk through each loop.\n",
        "\n",
        "**d)** This code is fine: `i` is a variable that holds some value during each iteration of the loop; it just happens to be a *different* value during each iteration of the loop."
      ]
    },
    {
      "cell_type": "markdown",
      "metadata": {
        "id": "oP1jK3mkdgK-"
      },
      "source": [
        "## Question 4"
      ]
    },
    {
      "cell_type": "markdown",
      "metadata": {
        "id": "9YqAudhuSxJg"
      },
      "source": [
        "Write code to print all the odd numbers between 1 and 20.\n"
      ]
    },
    {
      "cell_type": "code",
      "execution_count": null,
      "metadata": {
        "id": "fpem4YpVCm4i"
      },
      "outputs": [],
      "source": [
        "def print_odds_below_20():\n",
        "  # Fill in your code here.\n",
        "  # Don't forget to indent by two spaces! Line your code up with these comments."
      ]
    },
    {
      "cell_type": "markdown",
      "metadata": {
        "id": "0EjOhhwwEm_u"
      },
      "source": [
        "Remember that `for` loops and `while` loops can both be used to solve this problem. "
      ]
    },
    {
      "cell_type": "markdown",
      "metadata": {
        "id": "4PaACdZ6Em_u"
      },
      "source": [
        "### Unit Tests\n",
        "\n",
        "Run the following cell to check your answer against some unit tests."
      ]
    },
    {
      "cell_type": "code",
      "execution_count": null,
      "metadata": {
        "id": "SFRxnj0XEm_u"
      },
      "outputs": [],
      "source": [
        "print_odds_below_20()\n",
        "# Should print: 1, 3, 5, 7, 9, 11, 13, 15, 17, 19"
      ]
    },
    {
      "cell_type": "markdown",
      "metadata": {
        "id": "opB3JcMWeZQy"
      },
      "source": [
        "### Solution"
      ]
    },
    {
      "cell_type": "markdown",
      "metadata": {
        "id": "Y6RL84hDizJU"
      },
      "source": [
        "There are multiple correct ways to do this; here are a few examples."
      ]
    },
    {
      "cell_type": "code",
      "execution_count": 8,
      "metadata": {
        "executionInfo": {
          "elapsed": 177,
          "status": "ok",
          "timestamp": 1621619876154,
          "user": {
            "displayName": "",
            "photoUrl": "",
            "userId": ""
          },
          "user_tz": 420
        },
        "id": "dTT4veR3nab2"
      },
      "outputs": [],
      "source": [
        "def print_odds_below_20():\n",
        "  for i in range(1, 20, 2):\n",
        "    print(i)"
      ]
    },
    {
      "cell_type": "code",
      "execution_count": null,
      "metadata": {
        "id": "K1cIK__9nd5w"
      },
      "outputs": [],
      "source": [
        "def print_odds_below_20():\n",
        "  number = 1\n",
        "  while number \u003c= 20:\n",
        "    if number % 2 == 1:\n",
        "      print(number)\n",
        "    number += 1"
      ]
    },
    {
      "cell_type": "markdown",
      "metadata": {
        "id": "Vj9ye95gdg1a"
      },
      "source": [
        "## Question 5"
      ]
    },
    {
      "cell_type": "markdown",
      "metadata": {
        "id": "sE39F1e7Mplt"
      },
      "source": [
        "A number $n$ is considered a **divisor** of another number $m$ if $m / n$ produces no remainder. We can calculate the remainder of integer division using the modulo operator, `%`. If $m % n$ equals 0, then $n$ is a divisor of $m$. Complete the function `print_divisors` by adding functionality to print all the divisors of a given number, `number`. \n",
        "\n",
        "If you're not familiar with function syntax, that's fine! Treat `number` as a variable that you'll always have access to in your code, and use the unit tests below to check your answer."
      ]
    },
    {
      "cell_type": "code",
      "execution_count": null,
      "metadata": {
        "id": "BdimG9ajMx1g"
      },
      "outputs": [],
      "source": [
        "def print_divisors(number):\n",
        "  # Fill in your code here.\n",
        "  # number will be available for you to use in your code.\n",
        "  # Don't forget to indent by two spaces! Line your code up with these comments."
      ]
    },
    {
      "cell_type": "markdown",
      "metadata": {
        "id": "X8pb_CO5rlpE"
      },
      "source": [
        "### Hint"
      ]
    },
    {
      "cell_type": "markdown",
      "metadata": {
        "id": "37iSa9YFrlpR"
      },
      "source": [
        "Don't forget that `range` is exclusive of its `stop` value, if you choose to use `range`. Also, if using range, you'll need to start at 1, not 0, otherwise you'll divide by zero."
      ]
    },
    {
      "cell_type": "markdown",
      "metadata": {
        "id": "7ed5A-pB-8lD"
      },
      "source": [
        "### Unit Tests\n",
        "\n",
        "Run the following cell to check your answer against some unit tests."
      ]
    },
    {
      "cell_type": "code",
      "execution_count": null,
      "metadata": {
        "id": "cTXWkJwXPuyy"
      },
      "outputs": [],
      "source": [
        "print_divisors(10)\n",
        "# Should print: 1, 2, 5, 10\n",
        "\n",
        "print_divisors(7)\n",
        "# Should print: 1, 7\n",
        "\n",
        "print_divisors(16)\n",
        "# Should print: 1, 2, 4, 8, 16"
      ]
    },
    {
      "cell_type": "markdown",
      "metadata": {
        "id": "r-VXZ_2rj9AU"
      },
      "source": [
        "### Solution"
      ]
    },
    {
      "cell_type": "code",
      "execution_count": 45,
      "metadata": {
        "executionInfo": {
          "elapsed": 167,
          "status": "ok",
          "timestamp": 1621546054483,
          "user": {
            "displayName": "",
            "photoUrl": "",
            "userId": ""
          },
          "user_tz": 420
        },
        "id": "qvsuoXgYpbmQ"
      },
      "outputs": [],
      "source": [
        "def print_divisors(number):\n",
        "  for i in range(1, number + 1):\n",
        "    if number % i == 0:\n",
        "      print(i)"
      ]
    },
    {
      "cell_type": "markdown",
      "metadata": {
        "id": "RYS7sWFYi5lk"
      },
      "source": [
        "## Question 6"
      ]
    },
    {
      "cell_type": "markdown",
      "metadata": {
        "id": "hfMyidfBdWYl"
      },
      "source": [
        "In math, the **hailstone sequence** is a sequence of numbers that, for any number $n$, is conjectured to eventually reach 1. A number's hailstone sequence is defined as follows:\n",
        "\n",
        "While the number is not 1:\n",
        "\n",
        "*   If the number is even, divide the number by 2.\n",
        "*   If the number is odd, multiply the number by 3 and add 1.\n",
        "\n",
        "According to the [Collatz conjecture](https://en.wikipedia.org/wiki/Collatz_conjecture), any number put through this sequence will eventually become 1. Fill in the `hailstone` function below, printing out the number at each step in the sequence. \n",
        "\n",
        "If you're not familiar with function syntax, that's fine! Treat `number` as a variable that you'll always have access to in your code, and use the unit tests below to check your answer."
      ]
    },
    {
      "cell_type": "code",
      "execution_count": null,
      "metadata": {
        "id": "XLoDnatBlrgi"
      },
      "outputs": [],
      "source": [
        "def hailstone(number):\n",
        "  # Fill in your code here.\n",
        "  # number will be available for you to use in your code.\n",
        "  # Don't forget to indent by two spaces! Line your code up with these comments.\n",
        "  print(number)"
      ]
    },
    {
      "cell_type": "markdown",
      "metadata": {
        "id": "kURD_M15b6Yq"
      },
      "source": [
        "### Hint"
      ]
    },
    {
      "cell_type": "markdown",
      "metadata": {
        "id": "L4aqmHAXb6Yq"
      },
      "source": [
        "To check if a number is odd or even, use the following code snippet:"
      ]
    },
    {
      "cell_type": "code",
      "execution_count": null,
      "metadata": {
        "id": "K_wHSC_Xoi5P"
      },
      "outputs": [],
      "source": [
        "number = 11 # Feel free to change this and test it out!\n",
        "if number % 2 == 0:\n",
        "  print('even')\n",
        "else:\n",
        "  print('odd')"
      ]
    },
    {
      "cell_type": "markdown",
      "metadata": {
        "id": "bxFwRDeBo-Uj"
      },
      "source": [
        "To check if a number does not equal another number, use `!=`."
      ]
    },
    {
      "cell_type": "code",
      "execution_count": null,
      "metadata": {
        "id": "UdUqNnyypA4c"
      },
      "outputs": [],
      "source": [
        "print(5 != 3)"
      ]
    },
    {
      "cell_type": "code",
      "execution_count": null,
      "metadata": {
        "id": "HacwhIMcpCcC"
      },
      "outputs": [],
      "source": [
        "print(3 != 3)"
      ]
    },
    {
      "cell_type": "markdown",
      "metadata": {
        "id": "mwCXqZaAb6Yr"
      },
      "source": [
        "### Unit Tests\n",
        "\n",
        "Run the following cell to check your answer against some unit tests."
      ]
    },
    {
      "cell_type": "code",
      "execution_count": null,
      "metadata": {
        "id": "Ks9E8gUrb6Yr"
      },
      "outputs": [],
      "source": [
        "hailstone(5)\n",
        "# Should print: 5, 16, 8, 4, 2, 1\n",
        "\n",
        "hailstone(8)\n",
        "# Should print: 8, 4, 2, 1\n",
        "\n",
        "hailstone(46)\n",
        "# Should print: 46, 23, 70, 35, 106, 53, 160, 80, 40, 20, 10, 5, 16, 8, 4, 2, 1"
      ]
    },
    {
      "cell_type": "markdown",
      "metadata": {
        "id": "WP3PGajGdwhn"
      },
      "source": [
        "### Solution"
      ]
    },
    {
      "cell_type": "markdown",
      "metadata": {
        "id": "GqeKLocLA9y7"
      },
      "source": [
        "This function requires either using a `!=` or a `break` to end the loop. Don't forget to print at every stage!"
      ]
    },
    {
      "cell_type": "code",
      "execution_count": null,
      "metadata": {
        "id": "8bg4HAGQpHG7"
      },
      "outputs": [],
      "source": [
        "def hailstone(number):\n",
        "  while number != 1:\n",
        "    print(number)\n",
        "    if number % 2 == 0:\n",
        "      # number is even, so divide by 2\n",
        "      number = number / 2\n",
        "    else:\n",
        "      # number is odd, so number = (3 * number) + 1\n",
        "      number = number * 3\n",
        "      number += 1\n",
        "  print(number)"
      ]
    }
  ],
  "metadata": {
    "colab": {
      "collapsed_sections": [
        "FkNJ2Wghi6v0",
        "2qIy2BsrMor8",
        "bnnfwX1WlmuV",
        "4PaACdZ6Em_u",
        "opB3JcMWeZQy",
        "X8pb_CO5rlpE",
        "7ed5A-pB-8lD",
        "r-VXZ_2rj9AU",
        "kURD_M15b6Yq",
        "mwCXqZaAb6Yr",
        "WP3PGajGdwhn"
      ],
      "name": "Loops",
      "provenance": [ ]
    },
    "kernelspec": {
      "display_name": "Python 3",
      "name": "python3"
    }
  },
  "nbformat": 4,
  "nbformat_minor": 0
}
