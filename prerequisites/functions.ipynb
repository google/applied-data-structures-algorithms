{
  "cells": [
    {
      "cell_type": "markdown",
      "metadata": {
        "id": "Pic8r3n4AWWu"
      },
      "source": [
        "# Functions"
      ]
    },
    {
      "cell_type": "markdown",
      "metadata": {
        "id": "40klIjfB3g0H"
      },
      "source": [
        "## Lesson Overview"
      ]
    },
    {
      "cell_type": "markdown",
      "metadata": {
        "id": "8WWPuZ6JxE5L"
      },
      "source": [
        "When a block of code in Python is run, it generally executes from start to finish (top to bottom). "
      ]
    },
    {
      "cell_type": "markdown",
      "metadata": {
        "id": "0udwObR3YNs9"
      },
      "source": [
        "Often there will be blocks of code that you want to execute multiple times, but with some modifications each time. You may even want to have certain blocks execute, but not others. Take this snippet:"
      ]
    },
    {
      "cell_type": "code",
      "execution_count": null,
      "metadata": {
        "id": "gRZSa2B7Dqn8"
      },
      "outputs": [],
      "source": [
        "sample_word = 'liberation'\n",
        "vowel_count = 0\n",
        "consonant_count = 0\n",
        "\n",
        "for letter in sample_word:\n",
        "  if letter == 'a':\n",
        "    vowel_count += 1\n",
        "  elif letter == 'e':\n",
        "    vowel_count += 1\n",
        "  elif letter == 'i':\n",
        "    vowel_count += 1\n",
        "  elif letter == 'o':\n",
        "    vowel_count += 1\n",
        "  elif letter == 'u':\n",
        "    vowel_count += 1\n",
        "  # y, for our purposes, is a consonant.\n",
        "  else:\n",
        "    consonant_count += 1\n",
        "\n",
        "print('Number of vowels: %d' % vowel_count)\n",
        "print('Number of consonants: %d' % consonant_count)"
      ]
    },
    {
      "cell_type": "markdown",
      "metadata": {
        "id": "JxH2nPX2DyaY"
      },
      "source": [
        "That works fine for just the one word, but if you want to try it with other words, you have to copy and paste all that code again:"
      ]
    },
    {
      "cell_type": "code",
      "execution_count": null,
      "metadata": {
        "id": "ODYg9CVmD2jr"
      },
      "outputs": [],
      "source": [
        "sample_word = 'pleasantries'\n",
        "vowel_count = 0\n",
        "consonant_count = 0\n",
        "\n",
        "for letter in sample_word:\n",
        "  if letter == 'a':\n",
        "    vowel_count += 1\n",
        "  elif letter == 'e':\n",
        "    vowel_count += 1\n",
        "  elif letter == 'i':\n",
        "    vowel_count += 1\n",
        "  elif letter == 'o':\n",
        "    vowel_count += 1\n",
        "  elif letter == 'u':\n",
        "    vowel_count += 1\n",
        "  # y, for our purposes, is a consonant.\n",
        "  else:\n",
        "    consonant_count += 1\n",
        "\n",
        "print(sample_word)\n",
        "print('Number of vowels: %d' % vowel_count)\n",
        "print('Number of consonants: %d' % consonant_count)"
      ]
    },
    {
      "cell_type": "code",
      "execution_count": null,
      "metadata": {
        "id": "br81SeAIxckc"
      },
      "outputs": [],
      "source": [
        "sample_word = 'vanguard'\n",
        "vowel_count = 0\n",
        "consonant_count = 0\n",
        "\n",
        "for letter in sample_word:\n",
        "  if letter == 'a':\n",
        "    vowel_count += 1\n",
        "  elif letter == 'e':\n",
        "    vowel_count += 1\n",
        "  elif letter == 'i':\n",
        "    vowel_count += 1\n",
        "  elif letter == 'o':\n",
        "    vowel_count += 1\n",
        "  elif letter == 'u':\n",
        "    vowel_count += 1\n",
        "  # y, for our purposes, is a consonant.\n",
        "  else:\n",
        "    consonant_count += 1\n",
        "\n",
        "print(sample_word)\n",
        "print('Number of vowels: %d' % vowel_count)\n",
        "print('Number of consonants: %d' % consonant_count)"
      ]
    },
    {
      "cell_type": "markdown",
      "metadata": {
        "id": "NQPW4VngESPy"
      },
      "source": [
        "This process can quickly become tiresome. In programming, we typically solve this problem by writing functions."
      ]
    },
    {
      "cell_type": "markdown",
      "metadata": {
        "id": "dtV7KXScZrzK"
      },
      "source": [
        "### Definition"
      ]
    },
    {
      "cell_type": "markdown",
      "metadata": {
        "id": "vkKDVZMlnC8K"
      },
      "source": [
        "\n",
        "\u003e **Functions**, sometimes called [subroutines](https://en.wikipedia.org/wiki/Subroutine), are small snippets of code that can be reused."
      ]
    },
    {
      "cell_type": "markdown",
      "metadata": {
        "id": "nU2qXc4gaAf5"
      },
      "source": [
        "Let's look at our initial example and see how we can convert it to a function called `count_vowels_and_consonants()`."
      ]
    },
    {
      "cell_type": "code",
      "execution_count": null,
      "metadata": {
        "id": "XDErqiEMJFkv"
      },
      "outputs": [],
      "source": [
        "def count_vowels_and_consonants(sample_word):\n",
        "  # Returns the number of vowels and consonants in a given word.\n",
        "  vowel_count = 0\n",
        "  consonant_count = 0\n",
        "\n",
        "  for letter in sample_word:\n",
        "    if letter == 'a':\n",
        "      vowel_count += 1\n",
        "    elif letter == 'e':\n",
        "      vowel_count += 1\n",
        "    elif letter == 'i':\n",
        "      vowel_count += 1\n",
        "    elif letter == 'o':\n",
        "      vowel_count += 1\n",
        "    elif letter == 'u':\n",
        "      vowel_count += 1\n",
        "    # y, for our purposes, is a consonant.\n",
        "    else:\n",
        "      consonant_count += 1\n",
        "  \n",
        "  print(sample_word)\n",
        "  print('Number of vowels: %d' % vowel_count)\n",
        "  print('Number of consonants: %d' % consonant_count)\n",
        "\n",
        "\n",
        "count_vowels_and_consonants('intrepid')\n",
        "count_vowels_and_consonants('queueing')\n",
        "count_vowels_and_consonants('skullduggery')  "
      ]
    },
    {
      "cell_type": "markdown",
      "metadata": {
        "id": "ioy3dKsNaGGM"
      },
      "source": [
        "### Functions and parameters"
      ]
    },
    {
      "cell_type": "markdown",
      "metadata": {
        "id": "O-tQ_B9Y7PN3"
      },
      "source": [
        "Functions can greatly decrease the total number of lines of code. All functions have a similar format: they start with `def`, then the function name, and then zero, one, or more parameters in parentheses."
      ]
    },
    {
      "cell_type": "markdown",
      "metadata": {
        "id": "0KOCAxzMaKdH"
      },
      "source": [
        "For example, the function below has zero parameters:"
      ]
    },
    {
      "cell_type": "code",
      "execution_count": null,
      "metadata": {
        "id": "D2ETgGvH737j"
      },
      "outputs": [],
      "source": [
        "def print_zero_square():\n",
        "  # Prints a 3 x 3 square of zeroes.\n",
        "  for _ in range(3):\n",
        "    line = ''\n",
        "    for _ in range(3):\n",
        "      line += '0'\n",
        "    print(line)\n",
        "\n",
        "print_zero_square()"
      ]
    },
    {
      "cell_type": "markdown",
      "metadata": {
        "id": "0plNFllpbvvv"
      },
      "source": [
        "---"
      ]
    },
    {
      "cell_type": "markdown",
      "metadata": {
        "id": "w5zaoxv268em"
      },
      "source": [
        "If you'd like to increase or decrease the size of the checkerboard, you can modify the function to take a parameter:"
      ]
    },
    {
      "cell_type": "code",
      "execution_count": null,
      "metadata": {
        "id": "Gd3ExfDh-rYD"
      },
      "outputs": [],
      "source": [
        "def print_zero_square(side_length):\n",
        "  # Prints a square of zeroes with side length equal to side_length.\n",
        "  for _ in range(side_length):\n",
        "    line = ''\n",
        "    for _ in range(side_length):\n",
        "      line += '0'\n",
        "    print(line)\n",
        "\n",
        "print_zero_square(10)    "
      ]
    },
    {
      "cell_type": "markdown",
      "metadata": {
        "id": "meg0h0MciAyu"
      },
      "source": [
        "---"
      ]
    },
    {
      "cell_type": "markdown",
      "metadata": {
        "id": "CGwth3WDYCm-"
      },
      "source": [
        "The function can also be adapted to make a rectangle of zeroes:"
      ]
    },
    {
      "cell_type": "code",
      "execution_count": null,
      "metadata": {
        "id": "svf6MvnXYWUU"
      },
      "outputs": [],
      "source": [
        "def print_zero_rectangle(num_rows, num_columns):\n",
        "  # Prints a num_rows x num_columns rectangle of zeroes.\n",
        "  for _ in range(num_rows):\n",
        "    line = ''\n",
        "    for _ in range(num_columns):\n",
        "      line += '0'\n",
        "    print(line)\n",
        "\n",
        "print_zero_rectangle(2, 5)"
      ]
    },
    {
      "cell_type": "markdown",
      "metadata": {
        "id": "wCobUoVjiGK5"
      },
      "source": [
        "### Returning data from a function"
      ]
    },
    {
      "cell_type": "markdown",
      "metadata": {
        "id": "d6pNTYzm_o-5"
      },
      "source": [
        "Functions can also be used to output values; we refer to this as **returning** a value, using the `return` keyword."
      ]
    },
    {
      "cell_type": "code",
      "execution_count": null,
      "metadata": {
        "id": "oe89kDGW_907"
      },
      "outputs": [],
      "source": [
        "def remove_vowels(sample_word):\n",
        "  # Removes all the vowels from a given word.\n",
        "  result = ''\n",
        "  for letter in sample_word:\n",
        "    if letter == 'a':\n",
        "      continue\n",
        "    elif letter == 'e':\n",
        "      continue\n",
        "    elif letter == 'i':\n",
        "      continue\n",
        "    elif letter == 'o':\n",
        "      continue\n",
        "    elif letter == 'u':\n",
        "      continue\n",
        "    # y, for our purposes, is a consonant.\n",
        "    else:\n",
        "      result += letter\n",
        "  return result\n",
        "\n",
        "remove_vowels('balloon')"
      ]
    },
    {
      "cell_type": "markdown",
      "metadata": {
        "id": "uELBL59J_Uvt"
      },
      "source": [
        "Functions can be called multiple times with different parameters, and functions can call other functions (as you've seen with functions written here calling the `print` function). Using functions is a great and often necessary way to organize and simplify your code."
      ]
    },
    {
      "cell_type": "markdown",
      "metadata": {
        "id": "GH9OWx3wjhTE"
      },
      "source": [
        "## Question 1"
      ]
    },
    {
      "cell_type": "markdown",
      "metadata": {
        "id": "YjLrLVfvikwZ"
      },
      "source": [
        "Consider the following code that defines a variable and two functions."
      ]
    },
    {
      "cell_type": "markdown",
      "metadata": {
        "id": "IpMTvcMoiWud"
      },
      "source": [
        "```python\n",
        "x = \"Outside\"\n",
        "\n",
        "def function1():\n",
        "  print(x)\n",
        "\n",
        "def function2():\n",
        "  x = \"Inside\"\n",
        "  print(x)  \n",
        "```"
      ]
    },
    {
      "cell_type": "markdown",
      "metadata": {
        "id": "ootP2MVBis6I"
      },
      "source": [
        "Assuming that we have run the code above, what will be printed if we run the next code block? (Note that each output will appear on a new line without commas.)"
      ]
    },
    {
      "cell_type": "markdown",
      "metadata": {
        "id": "ch6PWwRZicZi"
      },
      "source": [
        "```python\n",
        "print(x)\n",
        "function1()\n",
        "function2()\n",
        "print(x)\n",
        "```"
      ]
    },
    {
      "cell_type": "markdown",
      "metadata": {
        "id": "5NdGphqGi6vz"
      },
      "source": [
        "**a)** Outside, Outside, Inside, Outside\n",
        "\n",
        "**b)** Outside, Outside, Inside, Inside\n",
        "\n",
        "**c)** Outside, Inside, Outside, Outside\n",
        "\n",
        "**d)** Inside, Outside, Inside, Inside"
      ]
    },
    {
      "cell_type": "markdown",
      "metadata": {
        "id": "FkNJ2Wghi6v0"
      },
      "source": [
        "### Solution"
      ]
    },
    {
      "cell_type": "markdown",
      "metadata": {
        "id": "Kn3LHu90i6v0"
      },
      "source": [
        "The correct answer is **a)**.\n",
        "\n",
        "**b)** Be careful. When `function2` is called, the variable `x` is defined in local scope, so the value of the globally scoped `x` is still 'Outside.'\n",
        "\n",
        "**c)** This would have been printed if we made the function calls in the order `print(x)` `function2()` `function1()` `print(x)`.\n",
        "\n",
        "**d)** When variable `x` is defined outside both `function1()` and `function2()` it is in global scope. The first function call we make is `print(x)`, and it will print 'Outside.'"
      ]
    },
    {
      "cell_type": "markdown",
      "metadata": {
        "id": "2FUqsgnyqgGU"
      },
      "source": [
        "## Question 2"
      ]
    },
    {
      "cell_type": "markdown",
      "metadata": {
        "id": "08aa4I2rqizB"
      },
      "source": [
        "Which of the following statements about passing parameters are true? "
      ]
    },
    {
      "cell_type": "markdown",
      "metadata": {
        "id": "MyodyEdUskGj"
      },
      "source": [
        "**a)** If a parameter is passed by reference, then the memory address of the stored data is passed. \n",
        "\n",
        "**b)** If a parameter is passed by value, then the memory address of the stored data is passed. \n",
        "\n",
        "**c)** If a parameter is passed by value, then changes to the parameter within the function will not affect the actual value. \n",
        "\n",
        "**d)** If a parameter is passed by reference, then changes to the parameter within the function will not affect the actual value."
      ]
    },
    {
      "cell_type": "markdown",
      "metadata": {
        "id": "_IhBBxRiskGk"
      },
      "source": [
        "### Solution"
      ]
    },
    {
      "cell_type": "markdown",
      "metadata": {
        "id": "4oWypQycskGk"
      },
      "source": [
        "The correct answers are **b)** and **c)**.\n",
        "\n",
        "**b)** A copy of the data is sent to the function.\n",
        "\n",
        "**d)** Since the parameter is passed by reference, the function recieves a memory location and can modify the original data."
      ]
    },
    {
      "cell_type": "markdown",
      "metadata": {
        "id": "Vj9ye95gdg1a"
      },
      "source": [
        "## Question 3"
      ]
    },
    {
      "cell_type": "markdown",
      "metadata": {
        "id": "hfMyidfBdWYl"
      },
      "source": [
        "Write a function called `remove_consonants` that strips all the consonants from a parameter `sample_word` and returns the new word."
      ]
    },
    {
      "cell_type": "code",
      "execution_count": null,
      "metadata": {
        "id": "YOaINQ3AOPpa"
      },
      "outputs": [],
      "source": [
        "def remove_consonants(sample_word):\n",
        "  # Removes all the consonants from a given word.\n",
        "  # TODO(you): Implement\n",
        "  print('This function has not been implemented.')"
      ]
    },
    {
      "cell_type": "markdown",
      "metadata": {
        "id": "h4pZpl3XHpe6"
      },
      "source": [
        "### Hint"
      ]
    },
    {
      "cell_type": "markdown",
      "metadata": {
        "id": "hbYds3XJHr7g"
      },
      "source": [
        "Modify the `remove_vowels` function in the Lesson Overview."
      ]
    },
    {
      "cell_type": "markdown",
      "metadata": {
        "id": "acpKS0dkeTYF"
      },
      "source": [
        "### Unit Tests\n",
        "\n",
        "Run the following cell to check your answer against some unit tests."
      ]
    },
    {
      "cell_type": "code",
      "execution_count": null,
      "metadata": {
        "id": "t9iyMOQHeUR0"
      },
      "outputs": [],
      "source": [
        "print(remove_consonants('balloon'))\n",
        "# Should print: 'aoo'"
      ]
    },
    {
      "cell_type": "markdown",
      "metadata": {
        "id": "WP3PGajGdwhn"
      },
      "source": [
        "### Solution"
      ]
    },
    {
      "cell_type": "markdown",
      "metadata": {
        "id": "GqeKLocLA9y7"
      },
      "source": [
        "For this function, we can make a few modifications to the `remove_vowels` method from the Lesson Overview:"
      ]
    },
    {
      "cell_type": "code",
      "execution_count": null,
      "metadata": {
        "id": "4LP1MwhUYs8e"
      },
      "outputs": [],
      "source": [
        "def remove_consonants(sample_word):\n",
        "  # Removes all the consonants from a given word.\n",
        "  result = ''\n",
        "  for letter in sample_word:\n",
        "    if letter == 'a':\n",
        "      result += letter\n",
        "    elif letter == 'e':\n",
        "      result += letter\n",
        "    elif letter == 'i':\n",
        "      result += letter\n",
        "    elif letter == 'o':\n",
        "      result += letter\n",
        "    elif letter == 'u':\n",
        "      result += letter\n",
        "    # y, for our purposes, is a consonant.\n",
        "    else:\n",
        "      continue\n",
        "  return result"
      ]
    },
    {
      "cell_type": "markdown",
      "metadata": {
        "id": "oP1jK3mkdgK-"
      },
      "source": [
        "## Question 4"
      ]
    },
    {
      "cell_type": "markdown",
      "metadata": {
        "id": "9YqAudhuSxJg"
      },
      "source": [
        "Any letter or number in English has a Morse code equivalent, often used for sending signals without having to rely on characters, and we've provided a function to convert a given letter to Morse code.\n"
      ]
    },
    {
      "cell_type": "code",
      "execution_count": null,
      "metadata": {
        "id": "fpem4YpVCm4i"
      },
      "outputs": [],
      "source": [
        "def convert_letter_to_morse_code(letter):\n",
        "  # Converts a particular letter to its Morse code equivalent.\n",
        "  letter = letter.lower()\n",
        "  if letter == 'a':\n",
        "    return '.-'\n",
        "  elif letter == 'b':\n",
        "    return '-...'\n",
        "  elif letter == 'c':\n",
        "    return '-.-.'\n",
        "  elif letter == 'd':\n",
        "    return '-..'\n",
        "  elif letter == 'e':\n",
        "    return '.'\n",
        "  elif letter == 'f':\n",
        "    return '..-.'\n",
        "  elif letter == 'g':\n",
        "    return '--.'\n",
        "  elif letter == 'h':\n",
        "    return '....'\n",
        "  elif letter == 'i':\n",
        "    return '..'\n",
        "  elif letter == 'j':\n",
        "    return '.---'\n",
        "  elif letter == 'k':\n",
        "    return '-.-'\n",
        "  elif letter == 'l':\n",
        "    return '.-..'\n",
        "  elif letter == 'm':\n",
        "    return '--'\n",
        "  elif letter == 'n':\n",
        "    return '-.'\n",
        "  elif letter == 'o':\n",
        "    return '---'\n",
        "  elif letter == 'p':\n",
        "    return '.--.'\n",
        "  elif letter == 'q':\n",
        "    return '--.-'\n",
        "  elif letter == 'r':\n",
        "    return '.-.'\n",
        "  elif letter == 's':\n",
        "    return '...'\n",
        "  elif letter == 't':\n",
        "    return '-'\n",
        "  elif letter == 'u':\n",
        "    return '..-'\n",
        "  elif letter == 'v':\n",
        "    return '...-'\n",
        "  elif letter == 'w':\n",
        "    return '.--'\n",
        "  elif letter == 'x':\n",
        "    return '-..-'\n",
        "  elif letter == 'y':\n",
        "    return '-.--'\n",
        "  elif letter == 'z':\n",
        "    return '--..'\n",
        "  elif letter == '0':\n",
        "    return '-----'\n",
        "  elif letter == '1':\n",
        "    return '.----'\n",
        "  elif letter == '2':\n",
        "    return '..---'\n",
        "  elif letter == '3':\n",
        "    return '...--'\n",
        "  elif letter == '4':\n",
        "    return '....-'\n",
        "  elif letter == '5':\n",
        "    return '.....'\n",
        "  elif letter == '6':\n",
        "    return '-....'\n",
        "  elif letter == '7':\n",
        "    return '--...'\n",
        "  elif letter == '8':\n",
        "    return '---..'\n",
        "  elif letter == '9':\n",
        "    return '----.'\n",
        "  else:\n",
        "    raise ValueError('No morse code equivalent for %s.' % letter)"
      ]
    },
    {
      "cell_type": "markdown",
      "metadata": {
        "id": "gXLrjeAsTGpH"
      },
      "source": [
        "We can test out this method, converting various characters to Morse code."
      ]
    },
    {
      "cell_type": "code",
      "execution_count": null,
      "metadata": {
        "id": "9tUILcWNTh7l"
      },
      "outputs": [],
      "source": [
        "print('\"w\" in Morse code is \"%s\"' % convert_letter_to_morse_code('w'))\n",
        "print('\"9\" in Morse code is \"%s\"' % convert_letter_to_morse_code('9'))\n",
        "print('\"a\" in Morse code is \"%s\"' % convert_letter_to_morse_code('a'))"
      ]
    },
    {
      "cell_type": "markdown",
      "metadata": {
        "id": "FTEw1y0YDJkR"
      },
      "source": [
        "Using that function, write a function that takes a word as input and outputs that word's Morse code equivalent."
      ]
    },
    {
      "cell_type": "code",
      "execution_count": null,
      "metadata": {
        "id": "wdVxUvqXTEjF"
      },
      "outputs": [],
      "source": [
        "def convert_word_to_morse_code(word):\n",
        "  # Converts a particular word to its Morse code equivalent.\n",
        "  # TODO(you): Implement\n",
        "  print('This function has not been implemented.')"
      ]
    },
    {
      "cell_type": "markdown",
      "metadata": {
        "id": "nPptDV2feEs2"
      },
      "source": [
        "### Hint"
      ]
    },
    {
      "cell_type": "markdown",
      "metadata": {
        "id": "QyjfzTDJeDOT"
      },
      "source": [
        "Use a `for` loop, and make sure to add a space between 'letters'."
      ]
    },
    {
      "cell_type": "markdown",
      "metadata": {
        "id": "2w-NjkHOech_"
      },
      "source": [
        "### Unit Tests\n",
        "\n",
        "Run the following cell to check your answer against some unit tests."
      ]
    },
    {
      "cell_type": "code",
      "execution_count": null,
      "metadata": {
        "id": "BTJShldYedgs"
      },
      "outputs": [],
      "source": [
        "print(convert_word_to_morse_code('happy'))\n",
        "# Should print: .... .- .--. .--. -.--"
      ]
    },
    {
      "cell_type": "markdown",
      "metadata": {
        "id": "opB3JcMWeZQy"
      },
      "source": [
        "### Solution"
      ]
    },
    {
      "cell_type": "code",
      "execution_count": null,
      "metadata": {
        "id": "3tBzs_2sUm2n"
      },
      "outputs": [],
      "source": [
        "def convert_word_to_morse_code(word):\n",
        "  # Converts a particular word to its Morse code equivalent.\n",
        "  result = ''\n",
        "  for letter in word:\n",
        "    result += convert_letter_to_morse_code(letter)\n",
        "    result += ' '\n",
        "  return result"
      ]
    },
    {
      "cell_type": "markdown",
      "metadata": {
        "id": "x30C0lURdd94"
      },
      "source": [
        "## Question 5"
      ]
    },
    {
      "cell_type": "markdown",
      "metadata": {
        "id": "4LPiaWMXUA2r"
      },
      "source": [
        "Sometimes it can be better to extend a function instead of leaving it hardcoded. Take this method, which takes some input parameter and prints it five times:"
      ]
    },
    {
      "cell_type": "code",
      "execution_count": null,
      "metadata": {
        "id": "cJwrtANqak1E"
      },
      "outputs": [],
      "source": [
        "def print_five_times(item_to_print):\n",
        "  # Prints a given input five times.\n",
        "  print(item_to_print)\n",
        "  print(item_to_print)\n",
        "  print(item_to_print)\n",
        "  print(item_to_print)\n",
        "  print(item_to_print)\n",
        "\n",
        "print_five_times('hello')  "
      ]
    },
    {
      "cell_type": "markdown",
      "metadata": {
        "id": "ixywQ4OmMpz9"
      },
      "source": [
        "Modify this method to become `print_n_times`, which takes `item_to_print` and some number `n`, and prints `item_to_print` `n` times."
      ]
    },
    {
      "cell_type": "code",
      "execution_count": null,
      "metadata": {
        "id": "W-19l2lDM1Ke"
      },
      "outputs": [],
      "source": [
        "def print_n_times(item_to_print, n):\n",
        "  # Prints a given input n times for a given n.\n",
        "  # TODO(you): Implement\n",
        "  print('This method has not been implemented.')"
      ]
    },
    {
      "cell_type": "markdown",
      "metadata": {
        "id": "zpE57Gz2gcaO"
      },
      "source": [
        "### Unit Tests\n",
        "\n",
        "Run the following cell to check your answer against some unit tests."
      ]
    },
    {
      "cell_type": "code",
      "execution_count": null,
      "metadata": {
        "id": "xKzRvJ0EgZaR"
      },
      "outputs": [],
      "source": [
        "print_n_times('chugga', 4)\n",
        "# Should return multiline:\n",
        "# chugga\n",
        "# chugga\n",
        "# chugga\n",
        "# chugga\n",
        "\n",
        "print_n_times('choo', 2)\n",
        "# Should return multiline:\n",
        "# choo\n",
        "# choo"
      ]
    },
    {
      "cell_type": "markdown",
      "metadata": {
        "id": "453CW7tSgPVk"
      },
      "source": [
        "### Solution"
      ]
    },
    {
      "cell_type": "markdown",
      "metadata": {
        "id": "2_u0R3B2UMFa"
      },
      "source": [
        "The repetition of the `print` function suggests that we should use a `for` loop to repeat, rather than just copying and pasting `print`. If we had done that for `print_five_times`, it would have been much cleaner:"
      ]
    },
    {
      "cell_type": "code",
      "execution_count": null,
      "metadata": {
        "id": "BtWsTD1Qc5h2"
      },
      "outputs": [],
      "source": [
        "def print_five_times(item_to_print):\n",
        "  # Prints a given input five times.\n",
        "  for i in range(5):\n",
        "    print(item_to_print)"
      ]
    },
    {
      "cell_type": "markdown",
      "metadata": {
        "id": "KxpxUGxoOybs"
      },
      "source": [
        "This can help us see where we need to make modifications to upgrade this function to `print_n_times`."
      ]
    },
    {
      "cell_type": "code",
      "execution_count": null,
      "metadata": {
        "id": "avWFRBv7fMVh"
      },
      "outputs": [],
      "source": [
        "def print_n_times(item_to_print, n):\n",
        "  # Prints a given input n times for a given n.\n",
        "  for i in range(n):\n",
        "    print(item_to_print)"
      ]
    },
    {
      "cell_type": "markdown",
      "metadata": {
        "id": "RYS7sWFYi5lk"
      },
      "source": [
        "## Question 6"
      ]
    },
    {
      "cell_type": "markdown",
      "metadata": {
        "id": "sE39F1e7Mplt"
      },
      "source": [
        "A famous theorem in mathematics is the Pythagorean Theorem, which relates the three sides of a right triangle (a triangle in which one angle is a right angle)."
      ]
    },
    {
      "cell_type": "markdown",
      "metadata": {
        "id": "GvRzFbtgmrBe"
      },
      "source": [
        "For such a triangle, with sides $a$ and $b$ and hypotenuse $c$:\n",
        "\n",
        "$$a^2 + b^2 = c^2$$\n",
        "\n",
        "Write a function called `pythagorean` that takes $a$ and $b$ as parameters and returns $c$. Make sure not to return $c^2$ by mistake!\n",
        "\n",
        "You'll need the `sqrt` function, which is found in Python's `math` library."
      ]
    },
    {
      "cell_type": "code",
      "execution_count": null,
      "metadata": {
        "id": "7rXPTXfMRThx"
      },
      "outputs": [],
      "source": [
        "from math import sqrt\n",
        "\n",
        "print(sqrt(4))\n",
        "print(sqrt(64))"
      ]
    },
    {
      "cell_type": "code",
      "execution_count": null,
      "metadata": {
        "id": "BdimG9ajMx1g"
      },
      "outputs": [],
      "source": [
        "from math import sqrt\n",
        "\n",
        "def pythagorean(a, b):\n",
        "  # Returns the length of the hypotenuse (c) of a right triangle with\n",
        "  # sides a and b.\n",
        "  # TODO(you): Implement\n",
        "  print('This method has not been implemented.')"
      ]
    },
    {
      "cell_type": "markdown",
      "metadata": {
        "id": "7ed5A-pB-8lD"
      },
      "source": [
        "### Unit Tests\n",
        "\n",
        "Run the following cell to check your answer against some unit tests."
      ]
    },
    {
      "cell_type": "code",
      "execution_count": null,
      "metadata": {
        "id": "cTXWkJwXPuyy"
      },
      "outputs": [],
      "source": [
        "print(pythagorean(3, 4))\n",
        "# Should print: 5.0\n",
        "\n",
        "print(pythagorean(8, 15))\n",
        "# Should print: 17.0\n",
        "\n",
        "print(pythagorean(9, 40))\n",
        "# Should print: 41.0\n",
        "\n",
        "print(round(pythagorean(1, 1), 4))\n",
        "# Should return approx: 1.4142"
      ]
    },
    {
      "cell_type": "markdown",
      "metadata": {
        "id": "r-VXZ_2rj9AU"
      },
      "source": [
        "### Solution"
      ]
    },
    {
      "cell_type": "code",
      "execution_count": null,
      "metadata": {
        "id": "umg8BJR3k6cW"
      },
      "outputs": [],
      "source": [
        "from math import sqrt\n",
        "\n",
        "def pythagorean(a, b):\n",
        "  # Returns the length of the hypotenuse (c) of a right triangle with \n",
        "  # sides a and b.\n",
        "  return sqrt((a ** 2) + (b ** 2))"
      ]
    },
    {
      "cell_type": "markdown",
      "metadata": {
        "id": "OTpjeGzvi7e7"
      },
      "source": [
        "## Question 7"
      ]
    },
    {
      "cell_type": "markdown",
      "metadata": {
        "id": "b456q3SfUVEv"
      },
      "source": [
        "You've been asked to build a shipping calculator for a new shipping service, *ShipRight*. They want to enable customers to easily calculate shipping rates for packages and envelopes.\n",
        "\n"
      ]
    },
    {
      "cell_type": "markdown",
      "metadata": {
        "id": "c-5o47iZnWEZ"
      },
      "source": [
        "Their rules are as follows:\n",
        "\n",
        "*   Envelopes that weigh one pound or less are \\$0.51 to ship.\n",
        "*   All oversized parcels (any envelope or package weighing more than 50 pounds or larger than 2' in any dimension) cost \\$50 to ship.\n",
        "*   Envelopes that weigh more than a pound and normal packages that weigh less than 50 pounds use the following formula to calculate shipping prices:\n",
        "\n",
        "$$price=\\$0.25 \\times weight \\times length \\times width \\times \\max(0.5 \\times height, 1)$$\n",
        "\n",
        "Given that, write a `calculate_rate` function that takes in `weight`, `length`, `width`, `height`, and `parcel_type` (envelope or package) and returns the cost to ship. Measurements are in pounds for weight, feet for length."
      ]
    },
    {
      "cell_type": "code",
      "execution_count": null,
      "metadata": {
        "id": "YEshBK7-NS_j"
      },
      "outputs": [],
      "source": [
        "ENVELOPE_RATE = 0.51\n",
        "OVERSIZED_RATE = 50\n",
        "\n",
        "def calculate_rate(weight, length, width, height, parcel_type):\n",
        "  # TODO(you): Implement\n",
        "  print('This function has not been implemented.')"
      ]
    },
    {
      "cell_type": "markdown",
      "metadata": {
        "id": "HgvmCJ2Iqz6k"
      },
      "source": [
        "### Hint"
      ]
    },
    {
      "cell_type": "markdown",
      "metadata": {
        "id": "SbN-FOTHqz6m"
      },
      "source": [
        "You've been given three different requirements:\n",
        "\n",
        "*   Standard envelopes\n",
        "*   Oversized parcels\n",
        "*   Standard rate packages\n",
        "\n",
        "Your `calculate_rate` function may be easier to write if you write two helper functions:\n",
        "\n",
        "*   `is_standard_envelope`\n",
        "*   `is_oversized`\n",
        "\n",
        "These functions should return `True` or `False`, since you already know the values to return in those cases (`ENVELOPE_RATE` and `OVERSIZED_RATE`). If you want, you can write a third function `standard_rate` that returns the result of the shipping formula that is calculated if `is_standard_envelope` and `is_oversized` both return `False`."
      ]
    },
    {
      "cell_type": "markdown",
      "metadata": {
        "id": "KuUbHUeFnAmW"
      },
      "source": [
        "### Unit Tests\n",
        "\n",
        "Run the following cell to check your answer against some unit tests."
      ]
    },
    {
      "cell_type": "code",
      "execution_count": null,
      "metadata": {
        "id": "cq8xAHrRQD0d"
      },
      "outputs": [],
      "source": [
        "print(calculate_rate(5, 1, 2, 1, 'envelope'))\n",
        "# Should print: 2.5\n",
        "\n",
        "print(calculate_rate(0.85, 5, 5, .5, 'envelope'))\n",
        "# Should print: 0.51\n",
        "\n",
        "print(calculate_rate(0.85, 5, 5, 5, 'package'))\n",
        "# Should print: 50\n",
        "\n",
        "print(calculate_rate(40, 1.3, 1.9, 1, 'package'))\n",
        "# Should print: 24.7"
      ]
    },
    {
      "cell_type": "markdown",
      "metadata": {
        "id": "HRD6GKyxmyMr"
      },
      "source": [
        "### Solution"
      ]
    },
    {
      "cell_type": "markdown",
      "metadata": {
        "id": "PMfzPvuHMcTx"
      },
      "source": [
        "You'll have to handle the three cases differently, using `if` statements. You can write additional functions to make this code easier to read, but you don't need to. Let's look at that breakdown:"
      ]
    },
    {
      "cell_type": "code",
      "execution_count": null,
      "metadata": {
        "id": "5gwRlc3GMiH4"
      },
      "outputs": [],
      "source": [
        "ENVELOPE_RATE = 0.51\n",
        "OVERSIZED_RATE = 50\n",
        "\n",
        "def is_standard_envelope(weight, parcel_type):\n",
        "  # Checks to see if a parcel is a standard envelope.\n",
        "  return weight \u003c= 1 and parcel_type == 'envelope'\n",
        "\n",
        "def is_oversized(weight, length, width, height):\n",
        "  # Checks to see if a parcel is oversized.\n",
        "  return weight \u003e= 50 or length \u003e 2 or width \u003e 2 or height \u003e 2 \n",
        "\n",
        "def standard_rate(weight, length, width, height, parcel_type):\n",
        "  # Calculates the rate for a package that meets the standard requirements.\n",
        "  return 0.25 * weight * length * width * max(0.5 * height, 1)\n",
        "\n",
        "def calculate_rate(weight, length, width, height, parcel_type):\n",
        "  # Calculates the rate for shipping a package via ShipRight.\n",
        "  if is_standard_envelope(weight, parcel_type):\n",
        "    return ENVELOPE_RATE\n",
        "  if is_oversized(weight, length, width, height):\n",
        "    return OVERSIZED_RATE\n",
        "  else:\n",
        "    return standard_rate(weight, length, width, height, parcel_type)"
      ]
    },
    {
      "cell_type": "markdown",
      "metadata": {
        "id": "-voX7eHci8I3"
      },
      "source": [
        "## Question 8"
      ]
    },
    {
      "cell_type": "markdown",
      "metadata": {
        "id": "QDaz-n-8MHBa"
      },
      "source": [
        "You may remember quadratic equations from algebra. In this exercise you will write a function to solve quadratic equations.\n"
      ]
    },
    {
      "cell_type": "markdown",
      "metadata": {
        "id": "afMYkvXKnwd-"
      },
      "source": [
        "Quadratic equations have the form \n",
        "\n",
        "$$ax^2 + bx + c = 0.$$\n",
        "\n",
        "To solve this equation for any values of $a$, $b$, and $c$, you can apply the quadratic formula\n",
        "\n",
        "$$x=\\frac{-b\\pm\\sqrt{b^2-4ac}}{2a}.$$\n",
        "\n",
        "Write a `quadratic_formula` function that takes in $a$, $b$, and $c$, and returns the two possible values for $x$.\n",
        "\n",
        "You'll need the `sqrt` function, which is found in Python's `math` library."
      ]
    },
    {
      "cell_type": "code",
      "execution_count": null,
      "metadata": {
        "id": "p-s_W70bnvq5"
      },
      "outputs": [],
      "source": [
        "from math import sqrt\n",
        "\n",
        "print(sqrt(4))\n",
        "print(sqrt(64))"
      ]
    },
    {
      "cell_type": "code",
      "execution_count": null,
      "metadata": {
        "id": "uKzHncBNNHNl"
      },
      "outputs": [],
      "source": [
        "from math import sqrt\n",
        "\n",
        "def quadratic_formula(a, b, c):\n",
        "  # Solves a quadratic equation for coefficients a, b, and c.\n",
        "  # TODO(you): Implement\n",
        "  print('This function has not been implemented.')"
      ]
    },
    {
      "cell_type": "markdown",
      "metadata": {
        "id": "dQ0GJt6Dn7yM"
      },
      "source": [
        "### Hint"
      ]
    },
    {
      "cell_type": "markdown",
      "metadata": {
        "id": "2AsX2fv9n_Yj"
      },
      "source": [
        "You can return multiple values in a function by returning a **tuple**. A tuple is a collection of any zero, one, or more values."
      ]
    },
    {
      "cell_type": "code",
      "execution_count": null,
      "metadata": {
        "id": "kgc339dwoHAa"
      },
      "outputs": [],
      "source": [
        "def return_two_values(a, b):\n",
        "  return (a, b)\n",
        "\n",
        "print(return_two_values(0, 1))"
      ]
    },
    {
      "cell_type": "markdown",
      "metadata": {
        "id": "7c8p8e7I4_ie"
      },
      "source": [
        "### Unit Tests\n",
        "\n",
        "Run the following cell to check your answer against some unit tests."
      ]
    },
    {
      "cell_type": "code",
      "execution_count": null,
      "metadata": {
        "id": "PYIyJ2wsQH-N"
      },
      "outputs": [],
      "source": [
        "print(quadratic_formula(1, 4, 4))\n",
        "# Should print: (-2.0, -2.0)\n",
        "\n",
        "print(quadratic_formula(1, -5, 6))\n",
        "# Should print:(2.0, 3.0)\n",
        "\n",
        "print(quadratic_formula(2, 6, -8))\n",
        "# Should print: (-4.0, 1.0)\n",
        "\n",
        "print(quadratic_formula(1, 1, 1))\n",
        "# Should raise: ValueError"
      ]
    },
    {
      "cell_type": "markdown",
      "metadata": {
        "id": "6p9T73VPn541"
      },
      "source": [
        "### Solution"
      ]
    },
    {
      "cell_type": "markdown",
      "metadata": {
        "id": "MSAJg9qJOFf4"
      },
      "source": [
        "This one has two values to keep track of, so make sure you're returning both of them!"
      ]
    },
    {
      "cell_type": "code",
      "execution_count": null,
      "metadata": {
        "id": "ObcV6UIkOF51"
      },
      "outputs": [],
      "source": [
        "from math import sqrt\n",
        "\n",
        "def quadratic_formula(a, b, c):\n",
        "  # Solves a quadratic equation for coefficients a, b, and c.\n",
        "  # The discriminant is the name for the term b^2 - 4ac.\n",
        "  discriminant = b ** 2 - 4 * a * c\n",
        "\n",
        "  if discriminant \u003c 0:\n",
        "    raise ValueError('Inappropriate argument b^2-4ac value is negative')\n",
        "  else:  \n",
        "    x_neg = (-b - sqrt(discriminant)) / (2 * a)\n",
        "    x_pos = (-b + sqrt(discriminant)) / (2 * a)\n",
        "  return (x_neg, x_pos)"
      ]
    },
    {
      "cell_type": "markdown",
      "metadata": {
        "id": "9kRk5SLnAQ33"
      },
      "source": [
        "## Question 9"
      ]
    },
    {
      "cell_type": "markdown",
      "metadata": {
        "id": "W35dKasZWhiI"
      },
      "source": [
        "Your coworker is getting started with a program to find the number of characters, words, and lines in a large text document. The program currently seems to be failing, and your coworker can't figure out why. Can you fix the issue?"
      ]
    },
    {
      "cell_type": "code",
      "execution_count": null,
      "metadata": {
        "id": "ygx-2yZFAqi1"
      },
      "outputs": [],
      "source": [
        "def count_characters(input_text):\n",
        "  # Counts the characters in a given text.\n",
        "  num_characters = 0\n",
        "  for character in input_text:\n",
        "    num_characters += 1\n",
        "\n",
        "def count_words(input_text):\n",
        "  # Counts the words in a given text.\n",
        "  num_words = 0\n",
        "  # Assuming normal spacing, each space breaks up two words.\n",
        "  for character in input_text:\n",
        "    if character == '\\n' or character == ' ':\n",
        "      num_words += 1\n",
        "  # There won't be a space at the end, so, add one more word if there are\n",
        "  # any words.\n",
        "  if len(input_text) \u003e 0:\n",
        "    num_words += 1\n",
        "\n",
        "def count_lines(input_text):\n",
        "  # Counts the lines in a given text.\n",
        "  num_lines = 0\n",
        "  for character in input_text:\n",
        "    if character == '\\n':\n",
        "      num_lines += 1\n",
        "  # Technically it's always at least one line if there's text there.\n",
        "  if len(input_text) \u003e 0:\n",
        "    num_lines += 1\n",
        "\n",
        "def analyze_text(input_text):\n",
        "  # Prints the number of lines, words, and characters in a given text.\n",
        "  print('Number of lines: %s' % count_lines(input_text))\n",
        "  print('Number of words: %s' % count_words(input_text))\n",
        "  print('Number of characters: %s' % count_characters(input_text))\n",
        "\n",
        "\n",
        "\n",
        "text = \"\"\"\n",
        "And yet, being a problem is a strange experience, peculiar even for one who has\n",
        "never been anything else, save perhaps in babyhood and in Europe. It is in the\n",
        "early days of rollicking boyhood that the revelation first bursts upon one, all\n",
        "in a day, as it were. I remember well when the shadow swept across me. I was a\n",
        "little thing, away up in the hills of New England, where the dark Housatonic\n",
        "winds between Hoosac and Taghkanic to the sea.\n",
        "\"\"\"\n",
        "\n",
        "analyze_text(text)"
      ]
    },
    {
      "cell_type": "markdown",
      "metadata": {
        "id": "t7elSQngA2IF"
      },
      "source": [
        "### Solution"
      ]
    },
    {
      "cell_type": "markdown",
      "metadata": {
        "id": "Ivyoa8AvWlf6"
      },
      "source": [
        "This is an extremely common problem in coding: your coworker forgot to add the `return` statements!"
      ]
    },
    {
      "cell_type": "code",
      "execution_count": null,
      "metadata": {
        "id": "3ayz1gU1Bu9M"
      },
      "outputs": [],
      "source": [
        "def count_characters(input_text):\n",
        "  num_characters = 0\n",
        "  for character in input_text:\n",
        "    num_characters += 1\n",
        "  return num_characters\n",
        "\n",
        "def count_words(input_text):\n",
        "  num_words = 0\n",
        "  # Assuming normal spacing, each space breaks up two words.\n",
        "  for character in input_text:\n",
        "    if character == '\\n' or character == ' ':\n",
        "      num_words += 1\n",
        "  # There won't be a space at the end, so, add one more word if there are\n",
        "  # any words.\n",
        "  if len(input_text) \u003e 0:\n",
        "    num_words += 1\n",
        "  return num_words\n",
        "\n",
        "def count_lines(input_text):\n",
        "  num_lines = 0\n",
        "  for character in input_text:\n",
        "    if character == '\\n':\n",
        "      num_lines += 1\n",
        "  # Technically it's always at least one line if there's text there.\n",
        "  if len(input_text) \u003e 0:\n",
        "    num_lines += 1\n",
        "  return num_lines\n",
        "\n",
        "def analyze_text(input_text):\n",
        "  print('Number of lines: %s' % count_lines(input_text))\n",
        "  print('Number of words: %s' % count_words(input_text))\n",
        "  print('Number of characters: %s' % count_characters(input_text))"
      ]
    },
    {
      "cell_type": "code",
      "execution_count": null,
      "metadata": {
        "id": "Ft6rS2ZfA9pJ"
      },
      "outputs": [],
      "source": [
        "text = \"\"\"\n",
        "And yet, being a problem is a strange experience, peculiar even for one who has\n",
        "never been anything else, save perhaps in babyhood and in Europe. It is in the\n",
        "early days of rollicking boyhood that the revelation first bursts upon one, all\n",
        "in a day, as it were. I remember well when the shadow swept across me. I was a\n",
        "little thing, away up in the hills of New England, where the dark Housatonic\n",
        "winds between Hoosac and Taghkanic to the sea.\n",
        "\"\"\"\n",
        "\n",
        "analyze_text(text)"
      ]
    },
    {
      "cell_type": "markdown",
      "metadata": {
        "id": "L4zFI_8PAOxE"
      },
      "source": [
        "## Question 10"
      ]
    },
    {
      "cell_type": "markdown",
      "metadata": {
        "id": "otVyPF4etHpF"
      },
      "source": [
        "Your colleague is working on printing the prime numbers up to a given value. They've written a function called `print_primes_up_to`, which takes a number input and prints all the prime numbers less than that number. (For reference, a prime number is any number with exclusively two divsiors: itself and 1.)\n",
        "\n",
        "It seems to not be working, though. Can you fix it?"
      ]
    },
    {
      "cell_type": "code",
      "execution_count": null,
      "metadata": {
        "id": "Rjjefr755pBW"
      },
      "outputs": [],
      "source": [
        "def print_primes_up_to(number):\n",
        "  # Prints all prime numbers up to the given number.\n",
        "  for i in range(2, number):\n",
        "    is_prime = True\n",
        "    for j in range(2, number - 1):\n",
        "      if number % j == 0:\n",
        "        is_prime = False\n",
        "        break\n",
        "    if is_prime:\n",
        "      print(number)\n",
        "\n",
        "print_primes_up_to(7)      "
      ]
    },
    {
      "cell_type": "markdown",
      "metadata": {
        "id": "4K5QSuptBTIw"
      },
      "source": [
        "### Solution"
      ]
    },
    {
      "cell_type": "markdown",
      "metadata": {
        "id": "LuSZLDPlzdBY"
      },
      "source": [
        "There are a few issues here. One is that the specific `print_primes_up_to` function is doing two different tasks, so it may be worth breaking up, or decomposing the function. Generally, it's a good idea to decompose your code, or structure it such that related ideas are grouped into a function so they don't distract from the code itself. Writing a function called `is_prime` might be helpful, and doing so surfaces the error that your coworker put `number` in a few spots where they should have put `i`. Naming the variables a bit more descriptively might help as well."
      ]
    },
    {
      "cell_type": "code",
      "execution_count": null,
      "metadata": {
        "id": "B_MsJxWI9z7V"
      },
      "outputs": [],
      "source": [
        "def is_prime(number):\n",
        "  # Returns true if the given number is prime; false otherwise.\n",
        "  for divisor in range(2, number):\n",
        "    if number % divisor == 0:\n",
        "      return False\n",
        "  return True\n",
        "\n",
        "def print_primes_up_to(number):\n",
        "  # Prints all prime numbers up to the given number.\n",
        "  for i in range(2, number):\n",
        "    if is_prime(i):\n",
        "      print(i)\n",
        "\n",
        "print_primes_up_to(40)      "
      ]
    }
  ],
  "metadata": {
    "colab": {
      "collapsed_sections": [
        "FkNJ2Wghi6v0",
        "_IhBBxRiskGk",
        "h4pZpl3XHpe6",
        "acpKS0dkeTYF",
        "WP3PGajGdwhn",
        "nPptDV2feEs2",
        "2w-NjkHOech_",
        "opB3JcMWeZQy",
        "zpE57Gz2gcaO",
        "453CW7tSgPVk",
        "7ed5A-pB-8lD",
        "r-VXZ_2rj9AU",
        "HgvmCJ2Iqz6k",
        "KuUbHUeFnAmW",
        "HRD6GKyxmyMr",
        "dQ0GJt6Dn7yM",
        "7c8p8e7I4_ie",
        "6p9T73VPn541",
        "t7elSQngA2IF",
        "4K5QSuptBTIw"
      ],
      "name": "functions.ipynb",
      "provenance": [ ]
    },
    "kernelspec": {
      "display_name": "Python 3",
      "name": "python3"
    }
  },
  "nbformat": 4,
  "nbformat_minor": 0
}
