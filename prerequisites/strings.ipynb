{
  "cells": [
    {
      "cell_type": "markdown",
      "metadata": {
        "id": "Pic8r3n4AWWu"
      },
      "source": [
        "# Strings\n"
      ]
    },
    {
      "cell_type": "markdown",
      "metadata": {
        "id": "IdlY7Aof30L-"
      },
      "source": [
        "## Lesson Overview"
      ]
    },
    {
      "cell_type": "markdown",
      "metadata": {
        "id": "40klIjfB3g0H"
      },
      "source": [
        "\u003e A string is an ordered sequence of characters, generally used to store text data. "
      ]
    },
    {
      "cell_type": "markdown",
      "metadata": {
        "id": "LqO7jE1271un"
      },
      "source": [
        "An example string might look like this:"
      ]
    },
    {
      "cell_type": "code",
      "execution_count": null,
      "metadata": {
        "id": "qva_MmLmVsHl"
      },
      "outputs": [],
      "source": [
        "greeting = 'Hello, World!'"
      ]
    },
    {
      "cell_type": "markdown",
      "metadata": {
        "id": "2ZYFtw6oll92"
      },
      "source": [
        "### Creating strings"
      ]
    },
    {
      "cell_type": "markdown",
      "metadata": {
        "id": "A_AiRUOJdS4Y"
      },
      "source": [
        "Strings can be defined using either single quotes (`' '`) or double quotes (`\" \"`). "
      ]
    },
    {
      "cell_type": "code",
      "execution_count": null,
      "metadata": {
        "id": "a8Cg3Yry4MD1"
      },
      "outputs": [],
      "source": [
        "quote = 'Hi, friends!'\n",
        "print(quote)\n",
        "\n",
        "quote = \"Hi, friends!\"\n",
        "print(quote)"
      ]
    },
    {
      "cell_type": "markdown",
      "metadata": {
        "id": "Ad8dExqklpTE"
      },
      "source": [
        "### Accessing characters in a string"
      ]
    },
    {
      "cell_type": "markdown",
      "metadata": {
        "id": "HfubvbeaLjhQ"
      },
      "source": [
        "A string is usually represented as a list of characters."
      ]
    },
    {
      "cell_type": "markdown",
      "metadata": {
        "id": "C_uhSYqC731u"
      },
      "source": [
        "We can also perform certain actions to access individual characters within that string:"
      ]
    },
    {
      "cell_type": "code",
      "execution_count": null,
      "metadata": {
        "id": "ijp4kTP6Wjtn"
      },
      "outputs": [],
      "source": [
        "greeting = 'Hello, World!'\n",
        "print(greeting[0]) # 'H'\n",
        "print(greeting[5]) # ','\n",
        "print(len(greeting)) # 13"
      ]
    },
    {
      "cell_type": "markdown",
      "metadata": {
        "id": "rVYg_DJfWnM2"
      },
      "source": [
        "Keep in mind that strings are 0-indexed. That means they start counting their characters from 0 rather than 1. Therefore, the first character (the `'H'` in `'Hello'`) is accessible via `greeting[0]`.\n"
      ]
    },
    {
      "cell_type": "markdown",
      "metadata": {
        "id": "5KtyzubSmMYN"
      },
      "source": [
        "### Changing characters in a string and immutability"
      ]
    },
    {
      "cell_type": "markdown",
      "metadata": {
        "id": "6Knb2uHEVuep"
      },
      "source": [
        "Accessing characters is an important part of working with strings, but changing characters is more difficult. In Python and most other languages, a string is **immutable**, meaning that its characters cannot be edited once they're in that form. If a string needs to be changed, there are many functions and built-in features for many languages that make it easy to copy and modify strings."
      ]
    },
    {
      "cell_type": "code",
      "execution_count": null,
      "metadata": {
        "id": "zv9EvOkfLjTK"
      },
      "outputs": [],
      "source": [
        "greeting = 'Hello, World!'\n",
        "print(greeting[0]) # 'H'\n",
        "\n",
        "greeting[0] = 'M' # This will cause an error!"
      ]
    },
    {
      "cell_type": "markdown",
      "metadata": {
        "id": "UoE0bZxwmT-t"
      },
      "source": [
        "### Changing characters in a string and immutability"
      ]
    },
    {
      "cell_type": "markdown",
      "metadata": {
        "id": "VHDo7f7cM5zk"
      },
      "source": [
        "Typically a string is modified by creating a new string with the change."
      ]
    },
    {
      "cell_type": "markdown",
      "metadata": {
        "id": "b7KXOuiy77pA"
      },
      "source": [
        "Try this:"
      ]
    },
    {
      "cell_type": "code",
      "execution_count": null,
      "metadata": {
        "id": "w7nncLMRM7FH"
      },
      "outputs": [],
      "source": [
        "greeting = 'Hello, World!'\n",
        "\n",
        "new_greeting = 'M'\n",
        "for i in range(1, len(greeting)):\n",
        "  new_greeting += greeting[i]\n",
        "print(new_greeting)"
      ]
    },
    {
      "cell_type": "markdown",
      "metadata": {
        "id": "6yUFJMytmWuy"
      },
      "source": [
        "### String formatting"
      ]
    },
    {
      "cell_type": "markdown",
      "metadata": {
        "id": "dcYK298fLwwf"
      },
      "source": [
        "You may also use strings for formatting, which allows you to substitute certain data types for formatting characters in strings: \n",
        "\n",
        "*   `%s` is used to substitute strings and boolean values.\n",
        "*   `%d` is used to substitute integers.\n",
        "*   `%f` is used to substitute floating point numbers."
      ]
    },
    {
      "cell_type": "code",
      "execution_count": null,
      "metadata": {
        "id": "8zRP8yC8MFoz"
      },
      "outputs": [],
      "source": [
        "print('Here is a sample string: %s' % \n",
        "      'This string will be inserted in place of the first \"%s\".')\n",
        "print('This string prints a number: %d' % 50)\n",
        "print('Kiran has two favorite numbers: %d and %d' % (0, 1))\n",
        "print('Sidnie\\'s favorite number is %d and her favorite word is %s.' % \n",
        "      (8, 'neat'))"
      ]
    },
    {
      "cell_type": "markdown",
      "metadata": {
        "id": "taCbqFWtmab-"
      },
      "source": [
        "### Escaping characters"
      ]
    },
    {
      "cell_type": "markdown",
      "metadata": {
        "id": "bhAfLOXQ4A1E"
      },
      "source": [
        "When creating strings, it's best to be consistent, but there will be times when that's challenging."
      ]
    },
    {
      "cell_type": "markdown",
      "metadata": {
        "id": "4kbL5w3I8DLf"
      },
      "source": [
        " Consider the following text:\n",
        "\n",
        "\u003e He said, \"No, that's my horse!\".\n",
        "\n",
        "To encode that as a string, you'll need to use single quotes and double quotes, which means that you'll have to **escape** some characters. You can do that using a backslash, or a `\\`."
      ]
    },
    {
      "cell_type": "code",
      "execution_count": null,
      "metadata": {
        "id": "sed1STIad3Tb"
      },
      "outputs": [],
      "source": [
        "quote = \"He said, \\\"No, that's my horse!\\\".\"\n",
        "print(quote)\n",
        "\n",
        "quote = 'He said, \"No, that\\'s my horse!\".'\n",
        "print(quote)"
      ]
    },
    {
      "cell_type": "markdown",
      "metadata": {
        "id": "pvHLr7CMRuHk"
      },
      "source": [
        "## Question 1"
      ]
    },
    {
      "cell_type": "markdown",
      "metadata": {
        "id": "lCNjIkrDRzhc"
      },
      "source": [
        "Which of the following best defines an string?"
      ]
    },
    {
      "cell_type": "markdown",
      "metadata": {
        "id": "5NdGphqGi6vz"
      },
      "source": [
        "**a)** An unordered collection of characters.\n",
        "\n",
        "**b)** An ordered collection of characters.\n",
        "\n",
        "**c)** An ordered collection of integers.\n",
        "\n",
        "**d)** An ordered collection of objects with any data type."
      ]
    },
    {
      "cell_type": "markdown",
      "metadata": {
        "id": "FkNJ2Wghi6v0"
      },
      "source": [
        "### Solution"
      ]
    },
    {
      "cell_type": "markdown",
      "metadata": {
        "id": "Kn3LHu90i6v0"
      },
      "source": [
        "The correct answers are **b)**.\n",
        "\n",
        "**a)** A string has an ordering.\n",
        "\n",
        "**c)** Be careful. The characters in a string can represent numbers, but they are not of type `int`.\n",
        "\n",
        "**d)** This defines another data strucure called an *array*."
      ]
    },
    {
      "cell_type": "markdown",
      "metadata": {
        "id": "Fte7WQ00pXSK"
      },
      "source": [
        "## Question 2"
      ]
    },
    {
      "cell_type": "markdown",
      "metadata": {
        "id": "CqTDorLvpbrC"
      },
      "source": [
        "Write a function that returns the following passage from Emily Bronte's *Wuthering Heights* as a single string. \n",
        "\n",
        "\u003e Wuthering Heights is the name of Mr. Heathcliff's dwelling. \"Wuthering\" being a significant provincial adjective, descriptive of the atmospheric tumult to which its station is exposed in stormy weather.\n"
      ]
    },
    {
      "cell_type": "code",
      "execution_count": null,
      "metadata": {
        "id": "Zv2bpsP8q_k5"
      },
      "outputs": [],
      "source": [
        "def wuthering_passage():\n",
        "  # TODO(you): Implement\n",
        "  print('This function has not been implemented.')"
      ]
    },
    {
      "cell_type": "markdown",
      "metadata": {
        "id": "LrLXCF2QtzqG"
      },
      "source": [
        "### Unit Tests\n",
        "\n",
        "Run the following cell to check your answer against some unit tests."
      ]
    },
    {
      "cell_type": "code",
      "execution_count": null,
      "metadata": {
        "id": "O0ggAEQnt2Jq"
      },
      "outputs": [],
      "source": [
        "print(wuthering_passage()[:120])\n",
        "# Should print: Wuthering Heights is the name of Mr. Heathcliff's dwelling. “Wuthering” being a significant provincial adjective, descri\n",
        "\n",
        "print(wuthering_passage()[120:])\n",
        "# Should print: ptive of the atmospheric tumult to which its station is exposed in stormy weather."
      ]
    },
    {
      "cell_type": "markdown",
      "metadata": {
        "id": "BIDkAC-5suuc"
      },
      "source": [
        "### Solution"
      ]
    },
    {
      "cell_type": "markdown",
      "metadata": {
        "id": "UcxIp8zsxSPZ"
      },
      "source": [
        "The key idea here is to add the quotation marks and apostrophe by escaping (e.g. `'can\\'t'`) or using both double- and single-quotes (e.g.`\"can't\"`).\n",
        "\n",
        "We break the passage onto different lines to limit line length in our code. "
      ]
    },
    {
      "cell_type": "code",
      "execution_count": null,
      "metadata": {
        "id": "nHJ7R-79tgGw"
      },
      "outputs": [],
      "source": [
        "def wuthering_passage():\n",
        "  return ('Wuthering Heights is the name of Mr. Heathcliff\\'s '\n",
        "  + 'dwelling. “Wuthering” being a significant provincial adjective, '\n",
        "  + 'descriptive of the atmospheric tumult to which its station is exposed '\n",
        "  + 'in stormy weather.')"
      ]
    },
    {
      "cell_type": "markdown",
      "metadata": {
        "id": "fdQwRRIlYN60"
      },
      "source": [
        "## Question 3"
      ]
    },
    {
      "cell_type": "markdown",
      "metadata": {
        "id": "biLTDlBeUAyZ"
      },
      "source": [
        "For many string manipulation tasks, you'll need to quickly look through the string and perform certain actions. Let's try that by writing a method called `print_vowels`. This method takes in a string and prints all the vowels (`['a', 'e', 'i', 'o', 'u']`) in it, one vowel per line."
      ]
    },
    {
      "cell_type": "code",
      "execution_count": null,
      "metadata": {
        "id": "FGzJJ548XN2S"
      },
      "outputs": [],
      "source": [
        "def print_vowels(input_text):\n",
        "  # TODO(you): Implement\n",
        "  print('This function has not been implemented.')"
      ]
    },
    {
      "cell_type": "markdown",
      "metadata": {
        "id": "yU_3sK9adv8l"
      },
      "source": [
        "For example, when given the string `'Hello, World!'`, the function should print out the letters `e`, `o`, and `o`, each on their own line.\n"
      ]
    },
    {
      "cell_type": "markdown",
      "metadata": {
        "id": "Fr2SMJBxYiYI"
      },
      "source": [
        "### Unit Tests\n",
        "\n",
        "Run the following cell to check your answer against some unit tests."
      ]
    },
    {
      "cell_type": "code",
      "execution_count": null,
      "metadata": {
        "id": "BIOry7DPYsfn"
      },
      "outputs": [],
      "source": [
        "print_vowels('Test')\n",
        "# Should print: e\n",
        "\n",
        "print_vowels('More vowels!')\n",
        "# Should print multiline:\n",
        "# o\n",
        "# e\n",
        "# o\n",
        "# e"
      ]
    },
    {
      "cell_type": "markdown",
      "metadata": {
        "id": "puvDex_GYl1e"
      },
      "source": [
        "### Solution"
      ]
    },
    {
      "cell_type": "markdown",
      "metadata": {
        "id": "GqeKLocLA9y7"
      },
      "source": [
        "For this we'll iterate through the string using a `for` loop. If we match any vowels, we'll print them out:\n"
      ]
    },
    {
      "cell_type": "code",
      "execution_count": null,
      "metadata": {
        "id": "dnojmHjDYPKR"
      },
      "outputs": [],
      "source": [
        "def print_vowels(input_text):\n",
        "  for i in range(len(input_text)):\n",
        "    c = input_text[i]\n",
        "    if c == 'a':\n",
        "      print(c)\n",
        "    if c == 'e':\n",
        "      print(c)\n",
        "    if c == 'i':\n",
        "      print(c)\n",
        "    if c == 'o':\n",
        "      print(c)\n",
        "    if c == 'u':\n",
        "      print(c)"
      ]
    },
    {
      "cell_type": "markdown",
      "metadata": {
        "id": "ewOX3LjFYSSy"
      },
      "source": [
        "  You can also simplify this by using `or` statements:"
      ]
    },
    {
      "cell_type": "code",
      "execution_count": null,
      "metadata": {
        "id": "Cl3fkXj1Yl0T"
      },
      "outputs": [],
      "source": [
        "def print_vowels(input_text):\n",
        "  for i in range(len(input_text)):\n",
        "    c = input_text[i]\n",
        "    if c == 'a' or c == 'e' or c == 'i' or c == 'o' or c == 'u':\n",
        "      print(c)"
      ]
    },
    {
      "cell_type": "markdown",
      "metadata": {
        "id": "wdVbsQWpYojP"
      },
      "source": [
        "As you cover more data structures, you may find a way to make this function shorter. Some languages even have their own built-in functions for determining if a given character is a vowel or not."
      ]
    },
    {
      "cell_type": "markdown",
      "metadata": {
        "id": "cF7HcpkqY-DS"
      },
      "source": [
        "## Question 4"
      ]
    },
    {
      "cell_type": "markdown",
      "metadata": {
        "id": "4LPiaWMXUA2r"
      },
      "source": [
        "Another thing strings allow is for **slicing**, or removing parts of the string. Let's take a look at a few examples:\n",
        "\n"
      ]
    },
    {
      "cell_type": "markdown",
      "metadata": {
        "id": "74IMYMYV8W6c"
      },
      "source": [
        "In Python, the syntax for slicing is `[start_index:end_index:step]`.  \n",
        "\n",
        "*   `step` is a particularly interesting parameter, as it tells you how to move from `start_index` to `end_index`. If not included, it defaults to `1`. \n",
        "*   `start_index` and `end_index` default to the beginning and end of the string. "
      ]
    },
    {
      "cell_type": "code",
      "execution_count": null,
      "metadata": {
        "id": "3Xo-ImIdXYn1"
      },
      "outputs": [],
      "source": [
        "greeting = 'Hello, World!'\n",
        "\n",
        "# The step parameter is optional (1, by default).\n",
        "\n",
        "print(greeting[1:3]) # 'el'\n",
        "print(greeting[4:8]) # 'o, W'\n",
        "print(greeting[2::1]) # 'llo, World!'\n",
        "print(greeting[::2]) # 'Hlo ol!'\n",
        "print(greeting[:10:2]) # 'Hlo o'\n",
        "print(greeting[::-1]) # '!dlroW ,olleH'\n",
        "\n",
        "print(greeting[5:]) # ', World!'\n",
        "print(greeting[5::1]) # ', World!'\n",
        "print(greeting[:10]) # 'Hello, Wor'\n",
        "print(greeting[:10:1]) # 'Hello, Wor'"
      ]
    },
    {
      "cell_type": "markdown",
      "metadata": {
        "id": "BkeXmrs_Xb1I"
      },
      "source": [
        "Slicing allows us to do all sorts of interesting things. Take, for instance, [Spoonerisms](https://en.wikipedia.org/wiki/Spoonerism), a classic wordplay where you swap the first letter of two different words. For example, the phrase `'train down'` would become `'drain town'`. \n",
        "\n",
        "Write a `spoonerize` function that takes two strings as input and returns them with their first letters reversed. Slicing may help you here."
      ]
    },
    {
      "cell_type": "code",
      "execution_count": null,
      "metadata": {
        "id": "-gLB6k2PXuW1"
      },
      "outputs": [],
      "source": [
        "def spoonerize(first_word, second_word):\n",
        "  # TODO(you): Implement\n",
        "  new_first_word = '' # Fill this in.\n",
        "  new_second_word = '' # Fill this in.\n",
        "  return new_first_word + ' ' + new_second_word"
      ]
    },
    {
      "cell_type": "markdown",
      "metadata": {
        "id": "fMgiJh3NZGcT"
      },
      "source": [
        "### Unit Tests\n",
        "\n",
        "Run the following cell to check your answer against some unit tests."
      ]
    },
    {
      "cell_type": "code",
      "execution_count": null,
      "metadata": {
        "id": "Tn_9ivVoWcr2"
      },
      "outputs": [],
      "source": [
        "print(spoonerize('train', 'down')) \n",
        "# Should print: drain town\n",
        "\n",
        "print(spoonerize('jelly', 'beans')) \n",
        "# Should print: belly jeans"
      ]
    },
    {
      "cell_type": "markdown",
      "metadata": {
        "id": "vGNYtiwaZJNO"
      },
      "source": [
        "### Solution"
      ]
    },
    {
      "cell_type": "markdown",
      "metadata": {
        "id": "2_u0R3B2UMFa"
      },
      "source": [
        "Slicing will let us quickly separate the first character from the rest of the string."
      ]
    },
    {
      "cell_type": "code",
      "execution_count": null,
      "metadata": {
        "id": "C5RIwJOMp0uA"
      },
      "outputs": [],
      "source": [
        "def spoonerize(first_word, second_word):\n",
        "  new_first_word = second_word[:1] + first_word[1:]\n",
        "  new_second_word = first_word[:1] + second_word[1:]\n",
        "  return new_first_word + ' ' + new_second_word"
      ]
    },
    {
      "cell_type": "markdown",
      "metadata": {
        "id": "Qgp2o12AZgxE"
      },
      "source": [
        "## Question 5"
      ]
    },
    {
      "cell_type": "markdown",
      "metadata": {
        "id": "QVc_qcK7UVBM"
      },
      "source": [
        "Palindromes are another interesting application of wordplay. A **palindrome** is a word that reads the same starting from the front or back. For instance, \"madam\" and \"racecar\" are palindromes. Complete the `is_palindrome` function, which returns `True` if a given string is a palindrome and `False` otherwise.\n",
        "\n"
      ]
    },
    {
      "cell_type": "code",
      "execution_count": null,
      "metadata": {
        "id": "p2cMtasEqIyg"
      },
      "outputs": [],
      "source": [
        "def is_palindrome(input_text):\n",
        "  \"\"\"Determines whether or not a given string is a palindrome.\n",
        "\n",
        "  Args:\n",
        "    input_text: A string input.\n",
        "\n",
        "  Returns: \n",
        "    Boolean. True if input_text is a palindrome, false otherwise.\n",
        "  \"\"\"\n",
        "  # TODO(you): Implement\n",
        "  return False"
      ]
    },
    {
      "cell_type": "markdown",
      "metadata": {
        "id": "VQ7_8gSTZtB1"
      },
      "source": [
        "### Unit Tests\n",
        "\n",
        "Run the following cell to check your answer against some unit tests."
      ]
    },
    {
      "cell_type": "code",
      "execution_count": null,
      "metadata": {
        "id": "hnNFpl3Ng42A"
      },
      "outputs": [],
      "source": [
        "print(is_palindrome('racecar')) \n",
        "# Should print: True\n",
        "\n",
        "print(is_palindrome('car')) \n",
        "# Should print: False"
      ]
    },
    {
      "cell_type": "markdown",
      "metadata": {
        "id": "ERgz1EJeZvBc"
      },
      "source": [
        "### Solution"
      ]
    },
    {
      "cell_type": "markdown",
      "metadata": {
        "id": "EyiykSceqTG8"
      },
      "source": [
        "There are a number of ways to do this, but the easiest is to remember how slicing and the `step` parameter works."
      ]
    },
    {
      "cell_type": "code",
      "execution_count": null,
      "metadata": {
        "id": "y8lJYdU1rJqj"
      },
      "outputs": [],
      "source": [
        "def is_palindrome(input_text):\n",
        "  \"\"\"Determines whether or not a given string is a palindrome.\n",
        "\n",
        "  Args:\n",
        "    input_text: A string input.\n",
        "\n",
        "  Returns: \n",
        "    Boolean. True if input_text is a palindrome, False otherwise.\n",
        "  \"\"\"\n",
        "  return input_text == input_text[::-1]"
      ]
    },
    {
      "cell_type": "markdown",
      "metadata": {
        "id": "9kS76uBCZki_"
      },
      "source": [
        "## Question 6"
      ]
    },
    {
      "cell_type": "markdown",
      "metadata": {
        "id": "b456q3SfUVEv"
      },
      "source": [
        "It feels a bit strange to exclude things that we know are palindromes just because they have additional spaces and other punctuation. For instance, \"Madam, I'm Adam\" can be considered a palindrome, even though it has punctuation in it. Let's fix that. Write a function called `strip_punctuation` that removes all punctuation and spacing from a string and returns the new string. Then update your `is_palindrome` to use this new function."
      ]
    },
    {
      "cell_type": "markdown",
      "metadata": {
        "id": "06_JhDp-IiKf"
      },
      "source": [
        "You may assume all letters are lowercase. To guarantee that, we'll use the `lower` method to convert them all to lowercase. `lower` is one of many [built-in methods](https://docs.python.org/3/library/stdtypes.html#string-methods) for strings in Python. There are plenty of other methods, including ones that will convert a string to uppercase or titlecase and ones that tell you if a particular character is a letter, number, or space."
      ]
    },
    {
      "cell_type": "code",
      "execution_count": null,
      "metadata": {
        "id": "ODQSnbIIAwkJ"
      },
      "outputs": [],
      "source": [
        "def strip_punctuation(input_text):\n",
        "  # TODO(you): Implement\n",
        "  return input_text\n",
        " \n",
        "def is_palindrome(input_text):\n",
        "  \"\"\"Determines whether or not a given string is a palindrome.\n",
        "\n",
        "  Args:\n",
        "    input_text: A string input.\n",
        "\n",
        "  Returns: \n",
        "    Boolean. True if input_text is a palindrome, false otherwise.\n",
        "  \"\"\"\n",
        "  input_text = input_text.lower()\n",
        "  input_text = strip_punctuation(input_text)\n",
        "  # TODO(you): Copy your is_palindrome function from the last problem, and\n",
        "  # modify it to use strip_punctuation.\n",
        "  return False"
      ]
    },
    {
      "cell_type": "markdown",
      "metadata": {
        "id": "QzM4_fsa50a2"
      },
      "source": [
        "### Hint"
      ]
    },
    {
      "cell_type": "markdown",
      "metadata": {
        "id": "ceZcWxS-523M"
      },
      "source": [
        "Use the built-in method [`isalpha`](https://docs.python.org/3/library/stdtypes.html#str.isalpha) to check if a given character is a letter or not."
      ]
    },
    {
      "cell_type": "code",
      "execution_count": null,
      "metadata": {
        "id": "3tdV0_zZAPVJ"
      },
      "outputs": [],
      "source": [
        "print('b'.isalpha()) # True\n",
        "print('8'.isalpha()) # False\n",
        "print('!'.isalpha()) # False"
      ]
    },
    {
      "cell_type": "markdown",
      "metadata": {
        "id": "Opvh3exQZw2c"
      },
      "source": [
        "### Unit Tests\n",
        "\n",
        "Run the following cell to check your answer against some unit tests."
      ]
    },
    {
      "cell_type": "code",
      "execution_count": null,
      "metadata": {
        "id": "z5N78dmGgZg4"
      },
      "outputs": [],
      "source": [
        "print(is_palindrome('Madam, I\\'m Adam'))\n",
        "# Should print: True\n",
        "\n",
        "print(is_palindrome('So many dynamos!'))\n",
        "# Should print: True\n",
        "\n",
        "print(is_palindrome('blob'))\n",
        "# Should print: False"
      ]
    },
    {
      "cell_type": "markdown",
      "metadata": {
        "id": "ne57BgbWZw2d"
      },
      "source": [
        "### Solution"
      ]
    },
    {
      "cell_type": "markdown",
      "metadata": {
        "id": "el1S4J2bWO_L"
      },
      "source": [
        "This can be done two ways. We can iterate through the string, slicing it every time we see a character we want to omit. That's not great, though; generally, you don't want to modify a structure that you're iterating through. Instead, let's create a `result` variable and add letters to it as we see them. Then we can fix up `is_palindrome`:"
      ]
    },
    {
      "cell_type": "code",
      "execution_count": null,
      "metadata": {
        "id": "2MiGsBgqrtjp"
      },
      "outputs": [],
      "source": [
        "def strip_punctuation(input_text):\n",
        "  result = ''\n",
        "  for c in input_text:\n",
        "    if c.isalpha():\n",
        "      result += c\n",
        "  return result\n",
        "\n",
        "def is_palindrome(input_text):\n",
        "  \"\"\"Determines whether or not a given string is a palindrome.\n",
        "\n",
        "  Args:\n",
        "    input_text: A string input.\n",
        "\n",
        "  Returns: \n",
        "    Boolean. True if input_text is a palindrome, false otherwise.\n",
        "  \"\"\"\n",
        "  input_text = input_text.lower()\n",
        "  input_text_no_punctuation = strip_punctuation(input_text)\n",
        "  return input_text_no_punctuation == input_text_no_punctuation[::-1]"
      ]
    },
    {
      "cell_type": "markdown",
      "metadata": {
        "id": "gjO8Ob_iZlRX"
      },
      "source": [
        "## Question 7"
      ]
    },
    {
      "cell_type": "markdown",
      "metadata": {
        "id": "TNsy1L5Ie6q4"
      },
      "source": [
        "Next let's try making acronyms. An acronym is usually a combination of the first letters in a phrase to create a new word, like **SCUBA** (self-contained underwater breathing apparatus) or **LASER** (light amplification by stimulated emission of radiation). Some acronyms omit some words, such as LASER omitting \"by\" and \"of\". But for your `make_acronym` function, don't worry about that yet. You'll also notice that these are all capitalized; you may use `upper` to convert any string to its uppercase equivalent. "
      ]
    },
    {
      "cell_type": "code",
      "execution_count": null,
      "metadata": {
        "id": "MdyhIQ9vCetz"
      },
      "outputs": [],
      "source": [
        "print('asap'.upper()) # 'ASAP'"
      ]
    },
    {
      "cell_type": "markdown",
      "metadata": {
        "id": "cHge52XICfFR"
      },
      "source": [
        "Implement `make_acronym` below. \n",
        "\n"
      ]
    },
    {
      "cell_type": "code",
      "execution_count": null,
      "metadata": {
        "id": "PltFny-DBzLH"
      },
      "outputs": [],
      "source": [
        "def make_acronym(input_text):\n",
        "  # TODO(you): Implement\n",
        "  return input_text"
      ]
    },
    {
      "cell_type": "markdown",
      "metadata": {
        "id": "KB62_jcm6HmA"
      },
      "source": [
        "### Hint"
      ]
    },
    {
      "cell_type": "markdown",
      "metadata": {
        "id": "jqIai7Yt6Hok"
      },
      "source": [
        "You may want to make use of the `isalpha` or `isspace` functions."
      ]
    },
    {
      "cell_type": "markdown",
      "metadata": {
        "id": "xW3V61AIZxZN"
      },
      "source": [
        "### Unit Tests\n",
        "\n",
        "Run the following cell to check your answer against some unit tests."
      ]
    },
    {
      "cell_type": "code",
      "execution_count": null,
      "metadata": {
        "id": "h_qCTMxbW4p3"
      },
      "outputs": [],
      "source": [
        "print(make_acronym('as soon as possible')) \n",
        "# Should print: ASAP\n",
        "\n",
        "print(make_acronym('do it yourself'))  \n",
        "# Should print: DIY\n",
        "\n",
        "print(make_acronym('pacific daylight time'))  \n",
        "# Should print: PDT\n",
        "\n",
        "print(make_acronym('national basketball association'))  \n",
        "# Should print: NBA\n",
        "\n",
        "print(make_acronym('fun with acronyms'))  \n",
        "# Should print: FWA"
      ]
    },
    {
      "cell_type": "markdown",
      "metadata": {
        "id": "xX2LgLYlZxZN"
      },
      "source": [
        "### Solution"
      ]
    },
    {
      "cell_type": "markdown",
      "metadata": {
        "id": "ccDEqbF0WPIO"
      },
      "source": [
        "The trick here is to always grab the first letter after a space and add it to `result`."
      ]
    },
    {
      "cell_type": "code",
      "execution_count": null,
      "metadata": {
        "id": "yluYZKtMEMmC"
      },
      "outputs": [],
      "source": [
        "def make_acronym(input_text):\n",
        "  result = ''\n",
        "  is_first_character = True\n",
        "  grab_next_character = False\n",
        "\n",
        "  for c in input_text:\n",
        "\n",
        "    if is_first_character:\n",
        "      result += c\n",
        "      is_first_character = False\n",
        "\n",
        "    elif c.isspace() or c == '-':\n",
        "      # If you see a whitespace character or a hyphen, you know the next\n",
        "      # character is the one that you want.\n",
        "      grab_next_character = True\n",
        "\n",
        "    elif c.isalpha() and grab_next_character:\n",
        "      result += c\n",
        "      # Make sure to set grab_next_character to False! Otherwise, you will grab\n",
        "      # all of the letters after the space instead of just grabbing the first\n",
        "      # one. This is a common bug.\n",
        "      grab_next_character = False\n",
        "      \n",
        "  return result.upper()"
      ]
    },
    {
      "cell_type": "markdown",
      "metadata": {
        "id": "TxjqPTZgZl68"
      },
      "source": [
        "## Question 8"
      ]
    },
    {
      "cell_type": "markdown",
      "metadata": {
        "id": "9fF9Db8iMELv"
      },
      "source": [
        "[Advanced] How does `make_acronym` need to change if you do want to ignore stopwords?"
      ]
    },
    {
      "cell_type": "markdown",
      "metadata": {
        "id": "JwoH3w7k8nxT"
      },
      "source": [
        " Let's say you need to ignore the following words:\n",
        "\n",
        "```python\n",
        "'with', 'of', 'the', 'and', 'by'\n",
        "```"
      ]
    },
    {
      "cell_type": "code",
      "execution_count": null,
      "metadata": {
        "id": "mXXP92sFK4ka"
      },
      "outputs": [],
      "source": [
        "def make_acronym(input_text):\n",
        "  # TODO(you): Implement\n",
        "  return input_text"
      ]
    },
    {
      "cell_type": "markdown",
      "metadata": {
        "id": "u5_BGm1XZyYl"
      },
      "source": [
        "### Unit Tests\n",
        "\n",
        "Run the following cell to check your answer against some unit tests."
      ]
    },
    {
      "cell_type": "code",
      "execution_count": null,
      "metadata": {
        "id": "ZAmon0Z5g1H3"
      },
      "outputs": [],
      "source": [
        "print(make_acronym('light amplification by stimulated emission of radiation'))\n",
        "# Should print: LASER\n",
        "\n",
        "print(make_acronym('United States of America'))\n",
        "# Should print: USA"
      ]
    },
    {
      "cell_type": "markdown",
      "metadata": {
        "id": "xHMHsnMeZyYm"
      },
      "source": [
        "### Solution"
      ]
    },
    {
      "cell_type": "markdown",
      "metadata": {
        "id": "guNZIz-POUze"
      },
      "source": [
        "This one is substantially more challenging. You need to check each word and make sure it's not your \"stop word.\" Let's see how we can build off the previous solution:"
      ]
    },
    {
      "cell_type": "code",
      "execution_count": null,
      "metadata": {
        "id": "q9HbCCOjJYQF"
      },
      "outputs": [],
      "source": [
        "def make_acronym(input_text):\n",
        "  result = ''\n",
        "  next_word = ''\n",
        "\n",
        "  for c in input_text:\n",
        "    if c.isspace():\n",
        "      # You don't need grab_next_character anymore, since you're grabbing the \n",
        "      # entire word and checking it. Instead, you want to check a word before \n",
        "      # you process the next one.\n",
        "      if (\n",
        "        next_word == 'with' or next_word == 'of' or next_word == 'the' or \n",
        "        next_word == 'and' or next_word == 'by'):\n",
        "          next_word = ''\n",
        "      else:\n",
        "        result += next_word[0]\n",
        "        next_word = ''\n",
        "    elif c.isalpha():\n",
        "      next_word += c\n",
        "\n",
        "  # The most tricky part of this problem is that you will usually exit your loop\n",
        "  # with a word still stored in next_word. You need to make sure you process \n",
        "  # that final word, as well.\n",
        "  if (\n",
        "    next_word == 'with' or next_word == 'of' or next_word == 'the'\n",
        "    or next_word == 'and' or next_word == 'by'):\n",
        "      next_word = ''\n",
        "  else:\n",
        "    result += next_word[0]\n",
        "    next_word = ''\n",
        "    \n",
        "  return result.upper()"
      ]
    },
    {
      "cell_type": "markdown",
      "metadata": {
        "id": "9YrHyctucgme"
      },
      "source": [
        "## Question 9"
      ]
    },
    {
      "cell_type": "markdown",
      "metadata": {
        "id": "otVyPF4etHpF"
      },
      "source": [
        "Your colleague wants to post some spoilers about the latest season of your favorite TV show to your office chat group, but they don't want to actually ruin the show for anyone. To avoid doing so, they're using [ROT13](https:#en.wikipedia.org/wiki/ROT13), or an encryption method that \"encrypts\" a message by \"rotating\" a letter to the letter 13 spaces later in the alphabet (wrapping around if it would go past z, back to a). For example, when you encrypt `'secret'`, it becomes `'frperg'`."
      ]
    },
    {
      "cell_type": "markdown",
      "metadata": {
        "id": "YpdWIfmd8r6v"
      },
      "source": [
        "Unfortunately, their implementation has some issues, and you need to get this right or your whole office is going to get spoiled. It looks like `rotate_character` is doing what it should, but `rot13` keeps crashing. Can you fix it?"
      ]
    },
    {
      "cell_type": "code",
      "execution_count": null,
      "metadata": {
        "id": "w1QX2HPrLYdW"
      },
      "outputs": [],
      "source": [
        "LENGTH_OF_ALPHABET = 26\n",
        "ROTATION_LENGTH = 13\n",
        "START_OF_ALPHABET = 'a'\n",
        " \n",
        "# This function takes a character `c` and rotates it `rotation` characters\n",
        "# forward in the alphabet. If it reaches the end of the alphabet, it\n",
        "# wraps around using the modulo operator.\n",
        "def rotate_character(c, rotation):\n",
        "  # First, update the value by moving it forward by ROTATION_LENGTH.\n",
        "  # ord converts a char to its ascii value so that we can 'rotate' it.\n",
        "  rotated_value = ord(c) - ord(START_OF_ALPHABET) + rotation\n",
        "  # Next, use the modulo operator so that we don't run off the end of the \n",
        "  # alphabet.\n",
        "  new_character_index = rotated_value % LENGTH_OF_ALPHABET\n",
        "  # Finally, convert the index back to a character and set its value in the \n",
        "  # string.\n",
        "  # chr converts an ascii value back to a character.\n",
        "  new_character = chr(new_character_index + ord(START_OF_ALPHABET))\n",
        "  return new_character\n",
        " \n",
        "def rot13(input_text):\n",
        "  for i in range(len(input_text)):\n",
        "    current_character = input_text[i]\n",
        "    if current_character.isalpha():\n",
        "      input_text[i] = rotate_character(current_character, ROTATION_LENGTH)\n",
        "  return input_text"
      ]
    },
    {
      "cell_type": "markdown",
      "metadata": {
        "id": "Oe8dw-qQcgmg"
      },
      "source": [
        "### Unit Tests\n",
        "\n",
        "Run the following cell to check your answer against some unit tests."
      ]
    },
    {
      "cell_type": "code",
      "execution_count": null,
      "metadata": {
        "id": "4EEC5A22XGMx"
      },
      "outputs": [],
      "source": [
        "print(rot13('a')) \n",
        "# Should print: n\n",
        "\n",
        "print(rot13('an')) \n",
        "# Should print: na\n",
        "\n",
        "print(rot13('and')) \n",
        "# Should print: naq\n",
        "\n",
        "print(rot13('my new rock band name')) \n",
        "# Should print: zl arj ebpx onaq anzr"
      ]
    },
    {
      "cell_type": "markdown",
      "metadata": {
        "id": "Jj4Vsvlecgmg"
      },
      "source": [
        "### Solution"
      ]
    },
    {
      "cell_type": "markdown",
      "metadata": {
        "id": "LuSZLDPlzdBY"
      },
      "source": [
        "The first big issue with this `rot13` function is that it's trying to update a character in a string. Strings are immutable, which means they cannot be modified. Instead, make a `result` string and add characters to that, as we've done in the past."
      ]
    },
    {
      "cell_type": "code",
      "execution_count": null,
      "metadata": {
        "id": "VdOJYzwbNWqB"
      },
      "outputs": [],
      "source": [
        "LENGTH_OF_ALPHABET = 26\n",
        "ROTATION_LENGTH = 13\n",
        "START_OF_ALPHABET = 'a'\n",
        "\n",
        "# This function takes a character `c` and rotates it `rotation` characters\n",
        "# forward in the alphabet. If it reaches the end of the alphabet, it\n",
        "# wraps around using the modulo operator.\n",
        "def rotate_character(c, rotation):\n",
        "  # First, update the value by moving it forward by ROTATION_LENGTH.\n",
        "  # ord converts a char to its ascii value so that we can 'rotate' it.\n",
        "  rotated_value = ord(c) - ord(START_OF_ALPHABET) + rotation\n",
        "  # Next, use the modulo operator so that we don't run off the end of the \n",
        "  # alphabet.\n",
        "  new_character_index = rotated_value % LENGTH_OF_ALPHABET\n",
        "  # Finally, convert the index back to a character and set its value in the \n",
        "  # string.\n",
        "  # chr converts an ascii value back to a character.\n",
        "  new_character = chr(new_character_index + ord(START_OF_ALPHABET))\n",
        "  return new_character\n",
        "\n",
        "def rot13(input_text):\n",
        "  result = ''\n",
        "  for i in range(len(input_text)):\n",
        "    current_character = input_text[i]\n",
        "    if current_character.isalpha():\n",
        "      result += rotate_character(current_character, ROTATION_LENGTH)\n",
        "    else:\n",
        "      result += current_character\n",
        "  return result"
      ]
    },
    {
      "cell_type": "markdown",
      "metadata": {
        "id": "crd82uD2cpk9"
      },
      "source": [
        "## Question 10"
      ]
    },
    {
      "cell_type": "markdown",
      "metadata": {
        "id": "W35dKasZWhiI"
      },
      "source": [
        "After fixing the first issue, your colleague noticed that the output looks weird when they started trying to put in longer phrases and sentences. It's ending up incomprehensible, which at first glance seems to work as intended, but `rot13` is rotating more characters than it should be. Can you fix it?"
      ]
    },
    {
      "cell_type": "code",
      "execution_count": null,
      "metadata": {
        "id": "o2hozQGuPp4i"
      },
      "outputs": [],
      "source": [
        "LENGTH_OF_ALPHABET = 26\n",
        "ROTATION_LENGTH = 13\n",
        "START_OF_ALPHABET = 'a'\n",
        "\n",
        "# This function takes a character `c` and rotates it `rotation` characters\n",
        "# forward in the alphabet. If it reaches the end of the alphabet, it\n",
        "# wraps around using the modulo operator.\n",
        "def rotate_character(c, rotation):\n",
        "  # First, update the value by moving it forward by ROTATION_LENGTH.\n",
        "  # ord converts a char to its ascii value so that we can 'rotate' it.\n",
        "  rotated_value = ord(c) - ord(START_OF_ALPHABET) + rotation\n",
        "  # Next, use the modulo operator so that we don't run off the end of the \n",
        "  # alphabet.\n",
        "  new_character_index = rotated_value % LENGTH_OF_ALPHABET\n",
        "  # Finally, convert the index back to a character and set its value in the \n",
        "  # string.\n",
        "  # chr converts an ascii value back to a character.\n",
        "  new_character = chr(new_character_index + ord(START_OF_ALPHABET))\n",
        "  return new_character\n",
        " \n",
        "def rot13(input_text):\n",
        "  for i in range(len(input_text)):\n",
        "    current_character = input_text[i]\n",
        "    input_text[i] = rotate_character(current_character, ROTATION_LENGTH)\n",
        "  return input_text"
      ]
    },
    {
      "cell_type": "markdown",
      "metadata": {
        "id": "tET_26G2cpk-"
      },
      "source": [
        "### Unit Tests\n",
        "\n",
        "Run the following cell to check your answer against some unit tests."
      ]
    },
    {
      "cell_type": "code",
      "execution_count": null,
      "metadata": {
        "id": "_nr7Id9zhX05"
      },
      "outputs": [],
      "source": [
        "print(rot13('ebfrohq jnf fbzr thl\\'f fyrq!'))\n",
        "# Should print: rosebud was some guy's sled!"
      ]
    },
    {
      "cell_type": "markdown",
      "metadata": {
        "id": "hZJNZNV7cpk-"
      },
      "source": [
        "### Solution"
      ]
    },
    {
      "cell_type": "markdown",
      "metadata": {
        "id": "Ivyoa8AvWlf6"
      },
      "source": [
        "The second issue is a bit more difficult to notice. Currently our solution takes every character in `input_text` and converts it. That's fine if you're only converting single words. For full sentences, you need to ignore anything that isn't a letter, similar to what we did in `strip_punctuation` earlier in the lesson. The key here is that if it's not a letter, we should add it to `result` unaltered. That should skip the digits and special characters in the string, converting only the letters."
      ]
    },
    {
      "cell_type": "code",
      "execution_count": null,
      "metadata": {
        "id": "CiZGYGcROI3H"
      },
      "outputs": [],
      "source": [
        "LENGTH_OF_ALPHABET = 26\n",
        "ROTATION_LENGTH = 13\n",
        "START_OF_ALPHABET = 'a'\n",
        "\n",
        "# This function takes a character `c` and rotates it `rotation` characters\n",
        "# forward in the alphabet. If it reaches the end of the alphabet, it\n",
        "# wraps around using the modulo operator.\n",
        "def rotate_character(c, rotation):\n",
        "  # First, update the value by moving it forward by ROTATION_LENGTH.\n",
        "  # ord converts a char to its ascii value so that we can 'rotate' it.\n",
        "  rotated_value = ord(c) - ord(START_OF_ALPHABET) + rotation\n",
        "  # Next, use the modulo operator so that we don't run off the end of the \n",
        "  # alphabet.\n",
        "  new_character_index = rotated_value % LENGTH_OF_ALPHABET\n",
        "  # Finally, convert the index back to a character and set its value in the \n",
        "  # string.\n",
        "  # chr converts an ascii value back to a character.\n",
        "  new_character = chr(new_character_index + ord(START_OF_ALPHABET))\n",
        "  return new_character\n",
        "\n",
        "def rot13(input_text):\n",
        "  result = ''\n",
        "  for i in range(len(input_text)):\n",
        "    current_character = input_text[i]\n",
        "    if not input_text[i].isalpha():\n",
        "      result += input_text[i]\n",
        "    else:\n",
        "      result += rotate_character(current_character, ROTATION_LENGTH)\n",
        "  return result"
      ]
    }
  ],
  "metadata": {
    "colab": {
      "collapsed_sections": [
        "FkNJ2Wghi6v0",
        "LrLXCF2QtzqG",
        "BIDkAC-5suuc",
        "Fr2SMJBxYiYI",
        "puvDex_GYl1e",
        "fMgiJh3NZGcT",
        "vGNYtiwaZJNO",
        "VQ7_8gSTZtB1",
        "ERgz1EJeZvBc",
        "QzM4_fsa50a2",
        "Opvh3exQZw2c",
        "ne57BgbWZw2d",
        "KB62_jcm6HmA",
        "xW3V61AIZxZN",
        "xX2LgLYlZxZN",
        "u5_BGm1XZyYl",
        "xHMHsnMeZyYm",
        "Oe8dw-qQcgmg",
        "Jj4Vsvlecgmg",
        "tET_26G2cpk-",
        "hZJNZNV7cpk-"
      ],
      "name": "strings.ipynb",
      "provenance": [ ]
    },
    "kernelspec": {
      "display_name": "Python 3",
      "name": "python3"
    }
  },
  "nbformat": 4,
  "nbformat_minor": 0
}
