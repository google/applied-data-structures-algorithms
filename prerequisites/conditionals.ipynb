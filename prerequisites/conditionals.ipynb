{
  "cells": [
    {
      "cell_type": "markdown",
      "metadata": {
        "id": "Pic8r3n4AWWu"
      },
      "source": [
        "# Conditionals"
      ]
    },
    {
      "cell_type": "markdown",
      "metadata": {
        "id": "40klIjfB3g0H"
      },
      "source": [
        "## Lesson Overview"
      ]
    },
    {
      "cell_type": "markdown",
      "metadata": {
        "id": "8WWPuZ6JxE5L"
      },
      "source": [
        "A well-implemented program may have points where functionality needs to branch down multiple paths, depending on the input. Rather than build a completely separate program for each possible path, we can add ways to allow the code to branch down these paths via **conditionals**, or code constructs designed to change program flow based on some criteria."
      ]
    },
    {
      "cell_type": "markdown",
      "metadata": {
        "id": "24FzSdqzmP3q"
      },
      "source": [
        "### If statements"
      ]
    },
    {
      "cell_type": "markdown",
      "metadata": {
        "id": "0udwObR3YNs9"
      },
      "source": [
        "Just like in English, an **if statement** can be used to express a conditional, which will allow additional (or different) code to be executed in the case that the conditional's criteria is met. Generally, an `if` statement is a block of code with some criteria that executes if that criteria evaluates to `True`. Take this code, for example, which uses the [Fahrenheit](https://en.wikipedia.org/wiki/Fahrenheit) temperature scale:"
      ]
    },
    {
      "cell_type": "code",
      "execution_count": null,
      "metadata": {
        "id": "n_uFmpISmfeO"
      },
      "outputs": [],
      "source": [
        "freezer_temperature = 40 # Fahrenheit\n",
        "if freezer_temperature \u003e 32:\n",
        "  print('My ice cream is melting!')"
      ]
    },
    {
      "cell_type": "markdown",
      "metadata": {
        "id": "raGs97Lbm5gu"
      },
      "source": [
        "In this code snippet, we print `'My ice cream is melting!'` if the temperature of the freezer is higher than the freezing point of water (32 degrees Fahrenheit). Our conditional criteria is `freezer_temperature \u003e 32`, which evaluates to `True` since `freezer_temperature` is 40. If the freezer temperature is lower than 32, there's no problem; the ice cream is safe. Programs can have more than one `if` statement, as well; let's try that with this example, which uses the [Celsius](https://en.wikipedia.org/wiki/Celsius) temperature scale:"
      ]
    },
    {
      "cell_type": "code",
      "execution_count": null,
      "metadata": {
        "id": "XzCjGPwsC4-I"
      },
      "outputs": [],
      "source": [
        "freezer_temperature = -300 # Celcius\n",
        "if freezer_temperature \u003e 0:\n",
        "  print('My ice cream is melting!')\n",
        "if freezer_temperature \u003c -273.15: # Absolute zero, in Celsius.\n",
        "  print('The freezer has achieved a temperature below absolute zero!')"
      ]
    },
    {
      "cell_type": "markdown",
      "metadata": {
        "id": "cQ_fFf0wDHO_"
      },
      "source": [
        "In this case, since the freezer temperature is not above 0, it bypasses the first `if` statement (which checks to see if the temperature is greater than 0). The next `if` statement checks to see if the current temperature is below absolute zero, and prints a warning statement if it is. `if` statements are not mutually exclusive, however; multiple consecutive `if` statements can be activated during program flow. This example uses the [Rankine](https://en.wikipedia.org/wiki/Rankine_scale) temperature scale to show how multiple consecutive `if` statements can activate if their criteria are both met, even if they reference the same variable:"
      ]
    },
    {
      "cell_type": "code",
      "execution_count": null,
      "metadata": {
        "id": "l0l-ET14DkSd"
      },
      "outputs": [],
      "source": [
        "freezer_temperature = 474.67 # Rankine\n",
        "if freezer_temperature \u003c 491.67:\n",
        "  print('My ice cream is cold, I think? Is almost 500 degrees cold?')\n",
        "if freezer_temperature \u003c 479.67:\n",
        "  print('Yeah, I am pretty sure my ice cream is cold.')"
      ]
    },
    {
      "cell_type": "markdown",
      "metadata": {
        "id": "mo6StVKMD-l-"
      },
      "source": [
        "Here, the freezer temperature is below both thresholds set by the two `if` statements, and so both statements will print. `if` statements are often used to add extra functionality or flexibility to code or to skip over sections that should not execute in certain circumstances."
      ]
    },
    {
      "cell_type": "markdown",
      "metadata": {
        "id": "CoZnoYhYqFYr"
      },
      "source": [
        "### Else statements"
      ]
    },
    {
      "cell_type": "markdown",
      "metadata": {
        "id": "b7uCyqP5uQWp"
      },
      "source": [
        "An `if` statement alone isn't necessarily enough to create two completely mutually exclusive segments of code. Say we were building a program to let students know there was a snow day (an event in which school is cancelled due to snow making most roads impassable). If there are ten inches of snow or more outside, then we cancel school. This code may seem like it works, but try running it to see the result:"
      ]
    },
    {
      "cell_type": "code",
      "execution_count": null,
      "metadata": {
        "id": "ooZGcB9nFk0E"
      },
      "outputs": [],
      "source": [
        "inches_of_snow = 5\n",
        "if inches_of_snow \u003e= 10:\n",
        "  print('School is cancelled! Snow day!')\n",
        "print('School is still on!')"
      ]
    },
    {
      "cell_type": "markdown",
      "metadata": {
        "id": "mDDB_bmx1t3e"
      },
      "source": [
        "When looking at that code, there's some temptation to say that since it prints the correct statement when `inches_of_snow` is greater than or equal to 10, that it works correctly. However, try changing `inches_of_snow` to 15 and re-running the code."
      ]
    },
    {
      "cell_type": "code",
      "execution_count": null,
      "metadata": {
        "id": "Tk0adUh6GEK0"
      },
      "outputs": [],
      "source": [
        "inches_of_snow = 15\n",
        "if inches_of_snow \u003e= 10:\n",
        "  print('School is cancelled! Snow day!')\n",
        "print('School is still on!')"
      ]
    },
    {
      "cell_type": "markdown",
      "metadata": {
        "id": "3bP02GIxGFYW"
      },
      "source": [
        "Our program now prints *both* statements, rather than just the correct snow day statement. This is where an `else` statement will come in handy; it allows us to move the second `print` statement into its own segment of code, so that it only runs if `inches_of_snow` is less than 10 (so the first `if` statement's condition isn't met). Generally, an **else statement** is a block of code that is paired with an `if` statement and executes if the `if` statement's criteria evaluates to `False`."
      ]
    },
    {
      "cell_type": "code",
      "execution_count": null,
      "metadata": {
        "id": "2-DwHjHqGJMF"
      },
      "outputs": [],
      "source": [
        "inches_of_snow = 15\n",
        "if inches_of_snow \u003e= 10:\n",
        "  print('School is cancelled! Snow day!')\n",
        "else:\n",
        "  print('School is still on!')"
      ]
    },
    {
      "cell_type": "markdown",
      "metadata": {
        "id": "bf80tccDHAHu"
      },
      "source": [
        "Changing `inches_of_snow` to 5 or 15 means that in either case, only one statement will print. That's the expected functionality. `else` statements must always be paired with a corresponding `if` statement, otherwise it's considered a syntax error."
      ]
    },
    {
      "cell_type": "markdown",
      "metadata": {
        "id": "yJPGGvQy6y_c"
      },
      "source": [
        "### Elif statements"
      ]
    },
    {
      "cell_type": "markdown",
      "metadata": {
        "id": "kzFXD49a68P4"
      },
      "source": [
        "The final type of conditional statement that Python supports is an `elif` statement. Typically, this is used for conditionals that have more than two cases, such as this one:\n"
      ]
    },
    {
      "cell_type": "code",
      "execution_count": null,
      "metadata": {
        "id": "vpETZEn-M_3p"
      },
      "outputs": [],
      "source": [
        "inches_of_snow = 5\n",
        "if inches_of_snow \u003e= 10:\n",
        "  print('School is cancelled! Snow day!')\n",
        "elif inches_of_snow \u003e= 5:\n",
        "  print('School is delayed two hours to allow the snow time to melt.')\n",
        "else:\n",
        "  print('School is still on!')"
      ]
    },
    {
      "cell_type": "markdown",
      "metadata": {
        "id": "Y1RkJlAiNJb2"
      },
      "source": [
        "This code allows for three cases: `inches_of_snow` is 10 or more, more than 5 but less than 10, or less than 5. This produces three different outcomes"
      ]
    },
    {
      "cell_type": "markdown",
      "metadata": {
        "id": "GH9OWx3wjhTE"
      },
      "source": [
        "## Question 1"
      ]
    },
    {
      "cell_type": "markdown",
      "metadata": {
        "id": "YjLrLVfvikwZ"
      },
      "source": [
        "Consider the following code."
      ]
    },
    {
      "cell_type": "markdown",
      "metadata": {
        "id": "IpMTvcMoiWud"
      },
      "source": [
        "```python\n",
        "value = 5\n",
        "if value \u003e 2:\n",
        "  value += 4\n",
        "elif value \u003c 0:\n",
        "  value = -1 * value\n",
        "else:\n",
        "  value = 3\n",
        "if value == 9:\n",
        "  value -= 9\n",
        "else:\n",
        "  value = 3\n",
        "value += 5\n",
        "```"
      ]
    },
    {
      "cell_type": "markdown",
      "metadata": {
        "id": "ootP2MVBis6I"
      },
      "source": [
        "What will `value` equal after the code's completion?"
      ]
    },
    {
      "cell_type": "markdown",
      "metadata": {
        "id": "5NdGphqGi6vz"
      },
      "source": [
        "**a)** 9\n",
        "\n",
        "**b)** 8\n",
        "\n",
        "**c)** 6\n",
        "\n",
        "**d)** 5\n",
        "\n",
        "**e)** 0"
      ]
    },
    {
      "cell_type": "markdown",
      "metadata": {
        "id": "FkNJ2Wghi6v0"
      },
      "source": [
        "### Solution"
      ]
    },
    {
      "cell_type": "markdown",
      "metadata": {
        "id": "Kn3LHu90i6v0"
      },
      "source": [
        "The correct answer is **d)**.\n",
        "\n",
        "**a)** After the first `if` statement, `value` is indeed equal to 9. However, after the second `if` statement it will be set to 0 and then incremented to 5.\n",
        "\n",
        "**b)** This is almost correct. After the final `if` statement, if `value` had not been 9, it would have been set to 3 and incremented to 8. However, since `value` was equal to 9, it was set to 0 and then incremented to 5.\n",
        "\n",
        "**c)** No matter what, `value` will increase by 5 at the end of this block of code. To end up as 6, `value` would have to be 1 after the second `if` statement, and it can only be 0 or 3.\n",
        "\n",
        "**e)** This would be correct, but the final line of the program is `value += 5`, which will increment `value` (currently 0) to 5."
      ]
    },
    {
      "cell_type": "markdown",
      "metadata": {
        "id": "2FUqsgnyqgGU"
      },
      "source": [
        "## Question 2"
      ]
    },
    {
      "cell_type": "markdown",
      "metadata": {
        "id": "Tw9YdiHsMorw"
      },
      "source": [
        "Consider the following code."
      ]
    },
    {
      "cell_type": "markdown",
      "metadata": {
        "id": "m3-PUWTyMor8"
      },
      "source": [
        "```python\n",
        "number = 1\n",
        "if number \u003e 1:\n",
        "  number = 1\n",
        "  if number == 1:\n",
        "    number = 5\n",
        "if number == 1:\n",
        "  number += 4\n",
        "elif number == 5:\n",
        "  number -= 4\n",
        "else:\n",
        "  number = 2\n",
        "if number == 5:\n",
        "  number *= 2\n",
        "  if number \u003e 5:\n",
        "    number -= 7\n",
        "  else:\n",
        "    number += 2\n",
        "else:\n",
        "  number = 6\n",
        "```"
      ]
    },
    {
      "cell_type": "markdown",
      "metadata": {
        "id": "lhlBkYlGMor8"
      },
      "source": [
        "What is the value of `number` after this code completes?"
      ]
    },
    {
      "cell_type": "markdown",
      "metadata": {
        "id": "cg6KiBDuMor8"
      },
      "source": [
        "**a)** 1\n",
        "\n",
        "**b)** 3\n",
        "\n",
        "**c)** 6\n",
        "\n",
        "**d)** 10"
      ]
    },
    {
      "cell_type": "markdown",
      "metadata": {
        "id": "2qIy2BsrMor8"
      },
      "source": [
        "### Solution"
      ]
    },
    {
      "cell_type": "markdown",
      "metadata": {
        "id": "xUxf2PY6Mor8"
      },
      "source": [
        "The correct answer is **b)**.\n",
        "\n",
        "**a)** `number` starts at 1, but subsequent `if` and `else` statements will change that.\n",
        "\n",
        "**c)** This is a likely outcome, since if `number` isn't 5 by the end of the code's execution, it will be set to 6. Since `number` is equal to 5 at the start of the final `if` statement, though, this `else` case is not activated.\n",
        "\n",
        "**d)** `number` is 10 towards the end of the code's execution, but the line `if number \u003e 5:` gets activated, causing `number` to decrease by 7."
      ]
    },
    {
      "cell_type": "markdown",
      "metadata": {
        "id": "IDyirdfwb6Yd"
      },
      "source": [
        "## Question 3"
      ]
    },
    {
      "cell_type": "markdown",
      "metadata": {
        "id": "_aP2c14kb6Yp"
      },
      "source": [
        "On the website you're designing, you want to include a special message to the millionth customer beyond your normal 'Thank you for shopping!' message. Modify your `thank_customer` function to display a special message: `'Congratulations! You are our one millionth customer!'`. \n",
        "\n",
        "If you're not familiar with function syntax, don't worry! You'll add code above the existing code, but below `def thank_customer(customer_number)`."
      ]
    },
    {
      "cell_type": "code",
      "execution_count": null,
      "metadata": {
        "id": "SMyg5XEab6Yq"
      },
      "outputs": [],
      "source": [
        "def thank_customer(customer_number):\n",
        "  # Fill in your code here.\n",
        "  # customer_number will be available for you to use in your code.\n",
        "  # Don't forget to indent by two spaces! Line your code up with these comments.\n",
        "  print('Thank you for shopping!')\n",
        "  "
      ]
    },
    {
      "cell_type": "markdown",
      "metadata": {
        "id": "kURD_M15b6Yq"
      },
      "source": [
        "### Hint"
      ]
    },
    {
      "cell_type": "markdown",
      "metadata": {
        "id": "L4aqmHAXb6Yq"
      },
      "source": [
        "Keep in mind that you still want to thank the customer for shopping every time, so you won't need to use an `else` statement, here."
      ]
    },
    {
      "cell_type": "markdown",
      "metadata": {
        "id": "mwCXqZaAb6Yr"
      },
      "source": [
        "### Unit Tests\n",
        "\n",
        "Run the following cell to check your answer against some unit tests."
      ]
    },
    {
      "cell_type": "code",
      "execution_count": null,
      "metadata": {
        "id": "Ks9E8gUrb6Yr"
      },
      "outputs": [],
      "source": [
        "thank_customer(1000000)\n",
        "# Should print:\n",
        "# Congratulations! You are our one millionth customer!\n",
        "# Thank you for shopping!\n",
        "\n",
        "thank_customer(10)\n",
        "# Should print:\n",
        "# Thank you for shopping!\n",
        "\n",
        "thank_customer(999999)\n",
        "# Should print:\n",
        "# Thank you for shopping!"
      ]
    },
    {
      "cell_type": "markdown",
      "metadata": {
        "id": "GtzPbNGXb6Yr"
      },
      "source": [
        "### Solution"
      ]
    },
    {
      "cell_type": "markdown",
      "metadata": {
        "id": "o2j_sOSDb6Yr"
      },
      "source": [
        "We chose a generic message, but you can write whatever you want. Just make sure that the `if` statement doesn't include the 'Thank you for shopping!'."
      ]
    },
    {
      "cell_type": "code",
      "execution_count": null,
      "metadata": {
        "id": "SdoYVxJfb6Ys"
      },
      "outputs": [],
      "source": [
        "def thank_customer(customer_number):\n",
        "  if customer_number == 1000000:\n",
        "    print('Congratulations! You are our one millionth customer!')\n",
        "  print('Thank you for shopping!')"
      ]
    },
    {
      "cell_type": "markdown",
      "metadata": {
        "id": "oP1jK3mkdgK-"
      },
      "source": [
        "## Question 4"
      ]
    },
    {
      "cell_type": "markdown",
      "metadata": {
        "id": "9YqAudhuSxJg"
      },
      "source": [
        "In Python, the **modulo** operator allows you to calculate the remainder of integer division of two numbers. For instance, `5 % 3` is equal to 2, the remainder of `5 // 3` (where `//` is the integer division operator, equal to the greatest integer less than or equal to `5/3`). We can use that to create a way to determine if a number is even or odd, as any integer % 2 is either 0 (no remainder, so it is even) or 1 (it is odd). Use this to fill in an `odd_or_even` function that, given a number, will print `'even'` or `'odd'`. \n",
        "\n",
        "If you're not familiar with function syntax, don't worry! Just fill in the code below `def odd_or_even(number)` and assume that `number` is the number to be checked."
      ]
    },
    {
      "cell_type": "code",
      "execution_count": null,
      "metadata": {
        "id": "fpem4YpVCm4i"
      },
      "outputs": [],
      "source": [
        "def odd_or_even(number):\n",
        "  # Fill in your code here.\n",
        "  # number will be available for you to use in your code.\n",
        "  # Don't forget to indent by two spaces! Line your code up with these comments.\n",
        "  "
      ]
    },
    {
      "cell_type": "markdown",
      "metadata": {
        "id": "nPptDV2feEs2"
      },
      "source": [
        "### Hint"
      ]
    },
    {
      "cell_type": "markdown",
      "metadata": {
        "id": "QyjfzTDJeDOT"
      },
      "source": [
        "It can be challenging to use the modulo operator if you're not familiar with it; here's an example of how to use it in practice."
      ]
    },
    {
      "cell_type": "code",
      "execution_count": null,
      "metadata": {
        "id": "tjj-VKkQUvo8"
      },
      "outputs": [],
      "source": [
        "number = 55\n",
        "if number % 10 == 5:\n",
        "  print('The remainder of this division is 5!')"
      ]
    },
    {
      "cell_type": "markdown",
      "metadata": {
        "id": "KBNIQ3UtTsBQ"
      },
      "source": [
        "### Unit Tests\n",
        "\n",
        "Run the following cell to check your answer against some unit tests."
      ]
    },
    {
      "cell_type": "code",
      "execution_count": null,
      "metadata": {
        "id": "z1KV2VTVTsBS"
      },
      "outputs": [],
      "source": [
        "odd_or_even(5)\n",
        "# Should print: odd\n",
        "\n",
        "odd_or_even(10)\n",
        "# Should print: even\n",
        "\n",
        "odd_or_even(0)\n",
        "# Should print: even"
      ]
    },
    {
      "cell_type": "markdown",
      "metadata": {
        "id": "opB3JcMWeZQy"
      },
      "source": [
        "### Solution"
      ]
    },
    {
      "cell_type": "markdown",
      "metadata": {
        "id": "V7VW50KYUi2j"
      },
      "source": [
        "If you want to be explicit, you can write `elif number % 2 == 1` instead of using an `else` statement, but given that there are only two cases to check for, an `else` statement is perfectly fine."
      ]
    },
    {
      "cell_type": "code",
      "execution_count": null,
      "metadata": {
        "id": "ef2LL4VST_9Z"
      },
      "outputs": [],
      "source": [
        "def odd_or_even(number):\n",
        "  if number % 2 == 0:\n",
        "    print('even')\n",
        "  else:\n",
        "    print('odd')"
      ]
    },
    {
      "cell_type": "markdown",
      "metadata": {
        "id": "Vj9ye95gdg1a"
      },
      "source": [
        "## Question 5"
      ]
    },
    {
      "cell_type": "markdown",
      "metadata": {
        "id": "hfMyidfBdWYl"
      },
      "source": [
        "You're working on a piece of code that dispenses tickets at an arcade. For a given machine (like [skee-ball](https://en.wikipedia.org/wiki/Skee-Ball)), you'll dispense tickets based on the player's score, as follows:\n",
        "\n",
        "\n",
        "*   500 points or more: 10 tickets\n",
        "*   400 - 499 points: 8 tickets\n",
        "*   350 - 399 points: 6 tickets\n",
        "*   300 - 349 points: 5 tickets\n",
        "*   200 - 299 points: 4 tickets\n",
        "*   100 - 199 points: 3 tickets\n",
        "*   Less than 100 points: 2 tickets\n",
        "\n",
        "Given these restrictions, fill in the `skee_ball_tickets` function. Again, if you're not familiar with function syntax, that's fine! You can assume that `score` is going to be a positive integer."
      ]
    },
    {
      "cell_type": "code",
      "execution_count": null,
      "metadata": {
        "id": "XLoDnatBlrgi"
      },
      "outputs": [],
      "source": [
        "def skee_ball_tickets(score):\n",
        "  # Fill in your code here.\n",
        "  # score will be available for you to use in your code.\n",
        "  # Don't forget to indent by two spaces! Line your code up with these comments.\n"
      ]
    },
    {
      "cell_type": "markdown",
      "metadata": {
        "id": "fsgodUMDaEpQ"
      },
      "source": [
        "### Hint"
      ]
    },
    {
      "cell_type": "markdown",
      "metadata": {
        "id": "ae9NrhCSaEpc"
      },
      "source": [
        "This is the perfect place to use `elif`! Start from the highest value and work your way down; you don't need to use the higher end of the boundary, because the previous `if` or `elif` will cover that, for you."
      ]
    },
    {
      "cell_type": "code",
      "execution_count": null,
      "metadata": {
        "id": "JaKSWkPnaEpc"
      },
      "outputs": [],
      "source": [
        "number = 5\n",
        "if number \u003e= 10:\n",
        "  print('10 or more!')\n",
        "elif number \u003e 7:\n",
        "  print('Almost 10!')\n",
        "elif number \u003e 4:\n",
        "  print('Not quite 10!')"
      ]
    },
    {
      "cell_type": "markdown",
      "metadata": {
        "id": "SPuxUKU5aaIn"
      },
      "source": [
        "See how only one statement is printed?"
      ]
    },
    {
      "cell_type": "markdown",
      "metadata": {
        "id": "tzmXQAk9aEpc"
      },
      "source": [
        "### Unit Tests\n",
        "\n",
        "Run the following cell to check your answer against some unit tests."
      ]
    },
    {
      "cell_type": "code",
      "execution_count": null,
      "metadata": {
        "id": "vJom1KjyaEpd"
      },
      "outputs": [],
      "source": [
        "skee_ball_tickets(1000)\n",
        "# Should print: 10\n",
        "\n",
        "skee_ball_tickets(10)\n",
        "# Should print: 2\n",
        "\n",
        "skee_ball_tickets(499)\n",
        "# Should print: 8"
      ]
    },
    {
      "cell_type": "markdown",
      "metadata": {
        "id": "WP3PGajGdwhn"
      },
      "source": [
        "### Solution"
      ]
    },
    {
      "cell_type": "markdown",
      "metadata": {
        "id": "GqeKLocLA9y7"
      },
      "source": [
        "You'll need to use one large block of `if`, `elif` and `else` statements, but it should work. If you wanted to be robust against errors, you could use `elif score \u003e= 0` instead of `else` to protect your code against negative scores, but it's not required."
      ]
    },
    {
      "cell_type": "code",
      "execution_count": null,
      "metadata": {
        "id": "6V6L8ynXaxj-"
      },
      "outputs": [],
      "source": [
        "def skee_ball_tickets(score):\n",
        "  if score \u003e= 500:\n",
        "    print(10)\n",
        "  elif score \u003e= 400:\n",
        "    print(8)\n",
        "  elif score \u003e= 350:\n",
        "    print(6)\n",
        "  elif score \u003e= 300:\n",
        "    print(5)\n",
        "  elif score \u003e= 200:\n",
        "    print(4)\n",
        "  elif score \u003e= 100:\n",
        "    print(3)\n",
        "  else:\n",
        "    print(2)"
      ]
    }
  ],
  "metadata": {
    "colab": {
      "collapsed_sections": [
        "FkNJ2Wghi6v0",
        "2qIy2BsrMor8",
        "kURD_M15b6Yq",
        "mwCXqZaAb6Yr",
        "GtzPbNGXb6Yr",
        "nPptDV2feEs2",
        "KBNIQ3UtTsBQ",
        "opB3JcMWeZQy",
        "fsgodUMDaEpQ",
        "tzmXQAk9aEpc",
        "WP3PGajGdwhn"
      ],
      "name": "Conditionals",
      "provenance": [ ]
    },
    "kernelspec": {
      "display_name": "Python 3",
      "name": "python3"
    }
  },
  "nbformat": 4,
  "nbformat_minor": 0
}
