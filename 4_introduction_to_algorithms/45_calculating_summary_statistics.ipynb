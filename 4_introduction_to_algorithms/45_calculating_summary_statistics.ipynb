{
  "cells": [
    {
      "cell_type": "markdown",
      "metadata": {
        "id": "hjgaLsRuIJ4e"
      },
      "source": [
        "# Algorithms For Calculating Summary Statistics"
      ]
    },
    {
      "cell_type": "markdown",
      "metadata": {
        "id": "UynSuGzjIMje"
      },
      "source": [
        "## Lesson Overview"
      ]
    },
    {
      "cell_type": "markdown",
      "metadata": {
        "id": "2bDni4SFoowE"
      },
      "source": [
        "Some of the most important and fundamental algorithms in computer science involve calculating a summary statistic from a dataset. Summary statistics are simple aggregated statistics of a dataset that help to summarize a key attribute of the dataset."
      ]
    },
    {
      "cell_type": "markdown",
      "metadata": {
        "id": "0KOj8jSXW25o"
      },
      "source": [
        "Examples of summary statistics include:\n",
        "\n",
        "- minimum value\n",
        "- maximum value\n",
        "- mean/average value\n",
        "- mode (most common value)\n",
        "- median (middle value)\n",
        "- standard deviation\n",
        "\n",
        "This lesson doesn't go into the technical definition of a general summary statistic, but you can read more about them [here](https://en.wikipedia.org/wiki/Summary_statistics)."
      ]
    },
    {
      "cell_type": "markdown",
      "metadata": {
        "id": "Tl6DXyEJXAm2"
      },
      "source": [
        "### Function to calculate the mean"
      ]
    },
    {
      "cell_type": "markdown",
      "metadata": {
        "id": "-pGpcE10W9s3"
      },
      "source": [
        "In a previous lesson on complexity, we already saw the implementation for calculating some of these summary statistics for an array."
      ]
    },
    {
      "cell_type": "markdown",
      "metadata": {
        "id": "rkIaUtTZdDY8"
      },
      "source": [
        "For example, the function `mean` calculates the mean value of an array. This function has a time complexity of $O(n)$ and a space complexity of $O(1)$."
      ]
    },
    {
      "cell_type": "code",
      "execution_count": null,
      "metadata": {
        "id": "M9bOlORyyhng"
      },
      "outputs": [],
      "source": [
        "def mean(arr):\n",
        "  \"\"\"Finds the mean of a list of integers.\"\"\"\n",
        "  sum = 0\n",
        "  len = 0\n",
        "  for i in arr:\n",
        "    sum += i\n",
        "    len += 1\n",
        "  \n",
        "  # Coerce sum to float here so that the division will be float, not int.\n",
        "  return float(sum) / len"
      ]
    },
    {
      "cell_type": "code",
      "execution_count": null,
      "metadata": {
        "id": "D4ya2qenyk2k"
      },
      "outputs": [],
      "source": [
        "mean([2, 1, 4, 5, 2, 3, 7, 6])"
      ]
    },
    {
      "cell_type": "markdown",
      "metadata": {
        "id": "muBPJErYxHMO"
      },
      "source": [
        "## Question 1"
      ]
    },
    {
      "cell_type": "markdown",
      "metadata": {
        "id": "5xbO5SEuzGsJ"
      },
      "source": [
        "Write a function to calculate the maximum value in a numeric array, without using the built-in `max` function"
      ]
    },
    {
      "cell_type": "code",
      "execution_count": null,
      "metadata": {
        "id": "YY7gKr3speMQ"
      },
      "outputs": [],
      "source": [
        "def maximum(arr):\n",
        "  \"\"\"Returns the maximum value in a list of numerical values.\"\"\"\n",
        "  # TODO(you): Implement\n",
        "  print('This function has not been implemented.')"
      ]
    },
    {
      "cell_type": "markdown",
      "metadata": {
        "id": "3MGer5yl1tz7"
      },
      "source": [
        "### Unit Tests\n",
        "\n",
        "Run the following cell to check your answer against some unit tests."
      ]
    },
    {
      "cell_type": "code",
      "execution_count": null,
      "metadata": {
        "id": "P-Vo_saM1vWf"
      },
      "outputs": [],
      "source": [
        "print(maximum([1.1, 2.2, 3.3, 4.4, 5.5]))\n",
        "# Should print: 5.5\n",
        "\n",
        "print(maximum([-10, 10, 20, -20, 20]))\n",
        "# Should print: 20\n",
        "\n",
        "print(maximum([1.994, 1994, 199.4, -19.94]))\n",
        "# Should print: 1994"
      ]
    },
    {
      "cell_type": "markdown",
      "metadata": {
        "id": "EcV1d775zLZi"
      },
      "source": [
        "### Solution"
      ]
    },
    {
      "cell_type": "code",
      "execution_count": null,
      "metadata": {
        "id": "KVsfYQ7gzNpo"
      },
      "outputs": [],
      "source": [
        "def maximum(arr):\n",
        "  \"\"\"Returns the maximum value in a list of numerical values.\"\"\"\n",
        "  # Initialize the maximum value at negative infinity.\n",
        "  max_value = float(\"-Inf\")\n",
        "\n",
        "  # Iterate through the list, and reset max_value if a higher value is found.\n",
        "  for i in arr:\n",
        "    if i \u003e max_value:\n",
        "      max_value = i\n",
        "  \n",
        "  return max_value"
      ]
    },
    {
      "cell_type": "markdown",
      "metadata": {
        "id": "7elQMQS6xJnD"
      },
      "source": [
        "## Question 2"
      ]
    },
    {
      "cell_type": "markdown",
      "metadata": {
        "id": "G3OAQEHe1pP_"
      },
      "source": [
        "What is the big-O time and space complexity of the function below which calculates the maximum of an array?"
      ]
    },
    {
      "cell_type": "code",
      "execution_count": null,
      "metadata": {
        "id": "F_cWoeiA2e9l"
      },
      "outputs": [],
      "source": [
        "def maximum(arr):\n",
        "  \"\"\"Returns the maximum value in a list of numerical values.\"\"\"\n",
        "  # Initialize the maximum value at negative infinity.\n",
        "  max_value = float(\"-Inf\")\n",
        "\n",
        "  # Iterate through the list, and reset max_value if a higher value is found.\n",
        "  for i in arr:\n",
        "    if i \u003e max_value:\n",
        "      max_value = i\n",
        "  \n",
        "  return max_value"
      ]
    },
    {
      "cell_type": "code",
      "execution_count": null,
      "metadata": {
        "id": "Ued6nUQkXULH"
      },
      "outputs": [],
      "source": [
        "#freetext"
      ]
    },
    {
      "cell_type": "markdown",
      "metadata": {
        "id": "7Q-32Qzjxvak"
      },
      "source": [
        "### Solution"
      ]
    },
    {
      "cell_type": "markdown",
      "metadata": {
        "id": "5CIijnjjS43O"
      },
      "source": [
        "Suppose the input array `arr` has $n$ elements.\n",
        "\n",
        "**Time complexity**\n",
        "\n",
        "All of the operations outside the `for` loop are $O(1)$. Within the `for` loop, each operation is $O(1)$, so the time complexity is the number of iterations of the `for` loop. The `for` loop iterates through each element in `arr`, so it has $n$ iterations. Therefore, the time complexity is $O(n)$.\n",
        "\n",
        "**Space complexity**\n",
        "\n",
        "Only two variables, `max_value` and `i`, are allocated to memory and no new memory allocations are made within the `for` loop, so this function is $O(1)$ for space complexity."
      ]
    },
    {
      "cell_type": "markdown",
      "metadata": {
        "id": "AmGcTnpOxK4U"
      },
      "source": [
        "## Question 3"
      ]
    },
    {
      "cell_type": "markdown",
      "metadata": {
        "id": "2vD7D4vfq8nj"
      },
      "source": [
        "Write a function to calculate the [mode(s)](https://en.wikipedia.org/wiki/Mode_(statistics)) or most common value(s) in a list. Since there can be multiple modes (if different elements have the same frequency), your output should be a list. Do not use any external package functionality."
      ]
    },
    {
      "cell_type": "code",
      "execution_count": null,
      "metadata": {
        "id": "F5PVwUN4py71"
      },
      "outputs": [],
      "source": [
        "def mode(arr):\n",
        "  \"\"\"Returns the most common value in a list of numerical values.\"\"\"\n",
        "  modes = []\n",
        "\n",
        "  # TODO(you): Implement\n",
        "  print('This function has not been implemented.')\n",
        "\n",
        "  return modes"
      ]
    },
    {
      "cell_type": "markdown",
      "metadata": {
        "id": "2a-q4EuGxjMl"
      },
      "source": [
        "### Hint"
      ]
    },
    {
      "cell_type": "markdown",
      "metadata": {
        "id": "y-7TS86UxkNh"
      },
      "source": [
        "Use a dictionary."
      ]
    },
    {
      "cell_type": "markdown",
      "metadata": {
        "id": "8JlsWdP42nFf"
      },
      "source": [
        "### Unit Tests\n",
        "\n",
        "Run the following cell to check your answer against some unit tests."
      ]
    },
    {
      "cell_type": "code",
      "execution_count": null,
      "metadata": {
        "id": "0p16t5cy2ovC"
      },
      "outputs": [],
      "source": [
        "print(mode([1, 2, 3, 4, 5]))\n",
        "# Should print: [1, 2, 3, 4, 5]\n",
        "\n",
        "print(mode([1, 2, 2, 3, 3]))\n",
        "# Should print: [2, 3]\n",
        "\n",
        "print(mode([4, 1, 4, 4, 1]))\n",
        "# Should print: [4]"
      ]
    },
    {
      "cell_type": "markdown",
      "metadata": {
        "id": "0WPWqa6GxwGj"
      },
      "source": [
        "### Solution"
      ]
    },
    {
      "cell_type": "markdown",
      "metadata": {
        "id": "855pfUv1rZTT"
      },
      "source": [
        "This algorithm is more complicated than finding the minimum, maximum, and mean of an array."
      ]
    },
    {
      "cell_type": "code",
      "execution_count": null,
      "metadata": {
        "id": "GFbNOPErraud"
      },
      "outputs": [],
      "source": [
        "def mode(arr):\n",
        "  \"\"\"Returns the most common value in a list of numerical values.\"\"\"\n",
        "  modes = []\n",
        "\n",
        "  counts = {} # dictionary mapping each unique element to its count\n",
        "  highest_count = 0 # the count of the highest occuring element\n",
        "\n",
        "  for i in arr:\n",
        "    if i not in counts:\n",
        "      counts[i] = 1\n",
        "    else:\n",
        "      counts[i] += 1\n",
        "\n",
        "    # If i has the equal highest count, add it to the list of modes.\n",
        "    if counts[i] == highest_count:\n",
        "      modes.append(i)\n",
        "    # If i has the highest count, it becomes the new mode.\n",
        "    elif counts[i] \u003e highest_count:\n",
        "      highest_count = counts[i]\n",
        "      modes = [i]\n",
        "\n",
        "  return modes"
      ]
    },
    {
      "cell_type": "markdown",
      "metadata": {
        "id": "sJBdHASnxMRs"
      },
      "source": [
        "## Question 4"
      ]
    },
    {
      "cell_type": "markdown",
      "metadata": {
        "id": "8Z9PJN7x40RD"
      },
      "source": [
        "What is the big-O time and space complexity of the function below which calculates the mode of an array?"
      ]
    },
    {
      "cell_type": "code",
      "execution_count": null,
      "metadata": {
        "id": "VVNYFDYA3L5D"
      },
      "outputs": [],
      "source": [
        "def mode(arr):\n",
        "  \"\"\"Returns the most common value in a list of numerical values.\"\"\"\n",
        "  modes = []\n",
        "\n",
        "  counts = {} # dictionary mapping each unique element to its count\n",
        "  highest_count = 0 # the count of the highest occuring element\n",
        "\n",
        "  for i in arr:\n",
        "    if i not in counts:\n",
        "      counts[i] = 1\n",
        "    else:\n",
        "      counts[i] += 1\n",
        "\n",
        "    # If i has the equal highest count, add it to the list of modes.\n",
        "    if counts[i] == highest_count:\n",
        "      modes.append(i)\n",
        "    # If i has the highest count, it becomes the new mode.\n",
        "    elif counts[i] \u003e highest_count:\n",
        "      highest_count = counts[i]\n",
        "      modes = [i]\n",
        "\n",
        "  return modes"
      ]
    },
    {
      "cell_type": "code",
      "execution_count": null,
      "metadata": {
        "id": "wMa-v6IbXvcd"
      },
      "outputs": [],
      "source": [
        "#freetext"
      ]
    },
    {
      "cell_type": "markdown",
      "metadata": {
        "id": "yv7X63tHxw84"
      },
      "source": [
        "### Solution"
      ]
    },
    {
      "cell_type": "markdown",
      "metadata": {
        "id": "-7XsIIlLq6yi"
      },
      "source": [
        "Suppose the array has $n$ elements.\n",
        "\n",
        "**Time complexity**\n",
        "\n",
        "Despite containing more logic than the functions for calculating the minimum, maximum, and mean, the time complexity of `mode` is still $O(n)$. Each operation within the `for` loop is $O(1)$ and the number of iterations is `len(arr)`. Therefore, the big-O time complexity is $O(n)$.\n",
        "\n",
        "**Space complexity**\n",
        "\n",
        "While calcluating the minimum, maximum, and mean only requires storing a few numerical values, calculating the mode requires storing a dictionary. The number of elements in the dictionary depends on the number of unique elements in `arr`.\n",
        "\n",
        "In the best case, `arr` contains only one unique element. If this element is called `x`, then the `counts` dictionary is just `{x: len(arr)}` and `modes` is just `[x]`. Therefore the best case space complexity is $O(1)$.\n",
        "\n",
        "In the worst case, `arr` contains $n$ unique elements. In this case, `counts` maps each of the $n$ elements to 1 (requiring $2n$ memory allocations), and `modes` is identical to `arr` (requiring $n$ memory allocations). Therefore the worst case space complexity is $O(n)$.\n",
        "\n",
        "The average case space complexity is also $O(n)$, since there is a very high number of possible integers, so it is most likely that all (or most) of the integers in `arr` are unique."
      ]
    },
    {
      "cell_type": "markdown",
      "metadata": {
        "id": "tjbwAXlQyeJu"
      },
      "source": [
        "## Question 5"
      ]
    },
    {
      "cell_type": "markdown",
      "metadata": {
        "id": "cQmNu2kkynpu"
      },
      "source": [
        "Write an algorithm to calculate the minimum element of a linked list of integers. Assume that you have `LinkedListElement` and `LinkedList` classes as defined here."
      ]
    },
    {
      "cell_type": "code",
      "execution_count": null,
      "metadata": {
        "id": "8k439vMWYrM4"
      },
      "outputs": [],
      "source": [
        "class LinkedListElement:\n",
        "\n",
        "  def __init__(self, value):\n",
        "    self.value = value\n",
        "    self.next = None"
      ]
    },
    {
      "cell_type": "code",
      "execution_count": null,
      "metadata": {
        "id": "eL4jR-q3ZKtJ"
      },
      "outputs": [],
      "source": [
        "class LinkedList:\n",
        "\n",
        "  def __init__(self):\n",
        "    self.first = None"
      ]
    },
    {
      "cell_type": "code",
      "execution_count": null,
      "metadata": {
        "id": "GKLugittZWnr"
      },
      "outputs": [],
      "source": [
        "# This creates the linked list: 1 -\u003e 2 -\u003e 3\n",
        "\n",
        "linked_list = LinkedList()\n",
        "\n",
        "linked_list.first = LinkedListElement(1)\n",
        "linked_list.first.next = LinkedListElement(2)\n",
        "linked_list.first.next.next = LinkedListElement(3)"
      ]
    },
    {
      "cell_type": "code",
      "execution_count": null,
      "metadata": {
        "id": "ikdXCQ05X_j-"
      },
      "outputs": [],
      "source": [
        "class LinkedList:\n",
        "\n",
        "  def __init__(self):\n",
        "    self.first = None\n",
        "  \n",
        "  def minimum(self):\n",
        "    \"\"\"Returns the minimum value in a linked list of integers.\"\"\"\n",
        "    # TODO(you): Implement\n",
        "    print('This method has not been implemented.')"
      ]
    },
    {
      "cell_type": "markdown",
      "metadata": {
        "id": "NKusQftT3Wdc"
      },
      "source": [
        "### Unit Tests\n",
        "\n",
        "Run the following cell to check your answer against some unit tests."
      ]
    },
    {
      "cell_type": "code",
      "execution_count": null,
      "metadata": {
        "id": "J_4wpqoR3dAu"
      },
      "outputs": [],
      "source": [
        "# This creates the linked list: 2 -\u003e 4 -\u003e -4 -\u003e -2\n",
        "\n",
        "linked_list = LinkedList()\n",
        "\n",
        "linked_list.first = LinkedListElement(2)\n",
        "linked_list.first.next = LinkedListElement(4)\n",
        "linked_list.first.next.next = LinkedListElement(-4)\n",
        "linked_list.first.next.next.next = LinkedListElement(-2)\n",
        "\n",
        "print(linked_list.minimum())\n",
        "# Should print: -4\n",
        "\n",
        "# This creates the linked list: 1 -\u003e 2 -\u003e 3 -\u003e 1\n",
        "\n",
        "linked_list = LinkedList()\n",
        "\n",
        "linked_list.first = LinkedListElement(1)\n",
        "linked_list.first.next = LinkedListElement(2)\n",
        "linked_list.first.next.next = LinkedListElement(3)\n",
        "linked_list.first.next.next.next = LinkedListElement(1)\n",
        "\n",
        "print(linked_list.minimum())\n",
        "# Should print: 1"
      ]
    },
    {
      "cell_type": "markdown",
      "metadata": {
        "id": "mo9lPAVYyvzL"
      },
      "source": [
        "### Solution"
      ]
    },
    {
      "cell_type": "code",
      "execution_count": null,
      "metadata": {
        "id": "eOlugWEJy11Y"
      },
      "outputs": [],
      "source": [
        "class LinkedList:\n",
        "\n",
        "  def __init__(self):\n",
        "    self.first = None\n",
        "  \n",
        "  def minimum(self):\n",
        "    \"\"\"Returns the minimum value in a linked list of integers.\"\"\"\n",
        "    if linked_list.first is None:\n",
        "      raise ValueError('Input linked list has no first element.')\n",
        "\n",
        "    min_value = float(\"Inf\")\n",
        "\n",
        "    el = linked_list.first\n",
        "    while el is not None:\n",
        "      # If the value is less than the current minimum, make it the new minimum.\n",
        "      if el.value \u003c min_value:\n",
        "        min_value = el.value\n",
        "      # Iterate to the next element.\n",
        "      el = el.next\n",
        "\n",
        "    return min_value"
      ]
    },
    {
      "cell_type": "markdown",
      "metadata": {
        "id": "FcNDfY4myhO7"
      },
      "source": [
        "## Question 6"
      ]
    },
    {
      "cell_type": "markdown",
      "metadata": {
        "id": "M3GTixFBgbGd"
      },
      "source": [
        "How do the time and space complexity of the algorithm to find the minimum of a linked list compare to the time and space complexity of finding the minimum of an array? Remember that finding the maximum of an array (or linked list) is an equivalent algorithm to finding the minimum of an array (or linked list), in terms of complexity."
      ]
    },
    {
      "cell_type": "code",
      "execution_count": null,
      "metadata": {
        "id": "1JiWu__xYsrC"
      },
      "outputs": [],
      "source": [
        "#freetext"
      ]
    },
    {
      "cell_type": "markdown",
      "metadata": {
        "id": "8q8Fb3cay1Ne"
      },
      "source": [
        "### Solution"
      ]
    },
    {
      "cell_type": "markdown",
      "metadata": {
        "id": "a4_NBUAhgvVM"
      },
      "source": [
        "The big-O time and space complexity of finding the maximum of an array is $O(n)$ and $O(1)$ respectively.\n",
        "\n",
        "For the linked list, it is still the case that each operation is $O(1)$, so the time complexity is the number of iterations. While the linked list uses a `while` loop and the array uses a `for` loop, both are iterating through the number of elements in the data structure, which is $n$. Therefore the time complexity is $O(n)$. And similarly to the array algorithm, only `min_value` and `el` are allocated to memory, so the space complexity is $O(1)$."
      ]
    },
    {
      "cell_type": "markdown",
      "metadata": {
        "id": "LBZW1VjUyjF5"
      },
      "source": [
        "## Question 7"
      ]
    },
    {
      "cell_type": "markdown",
      "metadata": {
        "id": "bJFijRaxb2g_"
      },
      "source": [
        "The [weighted mean](https://en.wikipedia.org/wiki/Weighted_arithmetic_mean) of an array is the mean of an array where each element is weighted by some positive number."
      ]
    },
    {
      "cell_type": "markdown",
      "metadata": {
        "id": "c7eT-wxKYw1g"
      },
      "source": [
        "Weighted means are often used to calculate a final grade in a course. For example, your Data Structures and Algorithms final grade could be composed of 20% homeworks, 30% midterm project, and 50% final project. In that case, your final grade is calculated as $0.2 \\times grade_{hw} + 0.3 \\times grade_{midterm} + 0.5 \\times grade_{final}$.\n",
        "\n",
        "Write an algorithm to calculate the weighted mean of an array. Your function should raise an error if any element of the `weights` list is negative."
      ]
    },
    {
      "cell_type": "code",
      "execution_count": null,
      "metadata": {
        "id": "utTpNtakcjUT"
      },
      "outputs": [],
      "source": [
        "def weighted_mean(arr, weights):\n",
        "  \"\"\"Returns the weighted mean of the list arr weighted by the list weights.\"\"\"\n",
        "  # Raise an error if arr and weights don't have the same number of elements.\n",
        "  if len(arr) != len(weights):\n",
        "    raise ValueError('len(arr) = %d should be the same as len(weights) = %d' %\n",
        "                     (len(arr), len(weights)))\n",
        "  if sum(weights) != 1:\n",
        "    raise ValueError('sum(weights) should be 1, but is %.2f' % sum(weights))\n",
        "\n",
        "  # TODO(you): Implement\n",
        "  print('This function has not been implemented.')"
      ]
    },
    {
      "cell_type": "markdown",
      "metadata": {
        "id": "XL-1DeTG7TAr"
      },
      "source": [
        "### Unit Tests\n",
        "\n",
        "Run the following cell to check your answer against some unit tests."
      ]
    },
    {
      "cell_type": "code",
      "execution_count": null,
      "metadata": {
        "id": "ahPpzedx7WMV"
      },
      "outputs": [],
      "source": [
        "weights1 = [0.1, 0.5, 0.05, 0.2, 0.15]\n",
        "weights2 = [0.45, 0.3, 0.1, 0.05, 0.1]\n",
        "arr1 = [68, 14, -5, -108, 25]\n",
        "arr2 = [0, -4, 3, 1, 8]\n",
        "\n",
        "\n",
        "print(round(weighted_mean(arr1, weights1), 2))\n",
        "# Should print: -0.86\n",
        "\n",
        "print(round(weighted_mean(arr1, weights2), 2))\n",
        "# Should print: 6.28\n",
        "\n",
        "print(round(weighted_mean(arr2, weights1), 2))\n",
        "# Should print: -0.09\n",
        "\n",
        "print(round(weighted_mean(arr2, weights2), 2))\n",
        "# Should print: -0.01"
      ]
    },
    {
      "cell_type": "markdown",
      "metadata": {
        "id": "8xaXo7Aay2yJ"
      },
      "source": [
        "### Solution"
      ]
    },
    {
      "cell_type": "code",
      "execution_count": null,
      "metadata": {
        "id": "cYV7PiwQdMN-"
      },
      "outputs": [],
      "source": [
        "def weighted_mean(arr, weights):\n",
        "  \"\"\"Returns the weighted mean of the list arr weighted by the list weights.\"\"\"\n",
        "  # Raise an error if arr and weights don't have the same number of elements.\n",
        "  if len(arr) != len(weights):\n",
        "    raise ValueError('len(arr) = %d should be the same as len(weights) = %d' %\n",
        "                     (len(arr), len(weights)))\n",
        "  if sum(weights) != 1:\n",
        "    raise ValueError('sum(weights) should be 1, but is %.2f' % sum(weights))\n",
        "\n",
        "  weighted_sum = 0\n",
        "  for i in range(len(arr)):\n",
        "    if weights[i] \u003c 0:\n",
        "      raise ValueError('All elements of the weights list must be non-negative.')\n",
        "    weighted_sum += arr[i] * weights[i]\n",
        "\n",
        "  # Coerce sum to float here so that the division will be float, not int.\n",
        "  return float(weighted_sum) / len(arr)"
      ]
    },
    {
      "cell_type": "markdown",
      "metadata": {
        "id": "E36Nt5twylNM"
      },
      "source": [
        "## Question 8"
      ]
    },
    {
      "cell_type": "markdown",
      "metadata": {
        "id": "MJrVVOAO5FB7"
      },
      "source": [
        "How does the time complexity of `weighted_mean` compare to that of `mean`? Both are shown here."
      ]
    },
    {
      "cell_type": "code",
      "execution_count": null,
      "metadata": {
        "id": "4TdY1vRv85gW"
      },
      "outputs": [],
      "source": [
        "def weighted_mean(arr, weights):\n",
        "  \"\"\"Returns the weighted mean of the list arr weighted by the list weights.\"\"\"\n",
        "  # Raise an error if arr and weights don't have the same number of elements.\n",
        "  if len(arr) != len(weights):\n",
        "    raise ValueError('len(arr) = %d should be the same as len(weights) = %d' %\n",
        "                     (len(arr), len(weights)))\n",
        "  if sum(weights) != 1:\n",
        "    raise ValueError('sum(weights) should be 1, but is %.2f' % sum(weights))\n",
        "\n",
        "  weighted_sum = 0\n",
        "  for i in range(len(arr)):\n",
        "    if weights[i] \u003c 0:\n",
        "      raise ValueError('All elements of the weights list must be non-negative.')\n",
        "    weighted_sum += arr[i] * weights[i]\n",
        "\n",
        "  # Coerce sum to float here so that the division will be float, not int.\n",
        "  return float(weighted_sum) / len(arr)"
      ]
    },
    {
      "cell_type": "code",
      "execution_count": null,
      "metadata": {
        "id": "Yg8_0KRl89JK"
      },
      "outputs": [],
      "source": [
        "def mean(arr):\n",
        "  \"\"\"Finds the mean of a list of integers.\"\"\"\n",
        "  sum = 0\n",
        "  len = 0\n",
        "  for i in arr:\n",
        "    sum += i\n",
        "    len += 1\n",
        "  \n",
        "  # Coerce sum to float here so that the division will be float, not int.\n",
        "  return float(sum) / len"
      ]
    },
    {
      "cell_type": "code",
      "execution_count": null,
      "metadata": {
        "id": "1x4VhnQ4Y7v5"
      },
      "outputs": [],
      "source": [
        "#freetext"
      ]
    },
    {
      "cell_type": "markdown",
      "metadata": {
        "id": "bbHX9oE3y738"
      },
      "source": [
        "### Solution"
      ]
    },
    {
      "cell_type": "markdown",
      "metadata": {
        "id": "1pSkEyJpkVYa"
      },
      "source": [
        "`weighted_mean` involves more computations than `mean`. Firstly, we need to calculate `len(arr)` and `len(weights)` and compare them. Secondly, we need to check if any elements of `weights` is negative. Thirdly, we need to multiply each element of `arr` with its corresponding element in `weights`.\n",
        "\n",
        "Nevertheless, the big-O time complexity is $O(n)$. Despite there being more computations both within and outside the `for` loop, all of those computations are individually $O(1)$. (See [this discussion](https://stackoverflow.com/questions/1115313/cost-of-len-function) of the complexity of `len`.) Therefore, as with `mean`, the big-O time complexity is just the number of iterations of the `for` loop, which is still `len(arr)`, therefore `weighted_mean` is $O(n)$."
      ]
    },
    {
      "cell_type": "markdown",
      "metadata": {
        "id": "EFk7fK5D9WYk"
      },
      "source": [
        "## Question 9"
      ]
    },
    {
      "cell_type": "markdown",
      "metadata": {
        "id": "RDgXbVA7eF1h"
      },
      "source": [
        "Your friend is a school teacher, and is calculating the final grade for the students in their class. The final grade is a weighted mean of several assessments during the class."
      ]
    },
    {
      "cell_type": "markdown",
      "metadata": {
        "id": "Pu6xkQVDY_HS"
      },
      "source": [
        "The data is in a dictionary, where:\n",
        "\n",
        "- The keys represent the weight of the assessments\n",
        "- The values represent the grade the student received\n",
        "\n",
        "Here is your friend's code. Your friend tells you that while the function works, it seems inefficient. The time and space complexity are both $O(n)$. Can you optimize this function to reduce the time and/or space complexity?"
      ]
    },
    {
      "cell_type": "code",
      "execution_count": null,
      "metadata": {
        "id": "aX-senOTfjBw"
      },
      "outputs": [],
      "source": [
        "def weighted_average_score(map):\n",
        "  \"\"\"Calculate the weighted average score for a student.\n",
        "\n",
        "  Args:\n",
        "    map: The keys are the weights of the assessment. The values are the grades.\n",
        "  \n",
        "  Returns:\n",
        "    The weighted average score for the student.\n",
        "  \"\"\"\n",
        "\n",
        "  # TODO(you): Can you optimize the time and/or space complexity?\n",
        "\n",
        "  sum = 0\n",
        "  len = 0\n",
        "  weights = []\n",
        "  grades = []\n",
        "\n",
        "  for key in map.keys():\n",
        "    weights.append(key)\n",
        "  \n",
        "  for value in map.values():\n",
        "    grades.append(value)\n",
        "\n",
        "  for i in range(len(grades)):\n",
        "    sum += grades[i] * weights[i]\n",
        "    len += 1\n",
        "\n",
        "  # Coerce sum to float here so that the division will be float, not int.\n",
        "  return float(sum) / len"
      ]
    },
    {
      "cell_type": "markdown",
      "metadata": {
        "id": "W7BwuvSfoenD"
      },
      "source": [
        "### Solution"
      ]
    },
    {
      "cell_type": "markdown",
      "metadata": {
        "id": "5yIsDylEpBMi"
      },
      "source": [
        "The current implementation is inefficient in two ways:\n",
        "\n",
        "- The weights and grades can be used within the `for` loop and do not need to be stored in arrays.\n",
        "- The three `for` loops can be made into one.\n",
        "\n",
        "Instead of iterating through `map.keys()` and `map.values()` separately, it is more efficient to iterate through `map.items()`, which contains keys *and* values. This `for` loop is still $O(n)$. This allows us to not store each value of `weights` and `grades` in an array, but use the values directly. Not creating the arrays reduces the space complexity from $O(n)$ to $O(1)$. This also allows us to use a single `for` loop, instead of three."
      ]
    },
    {
      "cell_type": "code",
      "execution_count": null,
      "metadata": {
        "id": "Pik2AREDoo1l"
      },
      "outputs": [],
      "source": [
        "def weighted_average_score(map):\n",
        "  \"\"\"Calculate the weighted average score for a student.\n",
        "\n",
        "  Args:\n",
        "    map: The keys are the weights of the assessment. The values are the grades.\n",
        "  \n",
        "  Returns:\n",
        "    The weighted average score for the student.\n",
        "  \"\"\"\n",
        "\n",
        "  sum = 0\n",
        "  len = 0\n",
        "\n",
        "  for key, val in map.items():\n",
        "    sum += key * val\n",
        "    len += 1\n",
        "\n",
        "  # Coerce sum to float here so that the division will be float, not int.\n",
        "  return float(sum) / len"
      ]
    },
    {
      "cell_type": "markdown",
      "metadata": {
        "id": "fvOeeRPU9acr"
      },
      "source": [
        "## Question 10"
      ]
    },
    {
      "cell_type": "markdown",
      "metadata": {
        "id": "L3QTsypprDMJ"
      },
      "source": [
        "Calculating the length of a list in Python is constant time. This is because `__len__` is a built-in method of the `list` class, so calling `len(list)` is equivalent to calling `list.__len__()`."
      ]
    },
    {
      "cell_type": "markdown",
      "metadata": {
        "id": "-vnZrTsVZYfF"
      },
      "source": [
        "That is, certain attributes of a list in Python, such as length, are stored in a look-up table, and can be retrieved in constant time. Thus, `list.__len__()` has the same complexity as `list[0]`, which is $O(1)$. See [here](https://stackoverflow.com/questions/1115313/cost-of-len-function) for more information."
      ]
    },
    {
      "cell_type": "code",
      "execution_count": null,
      "metadata": {
        "id": "GBsNSdKxsuBJ"
      },
      "outputs": [],
      "source": [
        "my_list = [1, 2, 3, 4]\n",
        "print(len(my_list))\n",
        "print(my_list.__len__())"
      ]
    },
    {
      "cell_type": "markdown",
      "metadata": {
        "id": "r__-1lYhtElT"
      },
      "source": [
        "Python also offers a `sum` function for a list of integers. Assume that this function is $O(n)$. Given these functions, can you simplify the standard `mean` function? Does this change the time complexity?"
      ]
    },
    {
      "cell_type": "code",
      "execution_count": null,
      "metadata": {
        "id": "AMwluEV1-F95"
      },
      "outputs": [],
      "source": [
        "def mean(arr):\n",
        "  \"\"\"Finds the mean of a list of integers.\"\"\"\n",
        "  # TODO(you): Modify this function to use the built-in sum and len functions.\n",
        "\n",
        "  sum = 0\n",
        "  len = 0\n",
        "  for i in arr:\n",
        "    sum += i\n",
        "    len += 1\n",
        "  \n",
        "  # Coerce sum to float here so that the division will be float, not int.\n",
        "  return float(sum) / len"
      ]
    },
    {
      "cell_type": "markdown",
      "metadata": {
        "id": "V0DfF00T9i7Q"
      },
      "source": [
        "### Solution"
      ]
    },
    {
      "cell_type": "markdown",
      "metadata": {
        "id": "nAsnOK9JtL9D"
      },
      "source": [
        "Instead of calculating the variables `sum` and `len`, we can use the in-built `sum` `len` functions."
      ]
    },
    {
      "cell_type": "code",
      "execution_count": null,
      "metadata": {
        "id": "uaK7_GGztoOY"
      },
      "outputs": [],
      "source": [
        "def mean(arr):\n",
        "  \"\"\"Finds the mean of a list of integers.\"\"\"\n",
        "  # Coerce sum to float here so that the division will be float, not int.\n",
        "  return float(sum(arr)) / len(arr)"
      ]
    },
    {
      "cell_type": "markdown",
      "metadata": {
        "id": "c1gLCv7KtvD1"
      },
      "source": [
        "Since `sum` is $O(n)$ and `len` is $O(1)$, this function is $O(n)$. Therefore the big-O time complexity is the same as the original function. However, this function has been reduced from several lines to one. Moreover, the time complexity has approximately halved (since we no longer need to add 1 to `len` at every iteration), and the space complexity has been reduced by 2 (since we no longer need to store `sum` and `len` in memory)."
      ]
    }
  ],
  "metadata": {
    "colab": {
      "collapsed_sections": [
        "3MGer5yl1tz7",
        "EcV1d775zLZi",
        "7Q-32Qzjxvak",
        "2a-q4EuGxjMl",
        "8JlsWdP42nFf",
        "0WPWqa6GxwGj",
        "yv7X63tHxw84",
        "NKusQftT3Wdc",
        "mo9lPAVYyvzL",
        "8q8Fb3cay1Ne",
        "XL-1DeTG7TAr",
        "8xaXo7Aay2yJ",
        "bbHX9oE3y738",
        "W7BwuvSfoenD",
        "V0DfF00T9i7Q"
      ],
      "name": "calculating_summary_statistics.ipynb",
      "private_outputs": true,
      "provenance": [ ]
    },
    "kernelspec": {
      "display_name": "Python 3",
      "name": "python3"
    }
  },
  "nbformat": 4,
  "nbformat_minor": 0
}
