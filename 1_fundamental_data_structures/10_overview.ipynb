{
  "cells": [
    {
      "cell_type": "markdown",
      "metadata": {
        "id": "SG7CsT_5oPoh"
      },
      "source": [
        "# Fundamental Data Structures"
      ]
    },
    {
      "cell_type": "markdown",
      "metadata": {
        "id": "MJPswJzqvawo"
      },
      "source": [
        "## Lesson Overview"
      ]
    },
    {
      "cell_type": "markdown",
      "metadata": {
        "id": "gNTHr_HpoTke"
      },
      "source": [
        "\u003e A **data structure** is any object that stores data in an organized way.\n",
        "\n",
        "Different data structures have different organizations and representations. This unit introduces you to the most fundamental data structures:\n",
        "\n",
        "- Arrays (also known as lists)\n",
        "- Sets\n",
        "- Classes (also known as structs)\n",
        "- Maps (also known as dictionaries)\n",
        "- Linked lists"
      ]
    },
    {
      "cell_type": "markdown",
      "metadata": {
        "id": "RM3r7YoBR-LU"
      },
      "source": [
        "You have probably encountered data structures before, either in computer science or in life. For example:\n",
        "\n",
        "- A phone book could be stored in a **map**\n",
        "- A line at Disneyland could be stored in a **linked list**\n",
        "- The items in your grocery bag could be stored in an **array**"
      ]
    },
    {
      "cell_type": "markdown",
      "metadata": {
        "id": "NB_slb29v-jW"
      },
      "source": [
        "Data are any piece of observed and recorded information. Examples of data include:\n",
        "\n",
        "- The temperature on a given day\n",
        "- A person's DNA sequence\n",
        "- The number of people attending a football match\n",
        "- Whether or not you use the word \"data\" on a given day"
      ]
    },
    {
      "cell_type": "markdown",
      "metadata": {
        "id": "4xKsb_Y8SOxE"
      },
      "source": [
        "### Data types"
      ]
    },
    {
      "cell_type": "markdown",
      "metadata": {
        "id": "ecrzd9AFSJnV"
      },
      "source": [
        "\u003e **Data type** is an attribute of data that tells the computer the values the data can take and the operations that can be performed on the data.\n",
        "\n",
        "Most languages use the following core data types:\n",
        "\n",
        "- The **integer** (`int`) type represents whole numbers, for example `1` or `-100`.\n",
        "- The **float** (`float`) type represents any real number, for example `-123.456` or `3.14159`.\n",
        "- The **string** (`str`) type represents words and sentence, for example `'cat'` or `'101 Dalmations!'`.\n",
        "- The **boolean** (`bool`) type can only be `True` or `False`."
      ]
    },
    {
      "cell_type": "markdown",
      "metadata": {
        "id": "AE27St44SM2m"
      },
      "source": [
        "The most appropriate data type to use depends on the data you are working with. For example, you can divide two integers or two floats, but not two strings or two booleans.\n",
        "\n",
        "- The weather on a given day should use a **float** (assuming the weather is recorded to decimal places).\n",
        "- A person's DNA sequence should use a **string** since it is a series of letters, e.g. `'CATGAGTC'`.\n",
        "- The number of people attending a football match should use an **integer** since this is always a whole number.\n",
        "- Whether or not you use the word \"data\" on a given day should use a **boolean** since it is either true or false."
      ]
    },
    {
      "cell_type": "markdown",
      "metadata": {
        "id": "lEZ959ESwWnI"
      },
      "source": [
        "### The difference between data structures and data types"
      ]
    },
    {
      "cell_type": "markdown",
      "metadata": {
        "id": "kNFO1REpJ45t"
      },
      "source": [
        "Data structures are different ways of *organizing* data. Data types are different ways of *representing* data. Data structures store data, and that data is encoded using a data type."
      ]
    },
    {
      "cell_type": "markdown",
      "metadata": {
        "id": "jUqrg9XDwlTX"
      },
      "source": [
        "For example, you could have:\n",
        "\n",
        "- An array of integers\n",
        "- A linked list of strings\n",
        "- A set of floats\n",
        "\n",
        "Data structures can also store other data structures! You could have:\n",
        "\n",
        "- An array of maps storing strings\n",
        "- A class with linked lists of integers\n",
        "- A linked list of arrays of sets containing floats"
      ]
    }
  ],
  "metadata": {
    "colab": {
      "collapsed_sections": [],
      "name": "fundamental_data_sructures_overview.ipynb",
      "private_outputs": true,
      "provenance": [ ]
    },
    "kernelspec": {
      "display_name": "Python 3",
      "name": "python3"
    }
  },
  "nbformat": 4,
  "nbformat_minor": 0
}
