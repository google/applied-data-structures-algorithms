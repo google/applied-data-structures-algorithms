{
  "cells": [
    {
      "cell_type": "markdown",
      "metadata": {
        "id": "q_6pbT2d0ER0"
      },
      "source": [
        "# Maps"
      ]
    },
    {
      "cell_type": "markdown",
      "metadata": {
        "id": "ZPFKHRrE5soO"
      },
      "source": [
        "## Lesson Overview"
      ]
    },
    {
      "cell_type": "markdown",
      "metadata": {
        "id": "4v0fqi9D5txl"
      },
      "source": [
        "In this lesson, we will learn about a new type of data structure. Instead of storing single pieces of data, maps store *pairs* of data.\n",
        "\n",
        "\u003e A **map** is a data structure that stores (*key*, *value*) pairs, where each **key** has an associated **value**. In the language of maps, it is also common to hear that \"each key gets mapped to a value.\" It is important to note that a given key can appear at most once.\n"
      ]
    },
    {
      "cell_type": "markdown",
      "metadata": {
        "id": "7jJ0YO04-zPV"
      },
      "source": [
        "You can think of a map as an extension of an array. (In fact, maps are also known as **associative arrays**.) The principal difference between a map and an array is that while the indices of an array must be ordered non-negative integers, the indices (or keys) in a map can be any data type."
      ]
    },
    {
      "cell_type": "markdown",
      "metadata": {
        "id": "Z2RadDWuqBq9"
      },
      "source": [
        "### Maps in Python"
      ]
    },
    {
      "cell_type": "markdown",
      "metadata": {
        "id": "dl6ZcpPeqF0O"
      },
      "source": [
        "Maps in Python are known as **dictionaries**, and this is a particularly illustrative name! You can think of the *key* as the word you want to look up, and the *value* as its definition. A given word can only appear once in an English dictionary, in the same way that a key appears at most once in a map."
      ]
    },
    {
      "cell_type": "markdown",
      "metadata": {
        "id": "00ryvA9WqH1T"
      },
      "source": [
        "Since maps in Python are implemented as dictionaries, throughout this lesson the terms \"map\" and \"dictionary\" are used interchangeably."
      ]
    },
    {
      "cell_type": "markdown",
      "metadata": {
        "id": "W_1VMFGdaWb9"
      },
      "source": [
        "### Creating a map"
      ]
    },
    {
      "cell_type": "markdown",
      "metadata": {
        "id": "2v4gvkPHyhEW"
      },
      "source": [
        "The following map stores the population of the seven continents of Earth, in millions ([source](https://en.wikipedia.org/wiki/Continent))."
      ]
    },
    {
      "cell_type": "code",
      "execution_count": null,
      "metadata": {
        "id": "VtDblzALCtNK"
      },
      "outputs": [],
      "source": [
        "population_map = {\n",
        "    \"Africa\": 1276,\n",
        "    \"Asia\": 4561,\n",
        "    \"Australia\": 39,\n",
        "    \"Europe\": 746,\n",
        "    \"North America\": 579,\n",
        "    \"South America\": 424,\n",
        "}\n",
        "\n",
        "population_map"
      ]
    },
    {
      "cell_type": "markdown",
      "metadata": {
        "id": "VyKOgfz7aaBU"
      },
      "source": [
        "### Adding items to a map"
      ]
    },
    {
      "cell_type": "markdown",
      "metadata": {
        "id": "Y9o3Phu3zdnS"
      },
      "source": [
        "You can add items to a map as follows."
      ]
    },
    {
      "cell_type": "code",
      "execution_count": null,
      "metadata": {
        "id": "On3e4coczrDP"
      },
      "outputs": [],
      "source": [
        "population_map = {\n",
        "    \"Africa\": 1276,\n",
        "    \"Asia\": 4561,\n",
        "    \"Australia\": 39,\n",
        "    \"Europe\": 746,\n",
        "    \"North America\": 579,\n",
        "    \"South America\": 424,\n",
        "}\n",
        "\n",
        "population_map[\"Antarctica\"] = 0\n",
        "\n",
        "population_map"
      ]
    },
    {
      "cell_type": "markdown",
      "metadata": {
        "id": "pbujas-NqlAW"
      },
      "source": [
        "### Accessing items in a map"
      ]
    },
    {
      "cell_type": "markdown",
      "metadata": {
        "id": "34OQbVMcqnzz"
      },
      "source": [
        "You can access an item in a map by referencing the item's key. This is similar to accessing items in an array by reference the index. "
      ]
    },
    {
      "cell_type": "code",
      "execution_count": null,
      "metadata": {
        "id": "aBxa0K3Lqq0T"
      },
      "outputs": [],
      "source": [
        "population_map = {\n",
        "    \"Africa\": 1276,\n",
        "    \"Asia\": 4561,\n",
        "    \"Australia\": 39,\n",
        "    \"Europe\": 746,\n",
        "    \"North America\": 579,\n",
        "    \"South America\": 424,\n",
        "}\n",
        "\n",
        "population_map[\"North America\"]"
      ]
    },
    {
      "cell_type": "markdown",
      "metadata": {
        "id": "JU9EGwKJaeS3"
      },
      "source": [
        "### Deleting an item from a map"
      ]
    },
    {
      "cell_type": "markdown",
      "metadata": {
        "id": "nlZ8Uy9vfyzy"
      },
      "source": [
        "You can delete an item from a map as follows."
      ]
    },
    {
      "cell_type": "code",
      "execution_count": null,
      "metadata": {
        "id": "cBPttRGKf3JT"
      },
      "outputs": [],
      "source": [
        "population_map = {\n",
        "    \"Africa\": 1276,\n",
        "    \"Asia\": 4561,\n",
        "    \"Australia\": 39,\n",
        "    \"Europe\": 746,\n",
        "    \"North America\": 579,\n",
        "    \"South America\": 424,\n",
        "}\n",
        "\n",
        "del population_map[\"Australia\"]"
      ]
    },
    {
      "cell_type": "markdown",
      "metadata": {
        "id": "AiVl8nZxgdMn"
      },
      "source": [
        "If you try to delete a key that does not exist, Python will raise an error."
      ]
    },
    {
      "cell_type": "code",
      "execution_count": null,
      "metadata": {
        "id": "C9xX2vVrgic3"
      },
      "outputs": [],
      "source": [
        "population_map = {\n",
        "    \"Africa\": 1276,\n",
        "    \"Asia\": 4561,\n",
        "    \"Australia\": 39,\n",
        "    \"Europe\": 746,\n",
        "    \"North America\": 579,\n",
        "    \"South America\": 424,\n",
        "}\n",
        "\n",
        "del population_map[\"Gondwanaland\"] # raises an error"
      ]
    },
    {
      "cell_type": "markdown",
      "metadata": {
        "id": "ez1azvqJakyw"
      },
      "source": [
        "### Iterating through a map"
      ]
    },
    {
      "cell_type": "markdown",
      "metadata": {
        "id": "d0jNKGZYDsd5"
      },
      "source": [
        "You can iterate through the `items` in a dictionary as follows."
      ]
    },
    {
      "cell_type": "code",
      "execution_count": null,
      "metadata": {
        "id": "r5_JIXJBC-8n"
      },
      "outputs": [],
      "source": [
        "population_map = {\n",
        "    \"Africa\": 1276,\n",
        "    \"Asia\": 4561,\n",
        "    \"Australia\": 39,\n",
        "    \"Europe\": 746,\n",
        "    \"North America\": 579,\n",
        "    \"South America\": 424,\n",
        "}\n",
        "\n",
        "for c, p in population_map.items():\n",
        "  print(\"%s: population (millions) = %d\" % (c, p))"
      ]
    },
    {
      "cell_type": "markdown",
      "metadata": {
        "id": "koLiyXCPTVws"
      },
      "source": [
        "One of the most important things to remember about maps is that in most languages, a map has no canonical ordering. When you iterate through a map, the order at which the keys are chosen is not necessarily the same each time.\n",
        "\n",
        "Therefore in some languages, the order at which the continents would be printed in may vary each time you iterate.\n",
        "\n",
        "For example, in a language other than Python, you may see this...\n",
        "\n",
        "```python\n",
        "Antarctica: population (millions) = 0\n",
        "Europe: population (millions) = 746\n",
        "Africa: population (millions) = 1276\n",
        "South America: population (millions) = 424\n",
        "Australia: population (millions) = 39\n",
        "Asia: population (millions) = 4561\n",
        "North America: population (millions) = 579\n",
        "```\n",
        "\n",
        "...but you are equally likely to see this, or any other possible ordering.\n",
        "\n",
        "```python\n",
        "Europe: population(millions) = 746\n",
        "Antarctica: population(millions) = 0\n",
        "North America: population(millions) = 579\n",
        "South America: population(millions) = 424\n",
        "Asia: population(millions) = 4561\n",
        "Australia: population(millions) = 39\n",
        "Africa: population(millions) = 1276\n",
        "```\n",
        "\n",
        "In Python, if you run the same iteration over and over again, you *will* get the same order. This is an implementation specificity that is unique to Python, and most lower-level languages like C and Java do not preserve an order.\n",
        "\n",
        "Depending on which *version* of Python you are using, this ordering does not necessarily stay the same when new items are added or existing items are deleted. See [this StackOverflow post and the comments](https://stackoverflow.com/questions/39980323/are-dictionaries-ordered-in-python-3-6) for more information."
      ]
    },
    {
      "cell_type": "markdown",
      "metadata": {
        "id": "nFIG4FRIasb6"
      },
      "source": [
        "### Accessing keys or values"
      ]
    },
    {
      "cell_type": "markdown",
      "metadata": {
        "id": "CinOLSV3F3GE"
      },
      "source": [
        "If you need only to access the keys or values of the dictionary, you can use the `keys()` or `values()` methods, respectively."
      ]
    },
    {
      "cell_type": "code",
      "execution_count": null,
      "metadata": {
        "id": "c_96YZ6WD7Q2"
      },
      "outputs": [],
      "source": [
        "population_map = {\n",
        "    \"Africa\": 1276,\n",
        "    \"Asia\": 4561,\n",
        "    \"Australia\": 39,\n",
        "    \"Europe\": 746,\n",
        "    \"North America\": 579,\n",
        "    \"South America\": 424,\n",
        "}\n",
        "\n",
        "for c in population_map.keys():\n",
        "  print(c)\n",
        "\n",
        "for p in population_map.values():\n",
        "  print(p)"
      ]
    },
    {
      "cell_type": "markdown",
      "metadata": {
        "id": "i50BJztTPEDO"
      },
      "source": [
        "## Question 1"
      ]
    },
    {
      "cell_type": "markdown",
      "metadata": {
        "id": "9jpfn-bXPGef"
      },
      "source": [
        "Which of the following statements about maps are true?"
      ]
    },
    {
      "cell_type": "markdown",
      "metadata": {
        "id": "iq32-0AgJOif"
      },
      "source": [
        "**a)** A map is also known as a dictionary in Python.\n",
        "\n",
        "**b)** You can find a key in a map by looking up that key's value.\n",
        "\n",
        "**c)** The ordering of a map is constant in all languages.\n",
        "\n",
        "**d)** The keys in a map are always unique.\n",
        "\n",
        "**e)** The values in a map are always unique.\n",
        "\n",
        "**f)** The best choice for keys in a map is either integers or strings."
      ]
    },
    {
      "cell_type": "markdown",
      "metadata": {
        "id": "JS014EHEJPBa"
      },
      "source": [
        "### Solution"
      ]
    },
    {
      "cell_type": "markdown",
      "metadata": {
        "id": "mkxfo0feJQHo"
      },
      "source": [
        "The correct answers are **a)**, **d)**, and **f)**.\n",
        "\n",
        "**b)** Be careful, this definition swaps the key and the value.\n",
        "\n",
        "**c)** Maps are generally unordered collections of key-value pairs. Python, however, implements dictionaries such that ordering is maintained.\n",
        "\n",
        "**e)** The values in a map can be anything."
      ]
    },
    {
      "cell_type": "markdown",
      "metadata": {
        "id": "ZBls4weKW62B"
      },
      "source": [
        "## Question 2"
      ]
    },
    {
      "cell_type": "markdown",
      "metadata": {
        "id": "EDurFHMQW9is"
      },
      "source": [
        "Write a function that initializes a map with two given key-value pairs."
      ]
    },
    {
      "cell_type": "code",
      "execution_count": null,
      "metadata": {
        "id": "LRjCs2r6XOgd"
      },
      "outputs": [],
      "source": [
        "def create_map(k1, v1, k2, v2):\n",
        "  \"\"\"Returns a map containing the k1-v1 pair and the k2-v2 pair.\"\"\"\n",
        "  # TODO(you): Implement"
      ]
    },
    {
      "cell_type": "markdown",
      "metadata": {
        "id": "kJTb2E2mfJdx"
      },
      "source": [
        "### Unit Tests\n",
        "\n",
        "Run the following cell to check your answer against some unit tests."
      ]
    },
    {
      "cell_type": "code",
      "execution_count": null,
      "metadata": {
        "id": "2uzJSGRWfL_M"
      },
      "outputs": [],
      "source": [
        "print(create_map(1, 2, 3, 4))\n",
        "# Should print: {1: 2, 3: 4}"
      ]
    },
    {
      "cell_type": "markdown",
      "metadata": {
        "id": "n_ox8OmmXYcf"
      },
      "source": [
        "### Solution"
      ]
    },
    {
      "cell_type": "code",
      "execution_count": null,
      "metadata": {
        "id": "1I1Mdgq-Xam_"
      },
      "outputs": [],
      "source": [
        "def create_map(k1, v1, k2, v2):\n",
        "  \"\"\"Returns a map containing the k1-v1 pair and k2-v2 pair.\"\"\"\n",
        "  return {\n",
        "      k1: v1,\n",
        "      k2: v2,\n",
        "  }"
      ]
    },
    {
      "cell_type": "markdown",
      "metadata": {
        "id": "aHCabQGXgFbN"
      },
      "source": [
        "## Question 3"
      ]
    },
    {
      "cell_type": "markdown",
      "metadata": {
        "id": "vVeHc3JxgHBE"
      },
      "source": [
        "Write a function called `remove_keys` that removes multiple keys from a map."
      ]
    },
    {
      "cell_type": "code",
      "execution_count": null,
      "metadata": {
        "id": "DAvPm8OUgL5F"
      },
      "outputs": [],
      "source": [
        "def remove_keys(map_to_edit, keys):\n",
        "  \"\"\"Removes keys from a map.\n",
        "\n",
        "  Args:\n",
        "    map_to_edit: The input map to be updated.\n",
        "    keys: An array of keys to be removed.\n",
        "  \n",
        "  Returns:\n",
        "    The updated map.\n",
        "  \"\"\"\n",
        "  # TODO(you): Implement"
      ]
    },
    {
      "cell_type": "markdown",
      "metadata": {
        "id": "kjWtFCJsgrUp"
      },
      "source": [
        "### Hint"
      ]
    },
    {
      "cell_type": "markdown",
      "metadata": {
        "id": "6lTnR4xigr45"
      },
      "source": [
        "Remember that you need to check if the key exists in the map before deleting it, otherwise Python raises an error."
      ]
    },
    {
      "cell_type": "markdown",
      "metadata": {
        "id": "KNXe0wOmhB3b"
      },
      "source": [
        "### Unit Tests\n",
        "\n",
        "Run the following cell to check your answer against some unit tests."
      ]
    },
    {
      "cell_type": "code",
      "execution_count": null,
      "metadata": {
        "id": "xAGpxFM8hDBs"
      },
      "outputs": [],
      "source": [
        "print(remove_keys({1: 'one', 2: 'two', 3: 'three'}, [3, 4]))\n",
        "# Should print: {1: 'one', 2: 'two'}"
      ]
    },
    {
      "cell_type": "markdown",
      "metadata": {
        "id": "0XdmPj1kg5rK"
      },
      "source": [
        "### Solution"
      ]
    },
    {
      "cell_type": "code",
      "execution_count": null,
      "metadata": {
        "id": "x6sM497_g4Zp"
      },
      "outputs": [],
      "source": [
        "def remove_keys(map_to_edit, keys):\n",
        "  \"\"\"Removes keys from a map.\n",
        "\n",
        "  Args:\n",
        "    map_to_edit: The input map to be updated.\n",
        "    keys: An array of keys to be removed.\n",
        "  \n",
        "  Returns:\n",
        "    The updated map.\n",
        "  \"\"\"\n",
        "  for k in keys:\n",
        "    if k in map_to_edit.keys():\n",
        "      del map_to_edit[k]\n",
        "  \n",
        "  return map_to_edit"
      ]
    },
    {
      "cell_type": "markdown",
      "metadata": {
        "id": "nH5q4WQx0s3N"
      },
      "source": [
        "## Question 4"
      ]
    },
    {
      "cell_type": "markdown",
      "metadata": {
        "id": "eVy0XuxSRw7A"
      },
      "source": [
        "You are the head of a high school, and are building out your online reporting and grading system. You have two lists:\n",
        "\n",
        "- `ids` contains integer-valued student identification numbers of all the students in the school.\n",
        "- `names` contains string-valued student names of all the students in the school.\n",
        "\n",
        "You want to create a map that can look up a student's name based on a student ID. You may assume that:\n",
        "\n",
        "- The lists are aligned (so the student with ID `ids[i]` is named `names[i]`).\n",
        "- The two lists have the same length.\n",
        "- All elements in each list are unique."
      ]
    },
    {
      "cell_type": "markdown",
      "metadata": {
        "id": "s1VfOZiIbCvy"
      },
      "source": [
        "For example, you may have the following lists for `ids` and `names`."
      ]
    },
    {
      "cell_type": "code",
      "execution_count": null,
      "metadata": {
        "id": "nwf4UL8ywvxf"
      },
      "outputs": [],
      "source": [
        "ids = [56091, 97823, 34549, 12235, 72527, 28458]\n",
        "names = [\"Romeo Montague\",\n",
        "         \"Juliet Capulet\",\n",
        "         \"Hamlet, Prince of Denmark\",\n",
        "         \"Lord Macbeth\",\n",
        "         \"King Lear\",\n",
        "         \"Antonio, the Merchant of Venice\"]"
      ]
    },
    {
      "cell_type": "markdown",
      "metadata": {
        "id": "ba02Vc-VxeAF"
      },
      "source": [
        "Defining a map in Python should look as follows."
      ]
    },
    {
      "cell_type": "code",
      "execution_count": null,
      "metadata": {
        "id": "_bYAOyjjxgJi"
      },
      "outputs": [],
      "source": [
        "id_map = {\n",
        "    56091: \"Romeo Montague\",\n",
        "    97823: \"Juliet Capulet\",\n",
        "    34549: \"Hamlet, Prince of Denmark\",\n",
        "    12235: \"Lord Macbeth\",\n",
        "    72527: \"King Lear\",\n",
        "    28458: \"Antonio, the Merchant of Venice\",\n",
        "}\n",
        "\n",
        "id_map"
      ]
    },
    {
      "cell_type": "markdown",
      "metadata": {
        "id": "10S4TfKHxQ3E"
      },
      "source": [
        "Write a function called `lists_to_map` that uses iteration to place a list of `ids` and a list of `names` into a map, as above."
      ]
    },
    {
      "cell_type": "code",
      "execution_count": null,
      "metadata": {
        "id": "AyJumnhZx5g2"
      },
      "outputs": [],
      "source": [
        "def lists_to_map(ids, names):\n",
        "  \"\"\"Creates a map from two lists.\n",
        "\n",
        "  Args:\n",
        "    ids: A list containing numeric student IDs.\n",
        "    names: A list containing student names.\n",
        "\n",
        "  Returns:\n",
        "    A map from student ID to student name.\n",
        "  \"\"\"\n",
        "  # TODO(you): Implement\n",
        "  print(\"This function has not been implemented.\")"
      ]
    },
    {
      "cell_type": "markdown",
      "metadata": {
        "id": "cFbRORcA1av9"
      },
      "source": [
        "### Unit Tests\n",
        "\n",
        "Run the following cell to check your answer against some unit tests."
      ]
    },
    {
      "cell_type": "code",
      "execution_count": null,
      "metadata": {
        "id": "e_maEV_r1b_B"
      },
      "outputs": [],
      "source": [
        "ids = [56091, 97823, 34549, 12235, 72527, 28458]\n",
        "names = ['Romeo Montague',\n",
        "         'Juliet Capulet',\n",
        "         'Hamlet, Prince of Denmark',\n",
        "         'Lord Macbeth',\n",
        "         'King Lear',\n",
        "         'Antonio, the Merchant of Venice']\n",
        "\n",
        "print(lists_to_map(ids, names))\n",
        "# Should print: {56091: 'Romeo Montague', 97823: 'Juliet Capulet', 34549: 'Hamlet, Prince of Denmark', 12235: 'Lord Macbeth', 72527: 'King Lear', 28458: 'Antonio, the Merchant of Venice'}"
      ]
    },
    {
      "cell_type": "markdown",
      "metadata": {
        "id": "MRq-mv3w8ruT"
      },
      "source": [
        "### Solution"
      ]
    },
    {
      "cell_type": "markdown",
      "metadata": {
        "id": "1Ly2qzeeU9Me"
      },
      "source": [
        "Loop through the length of the lists, and add a new element to the map for each element."
      ]
    },
    {
      "cell_type": "code",
      "execution_count": null,
      "metadata": {
        "id": "qK-q1FfqqaQ8"
      },
      "outputs": [],
      "source": [
        "def lists_to_map(ids, names):\n",
        "  \"\"\"Creates a map from two lists.\n",
        "\n",
        "  Args:\n",
        "    ids: A list containing numeric student IDs.\n",
        "    names: A list containing student names.\n",
        "\n",
        "  Returns:\n",
        "    A map from student ID to student name.\n",
        "  \"\"\"\n",
        "  id_map = {}\n",
        "\n",
        "  for i in range(len(ids)):\n",
        "    id_map[ids[i]] = names[i]\n",
        "  \n",
        "  return id_map"
      ]
    },
    {
      "cell_type": "markdown",
      "metadata": {
        "id": "nd_D9VE-0wNi"
      },
      "source": [
        "## Question 5"
      ]
    },
    {
      "cell_type": "markdown",
      "metadata": {
        "id": "G4cJPCzFWv1b"
      },
      "source": [
        "An online system has flagged that the student with ID number `12235` has not submitted their homework on time.\n",
        "\n",
        "In a previous question, you wrote a `lists_to_map` function that returns a map from a student's ID to their name. Write a function called `name_to_id` that accepts such a map and returns the student name associated with a given ID. Return -1 if the ID is not in the map."
      ]
    },
    {
      "cell_type": "code",
      "execution_count": null,
      "metadata": {
        "id": "0t1zQf3u4XtI"
      },
      "outputs": [],
      "source": [
        "def name_from_id(id_map, id_number):\n",
        "  \"\"\"Gets the student name of a given ID in a student ID map.\n",
        "\n",
        "  Args:\n",
        "    id_map: A map of student IDs to names.\n",
        "    id_number: A specific ID to look up.\n",
        "\n",
        "  Returns:\n",
        "    The student name associated with the ID, or -1 if the ID is not found.\n",
        "  \"\"\"\n",
        "  # TODO(you): Implement\n",
        "  print(\"This function has not been implemented.\")"
      ]
    },
    {
      "cell_type": "markdown",
      "metadata": {
        "id": "BXHgT3Q69C5_"
      },
      "source": [
        "### Unit Tests\n"
      ]
    },
    {
      "cell_type": "code",
      "execution_count": null,
      "metadata": {
        "id": "WD1YTodT9RIm"
      },
      "outputs": [],
      "source": [
        "id_map = {\n",
        "    56091: \"Romeo Montague\",\n",
        "    97823: \"Juliet Capulet\",\n",
        "    34549: \"Hamlet, Prince of Denmark\",\n",
        "    12235: \"Lord Macbeth\",\n",
        "    72527: \"King Lear\",\n",
        "    28458: \"Antonio, the Merchant of Venice\",\n",
        "}\n",
        "\n",
        "print(name_from_id(id_map, 12235))\n",
        "# Should print: 'Lord Macbeth'"
      ]
    },
    {
      "cell_type": "markdown",
      "metadata": {
        "id": "qx6IWaOI9xXq"
      },
      "source": [
        "### Solution"
      ]
    },
    {
      "cell_type": "markdown",
      "metadata": {
        "id": "XjcGbueVXZKw"
      },
      "source": [
        "Looking up a value by a key in a map is exactly what maps are best at!"
      ]
    },
    {
      "cell_type": "code",
      "execution_count": null,
      "metadata": {
        "id": "7zm9lz6I4vKr"
      },
      "outputs": [],
      "source": [
        "def name_from_id(id_map, id_number):\n",
        "  \"\"\"Gets the student name of a given ID in a student ID map.\n",
        "\n",
        "  Args:\n",
        "    id_map: A map of student IDs to names.\n",
        "    id_number: A specific ID to look up.\n",
        "\n",
        "  Returns:\n",
        "    The student name associated with the ID, or -1 if the ID is not found.\n",
        "  \"\"\"\n",
        "  if id_number in id_map.keys():\n",
        "    return id_map[id_number]\n",
        "  else:\n",
        "    return -1"
      ]
    },
    {
      "cell_type": "markdown",
      "metadata": {
        "id": "tl5FDze40yO9"
      },
      "source": [
        "## Question 6"
      ]
    },
    {
      "cell_type": "markdown",
      "metadata": {
        "id": "MDtFmVPfXw3O"
      },
      "source": [
        "A representative from the [House of Montague](https://en.wikipedia.org/wiki/Characters_in_Romeo_and_Juliet#House_of_Montague) has called the school to inform you that Romeo Montague will be late to school. In order to alert all of his teachers via the online system, you need the student's ID number.\n",
        "\n",
        "In a previous question, you wrote a `lists_to_map` function that returns a map from a student's ID to their name. Write a function called `id_from_name` that accepts such a map and returns the student ID associated with a given name. Return -1 if the name is not found in the map."
      ]
    },
    {
      "cell_type": "code",
      "execution_count": null,
      "metadata": {
        "id": "fwQTFhn55vby"
      },
      "outputs": [],
      "source": [
        "def id_from_name(id_map, name):\n",
        "  \"\"\"Gets the student ID of a given name in a student ID map.\n",
        "\n",
        "  Args:\n",
        "    id_map: A map of student IDs to names.\n",
        "    name: A specific name to look up.\n",
        "\n",
        "  Returns:\n",
        "    The student ID associated with the name, or -1 if the name is not found.\n",
        "  \"\"\"\n",
        "  # TODO(you): Implement\n",
        "  print(\"This function has not been implemented.\")"
      ]
    },
    {
      "cell_type": "markdown",
      "metadata": {
        "id": "iNxuwXTx_j7b"
      },
      "source": [
        "### Unit Tests\n",
        "\n",
        "Run the following cell to check your answer against some unit tests."
      ]
    },
    {
      "cell_type": "code",
      "execution_count": null,
      "metadata": {
        "id": "sqNFmfP_6sZ3"
      },
      "outputs": [],
      "source": [
        "id_map = {\n",
        "    56091: \"Romeo Montague\",\n",
        "    97823: \"Juliet Capulet\",\n",
        "    34549: \"Hamlet, Prince of Denmark\",\n",
        "    12235: \"Lord Macbeth\",\n",
        "    72527: \"King Lear\",\n",
        "    28458: \"Antonio, the Merchant of Venice\",\n",
        "}\n",
        "\n",
        "print(id_from_name(id_map, 'Romeo Montague'))\n",
        "# Should print: 56091"
      ]
    },
    {
      "cell_type": "markdown",
      "metadata": {
        "id": "ZRLeCyKs_2zd"
      },
      "source": [
        "### Solution"
      ]
    },
    {
      "cell_type": "markdown",
      "metadata": {
        "id": "CY1wCCz8Ys_m"
      },
      "source": [
        "Unfortunately, looking up a key based on a value is not so trivial. This is because the map is indexed by its key, so each key is necessarily unique, and the value is stored in the bucket created by the key.\n",
        "\n",
        "To find a key based on a value, we need to loop through all values until we find the key that stores the value we are looking for."
      ]
    },
    {
      "cell_type": "code",
      "execution_count": null,
      "metadata": {
        "id": "LBRYZzwG6SSN"
      },
      "outputs": [],
      "source": [
        "def id_from_name(id_map, name):\n",
        "  \"\"\"Gets the student ID of a given name in a student ID map.\n",
        "\n",
        "  Args:\n",
        "    id_map: A map of student IDs to names.\n",
        "    name: A specific name to look up.\n",
        "\n",
        "  Returns:\n",
        "    The student ID associated with the name, or -1 if the name is not found.\n",
        "  \"\"\"\n",
        "  # Loop through id_map until we find the name we are looking for.\n",
        "  for id, n in id_map.items():\n",
        "    if n == name:\n",
        "      return id\n",
        "\n",
        "  # Return -1 if no matching name is found.\n",
        "  return -1"
      ]
    },
    {
      "cell_type": "markdown",
      "metadata": {
        "id": "4-b1p2Vl0z6Q"
      },
      "source": [
        "## Question 7"
      ]
    },
    {
      "cell_type": "markdown",
      "metadata": {
        "id": "pfJDN_tZaBr4"
      },
      "source": [
        "While it is true that ID numbers (keys) should always be unique at a school, it is *not* always true that names (values) are unique. This is also true in a map. While keys must be unique (if you try to add a duplicate key to a map, your compiler will throw an error), values are not necessarily unique.\n",
        "\n",
        "Write a function to return an array of *all* IDs for a given name."
      ]
    },
    {
      "cell_type": "code",
      "execution_count": null,
      "metadata": {
        "id": "p1sFz3v0Islf"
      },
      "outputs": [],
      "source": [
        "def ids_from_name(id_map, name):\n",
        "  \"\"\"Gets the student IDs of a given name in a student ID map.\n",
        "\n",
        "  Args:\n",
        "    id_map: A map of student IDs to names.\n",
        "    name: A specific name to look up.\n",
        "\n",
        "  Returns:\n",
        "    A list of all student IDs associated with the name, or -1 if the name is not\n",
        "    found.\n",
        "  \"\"\"\n",
        "  # TODO(you): Implement\n",
        "  print(\"This function has not been implemented.\")"
      ]
    },
    {
      "cell_type": "markdown",
      "metadata": {
        "id": "KNXvzXiPBc-E"
      },
      "source": [
        "### Unit Tests\n",
        "\n",
        "Run the following cell to check your answer against some unit tests."
      ]
    },
    {
      "cell_type": "code",
      "execution_count": null,
      "metadata": {
        "id": "_OoCzQAyJKDx"
      },
      "outputs": [],
      "source": [
        "id_map = {\n",
        "    56091: \"Romeo Montague\",\n",
        "    97823: \"Juliet Capulet\",\n",
        "    34549: \"Hamlet, Prince of Denmark\",\n",
        "    12235: \"Lord Macbeth\",\n",
        "    72527: \"King Lear\",\n",
        "    28458: \"Antonio, the Merchant of Venice\",\n",
        "}\n",
        "\n",
        "id_map[49392] = \"Juliet Capulet\"\n",
        "print(ids_from_name(id_map, \"Juliet Capulet\"))\n",
        "# Should print: [97823, 49392]"
      ]
    },
    {
      "cell_type": "markdown",
      "metadata": {
        "id": "5ihX_is0U6t5"
      },
      "source": [
        "### Solution"
      ]
    },
    {
      "cell_type": "markdown",
      "metadata": {
        "id": "SmtG0ddPa_Nn"
      },
      "source": [
        "Instead of returning the matching ID as soon we find it, we append it to an output list."
      ]
    },
    {
      "cell_type": "code",
      "execution_count": null,
      "metadata": {
        "id": "sx3bXgqHI-dD"
      },
      "outputs": [],
      "source": [
        "def ids_from_name(id_map, name):\n",
        "  \"\"\"Gets the student ID of a given name in a student ID map.\n",
        "\n",
        "  Args:\n",
        "    id_map: A map of student IDs to names.\n",
        "    name: A specific name to look up.\n",
        "\n",
        "  Returns:\n",
        "    A list of all student IDs associated with the name, or -1 if the name is not\n",
        "    found.\n",
        "  \"\"\"\n",
        "  # Loop through id_map until we find the name we are looking for.\n",
        "  ids = []\n",
        "\n",
        "  for id_number, n in id_map.items():\n",
        "    if n == name:\n",
        "      ids.append(id_number)\n",
        "\n",
        "  return ids"
      ]
    },
    {
      "cell_type": "markdown",
      "metadata": {
        "id": "RVHRCWjpCVhE"
      },
      "source": [
        "## Question 8"
      ]
    },
    {
      "cell_type": "markdown",
      "metadata": {
        "id": "HphFq1pliGZ5"
      },
      "source": [
        "Your favorite novel, [*Jane Eyre*](https://en.wikipedia.org/wiki/Jane_Eyre), has been digitized; you can now read it online! As an exercise, you want to find out which words appear most frequently in the book. In order to do this, you want to create a map of all the words in the book, where the keys are the words, and the values are the number of occurences."
      ]
    },
    {
      "cell_type": "markdown",
      "metadata": {
        "id": "Ctedgpmwbhfk"
      },
      "source": [
        "The words are currently stored in a list called `words`. You can assume that all punctuation has been removed. Remember to convert your words to lower case. Your map should look something like this. (Note these are not the true word counts in *Jane Eyre*.)"
      ]
    },
    {
      "cell_type": "markdown",
      "metadata": {
        "id": "JEGzGGGHiVWY"
      },
      "source": [
        "```Python \n",
        "{\n",
        "  \"jane\": 1234,\n",
        "  \"the\": 12345,\n",
        "  \"a\": 123456,\n",
        "  \"love\": 123,\n",
        "  ...\n",
        "}\n",
        "```"
      ]
    },
    {
      "cell_type": "markdown",
      "metadata": {
        "id": "vBuQFr_ucBYe"
      },
      "source": [
        "Write a function to return a map of string to the number of occurences."
      ]
    },
    {
      "cell_type": "markdown",
      "metadata": {
        "id": "NE92EDKSsSKq"
      },
      "source": [
        "For example, if you ran your function on this particular excerpt from *Jane Eyre*, you should get the following map.\n",
        "\n",
        "\u003e _\"I do not think, sir, you have a right to command me, merely because you are older than I, or because you have seen more of the world than I have; your claim to superiority depends on the use you have made of your time and experience.\"_"
      ]
    },
    {
      "cell_type": "markdown",
      "metadata": {
        "id": "LWI6fAHSicOj"
      },
      "source": [
        "```Python\n",
        "{\n",
        "    'i': 3,\n",
        "    'do': 1,\n",
        "    'not': 1,\n",
        "    'think': 1,\n",
        "    'sir': 1,\n",
        "    'you': 4,\n",
        "    'have': 4,\n",
        "    'a': 1,\n",
        "    'right': 1,\n",
        "    'to': 2,\n",
        "    'command': 1,\n",
        "    'me': 1,\n",
        "    'merely': 1,\n",
        "    'because': 2,\n",
        "    'are': 1,\n",
        "    'older': 1,\n",
        "    'than': 2,\n",
        "    'or': 1,\n",
        "    'seen': 1,\n",
        "    'more': 1,\n",
        "    'of': 2,\n",
        "    'the': 2,\n",
        "    'world': 1,\n",
        "    'your': 2,\n",
        "    'claim': 1,\n",
        "    'superiority': 1,\n",
        "    'depends': 1,\n",
        "    'on': 1,\n",
        "    'use': 1,\n",
        "    'made': 1,\n",
        "    'time': 1,\n",
        "    'and': 1,\n",
        "    'experience': 1,\n",
        "}\n",
        "```"
      ]
    },
    {
      "cell_type": "code",
      "execution_count": null,
      "metadata": {
        "id": "xWjUZSdAgAKK"
      },
      "outputs": [],
      "source": [
        "def word_count(words):\n",
        "  \"\"\"Creates a map of unique words to the number of occurences.\n",
        "\n",
        "  Args:\n",
        "    words: A list of words.\n",
        "\n",
        "  Returns:\n",
        "    A map keyed by words to the number of occurences of that word in the list.\n",
        "  \"\"\"\n",
        "  # TODO(you): Implement\n",
        "  print(\"This function has not been implemented.\")"
      ]
    },
    {
      "cell_type": "markdown",
      "metadata": {
        "id": "qv_VNqavDoqx"
      },
      "source": [
        "### Unit Tests\n",
        "\n",
        "Run the following cell to check your answer against some unit tests."
      ]
    },
    {
      "cell_type": "code",
      "execution_count": null,
      "metadata": {
        "id": "4Mss0pYcsU6b"
      },
      "outputs": [],
      "source": [
        "words = [\n",
        "    \"I\", \"do\", \"not\", \"think\", \"sir\", \"you\", \"have\", \"a\", \"right\", \"to\",\n",
        "    \"command\", \"me\", \"merely\", \"because\", \"you\", \"are\", \"older\", \"than\", \"I\",\n",
        "    \"or\", \"because\", \"you\", \"have\", \"seen\", \"more\", \"of\", \"the\", \"world\",\n",
        "    \"than\", \"I\", \"have\", \"your\", \"claim\", \"to\", \"superiority\", \"depends\", \"on\",\n",
        "    \"the\", \"use\", \"you\", \"have\", \"made\", \"of\", \"your\", \"time\", \"and\",\n",
        "    \"experience\"\n",
        "]\n",
        "\n",
        "print(word_count(words))\n",
        "# Should print: {'i': 3, 'do': 1, 'not': 1, 'think': 1, 'sir': 1, 'you': 4, 'have': 4, 'a': 1, 'right': 1, 'to': 2, 'command': 1, 'me': 1, 'merely': 1, 'because': 2, 'are': 1, 'older': 1, 'than': 2, 'or': 1, 'seen': 1, 'more': 1, 'of': 2, 'the': 2, 'world': 1, 'your': 2, 'claim': 1, 'superiority': 1, 'depends': 1, 'on': 1, 'use': 1, 'made': 1, 'time': 1, 'and': 1, 'experience': 1}"
      ]
    },
    {
      "cell_type": "markdown",
      "metadata": {
        "id": "NvsBW33NC8oQ"
      },
      "source": [
        "### Solution"
      ]
    },
    {
      "cell_type": "markdown",
      "metadata": {
        "id": "_acWKaRRjzmj"
      },
      "source": [
        "We will need to loop through all of the words in `words`. Each time we see a word, we will increment the value associated with that word by one."
      ]
    },
    {
      "cell_type": "code",
      "execution_count": null,
      "metadata": {
        "id": "rznXU1-vrz5t"
      },
      "outputs": [],
      "source": [
        "#persistent\n",
        "def word_count(words):\n",
        "  \"\"\"Creates a map of unique words to the number of occurences.\n",
        "\n",
        "  Args:\n",
        "    words: A list of words.\n",
        "\n",
        "  Returns:\n",
        "    A map keyed by words to the number of occurences of that word in the list.\n",
        "  \"\"\"\n",
        "  word_map = {}\n",
        "\n",
        "  for w in words:\n",
        "    w = w.lower()\n",
        "    # Check if the word exists in the map.\n",
        "    if w in word_map.keys():\n",
        "      # If so, increment it by 1.\n",
        "      word_map[w] += 1\n",
        "    else:\n",
        "      # If not, initialize the value at 1.\n",
        "      word_map[w] = 1\n",
        "\n",
        "  return word_map"
      ]
    },
    {
      "cell_type": "markdown",
      "metadata": {
        "id": "zTxexHymCYWp"
      },
      "source": [
        "## Question 9"
      ]
    },
    {
      "cell_type": "markdown",
      "metadata": {
        "id": "o58jDVODk-Rj"
      },
      "source": [
        "Now that you have mapped all the words to their number of occurrences, you can find out which words are used the most!\n",
        "\n",
        "The first thing you need to do here is to create an inverse of the map created by `word_count`. This map will be keyed by integers, and each value will be a list of words that have that particular frequency. In most languages, sorting a map by its values is non-trivial, especially for languages where a map's order is not deterministic. However, sorting a map by its keys is more simple; you can sort the `keys` array, then look up each sorted key in the map.\n",
        "\n",
        "For this case, once you have a map keyed by the occurence, you can see which occurences are the highest, and then look up the inverse word map to see which words have this occurence."
      ]
    },
    {
      "cell_type": "markdown",
      "metadata": {
        "id": "oyrfs7uYE2Pv"
      },
      "source": [
        "For example, if you have the following sentence from [JFK's inauguration speech](https://en.wikipedia.org/wiki/Inauguration_of_John_F._Kennedy):\n",
        "\n",
        "\u003e _\"And so, my fellow Americans: ask not what your country can do for you; ask what you can do for your country.\"_\n",
        "\n",
        "Your `word_count` function from the previous problem produces the following map."
      ]
    },
    {
      "cell_type": "markdown",
      "metadata": {
        "id": "BeZWtfhVijNX"
      },
      "source": [
        "```Python\n",
        "{\n",
        "    \"and\": 1,\n",
        "    \"so\": 1,\n",
        "    \"my\": 1,\n",
        "    \"fellow\": 1,\n",
        "    \"americans\": 1,\n",
        "    \"ask\": 2,\n",
        "    \"not\": 1,\n",
        "    \"what\": 2,\n",
        "    \"your\": 2,\n",
        "    \"country\": 2,\n",
        "    \"can\": 2,\n",
        "    \"do\": 2,\n",
        "    \"for\": 2,\n",
        "    \"you\": 2,\n",
        "}\n",
        "```"
      ]
    },
    {
      "cell_type": "markdown",
      "metadata": {
        "id": "rDvW8qoUcdqY"
      },
      "source": [
        "And then your `invert_word_count` function should take that map, and produce the following map."
      ]
    },
    {
      "cell_type": "markdown",
      "metadata": {
        "id": "Wr6N2yRWinwb"
      },
      "source": [
        "```Python\n",
        "{\n",
        "  1: [\"and\", \"so\", \"my\", \"fellow\", \"americans\", \"not\"],\n",
        "  2: [\"ask\", \"what\", \"your\", \"country\", \"can\", \"do\", \"for\", \"you\"],\n",
        "}\n",
        "```"
      ]
    },
    {
      "cell_type": "code",
      "execution_count": null,
      "metadata": {
        "id": "Rwcb38JwutAh"
      },
      "outputs": [],
      "source": [
        "def invert_word_count(word_map):\n",
        "  \"\"\"Invert the result of the word_count function.\n",
        "\n",
        "  Args:\n",
        "    word_map: A result of the word_count function.\n",
        "\n",
        "  Returns:\n",
        "    An inverted map, keyed by integer occurences, with values as lists of words\n",
        "    with that occurence.\n",
        "  \"\"\"\n",
        "  # TODO(you): Implement\n",
        "  print(\"This function has not been implemented.\")"
      ]
    },
    {
      "cell_type": "markdown",
      "metadata": {
        "id": "nGSKIHQIFXxz"
      },
      "source": [
        "### Unit Tests\n",
        "\n",
        "Run the following cell to check your answer against some unit tests."
      ]
    },
    {
      "cell_type": "code",
      "execution_count": null,
      "metadata": {
        "id": "fK9jalyYFY8K"
      },
      "outputs": [],
      "source": [
        "word_map = {\n",
        "    'i': 3,\n",
        "    'do': 1,\n",
        "    'not': 1,\n",
        "    'think': 1,\n",
        "    'sir': 1,\n",
        "    'you': 4,\n",
        "    'have': 4,\n",
        "    'a': 1,\n",
        "    'right': 1,\n",
        "    'to': 2,\n",
        "    'command': 1,\n",
        "    'me': 1,\n",
        "    'merely': 1,\n",
        "    'because': 2,\n",
        "    'are': 1,\n",
        "    'older': 1,\n",
        "    'than': 2,\n",
        "    'or': 1,\n",
        "    'seen': 1,\n",
        "    'more': 1,\n",
        "    'of': 2,\n",
        "    'the': 2,\n",
        "    'world': 1,\n",
        "    'your': 2,\n",
        "    'claim': 1,\n",
        "    'superiority': 1,\n",
        "    'depends': 1,\n",
        "    'on': 1,\n",
        "    'use': 1,\n",
        "    'made': 1,\n",
        "    'time': 1,\n",
        "    'and': 1,\n",
        "    'experience': 1,\n",
        "}\n",
        "\n",
        "print(invert_word_count(word_map))\n",
        "# Should print: {3: ['i'], 1: ['do', 'not', 'think', 'sir', 'a', 'right', 'command', 'me', 'merely', 'are', 'older', 'or', 'seen', 'more', 'world', 'claim', 'superiority', 'depends', 'on', 'use', 'made', 'time', 'and', 'experience'], 4: ['you', 'have'], 2: ['to', 'because', 'than', 'of', 'the', 'your']}"
      ]
    },
    {
      "cell_type": "markdown",
      "metadata": {
        "id": "6nWzJc5Fjxv4"
      },
      "source": [
        "### Solution"
      ]
    },
    {
      "cell_type": "code",
      "execution_count": null,
      "metadata": {
        "id": "nRVi-vNhcqmm"
      },
      "outputs": [],
      "source": [
        "def word_count(words):\n",
        "  \"\"\"Creates a map of unique words to the number of occurences.\n",
        "\n",
        "  Args:\n",
        "    words: A list of words.\n",
        "\n",
        "  Returns:\n",
        "    A map keyed by words to the number of occurences of that word in the list.\n",
        "  \"\"\"\n",
        "  word_map = {}\n",
        "\n",
        "  for w in words:\n",
        "    w = w.lower()\n",
        "    # Check if the word exists in the map.\n",
        "    if w in word_map.keys():\n",
        "      # If so, increment it by 1.\n",
        "      word_map[w] += 1\n",
        "    else:\n",
        "      # If not, initialize the value at 1.\n",
        "      word_map[w] = 1\n",
        "\n",
        "  return word_map"
      ]
    },
    {
      "cell_type": "code",
      "execution_count": null,
      "metadata": {
        "id": "qPFJvA_1vLUQ"
      },
      "outputs": [],
      "source": [
        "def invert_word_count(word_map):\n",
        "  \"\"\"Invert the result of the word_count function.\n",
        "\n",
        "  Args:\n",
        "    word_map: A result of the word_count function.\n",
        "\n",
        "  Returns:\n",
        "    An inverted map, keyed by integer occurences, with values as lists of words\n",
        "    with that occurence.\n",
        "  \"\"\"\n",
        "  output = {}\n",
        "\n",
        "  for word, count in word_map.items():\n",
        "    # Check if the count is already in the map.\n",
        "    if count in output.keys():\n",
        "      # Append the new word.\n",
        "      output[count].append(word)\n",
        "    else:\n",
        "      # Add the (count, word) pair.\n",
        "      output[count] = [word]\n",
        "\n",
        "  return output"
      ]
    },
    {
      "cell_type": "code",
      "execution_count": null,
      "metadata": {
        "id": "tyQOrJQfv-Of"
      },
      "outputs": [],
      "source": [
        "words = [\n",
        "    \"I\", \"do\", \"not\", \"think\", \"sir\", \"you\", \"have\", \"a\", \"right\", \"to\",\n",
        "    \"command\", \"me\", \"merely\", \"because\", \"you\", \"are\", \"older\", \"than\", \"I\",\n",
        "    \"or\", \"because\", \"you\", \"have\", \"seen\", \"more\", \"of\", \"the\", \"world\",\n",
        "    \"than\", \"I\", \"have\", \"your\", \"claim\", \"to\", \"superiority\", \"depends\", \"on\",\n",
        "    \"the\", \"use\", \"you\", \"have\", \"made\", \"of\", \"your\", \"time\", \"and\",\n",
        "    \"experience\"\n",
        "]\n",
        "\n",
        "word_map = word_count(words)\n",
        "invert_word_count(word_map)"
      ]
    },
    {
      "cell_type": "markdown",
      "metadata": {
        "id": "P1A0K-h0Dr-H"
      },
      "source": [
        "Now that we have a word count map keyed by the number of occurences, we can find the most used words. For example, suppose we want to calculate the word(s) with the highest frequency."
      ]
    },
    {
      "cell_type": "code",
      "execution_count": null,
      "metadata": {
        "id": "g7Wl31WuDyZx"
      },
      "outputs": [],
      "source": [
        "inverse_word_map = invert_word_count(word_map)\n",
        "word_frequencies = list(inverse_word_map.keys())\n",
        "# Sort the word frequences in descending order.\n",
        "sorted_word_frequencies = sorted(word_frequencies, reverse=True)\n",
        "print(sorted_word_frequencies)"
      ]
    },
    {
      "cell_type": "markdown",
      "metadata": {
        "id": "SjPTn_vbEYkU"
      },
      "source": [
        "We can then access the inverse map to see which words have a given frequency."
      ]
    },
    {
      "cell_type": "code",
      "execution_count": null,
      "metadata": {
        "id": "b2DQtccCE1lh"
      },
      "outputs": [],
      "source": [
        "most_used_words = inverse_word_map[sorted_word_frequencies[0]]\n",
        "print(most_used_words)"
      ]
    },
    {
      "cell_type": "markdown",
      "metadata": {
        "id": "AVWQbdQjFk6n"
      },
      "source": [
        "We can also find all words that have a frequency higher than some threshold."
      ]
    },
    {
      "cell_type": "code",
      "execution_count": null,
      "metadata": {
        "id": "MF-XvogNFpqv"
      },
      "outputs": [],
      "source": [
        "THRESHOLD = 2\n",
        "words_above_threshold = []\n",
        "\n",
        "for frequency in sorted_word_frequencies:\n",
        "  if frequency \u003e THRESHOLD:\n",
        "    words_above_threshold.extend(inverse_word_map[frequency])\n",
        "  # Since the frequencies are sorted, we know that once a value is not above the\n",
        "  # threshold, all following values are also not above the threshold. Therefore,\n",
        "  # we can break the loop.\n",
        "  else:\n",
        "    break\n",
        "\n",
        "print(words_above_threshold)"
      ]
    },
    {
      "cell_type": "markdown",
      "metadata": {
        "id": "3IKaDtaxG1rD"
      },
      "source": [
        "## Question 10"
      ]
    },
    {
      "cell_type": "markdown",
      "metadata": {
        "id": "YrucZo_QAVn8"
      },
      "source": [
        "You work for the local zoo, and are in charge of the database that keeps track of the animals in the zoo. You store this data as a dictionary called `animal_names`, where the key is the type of animal, and the values are string lists containing the names of the animals for a given type. Here is an example of this map. (The actual zoo is bigger and contains more animals; this is just an example.)"
      ]
    },
    {
      "cell_type": "code",
      "execution_count": null,
      "metadata": {
        "id": "cnRVRtojQn_z"
      },
      "outputs": [],
      "source": [
        "animal_names = {\n",
        "    \"zebra\": [\"Zoe\"],\n",
        "    \"wombat\": [\"Wally\", \"Wanda\"],\n",
        "    \"parrot\": [\"Paul\", \"Peter\", \"Penelope\"],\n",
        "    \"snake\": [\"Sally\", \"Sam\"],\n",
        "    \"koala\": [\"Kevin\"],\n",
        "    \"alligator\": [\"Annie\", \"Alan\"],\n",
        "}"
      ]
    },
    {
      "cell_type": "markdown",
      "metadata": {
        "id": "D8M9B7J8Q16w"
      },
      "source": [
        "Your coworker is trying to use this data structure to count the total number of animals in the zoo. Here is their code, but it is currently throwing an error, indicating that the addition is incompatible. What is wrong with their code?"
      ]
    },
    {
      "cell_type": "code",
      "execution_count": null,
      "metadata": {
        "id": "4spJIHRgQZ8C"
      },
      "outputs": [],
      "source": [
        "def count_animals(animal_names):\n",
        "  animal_count = 0\n",
        "\n",
        "  for names in animal_names.values():\n",
        "    animal_count += names\n",
        "\n",
        "  return animal_count"
      ]
    },
    {
      "cell_type": "markdown",
      "metadata": {
        "id": "lA-HjuHogIBy"
      },
      "source": [
        "### Unit Tests\n",
        "\n",
        "Run the following cell to check your answer against some unit tests."
      ]
    },
    {
      "cell_type": "code",
      "execution_count": null,
      "metadata": {
        "id": "LpKYy_7EgahA"
      },
      "outputs": [],
      "source": [
        "animal_names = {\n",
        "    \"zebra\": [\"Zoe\"],\n",
        "    \"wombat\": [\"Wally\", \"Wanda\"],\n",
        "    \"parrot\": [\"Paul\", \"Peter\", \"Penelope\"],\n",
        "    \"snake\": [\"Sally\", \"Sam\"],\n",
        "    \"koala\": [\"Kevin\"],\n",
        "    \"alligator\": [\"Annie\", \"Alan\"],\n",
        "}\n",
        "\n",
        "print(count_animals(animal_names))\n",
        "# Should print: 11"
      ]
    },
    {
      "cell_type": "markdown",
      "metadata": {
        "id": "fYm6ihurfHhn"
      },
      "source": [
        "### Solution"
      ]
    },
    {
      "cell_type": "markdown",
      "metadata": {
        "id": "9kpEAniPgp53"
      },
      "source": [
        "The problem is that `names` is a list and cannot be added to the integer `animal_count`. Instead of adding the list itself, your coworker should add the length of the list."
      ]
    },
    {
      "cell_type": "code",
      "execution_count": null,
      "metadata": {
        "id": "zMwE7meSRKZG"
      },
      "outputs": [],
      "source": [
        "def count_animals(animal_names):\n",
        "  animal_count = 0\n",
        "\n",
        "  for names in animal_names.values():\n",
        "    animal_count += len(names)\n",
        "\n",
        "  return animal_count"
      ]
    },
    {
      "cell_type": "markdown",
      "metadata": {
        "id": "drc00vsYG36_"
      },
      "source": [
        "## Question 11"
      ]
    },
    {
      "cell_type": "markdown",
      "metadata": {
        "id": "qLv_wtSVhTGh"
      },
      "source": [
        "There is another map in your database, indicating the class of animal (e.g. \"mammal\", \"reptile\"), called `animal_classes`. Here is an example of this map. Again, the zoo contains several more animals and classes; this is just an example."
      ]
    },
    {
      "cell_type": "code",
      "execution_count": null,
      "metadata": {
        "id": "4xFueV0PRft4"
      },
      "outputs": [],
      "source": [
        "animal_classes = {\n",
        "    \"mammal\": [\"zebra\", \"wombat\", \"koala\"],\n",
        "    \"bird\": [\"parrot\"],\n",
        "    \"reptile\": [\"snake\", \"alligator\"],\n",
        "}"
      ]
    },
    {
      "cell_type": "markdown",
      "metadata": {
        "id": "k4ejHn71S7La"
      },
      "source": [
        "Your coworker wants to build a tiered map that contains the class, species, and all the names of the animals in the zoo."
      ]
    },
    {
      "cell_type": "code",
      "execution_count": null,
      "metadata": {
        "id": "rcmGnXKWS_Zu"
      },
      "outputs": [],
      "source": [
        "{\n",
        "  \"mammal\": {\n",
        "    \"zebra\": [\"Zoe\"],\n",
        "    \"wombat\": [\"Wally\", \"Wanda\"],\n",
        "    \"koala\": [\"Kevin\"],\n",
        "  },\n",
        "  \"bird\": {\n",
        "    \"parrot\": [\"Paul\", \"Peter\", \"Penelope\"],\n",
        "  },\n",
        "  \"reptile\": {\n",
        "    \"snake\": [\"Sally\", \"Sam\"],\n",
        "    \"alligator\": [\"Annie\", \"Alan\"],\n",
        "  },\n",
        "}"
      ]
    },
    {
      "cell_type": "markdown",
      "metadata": {
        "id": "YhfuyngBTQxJ"
      },
      "source": [
        "This is your coworker's code, which is not working. The `tiered_map` dictionary is empty after the code runs, and the `species_map` dictionary contains data for only one species. Can you fix this code?"
      ]
    },
    {
      "cell_type": "code",
      "execution_count": null,
      "metadata": {
        "id": "VPlq_2HnTUSn"
      },
      "outputs": [],
      "source": [
        "def build_tiered_map(animal_to_name_map, class_to_species_map):\n",
        "  \"\"\"Returns a map from animal classes to species to names.\"\"\"\n",
        "  tiered_map = {}\n",
        "\n",
        "  for cl, species in class_to_species_map.items():\n",
        "    for s in species:\n",
        "      # species_map maps species to animal names.\n",
        "      species_map = {}\n",
        "      species_map[s] = animal_to_name_map[s]\n",
        "\n",
        "  return tiered_map"
      ]
    },
    {
      "cell_type": "markdown",
      "metadata": {
        "id": "7q87L6jFhq6N"
      },
      "source": [
        "### Unit Tests\n",
        "\n",
        "Run the following cell to check your answer against some unit tests."
      ]
    },
    {
      "cell_type": "code",
      "execution_count": null,
      "metadata": {
        "id": "uGWQhTjLhuu4"
      },
      "outputs": [],
      "source": [
        "animal_names = {\n",
        "    \"zebra\": [\"Zoe\"],\n",
        "    \"wombat\": [\"Wally\", \"Wanda\"],\n",
        "    \"parrot\": [\"Paul\", \"Peter\", \"Penelope\"],\n",
        "    \"snake\": [\"Sally\", \"Sam\"],\n",
        "    \"koala\": [\"Kevin\"],\n",
        "    \"alligator\": [\"Annie\", \"Alan\"],\n",
        "}\n",
        "\n",
        "animal_classes = {\n",
        "    \"mammal\": [\"zebra\", \"wombat\", \"koala\"],\n",
        "    \"bird\": [\"parrot\"],\n",
        "    \"reptile\": [\"snake\", \"alligator\"],\n",
        "}\n",
        "\n",
        "print(build_tiered_map(animal_names, animal_classes))\n",
        "# Should print: {'mammal': {'zebra': ['Zoe'], 'wombat': ['Wally', 'Wanda'], 'koala': ['Kevin']}, 'bird': {'parrot': ['Paul', 'Peter', 'Penelope']}, 'reptile': {'snake': ['Sally', 'Sam'], 'alligator': ['Annie', 'Alan']}}"
      ]
    },
    {
      "cell_type": "markdown",
      "metadata": {
        "id": "NzLAA2M_jIfC"
      },
      "source": [
        "### Solution"
      ]
    },
    {
      "cell_type": "markdown",
      "metadata": {
        "id": "Ed-tQuS-iBAu"
      },
      "source": [
        "There are two problems with this code:\n",
        "\n",
        "1. At no stage does this code add any key-value pairs to `tiered_map`.\n",
        "2. `species_map` is re-created for every species, whereas it should be created only once.\n",
        "\n",
        "To fix these, first move the creation of `species_map` outside the inner `for` loop. Then, append this map to `tiered_map` with the `class` as the key, within the outer `for` loop."
      ]
    },
    {
      "cell_type": "code",
      "execution_count": null,
      "metadata": {
        "id": "Xd8pxoXZiDK1"
      },
      "outputs": [],
      "source": [
        "def build_tiered_map(animal_to_name_map, class_to_species_map):\n",
        "  \"\"\"Returns a map from animal classes to species to names.\"\"\"\n",
        "  tiered_map = {}\n",
        "\n",
        "  for cl, species in class_to_species_map.items():\n",
        "    # species_map maps species to animal names.\n",
        "    species_map = {}\n",
        "    for s in species:\n",
        "      species_map[s] = animal_to_name_map[s]\n",
        "    tiered_map[cl] = species_map\n",
        "\n",
        "  return tiered_map"
      ]
    }
  ],
  "metadata": {
    "colab": {
      "collapsed_sections": [
        "JS014EHEJPBa",
        "kJTb2E2mfJdx",
        "n_ox8OmmXYcf",
        "kjWtFCJsgrUp",
        "KNXe0wOmhB3b",
        "0XdmPj1kg5rK",
        "cFbRORcA1av9",
        "MRq-mv3w8ruT",
        "BXHgT3Q69C5_",
        "qx6IWaOI9xXq",
        "iNxuwXTx_j7b",
        "ZRLeCyKs_2zd",
        "KNXvzXiPBc-E",
        "5ihX_is0U6t5",
        "qv_VNqavDoqx",
        "NvsBW33NC8oQ",
        "nGSKIHQIFXxz",
        "6nWzJc5Fjxv4",
        "lA-HjuHogIBy",
        "fYm6ihurfHhn",
        "7q87L6jFhq6N",
        "NzLAA2M_jIfC"
      ],
      "name": "maps.ipynb",
      "provenance": [ ]
    },
    "kernelspec": {
      "display_name": "Python 3",
      "name": "python3"
    }
  },
  "nbformat": 4,
  "nbformat_minor": 0
}
